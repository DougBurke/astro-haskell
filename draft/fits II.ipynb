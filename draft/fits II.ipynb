{
 "cells": [
  {
   "cell_type": "markdown",
   "metadata": {},
   "source": [
    "# Draft"
   ]
  },
  {
   "cell_type": "markdown",
   "metadata": {},
   "source": [
    "Too many *things*:\n",
    "\n",
    "  - read in a RMF (in the quest for understanding how to compare model to data)\n",
    "  - play around with \"typing\" arrays based on their units\n",
    "  - can we have a [`frames`](https://github.com/acowley/Frames) \n",
    "    back end for FITS table files (perhaps ocnvert ARF to CSV to get some\n",
    "    more experience with `frames`?)?\n",
    "  \n",
    "Any of these require actual parsing of the header data...\n",
    "\n",
    "So, back to the ARF file from the previous notebook.\n",
    "\n",
    "I should note that up-to-date information on the \n",
    "[FITS standard](http://fits.gsfc.nasa.gov/fits_standard.html) is available!"
   ]
  },
  {
   "cell_type": "markdown",
   "metadata": {},
   "source": [
    "Unrelated ideas (although they do involve parsing, mainly XML responses\n",
    "from a web server):\n",
    "\n",
    "  - given a name, call a name resolver (e.g. CADC) to get a location;\n",
    "    then Chandra footprint server (which has images). Now, name server\n",
    "    isn't actually needed.\n",
    "    \n",
    "  - explain `@astroprop` code"
   ]
  },
  {
   "cell_type": "code",
   "execution_count": 1,
   "metadata": {
    "collapsed": false
   },
   "outputs": [],
   "source": [
    "import qualified Data.ByteString.Char8 as B8\n",
    "\n",
    "cts <- B8.readFile \"../data/src.arf\"\n",
    "\n",
    "chunk :: Int\n",
    "chunk = 2880\n",
    "\n",
    "splitBS :: B8.ByteString -> Int -> Int -> B8.ByteString\n",
    "splitBS inBS s n = B8.take n (B8.drop s inBS)"
   ]
  },
  {
   "cell_type": "markdown",
   "metadata": {},
   "source": [
    "Cheat since we know how long the header is..."
   ]
  },
  {
   "cell_type": "code",
   "execution_count": 2,
   "metadata": {
    "collapsed": false
   },
   "outputs": [],
   "source": [
    "hdrBS = splitBS cts chunk (6*chunk)"
   ]
  },
  {
   "cell_type": "code",
   "execution_count": 3,
   "metadata": {
    "collapsed": false
   },
   "outputs": [
    {
     "data": {
      "text/plain": [
       "\"XTENSION= 'BINTABLE'           / binary table extension                         \""
      ]
     },
     "metadata": {},
     "output_type": "display_data"
    },
    {
     "data": {
      "text/plain": [
       "\"                                                                                \""
      ]
     },
     "metadata": {},
     "output_type": "display_data"
    }
   ],
   "source": [
    "B8.take 80 hdrBS\n",
    "B8.drop (6*chunk-80) hdrBS"
   ]
  },
  {
   "cell_type": "markdown",
   "metadata": {},
   "source": [
    "Re-use some of the code. However, let's tweak the types:\n",
    "\n",
    "XXX probably drop this, as don't really take it anywhere and have other types\n",
    "that can be used to represent \"type safety\" (e.g. Keyword)."
   ]
  },
  {
   "cell_type": "code",
   "execution_count": 4,
   "metadata": {
    "collapsed": false
   },
   "outputs": [],
   "source": [
    "newtype Card = Card B8.ByteString\n",
    "  deriving (Eq, Show)\n",
    "\n",
    "-- | Given a string, split off the next 80 characters.\n",
    "getCard1 :: B8.ByteString -> (Card, B8.ByteString)\n",
    "getCard1 bs = let (ls, rs) = B8.splitAt 80 bs\n",
    "              in (Card ls, rs)"
   ]
  },
  {
   "cell_type": "markdown",
   "metadata": {},
   "source": [
    "With this, I can not mix up the unparsed data with a card, since they are a different\n",
    "type (previously I used `type` which is just a synonym)."
   ]
  },
  {
   "cell_type": "code",
   "execution_count": 5,
   "metadata": {
    "collapsed": false
   },
   "outputs": [
    {
     "data": {
      "text/plain": [
       "Card \"XTENSION= 'BINTABLE'           / binary table extension                         \""
      ]
     },
     "metadata": {},
     "output_type": "display_data"
    }
   ],
   "source": [
    "(a,_) = getCard1 hdrBS\n",
    "a"
   ]
  },
  {
   "cell_type": "code",
   "execution_count": 6,
   "metadata": {
    "collapsed": false
   },
   "outputs": [
    {
     "data": {
      "text/html": [
       "<style>/*\n",
       "Custom IHaskell CSS.\n",
       "*/\n",
       "\n",
       "/* Styles used for the Hoogle display in the pager */\n",
       ".hoogle-doc {\n",
       "    display: block;\n",
       "    padding-bottom: 1.3em;\n",
       "    padding-left: 0.4em;\n",
       "}\n",
       ".hoogle-code {\n",
       "    display: block;\n",
       "    font-family: monospace;\n",
       "    white-space: pre;\n",
       "}\n",
       ".hoogle-text {\n",
       "    display: block;\n",
       "}\n",
       ".hoogle-name {\n",
       "    color: green;\n",
       "    font-weight: bold;\n",
       "}\n",
       ".hoogle-head {\n",
       "    font-weight: bold;\n",
       "}\n",
       ".hoogle-sub {\n",
       "    display: block;\n",
       "    margin-left: 0.4em;\n",
       "}\n",
       ".hoogle-package {\n",
       "    font-weight: bold;\n",
       "    font-style: italic;\n",
       "}\n",
       ".hoogle-module {\n",
       "    font-weight: bold;\n",
       "}\n",
       ".hoogle-class {\n",
       "    font-weight: bold;\n",
       "}\n",
       "\n",
       "/* Styles used for basic displays */\n",
       ".get-type {\n",
       "    color: green;\n",
       "    font-weight: bold;\n",
       "    font-family: monospace;\n",
       "    display: block;\n",
       "    white-space: pre-wrap;\n",
       "}\n",
       "\n",
       ".show-type {\n",
       "    color: green;\n",
       "    font-weight: bold;\n",
       "    font-family: monospace;\n",
       "    margin-left: 1em;\n",
       "}\n",
       "\n",
       ".mono {\n",
       "    font-family: monospace;\n",
       "    display: block;\n",
       "}\n",
       "\n",
       ".err-msg {\n",
       "    color: red;\n",
       "    font-style: italic;\n",
       "    font-family: monospace;\n",
       "    white-space: pre;\n",
       "    display: block;\n",
       "}\n",
       "\n",
       "#unshowable {\n",
       "    color: red;\n",
       "    font-weight: bold;\n",
       "}\n",
       "\n",
       ".err-msg.in.collapse {\n",
       "  padding-top: 0.7em;\n",
       "}\n",
       "\n",
       "/* Code that will get highlighted before it is highlighted */\n",
       ".highlight-code {\n",
       "    white-space: pre;\n",
       "    font-family: monospace;\n",
       "}\n",
       "\n",
       "/* Hlint styles */\n",
       ".suggestion-warning { \n",
       "    font-weight: bold;\n",
       "    color: rgb(200, 130, 0);\n",
       "}\n",
       ".suggestion-error { \n",
       "    font-weight: bold;\n",
       "    color: red;\n",
       "}\n",
       ".suggestion-name {\n",
       "    font-weight: bold;\n",
       "}\n",
       "</style><span class='err-msg'>Couldn't match expected type ‘B8.ByteString’ with actual type ‘Card’<br/>In the first argument of ‘getCard1’, namely ‘a’<br/>In the expression: getCard1 a</span>"
      ],
      "text/plain": [
       "Couldn't match expected type ‘B8.ByteString’ with actual type ‘Card’\n",
       "In the first argument of ‘getCard1’, namely ‘a’\n",
       "In the expression: getCard1 a"
      ]
     },
     "metadata": {},
     "output_type": "display_data"
    }
   ],
   "source": [
    "getCard1 a"
   ]
  },
  {
   "cell_type": "markdown",
   "metadata": {},
   "source": [
    "XXX hmmm; this doesn't really show off the type safety. may have to wait until have something more;\n",
    "perhaps the parse-a-header unit. Of course, the Card stuff is likely a digression if the aim is to use a parser combinator library\n",
    "a la `attoparsec`.\n",
    "\n",
    "I can continue my \"simplification mania\":"
   ]
  },
  {
   "cell_type": "code",
   "execution_count": 7,
   "metadata": {
    "collapsed": true
   },
   "outputs": [],
   "source": [
    "import Control.Arrow (first)"
   ]
  },
  {
   "cell_type": "code",
   "execution_count": 8,
   "metadata": {
    "collapsed": false
   },
   "outputs": [
    {
     "data": {
      "text/html": [
       "<style>/*\n",
       "Custom IHaskell CSS.\n",
       "*/\n",
       "\n",
       "/* Styles used for the Hoogle display in the pager */\n",
       ".hoogle-doc {\n",
       "    display: block;\n",
       "    padding-bottom: 1.3em;\n",
       "    padding-left: 0.4em;\n",
       "}\n",
       ".hoogle-code {\n",
       "    display: block;\n",
       "    font-family: monospace;\n",
       "    white-space: pre;\n",
       "}\n",
       ".hoogle-text {\n",
       "    display: block;\n",
       "}\n",
       ".hoogle-name {\n",
       "    color: green;\n",
       "    font-weight: bold;\n",
       "}\n",
       ".hoogle-head {\n",
       "    font-weight: bold;\n",
       "}\n",
       ".hoogle-sub {\n",
       "    display: block;\n",
       "    margin-left: 0.4em;\n",
       "}\n",
       ".hoogle-package {\n",
       "    font-weight: bold;\n",
       "    font-style: italic;\n",
       "}\n",
       ".hoogle-module {\n",
       "    font-weight: bold;\n",
       "}\n",
       ".hoogle-class {\n",
       "    font-weight: bold;\n",
       "}\n",
       "\n",
       "/* Styles used for basic displays */\n",
       ".get-type {\n",
       "    color: green;\n",
       "    font-weight: bold;\n",
       "    font-family: monospace;\n",
       "    display: block;\n",
       "    white-space: pre-wrap;\n",
       "}\n",
       "\n",
       ".show-type {\n",
       "    color: green;\n",
       "    font-weight: bold;\n",
       "    font-family: monospace;\n",
       "    margin-left: 1em;\n",
       "}\n",
       "\n",
       ".mono {\n",
       "    font-family: monospace;\n",
       "    display: block;\n",
       "}\n",
       "\n",
       ".err-msg {\n",
       "    color: red;\n",
       "    font-style: italic;\n",
       "    font-family: monospace;\n",
       "    white-space: pre;\n",
       "    display: block;\n",
       "}\n",
       "\n",
       "#unshowable {\n",
       "    color: red;\n",
       "    font-weight: bold;\n",
       "}\n",
       "\n",
       ".err-msg.in.collapse {\n",
       "  padding-top: 0.7em;\n",
       "}\n",
       "\n",
       "/* Code that will get highlighted before it is highlighted */\n",
       ".highlight-code {\n",
       "    white-space: pre;\n",
       "    font-family: monospace;\n",
       "}\n",
       "\n",
       "/* Hlint styles */\n",
       ".suggestion-warning { \n",
       "    font-weight: bold;\n",
       "    color: rgb(200, 130, 0);\n",
       "}\n",
       ".suggestion-error { \n",
       "    font-weight: bold;\n",
       "    color: red;\n",
       "}\n",
       ".suggestion-name {\n",
       "    font-weight: bold;\n",
       "}\n",
       "</style><span class='get-type'>first :: forall (a :: * -> * -> *) b c d. Arrow a => a b c -> a (b, d) (c, d)</span>"
      ],
      "text/plain": [
       "first :: forall (a :: * -> * -> *) b c d. Arrow a => a b c -> a (b, d) (c, d)"
      ]
     },
     "metadata": {},
     "output_type": "display_data"
    }
   ],
   "source": [
    ":type first"
   ]
  },
  {
   "cell_type": "code",
   "execution_count": 9,
   "metadata": {
    "collapsed": false
   },
   "outputs": [
    {
     "data": {
      "text/html": [
       "<style>/*\n",
       "Custom IHaskell CSS.\n",
       "*/\n",
       "\n",
       "/* Styles used for the Hoogle display in the pager */\n",
       ".hoogle-doc {\n",
       "    display: block;\n",
       "    padding-bottom: 1.3em;\n",
       "    padding-left: 0.4em;\n",
       "}\n",
       ".hoogle-code {\n",
       "    display: block;\n",
       "    font-family: monospace;\n",
       "    white-space: pre;\n",
       "}\n",
       ".hoogle-text {\n",
       "    display: block;\n",
       "}\n",
       ".hoogle-name {\n",
       "    color: green;\n",
       "    font-weight: bold;\n",
       "}\n",
       ".hoogle-head {\n",
       "    font-weight: bold;\n",
       "}\n",
       ".hoogle-sub {\n",
       "    display: block;\n",
       "    margin-left: 0.4em;\n",
       "}\n",
       ".hoogle-package {\n",
       "    font-weight: bold;\n",
       "    font-style: italic;\n",
       "}\n",
       ".hoogle-module {\n",
       "    font-weight: bold;\n",
       "}\n",
       ".hoogle-class {\n",
       "    font-weight: bold;\n",
       "}\n",
       "\n",
       "/* Styles used for basic displays */\n",
       ".get-type {\n",
       "    color: green;\n",
       "    font-weight: bold;\n",
       "    font-family: monospace;\n",
       "    display: block;\n",
       "    white-space: pre-wrap;\n",
       "}\n",
       "\n",
       ".show-type {\n",
       "    color: green;\n",
       "    font-weight: bold;\n",
       "    font-family: monospace;\n",
       "    margin-left: 1em;\n",
       "}\n",
       "\n",
       ".mono {\n",
       "    font-family: monospace;\n",
       "    display: block;\n",
       "}\n",
       "\n",
       ".err-msg {\n",
       "    color: red;\n",
       "    font-style: italic;\n",
       "    font-family: monospace;\n",
       "    white-space: pre;\n",
       "    display: block;\n",
       "}\n",
       "\n",
       "#unshowable {\n",
       "    color: red;\n",
       "    font-weight: bold;\n",
       "}\n",
       "\n",
       ".err-msg.in.collapse {\n",
       "  padding-top: 0.7em;\n",
       "}\n",
       "\n",
       "/* Code that will get highlighted before it is highlighted */\n",
       ".highlight-code {\n",
       "    white-space: pre;\n",
       "    font-family: monospace;\n",
       "}\n",
       "\n",
       "/* Hlint styles */\n",
       ".suggestion-warning { \n",
       "    font-weight: bold;\n",
       "    color: rgb(200, 130, 0);\n",
       "}\n",
       ".suggestion-error { \n",
       "    font-weight: bold;\n",
       "    color: red;\n",
       "}\n",
       ".suggestion-name {\n",
       "    font-weight: bold;\n",
       "}\n",
       "</style><span class='get-type'>first not (True,\"False\") :: (Bool, [Char])</span>"
      ],
      "text/plain": [
       "first not (True,\"False\") :: (Bool, [Char])"
      ]
     },
     "metadata": {},
     "output_type": "display_data"
    }
   ],
   "source": [
    ":type first not (True,\"False\")"
   ]
  },
  {
   "cell_type": "code",
   "execution_count": 10,
   "metadata": {
    "collapsed": false
   },
   "outputs": [
    {
     "data": {
      "text/plain": [
       "(False,\"False\")"
      ]
     },
     "metadata": {},
     "output_type": "display_data"
    }
   ],
   "source": [
    "first not (True,\"False\")"
   ]
  },
  {
   "cell_type": "code",
   "execution_count": 11,
   "metadata": {
    "collapsed": false
   },
   "outputs": [],
   "source": [
    "-- | Given a string, split off the next 80 characters. The Arrow version.\n",
    "getCard :: B8.ByteString -> (Card, B8.ByteString)\n",
    "getCard = first Card . B8.splitAt 80"
   ]
  },
  {
   "cell_type": "code",
   "execution_count": 12,
   "metadata": {
    "collapsed": false
   },
   "outputs": [
    {
     "data": {
      "text/plain": [
       "Card \"XTENSION= 'BINTABLE'           / binary table extension                         \""
      ]
     },
     "metadata": {},
     "output_type": "display_data"
    }
   ],
   "source": [
    "fst (getCard hdrBS)"
   ]
  },
  {
   "cell_type": "markdown",
   "metadata": {},
   "source": [
    "XXX Insert a *quite hilarious* joke about `fst` and `first`."
   ]
  },
  {
   "cell_type": "markdown",
   "metadata": {},
   "source": [
    "XXXXXXXXXXXXXXXXXXXXXXXXXXXXXXXXXXXXXXXXXXXXXXXXXXXXXXXXXXXXXXXXXX\n",
    "\n",
    "How about \n",
    "[attoparsec](https://hackage.haskell.org/package/attoparsec) => drop the card business?"
   ]
  },
  {
   "cell_type": "code",
   "execution_count": 13,
   "metadata": {
    "collapsed": true
   },
   "outputs": [],
   "source": [
    "import Data.Attoparsec.ByteString.Char8 hiding (take)\n",
    "import Control.Applicative ((<*), (*>), (<|>), (<$>), optional)"
   ]
  },
  {
   "cell_type": "markdown",
   "metadata": {},
   "source": [
    "Let's start with a keyword: 1 to 8 alphanumeric-ish characters:"
   ]
  },
  {
   "cell_type": "code",
   "execution_count": 14,
   "metadata": {
    "collapsed": false
   },
   "outputs": [],
   "source": [
    "-- simplify rules\n",
    "keywordStart :: Parser Char\n",
    "keywordStart = satisfy (inClass ['A' .. 'Z'])"
   ]
  },
  {
   "cell_type": "code",
   "execution_count": 15,
   "metadata": {
    "collapsed": false
   },
   "outputs": [
    {
     "data": {
      "text/plain": [
       "Done \"\" 'X'"
      ]
     },
     "metadata": {},
     "output_type": "display_data"
    }
   ],
   "source": [
    "parse keywordStart (B8.pack \"X\")"
   ]
  },
  {
   "cell_type": "code",
   "execution_count": 16,
   "metadata": {
    "collapsed": true
   },
   "outputs": [],
   "source": [
    "Done leftover parseval = parse keywordStart (B8.pack \"XTENSION= 'blah blah'\")"
   ]
  },
  {
   "cell_type": "code",
   "execution_count": 17,
   "metadata": {
    "collapsed": false
   },
   "outputs": [
    {
     "data": {
      "text/plain": [
       "'X'"
      ]
     },
     "metadata": {},
     "output_type": "display_data"
    }
   ],
   "source": [
    "parseval"
   ]
  },
  {
   "cell_type": "code",
   "execution_count": 18,
   "metadata": {
    "collapsed": false
   },
   "outputs": [
    {
     "data": {
      "text/plain": [
       "\"TENSION= 'blah blah'\""
      ]
     },
     "metadata": {},
     "output_type": "display_data"
    }
   ],
   "source": [
    "leftover"
   ]
  },
  {
   "cell_type": "code",
   "execution_count": 19,
   "metadata": {
    "collapsed": false
   },
   "outputs": [
    {
     "data": {
      "text/plain": [
       "Right 'Q'"
      ]
     },
     "metadata": {},
     "output_type": "display_data"
    }
   ],
   "source": [
    "parseOnly keywordStart (B8.pack \"Q\")"
   ]
  },
  {
   "cell_type": "code",
   "execution_count": 20,
   "metadata": {
    "collapsed": false
   },
   "outputs": [
    {
     "data": {
      "text/plain": [
       "Left \"Failed reading: satisfyWith\""
      ]
     },
     "metadata": {},
     "output_type": "display_data"
    }
   ],
   "source": [
    "parseOnly keywordStart (B8.pack \"q\")"
   ]
  },
  {
   "cell_type": "code",
   "execution_count": 21,
   "metadata": {
    "collapsed": false
   },
   "outputs": [
    {
     "data": {
      "text/plain": [
       "Right 'Q'"
      ]
     },
     "metadata": {},
     "output_type": "display_data"
    }
   ],
   "source": [
    "parseOnly keywordStart (B8.pack \"QQ\")"
   ]
  },
  {
   "cell_type": "code",
   "execution_count": 22,
   "metadata": {
    "collapsed": false
   },
   "outputs": [
    {
     "data": {
      "text/plain": [
       "Left \"endOfInput\""
      ]
     },
     "metadata": {},
     "output_type": "display_data"
    }
   ],
   "source": [
    "parseOnly (keywordStart <* endOfInput) (B8.pack \"QQ\")"
   ]
  },
  {
   "cell_type": "code",
   "execution_count": 23,
   "metadata": {
    "collapsed": false
   },
   "outputs": [],
   "source": [
    "keywordBody1 :: Parser Char\n",
    "keywordBody1 = satisfy (inClass (['A' .. 'Z'] ++ ['0' .. '9'] ++ \"_-\"))"
   ]
  },
  {
   "cell_type": "code",
   "execution_count": 24,
   "metadata": {
    "collapsed": false
   },
   "outputs": [],
   "source": [
    "keywordBody :: Parser Char\n",
    "keywordBody = keywordStart <|> satisfy (inClass ['0'..'9']) <|> satisfy (\\c -> c == '_' || c == '-')"
   ]
  },
  {
   "cell_type": "code",
   "execution_count": 25,
   "metadata": {
    "collapsed": false
   },
   "outputs": [
    {
     "data": {
      "text/plain": [
       "Right '6'"
      ]
     },
     "metadata": {},
     "output_type": "display_data"
    }
   ],
   "source": [
    "parseOnly keywordBody (B8.pack \"6\")"
   ]
  },
  {
   "cell_type": "code",
   "execution_count": 26,
   "metadata": {
    "collapsed": true
   },
   "outputs": [],
   "source": [
    "keywordUnbounded :: Parser String\n",
    "keywordUnbounded = do\n",
    "  fchar <- keywordStart\n",
    "  body <- many' keywordBody\n",
    "  return (fchar : body)"
   ]
  },
  {
   "cell_type": "code",
   "execution_count": 27,
   "metadata": {
    "collapsed": false
   },
   "outputs": [
    {
     "data": {
      "text/plain": [
       "Right \"XTENSION\""
      ]
     },
     "metadata": {},
     "output_type": "display_data"
    }
   ],
   "source": [
    "parseOnly keywordUnbounded (B8.pack \"XTENSION= blah blah\")"
   ]
  },
  {
   "cell_type": "code",
   "execution_count": 28,
   "metadata": {
    "collapsed": false
   },
   "outputs": [
    {
     "data": {
      "text/plain": [
       "Right \"XTENSIONKEYWORD\""
      ]
     },
     "metadata": {},
     "output_type": "display_data"
    }
   ],
   "source": [
    "parseOnly keywordUnbounded (B8.pack \"XTENSIONKEYWORD = blah blah\")"
   ]
  },
  {
   "cell_type": "code",
   "execution_count": 29,
   "metadata": {
    "collapsed": false
   },
   "outputs": [],
   "source": [
    "-- Parse 0 up to n copies of the parser, returning the results.\n",
    "--\n",
    "-- It is expected that the counter is 0 or more.\n",
    "upTo :: Int -> Parser a -> Parser [a]\n",
    "upTo n p | n < 1     = return []\n",
    "         | otherwise = do\n",
    "            mx <- optional p\n",
    "            case mx of\n",
    "              Just x -> do\n",
    "                xs <- upTo (n-1) p\n",
    "                return (x : xs)\n",
    "              _ -> return []"
   ]
  },
  {
   "cell_type": "code",
   "execution_count": 30,
   "metadata": {
    "collapsed": false
   },
   "outputs": [
    {
     "data": {
      "text/html": [
       "<style>/*\n",
       "Custom IHaskell CSS.\n",
       "*/\n",
       "\n",
       "/* Styles used for the Hoogle display in the pager */\n",
       ".hoogle-doc {\n",
       "    display: block;\n",
       "    padding-bottom: 1.3em;\n",
       "    padding-left: 0.4em;\n",
       "}\n",
       ".hoogle-code {\n",
       "    display: block;\n",
       "    font-family: monospace;\n",
       "    white-space: pre;\n",
       "}\n",
       ".hoogle-text {\n",
       "    display: block;\n",
       "}\n",
       ".hoogle-name {\n",
       "    color: green;\n",
       "    font-weight: bold;\n",
       "}\n",
       ".hoogle-head {\n",
       "    font-weight: bold;\n",
       "}\n",
       ".hoogle-sub {\n",
       "    display: block;\n",
       "    margin-left: 0.4em;\n",
       "}\n",
       ".hoogle-package {\n",
       "    font-weight: bold;\n",
       "    font-style: italic;\n",
       "}\n",
       ".hoogle-module {\n",
       "    font-weight: bold;\n",
       "}\n",
       ".hoogle-class {\n",
       "    font-weight: bold;\n",
       "}\n",
       "\n",
       "/* Styles used for basic displays */\n",
       ".get-type {\n",
       "    color: green;\n",
       "    font-weight: bold;\n",
       "    font-family: monospace;\n",
       "    display: block;\n",
       "    white-space: pre-wrap;\n",
       "}\n",
       "\n",
       ".show-type {\n",
       "    color: green;\n",
       "    font-weight: bold;\n",
       "    font-family: monospace;\n",
       "    margin-left: 1em;\n",
       "}\n",
       "\n",
       ".mono {\n",
       "    font-family: monospace;\n",
       "    display: block;\n",
       "}\n",
       "\n",
       ".err-msg {\n",
       "    color: red;\n",
       "    font-style: italic;\n",
       "    font-family: monospace;\n",
       "    white-space: pre;\n",
       "    display: block;\n",
       "}\n",
       "\n",
       "#unshowable {\n",
       "    color: red;\n",
       "    font-weight: bold;\n",
       "}\n",
       "\n",
       ".err-msg.in.collapse {\n",
       "  padding-top: 0.7em;\n",
       "}\n",
       "\n",
       "/* Code that will get highlighted before it is highlighted */\n",
       ".highlight-code {\n",
       "    white-space: pre;\n",
       "    font-family: monospace;\n",
       "}\n",
       "\n",
       "/* Hlint styles */\n",
       ".suggestion-warning { \n",
       "    font-weight: bold;\n",
       "    color: rgb(200, 130, 0);\n",
       "}\n",
       ".suggestion-error { \n",
       "    font-weight: bold;\n",
       "    color: red;\n",
       "}\n",
       ".suggestion-name {\n",
       "    font-weight: bold;\n",
       "}\n",
       "</style><span class='get-type'>optional :: forall (f :: * -> *) a. Alternative f => f a -> f (Maybe a)</span>"
      ],
      "text/plain": [
       "optional :: forall (f :: * -> *) a. Alternative f => f a -> f (Maybe a)"
      ]
     },
     "metadata": {},
     "output_type": "display_data"
    }
   ],
   "source": [
    ":type optional"
   ]
  },
  {
   "cell_type": "code",
   "execution_count": 31,
   "metadata": {
    "collapsed": false
   },
   "outputs": [
    {
     "data": {
      "text/plain": [
       "Right \"XX\""
      ]
     },
     "metadata": {},
     "output_type": "display_data"
    }
   ],
   "source": [
    "parseOnly (upTo 3 (char 'X')) (B8.pack \"XX\")"
   ]
  },
  {
   "cell_type": "code",
   "execution_count": 32,
   "metadata": {
    "collapsed": false
   },
   "outputs": [
    {
     "data": {
      "text/plain": [
       "Right \"XXX\""
      ]
     },
     "metadata": {},
     "output_type": "display_data"
    }
   ],
   "source": [
    "parseOnly (upTo 3 (char 'X')) (B8.pack \"XXXX X\")"
   ]
  },
  {
   "cell_type": "code",
   "execution_count": 33,
   "metadata": {
    "collapsed": false
   },
   "outputs": [
    {
     "data": {
      "text/plain": [
       "Right \"\""
      ]
     },
     "metadata": {},
     "output_type": "display_data"
    }
   ],
   "source": [
    "parseOnly (upTo 3 (char 'X')) (B8.pack \"YXXX\")"
   ]
  },
  {
   "cell_type": "code",
   "execution_count": 34,
   "metadata": {
    "collapsed": false
   },
   "outputs": [],
   "source": [
    "-- Is keyword type useful here?\n",
    "--\n",
    "-- Ord is needed for the Map\n",
    "newtype Keyword = Keyword String deriving (Eq, Ord, Show)\n",
    "\n",
    "-- Note: this parses the first 8 characters (i.e. requires\n",
    "-- spaces after \"short\" keywords).\n",
    "--\n",
    "keyword :: Parser Keyword\n",
    "keyword = do\n",
    "  fchar <- keywordStart\n",
    "  body <- upTo 7 keywordBody\n",
    "  let res = fchar : body\n",
    "      nres = length res\n",
    "  count (8-nres) space -- ignore the return value\n",
    "  return (Keyword (fchar : body))"
   ]
  },
  {
   "cell_type": "code",
   "execution_count": 35,
   "metadata": {
    "collapsed": false
   },
   "outputs": [],
   "source": [
    "testBS = (B8.take 40 (B8.drop 80 hdrBS)) -- want to show the remainder, and a < 8 char keyword\n",
    "Done remainder kword = parse keyword testBS"
   ]
  },
  {
   "cell_type": "code",
   "execution_count": 36,
   "metadata": {
    "collapsed": false
   },
   "outputs": [
    {
     "data": {
      "text/plain": [
       "\"BITPIX  =                    8 / 8-bit b\""
      ]
     },
     "metadata": {},
     "output_type": "display_data"
    }
   ],
   "source": [
    "testBS"
   ]
  },
  {
   "cell_type": "code",
   "execution_count": 37,
   "metadata": {
    "collapsed": false
   },
   "outputs": [
    {
     "data": {
      "text/plain": [
       "Keyword \"BITPIX\""
      ]
     },
     "metadata": {},
     "output_type": "display_data"
    }
   ],
   "source": [
    "kword"
   ]
  },
  {
   "cell_type": "code",
   "execution_count": 38,
   "metadata": {
    "collapsed": false
   },
   "outputs": [
    {
     "data": {
      "text/plain": [
       "\"=                    8 / 8-bit b\""
      ]
     },
     "metadata": {},
     "output_type": "display_data"
    }
   ],
   "source": [
    "remainder"
   ]
  },
  {
   "cell_type": "markdown",
   "metadata": {},
   "source": [
    "What about values? Note: column lengths can be relaxed here (as there's a suggested fixed format but\n",
    "can also be relaxed):\n",
    "\n",
    " - `'string' ...` where `''` is used to represent a\n",
    "   single quote character (there's also a minimum length of the string, since the trailing `'`\n",
    "   must be in column 20 or later, so trailing whitespace is ignored)\n",
    " - `    T ...` (or `F`) - a boolean, which is in column 30\n",
    " - `    n ...` - an integer\n",
    " - `    f ...` - a floating-point value, which may or may not be in exponential form, but if so\n",
    "   uses `E`.\n",
    "\n",
    "where the numeric values end in column 30 (I am ignoring complex numbers, and the ... part should be `/...`)."
   ]
  },
  {
   "cell_type": "code",
   "execution_count": 39,
   "metadata": {
    "collapsed": true
   },
   "outputs": [],
   "source": [
    "-- Should this store an Integer rather than Int?\n",
    "--\n",
    "data KeyValue = KeyString String | KeyFloat Double | KeyInt Int | KeyBool Bool deriving (Eq, Show)"
   ]
  },
  {
   "cell_type": "markdown",
   "metadata": {},
   "source": [
    "In the following the `skipSpace` (before and handling of comments after) are left to the caller"
   ]
  },
  {
   "cell_type": "code",
   "execution_count": 40,
   "metadata": {
    "collapsed": false
   },
   "outputs": [],
   "source": [
    "-- | Remove trailing space characters\n",
    "rstrip :: B8.ByteString -> B8.ByteString\n",
    "rstrip = go\n",
    "  where\n",
    "    go bs = case B8.unsnoc bs of\n",
    "      Just (rbs,c) | c == ' ' -> go rbs\n",
    "      _ -> bs"
   ]
  },
  {
   "cell_type": "code",
   "execution_count": 41,
   "metadata": {
    "collapsed": false
   },
   "outputs": [],
   "source": [
    "stringVal :: Parser KeyValue\n",
    "stringVal = do\n",
    "  let quote = '\\''\n",
    "  char quote\n",
    "  body <- takeTill (== quote)\n",
    "  return (KeyString (B8.unpack (rstrip body)))"
   ]
  },
  {
   "cell_type": "code",
   "execution_count": 42,
   "metadata": {
    "collapsed": false
   },
   "outputs": [],
   "source": [
    "boolVal :: Parser KeyValue\n",
    "boolVal = \n",
    "  let true  = char 'T' *> return (KeyBool True)\n",
    "      false = char 'F' *> return (KeyBool False)\n",
    "  in true <|> false"
   ]
  },
  {
   "cell_type": "code",
   "execution_count": 43,
   "metadata": {
    "collapsed": false
   },
   "outputs": [
    {
     "data": {
      "text/plain": [
       "Right (KeyBool True)"
      ]
     },
     "metadata": {},
     "output_type": "display_data"
    },
    {
     "data": {
      "text/plain": [
       "Right (KeyBool False)"
      ]
     },
     "metadata": {},
     "output_type": "display_data"
    },
    {
     "data": {
      "text/plain": [
       "Left \"Failed reading: satisfyWith\""
      ]
     },
     "metadata": {},
     "output_type": "display_data"
    }
   ],
   "source": [
    "parseOnly boolVal (B8.pack \"T \")\n",
    "parseOnly boolVal (B8.pack \"F\")\n",
    "parseOnly boolVal (B8.pack \"'T'\")"
   ]
  },
  {
   "cell_type": "markdown",
   "metadata": {},
   "source": [
    "Use\n",
    "[`floatingOrInteger`](http://hackage.haskell.org/package/scientific-0.3.3.8/docs/Data-Scientific.html#v:floatingOrInteger) \n",
    "from the\n",
    "[`scientific`](http://hackage.haskell.org/package/scientific)\n",
    "package -- Nopity nope nope since it takes 1.23E23 as an integer."
   ]
  },
  {
   "cell_type": "code",
   "execution_count": 44,
   "metadata": {
    "collapsed": false
   },
   "outputs": [],
   "source": [
    "intVal1 :: Parser KeyValue\n",
    "intVal1 = do\n",
    "  ans <- signed decimal\n",
    "  return (KeyInt ans)\n",
    "  \n",
    "intVal :: Parser KeyValue\n",
    "intVal = KeyInt <$> signed decimal"
   ]
  },
  {
   "cell_type": "code",
   "execution_count": 45,
   "metadata": {
    "collapsed": false
   },
   "outputs": [
    {
     "data": {
      "text/plain": [
       "Right (KeyInt 123)"
      ]
     },
     "metadata": {},
     "output_type": "display_data"
    },
    {
     "data": {
      "text/plain": [
       "Right (KeyInt 123)"
      ]
     },
     "metadata": {},
     "output_type": "display_data"
    },
    {
     "data": {
      "text/plain": [
       "Right (KeyInt (-123))"
      ]
     },
     "metadata": {},
     "output_type": "display_data"
    }
   ],
   "source": [
    "parseOnly intVal (B8.pack \"123\")\n",
    "parseOnly intVal (B8.pack \"123.45\") \n",
    "parseOnly intVal (B8.pack \"-123\")"
   ]
  },
  {
   "cell_type": "code",
   "execution_count": 46,
   "metadata": {
    "collapsed": false
   },
   "outputs": [],
   "source": [
    "-- Support E+23 or E-23\n",
    "exponential :: Parser Int\n",
    "exponential = char 'E' *> signed decimal\n",
    "\n",
    "-- this does not support 1E+23, it needs to be X.Y...\n",
    "floatVal :: Parser KeyValue\n",
    "floatVal = do\n",
    "  msign <- optional (char '-' <|> char '+')\n",
    "  ldigs <- many1' digit\n",
    "  char '.'\n",
    "  rdigs <- many1' digit\n",
    "  mexp <- optional exponential\n",
    "  let f = read (ldigs ++ '.' : rdigs)\n",
    "      g = case mexp of\n",
    "        Just eval | eval > 0 -> f * 10 ^ eval\n",
    "                  | eval < 0 -> f / 10 ^ (abs eval)\n",
    "                  | otherwise -> f\n",
    "        _ -> f\n",
    "        \n",
    "      s = case msign of\n",
    "        Just '-' -> -1\n",
    "        _ -> 1\n",
    "        \n",
    "  return (KeyFloat (s*g))"
   ]
  },
  {
   "cell_type": "code",
   "execution_count": 47,
   "metadata": {
    "collapsed": false
   },
   "outputs": [
    {
     "data": {
      "text/plain": [
       "Right (KeyFloat 1.23e-43)"
      ]
     },
     "metadata": {},
     "output_type": "display_data"
    },
    {
     "data": {
      "text/plain": [
       "Right (KeyFloat (-0.1))"
      ]
     },
     "metadata": {},
     "output_type": "display_data"
    },
    {
     "data": {
      "text/plain": [
       "Left \"not enough input\""
      ]
     },
     "metadata": {},
     "output_type": "display_data"
    }
   ],
   "source": [
    "parseOnly floatVal (B8.pack \"1.23E-43\")\n",
    "parseOnly floatVal (B8.pack \"-0.0001E3\")\n",
    "parseOnly floatVal (B8.pack \"123\")"
   ]
  },
  {
   "cell_type": "code",
   "execution_count": 48,
   "metadata": {
    "collapsed": false
   },
   "outputs": [],
   "source": [
    "value :: Parser KeyValue\n",
    "value = stringVal <|> boolVal <|> floatVal <|> intVal"
   ]
  },
  {
   "cell_type": "code",
   "execution_count": 49,
   "metadata": {
    "collapsed": false
   },
   "outputs": [
    {
     "data": {
      "text/plain": [
       "[Right (KeyString \"A string\"),Right (KeyBool True),Right (KeyInt 123),Right (KeyFloat (-1.23e47))]"
      ]
     },
     "metadata": {},
     "output_type": "display_data"
    }
   ],
   "source": [
    "map (parseOnly value . B8.pack) [\"'A string  ' \", \"T\", \"123\", \"-1.23E+47\"]"
   ]
  },
  {
   "cell_type": "code",
   "execution_count": 50,
   "metadata": {
    "collapsed": false
   },
   "outputs": [],
   "source": [
    "import Data.Maybe (fromMaybe)\n",
    "\n",
    "-- Handle any description. I could also parse out any unit, but leave that for now.\n",
    "comment :: Parser String\n",
    "comment = do\n",
    "  skipSpace\n",
    "  mcbs <- optional (char '/' >> skipSpace >> many' anyChar)\n",
    "  -- TODO: strip trailing white space\n",
    "  return (fromMaybe \"\" mcbs)"
   ]
  },
  {
   "cell_type": "code",
   "execution_count": 51,
   "metadata": {
    "collapsed": false
   },
   "outputs": [],
   "source": [
    "-- Should the 80-character limitation be tracked by the parser, or can we split into chunks\n",
    "-- beforehand?\n",
    "card :: Parser (Keyword, KeyValue)\n",
    "card = do\n",
    "  key <- keyword\n",
    "  -- have to have \"= \" but then need to also eat up any spaces\n",
    "  -- before the value.\n",
    "  char '=' >> many1' space\n",
    "  val <- value\n",
    "  _ <- comment\n",
    "  return (key, val)"
   ]
  },
  {
   "cell_type": "code",
   "execution_count": 52,
   "metadata": {
    "collapsed": false
   },
   "outputs": [
    {
     "data": {
      "text/plain": [
       "\"XTENSION= 'BINTABLE'           / binary table extension                         \""
      ]
     },
     "metadata": {},
     "output_type": "display_data"
    },
    {
     "data": {
      "text/plain": [
       "\"BITPIX  =                    8 / 8-bit bytes                                    \""
      ]
     },
     "metadata": {},
     "output_type": "display_data"
    },
    {
     "data": {
      "text/plain": [
       "Right (Keyword \"XTENSION\",KeyString \"BINTABLE\")"
      ]
     },
     "metadata": {},
     "output_type": "display_data"
    },
    {
     "data": {
      "text/plain": [
       "Right (Keyword \"BITPIX\",KeyInt 8)"
      ]
     },
     "metadata": {},
     "output_type": "display_data"
    }
   ],
   "source": [
    "splitBS hdrBS 0 80\n",
    "splitBS hdrBS 80 80\n",
    "parseOnly card (splitBS hdrBS 0 80)\n",
    "parseOnly card (splitBS hdrBS 80 80)"
   ]
  },
  {
   "cell_type": "code",
   "execution_count": 53,
   "metadata": {
    "collapsed": true
   },
   "outputs": [],
   "source": [
    "import Data.List (unfoldr)"
   ]
  },
  {
   "cell_type": "code",
   "execution_count": 54,
   "metadata": {
    "collapsed": false
   },
   "outputs": [],
   "source": [
    "getCards :: B8.ByteString -> [B8.ByteString]\n",
    "getCards = unfoldr go\n",
    "  where\n",
    "    go bs | B8.null bs = Nothing\n",
    "          | otherwise  = Just (B8.splitAt 80 bs)\n",
    "          \n",
    "hdrCards = getCards hdrBS"
   ]
  },
  {
   "cell_type": "code",
   "execution_count": 55,
   "metadata": {
    "collapsed": false
   },
   "outputs": [
    {
     "data": {
      "text/plain": [
       "Right (Keyword \"XTENSION\",KeyString \"BINTABLE\")"
      ]
     },
     "metadata": {},
     "output_type": "display_data"
    }
   ],
   "source": [
    "parseOnly card (head hdrCards)"
   ]
  },
  {
   "cell_type": "code",
   "execution_count": 56,
   "metadata": {
    "collapsed": false
   },
   "outputs": [
    {
     "data": {
      "text/plain": [
       "[Right (Keyword \"XTENSION\",KeyString \"BINTABLE\"),Right (Keyword \"BITPIX\",KeyInt 8),Right (Keyword \"NAXIS\",KeyInt 2),Right (Keyword \"NAXIS1\",KeyInt 12),Right (Keyword \"NAXIS2\",KeyInt 1070)]"
      ]
     },
     "metadata": {},
     "output_type": "display_data"
    }
   ],
   "source": [
    "map (parseOnly card) (take 5 hdrCards)"
   ]
  },
  {
   "cell_type": "code",
   "execution_count": 57,
   "metadata": {
    "collapsed": false
   },
   "outputs": [
    {
     "data": {
      "text/plain": [
       "Right [(Keyword \"XTENSION\",KeyString \"BINTABLE\"),(Keyword \"BITPIX\",KeyInt 8),(Keyword \"NAXIS\",KeyInt 2),(Keyword \"NAXIS1\",KeyInt 12),(Keyword \"NAXIS2\",KeyInt 1070)]"
      ]
     },
     "metadata": {},
     "output_type": "display_data"
    }
   ],
   "source": [
    "mapM (parseOnly card) (take 5 hdrCards)"
   ]
  },
  {
   "cell_type": "code",
   "execution_count": 58,
   "metadata": {
    "collapsed": false
   },
   "outputs": [
    {
     "data": {
      "text/plain": [
       "Left \"Failed reading: satisfyWith\""
      ]
     },
     "metadata": {},
     "output_type": "display_data"
    }
   ],
   "source": [
    "mapM (parseOnly card) hdrCards"
   ]
  },
  {
   "cell_type": "code",
   "execution_count": 59,
   "metadata": {
    "collapsed": false
   },
   "outputs": [
    {
     "data": {
      "text/plain": [
       "(\"HISTORY  TOOL  :mkwarf   2014-11-26T05:38:12                            ASC00001\",Left \"Failed reading: satisfyWith\")"
      ]
     },
     "metadata": {},
     "output_type": "display_data"
    }
   ],
   "source": [
    "import Data.Either (isLeft)\n",
    "\n",
    "-- find the first card that fails (returns a Left value)\n",
    "head (filter (isLeft . snd) (zip hdrCards (map (parseOnly card) hdrCards)))"
   ]
  },
  {
   "cell_type": "markdown",
   "metadata": {},
   "source": [
    "So, good types can only take you so far in protecting yourself against errors in your data model."
   ]
  },
  {
   "cell_type": "code",
   "execution_count": 60,
   "metadata": {
    "collapsed": false
   },
   "outputs": [],
   "source": [
    "import Control.Monad (void)\n",
    "\n",
    "-- Skip blank lines, END lines, and those that are \"metadata\" lines (e.g. HISTORY/COMMENT)\n",
    "fixedCard :: Parser (Maybe (Keyword, KeyValue))\n",
    "fixedCard = \n",
    "  (do\n",
    "    key <- keyword\n",
    "    mchar <- optional (char '=')\n",
    "    case mchar of\n",
    "      Just _ -> do\n",
    "        many1' space\n",
    "        val <- value\n",
    "        void comment\n",
    "        return (Just (key, val))\n",
    "      \n",
    "      _ -> many' anyChar >> return Nothing\n",
    "  )\n",
    "  <|>\n",
    "  (string (B8.pack \"END\") >> skipSpace >> return Nothing)\n",
    "  <|>\n",
    "  (skipSpace >> return Nothing)"
   ]
  },
  {
   "cell_type": "code",
   "execution_count": 61,
   "metadata": {
    "collapsed": false
   },
   "outputs": [
    {
     "data": {
      "text/html": [
       "<style>/*\n",
       "Custom IHaskell CSS.\n",
       "*/\n",
       "\n",
       "/* Styles used for the Hoogle display in the pager */\n",
       ".hoogle-doc {\n",
       "    display: block;\n",
       "    padding-bottom: 1.3em;\n",
       "    padding-left: 0.4em;\n",
       "}\n",
       ".hoogle-code {\n",
       "    display: block;\n",
       "    font-family: monospace;\n",
       "    white-space: pre;\n",
       "}\n",
       ".hoogle-text {\n",
       "    display: block;\n",
       "}\n",
       ".hoogle-name {\n",
       "    color: green;\n",
       "    font-weight: bold;\n",
       "}\n",
       ".hoogle-head {\n",
       "    font-weight: bold;\n",
       "}\n",
       ".hoogle-sub {\n",
       "    display: block;\n",
       "    margin-left: 0.4em;\n",
       "}\n",
       ".hoogle-package {\n",
       "    font-weight: bold;\n",
       "    font-style: italic;\n",
       "}\n",
       ".hoogle-module {\n",
       "    font-weight: bold;\n",
       "}\n",
       ".hoogle-class {\n",
       "    font-weight: bold;\n",
       "}\n",
       "\n",
       "/* Styles used for basic displays */\n",
       ".get-type {\n",
       "    color: green;\n",
       "    font-weight: bold;\n",
       "    font-family: monospace;\n",
       "    display: block;\n",
       "    white-space: pre-wrap;\n",
       "}\n",
       "\n",
       ".show-type {\n",
       "    color: green;\n",
       "    font-weight: bold;\n",
       "    font-family: monospace;\n",
       "    margin-left: 1em;\n",
       "}\n",
       "\n",
       ".mono {\n",
       "    font-family: monospace;\n",
       "    display: block;\n",
       "}\n",
       "\n",
       ".err-msg {\n",
       "    color: red;\n",
       "    font-style: italic;\n",
       "    font-family: monospace;\n",
       "    white-space: pre;\n",
       "    display: block;\n",
       "}\n",
       "\n",
       "#unshowable {\n",
       "    color: red;\n",
       "    font-weight: bold;\n",
       "}\n",
       "\n",
       ".err-msg.in.collapse {\n",
       "  padding-top: 0.7em;\n",
       "}\n",
       "\n",
       "/* Code that will get highlighted before it is highlighted */\n",
       ".highlight-code {\n",
       "    white-space: pre;\n",
       "    font-family: monospace;\n",
       "}\n",
       "\n",
       "/* Hlint styles */\n",
       ".suggestion-warning { \n",
       "    font-weight: bold;\n",
       "    color: rgb(200, 130, 0);\n",
       "}\n",
       ".suggestion-error { \n",
       "    font-weight: bold;\n",
       "    color: red;\n",
       "}\n",
       ".suggestion-name {\n",
       "    font-weight: bold;\n",
       "}\n",
       "</style><span class='err-msg'>Prelude.head: empty list</span>"
      ],
      "text/plain": [
       "Prelude.head: empty list"
      ]
     },
     "metadata": {},
     "output_type": "display_data"
    }
   ],
   "source": [
    "head (filter (isLeft . snd) (zip hdrCards (map (parseOnly fixedCard) hdrCards)))"
   ]
  },
  {
   "cell_type": "code",
   "execution_count": 62,
   "metadata": {
    "collapsed": false
   },
   "outputs": [],
   "source": [
    "import qualified Data.Map as Map\n",
    "import Data.Maybe (catMaybes)\n",
    "\n",
    "Right mcs = mapM (parseOnly fixedCard) hdrCards\n",
    "hdrMap = Map.fromList (catMaybes mcs)"
   ]
  },
  {
   "cell_type": "code",
   "execution_count": 63,
   "metadata": {
    "collapsed": false
   },
   "outputs": [
    {
     "data": {
      "text/plain": [
       "Just (KeyString \"3C273-JET\")"
      ]
     },
     "metadata": {},
     "output_type": "display_data"
    }
   ],
   "source": [
    "Map.lookup (Keyword \"OBJECT\") hdrMap"
   ]
  },
  {
   "cell_type": "markdown",
   "metadata": {},
   "source": [
    "****************************************************************"
   ]
  },
  {
   "cell_type": "code",
   "execution_count": 64,
   "metadata": {
    "collapsed": true
   },
   "outputs": [],
   "source": [
    "-- import qualified Data.Sequence as Seq -- no longer using"
   ]
  },
  {
   "cell_type": "code",
   "execution_count": 65,
   "metadata": {
    "collapsed": false
   },
   "outputs": [],
   "source": [
    "-- Represent a binary table\n",
    "--\n",
    "-- Could the bitpix be a phantom argument ? Does this even make sense?\n",
    "--\n",
    "-- Assumes:\n",
    "--      XTENSION=BINTABLE, NAXIS=2, PCOUNT=0, GCOUNT=1\n",
    "--\n",
    "-- Stores (explicitly or implicitly):\n",
    "--      BITPIX, NAXIS1, NAXIS2, TFIELDS\n",
    "--      TTYPE/TFORM/TUNIT<n> values for columns\n",
    "--\n",
    "data TableExt = TableExt {\n",
    "  _teBitPix :: Int\n",
    "  , _teNRows :: Int\n",
    "  , _teNCols :: Int\n",
    "  , _teWidth :: Int   -- width, in bytes, of each row\n",
    "  , _teCols :: [ColData] -- would be nice to statically enforce size == _teNCols\n",
    "  } deriving Show\n",
    "\n",
    "-- This stores the TTYPEn, TFORNm, and TUNITn keywords. Would it be\n",
    "-- useful to encode the Haskell type for the data in the type?\n",
    "--\n",
    "-- At present the description/comment for the field is not included\n",
    "data ColData = ColData {\n",
    "  _cdName :: String\n",
    "  , _cdFormat :: String -- the FITS encoding of the data type\n",
    "  , _cdUnit :: Maybe String\n",
    "  } deriving (Eq, Show)"
   ]
  },
  {
   "cell_type": "code",
   "execution_count": 66,
   "metadata": {
    "collapsed": true
   },
   "outputs": [],
   "source": [
    "import Control.Monad (forM, unless)\n",
    "import Data.Either (either)"
   ]
  },
  {
   "cell_type": "code",
   "execution_count": 67,
   "metadata": {
    "collapsed": false
   },
   "outputs": [],
   "source": [
    "-- Note that a function is sent in, rather than the map.  \n",
    "createColumn :: (String -> Either String String) -> Int -> Either String ColData  \n",
    "createColumn getS c = do\n",
    "  let cs = show c\n",
    "  cName <- getS (\"TTYPE\" ++ cs)\n",
    "  cForm <- getS (\"TFORM\" ++ cs)\n",
    "    \n",
    "  -- Need to swap from Either to Maybe; note that I do not want to\n",
    "  -- use cUnit <- getS ... otherwise the whole computation would\n",
    "  -- fail if no unit was given.\n",
    "  let cUnit = either (const Nothing) Just (getS (\"TUNIT\" ++ cs))\n",
    "  \n",
    "  Right ColData { _cdName = cName, _cdFormat = cForm, _cdUnit = cUnit }\n",
    "\n",
    "getKeyValue :: Map.Map Keyword KeyValue -> String -> Either String KeyValue\n",
    "getKeyValue xs kn = \n",
    "  let err = \"Key not found: \" ++ kn\n",
    "  in maybe (Left err) Right (Map.lookup (Keyword kn) xs) \n",
    "\n",
    "createTable :: Map.Map Keyword KeyValue -> Either String TableExt\n",
    "createTable m = do\n",
    "  let get = getKeyValue m\n",
    "  \n",
    "      asString _ (KeyString s) = Right s\n",
    "      asString k v             = Left (k ++ \" not a string: \" ++ show v)\n",
    "      \n",
    "      asInt _ (KeyInt i)       = Right i\n",
    "      asInt k v                = Left (k ++ \" not an int: \" ++ show v)\n",
    "      \n",
    "      -- extract typed info \n",
    "      getS k = get k >>= asString k\n",
    "      getI k = get k >>= asInt k\n",
    "      \n",
    "  ext <- getS \"XTENSION\"\n",
    "  naxis <- getI \"NAXIS\"\n",
    "  pcount <- getI \"PCOUNT\"\n",
    "  gcount <- getI \"GCOUNT\"\n",
    "  let conds = [ ext == \"BINTABLE\"\n",
    "              , naxis == 2\n",
    "              , pcount == 0\n",
    "              , gcount == 1 ]\n",
    "  unless (and conds) (Left (\"invalid conditions: \" ++ show conds))\n",
    "  \n",
    "  bpix <- getI \"BITPIX\"\n",
    "  nbytes <- getI \"NAXIS1\"\n",
    "  nrows <- getI \"NAXIS2\"\n",
    "  ncols <- getI \"TFIELDS\"\n",
    "\n",
    "  -- Here cols is Either String [ColData], where the\n",
    "  -- string will represent the error from the fist\n",
    "  -- column which failed.\n",
    "  --\n",
    "  cols <- forM [1..ncols] $ createColumn getS \n",
    "  let lc = length cols\n",
    "  unless (lc == ncols) (Left (\"Expected \" ++ show ncols ++ \" columns, found \" ++ show lc))\n",
    "  \n",
    "  Right TableExt {\n",
    "         _teBitPix = bpix\n",
    "         , _teNCols = ncols\n",
    "         , _teNRows = nrows\n",
    "         , _teWidth = nbytes\n",
    "         , _teCols = cols\n",
    "       }  "
   ]
  },
  {
   "cell_type": "code",
   "execution_count": 68,
   "metadata": {
    "collapsed": false
   },
   "outputs": [
    {
     "data": {
      "text/plain": [
       "Right (TableExt {_teBitPix = 8, _teNRows = 1070, _teNCols = 3, _teWidth = 12, _teCols = [ColData {_cdName = \"ENERG_LO\", _cdFormat = \"1E\", _cdUnit = Just \"keV\"},ColData {_cdName = \"ENERG_HI\", _cdFormat = \"1E\", _cdUnit = Just \"keV\"},ColData {_cdName = \"SPECRESP\", _cdFormat = \"1E\", _cdUnit = Just \"cm**2\"}]})"
      ]
     },
     "metadata": {},
     "output_type": "display_data"
    }
   ],
   "source": [
    "createTable hdrMap"
   ]
  },
  {
   "cell_type": "markdown",
   "metadata": {
    "collapsed": true
   },
   "source": [
    "Now, the question is how to use this to parse the data: i.e. create a parser."
   ]
  },
  {
   "cell_type": "code",
   "execution_count": 85,
   "metadata": {
    "collapsed": false
   },
   "outputs": [],
   "source": [
    "wrongMap = Map.insert (Keyword \"TFIELDS\") (KeyInt 4) hdrMap"
   ]
  },
  {
   "cell_type": "code",
   "execution_count": 86,
   "metadata": {
    "collapsed": false
   },
   "outputs": [
    {
     "data": {
      "text/plain": [
       "Just (KeyInt 4)"
      ]
     },
     "metadata": {},
     "output_type": "display_data"
    }
   ],
   "source": [
    "Map.lookup (Keyword \"TFIELDS\") wrongMap"
   ]
  },
  {
   "cell_type": "code",
   "execution_count": 87,
   "metadata": {
    "collapsed": false
   },
   "outputs": [
    {
     "data": {
      "text/plain": [
       "Left \"Key not found: TTYPE4\""
      ]
     },
     "metadata": {},
     "output_type": "display_data"
    }
   ],
   "source": [
    "createTable wrongMap"
   ]
  },
  {
   "cell_type": "markdown",
   "metadata": {},
   "source": [
    "The original map is unchanged:"
   ]
  },
  {
   "cell_type": "code",
   "execution_count": 88,
   "metadata": {
    "collapsed": false
   },
   "outputs": [
    {
     "data": {
      "text/plain": [
       "Just (KeyInt 3)"
      ]
     },
     "metadata": {},
     "output_type": "display_data"
    }
   ],
   "source": [
    "Map.lookup (Keyword \"TFIELDS\") hdrMap"
   ]
  },
  {
   "cell_type": "code",
   "execution_count": null,
   "metadata": {
    "collapsed": true
   },
   "outputs": [],
   "source": []
  }
 ],
 "metadata": {
  "kernelspec": {
   "display_name": "Haskell",
   "language": "haskell",
   "name": "haskell"
  },
  "language_info": {
   "name": "haskell",
   "version": "7.8.4"
  }
 },
 "nbformat": 4,
 "nbformat_minor": 0
}
