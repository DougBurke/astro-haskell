{
 "metadata": {
  "language": "haskell",
  "name": "",
  "signature": "sha256:4dad7609c8c59bfad4110ce29341d6eba65f77deefca87a9756fddeabed99284"
 },
 "nbformat": 3,
 "nbformat_minor": 0,
 "worksheets": [
  {
   "cells": [
    {
     "cell_type": "code",
     "collapsed": false,
     "input": [
      "-- TypeFamilies is needed when defining Unit instances\n",
      ":set -XTypeFamilies\n",
      "\n",
      "-- TypeOperators is needed for defining the EnergyFlux type\n",
      ":set -XTypeOperators\n",
      "\n",
      "-- DataKinds is needed for defining AngleDim and Radians\n",
      ":set -XDataKinds"
     ],
     "language": "python",
     "metadata": {
      "hidden": false
     },
     "outputs": []
    },
    {
     "cell_type": "heading",
     "level": 2,
     "metadata": {
      "hidden": false
     },
     "source": [
      "Last time the notebook was run"
     ]
    },
    {
     "cell_type": "code",
     "collapsed": false,
     "input": [
      "import Data.Time\n",
      "getCurrentTime"
     ],
     "language": "python",
     "metadata": {},
     "outputs": []
    },
    {
     "cell_type": "heading",
     "level": 2,
     "metadata": {
      "hidden": false
     },
     "source": [
      "Load the modules"
     ]
    },
    {
     "cell_type": "markdown",
     "metadata": {
      "hidden": false
     },
     "source": [
      "Unlike \n",
      "[last time](http://htmlpreview.github.io/?https://raw.githubusercontent.com/DougBurke/astro-haskell/master/html/angular%20diameter%20distance.html),\n",
      "I'm not going to create any plots, so I don't need the Chart modules.\n",
      "\n",
      "I do want the integration routine, and I also have to load in the relevant\n",
      "modules from \n",
      "[units](https://hackage.haskell.org/package/units)\n",
      "and\n",
      "[units-defs](https://hackage.haskell.org/package/units-defs),\n",
      "which provides the definitions of the SI units I need."
     ]
    },
    {
     "cell_type": "code",
     "collapsed": false,
     "input": [
      "-- Numerics\n",
      "import Numeric.Integration.TanhSinh"
     ],
     "language": "python",
     "metadata": {},
     "outputs": []
    },
    {
     "cell_type": "code",
     "collapsed": false,
     "input": [
      "-- Units\n",
      "import Data.Metrology\n",
      "import Data.Metrology.SI\n",
      "import Data.Metrology.Show"
     ],
     "language": "python",
     "metadata": {
      "hidden": false
     },
     "outputs": []
    },
    {
     "cell_type": "markdown",
     "metadata": {
      "hidden": false
     },
     "source": [
      "The `units` package provides two \"forms\" of the API: a general version (the\n",
      "`Data.Metrology.Poly`/`Data.Metrology.SI.Poly` modules), which provides more\n",
      "control, and a simpler version, which I use here."
     ]
    },
    {
     "cell_type": "heading",
     "level": 2,
     "metadata": {
      "hidden": false
     },
     "source": [
      "Let's start the analysis"
     ]
    },
    {
     "cell_type": "markdown",
     "metadata": {
      "hidden": false
     },
     "source": [
      "This is the same code as before, but re-arranged slightly as I do not need `f` to be\n",
      "a general-purpose routine."
     ]
    },
    {
     "cell_type": "code",
     "collapsed": false,
     "input": [
      "-- angular-diameter and luminosity distances (units of the Hubble length)\n",
      "\n",
      "dcH om z = result (absolute 1.0e-6 (trap f 0 z))\n",
      "  where\n",
      "    -- unlike previous versions, I have made f a local definition\n",
      "    -- here, so it does not need to be sent in the om value as\n",
      "    -- it is already in scope\n",
      "    f z = let ol = 1 - om\n",
      "              t = (1 + z)^2 * (1 + om*z) - (2 + z) * ol * z\n",
      "          in 1 / sqrt t\n",
      "         \n",
      "daH om z = dcH om z / (1 + z)\n",
      "           \n",
      "dlH om z = dcH om z * (1 + z)"
     ],
     "language": "python",
     "metadata": {},
     "outputs": []
    },
    {
     "cell_type": "markdown",
     "metadata": {
      "hidden": false
     },
     "source": [
      "As with `dimensional-tf`, there's a way to convert a number into a type with units. In this case\n",
      "it is `%`, but the values to the right are now Haskell types, rather than values, which means that\n",
      "they are handled in a different manner. The `units` package provides syntax for \"combining\" units;\n",
      "here `:/` is used to indicate division, but there's also `:*` for multiplication, `:^` for raising\n",
      "to a power, and `:@` for combining terms (there's examples of most, if not all, of these later\n",
      "on in the notebook)."
     ]
    },
    {
     "cell_type": "code",
     "collapsed": false,
     "input": [
      "c = 299792458.0 % (Meter :/ Second)"
     ],
     "language": "python",
     "metadata": {
      "hidden": false
     },
     "outputs": []
    },
    {
     "cell_type": "markdown",
     "metadata": {
      "hidden": false
     },
     "source": [
      "The inferred type for this value is as equally baroque (for the non-Haskeller) as the `dimensional-tf` version, which for reference\n",
      "was\n",
      "\n",
      "    :type c\n",
      "    c :: forall a. Fractional a => Quantity (Dim (S Z) Z (N (S Z)) Z Z Z Z) a\n",
      "    \n",
      "In this case the first argument to `Qu`, which is the term within ``[ ... ]`, indicates the dimensions - so here length of 1 and time of -1 ([Peano numbers](https://wiki.haskell.org/Peano_numbers) again being used to indicate values in the type), with the second term being a mysterious `DefaultLCSU` value (which I am going to ignore, since I can get away with writing this notebook\n",
      "without having to use it), and the third is the type of the numeric value."
     ]
    },
    {
     "cell_type": "code",
     "collapsed": false,
     "input": [
      ":type c"
     ],
     "language": "python",
     "metadata": {
      "hidden": false
     },
     "outputs": []
    },
    {
     "cell_type": "markdown",
     "metadata": {
      "hidden": false
     },
     "source": [
      "As with `dimensional-tf`, there are more-readable types which can be specified. In this case `Velocity`, which is defined\n",
      "as `Length :/ Time`:"
     ]
    },
    {
     "cell_type": "code",
     "collapsed": false,
     "input": [
      "c :: Velocity\n",
      "c = 299792458.0 % (Meter :/ Second)\n",
      "\n",
      ":type c"
     ],
     "language": "python",
     "metadata": {
      "hidden": false
     },
     "outputs": []
    },
    {
     "cell_type": "markdown",
     "metadata": {
      "hidden": false
     },
     "source": [
      "While `%` promotes a number into a unit, `#` extracts a value from a value in the specified units. These are similar in spirit to the `*~` and `/~` operators of `dimensional-tf`, but they have rather eye-glazing types:"
     ]
    },
    {
     "cell_type": "code",
     "collapsed": false,
     "input": [
      ":type (%)\n",
      ":type (#)"
     ],
     "language": "python",
     "metadata": {
      "hidden": false
     },
     "outputs": []
    },
    {
     "cell_type": "markdown",
     "metadata": {
      "hidden": false
     },
     "source": [
      "Unsurprisingly, you can not easily combine values with unit with those that are unitless:"
     ]
    },
    {
     "cell_type": "code",
     "collapsed": false,
     "input": [
      "0.99 * c"
     ],
     "language": "python",
     "metadata": {
      "hidden": false
     },
     "outputs": []
    },
    {
     "cell_type": "markdown",
     "metadata": {
      "hidden": false
     },
     "source": [
      "As with `dimensional-tf`, you have to use a different operator. In this case these are `*|` or `|*`, with the `|` character appearing on the side of the value with units:"
     ]
    },
    {
     "cell_type": "code",
     "collapsed": false,
     "input": [
      "0.99 *| c\n",
      "c |* 0.99"
     ],
     "language": "python",
     "metadata": {
      "hidden": false
     },
     "outputs": []
    },
    {
     "cell_type": "markdown",
     "metadata": {
      "hidden": false
     },
     "source": [
      "To multiply two units together - so both sides have units - use `|*|`, and note that the reported units have changed to match the result:"
     ]
    },
    {
     "cell_type": "code",
     "collapsed": false,
     "input": [
      "c |*| c"
     ],
     "language": "python",
     "metadata": {
      "hidden": false
     },
     "outputs": []
    },
    {
     "cell_type": "markdown",
     "metadata": {
      "hidden": false
     },
     "source": [
      "As may be obvious, there is a naming scheme to these operators: the `:XXX` names seen above and using `|` to indicate the side that has units when multiplying (there are also versions for other operations like division and addition).\n",
      "\n",
      "The following combines both combining units (in this case, multiplying) with creating a \"compound\" unit (1 kilogram), using the\n",
      "`:@` operator to combine the prefix `Kilo` and unit `Gram`:"
     ]
    },
    {
     "cell_type": "code",
     "collapsed": false,
     "input": [
      "answer = 0.5 *| (1 % Kilo :@ Gram) |*| c |*| c\n",
      ":type answer\n",
      "answer"
     ],
     "language": "python",
     "metadata": {
      "hidden": false
     },
     "outputs": []
    },
    {
     "cell_type": "markdown",
     "metadata": {
      "hidden": false
     },
     "source": [
      "This can be given an explicit type; for instance:"
     ]
    },
    {
     "cell_type": "code",
     "collapsed": false,
     "input": [
      "answer2 :: Energy\n",
      "answer2 = answer\n",
      "answer2"
     ],
     "language": "python",
     "metadata": {
      "hidden": false
     },
     "outputs": []
    },
    {
     "cell_type": "markdown",
     "metadata": {
      "hidden": false
     },
     "source": [
      "Using an explicit type catches dimensional errors in your formula, but you may have to use `redim` to \n",
      "ensure that the types can be compared: `redim` only has a compile-time cost, when it forces the\n",
      "units to be compared, so there's no run-time cost to using it, and it is needed because the type\n",
      "system can't easily match up units where only the order of the dimensions differs."
     ]
    },
    {
     "cell_type": "code",
     "collapsed": false,
     "input": [
      "answer3 :: Energy\n",
      "answer3 = redim (0.5 *| (1 % Gram) |*| c)"
     ],
     "language": "python",
     "metadata": {
      "hidden": false
     },
     "outputs": []
    },
    {
     "cell_type": "markdown",
     "metadata": {
      "hidden": false
     },
     "source": [
      "As previoulsy mentioned, `#` is used to extract the value in the given units. For this case it works whether an explicit type\n",
      "was given (`answer2`) or not (`answer`):"
     ]
    },
    {
     "cell_type": "code",
     "collapsed": false,
     "input": [
      "answer # Joule\n",
      "answer2 # Mega :@ Joule"
     ],
     "language": "python",
     "metadata": {
      "hidden": false
     },
     "outputs": []
    },
    {
     "cell_type": "markdown",
     "metadata": {
      "hidden": false
     },
     "source": [
      "The current version of `units` (well, really, it's `units-defs`) does not contain some of the\n",
      "types I want to use (e.g. Parsec and Astronomical Unit). I can use the existing functionality\n",
      "to allow me to scale values; for instance:"
     ]
    },
    {
     "cell_type": "code",
     "collapsed": false,
     "input": [
      "parsec :: Length\n",
      "parsec = 3.085678e16 % Meter"
     ],
     "language": "python",
     "metadata": {
      "hidden": false
     },
     "outputs": []
    },
    {
     "cell_type": "code",
     "collapsed": false,
     "input": [
      "3 *| parsec"
     ],
     "language": "python",
     "metadata": {},
     "outputs": []
    },
    {
     "cell_type": "code",
     "collapsed": false,
     "input": [
      "(3 *| parsec) # Meter"
     ],
     "language": "python",
     "metadata": {},
     "outputs": []
    },
    {
     "cell_type": "markdown",
     "metadata": {
      "hidden": false
     },
     "source": [
      "However, it's not a type, so I can not convert a length into parsecs using `#` (well, not\n",
      "without manually converting the answer using the correct scaling factor).\n",
      "\n",
      "However, it is possible to create a type that represents a parsec. Following the \n",
      "[units tutorial](https://github.com/goldfirere/units/blob/master/README.md) I came up\n",
      "with the following, which relates `Parsec` to `Meter`."
     ]
    },
    {
     "cell_type": "code",
     "collapsed": false,
     "input": [
      "data Parsec = Parsec\n",
      "\n",
      "instance Unit Parsec where\n",
      "  type BaseUnit Parsec = Meter\n",
      "  \n",
      "  -- Note the _ argument!\n",
      "  conversionRatio _ = 3.085678e16"
     ],
     "language": "python",
     "metadata": {
      "hidden": false
     },
     "outputs": []
    },
    {
     "cell_type": "markdown",
     "metadata": {
      "hidden": false
     },
     "source": [
      "The `conversionRatio` function has the following type:"
     ]
    },
    {
     "cell_type": "code",
     "collapsed": false,
     "input": [
      ":type conversionRatio"
     ],
     "language": "python",
     "metadata": {
      "hidden": false
     },
     "outputs": []
    },
    {
     "cell_type": "markdown",
     "metadata": {
      "hidden": false
     },
     "source": [
      "which says that the first argument must be an instance of the `Unit` type class (which is what the `instance Unit ...` section above does), and returns a `Rational` value (which is a particular\n",
      "[representation of a floating-point number](http://hackage.haskell.org/package/base-4.7.0.2/docs/Prelude.html#t:Rational)).\n",
      "The documentation for `units` makes it clear that the first argument to this function must *never* be used (technically, I believe it's never be *evaluated*); to do this\n",
      "we use the \"placeholder\" syntax of `_`, which tells Haskell to ignore the argument. For users not used to Haskell, it might\n",
      "seem strange to ignore an argument to a function, or to not \"evaluate\" it. The reason for ignoring the argument is that it's actually the type of the argument that is important, rather than its value. The type tells the compiler which particular\n",
      "version of `conversionRatio` to use (it's a bit like how interfaces in Python or Java are used to select what code to use, but please don't hold strongly to this viewpoint as thinking about objects is likely to keep you confused when reading Haskell), and so it doesn't need to use the value. In such situations, it is common for the value to be set to `undefined`, which is a *special* value, in that\n",
      "\n",
      "  - I don't really want to try and explain it here\n",
      "  \n",
      "  - it can be set to any type (i.e. it's polymorphic)\n",
      "  \n",
      "  - evaluating the value is going to cause an error (hence the requirement that user code should never, ever, be used)\n",
      "  \n",
      "Here's an example of such an error, which isn't too informative, and you won't be seeing elsewhere in this notebook:"
     ]
    },
    {
     "cell_type": "code",
     "collapsed": false,
     "input": [
      "undefined"
     ],
     "language": "python",
     "metadata": {
      "hidden": false
     },
     "outputs": []
    },
    {
     "cell_type": "markdown",
     "metadata": {
      "hidden": false
     },
     "source": [
      "With all this I can now create a length in parsecs:"
     ]
    },
    {
     "cell_type": "code",
     "collapsed": false,
     "input": [
      "bob = (3::Double) % Parsec"
     ],
     "language": "python",
     "metadata": {
      "hidden": false
     },
     "outputs": []
    },
    {
     "cell_type": "markdown",
     "metadata": {
      "hidden": false
     },
     "source": [
      "The type, shown below, indicates that it's a length. I could have said\n",
      "\n",
      "    bob :: Length\n",
      "    bob = (3::Double) % Parsec\n",
      "    \n",
      "which provides more-readable code, and error messages, but is the same as\n",
      "the version without the explicit type. The restriction of 3 to a `Double` type\n",
      "is just to simplify the types a little bit."
     ]
    },
    {
     "cell_type": "code",
     "collapsed": false,
     "input": [
      ":type bob\n",
      ":type (3::Double) % Meter"
     ],
     "language": "python",
     "metadata": {
      "hidden": false
     },
     "outputs": []
    },
    {
     "cell_type": "markdown",
     "metadata": {
      "hidden": false
     },
     "source": [
      "Its value is reported in metres, since that is the base unit of the Parsec type (as\n",
      "defined above):"
     ]
    },
    {
     "cell_type": "code",
     "collapsed": false,
     "input": [
      "bob"
     ],
     "language": "python",
     "metadata": {
      "hidden": false
     },
     "outputs": []
    },
    {
     "cell_type": "markdown",
     "metadata": {
      "hidden": false
     },
     "source": [
      "With this type, I can also convert other lengths into parsecs. The two forms below are the same, since `mega` can be considered to be a short form for saying `Mega :@`."
     ]
    },
    {
     "cell_type": "code",
     "collapsed": false,
     "input": [
      "(2.2e28 % Meter) # mega Parsec"
     ],
     "language": "python",
     "metadata": {
      "hidden": false
     },
     "outputs": []
    },
    {
     "cell_type": "code",
     "collapsed": false,
     "input": [
      "(2.2e28 % Meter) # Mega :@ Parsec"
     ],
     "language": "python",
     "metadata": {
      "hidden": false
     },
     "outputs": []
    },
    {
     "cell_type": "markdown",
     "metadata": {
      "hidden": false
     },
     "source": [
      "I can - and in fact do - the same for the Hubble Constant,\n",
      "but it doesn't feel as sensible to me, since we do not really\n",
      "talk about units of `km/s/Mpc` in quite the same way as we do\n",
      "parsecs."
     ]
    },
    {
     "cell_type": "code",
     "collapsed": false,
     "input": [
      "-- Hubble constant in units of km/s/Mpc\n",
      "data HubbleConstant = HubbleConstant\n",
      "\n",
      "instance Unit HubbleConstant where\n",
      "  type BaseUnit HubbleConstant = Hertz\n",
      "  \n",
      "  -- As shown in later examples, this could have used something\n",
      "  -- like (1 % (Kilo @: Meter :/ Mega @: Parsec :/ Second))\n",
      "  -- to calculate the conversion ratio, but I wanted to\n",
      "  -- use an explicit value here:\n",
      "  conversionRatio _ = 1e3 / (1e6 * 3.085678e16)"
     ],
     "language": "python",
     "metadata": {
      "hidden": false
     },
     "outputs": []
    },
    {
     "cell_type": "markdown",
     "metadata": {
      "hidden": false
     },
     "source": [
      "With this, I can easily create a value equal to `70 km/sMpc`:"
     ]
    },
    {
     "cell_type": "code",
     "collapsed": false,
     "input": [
      "h70 = 70 % HubbleConstant\n",
      "h70\n",
      ":type h70"
     ],
     "language": "python",
     "metadata": {
      "hidden": false
     },
     "outputs": []
    },
    {
     "cell_type": "markdown",
     "metadata": {
      "hidden": false
     },
     "source": [
      "Alternatively, a value can be created just by specifying the units\n",
      "directly, with the same result:"
     ]
    },
    {
     "cell_type": "code",
     "collapsed": false,
     "input": [
      "h70 = 70 % (Kilo :@ Meter :/ Second :/ Mega :@ Parsec)\n",
      "h70\n",
      ":type h70"
     ],
     "language": "python",
     "metadata": {
      "hidden": false
     },
     "outputs": []
    },
    {
     "cell_type": "markdown",
     "metadata": {
      "hidden": false
     },
     "source": [
      "One advantage to having the `HubbleConstant` type is that I can convert a\n",
      "frequence into `km/s/Mpc`, as shown below, but I personally don't feel\n",
      "this is particularly compelling:"
     ]
    },
    {
     "cell_type": "code",
     "collapsed": false,
     "input": [
      "(7.2e-19 % Hertz) # HubbleConstant"
     ],
     "language": "python",
     "metadata": {
      "hidden": false
     },
     "outputs": []
    },
    {
     "cell_type": "markdown",
     "metadata": {
      "hidden": false
     },
     "source": [
      "For this notebook an alternative would be to create a function which adds in the\n",
      "correct units; for instance:"
     ]
    },
    {
     "cell_type": "code",
     "collapsed": false,
     "input": [
      "hubbleConstant x = x % (Kilo :@ Meter :/ Second :/ Mega :@ Parsec)\n",
      "hubbleConstant 70\n",
      ":t hubbleConstant"
     ],
     "language": "python",
     "metadata": {
      "hidden": false
     },
     "outputs": []
    },
    {
     "cell_type": "markdown",
     "metadata": {
      "hidden": false
     },
     "source": [
      "As mentioned before, it seems to be personal preference for which to prefer:"
     ]
    },
    {
     "cell_type": "code",
     "collapsed": false,
     "input": [
      "hubbleConstant 72.4\n",
      "72.4 % HubbleConstant"
     ],
     "language": "python",
     "metadata": {
      "hidden": false
     },
     "outputs": []
    },
    {
     "cell_type": "markdown",
     "metadata": {
      "hidden": false
     },
     "source": [
      "It's now possible to calculate the angular-diameter and luminosity distances. As with the `dimensional-tf` versions, \n",
      "I have included explicit types to ensure that the inputs and outputs are as expected, since without the signatures\n",
      "the compiler would infer very-generic types. A complication is in having to remember which variant of the operators\n",
      "should be ued (e.g. `*|` or `|*`), but the compiler complains quite loudly if you get it wrong (another reason for\n",
      "having the signatures). As previously mentioned, `redim` is essentially doing book-keeping at compile time; I didn't\n",
      "seem to need to include them here, but as they have no run-time cost it seems a sensible thing to include:"
     ]
    },
    {
     "cell_type": "code",
     "collapsed": false,
     "input": [
      "da :: Double -> Frequency -> Double -> Length \n",
      "da om h0 z = redim (daH om z *| c |/| h0)\n",
      "\n",
      "dl :: Double -> Frequency -> Double -> Length\n",
      "dl om h0 z = redim (dlH om z *| c |/| h0)"
     ],
     "language": "python",
     "metadata": {
      "hidden": false
     },
     "outputs": []
    },
    {
     "cell_type": "markdown",
     "metadata": {
      "hidden": false
     },
     "source": [
      "Now it's time to compare the results to those from `dimensional-tf` (I do not expect any significant numerical differences, what I am interested in is how to write and use the values). I use the `hubbleConstant` function here, but the result would have been\n",
      "the same if I had used `70 % HubbleConstant` instead)."
     ]
    },
    {
     "cell_type": "code",
     "collapsed": false,
     "input": [
      "da 0.3 (hubbleConstant 70) 2 # Mega :@ Parsec"
     ],
     "language": "python",
     "metadata": {
      "hidden": false
     },
     "outputs": []
    },
    {
     "cell_type": "markdown",
     "metadata": {
      "hidden": false
     },
     "source": [
      "The next step is to calculate the transverse distances, by multiplying the angular-diameter distance `da` by\n",
      "an angle in radians. The `dimensional-tf` package has in-built support for angles, but `units` does not. \n",
      "For this section I treat angles as simple numbers (so do not take advantage of any dimensional support),\n",
      "but do add in a simple type to represent angles, to better document the intent of the routines. \n",
      "\n",
      "To do this I create an `Angle` type which stores a single number as a `Double`, which I am going to\n",
      "assume is in radians. To help enforce this, I also create several helper routines which will create\n",
      "an `Angle` type given several different input values (e.g. a value in degrees or arc seconds). Since this\n",
      "is being done in a single IHaskell notebook it is quite easy to subvert the safety provided by these\n",
      "routines by creating an `Angle` value manually. In \"real\" Haskell code, the `Angle` data type would\n",
      "be defined in a module that would have to be loaded, and it would only allow you to create values\n",
      "using the routines such as `radian` rather than directly."
     ]
    },
    {
     "cell_type": "code",
     "collapsed": false,
     "input": [
      "-- The Angle type has a single numeric value, which is taken to be the\n",
      "-- value in radians.\n",
      "\n",
      "data Angle = Angle { toRadians :: Double }\n",
      "  deriving Show\n",
      "  \n",
      "-- Convert a number in radians, degrees, arcminutes, arcseconds to an Angle data type\n",
      "\n",
      "radian :: Double -> Angle\n",
      "radian x = Angle x\n",
      "\n",
      "degree :: Double -> Angle\n",
      "degree x = radian (x * pi / 180)\n",
      "\n",
      "arcmin :: Double -> Angle\n",
      "arcmin x = degree (x / 60)\n",
      "\n",
      "arcsec :: Double -> Angle\n",
      "arcsec x = arcmin (x / 60)"
     ],
     "language": "python",
     "metadata": {
      "hidden": false
     },
     "outputs": []
    },
    {
     "cell_type": "markdown",
     "metadata": {
      "hidden": false
     },
     "source": [
      "As a check, here's the output for these routines:"
     ]
    },
    {
     "cell_type": "code",
     "collapsed": false,
     "input": [
      "radian 1\n",
      "degree 1\n",
      "arcmin 1\n",
      "arcsec 1"
     ],
     "language": "python",
     "metadata": {},
     "outputs": []
    },
    {
     "cell_type": "markdown",
     "metadata": {
      "hidden": false
     },
     "source": [
      "With these, the `adist` routine can be written as:"
     ]
    },
    {
     "cell_type": "code",
     "collapsed": false,
     "input": [
      "adist :: Double -> Frequency -> Double -> Angle -> Length\n",
      "adist om h0 z angle = da om h0 z |* toRadians angle"
     ],
     "language": "python",
     "metadata": {
      "hidden": false
     },
     "outputs": []
    },
    {
     "cell_type": "markdown",
     "metadata": {
      "hidden": false
     },
     "source": [
      "Since the fourth argument has a type of `Angle`, I can not call it\n",
      "with a number, otherwise the compiler complains:"
     ]
    },
    {
     "cell_type": "code",
     "collapsed": false,
     "input": [
      "adist 0.3 (hubbleConstant 70) 2 1"
     ],
     "language": "python",
     "metadata": {
      "hidden": false
     },
     "outputs": []
    },
    {
     "cell_type": "markdown",
     "metadata": {
      "hidden": false
     },
     "source": [
      "Supplying an actual `Angle` value allows me to compare to the `dimensional-tf` version; as above,\n",
      "the numeric values are essentially the same"
     ]
    },
    {
     "cell_type": "code",
     "collapsed": false,
     "input": [
      "adist 0.3 (hubbleConstant 70) 2 (arcsec 1) # Kilo :@ Parsec"
     ],
     "language": "python",
     "metadata": {},
     "outputs": []
    },
    {
     "cell_type": "code",
     "collapsed": false,
     "input": [
      "adist 0.3 (hubbleConstant 70) 2 (arcmin 2.4) # Mega :@ Parsec"
     ],
     "language": "python",
     "metadata": {},
     "outputs": []
    },
    {
     "cell_type": "markdown",
     "metadata": {
      "hidden": false
     },
     "source": [
      "And now for the luminosity distance:"
     ]
    },
    {
     "cell_type": "code",
     "collapsed": false,
     "input": [
      "dl 0.3 (hubbleConstant 70) 2"
     ],
     "language": "python",
     "metadata": {},
     "outputs": []
    },
    {
     "cell_type": "code",
     "collapsed": false,
     "input": [
      "dl 0.3 (hubbleConstant 70) 2 # Mega :@ Parsec"
     ],
     "language": "python",
     "metadata": {},
     "outputs": []
    },
    {
     "cell_type": "markdown",
     "metadata": {
      "hidden": false
     },
     "source": [
      "Perhaps surprisingly, `units-defs` does not come with a definition of a year, which\n",
      "means that calculating this distance in units of Giga Light Years is going to require\n",
      "some set up.  Although it is not clear what a good general-purpose definition is, I am going\n",
      "to define one following the IAU recommendation, which also happens to be the\n",
      "version that `dimension-tf` used."
     ]
    },
    {
     "cell_type": "code",
     "collapsed": false,
     "input": [
      "-- Following the dimensional package, define a year as 365.25 days,\n",
      "-- which is an IAU recommendation \n",
      "-- http://www.iau.org/science/publications/proceedings_rules/units/\n",
      "-- and who am I to argue with the demoters of Pluto?\n",
      "--\n",
      "data Year = Year\n",
      "\n",
      "-- I could have made the base unit be second and use\n",
      "-- a conversion ratio of 31557600, but I wanted to see\n",
      "-- how this sort of \"chaining\" of units worked.\n",
      "instance Unit Year where\n",
      "  type BaseUnit Year = Hour\n",
      "  conversionRatio _ = 365.25 * 24\n",
      "\n",
      "-- Light years\n",
      "data LightYear = LightYear\n",
      "\n",
      "instance Unit LightYear where\n",
      "  type BaseUnit LightYear = Meter\n",
      "  -- How efficient is this? Is the number calculated at compile time\n",
      "  -- or evaluated at each conversion? This is in contrast to the\n",
      "  -- Unit instance of HubbleConstant, where I explicitly included\n",
      "  -- the numeric values.\n",
      "  --\n",
      "  -- Without the realToFrac function, the answer would be a Fractional,\n",
      "  -- but conversionRatio returns a Rational, so I have to do a type\n",
      "  -- cast here.\n",
      "  --\n",
      "  conversionRatio _ = realToFrac (c # Meter :/ Year)"
     ],
     "language": "python",
     "metadata": {
      "hidden": false
     },
     "outputs": []
    },
    {
     "cell_type": "raw",
     "metadata": {
      "hidden": false
     },
     "source": [
      "After all that, I can finally calculate the distance in light years:"
     ]
    },
    {
     "cell_type": "code",
     "collapsed": false,
     "input": [
      "dl 0.3 (hubbleConstant 70) 2 # Giga :@ LightYear"
     ],
     "language": "python",
     "metadata": {
      "hidden": false
     },
     "outputs": []
    },
    {
     "cell_type": "markdown",
     "metadata": {
      "hidden": false
     },
     "source": [
      "The next step is to convert from flux to luminosity. This requires a non-SI unit, erg, which\n",
      "is provided by `Data.Units.CGS`:"
     ]
    },
    {
     "cell_type": "code",
     "collapsed": false,
     "input": [
      "import Data.Units.CGS (Erg(..))"
     ],
     "language": "python",
     "metadata": {
      "hidden": false
     },
     "outputs": []
    },
    {
     "cell_type": "markdown",
     "metadata": {
      "hidden": false
     },
     "source": [
      "With this I can create energies and convert between Ergs and Joules:"
     ]
    },
    {
     "cell_type": "code",
     "collapsed": false,
     "input": [
      "1 % Erg\n",
      "\n",
      "1 % Joule |/| 1 % Erg"
     ],
     "language": "python",
     "metadata": {
      "hidden": false
     },
     "outputs": []
    },
    {
     "cell_type": "markdown",
     "metadata": {
      "hidden": false
     },
     "source": [
      "To make the type signature cleaner I invent the following type to represent fluxes:"
     ]
    },
    {
     "cell_type": "code",
     "collapsed": false,
     "input": [
      "type EnergyFlux = Power %/ Area"
     ],
     "language": "python",
     "metadata": {
      "hidden": false
     },
     "outputs": []
    },
    {
     "cell_type": "markdown",
     "metadata": {
      "hidden": false
     },
     "source": [
      "The luminosity is therefore just:"
     ]
    },
    {
     "cell_type": "code",
     "collapsed": false,
     "input": [
      "luminosity :: Double -> Frequency -> Double -> EnergyFlux -> Power\n",
      "luminosity om h0 z flux = redim (flux |*| area)\n",
      "  where\n",
      "    r = dl om h0 z\n",
      "    area = 4 * pi *| r |*| r"
     ],
     "language": "python",
     "metadata": {},
     "outputs": []
    },
    {
     "cell_type": "markdown",
     "metadata": {
      "hidden": false
     },
     "source": [
      "Unfortunately I can't easily create fluxes on the fly, since this causes\n",
      "type errors because of the order of the units, as shown in the following\n",
      "error message:"
     ]
    },
    {
     "cell_type": "code",
     "collapsed": false,
     "input": [
      "luminosity 0.3 (hubbleConstant 70) 2 (2e-13 % (Erg :/ Centi :@ Meter :^ sTwo :/ Second))"
     ],
     "language": "python",
     "metadata": {
      "hidden": false
     },
     "outputs": []
    },
    {
     "cell_type": "markdown",
     "metadata": {
      "hidden": false
     },
     "source": [
      "One way around this is to define a helper function which includes a call to `redim` (or to include the `redim` call\n",
      "directly in the original call):"
     ]
    },
    {
     "cell_type": "code",
     "collapsed": false,
     "input": [
      "ergFlux :: Double -> EnergyFlux\n",
      "ergFlux x = redim (x % (Erg :/ Second :/ Centi :@ Meter :^ sTwo))"
     ],
     "language": "python",
     "metadata": {},
     "outputs": []
    },
    {
     "cell_type": "markdown",
     "metadata": {
      "hidden": false
     },
     "source": [
      "With this definition, I can create a luminosity"
     ]
    },
    {
     "cell_type": "code",
     "collapsed": false,
     "input": [
      "lum = luminosity 0.3 (hubbleConstant 70) 2 (ergFlux 2e-13)\n",
      "lum"
     ],
     "language": "python",
     "metadata": {
      "hidden": false
     },
     "outputs": []
    },
    {
     "cell_type": "markdown",
     "metadata": {
      "hidden": false
     },
     "source": [
      "and convert it to the units I require:"
     ]
    },
    {
     "cell_type": "code",
     "collapsed": false,
     "input": [
      "lum # Watt\n",
      "lum # (Erg :/ Second)"
     ],
     "language": "python",
     "metadata": {},
     "outputs": []
    },
    {
     "cell_type": "heading",
     "level": 1,
     "metadata": {
      "hidden": false
     },
     "source": [
      "XXX GOT TO HERE XXX"
     ]
    },
    {
     "cell_type": "markdown",
     "metadata": {
      "hidden": false
     },
     "source": [
      "The final part of the original notebook was to calculate the critical density of the Universe as a function\n",
      "of Hubble's constant, using the code:\n",
      "\n",
      "XXX TODO XXX replace with the equations\n",
      "\n",
      "    bigG = 6.67428e-11 P.*~ (P.metre P.^ P.pos3 P./ P.kilo P.gram P./ P.second P.^ P.pos2)\n",
      "    criticalDensity h = P._3 P.* h P.^ P.pos2 P./ (P._8 P.* P.pi P.* bigG)    "
     ]
    },
    {
     "cell_type": "code",
     "collapsed": false,
     "input": [
      "bigG = 6.67428e-11 % (Meter :^ sThree :/ Kilo :@ Gram :/ Second :^ sTwo)"
     ],
     "language": "python",
     "metadata": {},
     "outputs": []
    },
    {
     "cell_type": "code",
     "collapsed": false,
     "input": [
      "criticalDensity :: Frequency -> Density\n",
      "criticalDensity h = redim (3 *| h |*| h |/| (8 * pi *| bigG))"
     ],
     "language": "python",
     "metadata": {},
     "outputs": []
    },
    {
     "cell_type": "code",
     "collapsed": false,
     "input": [
      "c70 = criticalDensity (70 % HubbleConstant)\n",
      "c70"
     ],
     "language": "python",
     "metadata": {},
     "outputs": []
    },
    {
     "cell_type": "code",
     "collapsed": false,
     "input": [
      "-- From http://en.wikipedia.org/wiki/Astronomical_unit \n",
      "\n",
      "data AstronomicalUnit = AstronomicalUnit\n",
      "\n",
      "instance Unit AstronomicalUnit where\n",
      "  type BaseUnit AstronomicalUnit = Meter\n",
      "  conversionRatio _ = 149597870700"
     ],
     "language": "python",
     "metadata": {},
     "outputs": []
    },
    {
     "cell_type": "code",
     "collapsed": false,
     "input": [
      "c70 # (Kilo :@ Ton :/ (AstronomicalUnit :^ sThree))"
     ],
     "language": "python",
     "metadata": {},
     "outputs": []
    },
    {
     "cell_type": "heading",
     "level": 1,
     "metadata": {
      "hidden": false
     },
     "source": [
      "EXPERIMENTAL CODE"
     ]
    },
    {
     "cell_type": "code",
     "collapsed": false,
     "input": [
      "-- How to extend the default LCSU with angles?\n",
      "--\n",
      "data AngleDim = AngleDim\n",
      "\n",
      "instance Dimension AngleDim where\n",
      "  type DimFactorsOf AngleDim = '[]\n",
      "\n",
      "-- instance Dimension AngleDim\n",
      "\n",
      "type instance DefaultUnitOfDim AngleDim = Radian\n",
      "\n",
      "data Radian = Radian\n",
      "instance Unit Radian where\n",
      "  type BaseUnit Radian = Canonical\n",
      "  type DimOfUnit Radian = AngleDim\n",
      "  type UnitFactorsOf Radian = '[]\n",
      "\n",
      "data Degree = Degree\n",
      "instance Unit Degree where\n",
      "  type BaseUnit Degree = Radian\n",
      "  conversionRatio _ = realToFrac (pi / 180.0)\n",
      "\n",
      "data ArcMinute = ArcMinute\n",
      "instance Unit ArcMinute where\n",
      "  type BaseUnit ArcMinute = Degree\n",
      "  conversionRatio _ = (1/60)\n",
      "\n",
      "data ArcSecond = ArcSecond\n",
      "instance Unit ArcSecond where\n",
      "  type BaseUnit ArcSecond = ArcMinute\n",
      "  conversionRatio _ = (1/60)\n",
      "\n",
      "-- Perhaps should be using MkQu_DLN or some other type synonym?\n",
      "-- I have already defined an Angle, so I add Type to the name\n",
      "-- here to have a different symbol name.\n",
      "type AngleType = MkQu_U Radian"
     ],
     "language": "python",
     "metadata": {},
     "outputs": []
    },
    {
     "cell_type": "code",
     "collapsed": false,
     "input": [
      "(0.4 :: Double) % Radian"
     ],
     "language": "python",
     "metadata": {},
     "outputs": []
    },
    {
     "cell_type": "code",
     "collapsed": false,
     "input": [
      "x = 0.4 % Radian"
     ],
     "language": "python",
     "metadata": {},
     "outputs": []
    },
    {
     "cell_type": "code",
     "collapsed": false,
     "input": [
      ":type x"
     ],
     "language": "python",
     "metadata": {},
     "outputs": []
    },
    {
     "cell_type": "code",
     "collapsed": false,
     "input": [
      "3 *| x"
     ],
     "language": "python",
     "metadata": {},
     "outputs": []
    },
    {
     "cell_type": "code",
     "collapsed": false,
     "input": [
      "x # Number"
     ],
     "language": "python",
     "metadata": {},
     "outputs": []
    },
    {
     "cell_type": "code",
     "collapsed": false,
     "input": [
      "x # Degree"
     ],
     "language": "python",
     "metadata": {},
     "outputs": []
    },
    {
     "cell_type": "code",
     "collapsed": false,
     "input": [
      "adist2 :: Double -> Frequency -> Double -> AngleType -> Length\n",
      "adist2 om h0 z angle = da om h0 z |*| angle"
     ],
     "language": "python",
     "metadata": {},
     "outputs": []
    },
    {
     "cell_type": "code",
     "collapsed": false,
     "input": [
      "adist2 0.3 (hubbleConstant 70) 2 (1 % ArcSecond) # Kilo :@ Parsec"
     ],
     "language": "python",
     "metadata": {},
     "outputs": []
    },
    {
     "cell_type": "code",
     "collapsed": false,
     "input": [
      "adist2 0.3 (hubbleConstant 70) 2 (2.4 % ArcMinute) # Mega :@ Parsec"
     ],
     "language": "python",
     "metadata": {},
     "outputs": []
    },
    {
     "cell_type": "code",
     "collapsed": false,
     "input": [
      "adist2 0.3 (hubbleConstant 70) 2 (pi/3600/180) # Kilo :@ Parsec"
     ],
     "language": "python",
     "metadata": {},
     "outputs": []
    },
    {
     "cell_type": "code",
     "collapsed": false,
     "input": [],
     "language": "python",
     "metadata": {},
     "outputs": []
    }
   ],
   "metadata": {}
  }
 ]
}