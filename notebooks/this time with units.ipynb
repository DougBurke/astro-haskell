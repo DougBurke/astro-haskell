{
 "metadata": {
  "language": "haskell",
  "name": "",
  "signature": "sha256:058e29475df4268e0ad2803f498c4912f395b6ddc7eaaf354122d2b3d2f8306a"
 },
 "nbformat": 3,
 "nbformat_minor": 0,
 "worksheets": [
  {
   "cells": [
    {
     "cell_type": "code",
     "collapsed": false,
     "input": [
      "-- It is possible I do not need all these\n",
      ":set -XTypeFamilies\n",
      ":set -XTypeOperators\n",
      ":set -XDataKinds"
     ],
     "language": "python",
     "metadata": {},
     "outputs": [],
     "prompt_number": 1
    },
    {
     "cell_type": "heading",
     "level": 2,
     "metadata": {
      "hidden": false
     },
     "source": [
      "Last time the notebook was run"
     ]
    },
    {
     "cell_type": "code",
     "collapsed": false,
     "input": [
      "import Data.Time\n",
      "getCurrentTime"
     ],
     "language": "python",
     "metadata": {},
     "outputs": [
      {
       "metadata": {},
       "output_type": "display_data",
       "text": [
        "2015-02-18 23:42:45.903016 UTC"
       ]
      }
     ],
     "prompt_number": 2
    },
    {
     "cell_type": "heading",
     "level": 2,
     "metadata": {
      "hidden": false
     },
     "source": [
      "Load the modules"
     ]
    },
    {
     "cell_type": "markdown",
     "metadata": {
      "hidden": false
     },
     "source": [
      "I am skipping the Chart modules as I don't plan on creating any graphs here."
     ]
    },
    {
     "cell_type": "code",
     "collapsed": false,
     "input": [
      "-- Numerics\n",
      "import Numeric.Integration.TanhSinh"
     ],
     "language": "python",
     "metadata": {},
     "outputs": [],
     "prompt_number": 4
    },
    {
     "cell_type": "code",
     "collapsed": false,
     "input": [
      "-- Units\n",
      "import Data.Metrology\n",
      "import Data.Metrology.SI\n",
      "import Data.Metrology.Show"
     ],
     "language": "python",
     "metadata": {},
     "outputs": [],
     "prompt_number": 5
    },
    {
     "cell_type": "heading",
     "level": 2,
     "metadata": {
      "hidden": false
     },
     "source": [
      "Start the analysis"
     ]
    },
    {
     "cell_type": "code",
     "collapsed": false,
     "input": [
      "-- angular-diameter and luminosity distances (units of the Hubble length)\n",
      "\n",
      "f om z = let ol = 1 - om\n",
      "             t = (1 + z)^2 * (1 + om*z) - (2 + z) * ol * z\n",
      "         in 1 / sqrt t\n",
      "         \n",
      "daH om z = let fs = result (absolute 1.0e-6 (trap (f om) 0 z))\n",
      "           in fs / (1+z)\n",
      "           \n",
      "dlH om z = let fs = result (absolute 1.0e-6 (trap (f om) 0 z))\n",
      "           in fs * (1+z)"
     ],
     "language": "python",
     "metadata": {},
     "outputs": [],
     "prompt_number": 6
    },
    {
     "cell_type": "markdown",
     "metadata": {
      "hidden": false
     },
     "source": [
      "It is also possible to say\n",
      "\n",
      "    c :: Velocity\n",
      "    c = (299792458.0 % Meter) |/| (1 % Second)\n",
      "    \n",
      "and I'm not sure if the ordering of the units (ie $s^{-1} m$ rather than $m s^{-1}$) makes a difference here."
     ]
    },
    {
     "cell_type": "code",
     "collapsed": false,
     "input": [
      "c :: Velocity\n",
      "c = constant $ 299792458 % ((Second :^ sMOne) :* Meter)"
     ],
     "language": "python",
     "metadata": {},
     "outputs": [],
     "prompt_number": 7
    },
    {
     "cell_type": "markdown",
     "metadata": {
      "hidden": false
     },
     "source": [
      "The following works, but you can't \"extract\" a value in units of parsecs because\n",
      "you need to create a type."
     ]
    },
    {
     "cell_type": "code",
     "collapsed": false,
     "input": [
      "parsec :: Length\n",
      "parsec = 3.085678e16 % Meter"
     ],
     "language": "python",
     "metadata": {},
     "outputs": [],
     "prompt_number": 8
    },
    {
     "cell_type": "code",
     "collapsed": false,
     "input": [
      "3 *| parsec"
     ],
     "language": "python",
     "metadata": {},
     "outputs": [
      {
       "metadata": {},
       "output_type": "display_data",
       "text": [
        "9.257034e16 m"
       ]
      }
     ],
     "prompt_number": 9
    },
    {
     "cell_type": "code",
     "collapsed": false,
     "input": [
      "(3 *| parsec) # Meter"
     ],
     "language": "python",
     "metadata": {},
     "outputs": [
      {
       "metadata": {},
       "output_type": "display_data",
       "text": [
        "9.257034e16"
       ]
      }
     ],
     "prompt_number": 10
    },
    {
     "cell_type": "markdown",
     "metadata": {
      "hidden": false
     },
     "source": [
      "Hmm, doing the equivalent of `hubbleConstant` is not easy; do I need a type?"
     ]
    },
    {
     "cell_type": "code",
     "collapsed": false,
     "input": [
      "data Parsec = Parsec\n",
      "\n",
      "instance Unit Parsec where\n",
      "  type BaseUnit Parsec = Meter\n",
      "  conversionRatio _ = 3.085678e16"
     ],
     "language": "python",
     "metadata": {},
     "outputs": [],
     "prompt_number": 11
    },
    {
     "cell_type": "code",
     "collapsed": false,
     "input": [
      "bob = 3 % Parsec"
     ],
     "language": "python",
     "metadata": {},
     "outputs": [],
     "prompt_number": 12
    },
    {
     "cell_type": "code",
     "collapsed": false,
     "input": [
      "bob"
     ],
     "language": "python",
     "metadata": {},
     "outputs": [
      {
       "metadata": {},
       "output_type": "display_data",
       "text": [
        "9.257034e16 m"
       ]
      }
     ],
     "prompt_number": 13
    },
    {
     "cell_type": "code",
     "collapsed": false,
     "input": [
      "(2.2e28 % Meter) # mega Parsec"
     ],
     "language": "python",
     "metadata": {},
     "outputs": [
      {
       "metadata": {},
       "output_type": "display_data",
       "text": [
        "712971.3469778765"
       ]
      }
     ],
     "prompt_number": 14
    },
    {
     "cell_type": "code",
     "collapsed": false,
     "input": [
      "-- The same could be done for HubbleConstant, e.g.\n",
      "-- the following, but does it really make sence since\n",
      "-- we don't have a nice name for a km/s/Mpc unit.\n",
      "--\n",
      "\n",
      "-- Hubble constant in units of km/s/Mpc\n",
      "data HubbleConstant = HubbleConstant\n",
      "\n",
      "instance Unit HubbleConstant where\n",
      "  type BaseUnit HubbleConstant = Hertz\n",
      "  conversionRatio _ = 1e3 / (1e6 * 3.085678e16)"
     ],
     "language": "python",
     "metadata": {},
     "outputs": [],
     "prompt_number": 15
    },
    {
     "cell_type": "code",
     "collapsed": false,
     "input": [
      "-- We can \"construct\" a value in the right units with the existing\n",
      "-- machinery (i.e. no need for HubbleConstant)\n",
      "h70 = 70 % (Kilo :@ Meter :/ Second :/ Mega :@ Parsec)"
     ],
     "language": "python",
     "metadata": {},
     "outputs": [],
     "prompt_number": 16
    },
    {
     "cell_type": "code",
     "collapsed": false,
     "input": [
      "h70"
     ],
     "language": "python",
     "metadata": {},
     "outputs": [
      {
       "metadata": {},
       "output_type": "display_data",
       "text": [
        "2.268545194929607e-18 s^-1"
       ]
      }
     ],
     "prompt_number": 17
    },
    {
     "cell_type": "code",
     "collapsed": false,
     "input": [
      ":t h70"
     ],
     "language": "python",
     "metadata": {},
     "outputs": [
      {
       "html": [
        "<span class='get-type'>h70 :: forall n. Fractional n => Qu '['F Time ('P 'Zero)] 'DefaultLCSU n</span>"
       ],
       "metadata": {},
       "output_type": "display_data",
       "text": [
        "h70 :: forall n. Fractional n => Qu '['F Time ('P 'Zero)] 'DefaultLCSU n"
       ]
      }
     ],
     "prompt_number": 18
    },
    {
     "cell_type": "code",
     "collapsed": false,
     "input": [
      "h70 # HubbleConstant"
     ],
     "language": "python",
     "metadata": {},
     "outputs": [
      {
       "metadata": {},
       "output_type": "display_data",
       "text": [
        "70.0"
       ]
      }
     ],
     "prompt_number": 19
    },
    {
     "cell_type": "code",
     "collapsed": false,
     "input": [
      "-- I think this is the better way to go\n",
      "hubbleConstant x = x % (Kilo :@ Meter :/ Second :/ Mega :@ Parsec)"
     ],
     "language": "python",
     "metadata": {},
     "outputs": [],
     "prompt_number": 20
    },
    {
     "cell_type": "code",
     "collapsed": false,
     "input": [
      ":t hubbleConstant"
     ],
     "language": "python",
     "metadata": {},
     "outputs": [
      {
       "html": [
        "<span class='get-type'>hubbleConstant :: forall n. Fractional n => n -> Qu '['F Time ('P 'Zero)] 'DefaultLCSU n</span>"
       ],
       "metadata": {},
       "output_type": "display_data",
       "text": [
        "hubbleConstant :: forall n. Fractional n => n -> Qu '['F Time ('P 'Zero)] 'DefaultLCSU n"
       ]
      }
     ],
     "prompt_number": 21
    },
    {
     "cell_type": "code",
     "collapsed": false,
     "input": [
      "hubbleConstant 70"
     ],
     "language": "python",
     "metadata": {},
     "outputs": [
      {
       "metadata": {},
       "output_type": "display_data",
       "text": [
        "2.268545194929607e-18 s^-1"
       ]
      }
     ],
     "prompt_number": 22
    },
    {
     "cell_type": "code",
     "collapsed": false,
     "input": [
      "-- So, let's create a unitified-version of daH and dlH\n",
      "da :: Double -> Frequency -> Double -> Length \n",
      "da om h0 z = daH om z *| c |/| h0\n",
      "\n",
      "dl :: Double -> Frequency -> Double -> Length\n",
      "dl om h0 z = dlH om z *| c |/| h0"
     ],
     "language": "python",
     "metadata": {},
     "outputs": [],
     "prompt_number": 23
    },
    {
     "cell_type": "code",
     "collapsed": false,
     "input": [
      "da 0.3 (hubbleConstant 70) 2 # Mega :@ Parsec"
     ],
     "language": "python",
     "metadata": {},
     "outputs": [
      {
       "metadata": {},
       "output_type": "display_data",
       "text": [
        "1726.6206914696234"
       ]
      }
     ],
     "prompt_number": 24
    },
    {
     "cell_type": "code",
     "collapsed": false,
     "input": [
      ":t daH 0.3 2 *| c |/| hubbleConstant 70"
     ],
     "language": "python",
     "metadata": {},
     "outputs": [
      {
       "html": [
        "<span class='get-type'>daH 0.3 2 *| c |/| hubbleConstant 70 :: Qu '['F Length One] 'DefaultLCSU Double</span>"
       ],
       "metadata": {},
       "output_type": "display_data",
       "text": [
        "daH 0.3 2 *| c |/| hubbleConstant 70 :: Qu '['F Length One] 'DefaultLCSU Double"
       ]
      }
     ],
     "prompt_number": 25
    },
    {
     "cell_type": "markdown",
     "metadata": {
      "hidden": false
     },
     "source": [
      "So, `units` doesn't have in-built support for angles. We could try to add in support for angles (see end\n",
      "of the notebook), but it's not obvious to me how to do this. So, for now, just treat them as\n",
      "dimensionless values and require explicit conversion to radians. To avoid possible mix ups, I define a new\n",
      "data type for Angles, measured in radians, and several conversion routines. "
     ]
    },
    {
     "cell_type": "code",
     "collapsed": false,
     "input": [
      "data Angle = Angle { toRadians :: Double }\n",
      "  deriving Show\n",
      "  \n",
      "-- Convert a number in radians, degrees, arcminutes, arcseconds to an Angle data type\n",
      "\n",
      "radian :: Double -> Angle\n",
      "radian x = Angle x\n",
      "\n",
      "degree :: Double -> Angle\n",
      "degree x = radian (x * pi / 180)\n",
      "\n",
      "arcmin :: Double -> Angle\n",
      "arcmin x = degree (x / 60)\n",
      "\n",
      "arcsec :: Double -> Angle\n",
      "arcsec x = arcmin (x / 60)"
     ],
     "language": "python",
     "metadata": {},
     "outputs": [],
     "prompt_number": 27
    },
    {
     "cell_type": "code",
     "collapsed": false,
     "input": [
      "radian 1\n",
      "degree 1\n",
      "arcmin 1\n",
      "arcsec 1"
     ],
     "language": "python",
     "metadata": {},
     "outputs": [
      {
       "metadata": {},
       "output_type": "display_data",
       "text": [
        "Angle {toRadians = 1.0}"
       ]
      },
      {
       "metadata": {},
       "output_type": "display_data",
       "text": [
        "Angle {toRadians = 1.7453292519943295e-2}"
       ]
      },
      {
       "metadata": {},
       "output_type": "display_data",
       "text": [
        "Angle {toRadians = 2.908882086657216e-4}"
       ]
      },
      {
       "metadata": {},
       "output_type": "display_data",
       "text": [
        "Angle {toRadians = 4.84813681109536e-6}"
       ]
      }
     ],
     "prompt_number": 28
    },
    {
     "cell_type": "code",
     "collapsed": false,
     "input": [
      "1 / 3600\n",
      "pi / (3600 * 180)"
     ],
     "language": "python",
     "metadata": {},
     "outputs": [
      {
       "metadata": {},
       "output_type": "display_data",
       "text": [
        "2.777777777777778e-4"
       ]
      },
      {
       "metadata": {},
       "output_type": "display_data",
       "text": [
        "4.84813681109536e-6"
       ]
      }
     ],
     "prompt_number": 29
    },
    {
     "cell_type": "code",
     "collapsed": false,
     "input": [
      "adist :: Double -> Frequency -> Double -> Angle -> Length\n",
      "adist om h0 z angle = da om h0 z |* toRadians angle"
     ],
     "language": "python",
     "metadata": {},
     "outputs": [],
     "prompt_number": 30
    },
    {
     "cell_type": "code",
     "collapsed": false,
     "input": [
      "adist 0.3 (hubbleConstant 70) 2 (arcsec 1) # Kilo :@ Parsec"
     ],
     "language": "python",
     "metadata": {},
     "outputs": [
      {
       "metadata": {},
       "output_type": "display_data",
       "text": [
        "8.370893333112804"
       ]
      }
     ],
     "prompt_number": 31
    },
    {
     "cell_type": "code",
     "collapsed": false,
     "input": [
      "adist 0.3 (hubbleConstant 70) 2 (arcmin 2.4) # Mega :@ Parsec"
     ],
     "language": "python",
     "metadata": {},
     "outputs": [
      {
       "metadata": {},
       "output_type": "display_data",
       "text": [
        "1.205408639968244"
       ]
      }
     ],
     "prompt_number": 32
    },
    {
     "cell_type": "markdown",
     "metadata": {
      "hidden": false
     },
     "source": [
      "And now for the luminosity distance:"
     ]
    },
    {
     "cell_type": "code",
     "collapsed": false,
     "input": [
      "dl 0.3 (hubbleConstant 70) 2"
     ],
     "language": "python",
     "metadata": {},
     "outputs": [
      {
       "metadata": {},
       "output_type": "display_data",
       "text": [
        "4.7950159338113435e26 m"
       ]
      }
     ],
     "prompt_number": 33
    },
    {
     "cell_type": "code",
     "collapsed": false,
     "input": [
      "dl 0.3 (hubbleConstant 70) 2 # Mega :@ Parsec"
     ],
     "language": "python",
     "metadata": {},
     "outputs": [
      {
       "metadata": {},
       "output_type": "display_data",
       "text": [
        "15539.58622322661"
       ]
      }
     ],
     "prompt_number": 34
    },
    {
     "cell_type": "code",
     "collapsed": false,
     "input": [
      "data Year = Year\n",
      "\n",
      "-- How was year defined in dimensional?\n",
      "instance Unit Year where\n",
      "  type BaseUnit Year = Hour\n",
      "  conversionRatio _ = 365.25 * 24\n",
      "  \n",
      "instance Show Year where\n",
      "  show _ = \"year\"\n",
      "\n",
      "-- Light years\n",
      "data LightYear = LightYear\n",
      "\n",
      "instance Unit LightYear where\n",
      "  type BaseUnit LightYear = Meter\n",
      "  conversionRatio _ = realToFrac (c # Meter :/ Year)"
     ],
     "language": "python",
     "metadata": {},
     "outputs": [],
     "prompt_number": 35
    },
    {
     "cell_type": "code",
     "collapsed": false,
     "input": [
      "dl 0.3 (hubbleConstant 70) 2 # Giga :@ LightYear"
     ],
     "language": "python",
     "metadata": {},
     "outputs": [
      {
       "metadata": {},
       "output_type": "display_data",
       "text": [
        "50.68335841199911"
       ]
      }
     ],
     "prompt_number": 36
    },
    {
     "cell_type": "markdown",
     "metadata": {
      "hidden": false
     },
     "source": [
      "    luminosity :: Double -> HConstant -> Double -> P.Irradiance Double -> P.RadiantIntensity Double\n",
      "    luminosity om h0 z flux = P._4 P.* P.pi P.* d P.* d P.* flux\n",
      "      where\n",
      "        d = dl om h0 z"
     ]
    },
    {
     "cell_type": "code",
     "collapsed": false,
     "input": [
      "import Data.Units.CGS (Erg(..))"
     ],
     "language": "python",
     "metadata": {},
     "outputs": [],
     "prompt_number": 57
    },
    {
     "cell_type": "code",
     "collapsed": false,
     "input": [
      "luminosity :: Double -> Frequency -> Double -> Luminance -> LuminousIntensity\n",
      "luminosity om h0 z flux = (4 * pi) *| d |*| d |*| flux\n",
      "  where\n",
      "    d = dl om h0 z"
     ],
     "language": "python",
     "metadata": {},
     "outputs": [],
     "prompt_number": 64
    },
    {
     "cell_type": "code",
     "collapsed": false,
     "input": [
      "luminosity 0.3 (hubbleConstant 70) 2 (2e-13 % (Erg :/ (Centi :@ Meter) :^ sTwo :/ Second))"
     ],
     "language": "python",
     "metadata": {},
     "outputs": [
      {
       "html": [
        "<span class='err-msg'>Couldn't match type \u2018Data.Dimensions.SI.LuminousIntensity\u2019 with \u2018Data.Dimensions.SI.Mass\u2019<br/>In the fourth argument of \u2018luminosity\u2019, namely \u2018(2e-13 % (Erg :/ (Centi :@ Meter) :^ sTwo :/ Second))\u2019<br/>In the expression: luminosity 0.3 (hubbleConstant 70) 2 (2e-13 % (Erg :/ (Centi :@ Meter) :^ sTwo :/ Second))<br/>In an equation for \u2018it\u2019: it = luminosity 0.3 (hubbleConstant 70) 2 (2e-13 % (Erg :/ (Centi :@ Meter) :^ sTwo :/ Second))</span>"
       ],
       "metadata": {},
       "output_type": "display_data",
       "text": [
        "Couldn't match type \u2018Data.Dimensions.SI.LuminousIntensity\u2019 with \u2018Data.Dimensions.SI.Mass\u2019\n",
        "In the fourth argument of \u2018luminosity\u2019, namely \u2018(2e-13 % (Erg :/ (Centi :@ Meter) :^ sTwo :/ Second))\u2019\n",
        "In the expression: luminosity 0.3 (hubbleConstant 70) 2 (2e-13 % (Erg :/ (Centi :@ Meter) :^ sTwo :/ Second))\n",
        "In an equation for \u2018it\u2019: it = luminosity 0.3 (hubbleConstant 70) 2 (2e-13 % (Erg :/ (Centi :@ Meter) :^ sTwo :/ Second))"
       ]
      }
     ],
     "prompt_number": 65
    },
    {
     "cell_type": "code",
     "collapsed": false,
     "input": [],
     "language": "python",
     "metadata": {},
     "outputs": [
      {
       "metadata": {},
       "output_type": "display_data"
      }
     ],
     "prompt_number": 61
    },
    {
     "cell_type": "heading",
     "level": 1,
     "metadata": {
      "hidden": false
     },
     "source": [
      "EXPERIMENTAL CODE"
     ]
    },
    {
     "cell_type": "code",
     "collapsed": false,
     "input": [
      "-- How to extend the default LCSU with angles? It probably means\n",
      "-- going to the polymorphic types.\n",
      "--\n",
      "data AngleDim = AngleDim\n",
      "instance Dimension AngleDim where\n",
      "  -- do we need to set this?\n",
      "  type DimFactorsOf AngleDim = '[]\n",
      "\n",
      "type instance DefaultUnitOfDim AngleDim = Radian\n",
      "\n",
      "data Radian = Radian\n",
      "\n",
      "instance Unit Radian where\n",
      "  type BaseUnit Radian = Canonical\n",
      "  type DimOfUnit Radian = AngleDim\n",
      "  \n",
      "instance Show Radian where\n",
      "  show _ = \"rad\"\n",
      "\n",
      "data Degree = Degree\n",
      "instance Unit Degree where\n",
      "  type BaseUnit Degree = Radian\n",
      "  conversionRatio _ = realToFrac (pi / 180.0)\n",
      "  \n",
      "instance Show Degree where\n",
      "  show _ = \"deg\"\n",
      "\n",
      "-- Perhaps should be using MkQu_DLN or some other type synonym?\n",
      "type Angle = MkQu_U Radian\n",
      "\n",
      "{-\n",
      "\n",
      "(0.4::Double) % Radian\n",
      "\n",
      "complains about\n",
      "\n",
      "Could not deduce (Elem Radian '[]) arising from a use of \u2018%\u2019\n",
      "In the expression: (0.4 :: Double) % Radian\n",
      "In an equation for \u2018it\u2019: it = (0.4 :: Double) % Radian\n",
      "\n",
      "No instance for (Unit Radian) arising from a use of \u2018%\u2019\n",
      "In the expression: (0.4 :: Double) % Radian\n",
      "In an equation for \u2018it\u2019: it = (0.4 :: Double) % Radian\n",
      "\n",
      "which is confuing since didn't I just define Unit Radian above?\n",
      "-}"
     ],
     "language": "python",
     "metadata": {},
     "outputs": [],
     "prompt_number": 37
    },
    {
     "cell_type": "code",
     "collapsed": false,
     "input": [
      "(0.4 :: Double) % Radian"
     ],
     "language": "python",
     "metadata": {},
     "outputs": [
      {
       "html": [
        "<span class='err-msg'>Could not deduce (Elem Radian '[]) arising from a use of \u2018%\u2019<br/>In the expression: (0.4 :: Double) % Radian<br/>In an equation for \u2018it\u2019: it = (0.4 :: Double) % Radian<br/><br/>No instance for (Unit Radian) arising from a use of \u2018%\u2019<br/>In the expression: (0.4 :: Double) % Radian<br/>In an equation for \u2018it\u2019: it = (0.4 :: Double) % Radian</span>"
       ],
       "metadata": {},
       "output_type": "display_data",
       "text": [
        "Could not deduce (Elem Radian '[]) arising from a use of \u2018%\u2019\n",
        "In the expression: (0.4 :: Double) % Radian\n",
        "In an equation for \u2018it\u2019: it = (0.4 :: Double) % Radian\n",
        "\n",
        "No instance for (Unit Radian) arising from a use of \u2018%\u2019\n",
        "In the expression: (0.4 :: Double) % Radian\n",
        "In an equation for \u2018it\u2019: it = (0.4 :: Double) % Radian"
       ]
      }
     ],
     "prompt_number": 38
    },
    {
     "cell_type": "code",
     "collapsed": false,
     "input": [],
     "language": "python",
     "metadata": {},
     "outputs": [],
     "prompt_number": 39
    }
   ],
   "metadata": {}
  }
 ]
}