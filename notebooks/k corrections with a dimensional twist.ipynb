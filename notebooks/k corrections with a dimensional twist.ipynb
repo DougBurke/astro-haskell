{
 "metadata": {
  "language": "haskell",
  "name": "",
  "signature": "sha256:3abe96c151629cc6b3b0a25edb5e9e489c118260e6c2b1c9bee782e37cdea1c3"
 },
 "nbformat": 3,
 "nbformat_minor": 0,
 "worksheets": [
  {
   "cells": [
    {
     "cell_type": "markdown",
     "metadata": {
      "hidden": false
     },
     "source": [
      "A quick look at the K correction. http://cxc.harvard.edu/sherpa/threads/calc_kcorr/"
     ]
    },
    {
     "cell_type": "code",
     "collapsed": false,
     "input": [
      "import Numeric.Integration.TanhSinh"
     ],
     "language": "python",
     "metadata": {
      "hidden": false
     },
     "outputs": []
    },
    {
     "cell_type": "code",
     "collapsed": false,
     "input": [
      "import IHaskell.Display\n",
      "import Graphics.Rendering.Chart.Backend.Diagrams\n",
      "\n",
      "import Graphics.Rendering.Chart.Easy"
     ],
     "language": "python",
     "metadata": {},
     "outputs": []
    },
    {
     "cell_type": "code",
     "collapsed": false,
     "input": [
      "instance IHaskellDisplay (Renderable a) where\n",
      "  display renderable = renderableToSVG renderable 450 300 >>= display . fst"
     ],
     "language": "python",
     "metadata": {},
     "outputs": []
    },
    {
     "cell_type": "code",
     "collapsed": false,
     "input": [
      "-- Integrate up a model, in units of photons/cm^2/s/keV, over\n",
      "-- the given energy range, in keV.\n",
      "--\n",
      "-- The actual units aren't important, as long as they have the\n",
      "-- right dimensions.\n",
      "--\n",
      "iModel mdl elo ehi = result (absolute 1.0e-6 (simpson mdl elo ehi))"
     ],
     "language": "python",
     "metadata": {},
     "outputs": []
    },
    {
     "cell_type": "code",
     "collapsed": false,
     "input": [
      ":t iModel"
     ],
     "language": "python",
     "metadata": {},
     "outputs": []
    },
    {
     "cell_type": "code",
     "collapsed": false,
     "input": [
      "-- A simple power-law model, where the spectrum, in units\n",
      "-- of photons/cm^2/s/KeV, is given by\n",
      "--        A E^(-gamma)\n",
      "-- where E is in keV\n",
      "--\n",
      "plMdl a gamma e = a * e**(-gamma)"
     ],
     "language": "python",
     "metadata": {},
     "outputs": []
    },
    {
     "cell_type": "code",
     "collapsed": false,
     "input": [
      ":t plMdl"
     ],
     "language": "python",
     "metadata": {},
     "outputs": []
    },
    {
     "cell_type": "code",
     "collapsed": false,
     "input": [
      "plotModel mdl elo ehi = toRenderable (do\n",
      "    layout_title .= \"Model\"\n",
      "    layout_x_axis . laxis_title .= \"E (keV)\"\n",
      "    layout_y_axis . laxis_title .= \"photon / cm^2 / s / keV\"\n",
      "    plot (line \"\" [cs])\n",
      "    )\n",
      "  where\n",
      "    de = 0.01\n",
      "    es = [elo, elo + de .. ehi]\n",
      "    cs = map (\\e -> (e, mdl e)) es"
     ],
     "language": "python",
     "metadata": {},
     "outputs": []
    },
    {
     "cell_type": "code",
     "collapsed": false,
     "input": [
      ":t plotModel"
     ],
     "language": "python",
     "metadata": {},
     "outputs": []
    },
    {
     "cell_type": "code",
     "collapsed": false,
     "input": [
      "plotModel (plMdl 1 2) 0.1 10"
     ],
     "language": "python",
     "metadata": {},
     "outputs": []
    },
    {
     "cell_type": "code",
     "collapsed": false,
     "input": [
      "-- The xconv and yconv values allow the user to specify how\n",
      "-- to convert the values: the obvious choices for these parameters\n",
      "-- are id (linear) or LogValue (log).\n",
      "--\n",
      "plotModelHelper xconv yconv mdl elo ehi = toRenderable (do\n",
      "    layout_title .= \"Model\"\n",
      "    layout_x_axis . laxis_title .= \"E (keV)\"\n",
      "    layout_y_axis . laxis_title .= \"photon / cm^2 / s / keV\"\n",
      "    plot (line \"\" [cs])\n",
      "    )\n",
      "  where\n",
      "    de = 0.01\n",
      "    es = [elo, elo + de .. ehi]\n",
      "    cs = map (\\e -> (xconv e, yconv (mdl e))) es\n",
      "    \n",
      "plotModel = plotModelHelper id id\n",
      "plotModelLL = plotModelHelper LogValue LogValue"
     ],
     "language": "python",
     "metadata": {
      "hidden": false
     },
     "outputs": []
    },
    {
     "cell_type": "code",
     "collapsed": false,
     "input": [
      "plotModel (plMdl 1 2) 0.1 10"
     ],
     "language": "python",
     "metadata": {},
     "outputs": []
    },
    {
     "cell_type": "code",
     "collapsed": false,
     "input": [
      "plotModelLL (plMdl 1 2) 0.1 10"
     ],
     "language": "python",
     "metadata": {},
     "outputs": []
    },
    {
     "cell_type": "code",
     "collapsed": false,
     "input": [
      "iModel (plMdl 1 2) 0.1 10"
     ],
     "language": "python",
     "metadata": {},
     "outputs": []
    },
    {
     "cell_type": "markdown",
     "metadata": {
      "hidden": false
     },
     "source": [
      "$$ \\int_{e_1}^{e_2} a e^{-\\gamma} {\\rm d}e = \\frac{a (e_2^{1-\\gamma} - e_1^{1-\\gamma})}{1-\\gamma}$$\n",
      "\n",
      "assuming $\\gamma$ is not $-1$."
     ]
    },
    {
     "cell_type": "code",
     "collapsed": false,
     "input": [
      "exact a gamma e1 e2 = let p = 1-gamma in a * (e2**p - e1**p) / p"
     ],
     "language": "python",
     "metadata": {},
     "outputs": []
    },
    {
     "cell_type": "code",
     "collapsed": false,
     "input": [
      "exact 1 2 0.1 10"
     ],
     "language": "python",
     "metadata": {},
     "outputs": []
    },
    {
     "cell_type": "code",
     "collapsed": false,
     "input": [
      "kcorr mdl elo ehi z = \n",
      "  let rest = iModel mdl (elo * zp1) (ehi * zp1)\n",
      "      obs  = iModel mdl elo ehi\n",
      "      zp1  = 1 + z\n",
      "  in rest / obs"
     ],
     "language": "python",
     "metadata": {},
     "outputs": []
    },
    {
     "cell_type": "code",
     "collapsed": false,
     "input": [
      "kcorr (plMdl 1 2) 0.1 10 0.5"
     ],
     "language": "python",
     "metadata": {},
     "outputs": []
    },
    {
     "cell_type": "code",
     "collapsed": false,
     "input": [
      "plotKZ mdl elo ehi = toRenderable (do\n",
      "    layout_title .= \"K correction\"\n",
      "    layout_x_axis . laxis_title .= \"z\"\n",
      "    layout_y_axis . laxis_title .= \"k(z)\"\n",
      "    plot (line \"\" [cs])\n",
      "    )\n",
      "  where\n",
      "    dz = 0.01\n",
      "    zs = [0, dz .. 10]\n",
      "    cs = map (\\z -> (z, y z)) zs\n",
      "    y = kcorr mdl elo ehi"
     ],
     "language": "python",
     "metadata": {},
     "outputs": []
    },
    {
     "cell_type": "code",
     "collapsed": false,
     "input": [
      "plotKZ (plMdl 1 2) 0.1 10"
     ],
     "language": "python",
     "metadata": {},
     "outputs": []
    },
    {
     "cell_type": "code",
     "collapsed": false,
     "input": [
      "ekcorr a gamma elo ehi z = \n",
      "  let rest = exact a gamma (elo * zp1) (ehi * zp1)\n",
      "      obs  = exact a gamma elo ehi\n",
      "      zp1  = 1 + z\n",
      "  in rest / obs"
     ],
     "language": "python",
     "metadata": {},
     "outputs": []
    },
    {
     "cell_type": "code",
     "collapsed": false,
     "input": [
      "kcorr (plMdl 1 2) 0.1 10 0.5\n",
      "ekcorr 1 2 0.1 10 0.5"
     ],
     "language": "python",
     "metadata": {},
     "outputs": []
    },
    {
     "cell_type": "heading",
     "level": 2,
     "metadata": {
      "hidden": false
     },
     "source": [
      "What would it mean to include units?"
     ]
    },
    {
     "cell_type": "markdown",
     "metadata": {
      "hidden": false
     },
     "source": [
      "Let's try `dimensional-tf` since I hit some speed bumps with `units`, so I want\n",
      "to see if I can work something out here that may help me with `units`."
     ]
    },
    {
     "cell_type": "code",
     "collapsed": false,
     "input": [
      "import qualified Numeric.Units.Dimensional.TF.Prelude as P\n",
      "import Numeric.Units.Dimensional.TF.NonSI (electronVolt)\n",
      "import qualified Numeric.NumType.TF as N"
     ],
     "language": "python",
     "metadata": {
      "hidden": false
     },
     "outputs": []
    },
    {
     "cell_type": "code",
     "collapsed": false,
     "input": [
      "-- measure the flux in photon/cm^2/s and the flux density in\n",
      "-- photon/cm^2/s/keV\n",
      "--\n",
      "type Energy = P.Energy Double\n",
      "\n",
      "type DPhotonFluxDensity = P.Dim N.Neg4 N.Neg1 N.Pos1 N.Zero N.Zero N.Zero N.Zero\n",
      "type PhotonFluxDensity = P.Quantity DPhotonFluxDensity Double\n",
      "\n",
      "type DPhotonFlux = P.Dim N.Neg2 N.Zero N.Neg1 N.Zero N.Zero N.Zero N.Zero\n",
      "type PhotonFlux = P.Quantity DPhotonFlux Double\n",
      "\n",
      "photonFluxDensity :: P.Unit DPhotonFluxDensity Double\n",
      "photonFluxDensity = P.one P./ (P.centi P.meter P.* P.centi P.meter) P./ P.second P./ P.kilo electronVolt\n",
      "\n",
      "photonFlux :: P.Unit DPhotonFlux Double\n",
      "photonFlux = P.one P./ (P.centi P.meter P.* P.centi P.metre) P./ P.second"
     ],
     "language": "python",
     "metadata": {
      "hidden": false
     },
     "outputs": []
    },
    {
     "cell_type": "code",
     "collapsed": false,
     "input": [
      "plMdl2 :: PhotonFluxDensity -> Double -> Energy -> PhotonFluxDensity\n",
      "plMdl2 a gamma e = let eref = e P./~ P.kilo electronVolt\n",
      "                       eterm = eref ** (-gamma)\n",
      "                   in a P.* (eterm P.*~ P.one)"
     ],
     "language": "python",
     "metadata": {
      "hidden": false
     },
     "outputs": []
    },
    {
     "cell_type": "code",
     "collapsed": false,
     "input": [
      "plMdl2 (1 P.*~ photonFluxDensity) (-2) (1.2 P.*~ P.kilo electronVolt)"
     ],
     "language": "python",
     "metadata": {
      "hidden": false
     },
     "outputs": []
    },
    {
     "cell_type": "code",
     "collapsed": false,
     "input": [
      "plMdl2 (1 P.*~ photonFluxDensity) (-2) (1.2 P.*~ P.kilo electronVolt) P./~ photonFluxDensity"
     ],
     "language": "python",
     "metadata": {
      "hidden": false
     },
     "outputs": []
    },
    {
     "cell_type": "code",
     "collapsed": false,
     "input": [
      "plMdl2 (1 P.*~ photonFluxDensity) (-2) (1200 P.*~ electronVolt) P./~ photonFluxDensity"
     ],
     "language": "python",
     "metadata": {
      "hidden": false
     },
     "outputs": []
    },
    {
     "cell_type": "markdown",
     "metadata": {
      "hidden": false
     },
     "source": [
      "Hmm, I thought for a moment that I could use `plotModelHelper` to display `plMdl2` but\n",
      "the `xconv` and `yconv` aruments aren't applied at the right place to \"remove\" the\n",
      "types."
     ]
    },
    {
     "cell_type": "code",
     "collapsed": false,
     "input": [],
     "language": "python",
     "metadata": {
      "hidden": false
     },
     "outputs": []
    }
   ],
   "metadata": {}
  }
 ]
}