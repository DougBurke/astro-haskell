{
 "cells": [
  {
   "cell_type": "markdown",
   "metadata": {},
   "source": [
    "The information presented here is placed in the public domain, and was written by\n",
    "[Doug Burke](https://plus.google.com/+DougBurke). The \n",
    "notebook used to create this page is available\n",
    "([empty](https://github.com/DougBurke/astro-haskell/blob/master/notebooks/a%20FITSfull%20of20ARF.ipynb)\n",
    "or \n",
    "[filled](https://github.com/DougBurke/astro-haskell/blob/master/finished/a%20FITSfull%20of%20ARF.ipynb)),\n",
    "and questions can be asked using the\n",
    "[GitHub issues page](https://github.com/DougBurke/astro-haskell/issues)\n",
    "or via Twitter: <https://twitter.com/doug_burke>.\n",
    "\n",
    "It will probably make a lot-more sense if you have already read the\n",
    "[previous entries](https://github.com/DougBurke/astro-haskell/blob/master/README.md)\n",
    "in this \"series\"."
   ]
  },
  {
   "cell_type": "markdown",
   "metadata": {},
   "source": [
    "# Reading in Astronomy data"
   ]
  },
  {
   "cell_type": "markdown",
   "metadata": {},
   "source": [
    "Today I'm going to read in some Astronomy data and plot it. This will require\n",
    "manually parsing a \n",
    "[FITS (Flexible Image Transport System)](http://en.wikipedia.org/wiki/FITS)\n",
    "[binary table](https://archive.stsci.edu/fits/fits_standard/node67.html)\n",
    "file$^\\dagger$; it was going to be more automated, but the post was getting too long\n",
    "so I decided to leave that part for another day \n",
    "and just stick with the manual code below (one of my current pet ideas\n",
    "is to provide a simple FITS back end to the \n",
    "[Frames](http://acowley.github.io/Frames/)\n",
    "library for reading in data from FITS files, so maybe I'll write something up soon if I get time to work\n",
    "on it).\n",
    "\n",
    "I have updated to the development version of `IHaskell`, rather than the version on\n",
    "[Hackage](https://hackage.haskell.org/), to see if it fixed some issues I was seeing\n",
    "(which it did). One of the changes this has made is to jump to IPython 3.0 - a.k.a. the \n",
    "[Jupyter project](https://jupyter.org/) - which will hopefully not be a problem for\n",
    "people playing along at home.\n",
    "\n",
    "$^\\dagger$ We normally use the acronym - i.e. FITS - and forget about the fact that we are\n",
    "using what is ostensibly an image format to read in tabular data."
   ]
  },
  {
   "cell_type": "markdown",
   "metadata": {},
   "source": [
    "## Last time the notebook was run"
   ]
  },
  {
   "cell_type": "code",
   "execution_count": 1,
   "metadata": {
    "collapsed": false
   },
   "outputs": [
    {
     "data": {
      "text/plain": [
       "2015-04-05 20:57:31.597228 UTC"
      ]
     },
     "metadata": {},
     "output_type": "display_data"
    }
   ],
   "source": [
    "import Data.Time\n",
    "getCurrentTime"
   ]
  },
  {
   "cell_type": "markdown",
   "metadata": {},
   "source": [
    "## What on earth is an ARF?"
   ]
  },
  {
   "cell_type": "markdown",
   "metadata": {},
   "source": [
    "The file I want to display contains an \"effective area\"\n",
    "curve for a source observed by the \n",
    "[Chandra X-ray Observatory](http://chandra.harvard.edu/). This curve is known,\n",
    "to X-ray astronomers, as an \n",
    "[ARF (Auxiliary Response File)](http://cxc.harvard.edu/ciao/dictionary/arf.html)$^\\dagger$.\n",
    "I can use one of the tools that we provide as part of\n",
    "[CIAO](http://cxc.harvard.edu/ciao/)$^\\ast$ to display some important information about the\n",
    "file.\n",
    "\n",
    "$^\\dagger$ Wow, a [TLA](http://en.wikipedia.org/wiki/Three-letter_acronym) that isn't on Wikipedia!\n",
    "\n",
    "$^\\ast$ We in the Science Data Systems group in the CXC \n",
    "are particularly proud of this contrived acronym, even if \n",
    "[we can't distinguish between a language and a dialect](http://cxc.harvard.edu/ciao/ciao_note.html).\n",
    "\n",
    "The [`dmlist`](http://cxc.harvard.edu/ciao/ahelp/dmlist.html) tool is used to display the structure and contents of the file formats\n",
    "we use when analyzing X-ray data:\n",
    "\n",
    "```\n",
    "% dmlist src.arf blocks\n",
    " \n",
    "--------------------------------------------------------------------------------\n",
    "Dataset: src.arf\n",
    "--------------------------------------------------------------------------------\n",
    " \n",
    "     Block Name                          Type         Dimensions\n",
    "--------------------------------------------------------------------------------\n",
    "Block    1: PRIMARY                        Null        \n",
    "Block    2: SPECRESP                       Table         3 cols x 1070     rows\n",
    "```\n",
    "\n",
    "So, there are two \"blocks\" of data in the file, with the first one being empty. This is actually\n",
    "a consequence of the I in FITS, where the first block$^\\ddagger$ can either be empty or contain\n",
    "image data. A result of this is that tabular data is always relagated to the second (or later)\n",
    "block. \n",
    "\n",
    "We can also see what columns are stored in the table:\n",
    "\n",
    "```\n",
    "% dmlist src.arf cols\n",
    " \n",
    "--------------------------------------------------------------------------------\n",
    "Columns for Table Block SPECRESP\n",
    "--------------------------------------------------------------------------------\n",
    " \n",
    "ColNo  Name                 Unit        Type             Range\n",
    "   1   ENERG_LO             keV          Real4          -Inf:+Inf            Min Energy\n",
    "   2   ENERG_HI             keV          Real4          -Inf:+Inf            Max Energy\n",
    "   3   SPECRESP             cm**2        Real4          -Inf:+Inf            Effective Area\n",
    "```\n",
    "\n",
    "and even see some of the data (which will be useful later, when I want to check that I've\n",
    "actually read things in properly):\n",
    "\n",
    "```\n",
    "% dmlist \"src.arf[#row=1:5]\" data\n",
    " \n",
    "--------------------------------------------------------------------------------\n",
    "Data for Table Block SPECRESP\n",
    "--------------------------------------------------------------------------------\n",
    " \n",
    "ROW    ENERG_LO             ENERG_HI             SPECRESP\n",
    " \n",
    "     1     0.30000001192093     0.31000000238419         4.8743429184\n",
    "     2     0.31000000238419     0.31999999284744        14.8292617798\n",
    "     3     0.31999999284744     0.33000001311302        21.3022918701\n",
    "     4     0.33000001311302     0.34000000357628        28.5149517059\n",
    "     5     0.34000000357628     0.34999999403954        35.3988304138\n",
    "```\n",
    "\n",
    "$^\\ddagger$ I really should use the term `HDU` - which means Header/Data Unit - rather than block,\n",
    "but in CIAO we tend to use the term block, and as the\n",
    "Chandra X-ray Center pay my bills I'm sticking with this terminology.\n",
    "\n",
    "So, how can I read in the data? Well, I happen to know that the data is stored in blocks of text (US ASCII) for the metadata, interspersed by binary blocks for the actual data. More detailed information is\n",
    "available at the\n",
    "[FITS primer](http://fits.gsfc.nasa.gov/fits_primer.html)\n",
    "and the\n",
    "[FITS standard](https://archive.stsci.edu/fits/fits_standard/fits_standard.html)\n",
    "will also be required reading (if you are having trouble sleeping). I'll just add a note\n",
    "to say that in Astronomy we use the FITS standard but then layer on more domain-specific standards\n",
    "(occasionally these are \"best practices\" rather than any real form of a standard) to enhance the\n",
    "data representation (in particular for the metadata). This isn't really important for what I'm about to\n",
    "do, but I thought I'd mention it. There should also be addendums to the standard, since it has \n",
    "changed over time, but they aren't important for today's work.\n",
    "\n",
    "I'll start by loading in the file as a [bytestring](https://hackage.haskell.org/package/bytestring),\n",
    "picking the `Char8` variant since the text is in US ASCII format. It would be interesting to do\n",
    "this via a streaming interface, but for this example that would be overkill."
   ]
  },
  {
   "cell_type": "code",
   "execution_count": 2,
   "metadata": {
    "collapsed": true
   },
   "outputs": [],
   "source": [
    "import qualified Data.ByteString.Char8 as B8"
   ]
  },
  {
   "cell_type": "markdown",
   "metadata": {},
   "source": [
    "There are several representations for text-like data in Haskell: the language standard defines\n",
    "the `String` type, then there are `ByteString` and `Text` values which are more efficient (and have\n",
    "subtly-different use cases). This means that we end up with a bunch of routines \n",
    "that do the same thing,\n",
    "and often have the same name, but work on different data types$^\\dagger$.\n",
    "For example, there's a `readFile` function in the standard Haskell prelude$^\\ddagger$, but \n",
    "this returns a `String`, so I need to use the ByteString version, which I indicate\n",
    "using the prefix I just defined: `B8.readFile`.\n",
    "\n",
    "$^\\dagger$ There's enough semantic differences in operations that a universal \"string-like\" typeclass hasn't \n",
    "become popular enough in the community.\n",
    "\n",
    "$^\\ddagger$ the prelude is the name for the \"default set of symbols\" you get to use in Haskell (as it's a module\n",
    "name I should refer to it as `Prelude`)."
   ]
  },
  {
   "cell_type": "code",
   "execution_count": 3,
   "metadata": {
    "collapsed": false
   },
   "outputs": [
    {
     "data": {
      "text/html": [
       "<style>/*\n",
       "Custom IHaskell CSS.\n",
       "*/\n",
       "\n",
       "/* Styles used for the Hoogle display in the pager */\n",
       ".hoogle-doc {\n",
       "    display: block;\n",
       "    padding-bottom: 1.3em;\n",
       "    padding-left: 0.4em;\n",
       "}\n",
       ".hoogle-code {\n",
       "    display: block;\n",
       "    font-family: monospace;\n",
       "    white-space: pre;\n",
       "}\n",
       ".hoogle-text {\n",
       "    display: block;\n",
       "}\n",
       ".hoogle-name {\n",
       "    color: green;\n",
       "    font-weight: bold;\n",
       "}\n",
       ".hoogle-head {\n",
       "    font-weight: bold;\n",
       "}\n",
       ".hoogle-sub {\n",
       "    display: block;\n",
       "    margin-left: 0.4em;\n",
       "}\n",
       ".hoogle-package {\n",
       "    font-weight: bold;\n",
       "    font-style: italic;\n",
       "}\n",
       ".hoogle-module {\n",
       "    font-weight: bold;\n",
       "}\n",
       ".hoogle-class {\n",
       "    font-weight: bold;\n",
       "}\n",
       "\n",
       "/* Styles used for basic displays */\n",
       ".get-type {\n",
       "    color: green;\n",
       "    font-weight: bold;\n",
       "    font-family: monospace;\n",
       "    display: block;\n",
       "    white-space: pre-wrap;\n",
       "}\n",
       "\n",
       ".show-type {\n",
       "    color: green;\n",
       "    font-weight: bold;\n",
       "    font-family: monospace;\n",
       "    margin-left: 1em;\n",
       "}\n",
       "\n",
       ".mono {\n",
       "    font-family: monospace;\n",
       "    display: block;\n",
       "}\n",
       "\n",
       ".err-msg {\n",
       "    color: red;\n",
       "    font-style: italic;\n",
       "    font-family: monospace;\n",
       "    white-space: pre;\n",
       "    display: block;\n",
       "}\n",
       "\n",
       "#unshowable {\n",
       "    color: red;\n",
       "    font-weight: bold;\n",
       "}\n",
       "\n",
       ".err-msg.in.collapse {\n",
       "  padding-top: 0.7em;\n",
       "}\n",
       "\n",
       "/* Code that will get highlighted before it is highlighted */\n",
       ".highlight-code {\n",
       "    white-space: pre;\n",
       "    font-family: monospace;\n",
       "}\n",
       "\n",
       "/* Hlint styles */\n",
       ".suggestion-warning { \n",
       "    font-weight: bold;\n",
       "    color: rgb(200, 130, 0);\n",
       "}\n",
       ".suggestion-error { \n",
       "    font-weight: bold;\n",
       "    color: red;\n",
       "}\n",
       ".suggestion-name {\n",
       "    font-weight: bold;\n",
       "}\n",
       "</style><span class='get-type'>cts :: ByteString</span>"
      ],
      "text/plain": [
       "cts :: ByteString"
      ]
     },
     "metadata": {},
     "output_type": "display_data"
    }
   ],
   "source": [
    "cts <- B8.readFile \"../data/src.arf\"\n",
    ":type cts"
   ]
  },
  {
   "cell_type": "markdown",
   "metadata": {},
   "source": [
    "Let's see how large the file is\n",
    "(since this is the \n",
    "[`Char8`](https://hackage.haskell.org/package/bytestring-0.10.6.0/docs/Data-ByteString-Char8.html)\n",
    "version of a bytestring, we don't have to worry about non-eight-bit characters):"
   ]
  },
  {
   "cell_type": "code",
   "execution_count": 4,
   "metadata": {
    "collapsed": false
   },
   "outputs": [
    {
     "data": {
      "text/plain": [
       "34560"
      ]
     },
     "metadata": {},
     "output_type": "display_data"
    }
   ],
   "source": [
    "B8.length cts"
   ]
  },
  {
   "cell_type": "markdown",
   "metadata": {},
   "source": [
    "Now, FITS files are written in chunks of `2880` bytes - that is, the file is padded with\n",
    "trailing space characters (or null bytes) if needed - so how many chunks are there?"
   ]
  },
  {
   "cell_type": "code",
   "execution_count": 5,
   "metadata": {
    "collapsed": false
   },
   "outputs": [
    {
     "data": {
      "text/html": [
       "<style>/*\n",
       "Custom IHaskell CSS.\n",
       "*/\n",
       "\n",
       "/* Styles used for the Hoogle display in the pager */\n",
       ".hoogle-doc {\n",
       "    display: block;\n",
       "    padding-bottom: 1.3em;\n",
       "    padding-left: 0.4em;\n",
       "}\n",
       ".hoogle-code {\n",
       "    display: block;\n",
       "    font-family: monospace;\n",
       "    white-space: pre;\n",
       "}\n",
       ".hoogle-text {\n",
       "    display: block;\n",
       "}\n",
       ".hoogle-name {\n",
       "    color: green;\n",
       "    font-weight: bold;\n",
       "}\n",
       ".hoogle-head {\n",
       "    font-weight: bold;\n",
       "}\n",
       ".hoogle-sub {\n",
       "    display: block;\n",
       "    margin-left: 0.4em;\n",
       "}\n",
       ".hoogle-package {\n",
       "    font-weight: bold;\n",
       "    font-style: italic;\n",
       "}\n",
       ".hoogle-module {\n",
       "    font-weight: bold;\n",
       "}\n",
       ".hoogle-class {\n",
       "    font-weight: bold;\n",
       "}\n",
       "\n",
       "/* Styles used for basic displays */\n",
       ".get-type {\n",
       "    color: green;\n",
       "    font-weight: bold;\n",
       "    font-family: monospace;\n",
       "    display: block;\n",
       "    white-space: pre-wrap;\n",
       "}\n",
       "\n",
       ".show-type {\n",
       "    color: green;\n",
       "    font-weight: bold;\n",
       "    font-family: monospace;\n",
       "    margin-left: 1em;\n",
       "}\n",
       "\n",
       ".mono {\n",
       "    font-family: monospace;\n",
       "    display: block;\n",
       "}\n",
       "\n",
       ".err-msg {\n",
       "    color: red;\n",
       "    font-style: italic;\n",
       "    font-family: monospace;\n",
       "    white-space: pre;\n",
       "    display: block;\n",
       "}\n",
       "\n",
       "#unshowable {\n",
       "    color: red;\n",
       "    font-weight: bold;\n",
       "}\n",
       "\n",
       ".err-msg.in.collapse {\n",
       "  padding-top: 0.7em;\n",
       "}\n",
       "\n",
       "/* Code that will get highlighted before it is highlighted */\n",
       ".highlight-code {\n",
       "    white-space: pre;\n",
       "    font-family: monospace;\n",
       "}\n",
       "\n",
       "/* Hlint styles */\n",
       ".suggestion-warning { \n",
       "    font-weight: bold;\n",
       "    color: rgb(200, 130, 0);\n",
       "}\n",
       ".suggestion-error { \n",
       "    font-weight: bold;\n",
       "    color: red;\n",
       "}\n",
       ".suggestion-name {\n",
       "    font-weight: bold;\n",
       "}\n",
       "</style><span class='err-msg'>No instance for (Fractional Int) arising from a use of ‘/’<br/>In the expression: len / 2880<br/>In an equation for ‘it’: it = len / 2880</span>"
      ],
      "text/plain": [
       "No instance for (Fractional Int) arising from a use of ‘/’\n",
       "In the expression: len / 2880\n",
       "In an equation for ‘it’: it = len / 2880"
      ]
     },
     "metadata": {},
     "output_type": "display_data"
    }
   ],
   "source": [
    "len = B8.length cts\n",
    "len / 2880"
   ]
  },
  {
   "cell_type": "markdown",
   "metadata": {},
   "source": [
    "Argh!!! This type-safe language has stopped me from making a type error and it's annoying! The length function returns an `Int` but the division operator `/` requires a \n",
    "[`Fractional` constraint](http://hackage.haskell.org/package/base-4.7.0.2/docs/Prelude.html#t:Fractional), and the\n",
    "error is telling me that integers (or, at least values with a type of `Int`), aren't fractional. What I need\n",
    "is to use functions from the\n",
    "[`Integral` typeclass](http://hackage.haskell.org/package/base-4.7.0.2/docs/Prelude.html#t:Integral): in this case\n",
    "I'm going to use\n",
    "[`divMod`](http://hackage.haskell.org/package/base-4.7.0.2/docs/Prelude.html#v:quotRem) to return both the number\n",
    "of blocks and any remainder."
   ]
  },
  {
   "cell_type": "code",
   "execution_count": 6,
   "metadata": {
    "collapsed": false
   },
   "outputs": [
    {
     "data": {
      "text/plain": [
       "(12,0)"
      ]
     },
     "metadata": {},
     "output_type": "display_data"
    }
   ],
   "source": [
    "len `divMod` 2880"
   ]
  },
  {
   "cell_type": "markdown",
   "metadata": {},
   "source": [
    "So, the file contains 12 chunks. As a reminder, or perhaps I haven't mentioned it before, binary functions such as `divMod` can be written in\n",
    "\"infix\" form by \"quoting\" there name; that is, the above is equal to\n",
    "\n",
    "```\n",
    "divMod len 2880\n",
    "```\n",
    "\n",
    "I tend to use the infix form if it makes it clearer (to me) what the arguments mean. There are also those\n",
    "binary functions - such as `+` - which are defined as being \"infix\" so do not need the back ticks; \n",
    "however, when used in prefix form they must be surrounded by `()`:"
   ]
  },
  {
   "cell_type": "code",
   "execution_count": 7,
   "metadata": {
    "collapsed": false
   },
   "outputs": [
    {
     "data": {
      "text/plain": [
       "3"
      ]
     },
     "metadata": {},
     "output_type": "display_data"
    },
    {
     "data": {
      "text/plain": [
       "3"
      ]
     },
     "metadata": {},
     "output_type": "display_data"
    }
   ],
   "source": [
    "1 + 2\n",
    "(+) 1 2"
   ]
  },
  {
   "cell_type": "markdown",
   "metadata": {},
   "source": [
    "Since the value `2880` is going to be used a few times below, let's \"name\" it:"
   ]
  },
  {
   "cell_type": "code",
   "execution_count": 8,
   "metadata": {
    "collapsed": true
   },
   "outputs": [],
   "source": [
    "chunk :: Int\n",
    "chunk = 2880"
   ]
  },
  {
   "cell_type": "markdown",
   "metadata": {},
   "source": [
    "Now, FITS files start with a Header Unit, that is `2880*n` characters of ASCII text (where `n` is an integer),\n",
    "and these header units are broken up every 80 characters (known as a \"card\"). So, let's look at the \n",
    "contents of the first card:"
   ]
  },
  {
   "cell_type": "code",
   "execution_count": 9,
   "metadata": {
    "collapsed": false
   },
   "outputs": [
    {
     "data": {
      "text/plain": [
       "\"SIMPLE  =                    T / file does conform to FITS standard             \""
      ]
     },
     "metadata": {},
     "output_type": "display_data"
    }
   ],
   "source": [
    "B8.take 80 cts"
   ]
  },
  {
   "cell_type": "markdown",
   "metadata": {},
   "source": [
    "Each card can be considered to be a keyword/value pair with an optional comment (or description). The\n",
    "values are typed, in the sense that there are strings, booleans, integers, or floats, but there's no\n",
    "syntactic contraint that a given key has a specific type. The layout is pretty simple\n",
    "\n",
    " - name of the keyword in the first 8 characters (which can only be `A-Z`, `0-9`, `-` or `_`; I was under\n",
    "   the impression that the name had to start with `A-Z` but this may not be the case,\n",
    "   or it's clarified in some later document)\n",
    "   \n",
    " - characters 9 and 10 are `\"= \"` (actually, there's a few informational keywords that don't have\n",
    "   this, but I'm just going to ignore those today, since they are metadata about the metadata)\n",
    "\n",
    " - a string representation of the value: a character string, boolean, integer, floating point,\n",
    "   or complex number\n",
    "   \n",
    " - an optional description (or comment) which is started with the `/` character.\n",
    "  \n",
    "A more detailed description of these elements can be found in the\n",
    "[FITS standard](https://archive.stsci.edu/fits/fits_standard/node26.html).\n",
    "\n",
    "At this point you should be wondering why Astronomers use a format that requires\n",
    "them to write their own parser. Well, we do have standard parsers - a recent entrant is the\n",
    "[`astropy` Python package](http://www.astropy.org/) and the most-used compiled version\n",
    "is the\n",
    "[CFITSIO library](http://heasarc.gsfc.nasa.gov/fitsio/fitsio.html) - but I wanted to\n",
    "explore some simple parsing in Haskell.\n",
    "\n",
    "Let's start by splitting up the input into cards, that is, 80-character chunks, using\n",
    "[splitAt](http://hackage.haskell.org/package/bytestring-0.10.6.0/docs/Data-ByteString-Char8.html#v:splitAt):"
   ]
  },
  {
   "cell_type": "code",
   "execution_count": 10,
   "metadata": {
    "collapsed": false
   },
   "outputs": [],
   "source": [
    "-- As a reminder, type introduces a synonym which can be used to help document a\n",
    "-- function (in this case, which part of the return is the card and which the\n",
    "-- remaining input), but it provides no \"extra\" type safety, since it is\n",
    "-- perfectly fine to treat a Card as a ByteString (since that is what it is),\n",
    "-- or vice versa.\n",
    "--\n",
    "type Card = B8.ByteString\n",
    "\n",
    "-- | Given a string, split off the next 80 characters and return the remaining values.\n",
    "getCard :: B8.ByteString -> (Card, B8.ByteString)\n",
    "getCard = B8.splitAt 80"
   ]
  },
  {
   "cell_type": "markdown",
   "metadata": {},
   "source": [
    "Here I've taken advantage of \n",
    "[partial application](http://en.wikipedia.org/wiki/Partial_application) to define `getCard`. I could\n",
    "have explicitly included the input variable, as in the following definition\n",
    "\n",
    "```\n",
    "getCard bs = B8.splitAt 80 bs\n",
    "```\n",
    "\n",
    "but it's common to see the partially-applied version (one argument for this form is that you focus more on the \n",
    "code because you aren't distracted by variables that aren't actually \"doing anything\"). This approach\n",
    "is so common that the \"standard\" [Haskell linting tool](http://en.wikipedia.org/wiki/Lint_%28software%29)\n",
    "will complain if it thinks you've not been eta-reducing enough. The notebook runs this linter by default, \n",
    "so we can see an example of this suggestion:"
   ]
  },
  {
   "cell_type": "code",
   "execution_count": 11,
   "metadata": {
    "collapsed": false
   },
   "outputs": [
    {
     "data": {
      "text/html": [
       "<style>/*\n",
       "Custom IHaskell CSS.\n",
       "*/\n",
       "\n",
       "/* Styles used for the Hoogle display in the pager */\n",
       ".hoogle-doc {\n",
       "    display: block;\n",
       "    padding-bottom: 1.3em;\n",
       "    padding-left: 0.4em;\n",
       "}\n",
       ".hoogle-code {\n",
       "    display: block;\n",
       "    font-family: monospace;\n",
       "    white-space: pre;\n",
       "}\n",
       ".hoogle-text {\n",
       "    display: block;\n",
       "}\n",
       ".hoogle-name {\n",
       "    color: green;\n",
       "    font-weight: bold;\n",
       "}\n",
       ".hoogle-head {\n",
       "    font-weight: bold;\n",
       "}\n",
       ".hoogle-sub {\n",
       "    display: block;\n",
       "    margin-left: 0.4em;\n",
       "}\n",
       ".hoogle-package {\n",
       "    font-weight: bold;\n",
       "    font-style: italic;\n",
       "}\n",
       ".hoogle-module {\n",
       "    font-weight: bold;\n",
       "}\n",
       ".hoogle-class {\n",
       "    font-weight: bold;\n",
       "}\n",
       "\n",
       "/* Styles used for basic displays */\n",
       ".get-type {\n",
       "    color: green;\n",
       "    font-weight: bold;\n",
       "    font-family: monospace;\n",
       "    display: block;\n",
       "    white-space: pre-wrap;\n",
       "}\n",
       "\n",
       ".show-type {\n",
       "    color: green;\n",
       "    font-weight: bold;\n",
       "    font-family: monospace;\n",
       "    margin-left: 1em;\n",
       "}\n",
       "\n",
       ".mono {\n",
       "    font-family: monospace;\n",
       "    display: block;\n",
       "}\n",
       "\n",
       ".err-msg {\n",
       "    color: red;\n",
       "    font-style: italic;\n",
       "    font-family: monospace;\n",
       "    white-space: pre;\n",
       "    display: block;\n",
       "}\n",
       "\n",
       "#unshowable {\n",
       "    color: red;\n",
       "    font-weight: bold;\n",
       "}\n",
       "\n",
       ".err-msg.in.collapse {\n",
       "  padding-top: 0.7em;\n",
       "}\n",
       "\n",
       "/* Code that will get highlighted before it is highlighted */\n",
       ".highlight-code {\n",
       "    white-space: pre;\n",
       "    font-family: monospace;\n",
       "}\n",
       "\n",
       "/* Hlint styles */\n",
       ".suggestion-warning { \n",
       "    font-weight: bold;\n",
       "    color: rgb(200, 130, 0);\n",
       "}\n",
       ".suggestion-error { \n",
       "    font-weight: bold;\n",
       "    color: red;\n",
       "}\n",
       ".suggestion-name {\n",
       "    font-weight: bold;\n",
       "}\n",
       "</style> <div class=\"suggestion-name\" style=\"clear:both;\">Eta reduce</div>  <div class=\"suggestion-row\" style=\"float: left;\"> <div class=\"suggestion-error\">Found:</div>  <div class=\"highlight-code\" id=\"haskell\">test bs = B8.splitAt 80 bs</div> </div>  <div class=\"suggestion-row\" style=\"float: left;\"> <div class=\"suggestion-error\">Why Not:</div>  <div class=\"highlight-code\" id=\"haskell\">test = B8.splitAt 80</div> </div> "
      ],
      "text/plain": [
       "Line 1: Eta reduce\n",
       "Found:\n",
       "test bs = B8.splitAt 80 bs\n",
       "Why not:\n",
       "test = B8.splitAt 80"
      ]
     },
     "metadata": {},
     "output_type": "display_data"
    }
   ],
   "source": [
    "test bs = B8.splitAt 80 bs"
   ]
  },
  {
   "cell_type": "markdown",
   "metadata": {},
   "source": [
    "where the **Eta reduce** term comes from the lambda calculus,\n",
    "and is mentioned in this \n",
    "[StackOverflow question](http://stackoverflow.com/questions/5793843/what-does-eta-reduce-mean-in-the-context-of-hlint). Note that if I had given `test` a signature, as I did with `getCard`, then the suggestion would not\n",
    "have been created (and I'm too lazy to find out why).\n",
    "\n",
    "As a quick check of `getCard`, here's the first card, where I use\n",
    "[pattern matching](http://learnyouahaskell.com/syntax-in-functions#pattern-matching)\n",
    "to deconstruct the return value\n",
    "(i.e. separate out the pair), and the '_' syntax tells the compiler that I am not interested in the \n",
    "second element of this tuple."
   ]
  },
  {
   "cell_type": "code",
   "execution_count": 12,
   "metadata": {
    "collapsed": false
   },
   "outputs": [
    {
     "data": {
      "text/plain": [
       "\"SIMPLE  =                    T / file does conform to FITS standard             \""
      ]
     },
     "metadata": {},
     "output_type": "display_data"
    }
   ],
   "source": [
    "(a,_) = getCard cts\n",
    "a"
   ]
  },
  {
   "cell_type": "markdown",
   "metadata": {},
   "source": [
    "Since pairs are\n",
    "a common form of tuple, there are standard routines to extract the first or second element\n",
    "of a pair: they are called\n",
    "[`fst`](http://hackage.haskell.org/package/base-4.8.0.0/docs/Prelude.html#v:fst)\n",
    "and \n",
    "[`snd`](http://hackage.haskell.org/package/base-4.8.0.0/docs/Prelude.html#v:snd)\n",
    "respective, since vowels are apparently in short supply!"
   ]
  },
  {
   "cell_type": "code",
   "execution_count": 13,
   "metadata": {
    "collapsed": false
   },
   "outputs": [
    {
     "data": {
      "text/html": [
       "<style>/*\n",
       "Custom IHaskell CSS.\n",
       "*/\n",
       "\n",
       "/* Styles used for the Hoogle display in the pager */\n",
       ".hoogle-doc {\n",
       "    display: block;\n",
       "    padding-bottom: 1.3em;\n",
       "    padding-left: 0.4em;\n",
       "}\n",
       ".hoogle-code {\n",
       "    display: block;\n",
       "    font-family: monospace;\n",
       "    white-space: pre;\n",
       "}\n",
       ".hoogle-text {\n",
       "    display: block;\n",
       "}\n",
       ".hoogle-name {\n",
       "    color: green;\n",
       "    font-weight: bold;\n",
       "}\n",
       ".hoogle-head {\n",
       "    font-weight: bold;\n",
       "}\n",
       ".hoogle-sub {\n",
       "    display: block;\n",
       "    margin-left: 0.4em;\n",
       "}\n",
       ".hoogle-package {\n",
       "    font-weight: bold;\n",
       "    font-style: italic;\n",
       "}\n",
       ".hoogle-module {\n",
       "    font-weight: bold;\n",
       "}\n",
       ".hoogle-class {\n",
       "    font-weight: bold;\n",
       "}\n",
       "\n",
       "/* Styles used for basic displays */\n",
       ".get-type {\n",
       "    color: green;\n",
       "    font-weight: bold;\n",
       "    font-family: monospace;\n",
       "    display: block;\n",
       "    white-space: pre-wrap;\n",
       "}\n",
       "\n",
       ".show-type {\n",
       "    color: green;\n",
       "    font-weight: bold;\n",
       "    font-family: monospace;\n",
       "    margin-left: 1em;\n",
       "}\n",
       "\n",
       ".mono {\n",
       "    font-family: monospace;\n",
       "    display: block;\n",
       "}\n",
       "\n",
       ".err-msg {\n",
       "    color: red;\n",
       "    font-style: italic;\n",
       "    font-family: monospace;\n",
       "    white-space: pre;\n",
       "    display: block;\n",
       "}\n",
       "\n",
       "#unshowable {\n",
       "    color: red;\n",
       "    font-weight: bold;\n",
       "}\n",
       "\n",
       ".err-msg.in.collapse {\n",
       "  padding-top: 0.7em;\n",
       "}\n",
       "\n",
       "/* Code that will get highlighted before it is highlighted */\n",
       ".highlight-code {\n",
       "    white-space: pre;\n",
       "    font-family: monospace;\n",
       "}\n",
       "\n",
       "/* Hlint styles */\n",
       ".suggestion-warning { \n",
       "    font-weight: bold;\n",
       "    color: rgb(200, 130, 0);\n",
       "}\n",
       ".suggestion-error { \n",
       "    font-weight: bold;\n",
       "    color: red;\n",
       "}\n",
       ".suggestion-name {\n",
       "    font-weight: bold;\n",
       "}\n",
       "</style><span class='get-type'>fst :: forall a b. (a, b) -> a</span>"
      ],
      "text/plain": [
       "fst :: forall a b. (a, b) -> a"
      ]
     },
     "metadata": {},
     "output_type": "display_data"
    },
    {
     "data": {
      "text/html": [
       "<style>/*\n",
       "Custom IHaskell CSS.\n",
       "*/\n",
       "\n",
       "/* Styles used for the Hoogle display in the pager */\n",
       ".hoogle-doc {\n",
       "    display: block;\n",
       "    padding-bottom: 1.3em;\n",
       "    padding-left: 0.4em;\n",
       "}\n",
       ".hoogle-code {\n",
       "    display: block;\n",
       "    font-family: monospace;\n",
       "    white-space: pre;\n",
       "}\n",
       ".hoogle-text {\n",
       "    display: block;\n",
       "}\n",
       ".hoogle-name {\n",
       "    color: green;\n",
       "    font-weight: bold;\n",
       "}\n",
       ".hoogle-head {\n",
       "    font-weight: bold;\n",
       "}\n",
       ".hoogle-sub {\n",
       "    display: block;\n",
       "    margin-left: 0.4em;\n",
       "}\n",
       ".hoogle-package {\n",
       "    font-weight: bold;\n",
       "    font-style: italic;\n",
       "}\n",
       ".hoogle-module {\n",
       "    font-weight: bold;\n",
       "}\n",
       ".hoogle-class {\n",
       "    font-weight: bold;\n",
       "}\n",
       "\n",
       "/* Styles used for basic displays */\n",
       ".get-type {\n",
       "    color: green;\n",
       "    font-weight: bold;\n",
       "    font-family: monospace;\n",
       "    display: block;\n",
       "    white-space: pre-wrap;\n",
       "}\n",
       "\n",
       ".show-type {\n",
       "    color: green;\n",
       "    font-weight: bold;\n",
       "    font-family: monospace;\n",
       "    margin-left: 1em;\n",
       "}\n",
       "\n",
       ".mono {\n",
       "    font-family: monospace;\n",
       "    display: block;\n",
       "}\n",
       "\n",
       ".err-msg {\n",
       "    color: red;\n",
       "    font-style: italic;\n",
       "    font-family: monospace;\n",
       "    white-space: pre;\n",
       "    display: block;\n",
       "}\n",
       "\n",
       "#unshowable {\n",
       "    color: red;\n",
       "    font-weight: bold;\n",
       "}\n",
       "\n",
       ".err-msg.in.collapse {\n",
       "  padding-top: 0.7em;\n",
       "}\n",
       "\n",
       "/* Code that will get highlighted before it is highlighted */\n",
       ".highlight-code {\n",
       "    white-space: pre;\n",
       "    font-family: monospace;\n",
       "}\n",
       "\n",
       "/* Hlint styles */\n",
       ".suggestion-warning { \n",
       "    font-weight: bold;\n",
       "    color: rgb(200, 130, 0);\n",
       "}\n",
       ".suggestion-error { \n",
       "    font-weight: bold;\n",
       "    color: red;\n",
       "}\n",
       ".suggestion-name {\n",
       "    font-weight: bold;\n",
       "}\n",
       "</style><span class='get-type'>snd :: forall a b. (a, b) -> b</span>"
      ],
      "text/plain": [
       "snd :: forall a b. (a, b) -> b"
      ]
     },
     "metadata": {},
     "output_type": "display_data"
    }
   ],
   "source": [
    ":type fst\n",
    ":type snd"
   ]
  },
  {
   "cell_type": "markdown",
   "metadata": {},
   "source": [
    "Using the `fst` function, I can rewrite the above to avoid having to even talk about the second\n",
    "value returned by `getCard`:"
   ]
  },
  {
   "cell_type": "code",
   "execution_count": 14,
   "metadata": {
    "collapsed": false
   },
   "outputs": [
    {
     "data": {
      "text/plain": [
       "\"SIMPLE  =                    T / file does conform to FITS standard             \""
      ]
     },
     "metadata": {},
     "output_type": "display_data"
    }
   ],
   "source": [
    "fst (getCard cts)"
   ]
  },
  {
   "cell_type": "markdown",
   "metadata": {},
   "source": [
    "The `getCard` function isn't that useful on its own. What I really want is something that splits\n",
    "every 80 characters, returning an array of values$^\\dagger$. For this example I want to use a\n",
    "[sequence](http://hackage.haskell.org/package/containers-0.5.6.3/docs/Data-Sequence.html)\n",
    "to represent the array (rather than the standard Haskell list), since it should be more efficient\n",
    "for some of the data access patterns we would want when accessing the file metadata$\\ddagger$.\n",
    "As with string-like operations, containers (such as lists, sequences, and vectors) \n",
    "have many common names, so I use a qualified import of the `Data.Sequence` module\n",
    "to avoid name clashes. I then explicitly import several symbols that do not clash,\n",
    "to avoid having to prefix them with \"`Seq.`\", as `Seq.|>` \n",
    "and `Seq.><` aren't the easiest symbols to read.\n",
    "\n",
    "$^\\dagger$ There is the Haskell \n",
    "[split](https://hackage.haskell.org/package/split) \n",
    "package which provides many routines for splitting\n",
    "up lists, but it's also easy to write your own, as I do here.\n",
    "\n",
    "$^\\ddagger$ This is why I also import the symbols `ViewR`, `|>`, `><`, and `viewr`, which involve\n",
    "creating and breaking-up sequences."
   ]
  },
  {
   "cell_type": "code",
   "execution_count": 15,
   "metadata": {
    "collapsed": true
   },
   "outputs": [],
   "source": [
    "import qualified Data.Sequence as Seq\n",
    "import Data.Sequence (ViewR(..), (|>), (><), viewr)"
   ]
  },
  {
   "cell_type": "markdown",
   "metadata": {},
   "source": [
    "I want a function that will take a bytestring, split off the first 80 characters, and then call itself\n",
    "on the remaining string (in Haskell it's common to use recursion when you'd use the equivalent of a\n",
    "Python `for` loop). Here's an initial version which uses `getCard` to break down the input, stopping when it is empty. The syntax\n",
    "[`acc |> card`](http://hackage.haskell.org/package/containers-0.5.6.3/docs/Data-Sequence.html#v:-124--62-)\n",
    "adds$^\\dagger$ `card` onto the end of the sequence `acc`, so the `go` step adds on the\n",
    "current card to the end of the accumulator (the first argument) until the input string is\n",
    "empty, at which time the sequence is returned.\n",
    "\n",
    "$^\\dagger$ Actually, it creates a new sequence - formed by combining the inputs - rather than modifying\n",
    "the contents of the `card` sequence. That is, it is not Python's `acc.append(card)` but \n",
    "more like `newacc = acc[:]; newacc.append(card)`, but without the need to actually copy data, due to \n",
    "the way data is \"shared\" in Haskell."
   ]
  },
  {
   "cell_type": "code",
   "execution_count": 16,
   "metadata": {
    "collapsed": false
   },
   "outputs": [],
   "source": [
    "getCards1 :: B8.ByteString -> Seq.Seq Card\n",
    "getCards1 bs = go Seq.empty bs\n",
    "  where\n",
    "    go acc xs | B8.null xs = acc\n",
    "              | otherwise  = let (card,todo) = getCard xs\n",
    "                                 newacc = acc |> card\n",
    "                             in go newacc todo"
   ]
  },
  {
   "cell_type": "markdown",
   "metadata": {},
   "source": [
    "The function above introduces [guards](http://learnyouahaskell.com/syntax-in-functions#guards-guards), that is\n",
    "the syntax\n",
    "\n",
    "```\n",
    "name args | conditional1 = value1\n",
    "          | conditional2 = value2\n",
    "          ...\n",
    "          | otherwise    = valueN\n",
    "```\n",
    "\n",
    "The terms to the right of the `|` character (i.e. `conditonal1`...) are the guards, and act like a giant if statement, in that they are checked for from top to bottom, with the first condition that evaluates to `True` \"winning\" (the `otherwise` symbol is just another name for `True`, so\n",
    "it acts like the `default` label in C-style case statements). \n",
    "\n",
    "This is an example of a routine for which \"eta reduction\" makes sense, in that the `bs` argument sent in to `getCards1` is only used in the initial call to\n",
    "`go`, but I left it in for clarity (and because I'm about to show a different version\n",
    "which uses the era-reduced form!).\n",
    "In this new version, I take advantage of the\n",
    "[unfold pattern](http://citeseer.ist.psu.edu/viewdoc/summary?doi=10.1.1.42.1735)\n",
    "([postscript version](http://www.cs.ox.ac.uk/jeremy.gibbons/publications/unfold.ps.gz)) - which\n",
    "is available for most Haskell container data types - to\n",
    "deal with the building of the sequence.\n",
    "Here I use\n",
    "[`Seq.unfoldr`](http://hackage.haskell.org/package/containers-0.5.6.3/docs/Data-Sequence.html#v:unfoldr),\n",
    "which is given a routine that \n",
    "deconstructs the bytestring (i.e. it returns the next element and the remainder of the bytestring).\n",
    "This sounds a lot like `getCard`, although it's a slightly-modified version, as shown below, due\n",
    "to how `unfoldr` is defined:"
   ]
  },
  {
   "cell_type": "code",
   "execution_count": 17,
   "metadata": {
    "collapsed": false
   },
   "outputs": [],
   "source": [
    "getCards :: B8.ByteString -> Seq.Seq Card\n",
    "getCards = Seq.unfoldr go\n",
    "  where\n",
    "    go bs | B8.null bs = Nothing\n",
    "          | otherwise  = Just (getCard bs)"
   ]
  },
  {
   "cell_type": "markdown",
   "metadata": {},
   "source": [
    "To explain this a bit further, let's look at `unfoldr`:"
   ]
  },
  {
   "cell_type": "code",
   "execution_count": 18,
   "metadata": {
    "collapsed": false
   },
   "outputs": [
    {
     "data": {
      "text/html": [
       "<style>/*\n",
       "Custom IHaskell CSS.\n",
       "*/\n",
       "\n",
       "/* Styles used for the Hoogle display in the pager */\n",
       ".hoogle-doc {\n",
       "    display: block;\n",
       "    padding-bottom: 1.3em;\n",
       "    padding-left: 0.4em;\n",
       "}\n",
       ".hoogle-code {\n",
       "    display: block;\n",
       "    font-family: monospace;\n",
       "    white-space: pre;\n",
       "}\n",
       ".hoogle-text {\n",
       "    display: block;\n",
       "}\n",
       ".hoogle-name {\n",
       "    color: green;\n",
       "    font-weight: bold;\n",
       "}\n",
       ".hoogle-head {\n",
       "    font-weight: bold;\n",
       "}\n",
       ".hoogle-sub {\n",
       "    display: block;\n",
       "    margin-left: 0.4em;\n",
       "}\n",
       ".hoogle-package {\n",
       "    font-weight: bold;\n",
       "    font-style: italic;\n",
       "}\n",
       ".hoogle-module {\n",
       "    font-weight: bold;\n",
       "}\n",
       ".hoogle-class {\n",
       "    font-weight: bold;\n",
       "}\n",
       "\n",
       "/* Styles used for basic displays */\n",
       ".get-type {\n",
       "    color: green;\n",
       "    font-weight: bold;\n",
       "    font-family: monospace;\n",
       "    display: block;\n",
       "    white-space: pre-wrap;\n",
       "}\n",
       "\n",
       ".show-type {\n",
       "    color: green;\n",
       "    font-weight: bold;\n",
       "    font-family: monospace;\n",
       "    margin-left: 1em;\n",
       "}\n",
       "\n",
       ".mono {\n",
       "    font-family: monospace;\n",
       "    display: block;\n",
       "}\n",
       "\n",
       ".err-msg {\n",
       "    color: red;\n",
       "    font-style: italic;\n",
       "    font-family: monospace;\n",
       "    white-space: pre;\n",
       "    display: block;\n",
       "}\n",
       "\n",
       "#unshowable {\n",
       "    color: red;\n",
       "    font-weight: bold;\n",
       "}\n",
       "\n",
       ".err-msg.in.collapse {\n",
       "  padding-top: 0.7em;\n",
       "}\n",
       "\n",
       "/* Code that will get highlighted before it is highlighted */\n",
       ".highlight-code {\n",
       "    white-space: pre;\n",
       "    font-family: monospace;\n",
       "}\n",
       "\n",
       "/* Hlint styles */\n",
       ".suggestion-warning { \n",
       "    font-weight: bold;\n",
       "    color: rgb(200, 130, 0);\n",
       "}\n",
       ".suggestion-error { \n",
       "    font-weight: bold;\n",
       "    color: red;\n",
       "}\n",
       ".suggestion-name {\n",
       "    font-weight: bold;\n",
       "}\n",
       "</style><span class='get-type'>Seq.unfoldr :: forall b a. (b -> Maybe (a, b)) -> b -> Seq a</span>"
      ],
      "text/plain": [
       "Seq.unfoldr :: forall b a. (b -> Maybe (a, b)) -> b -> Seq a"
      ]
     },
     "metadata": {},
     "output_type": "display_data"
    }
   ],
   "source": [
    ":type Seq.unfoldr"
   ]
  },
  {
   "cell_type": "markdown",
   "metadata": {},
   "source": [
    "The first argument is a function which takes a value (of type `b`), and returns a value\n",
    "with a \n",
    "[`Maybe` type](http://hackage.haskell.org/package/base-4.8.0.0/docs/Prelude.html#t:Maybe).\n",
    "This is used in Haskell to represent optional values, since there are two cases:\n",
    "\n",
    " - `Nothing`, to represent the empty (or missing, or \"null\", or ...) case\n",
    " - `Just v`, which indicates that there is a result, with a value `v`\n",
    "\n",
    "In this case, the function uses `Nothing` to indicate that the recursion is to stop, otherwise\n",
    "it returns a pair of values as `Just (a,b)`, where `a` is the value to store and `b` is the\n",
    "new \"seed\" value (i.e. input to the next call of the function).\n",
    "\n",
    "Let's try with a simple example: a routine that is given an integer and returns the value converted to a string, along with the initial value reduced by 1. To indicate it has finished, the routine will stop (i.e. return `Nothing`) if the integer value is less than 1."
   ]
  },
  {
   "cell_type": "code",
   "execution_count": 19,
   "metadata": {
    "collapsed": true
   },
   "outputs": [],
   "source": [
    "silly :: Int -> Maybe (String, Int)\n",
    "silly a = if a < 1 then Nothing else Just (show a, a-1)"
   ]
  },
  {
   "cell_type": "markdown",
   "metadata": {},
   "source": [
    "Here's several examples of its behavior:"
   ]
  },
  {
   "cell_type": "code",
   "execution_count": 20,
   "metadata": {
    "collapsed": false
   },
   "outputs": [
    {
     "data": {
      "text/plain": [
       "Just (\"5\",4)"
      ]
     },
     "metadata": {},
     "output_type": "display_data"
    },
    {
     "data": {
      "text/plain": [
       "Just (\"1\",0)"
      ]
     },
     "metadata": {},
     "output_type": "display_data"
    },
    {
     "data": {
      "text/plain": [
       "Nothing"
      ]
     },
     "metadata": {},
     "output_type": "display_data"
    }
   ],
   "source": [
    "silly 5\n",
    "silly 1\n",
    "silly 0"
   ]
  },
  {
   "cell_type": "markdown",
   "metadata": {},
   "source": [
    "When used with `unfoldr`, we get a routine that takes an integer and returns a sequence of strings:"
   ]
  },
  {
   "cell_type": "code",
   "execution_count": 21,
   "metadata": {
    "collapsed": false
   },
   "outputs": [
    {
     "data": {
      "text/html": [
       "<style>/*\n",
       "Custom IHaskell CSS.\n",
       "*/\n",
       "\n",
       "/* Styles used for the Hoogle display in the pager */\n",
       ".hoogle-doc {\n",
       "    display: block;\n",
       "    padding-bottom: 1.3em;\n",
       "    padding-left: 0.4em;\n",
       "}\n",
       ".hoogle-code {\n",
       "    display: block;\n",
       "    font-family: monospace;\n",
       "    white-space: pre;\n",
       "}\n",
       ".hoogle-text {\n",
       "    display: block;\n",
       "}\n",
       ".hoogle-name {\n",
       "    color: green;\n",
       "    font-weight: bold;\n",
       "}\n",
       ".hoogle-head {\n",
       "    font-weight: bold;\n",
       "}\n",
       ".hoogle-sub {\n",
       "    display: block;\n",
       "    margin-left: 0.4em;\n",
       "}\n",
       ".hoogle-package {\n",
       "    font-weight: bold;\n",
       "    font-style: italic;\n",
       "}\n",
       ".hoogle-module {\n",
       "    font-weight: bold;\n",
       "}\n",
       ".hoogle-class {\n",
       "    font-weight: bold;\n",
       "}\n",
       "\n",
       "/* Styles used for basic displays */\n",
       ".get-type {\n",
       "    color: green;\n",
       "    font-weight: bold;\n",
       "    font-family: monospace;\n",
       "    display: block;\n",
       "    white-space: pre-wrap;\n",
       "}\n",
       "\n",
       ".show-type {\n",
       "    color: green;\n",
       "    font-weight: bold;\n",
       "    font-family: monospace;\n",
       "    margin-left: 1em;\n",
       "}\n",
       "\n",
       ".mono {\n",
       "    font-family: monospace;\n",
       "    display: block;\n",
       "}\n",
       "\n",
       ".err-msg {\n",
       "    color: red;\n",
       "    font-style: italic;\n",
       "    font-family: monospace;\n",
       "    white-space: pre;\n",
       "    display: block;\n",
       "}\n",
       "\n",
       "#unshowable {\n",
       "    color: red;\n",
       "    font-weight: bold;\n",
       "}\n",
       "\n",
       ".err-msg.in.collapse {\n",
       "  padding-top: 0.7em;\n",
       "}\n",
       "\n",
       "/* Code that will get highlighted before it is highlighted */\n",
       ".highlight-code {\n",
       "    white-space: pre;\n",
       "    font-family: monospace;\n",
       "}\n",
       "\n",
       "/* Hlint styles */\n",
       ".suggestion-warning { \n",
       "    font-weight: bold;\n",
       "    color: rgb(200, 130, 0);\n",
       "}\n",
       ".suggestion-error { \n",
       "    font-weight: bold;\n",
       "    color: red;\n",
       "}\n",
       ".suggestion-name {\n",
       "    font-weight: bold;\n",
       "}\n",
       "</style><span class='get-type'>Seq.unfoldr silly :: Int -> Seq String</span>"
      ],
      "text/plain": [
       "Seq.unfoldr silly :: Int -> Seq String"
      ]
     },
     "metadata": {},
     "output_type": "display_data"
    }
   ],
   "source": [
    ":type Seq.unfoldr silly"
   ]
  },
  {
   "cell_type": "markdown",
   "metadata": {},
   "source": [
    "Hopefully, if I've been able to explain this, the following output should come as no surprise (well, apart from\n",
    "the \n",
    "[`fromList` part](http://hackage.haskell.org/package/containers-0.5.6.3/docs/Data-Sequence.html#v:fromList), \n",
    "which is part of the \n",
    "[`Show`](http://hackage.haskell.org/package/base-4.8.0.0/docs/Prelude.html#t:Show)\n",
    "representation of a Sequence):"
   ]
  },
  {
   "cell_type": "code",
   "execution_count": 22,
   "metadata": {
    "collapsed": false
   },
   "outputs": [
    {
     "data": {
      "text/plain": [
       "fromList [\"5\",\"4\",\"3\",\"2\",\"1\"]"
      ]
     },
     "metadata": {},
     "output_type": "display_data"
    }
   ],
   "source": [
    "Seq.unfoldr silly 5"
   ]
  },
  {
   "cell_type": "markdown",
   "metadata": {},
   "source": [
    "With that digression out of the way, let's get back to some parsing. As the data comes in\n",
    "chunks of 2880 bytes, let's just try with the first chunk\n",
    "([take](http://hackage.haskell.org/package/bytestring-0.10.6.0/docs/Data-ByteString-Char8.html#v:take)\n",
    "returns the first `n` bytes of the string):"
   ]
  },
  {
   "cell_type": "code",
   "execution_count": 23,
   "metadata": {
    "collapsed": false
   },
   "outputs": [
    {
     "data": {
      "text/html": [
       "<style>/*\n",
       "Custom IHaskell CSS.\n",
       "*/\n",
       "\n",
       "/* Styles used for the Hoogle display in the pager */\n",
       ".hoogle-doc {\n",
       "    display: block;\n",
       "    padding-bottom: 1.3em;\n",
       "    padding-left: 0.4em;\n",
       "}\n",
       ".hoogle-code {\n",
       "    display: block;\n",
       "    font-family: monospace;\n",
       "    white-space: pre;\n",
       "}\n",
       ".hoogle-text {\n",
       "    display: block;\n",
       "}\n",
       ".hoogle-name {\n",
       "    color: green;\n",
       "    font-weight: bold;\n",
       "}\n",
       ".hoogle-head {\n",
       "    font-weight: bold;\n",
       "}\n",
       ".hoogle-sub {\n",
       "    display: block;\n",
       "    margin-left: 0.4em;\n",
       "}\n",
       ".hoogle-package {\n",
       "    font-weight: bold;\n",
       "    font-style: italic;\n",
       "}\n",
       ".hoogle-module {\n",
       "    font-weight: bold;\n",
       "}\n",
       ".hoogle-class {\n",
       "    font-weight: bold;\n",
       "}\n",
       "\n",
       "/* Styles used for basic displays */\n",
       ".get-type {\n",
       "    color: green;\n",
       "    font-weight: bold;\n",
       "    font-family: monospace;\n",
       "    display: block;\n",
       "    white-space: pre-wrap;\n",
       "}\n",
       "\n",
       ".show-type {\n",
       "    color: green;\n",
       "    font-weight: bold;\n",
       "    font-family: monospace;\n",
       "    margin-left: 1em;\n",
       "}\n",
       "\n",
       ".mono {\n",
       "    font-family: monospace;\n",
       "    display: block;\n",
       "}\n",
       "\n",
       ".err-msg {\n",
       "    color: red;\n",
       "    font-style: italic;\n",
       "    font-family: monospace;\n",
       "    white-space: pre;\n",
       "    display: block;\n",
       "}\n",
       "\n",
       "#unshowable {\n",
       "    color: red;\n",
       "    font-weight: bold;\n",
       "}\n",
       "\n",
       ".err-msg.in.collapse {\n",
       "  padding-top: 0.7em;\n",
       "}\n",
       "\n",
       "/* Code that will get highlighted before it is highlighted */\n",
       ".highlight-code {\n",
       "    white-space: pre;\n",
       "    font-family: monospace;\n",
       "}\n",
       "\n",
       "/* Hlint styles */\n",
       ".suggestion-warning { \n",
       "    font-weight: bold;\n",
       "    color: rgb(200, 130, 0);\n",
       "}\n",
       ".suggestion-error { \n",
       "    font-weight: bold;\n",
       "    color: red;\n",
       "}\n",
       ".suggestion-name {\n",
       "    font-weight: bold;\n",
       "}\n",
       "</style><span class='get-type'>cards :: Seq Card</span>"
      ],
      "text/plain": [
       "cards :: Seq Card"
      ]
     },
     "metadata": {},
     "output_type": "display_data"
    }
   ],
   "source": [
    "cards = getCards (B8.take chunk cts)\n",
    ":type cards"
   ]
  },
  {
   "cell_type": "code",
   "execution_count": 24,
   "metadata": {
    "collapsed": false
   },
   "outputs": [
    {
     "data": {
      "text/plain": [
       "36"
      ]
     },
     "metadata": {},
     "output_type": "display_data"
    }
   ],
   "source": [
    "Seq.length cards"
   ]
  },
  {
   "cell_type": "markdown",
   "metadata": {},
   "source": [
    "I can use \n",
    "[array indexing](http://hackage.haskell.org/package/containers-0.5.6.3/docs/Data-Sequence.html#v:index)\n",
    "to access the contents:"
   ]
  },
  {
   "cell_type": "code",
   "execution_count": 25,
   "metadata": {
    "collapsed": false
   },
   "outputs": [
    {
     "data": {
      "text/plain": [
       "\"SIMPLE  =                    T / file does conform to FITS standard             \""
      ]
     },
     "metadata": {},
     "output_type": "display_data"
    }
   ],
   "source": [
    "Seq.index cards 0"
   ]
  },
  {
   "cell_type": "code",
   "execution_count": 26,
   "metadata": {
    "collapsed": false
   },
   "outputs": [
    {
     "data": {
      "text/plain": [
       "\"BITPIX  =                   16 / number of bits per data pixel                  \""
      ]
     },
     "metadata": {},
     "output_type": "display_data"
    }
   ],
   "source": [
    "Seq.index cards 1"
   ]
  },
  {
   "cell_type": "code",
   "execution_count": 27,
   "metadata": {
    "collapsed": false
   },
   "outputs": [
    {
     "data": {
      "text/plain": [
       "\"NAXIS   =                    0 / number of data axes                            \""
      ]
     },
     "metadata": {},
     "output_type": "display_data"
    }
   ],
   "source": [
    "Seq.index cards 2"
   ]
  },
  {
   "cell_type": "markdown",
   "metadata": {},
   "source": [
    "As `NAXIS=0`, there's no data associated with this block, just metadata. The question is, just how much\n",
    "metadata? Now, due to the way that the header units are defined, there are three cases for the last card\n",
    "in a chunk of 2880 bytes:\n",
    "\n",
    "  - a normal keyword\n",
    "  - the END keyword\n",
    "  - 80 spaces as a \"filler\" card after the END keyword (the standard says that the space\n",
    "    character should be used but occasionally you find files that don't match the standard;\n",
    "    fortunately I don't have to worry about that complication today).\n",
    "  \n",
    "This means that all I need to do is check the first four characters of the last card: if it's\n",
    "`\"END \"` or `\"    \"` then it's the end of the header data. I can use the\n",
    "[`viewr`](http://hackage.haskell.org/package/containers-0.5.6.3/docs/Data-Sequence.html#v:viewr)\n",
    "function to extract the last card (this is one of the advantages of using a sequence\n",
    "over a Haskell list, namely efficient access to both ends of the data). The return value has the type\n",
    "[`ViewR`](http://hackage.haskell.org/package/containers-0.5.6.3/docs/Data-Sequence.html#t:ViewR)\n",
    "which can either be empty (`EmptyR`), or `lcard :> lelem`, where\n",
    "`lelem` is the last element and `lcard` are all the cards preceeding `lelem`."
   ]
  },
  {
   "cell_type": "code",
   "execution_count": 28,
   "metadata": {
    "collapsed": true
   },
   "outputs": [],
   "source": [
    "lcards :> lelem = viewr cards"
   ]
  },
  {
   "cell_type": "markdown",
   "metadata": {},
   "source": [
    "With this, the last card of this block is:"
   ]
  },
  {
   "cell_type": "code",
   "execution_count": 29,
   "metadata": {
    "collapsed": false
   },
   "outputs": [
    {
     "data": {
      "text/plain": [
       "\"                                                                                \""
      ]
     },
     "metadata": {},
     "output_type": "display_data"
    }
   ],
   "source": [
    "lelem"
   ]
  },
  {
   "cell_type": "markdown",
   "metadata": {},
   "source": [
    "The above call to `viewr` - or, more particularly, the deconstruction\n",
    "of the return value using `:>` - is incomplete, because it does not deal\n",
    "with all-possible values. In this particular case we know that `cards`\n",
    "is not empty, so the answer can not be `EmptyR`. When given an arbitrary\n",
    "sequence, the empty case must also be accounted for, and I'll show\n",
    "code later on that shows how this can be done.\n",
    "\n",
    "This piece of code is a good example showing how Haskell's\n",
    "[laziness](http://en.wikipedia.org/wiki/Lazy_evaluation)\n",
    "can result in surprising behavior. It's not\n",
    "obvious that a function has actually been evaluated, even\n",
    "after a statement like\n",
    "\n",
    "```\n",
    "lcards :> lelem = viewr cards\n",
    "```\n",
    "\n",
    "It's a\n",
    "bit like poor-old Schrödinger's cat: we won't know the state until the compiler evaluates the\n",
    "answer (\"opens the box\"). In the code above, it was only when `lelem` was\n",
    "displayed that we could be sure that the `viewr` call had \"run\".\n",
    "As an example of this, note what happens when `viewr` is called with an empty sequence:"
   ]
  },
  {
   "cell_type": "code",
   "execution_count": 30,
   "metadata": {
    "collapsed": true
   },
   "outputs": [],
   "source": [
    "xxx :> yyy = viewr Seq.empty"
   ]
  },
  {
   "cell_type": "markdown",
   "metadata": {},
   "source": [
    "There's no error at this point. It is only when we do something with one of the values that \n",
    "the error makes itself known:"
   ]
  },
  {
   "cell_type": "code",
   "execution_count": 31,
   "metadata": {
    "collapsed": false
   },
   "outputs": [
    {
     "data": {
      "text/html": [
       "<style>/*\n",
       "Custom IHaskell CSS.\n",
       "*/\n",
       "\n",
       "/* Styles used for the Hoogle display in the pager */\n",
       ".hoogle-doc {\n",
       "    display: block;\n",
       "    padding-bottom: 1.3em;\n",
       "    padding-left: 0.4em;\n",
       "}\n",
       ".hoogle-code {\n",
       "    display: block;\n",
       "    font-family: monospace;\n",
       "    white-space: pre;\n",
       "}\n",
       ".hoogle-text {\n",
       "    display: block;\n",
       "}\n",
       ".hoogle-name {\n",
       "    color: green;\n",
       "    font-weight: bold;\n",
       "}\n",
       ".hoogle-head {\n",
       "    font-weight: bold;\n",
       "}\n",
       ".hoogle-sub {\n",
       "    display: block;\n",
       "    margin-left: 0.4em;\n",
       "}\n",
       ".hoogle-package {\n",
       "    font-weight: bold;\n",
       "    font-style: italic;\n",
       "}\n",
       ".hoogle-module {\n",
       "    font-weight: bold;\n",
       "}\n",
       ".hoogle-class {\n",
       "    font-weight: bold;\n",
       "}\n",
       "\n",
       "/* Styles used for basic displays */\n",
       ".get-type {\n",
       "    color: green;\n",
       "    font-weight: bold;\n",
       "    font-family: monospace;\n",
       "    display: block;\n",
       "    white-space: pre-wrap;\n",
       "}\n",
       "\n",
       ".show-type {\n",
       "    color: green;\n",
       "    font-weight: bold;\n",
       "    font-family: monospace;\n",
       "    margin-left: 1em;\n",
       "}\n",
       "\n",
       ".mono {\n",
       "    font-family: monospace;\n",
       "    display: block;\n",
       "}\n",
       "\n",
       ".err-msg {\n",
       "    color: red;\n",
       "    font-style: italic;\n",
       "    font-family: monospace;\n",
       "    white-space: pre;\n",
       "    display: block;\n",
       "}\n",
       "\n",
       "#unshowable {\n",
       "    color: red;\n",
       "    font-weight: bold;\n",
       "}\n",
       "\n",
       ".err-msg.in.collapse {\n",
       "  padding-top: 0.7em;\n",
       "}\n",
       "\n",
       "/* Code that will get highlighted before it is highlighted */\n",
       ".highlight-code {\n",
       "    white-space: pre;\n",
       "    font-family: monospace;\n",
       "}\n",
       "\n",
       "/* Hlint styles */\n",
       ".suggestion-warning { \n",
       "    font-weight: bold;\n",
       "    color: rgb(200, 130, 0);\n",
       "}\n",
       ".suggestion-error { \n",
       "    font-weight: bold;\n",
       "    color: red;\n",
       "}\n",
       ".suggestion-name {\n",
       "    font-weight: bold;\n",
       "}\n",
       "</style><span class='err-msg'><interactive>:1:1-28: Irrefutable pattern failed for pattern xxx Data.Sequence.:> yyy</span>"
      ],
      "text/plain": [
       "<interactive>:1:1-28: Irrefutable pattern failed for pattern xxx Data.Sequence.:> yyy"
      ]
     },
     "metadata": {},
     "output_type": "display_data"
    }
   ],
   "source": [
    "Seq.length xxx"
   ]
  },
  {
   "cell_type": "markdown",
   "metadata": {},
   "source": [
    "The `Irrefutable pattern` failure means that\n",
    "it could not match the expected value of `xxx :> yyy` with the actual value, which in this case is `EmptyR`.\n",
    "\n",
    "Getting back to the header parsing, the fact that `lelem` is all blank indicates that this is the\n",
    "end of the first block. Let's write a quick function to encode this logic, on the off chance that I may\n",
    "want to use it again..."
   ]
  },
  {
   "cell_type": "code",
   "execution_count": 32,
   "metadata": {
    "collapsed": true
   },
   "outputs": [],
   "source": [
    "hasEndCard :: Seq.Seq Card -> Bool\n",
    "hasEndCard cards = case viewr cards of\n",
    "  _ :> card -> any (`B8.isPrefixOf` card) [B8.pack \" \", B8.pack \"END \"]\n",
    "  EmptyR -> True -- treat an empty sequence as indicating the end of a block "
   ]
  },
  {
   "cell_type": "markdown",
   "metadata": {},
   "source": [
    "I use the `case` syntax so that I can safely handle an empty input, rather than\n",
    "causing a run-time error (since they're somewhat frowned upon in Haskell!). If the sequence\n",
    "is not empty then I use pattern matching to \"deconstruct\" the return value; that is\n",
    "I use the syntax `_ :> card` to provide a name for the last card and to tell\n",
    "the compiler I don't care about the preceeding elements in the sequence \n",
    "(i.e. the \"`_`\" part).\n",
    "The check on the last card is performed using the `any` routine, which has the signature:"
   ]
  },
  {
   "cell_type": "code",
   "execution_count": 33,
   "metadata": {
    "collapsed": false
   },
   "outputs": [
    {
     "data": {
      "text/html": [
       "<style>/*\n",
       "Custom IHaskell CSS.\n",
       "*/\n",
       "\n",
       "/* Styles used for the Hoogle display in the pager */\n",
       ".hoogle-doc {\n",
       "    display: block;\n",
       "    padding-bottom: 1.3em;\n",
       "    padding-left: 0.4em;\n",
       "}\n",
       ".hoogle-code {\n",
       "    display: block;\n",
       "    font-family: monospace;\n",
       "    white-space: pre;\n",
       "}\n",
       ".hoogle-text {\n",
       "    display: block;\n",
       "}\n",
       ".hoogle-name {\n",
       "    color: green;\n",
       "    font-weight: bold;\n",
       "}\n",
       ".hoogle-head {\n",
       "    font-weight: bold;\n",
       "}\n",
       ".hoogle-sub {\n",
       "    display: block;\n",
       "    margin-left: 0.4em;\n",
       "}\n",
       ".hoogle-package {\n",
       "    font-weight: bold;\n",
       "    font-style: italic;\n",
       "}\n",
       ".hoogle-module {\n",
       "    font-weight: bold;\n",
       "}\n",
       ".hoogle-class {\n",
       "    font-weight: bold;\n",
       "}\n",
       "\n",
       "/* Styles used for basic displays */\n",
       ".get-type {\n",
       "    color: green;\n",
       "    font-weight: bold;\n",
       "    font-family: monospace;\n",
       "    display: block;\n",
       "    white-space: pre-wrap;\n",
       "}\n",
       "\n",
       ".show-type {\n",
       "    color: green;\n",
       "    font-weight: bold;\n",
       "    font-family: monospace;\n",
       "    margin-left: 1em;\n",
       "}\n",
       "\n",
       ".mono {\n",
       "    font-family: monospace;\n",
       "    display: block;\n",
       "}\n",
       "\n",
       ".err-msg {\n",
       "    color: red;\n",
       "    font-style: italic;\n",
       "    font-family: monospace;\n",
       "    white-space: pre;\n",
       "    display: block;\n",
       "}\n",
       "\n",
       "#unshowable {\n",
       "    color: red;\n",
       "    font-weight: bold;\n",
       "}\n",
       "\n",
       ".err-msg.in.collapse {\n",
       "  padding-top: 0.7em;\n",
       "}\n",
       "\n",
       "/* Code that will get highlighted before it is highlighted */\n",
       ".highlight-code {\n",
       "    white-space: pre;\n",
       "    font-family: monospace;\n",
       "}\n",
       "\n",
       "/* Hlint styles */\n",
       ".suggestion-warning { \n",
       "    font-weight: bold;\n",
       "    color: rgb(200, 130, 0);\n",
       "}\n",
       ".suggestion-error { \n",
       "    font-weight: bold;\n",
       "    color: red;\n",
       "}\n",
       ".suggestion-name {\n",
       "    font-weight: bold;\n",
       "}\n",
       "</style><span class='get-type'>any :: forall a. (a -> Bool) -> [a] -> Bool</span>"
      ],
      "text/plain": [
       "any :: forall a. (a -> Bool) -> [a] -> Bool"
      ]
     },
     "metadata": {},
     "output_type": "display_data"
    }
   ],
   "source": [
    ":type any"
   ]
  },
  {
   "cell_type": "markdown",
   "metadata": {},
   "source": [
    "As I want to check whether `card` starts with `\" \"` or `\"END \"`, then the function sent\n",
    "to `any` takes a prefix and checks if matches the start of `card`, and the array of values\n",
    "are the prefixes to use. Note that there are several ways this could have been written, for instance\n",
    "being explicit with the functions (rather than using partial application) and moving the\n",
    "[`pack`](https://hackage.haskell.org/package/bytestring-0.10.6.0/docs/Data-ByteString-Char8.html#v:pack)\n",
    "call into the anonymous function:\n",
    "\n",
    "```\n",
    "any (\\prefix -> (B8.pack prefix) `B8.isPrefixOf` card) [\" \", \"END \"]\n",
    "```\n",
    "\n",
    "The last check handles calls when the input sequence is empty, \n",
    "in which I somewhat-arbitrarily decided to return `True`.\n",
    "Here I was explicit in the case statement; that is, I wrote\n",
    "\n",
    "```\n",
    "EmptyR -> True\n",
    "```\n",
    "\n",
    "but you will often see the \"default\" case written as\n",
    "\n",
    "```\n",
    "_ -> True\n",
    "```\n",
    "\n",
    "A quick check that it works as expected:"
   ]
  },
  {
   "cell_type": "code",
   "execution_count": 34,
   "metadata": {
    "collapsed": false
   },
   "outputs": [
    {
     "data": {
      "text/plain": [
       "True"
      ]
     },
     "metadata": {},
     "output_type": "display_data"
    }
   ],
   "source": [
    "hasEndCard cards"
   ]
  },
  {
   "cell_type": "markdown",
   "metadata": {},
   "source": [
    "So, we can skip to the next chunk, which will be a header unit for the second block,\n",
    "but this time there's more than 2880 bytes of metadata\n",
    "(the [`drop`](http://hackage.haskell.org/package/bytestring-0.10.6.0/docs/Data-ByteString-Char8.html#v:drop)\n",
    "call ignores the first `chunk` bytes of `cts`, so the `take`/`drop` \n",
    "calls are equivalent to Python's [chunk:2*chunk] array slice syntax):"
   ]
  },
  {
   "cell_type": "code",
   "execution_count": 35,
   "metadata": {
    "collapsed": false
   },
   "outputs": [
    {
     "data": {
      "text/plain": [
       "False"
      ]
     },
     "metadata": {},
     "output_type": "display_data"
    }
   ],
   "source": [
    "cards2 = getCards (B8.take chunk (B8.drop chunk cts))\n",
    "hasEndCard cards2"
   ]
  },
  {
   "cell_type": "markdown",
   "metadata": {},
   "source": [
    "What I want is a routine that will strip off 2880-byte chunks, convert them to\n",
    "cards, continuing until an `END` card is found. This sounds like an extension\n",
    "to how `getCards` works, in that it requires repeated application of\n",
    "the routine. It would also be nice if it\n",
    "returned the unused data, since we will want that when extracting the data values."
   ]
  },
  {
   "cell_type": "code",
   "execution_count": 36,
   "metadata": {
    "collapsed": false
   },
   "outputs": [],
   "source": [
    "getUnits :: B8.ByteString -> (Seq.Seq Card, B8.ByteString)\n",
    "getUnits = go Seq.empty \n",
    "  where\n",
    "    -- splitAt will work if the input text is smaller than the chunk\n",
    "    -- size, but I include the check to make the code a bit clearer\n",
    "    -- in intent (also, if the file is a valid FITS file then this\n",
    "    -- first check should never be fired).\n",
    "    --\n",
    "    go cards bs | B8.length bs < chunk = (cards, bs)\n",
    "                | otherwise  = let (ls,rs) = B8.splitAt chunk bs\n",
    "                                   newCards = getCards ls\n",
    "                                   -- the >< operator appends the two sequences together\n",
    "                                   combined = cards >< newCards\n",
    "                               in if hasEndCard newCards\n",
    "                                  then (combined, rs)\n",
    "                                  else go combined rs\n",
    "                                  \n",
    "(units, bdata) = getUnits (B8.drop chunk cts)"
   ]
  },
  {
   "cell_type": "code",
   "execution_count": 37,
   "metadata": {
    "collapsed": false
   },
   "outputs": [
    {
     "data": {
      "text/plain": [
       "216"
      ]
     },
     "metadata": {},
     "output_type": "display_data"
    },
    {
     "data": {
      "text/plain": [
       "\"XTENSION= 'BINTABLE'           / binary table extension                         \""
      ]
     },
     "metadata": {},
     "output_type": "display_data"
    },
    {
     "data": {
      "text/plain": [
       "\"BITPIX  =                    8 / 8-bit bytes                                    \""
      ]
     },
     "metadata": {},
     "output_type": "display_data"
    }
   ],
   "source": [
    "Seq.length units\n",
    "Seq.index units 0\n",
    "Seq.index units 1"
   ]
  },
  {
   "cell_type": "markdown",
   "metadata": {},
   "source": [
    "Looking at the data section, we can see it's binary encoded, which is no surprise since\n",
    "the `XTENSION` keyword was set to `BINTABLE`. I need access to the header information to\n",
    "be able to parse this data."
   ]
  },
  {
   "cell_type": "code",
   "execution_count": 38,
   "metadata": {
    "collapsed": false
   },
   "outputs": [
    {
     "data": {
      "text/plain": [
       "\">\\153\\153\\154>\\158\\184R@\\155\\250\\158>\\158\\184R>\\163\\215\\n\""
      ]
     },
     "metadata": {},
     "output_type": "display_data"
    }
   ],
   "source": [
    "B8.take 20 bdata"
   ]
  },
  {
   "cell_type": "markdown",
   "metadata": {},
   "source": [
    "So, how do we handle the metadata section? Well, the FITS header can be viewed as a glorified key-value map,\n",
    "so let's use this as an API (this means that I lose ordering information, and informational keywords\n",
    "such as `HISTORY` and `COMMENT`, but they aren't needed to find out how to decode the data section).\n",
    "First I load up some useful modules, which include the \n",
    "[`Map` API](https://hackage.haskell.org/package/containers-0.5.6.3/docs/Data-Map.html),\n",
    "the \n",
    "[`Foldable` module](http://hackage.haskell.org/package/base-4.8.0.0/docs/Data-Foldable.html),\n",
    "and the\n",
    "[`isSpace`](http://hackage.haskell.org/package/base-4.8.0.0/docs/Data-Char.html#v:isSpace)\n",
    "and\n",
    "[`catMaybes`](http://hackage.haskell.org/package/base-4.8.0.0/docs/Data-Maybe.html#v:catMaybes)\n",
    "functions."
   ]
  },
  {
   "cell_type": "code",
   "execution_count": 39,
   "metadata": {
    "collapsed": true
   },
   "outputs": [],
   "source": [
    "import qualified Data.Map as Map\n",
    "import qualified Data.Foldable as Fold\n",
    "import Data.Char (isSpace)\n",
    "import Data.Maybe (catMaybes)"
   ]
  },
  {
   "cell_type": "markdown",
   "metadata": {},
   "source": [
    "Next up is a helper function - `rstrip` - and one to\n",
    "strip out the (key,value) pairs from a card (`splitCard`).\n",
    "\n",
    "The `rstrip` function takes advantage of the \n",
    "[`unsnoc` function](https://hackage.haskell.org/package/bytestring-0.10.6.0/docs/Data-ByteString-Char8.html#v:unsnoc)\n",
    "function that returns a bytestring containing all-but-the-last character,\n",
    "and the last character. The routine recursively calls\n",
    "itself until a non-whitespace character is found. I believe that the name \n",
    "`unsnoc` comes\n",
    "from a \"play\" on words, in that `cons` is used to describe adding an element to the\n",
    "start of a list ([Lisp heritage](http://www.gnu.org/software/emacs/manual/html_node/elisp/Cons-Cells.html)),\n",
    "so that the act of adding an element to the end of a list\n",
    "is the reverse of `cons`, namely `snoc`.\n",
    "The `un` part then comes from the fact that here we are deconstructing, rather than\n",
    "creating, the string.\n",
    "\n",
    "The `splitCard` function decides whether a card contains a key/value pair,\n",
    "returning `Nothing` if it doesn't or splitting up the card into\n",
    "its parts if it does (wrapping the result in `Just`). To\n",
    "make downstream processing easier, the key and value strings\n",
    "are \"cleaned up\" (trailing whitespace is removed, so it's fortuitous\n",
    "that I've just written a routine to do this) as well\n",
    "as converted from a `ByteString` to a `String`.\n",
    "\n",
    "Now, at first glance, `splitCard` is inefficent; \n",
    "for example, it looks like `key` and `val` are always going\n",
    "to be evaluated, even when `Nothing` is returned. However,\n",
    "there's three points to consider:\n",
    "\n",
    "  1. we shouldn't really be worrying about performance until\n",
    "     it becomes obvious that it's a problem;\n",
    "     \n",
    "  2. thanks to Haskell's laziness, code is evaluated \"on demand\",\n",
    "     so routines can have very-different performance\n",
    "     characteristics compared to the same code written in a language like\n",
    "     Python;\n",
    "     \n",
    "  3. the Haskell compiler can perform some rather impressive\n",
    "     optimisations (although this is less relevant when running\n",
    "     in an interactive environment like this IHaskell notebook). "
   ]
  },
  {
   "cell_type": "code",
   "execution_count": 40,
   "metadata": {
    "collapsed": false
   },
   "outputs": [],
   "source": [
    "-- | Remove trailing whitespace from a bytestring.\n",
    "--\n",
    "rstrip :: B8.ByteString -> B8.ByteString\n",
    "rstrip bs = case B8.unsnoc bs of\n",
    "  Just (nbs, c) -> if isSpace c then rstrip nbs else bs\n",
    "  _ -> bs\n",
    "\n",
    "-- | If a card has a keyword and value (i.e. is of the form\n",
    "--   'keyword = value') return the two parts, after stripping\n",
    "--   out trailing whitespace.\n",
    "--\n",
    "splitCard :: \n",
    "  Card \n",
    "  -> Maybe (String, String) -- ^ (keyword, value)\n",
    "splitCard card = \n",
    "  let (l,r) = B8.splitAt 8 card\n",
    "      (cs,v) = B8.splitAt 2 r\n",
    "      key = rstrip l\n",
    "      val = rstrip (B8.dropWhile isSpace v)\n",
    "      sep = B8.pack \"= \"\n",
    "  in if cs == sep\n",
    "     then Just (B8.unpack key, B8.unpack val)\n",
    "     else Nothing       "
   ]
  },
  {
   "cell_type": "markdown",
   "metadata": {},
   "source": [
    "We can see what `splitCard` does by giving it a card:"
   ]
  },
  {
   "cell_type": "code",
   "execution_count": 41,
   "metadata": {
    "collapsed": false
   },
   "outputs": [
    {
     "data": {
      "text/plain": [
       "\"BITPIX  =                    8 / 8-bit bytes                                    \""
      ]
     },
     "metadata": {},
     "output_type": "display_data"
    },
    {
     "data": {
      "text/plain": [
       "Just (\"BITPIX\",\"8 / 8-bit bytes\")"
      ]
     },
     "metadata": {},
     "output_type": "display_data"
    }
   ],
   "source": [
    "Seq.index units 1\n",
    "splitCard (Seq.index units 1)"
   ]
  },
  {
   "cell_type": "markdown",
   "metadata": {},
   "source": [
    "The reason for converting to a (key,value) pair is that this is the format\n",
    "used to populate maps. The `map1` map (or dictionary) - which we create\n",
    "below - contains one keyword,\n",
    "`\"testkey\"`, whose value is `\"value\"`. The\n",
    "[`Map.lookup` function](http://hackage.haskell.org/package/containers-0.5.6.3/docs/Data-Map-Lazy.html#v:lookup)\n",
    "is used to query the map for a keyword: if it doesn't exist then\n",
    "`Nothing` is returned, otherwise the value is returned wrapped inside a\n",
    "`Just`."
   ]
  },
  {
   "cell_type": "code",
   "execution_count": 42,
   "metadata": {
    "collapsed": false
   },
   "outputs": [
    {
     "data": {
      "text/plain": [
       "Nothing"
      ]
     },
     "metadata": {},
     "output_type": "display_data"
    },
    {
     "data": {
      "text/plain": [
       "Just \"value\""
      ]
     },
     "metadata": {},
     "output_type": "display_data"
    }
   ],
   "source": [
    "map1 = Map.fromList [(\"testkey\", \"value\")]\n",
    "\n",
    "Map.lookup \"42\" map1\n",
    "Map.lookup \"testkey\" map1"
   ]
  },
  {
   "cell_type": "markdown",
   "metadata": {},
   "source": [
    "The initial version of the conversion routine - i.e. to create the key/value map\n",
    "from a sequence of header cards - is given below, as `cardsToMap2`\n",
    "(the awkward numeric suffix is because I'm \"counting down\" to the final version \n",
    "of the routine):"
   ]
  },
  {
   "cell_type": "code",
   "execution_count": 43,
   "metadata": {
    "collapsed": false
   },
   "outputs": [],
   "source": [
    "cardsToMap2 :: Seq.Seq Card -> Map.Map String String\n",
    "cardsToMap2 cs = \n",
    "  let -- step 1\n",
    "      xs :: [Card]\n",
    "      xs = Fold.toList cs\n",
    "\n",
    "      -- step 2\n",
    "      ys :: [Maybe (String,String)]\n",
    "      ys = map splitCard xs\n",
    "\n",
    "      -- step 3\n",
    "      zs :: [(String,String)]\n",
    "      zs = catMaybes ys\n",
    "\n",
    "  in Map.fromList zs -- step 4"
   ]
  },
  {
   "cell_type": "markdown",
   "metadata": {},
   "source": [
    "The steps have been explicitly broken out and I have included the types of the\n",
    "terms for documentation. The four steps are:\n",
    "\n",
    "  1. convert from a sequence into a list using\n",
    "     [`Fold.toList`](http://hackage.haskell.org/package/base-4.8.0.0/docs/Data-Foldable.html#v:toList)\n",
    "     (the `Foldable` module provides a number of generic routines useful for\n",
    "     sequences - i.e. it somewhat contradicts my earlier comment that there's no\n",
    "     common abstraction - but it is quite an \"abstract\" abstraction, so I\n",
    "     have stayed away from using it in this notebook where possible);\n",
    "\n",
    "  2. apply `splitCard` to each card;\n",
    "  \n",
    "  3. filter out all the `Nothing` entries created by `splitCard`\n",
    "     and extract the values from the `Just` elements using the\n",
    "     [`catMaybes`](http://hackage.haskell.org/package/base-4.8.0.0/docs/Data-Maybe.html#v:catMaybes)\n",
    "     function (which has a signature `[Maybe a] -> [a]`);\n",
    "\n",
    "  4. convert this list into a map using the\n",
    "     [`fromList` function](https://hackage.haskell.org/package/containers-0.5.6.3/docs/Data-Map-Lazy.html#v:fromList).\n",
    "    \n",
    "This function can also be written in one line:"
   ]
  },
  {
   "cell_type": "code",
   "execution_count": 44,
   "metadata": {
    "collapsed": false
   },
   "outputs": [
    {
     "data": {
      "text/html": [
       "<style>/*\n",
       "Custom IHaskell CSS.\n",
       "*/\n",
       "\n",
       "/* Styles used for the Hoogle display in the pager */\n",
       ".hoogle-doc {\n",
       "    display: block;\n",
       "    padding-bottom: 1.3em;\n",
       "    padding-left: 0.4em;\n",
       "}\n",
       ".hoogle-code {\n",
       "    display: block;\n",
       "    font-family: monospace;\n",
       "    white-space: pre;\n",
       "}\n",
       ".hoogle-text {\n",
       "    display: block;\n",
       "}\n",
       ".hoogle-name {\n",
       "    color: green;\n",
       "    font-weight: bold;\n",
       "}\n",
       ".hoogle-head {\n",
       "    font-weight: bold;\n",
       "}\n",
       ".hoogle-sub {\n",
       "    display: block;\n",
       "    margin-left: 0.4em;\n",
       "}\n",
       ".hoogle-package {\n",
       "    font-weight: bold;\n",
       "    font-style: italic;\n",
       "}\n",
       ".hoogle-module {\n",
       "    font-weight: bold;\n",
       "}\n",
       ".hoogle-class {\n",
       "    font-weight: bold;\n",
       "}\n",
       "\n",
       "/* Styles used for basic displays */\n",
       ".get-type {\n",
       "    color: green;\n",
       "    font-weight: bold;\n",
       "    font-family: monospace;\n",
       "    display: block;\n",
       "    white-space: pre-wrap;\n",
       "}\n",
       "\n",
       ".show-type {\n",
       "    color: green;\n",
       "    font-weight: bold;\n",
       "    font-family: monospace;\n",
       "    margin-left: 1em;\n",
       "}\n",
       "\n",
       ".mono {\n",
       "    font-family: monospace;\n",
       "    display: block;\n",
       "}\n",
       "\n",
       ".err-msg {\n",
       "    color: red;\n",
       "    font-style: italic;\n",
       "    font-family: monospace;\n",
       "    white-space: pre;\n",
       "    display: block;\n",
       "}\n",
       "\n",
       "#unshowable {\n",
       "    color: red;\n",
       "    font-weight: bold;\n",
       "}\n",
       "\n",
       ".err-msg.in.collapse {\n",
       "  padding-top: 0.7em;\n",
       "}\n",
       "\n",
       "/* Code that will get highlighted before it is highlighted */\n",
       ".highlight-code {\n",
       "    white-space: pre;\n",
       "    font-family: monospace;\n",
       "}\n",
       "\n",
       "/* Hlint styles */\n",
       ".suggestion-warning { \n",
       "    font-weight: bold;\n",
       "    color: rgb(200, 130, 0);\n",
       "}\n",
       ".suggestion-error { \n",
       "    font-weight: bold;\n",
       "    color: red;\n",
       "}\n",
       ".suggestion-name {\n",
       "    font-weight: bold;\n",
       "}\n",
       "</style> <div class=\"suggestion-name\" style=\"clear:both;\">Use mapMaybe</div>  <div class=\"suggestion-row\" style=\"float: left;\"> <div class=\"suggestion-error\">Found:</div>  <div class=\"highlight-code\" id=\"haskell\">catMaybes (map splitCard (Fold.toList cs))</div> </div>  <div class=\"suggestion-row\" style=\"float: left;\"> <div class=\"suggestion-error\">Why Not:</div>  <div class=\"highlight-code\" id=\"haskell\">mapMaybe splitCard (Fold.toList cs)</div> </div> "
      ],
      "text/plain": [
       "Line 2: Use mapMaybe\n",
       "Found:\n",
       "catMaybes (map splitCard (Fold.toList cs))\n",
       "Why not:\n",
       "mapMaybe splitCard (Fold.toList cs)"
      ]
     },
     "metadata": {},
     "output_type": "display_data"
    }
   ],
   "source": [
    "cardsToMap1 :: Seq.Seq Card -> Map.Map String String\n",
    "cardsToMap1 cs = Map.fromList (catMaybes (map splitCard (Fold.toList cs)))"
   ]
  },
  {
   "cell_type": "markdown",
   "metadata": {},
   "source": [
    "which I only introduced as it will hopefully make it more obvious what the final version of the\n",
    "routine is doing (shown below). However, it also highlights a code simplification, since\n",
    "the pattern `catMaybes (map f xs)` can be replaced with `mapMaybe f xs`.\n",
    "The \n",
    "[`mapMaybe`](http://hackage.haskell.org/package/base-4.8.0.0/docs/Data-Maybe.html#v:mapMaybe)\n",
    "function has the signature"
   ]
  },
  {
   "cell_type": "code",
   "execution_count": 45,
   "metadata": {
    "collapsed": false
   },
   "outputs": [
    {
     "data": {
      "text/html": [
       "<style>/*\n",
       "Custom IHaskell CSS.\n",
       "*/\n",
       "\n",
       "/* Styles used for the Hoogle display in the pager */\n",
       ".hoogle-doc {\n",
       "    display: block;\n",
       "    padding-bottom: 1.3em;\n",
       "    padding-left: 0.4em;\n",
       "}\n",
       ".hoogle-code {\n",
       "    display: block;\n",
       "    font-family: monospace;\n",
       "    white-space: pre;\n",
       "}\n",
       ".hoogle-text {\n",
       "    display: block;\n",
       "}\n",
       ".hoogle-name {\n",
       "    color: green;\n",
       "    font-weight: bold;\n",
       "}\n",
       ".hoogle-head {\n",
       "    font-weight: bold;\n",
       "}\n",
       ".hoogle-sub {\n",
       "    display: block;\n",
       "    margin-left: 0.4em;\n",
       "}\n",
       ".hoogle-package {\n",
       "    font-weight: bold;\n",
       "    font-style: italic;\n",
       "}\n",
       ".hoogle-module {\n",
       "    font-weight: bold;\n",
       "}\n",
       ".hoogle-class {\n",
       "    font-weight: bold;\n",
       "}\n",
       "\n",
       "/* Styles used for basic displays */\n",
       ".get-type {\n",
       "    color: green;\n",
       "    font-weight: bold;\n",
       "    font-family: monospace;\n",
       "    display: block;\n",
       "    white-space: pre-wrap;\n",
       "}\n",
       "\n",
       ".show-type {\n",
       "    color: green;\n",
       "    font-weight: bold;\n",
       "    font-family: monospace;\n",
       "    margin-left: 1em;\n",
       "}\n",
       "\n",
       ".mono {\n",
       "    font-family: monospace;\n",
       "    display: block;\n",
       "}\n",
       "\n",
       ".err-msg {\n",
       "    color: red;\n",
       "    font-style: italic;\n",
       "    font-family: monospace;\n",
       "    white-space: pre;\n",
       "    display: block;\n",
       "}\n",
       "\n",
       "#unshowable {\n",
       "    color: red;\n",
       "    font-weight: bold;\n",
       "}\n",
       "\n",
       ".err-msg.in.collapse {\n",
       "  padding-top: 0.7em;\n",
       "}\n",
       "\n",
       "/* Code that will get highlighted before it is highlighted */\n",
       ".highlight-code {\n",
       "    white-space: pre;\n",
       "    font-family: monospace;\n",
       "}\n",
       "\n",
       "/* Hlint styles */\n",
       ".suggestion-warning { \n",
       "    font-weight: bold;\n",
       "    color: rgb(200, 130, 0);\n",
       "}\n",
       ".suggestion-error { \n",
       "    font-weight: bold;\n",
       "    color: red;\n",
       "}\n",
       ".suggestion-name {\n",
       "    font-weight: bold;\n",
       "}\n",
       "</style><span class='get-type'>mapMaybe :: forall a b. (a -> Maybe b) -> [a] -> [b]</span>"
      ],
      "text/plain": [
       "mapMaybe :: forall a b. (a -> Maybe b) -> [a] -> [b]"
      ]
     },
     "metadata": {},
     "output_type": "display_data"
    }
   ],
   "source": [
    "import Data.Maybe (mapMaybe)\n",
    ":type mapMaybe"
   ]
  },
  {
   "cell_type": "markdown",
   "metadata": {},
   "source": [
    "and will apply the function (here, `splitCard`) to every element of the list,\n",
    "throwing out all the `Nothing` values and extracting the successful values\n",
    "by removing the `Just` constructor. This modification was proffered by\n",
    "the Haskell linter ([`hlint`](http://community.haskell.org/~ndm/hlint/)),\n",
    "which also suggested the eta-reduction step earlier.\n",
    "\n",
    "The final version of the conversion routine is:"
   ]
  },
  {
   "cell_type": "code",
   "execution_count": 46,
   "metadata": {
    "collapsed": false
   },
   "outputs": [],
   "source": [
    "cardsToMap :: Seq.Seq Card -> Map.Map String String\n",
    "cardsToMap = Map.fromList . mapMaybe splitCard . Fold.toList"
   ]
  },
  {
   "cell_type": "markdown",
   "metadata": {},
   "source": [
    "In this version I have used\n",
    "[point-free syntax](http://en.wikipedia.org/wiki/Tacit_programming)\n",
    "(which - for the purpose of this notebook - means without including parameter names),\n",
    "[partial application](http://en.wikipedia.org/wiki/Partial_application),\n",
    "and\n",
    "[function composition](http://en.wikipedia.org/wiki/Function_composition_%28computer_science%29) \n",
    "(the \"`.`\" operator)\n",
    "to combine the steps. This is all a big digression, since the three versions of the\n",
    "routine all do the same thing, but I mention it here as this style is\n",
    "common in Haskell code.\n",
    "\n",
    "The `.` operator is used in two ways in the function `cardsToMap`:\n",
    "\n",
    " 1. to indicate the namespace of a symbol (e.g. that `filter` is taken from the\n",
    "    `Seq` module);\n",
    " \n",
    " 2. to combine functions.\n",
    " \n",
    "In the second case, `.` is itself a function, with the following signature"
   ]
  },
  {
   "cell_type": "code",
   "execution_count": 47,
   "metadata": {
    "collapsed": false
   },
   "outputs": [
    {
     "data": {
      "text/html": [
       "<style>/*\n",
       "Custom IHaskell CSS.\n",
       "*/\n",
       "\n",
       "/* Styles used for the Hoogle display in the pager */\n",
       ".hoogle-doc {\n",
       "    display: block;\n",
       "    padding-bottom: 1.3em;\n",
       "    padding-left: 0.4em;\n",
       "}\n",
       ".hoogle-code {\n",
       "    display: block;\n",
       "    font-family: monospace;\n",
       "    white-space: pre;\n",
       "}\n",
       ".hoogle-text {\n",
       "    display: block;\n",
       "}\n",
       ".hoogle-name {\n",
       "    color: green;\n",
       "    font-weight: bold;\n",
       "}\n",
       ".hoogle-head {\n",
       "    font-weight: bold;\n",
       "}\n",
       ".hoogle-sub {\n",
       "    display: block;\n",
       "    margin-left: 0.4em;\n",
       "}\n",
       ".hoogle-package {\n",
       "    font-weight: bold;\n",
       "    font-style: italic;\n",
       "}\n",
       ".hoogle-module {\n",
       "    font-weight: bold;\n",
       "}\n",
       ".hoogle-class {\n",
       "    font-weight: bold;\n",
       "}\n",
       "\n",
       "/* Styles used for basic displays */\n",
       ".get-type {\n",
       "    color: green;\n",
       "    font-weight: bold;\n",
       "    font-family: monospace;\n",
       "    display: block;\n",
       "    white-space: pre-wrap;\n",
       "}\n",
       "\n",
       ".show-type {\n",
       "    color: green;\n",
       "    font-weight: bold;\n",
       "    font-family: monospace;\n",
       "    margin-left: 1em;\n",
       "}\n",
       "\n",
       ".mono {\n",
       "    font-family: monospace;\n",
       "    display: block;\n",
       "}\n",
       "\n",
       ".err-msg {\n",
       "    color: red;\n",
       "    font-style: italic;\n",
       "    font-family: monospace;\n",
       "    white-space: pre;\n",
       "    display: block;\n",
       "}\n",
       "\n",
       "#unshowable {\n",
       "    color: red;\n",
       "    font-weight: bold;\n",
       "}\n",
       "\n",
       ".err-msg.in.collapse {\n",
       "  padding-top: 0.7em;\n",
       "}\n",
       "\n",
       "/* Code that will get highlighted before it is highlighted */\n",
       ".highlight-code {\n",
       "    white-space: pre;\n",
       "    font-family: monospace;\n",
       "}\n",
       "\n",
       "/* Hlint styles */\n",
       ".suggestion-warning { \n",
       "    font-weight: bold;\n",
       "    color: rgb(200, 130, 0);\n",
       "}\n",
       ".suggestion-error { \n",
       "    font-weight: bold;\n",
       "    color: red;\n",
       "}\n",
       ".suggestion-name {\n",
       "    font-weight: bold;\n",
       "}\n",
       "</style><span class='get-type'>(.) :: forall b c a. (b -> c) -> (a -> b) -> a -> c</span>"
      ],
      "text/plain": [
       "(.) :: forall b c a. (b -> c) -> (a -> b) -> a -> c"
      ]
     },
     "metadata": {},
     "output_type": "display_data"
    }
   ],
   "source": [
    ":type (.)"
   ]
  },
  {
   "cell_type": "markdown",
   "metadata": {},
   "source": [
    "That is, if `f` and `g` are single-argument functions, then `f . g` and `g . f` are both single argument functions,\n",
    "where `f . g` means the same as `f (g x)` and `g . f` means `g (f x)`. So, function composition is read right to left. I find that this syntax can help focus on the way information flows through a sequence of functions,\n",
    "but it can definitely be hard to read, and occasionally \n",
    "[taken way past sensible extremes](https://wiki.haskell.org/Pointfree#Problems_with_pointfree)!\n",
    "\n",
    "It's time to stop the digressions and actually use the function:"
   ]
  },
  {
   "cell_type": "code",
   "execution_count": 48,
   "metadata": {
    "collapsed": false
   },
   "outputs": [],
   "source": [
    "hdr = cardsToMap units"
   ]
  },
  {
   "cell_type": "markdown",
   "metadata": {},
   "source": [
    "The \n",
    "[`size`](http://hackage.haskell.org/package/containers-0.5.6.3/docs/Data-Map-Lazy.html#v:size)\n",
    "function returns the number of keys in the map:"
   ]
  },
  {
   "cell_type": "code",
   "execution_count": 49,
   "metadata": {
    "collapsed": false
   },
   "outputs": [
    {
     "data": {
      "text/plain": [
       "109"
      ]
     },
     "metadata": {},
     "output_type": "display_data"
    }
   ],
   "source": [
    "Map.size hdr"
   ]
  },
  {
   "cell_type": "markdown",
   "metadata": {},
   "source": [
    "and I can use `lookup` on it:"
   ]
  },
  {
   "cell_type": "code",
   "execution_count": 50,
   "metadata": {
    "collapsed": false
   },
   "outputs": [
    {
     "data": {
      "text/plain": [
       "Just \"'BINTABLE'           / binary table extension\""
      ]
     },
     "metadata": {},
     "output_type": "display_data"
    },
    {
     "data": {
      "text/plain": [
       "Nothing"
      ]
     },
     "metadata": {},
     "output_type": "display_data"
    }
   ],
   "source": [
    "Map.lookup \"XTENSION\" hdr\n",
    "Map.lookup \"DOESNOTEXIST\" hdr"
   ]
  },
  {
   "cell_type": "markdown",
   "metadata": {},
   "source": [
    "Since I'm going to want to call `lookup` a few times - and I'm lazy - I want a helper routine\n",
    "that means I don't have to send in the header, and automatically removes the `Just` wrapper:"
   ]
  },
  {
   "cell_type": "code",
   "execution_count": 51,
   "metadata": {
    "collapsed": true
   },
   "outputs": [],
   "source": [
    "import Data.Maybe (fromJust)\n",
    "\n",
    "getKey1 key = fromJust (Map.lookup key hdr)"
   ]
  },
  {
   "cell_type": "markdown",
   "metadata": {},
   "source": [
    "Following my point-free mania, this can be \"simplified\" to:"
   ]
  },
  {
   "cell_type": "code",
   "execution_count": 52,
   "metadata": {
    "collapsed": true
   },
   "outputs": [],
   "source": [
    "getKey = fromJust . flip Map.lookup hdr"
   ]
  },
  {
   "cell_type": "markdown",
   "metadata": {},
   "source": [
    "This uses the \n",
    "[`flip`](http://hackage.haskell.org/package/base-4.8.0.0/docs/Prelude.html#v:flip)\n",
    "function to swap the argument order to `lookup`, so that I can use eta reduction to avoid\n",
    "naming the keyword variable, and\n",
    "[`fromJust`](http://hackage.haskell.org/package/base-4.8.0.0/docs/Data-Maybe.html#v:fromJust)\n",
    "to extract the value from the `Just` constructor. Now, `fromJust` is\n",
    "what is known as a\n",
    "[partial function](http://en.wikipedia.org/wiki/Partial_function) since it is not\n",
    "defined for all inputs: that is, if the input is a `Nothing` the routine\n",
    "will raise a run-time error.\n",
    "This is not normally considered \"good form\" in Haskell code, but I feel it's okay for\n",
    "this interactive exploration.\n",
    "\n",
    "Here's a run through of how the types work out when `flip` is used. As with\n",
    "many of the \"tips\" I've been showing here, it should be used with care!"
   ]
  },
  {
   "cell_type": "code",
   "execution_count": 53,
   "metadata": {
    "collapsed": false
   },
   "outputs": [
    {
     "data": {
      "text/html": [
       "<style>/*\n",
       "Custom IHaskell CSS.\n",
       "*/\n",
       "\n",
       "/* Styles used for the Hoogle display in the pager */\n",
       ".hoogle-doc {\n",
       "    display: block;\n",
       "    padding-bottom: 1.3em;\n",
       "    padding-left: 0.4em;\n",
       "}\n",
       ".hoogle-code {\n",
       "    display: block;\n",
       "    font-family: monospace;\n",
       "    white-space: pre;\n",
       "}\n",
       ".hoogle-text {\n",
       "    display: block;\n",
       "}\n",
       ".hoogle-name {\n",
       "    color: green;\n",
       "    font-weight: bold;\n",
       "}\n",
       ".hoogle-head {\n",
       "    font-weight: bold;\n",
       "}\n",
       ".hoogle-sub {\n",
       "    display: block;\n",
       "    margin-left: 0.4em;\n",
       "}\n",
       ".hoogle-package {\n",
       "    font-weight: bold;\n",
       "    font-style: italic;\n",
       "}\n",
       ".hoogle-module {\n",
       "    font-weight: bold;\n",
       "}\n",
       ".hoogle-class {\n",
       "    font-weight: bold;\n",
       "}\n",
       "\n",
       "/* Styles used for basic displays */\n",
       ".get-type {\n",
       "    color: green;\n",
       "    font-weight: bold;\n",
       "    font-family: monospace;\n",
       "    display: block;\n",
       "    white-space: pre-wrap;\n",
       "}\n",
       "\n",
       ".show-type {\n",
       "    color: green;\n",
       "    font-weight: bold;\n",
       "    font-family: monospace;\n",
       "    margin-left: 1em;\n",
       "}\n",
       "\n",
       ".mono {\n",
       "    font-family: monospace;\n",
       "    display: block;\n",
       "}\n",
       "\n",
       ".err-msg {\n",
       "    color: red;\n",
       "    font-style: italic;\n",
       "    font-family: monospace;\n",
       "    white-space: pre;\n",
       "    display: block;\n",
       "}\n",
       "\n",
       "#unshowable {\n",
       "    color: red;\n",
       "    font-weight: bold;\n",
       "}\n",
       "\n",
       ".err-msg.in.collapse {\n",
       "  padding-top: 0.7em;\n",
       "}\n",
       "\n",
       "/* Code that will get highlighted before it is highlighted */\n",
       ".highlight-code {\n",
       "    white-space: pre;\n",
       "    font-family: monospace;\n",
       "}\n",
       "\n",
       "/* Hlint styles */\n",
       ".suggestion-warning { \n",
       "    font-weight: bold;\n",
       "    color: rgb(200, 130, 0);\n",
       "}\n",
       ".suggestion-error { \n",
       "    font-weight: bold;\n",
       "    color: red;\n",
       "}\n",
       ".suggestion-name {\n",
       "    font-weight: bold;\n",
       "}\n",
       "</style><span class='get-type'>Map.lookup :: forall k a. Ord k => k -> Map k a -> Maybe a</span>"
      ],
      "text/plain": [
       "Map.lookup :: forall k a. Ord k => k -> Map k a -> Maybe a"
      ]
     },
     "metadata": {},
     "output_type": "display_data"
    },
    {
     "data": {
      "text/html": [
       "<style>/*\n",
       "Custom IHaskell CSS.\n",
       "*/\n",
       "\n",
       "/* Styles used for the Hoogle display in the pager */\n",
       ".hoogle-doc {\n",
       "    display: block;\n",
       "    padding-bottom: 1.3em;\n",
       "    padding-left: 0.4em;\n",
       "}\n",
       ".hoogle-code {\n",
       "    display: block;\n",
       "    font-family: monospace;\n",
       "    white-space: pre;\n",
       "}\n",
       ".hoogle-text {\n",
       "    display: block;\n",
       "}\n",
       ".hoogle-name {\n",
       "    color: green;\n",
       "    font-weight: bold;\n",
       "}\n",
       ".hoogle-head {\n",
       "    font-weight: bold;\n",
       "}\n",
       ".hoogle-sub {\n",
       "    display: block;\n",
       "    margin-left: 0.4em;\n",
       "}\n",
       ".hoogle-package {\n",
       "    font-weight: bold;\n",
       "    font-style: italic;\n",
       "}\n",
       ".hoogle-module {\n",
       "    font-weight: bold;\n",
       "}\n",
       ".hoogle-class {\n",
       "    font-weight: bold;\n",
       "}\n",
       "\n",
       "/* Styles used for basic displays */\n",
       ".get-type {\n",
       "    color: green;\n",
       "    font-weight: bold;\n",
       "    font-family: monospace;\n",
       "    display: block;\n",
       "    white-space: pre-wrap;\n",
       "}\n",
       "\n",
       ".show-type {\n",
       "    color: green;\n",
       "    font-weight: bold;\n",
       "    font-family: monospace;\n",
       "    margin-left: 1em;\n",
       "}\n",
       "\n",
       ".mono {\n",
       "    font-family: monospace;\n",
       "    display: block;\n",
       "}\n",
       "\n",
       ".err-msg {\n",
       "    color: red;\n",
       "    font-style: italic;\n",
       "    font-family: monospace;\n",
       "    white-space: pre;\n",
       "    display: block;\n",
       "}\n",
       "\n",
       "#unshowable {\n",
       "    color: red;\n",
       "    font-weight: bold;\n",
       "}\n",
       "\n",
       ".err-msg.in.collapse {\n",
       "  padding-top: 0.7em;\n",
       "}\n",
       "\n",
       "/* Code that will get highlighted before it is highlighted */\n",
       ".highlight-code {\n",
       "    white-space: pre;\n",
       "    font-family: monospace;\n",
       "}\n",
       "\n",
       "/* Hlint styles */\n",
       ".suggestion-warning { \n",
       "    font-weight: bold;\n",
       "    color: rgb(200, 130, 0);\n",
       "}\n",
       ".suggestion-error { \n",
       "    font-weight: bold;\n",
       "    color: red;\n",
       "}\n",
       ".suggestion-name {\n",
       "    font-weight: bold;\n",
       "}\n",
       "</style><span class='get-type'>flip :: forall a b c. (a -> b -> c) -> b -> a -> c</span>"
      ],
      "text/plain": [
       "flip :: forall a b c. (a -> b -> c) -> b -> a -> c"
      ]
     },
     "metadata": {},
     "output_type": "display_data"
    },
    {
     "data": {
      "text/html": [
       "<style>/*\n",
       "Custom IHaskell CSS.\n",
       "*/\n",
       "\n",
       "/* Styles used for the Hoogle display in the pager */\n",
       ".hoogle-doc {\n",
       "    display: block;\n",
       "    padding-bottom: 1.3em;\n",
       "    padding-left: 0.4em;\n",
       "}\n",
       ".hoogle-code {\n",
       "    display: block;\n",
       "    font-family: monospace;\n",
       "    white-space: pre;\n",
       "}\n",
       ".hoogle-text {\n",
       "    display: block;\n",
       "}\n",
       ".hoogle-name {\n",
       "    color: green;\n",
       "    font-weight: bold;\n",
       "}\n",
       ".hoogle-head {\n",
       "    font-weight: bold;\n",
       "}\n",
       ".hoogle-sub {\n",
       "    display: block;\n",
       "    margin-left: 0.4em;\n",
       "}\n",
       ".hoogle-package {\n",
       "    font-weight: bold;\n",
       "    font-style: italic;\n",
       "}\n",
       ".hoogle-module {\n",
       "    font-weight: bold;\n",
       "}\n",
       ".hoogle-class {\n",
       "    font-weight: bold;\n",
       "}\n",
       "\n",
       "/* Styles used for basic displays */\n",
       ".get-type {\n",
       "    color: green;\n",
       "    font-weight: bold;\n",
       "    font-family: monospace;\n",
       "    display: block;\n",
       "    white-space: pre-wrap;\n",
       "}\n",
       "\n",
       ".show-type {\n",
       "    color: green;\n",
       "    font-weight: bold;\n",
       "    font-family: monospace;\n",
       "    margin-left: 1em;\n",
       "}\n",
       "\n",
       ".mono {\n",
       "    font-family: monospace;\n",
       "    display: block;\n",
       "}\n",
       "\n",
       ".err-msg {\n",
       "    color: red;\n",
       "    font-style: italic;\n",
       "    font-family: monospace;\n",
       "    white-space: pre;\n",
       "    display: block;\n",
       "}\n",
       "\n",
       "#unshowable {\n",
       "    color: red;\n",
       "    font-weight: bold;\n",
       "}\n",
       "\n",
       ".err-msg.in.collapse {\n",
       "  padding-top: 0.7em;\n",
       "}\n",
       "\n",
       "/* Code that will get highlighted before it is highlighted */\n",
       ".highlight-code {\n",
       "    white-space: pre;\n",
       "    font-family: monospace;\n",
       "}\n",
       "\n",
       "/* Hlint styles */\n",
       ".suggestion-warning { \n",
       "    font-weight: bold;\n",
       "    color: rgb(200, 130, 0);\n",
       "}\n",
       ".suggestion-error { \n",
       "    font-weight: bold;\n",
       "    color: red;\n",
       "}\n",
       ".suggestion-name {\n",
       "    font-weight: bold;\n",
       "}\n",
       "</style><span class='get-type'>flip Map.lookup :: forall a a1. Ord a => Map a a1 -> a -> Maybe a1</span>"
      ],
      "text/plain": [
       "flip Map.lookup :: forall a a1. Ord a => Map a a1 -> a -> Maybe a1"
      ]
     },
     "metadata": {},
     "output_type": "display_data"
    },
    {
     "data": {
      "text/html": [
       "<style>/*\n",
       "Custom IHaskell CSS.\n",
       "*/\n",
       "\n",
       "/* Styles used for the Hoogle display in the pager */\n",
       ".hoogle-doc {\n",
       "    display: block;\n",
       "    padding-bottom: 1.3em;\n",
       "    padding-left: 0.4em;\n",
       "}\n",
       ".hoogle-code {\n",
       "    display: block;\n",
       "    font-family: monospace;\n",
       "    white-space: pre;\n",
       "}\n",
       ".hoogle-text {\n",
       "    display: block;\n",
       "}\n",
       ".hoogle-name {\n",
       "    color: green;\n",
       "    font-weight: bold;\n",
       "}\n",
       ".hoogle-head {\n",
       "    font-weight: bold;\n",
       "}\n",
       ".hoogle-sub {\n",
       "    display: block;\n",
       "    margin-left: 0.4em;\n",
       "}\n",
       ".hoogle-package {\n",
       "    font-weight: bold;\n",
       "    font-style: italic;\n",
       "}\n",
       ".hoogle-module {\n",
       "    font-weight: bold;\n",
       "}\n",
       ".hoogle-class {\n",
       "    font-weight: bold;\n",
       "}\n",
       "\n",
       "/* Styles used for basic displays */\n",
       ".get-type {\n",
       "    color: green;\n",
       "    font-weight: bold;\n",
       "    font-family: monospace;\n",
       "    display: block;\n",
       "    white-space: pre-wrap;\n",
       "}\n",
       "\n",
       ".show-type {\n",
       "    color: green;\n",
       "    font-weight: bold;\n",
       "    font-family: monospace;\n",
       "    margin-left: 1em;\n",
       "}\n",
       "\n",
       ".mono {\n",
       "    font-family: monospace;\n",
       "    display: block;\n",
       "}\n",
       "\n",
       ".err-msg {\n",
       "    color: red;\n",
       "    font-style: italic;\n",
       "    font-family: monospace;\n",
       "    white-space: pre;\n",
       "    display: block;\n",
       "}\n",
       "\n",
       "#unshowable {\n",
       "    color: red;\n",
       "    font-weight: bold;\n",
       "}\n",
       "\n",
       ".err-msg.in.collapse {\n",
       "  padding-top: 0.7em;\n",
       "}\n",
       "\n",
       "/* Code that will get highlighted before it is highlighted */\n",
       ".highlight-code {\n",
       "    white-space: pre;\n",
       "    font-family: monospace;\n",
       "}\n",
       "\n",
       "/* Hlint styles */\n",
       ".suggestion-warning { \n",
       "    font-weight: bold;\n",
       "    color: rgb(200, 130, 0);\n",
       "}\n",
       ".suggestion-error { \n",
       "    font-weight: bold;\n",
       "    color: red;\n",
       "}\n",
       ".suggestion-name {\n",
       "    font-weight: bold;\n",
       "}\n",
       "</style><span class='get-type'>flip Map.lookup hdr :: String -> Maybe String</span>"
      ],
      "text/plain": [
       "flip Map.lookup hdr :: String -> Maybe String"
      ]
     },
     "metadata": {},
     "output_type": "display_data"
    },
    {
     "data": {
      "text/html": [
       "<style>/*\n",
       "Custom IHaskell CSS.\n",
       "*/\n",
       "\n",
       "/* Styles used for the Hoogle display in the pager */\n",
       ".hoogle-doc {\n",
       "    display: block;\n",
       "    padding-bottom: 1.3em;\n",
       "    padding-left: 0.4em;\n",
       "}\n",
       ".hoogle-code {\n",
       "    display: block;\n",
       "    font-family: monospace;\n",
       "    white-space: pre;\n",
       "}\n",
       ".hoogle-text {\n",
       "    display: block;\n",
       "}\n",
       ".hoogle-name {\n",
       "    color: green;\n",
       "    font-weight: bold;\n",
       "}\n",
       ".hoogle-head {\n",
       "    font-weight: bold;\n",
       "}\n",
       ".hoogle-sub {\n",
       "    display: block;\n",
       "    margin-left: 0.4em;\n",
       "}\n",
       ".hoogle-package {\n",
       "    font-weight: bold;\n",
       "    font-style: italic;\n",
       "}\n",
       ".hoogle-module {\n",
       "    font-weight: bold;\n",
       "}\n",
       ".hoogle-class {\n",
       "    font-weight: bold;\n",
       "}\n",
       "\n",
       "/* Styles used for basic displays */\n",
       ".get-type {\n",
       "    color: green;\n",
       "    font-weight: bold;\n",
       "    font-family: monospace;\n",
       "    display: block;\n",
       "    white-space: pre-wrap;\n",
       "}\n",
       "\n",
       ".show-type {\n",
       "    color: green;\n",
       "    font-weight: bold;\n",
       "    font-family: monospace;\n",
       "    margin-left: 1em;\n",
       "}\n",
       "\n",
       ".mono {\n",
       "    font-family: monospace;\n",
       "    display: block;\n",
       "}\n",
       "\n",
       ".err-msg {\n",
       "    color: red;\n",
       "    font-style: italic;\n",
       "    font-family: monospace;\n",
       "    white-space: pre;\n",
       "    display: block;\n",
       "}\n",
       "\n",
       "#unshowable {\n",
       "    color: red;\n",
       "    font-weight: bold;\n",
       "}\n",
       "\n",
       ".err-msg.in.collapse {\n",
       "  padding-top: 0.7em;\n",
       "}\n",
       "\n",
       "/* Code that will get highlighted before it is highlighted */\n",
       ".highlight-code {\n",
       "    white-space: pre;\n",
       "    font-family: monospace;\n",
       "}\n",
       "\n",
       "/* Hlint styles */\n",
       ".suggestion-warning { \n",
       "    font-weight: bold;\n",
       "    color: rgb(200, 130, 0);\n",
       "}\n",
       ".suggestion-error { \n",
       "    font-weight: bold;\n",
       "    color: red;\n",
       "}\n",
       ".suggestion-name {\n",
       "    font-weight: bold;\n",
       "}\n",
       "</style><span class='get-type'>fromJust . flip Map.lookup hdr :: String -> String</span>"
      ],
      "text/plain": [
       "fromJust . flip Map.lookup hdr :: String -> String"
      ]
     },
     "metadata": {},
     "output_type": "display_data"
    }
   ],
   "source": [
    ":type Map.lookup\n",
    ":type flip\n",
    ":type flip Map.lookup\n",
    ":type flip Map.lookup hdr\n",
    ":type fromJust . flip Map.lookup hdr"
   ]
  },
  {
   "cell_type": "markdown",
   "metadata": {},
   "source": [
    "In case you are interested, here is an example of `getKey` \"blowing up\" due to a\n",
    "missing keyword:"
   ]
  },
  {
   "cell_type": "code",
   "execution_count": 54,
   "metadata": {
    "collapsed": false
   },
   "outputs": [
    {
     "data": {
      "text/html": [
       "<style>/*\n",
       "Custom IHaskell CSS.\n",
       "*/\n",
       "\n",
       "/* Styles used for the Hoogle display in the pager */\n",
       ".hoogle-doc {\n",
       "    display: block;\n",
       "    padding-bottom: 1.3em;\n",
       "    padding-left: 0.4em;\n",
       "}\n",
       ".hoogle-code {\n",
       "    display: block;\n",
       "    font-family: monospace;\n",
       "    white-space: pre;\n",
       "}\n",
       ".hoogle-text {\n",
       "    display: block;\n",
       "}\n",
       ".hoogle-name {\n",
       "    color: green;\n",
       "    font-weight: bold;\n",
       "}\n",
       ".hoogle-head {\n",
       "    font-weight: bold;\n",
       "}\n",
       ".hoogle-sub {\n",
       "    display: block;\n",
       "    margin-left: 0.4em;\n",
       "}\n",
       ".hoogle-package {\n",
       "    font-weight: bold;\n",
       "    font-style: italic;\n",
       "}\n",
       ".hoogle-module {\n",
       "    font-weight: bold;\n",
       "}\n",
       ".hoogle-class {\n",
       "    font-weight: bold;\n",
       "}\n",
       "\n",
       "/* Styles used for basic displays */\n",
       ".get-type {\n",
       "    color: green;\n",
       "    font-weight: bold;\n",
       "    font-family: monospace;\n",
       "    display: block;\n",
       "    white-space: pre-wrap;\n",
       "}\n",
       "\n",
       ".show-type {\n",
       "    color: green;\n",
       "    font-weight: bold;\n",
       "    font-family: monospace;\n",
       "    margin-left: 1em;\n",
       "}\n",
       "\n",
       ".mono {\n",
       "    font-family: monospace;\n",
       "    display: block;\n",
       "}\n",
       "\n",
       ".err-msg {\n",
       "    color: red;\n",
       "    font-style: italic;\n",
       "    font-family: monospace;\n",
       "    white-space: pre;\n",
       "    display: block;\n",
       "}\n",
       "\n",
       "#unshowable {\n",
       "    color: red;\n",
       "    font-weight: bold;\n",
       "}\n",
       "\n",
       ".err-msg.in.collapse {\n",
       "  padding-top: 0.7em;\n",
       "}\n",
       "\n",
       "/* Code that will get highlighted before it is highlighted */\n",
       ".highlight-code {\n",
       "    white-space: pre;\n",
       "    font-family: monospace;\n",
       "}\n",
       "\n",
       "/* Hlint styles */\n",
       ".suggestion-warning { \n",
       "    font-weight: bold;\n",
       "    color: rgb(200, 130, 0);\n",
       "}\n",
       ".suggestion-error { \n",
       "    font-weight: bold;\n",
       "    color: red;\n",
       "}\n",
       ".suggestion-name {\n",
       "    font-weight: bold;\n",
       "}\n",
       "</style><span class='err-msg'>Maybe.fromJust: Nothing</span>"
      ],
      "text/plain": [
       "Maybe.fromJust: Nothing"
      ]
     },
     "metadata": {},
     "output_type": "display_data"
    }
   ],
   "source": [
    "getKey \"DOESNOTEXIST\""
   ]
  },
  {
   "cell_type": "markdown",
   "metadata": {},
   "source": [
    "For a FITS binary table, the important \"structural\" keywords - i.e. those that define the layout and size\n",
    "of the binary data - are:"
   ]
  },
  {
   "cell_type": "code",
   "execution_count": 55,
   "metadata": {
    "collapsed": false
   },
   "outputs": [
    {
     "data": {
      "text/plain": [
       "\"8 / 8-bit bytes\""
      ]
     },
     "metadata": {},
     "output_type": "display_data"
    },
    {
     "data": {
      "text/plain": [
       "\"2 / 2-dimensional binary table\""
      ]
     },
     "metadata": {},
     "output_type": "display_data"
    },
    {
     "data": {
      "text/plain": [
       "\"12 / width of table in bytes\""
      ]
     },
     "metadata": {},
     "output_type": "display_data"
    },
    {
     "data": {
      "text/plain": [
       "\"1070 / number of rows in table\""
      ]
     },
     "metadata": {},
     "output_type": "display_data"
    },
    {
     "data": {
      "text/plain": [
       "\"3 / number of fields in each row\""
      ]
     },
     "metadata": {},
     "output_type": "display_data"
    }
   ],
   "source": [
    "getKey \"BITPIX\"\n",
    "getKey \"NAXIS\"\n",
    "getKey \"NAXIS1\"\n",
    "getKey \"NAXIS2\"\n",
    "getKey \"TFIELDS\""
   ]
  },
  {
   "cell_type": "markdown",
   "metadata": {},
   "source": [
    "So, there are three fields - i.e. columns - in each row, each row is 12 bytes long, and there are\n",
    "1070 rows of data. The field (column) information is stored in the following keywords:"
   ]
  },
  {
   "cell_type": "code",
   "execution_count": 56,
   "metadata": {
    "collapsed": false
   },
   "outputs": [
    {
     "data": {
      "text/plain": [
       "\"'ENERG_LO'           / Min Energy\""
      ]
     },
     "metadata": {},
     "output_type": "display_data"
    },
    {
     "data": {
      "text/plain": [
       "\"'1E      '           / format of field\""
      ]
     },
     "metadata": {},
     "output_type": "display_data"
    },
    {
     "data": {
      "text/plain": [
       "\"'keV     '\""
      ]
     },
     "metadata": {},
     "output_type": "display_data"
    }
   ],
   "source": [
    "getKey \"TTYPE1\"\n",
    "getKey \"TFORM1\"\n",
    "getKey \"TUNIT1\""
   ]
  },
  {
   "cell_type": "code",
   "execution_count": 57,
   "metadata": {
    "collapsed": false
   },
   "outputs": [
    {
     "data": {
      "text/plain": [
       "\"'ENERG_HI'           / Max Energy\""
      ]
     },
     "metadata": {},
     "output_type": "display_data"
    },
    {
     "data": {
      "text/plain": [
       "\"'1E      '           / format of field\""
      ]
     },
     "metadata": {},
     "output_type": "display_data"
    },
    {
     "data": {
      "text/plain": [
       "\"'keV     '\""
      ]
     },
     "metadata": {},
     "output_type": "display_data"
    }
   ],
   "source": [
    "getKey \"TTYPE2\"\n",
    "getKey \"TFORM2\"\n",
    "getKey \"TUNIT2\""
   ]
  },
  {
   "cell_type": "code",
   "execution_count": 58,
   "metadata": {
    "collapsed": false
   },
   "outputs": [
    {
     "data": {
      "text/plain": [
       "\"'SPECRESP'           / Effective Area\""
      ]
     },
     "metadata": {},
     "output_type": "display_data"
    },
    {
     "data": {
      "text/plain": [
       "\"'1E      '           / format of field\""
      ]
     },
     "metadata": {},
     "output_type": "display_data"
    },
    {
     "data": {
      "text/plain": [
       "\"'cm**2   '\""
      ]
     },
     "metadata": {},
     "output_type": "display_data"
    }
   ],
   "source": [
    "getKey \"TTYPE3\"\n",
    "getKey \"TFORM3\"\n",
    "getKey \"TUNIT3\""
   ]
  },
  {
   "cell_type": "markdown",
   "metadata": {},
   "source": [
    "So, the three columns are called \n",
    "`ENERG_LO`, `ENERG_HI`, and `SPECRESP` (the `TTYPEn` values); \n",
    "the data is represented as three 32-bit IEEE-754 floating-point numbers with no packing (the\n",
    "`NAXIS1` and `TFORMn` values) and is in big-endian format$^\\dagger$. The `TUNITn` keys give any units\n",
    "associated with the column, and are not needed to parse the data. It would be an interesting\n",
    "experiment to see if the unit value could be used to create a \"numerically-typed\" variable, \n",
    "as I used in my \n",
    "[first three notebooks](https://github.com/DougBurke/astro-haskell/blob/master/README.md),\n",
    "and I may come back to this idea at some unspecified point in the future!\n",
    "\n",
    "$^\\dagger$ I'm sure the standard specifies this, but I just tried the various \"endian\" conversion routines until I got the answers I expected!\n",
    "\n",
    "For this notebook I am going to use an \"array of structures\" representation - that is, create a record to represent each row - rather than a \"structure of arrays\". For this, I need a row type, such as\n",
    "\n",
    "```\n",
    "data Row = Row { energLo :: Float, energHi :: Float, specResp :: Float }\n",
    "```\n",
    "\n",
    "which uses the Haskell\n",
    "[record syntax](http://learnyouahaskell.com/making-our-own-types-and-typeclasses#record-syntax) \n",
    "to allow the fields of the structure to be named (it's a bit like a C-style `struct`\n",
    "or Python's [`namedtuple`](http://pymotw.com/2/collections/namedtuple.html)).\n",
    "\n",
    "However, I'm going to be a little-more general than this, and allow the row to be parameterised\n",
    "by the data type used to store the data; that is:"
   ]
  },
  {
   "cell_type": "code",
   "execution_count": 59,
   "metadata": {
    "collapsed": true
   },
   "outputs": [],
   "source": [
    "data Row a = Row { energLo :: a, energHi :: a, specResp :: a } deriving (Eq, Show)"
   ]
  },
  {
   "cell_type": "markdown",
   "metadata": {},
   "source": [
    "I've told the compiler to \n",
    "[automatically create](http://en.wikibooks.org/wiki/Haskell/Classes_and_types#Deriving)\n",
    "instances of the \n",
    "[`Eq`](http://hackage.haskell.org/package/base-4.8.0.0/docs/Prelude.html#t:Eq)\n",
    "and \n",
    "[`Show`](http://hackage.haskell.org/package/base-4.8.0.0/docs/Prelude.html#t:Show)\n",
    "typeclasses for this type: the latter because it'll be useful when checking that the\n",
    "parsing has worked and the former for a sanity check I make later on, once I've read in all the data."
   ]
  },
  {
   "cell_type": "code",
   "execution_count": 60,
   "metadata": {
    "collapsed": true
   },
   "outputs": [],
   "source": [
    "instance Functor Row where\n",
    "  fmap f (Row elo ehi spec) = Row (f elo) (f ehi) (f spec)"
   ]
  },
  {
   "cell_type": "markdown",
   "metadata": {},
   "source": [
    "I manually create\n",
    "a \n",
    "[`Functor` instance](http://hackage.haskell.org/package/base-4.8.0.0/docs/Prelude.html#t:Functor)\n",
    "because I'll want that when plotting up the results$^\\dagger$. \n",
    "I could have got the compiler to derive this\n",
    "code too, by turning on the `DeriveFunctor` extension, but I felt it useful to show the code.\n",
    "The functor instance lets you apply a function to all elements of the row (so just like how\n",
    "`map` lets you apply a function to all elements of a list and it is how I applied\n",
    "`splitCard` to every element in the sequence as part of the `cardsToMap` function).\n",
    "\n",
    "$^\\dagger$ This isn't strictly necessary, as it doesn't save much code in this particular example, but\n",
    "why not!\n",
    "\n",
    "As an example of this functor instance, let's create a row of float values:"
   ]
  },
  {
   "cell_type": "code",
   "execution_count": 61,
   "metadata": {
    "collapsed": false
   },
   "outputs": [],
   "source": [
    "testRow :: Row Float\n",
    "testRow = Row 0.1 0.2 10.0"
   ]
  },
  {
   "cell_type": "markdown",
   "metadata": {},
   "source": [
    "which can be displayed (taking advantage of the automatically-derived `Show` instance):"
   ]
  },
  {
   "cell_type": "code",
   "execution_count": 62,
   "metadata": {
    "collapsed": false
   },
   "outputs": [
    {
     "data": {
      "text/plain": [
       "Row {energLo = 0.1, energHi = 0.2, specResp = 10.0}"
      ]
     },
     "metadata": {},
     "output_type": "display_data"
    }
   ],
   "source": [
    "testRow"
   ]
  },
  {
   "cell_type": "markdown",
   "metadata": {},
   "source": [
    "The functor instance allows us to convert all the values to a string,\n",
    "by applying `show` to each field using \n",
    "[`fmap`](http://hackage.haskell.org/package/base-4.8.0.0/docs/Prelude.html#v:fmap):"
   ]
  },
  {
   "cell_type": "code",
   "execution_count": 63,
   "metadata": {
    "collapsed": false
   },
   "outputs": [
    {
     "data": {
      "text/plain": [
       "Row {energLo = \"0.1\", energHi = \"0.2\", specResp = \"10.0\"}"
      ]
     },
     "metadata": {},
     "output_type": "display_data"
    },
    {
     "data": {
      "text/html": [
       "<style>/*\n",
       "Custom IHaskell CSS.\n",
       "*/\n",
       "\n",
       "/* Styles used for the Hoogle display in the pager */\n",
       ".hoogle-doc {\n",
       "    display: block;\n",
       "    padding-bottom: 1.3em;\n",
       "    padding-left: 0.4em;\n",
       "}\n",
       ".hoogle-code {\n",
       "    display: block;\n",
       "    font-family: monospace;\n",
       "    white-space: pre;\n",
       "}\n",
       ".hoogle-text {\n",
       "    display: block;\n",
       "}\n",
       ".hoogle-name {\n",
       "    color: green;\n",
       "    font-weight: bold;\n",
       "}\n",
       ".hoogle-head {\n",
       "    font-weight: bold;\n",
       "}\n",
       ".hoogle-sub {\n",
       "    display: block;\n",
       "    margin-left: 0.4em;\n",
       "}\n",
       ".hoogle-package {\n",
       "    font-weight: bold;\n",
       "    font-style: italic;\n",
       "}\n",
       ".hoogle-module {\n",
       "    font-weight: bold;\n",
       "}\n",
       ".hoogle-class {\n",
       "    font-weight: bold;\n",
       "}\n",
       "\n",
       "/* Styles used for basic displays */\n",
       ".get-type {\n",
       "    color: green;\n",
       "    font-weight: bold;\n",
       "    font-family: monospace;\n",
       "    display: block;\n",
       "    white-space: pre-wrap;\n",
       "}\n",
       "\n",
       ".show-type {\n",
       "    color: green;\n",
       "    font-weight: bold;\n",
       "    font-family: monospace;\n",
       "    margin-left: 1em;\n",
       "}\n",
       "\n",
       ".mono {\n",
       "    font-family: monospace;\n",
       "    display: block;\n",
       "}\n",
       "\n",
       ".err-msg {\n",
       "    color: red;\n",
       "    font-style: italic;\n",
       "    font-family: monospace;\n",
       "    white-space: pre;\n",
       "    display: block;\n",
       "}\n",
       "\n",
       "#unshowable {\n",
       "    color: red;\n",
       "    font-weight: bold;\n",
       "}\n",
       "\n",
       ".err-msg.in.collapse {\n",
       "  padding-top: 0.7em;\n",
       "}\n",
       "\n",
       "/* Code that will get highlighted before it is highlighted */\n",
       ".highlight-code {\n",
       "    white-space: pre;\n",
       "    font-family: monospace;\n",
       "}\n",
       "\n",
       "/* Hlint styles */\n",
       ".suggestion-warning { \n",
       "    font-weight: bold;\n",
       "    color: rgb(200, 130, 0);\n",
       "}\n",
       ".suggestion-error { \n",
       "    font-weight: bold;\n",
       "    color: red;\n",
       "}\n",
       ".suggestion-name {\n",
       "    font-weight: bold;\n",
       "}\n",
       "</style><span class='get-type'>fmap show testRow :: Row String</span>"
      ],
      "text/plain": [
       "fmap show testRow :: Row String"
      ]
     },
     "metadata": {},
     "output_type": "display_data"
    }
   ],
   "source": [
    "fmap show testRow\n",
    ":type fmap show testRow"
   ]
  },
  {
   "cell_type": "markdown",
   "metadata": {},
   "source": [
    "or even keep the values with a `Float` type but changing their\n",
    "value - e.g. multiplying by two:"
   ]
  },
  {
   "cell_type": "code",
   "execution_count": 64,
   "metadata": {
    "collapsed": false
   },
   "outputs": [
    {
     "data": {
      "text/plain": [
       "Row {energLo = 0.2, energHi = 0.4, specResp = 20.0}"
      ]
     },
     "metadata": {},
     "output_type": "display_data"
    }
   ],
   "source": [
    "fmap (*2) testRow"
   ]
  },
  {
   "cell_type": "markdown",
   "metadata": {},
   "source": [
    "although I have to admit that it's hard to see the use in this last example\n",
    "for this particular data structure!\n",
    "\n",
    "Now there's two \"main\" systems for converting to and from binary data: \n",
    "[binary](http://hackage.haskell.org/package/binary)\n",
    "and\n",
    "[cereal](http://hackage.haskell.org/package/cereal).\n",
    "I've chosen to use `cereal` because it has in-built support for\n",
    "IEEE-754 conversion. "
   ]
  },
  {
   "cell_type": "code",
   "execution_count": 65,
   "metadata": {
    "collapsed": true
   },
   "outputs": [],
   "source": [
    "import Data.Serialize.Get\n",
    "import Data.Serialize.IEEE754"
   ]
  },
  {
   "cell_type": "markdown",
   "metadata": {},
   "source": [
    "Let's start simply, by just parsing the first value (so the `ENERG_LO` column of the first row)\n",
    "and checking that it has a value of `0.3` (which is what `dmlist` reported its value to be). The simplest\n",
    "way to do this is to use \n",
    "[`runGet`](https://hackage.haskell.org/package/cereal-0.4.1.1/docs/Data-Serialize-Get.html#v:runGet),\n",
    "which takes a parser and a bytestring, and returns the answer.\n",
    "For 32-bit floats in big-endian order, the parser is called\n",
    "[`getFloat32be`](http://hackage.haskell.org/package/cereal-0.4.1.1/docs/Data-Serialize-IEEE754.html#v:getFloat32be):"
   ]
  },
  {
   "cell_type": "code",
   "execution_count": 66,
   "metadata": {
    "collapsed": false
   },
   "outputs": [
    {
     "data": {
      "text/plain": [
       "Right 0.3"
      ]
     },
     "metadata": {},
     "output_type": "display_data"
    }
   ],
   "source": [
    "runGet getFloat32be bdata"
   ]
  },
  {
   "cell_type": "markdown",
   "metadata": {},
   "source": [
    "Success! By manually moving through the binary data, I can extract following elements, such\n",
    "as the `ENERG_HI`, and `SPECRESP` values from the first row,\n",
    "and the `ENERG_LO` value from the second row:"
   ]
  },
  {
   "cell_type": "code",
   "execution_count": 67,
   "metadata": {
    "collapsed": false
   },
   "outputs": [
    {
     "data": {
      "text/plain": [
       "Right 0.31"
      ]
     },
     "metadata": {},
     "output_type": "display_data"
    },
    {
     "data": {
      "text/plain": [
       "Right 4.874343"
      ]
     },
     "metadata": {},
     "output_type": "display_data"
    },
    {
     "data": {
      "text/plain": [
       "Right 0.31"
      ]
     },
     "metadata": {},
     "output_type": "display_data"
    }
   ],
   "source": [
    "runGet getFloat32be (B8.drop 4 bdata)\n",
    "runGet getFloat32be (B8.drop 8 bdata)\n",
    "runGet getFloat32be (B8.drop 12 bdata)"
   ]
  },
  {
   "cell_type": "markdown",
   "metadata": {},
   "source": [
    "The values returned by `runGet` are preceeded by `Right`, which is because\n",
    "the return value is actually `Either String a`, where `a` is the type of the\n",
    "parser (`Float` in this case). \n",
    "The\n",
    "[`Either` type](http://hackage.haskell.org/package/base-4.8.0.0/docs/Prelude.html#t:Either), \n",
    "is - like the `Maybe` type - used to handle cases where two different values are needed.\n",
    "In the `Maybe` case this is `Nothing` (e.g. \"failure\") or `Just a`; in the `Either` case, \n",
    "the two values are `Left a` and `Right b`, where the types of `a` and `b` can be different.\n",
    "One of the common use cases for `Either` values is to handle calculations that can fail,\n",
    "where the \"left side\" has a value of `Left String`, for the error message, and the \"right\n",
    "side\" is used to indicate success, which is what we have here (`Right a`). So, we can ignore\n",
    "for now the `Right` prefixes, and concentrate on the numeric values. As a reminder, the\n",
    "`dmlist` output for the three rows was:\n",
    "\n",
    "```\n",
    "ROW    ENERG_LO             ENERG_HI             SPECRESP\n",
    " \n",
    "     1     0.30000001192093     0.31000000238419         4.8743429184\n",
    "     2     0.31000000238419     0.31999999284744        14.8292617798\n",
    "     3     0.31999999284744     0.33000001311302        21.3022918701\n",
    "```\n",
    "\n",
    "which shows that I'm getting the right values (modulo differences in the display of\n",
    "floating-point values).\n",
    "\n",
    "So, I *could* use this to parse each element at a time, manually stepping\n",
    "through the bytestring, but that\n",
    "seems like a lot of work. The next thing to try is the\n",
    "[`runGetState`](https://hackage.haskell.org/package/cereal-0.4.1.1/docs/Data-Serialize-Get.html#v:runGetState)\n",
    "routine, which also returns the unparsed data. That is:"
   ]
  },
  {
   "cell_type": "code",
   "execution_count": 68,
   "metadata": {
    "collapsed": false
   },
   "outputs": [
    {
     "data": {
      "text/plain": [
       "(0.3,0.31,4.874343,0.31)"
      ]
     },
     "metadata": {},
     "output_type": "display_data"
    }
   ],
   "source": [
    "-- The last argument is the index into the input string at which to start parsing,\n",
    "-- which is 0 here.\n",
    "--\n",
    "Right (v1, bdata1) = runGetState getFloat32be bdata 0\n",
    "Right (v2, bdata2) = runGetState getFloat32be bdata1 0\n",
    "Right (v3, bdata3) = runGetState getFloat32be bdata2 0\n",
    "Right (v4, _)      = runGetState getFloat32be bdata3 0\n",
    "\n",
    "(v1, v2, v3, v4)"
   ]
  },
  {
   "cell_type": "markdown",
   "metadata": {},
   "source": [
    "Here I've assumed that the parsing can not fail, so it is safe to assume the return value is\n",
    "of the form `Right ...`. If it did fail then we would\n",
    "see the `Irrefutable pattern` error (shown earlier in the discussion of `viewr`) when\n",
    "one of the values was used (in this case, displaying the output of the `v1..v4` tuple).\n",
    "\n",
    "The code above can hardly be called elegant. One solution is to expand the \"language\" of the parser, so that\n",
    "it can parse things that we are interested in - in this case a `Row Float32` - so that I\n",
    "can leave `runGet` (or `runGetState`) to deal with the boring parts.\n",
    "So, let's look at the type of the `getFloat32be` parser:"
   ]
  },
  {
   "cell_type": "code",
   "execution_count": 69,
   "metadata": {
    "collapsed": false
   },
   "outputs": [
    {
     "data": {
      "text/html": [
       "<style>/*\n",
       "Custom IHaskell CSS.\n",
       "*/\n",
       "\n",
       "/* Styles used for the Hoogle display in the pager */\n",
       ".hoogle-doc {\n",
       "    display: block;\n",
       "    padding-bottom: 1.3em;\n",
       "    padding-left: 0.4em;\n",
       "}\n",
       ".hoogle-code {\n",
       "    display: block;\n",
       "    font-family: monospace;\n",
       "    white-space: pre;\n",
       "}\n",
       ".hoogle-text {\n",
       "    display: block;\n",
       "}\n",
       ".hoogle-name {\n",
       "    color: green;\n",
       "    font-weight: bold;\n",
       "}\n",
       ".hoogle-head {\n",
       "    font-weight: bold;\n",
       "}\n",
       ".hoogle-sub {\n",
       "    display: block;\n",
       "    margin-left: 0.4em;\n",
       "}\n",
       ".hoogle-package {\n",
       "    font-weight: bold;\n",
       "    font-style: italic;\n",
       "}\n",
       ".hoogle-module {\n",
       "    font-weight: bold;\n",
       "}\n",
       ".hoogle-class {\n",
       "    font-weight: bold;\n",
       "}\n",
       "\n",
       "/* Styles used for basic displays */\n",
       ".get-type {\n",
       "    color: green;\n",
       "    font-weight: bold;\n",
       "    font-family: monospace;\n",
       "    display: block;\n",
       "    white-space: pre-wrap;\n",
       "}\n",
       "\n",
       ".show-type {\n",
       "    color: green;\n",
       "    font-weight: bold;\n",
       "    font-family: monospace;\n",
       "    margin-left: 1em;\n",
       "}\n",
       "\n",
       ".mono {\n",
       "    font-family: monospace;\n",
       "    display: block;\n",
       "}\n",
       "\n",
       ".err-msg {\n",
       "    color: red;\n",
       "    font-style: italic;\n",
       "    font-family: monospace;\n",
       "    white-space: pre;\n",
       "    display: block;\n",
       "}\n",
       "\n",
       "#unshowable {\n",
       "    color: red;\n",
       "    font-weight: bold;\n",
       "}\n",
       "\n",
       ".err-msg.in.collapse {\n",
       "  padding-top: 0.7em;\n",
       "}\n",
       "\n",
       "/* Code that will get highlighted before it is highlighted */\n",
       ".highlight-code {\n",
       "    white-space: pre;\n",
       "    font-family: monospace;\n",
       "}\n",
       "\n",
       "/* Hlint styles */\n",
       ".suggestion-warning { \n",
       "    font-weight: bold;\n",
       "    color: rgb(200, 130, 0);\n",
       "}\n",
       ".suggestion-error { \n",
       "    font-weight: bold;\n",
       "    color: red;\n",
       "}\n",
       ".suggestion-name {\n",
       "    font-weight: bold;\n",
       "}\n",
       "</style><span class='get-type'>getFloat32be :: Get Float</span>"
      ],
      "text/plain": [
       "getFloat32be :: Get Float"
      ]
     },
     "metadata": {},
     "output_type": "display_data"
    }
   ],
   "source": [
    ":type getFloat32be"
   ]
  },
  {
   "cell_type": "markdown",
   "metadata": {},
   "source": [
    "Hopefully this signature will be somewhat surprising (to the non-Haskellers\n",
    "reading this, anyway) since\n",
    "\n",
    " * what is this `Get` structure?\n",
    " \n",
    " * it doesn't seem to have any way to input the bytestring,\n",
    "   nor does it have a way of returning the unparsed data!\n",
    "    \n",
    "Well, this is how Haskell deals with context-sensitive computations. In this case,\n",
    "\"context\" means \"the remaining bytestring to parse\", but it can also be\n",
    "a store of messages that log a computation, or some piece of state information\n",
    "that can be both read or changed (e.g. the arrangement of a plot)\n",
    "during a computation, or whether a computation has failed, or ...\n",
    "The most obvious context, which I've been using in these notebooks\n",
    "without mentioning it, is I/O (e.g. printing messages to the screen or reading\n",
    "the contents of the file). Haskell bases all these different sorts of \n",
    "computation on the same underlying mathematical abstraction. It can \n",
    "be thought of as a \"mini language\" inside Haskell, often recognizable\n",
    "by code written in the style\n",
    "\n",
    "```\n",
    "do\n",
    "  a <- someFunc\n",
    "  b <- anotherFunc a\n",
    "  return (a+b)\n",
    "```\n",
    "\n",
    "which we have seen in the previous notebooks (and will see again\n",
    "below) when creating graphs.\n",
    "Note that `return` in Haskell can be confusing for people with experience in languages such as C, Fortran, or Python. For now, just be aware that `return` is one of those places that Haskell is different to other languages.\n",
    "\n",
    "What the above means is that I can write a parser for a single row of \n",
    "data - which consists of three floats with no padding -\n",
    "with the following code (not that I'd expect you to be able to work this out from\n",
    "my description!):"
   ]
  },
  {
   "cell_type": "code",
   "execution_count": 70,
   "metadata": {
    "collapsed": false
   },
   "outputs": [],
   "source": [
    "getRow1 :: Get (Row Float)\n",
    "getRow1 = do\n",
    "  elo <- getFloat32be\n",
    "  ehi <- getFloat32be\n",
    "  spec <- getFloat32be\n",
    "  return (Row elo ehi spec)"
   ]
  },
  {
   "cell_type": "markdown",
   "metadata": {},
   "source": [
    "Checking this out with `runGet` gives:"
   ]
  },
  {
   "cell_type": "code",
   "execution_count": 71,
   "metadata": {
    "collapsed": false
   },
   "outputs": [
    {
     "data": {
      "text/plain": [
       "Right (Row {energLo = 0.3, energHi = 0.31, specResp = 4.874343})"
      ]
     },
     "metadata": {},
     "output_type": "display_data"
    }
   ],
   "source": [
    "runGet getRow1 bdata"
   ]
  },
  {
   "cell_type": "markdown",
   "metadata": {},
   "source": [
    "and"
   ]
  },
  {
   "cell_type": "code",
   "execution_count": 72,
   "metadata": {
    "collapsed": false
   },
   "outputs": [
    {
     "data": {
      "text/plain": [
       "Right (Row {energLo = 0.31, energHi = 0.32, specResp = 14.829262})"
      ]
     },
     "metadata": {},
     "output_type": "display_data"
    }
   ],
   "source": [
    "runGet getRow1 (B8.drop 12 bdata)"
   ]
  },
  {
   "cell_type": "markdown",
   "metadata": {},
   "source": [
    "Out of interest, here's what happens when the parsing fails (which in this case\n",
    "means \"runs out of data\", which I simulate by sending in less-than twelve bytes):"
   ]
  },
  {
   "cell_type": "code",
   "execution_count": 73,
   "metadata": {
    "collapsed": false
   },
   "outputs": [
    {
     "data": {
      "text/plain": [
       "Left \"too few bytes\\nFrom:\\tdemandInput\\n\\n\""
      ]
     },
     "metadata": {},
     "output_type": "display_data"
    }
   ],
   "source": [
    "runGet getRow1 (B8.take 4 bdata)"
   ]
  },
  {
   "cell_type": "markdown",
   "metadata": {},
   "source": [
    "The fact that I labelled this routine `getRow1` might suggest to you that\n",
    "I'm going to re-write it, and you would not be wrong. Using yet-more\n",
    "mathematical abstractions - in this case\n",
    "[applicative functors](http://learnyouahaskell.com/functors-applicative-functors-and-monoids) -\n",
    "the routine can be written more compactly as:"
   ]
  },
  {
   "cell_type": "code",
   "execution_count": 74,
   "metadata": {
    "collapsed": false
   },
   "outputs": [],
   "source": [
    "import Control.Applicative ((<$>), (<*>))\n",
    "\n",
    "getRow :: Get (Row Float)\n",
    "getRow = Row <$> getFloat32be <*> getFloat32be <*> getFloat32be"
   ]
  },
  {
   "cell_type": "markdown",
   "metadata": {},
   "source": [
    "This version resembles the \"point-free style\" I described earlier, in that it avoids\n",
    "naming \"temporary things\". I mention it here in case you see these symbols (`<$>` and `<*>`) around and wonder what they are (plus, this is how I originally wrote the routine before deciding it was a *tad* cryptic\n",
    "to lead with). As an aside,  GHC 7.10 came out whilst I was putting together this notebook. One of the changes in this release is\n",
    "known as the \"[AMP](https://wiki.haskell.org/Functor-Applicative-Monad_Proposal)\", which - for the purposes of\n",
    "this notebook - means that the code I've written may need small tweaks to compile without\n",
    "warning messages when using GHC version 7.10 or later.  \n",
    "\n",
    "I can now build on `getRow` (or, equivalently, `getRow1`), to write a parser for\n",
    "multiple rows, by repeatedly calling `getRow` until the parser runs out of\n",
    "data. Fortunately there's a function - \n",
    "[`isEmpty`](http://hackage.haskell.org/package/cereal-0.4.1.1/docs/Data-Serialize-Get.html#v:isEmpty) -\n",
    "for this check. The resulting parser,\n",
    "which I based on code from the \n",
    "[binary module documentation](http://hackage.haskell.org/package/binary-0.7.4.0/docs/Data-Binary-Get.html),\n",
    "is"
   ]
  },
  {
   "cell_type": "code",
   "execution_count": 75,
   "metadata": {
    "collapsed": false
   },
   "outputs": [],
   "source": [
    "getRows :: Get [Row Float]\n",
    "getRows = do\n",
    "  empty <- isEmpty\n",
    "  if empty\n",
    "    then return []\n",
    "    else do\n",
    "      row <- getRow\n",
    "      rows <- getRows\n",
    "      return (row:rows)"
   ]
  },
  {
   "cell_type": "markdown",
   "metadata": {},
   "source": [
    "When run, it checks to see if there's any more data. If not, the result is the\n",
    "empty list, otherwise it parses the current row, then makes a recursive call\n",
    "(parsing the rest of the rows), before combining the two.\n",
    "\n",
    "This time, when running the parser, I explicitly deal with the error case by\n",
    "converting it to an\n",
    "[`error`](http://hackage.haskell.org/package/base-4.8.0.0/docs/Prelude.html#v:error), which will (hopefully) provide more useful information than an `Irrefutable pattern` error\n",
    "(although I don't plan on showing this feature off here ;-).  In the success case\n",
    "I strip off the `Right` wrapper."
   ]
  },
  {
   "cell_type": "code",
   "execution_count": 76,
   "metadata": {
    "collapsed": false
   },
   "outputs": [],
   "source": [
    "arows = case runGet getRows bdata of\n",
    "  Left msg -> error msg\n",
    "  Right v -> v"
   ]
  },
  {
   "cell_type": "code",
   "execution_count": 77,
   "metadata": {
    "collapsed": false
   },
   "outputs": [
    {
     "data": {
      "text/plain": [
       "Row {energLo = 0.3, energHi = 0.31, specResp = 4.874343}"
      ]
     },
     "metadata": {},
     "output_type": "display_data"
    },
    {
     "data": {
      "text/plain": [
       "Row {energLo = 0.31, energHi = 0.32, specResp = 14.829262}"
      ]
     },
     "metadata": {},
     "output_type": "display_data"
    }
   ],
   "source": [
    "head arows\n",
    "arows !! 1"
   ]
  },
  {
   "cell_type": "markdown",
   "metadata": {},
   "source": [
    "So, yet-more success. Let's check that there are the correct number of rows (`NAXIS2` was 1070):"
   ]
  },
  {
   "cell_type": "code",
   "execution_count": 78,
   "metadata": {
    "collapsed": false
   },
   "outputs": [
    {
     "data": {
      "text/plain": [
       "1200"
      ]
     },
     "metadata": {},
     "output_type": "display_data"
    }
   ],
   "source": [
    "length arows"
   ]
  },
  {
   "cell_type": "markdown",
   "metadata": {},
   "source": [
    "Oops. This is because the data blocks are chunked up into units of 2880 bytes, just like the header blocks, so there\n",
    "are excess rows, as 1070 times 12 does not map to a chunk boundary:"
   ]
  },
  {
   "cell_type": "code",
   "execution_count": 79,
   "metadata": {
    "collapsed": false
   },
   "outputs": [
    {
     "data": {
      "text/plain": [
       "(4,1320)"
      ]
     },
     "metadata": {},
     "output_type": "display_data"
    },
    {
     "data": {
      "text/plain": [
       "(5,0)"
      ]
     },
     "metadata": {},
     "output_type": "display_data"
    }
   ],
   "source": [
    "(1070 * 12) `divMod` chunk\n",
    "(1200 * 12) `divMod` chunk"
   ]
  },
  {
   "cell_type": "markdown",
   "metadata": {},
   "source": [
    "In this particular case the extra values all decode to 0: "
   ]
  },
  {
   "cell_type": "code",
   "execution_count": 80,
   "metadata": {
    "collapsed": false
   },
   "outputs": [
    {
     "data": {
      "text/plain": [
       "Row {energLo = 10.99, energHi = 11.0, specResp = 0.5657126}"
      ]
     },
     "metadata": {},
     "output_type": "display_data"
    },
    {
     "data": {
      "text/plain": [
       "Row {energLo = 0.0, energHi = 0.0, specResp = 0.0}"
      ]
     },
     "metadata": {},
     "output_type": "display_data"
    },
    {
     "data": {
      "text/plain": [
       "Row {energLo = 0.0, energHi = 0.0, specResp = 0.0}"
      ]
     },
     "metadata": {},
     "output_type": "display_data"
    }
   ],
   "source": [
    "arows !! 1069\n",
    "arows !! 1070\n",
    "arows !! 1199"
   ]
  },
  {
   "cell_type": "markdown",
   "metadata": {},
   "source": [
    "If I were doing this properly, I'd send in the correct number of bytes to getRows (in this case `NAXIS1` times `NAXIS2` bytes) but for now I can just drop the invalid rows:"
   ]
  },
  {
   "cell_type": "code",
   "execution_count": 81,
   "metadata": {
    "collapsed": false
   },
   "outputs": [
    {
     "data": {
      "text/plain": [
       "Row {energLo = 0.3, energHi = 0.31, specResp = 4.874343}"
      ]
     },
     "metadata": {},
     "output_type": "display_data"
    },
    {
     "data": {
      "text/plain": [
       "Row {energLo = 0.31, energHi = 0.32, specResp = 14.829262}"
      ]
     },
     "metadata": {},
     "output_type": "display_data"
    },
    {
     "data": {
      "text/plain": [
       "Row {energLo = 0.32, energHi = 0.33, specResp = 21.302292}"
      ]
     },
     "metadata": {},
     "output_type": "display_data"
    },
    {
     "data": {
      "text/plain": [
       "Row {energLo = 0.33, energHi = 0.34, specResp = 28.514952}"
      ]
     },
     "metadata": {},
     "output_type": "display_data"
    },
    {
     "data": {
      "text/plain": [
       "Row {energLo = 0.34, energHi = 0.35, specResp = 35.39883}"
      ]
     },
     "metadata": {},
     "output_type": "display_data"
    }
   ],
   "source": [
    "rows = take 1070 arows\n",
    "\n",
    "head rows\n",
    "rows !! 1\n",
    "rows !! 2\n",
    "rows !! 3\n",
    "rows !! 4"
   ]
  },
  {
   "cell_type": "markdown",
   "metadata": {},
   "source": [
    "It looks like the bins are consecutive; that is, the `energHi` field of row `n` is the\n",
    "same as the `energLo` field of row `n+1`. To see whether this holds for all rows, I\n",
    "extract the contents of the \"low\" and \"high\" fields with calls to \n",
    "[`map`]((http://hackage.haskell.org/package/base-4.8.0.0/docs/Prelude.html#v:tail),\n",
    "remove the first element of the \"low\" array (with\n",
    "[`tail`](http://hackage.haskell.org/package/base-4.8.0.0/docs/Prelude.html#v:tail),\n",
    "which is like Python's `[1:]` array slice),\n",
    "the last element of the \"high\" array (with\n",
    "[`init`](http://hackage.haskell.org/package/base-4.8.0.0/docs/Prelude.html#v:init),\n",
    "which is Python's `[:-1]` slice),\n",
    "and then check that the resulting arrays are equal. This only\n",
    "works because of the\n",
    "[`Eq`](http://hackage.haskell.org/package/base-4.8.0.0/docs/Prelude.html#t:Eq)\n",
    "instance of `Row` that I earlier asked the compiler to derive for me (that is, \n",
    "`==` can deal with type `[a]` - a list of `a`'s - if it knows how to compare\n",
    "`a`'s)."
   ]
  },
  {
   "cell_type": "code",
   "execution_count": 82,
   "metadata": {
    "collapsed": false
   },
   "outputs": [
    {
     "data": {
      "text/plain": [
       "True"
      ]
     },
     "metadata": {},
     "output_type": "display_data"
    }
   ],
   "source": [
    "elos = map energLo rows\n",
    "ehis = map energHi rows\n",
    "\n",
    "tail elos == init ehis"
   ]
  },
  {
   "cell_type": "markdown",
   "metadata": {},
   "source": [
    "Finally, it's time to make a plot of the data. I load in the necessary code to ensure that the plots can\n",
    "get displayed in-line\n",
    "(this just re-uses the code I created in \n",
    "[previous notebooks](http://htmlpreview.github.io/?https://raw.githubusercontent.com/DougBurke/astro-haskell/master/html/angular%20diameter%20distance.html)):"
   ]
  },
  {
   "cell_type": "code",
   "execution_count": 83,
   "metadata": {
    "collapsed": true
   },
   "outputs": [],
   "source": [
    "import IHaskell.Display\n",
    "import Graphics.Rendering.Chart.Backend.Diagrams\n",
    "\n",
    "-- Apparently |> is also defined in the Easy module, so, as I have already imported\n",
    "-- it from Data.Sequence, I explicitly avoid importing it here.\n",
    "--\n",
    "import Graphics.Rendering.Chart.Easy hiding ((|>))\n",
    "\n",
    "instance IHaskellDisplay (Renderable a) where\n",
    "  display renderable = renderableToSVG renderable 450 300 >>= display . fst"
   ]
  },
  {
   "cell_type": "markdown",
   "metadata": {},
   "source": [
    "Now I create a function which takes a list of rows and creates a plot. Since the data\n",
    "is binned - in that the `SPECRESP` column is defined over an energy range - then \n",
    "I want to display it as a histogram. Now, there is support for drawing histograms in\n",
    "Chart (e.g. \n",
    "[`PlotBars`](https://hackage.haskell.org/package/Chart-1.3.3/docs/Graphics-Rendering-Chart-Plot-Bars.html))\n",
    "but I don't find the interface intuitive, so I am going to\n",
    "create a plot manually$^\\dagger$. I can do this by drawing a line that connects\n",
    "`(elo_0,specresp_0)`, `(ehi_0,specresp_0)`, \n",
    "`(elo_1,specresp_1)`, `(ehi_1,specresp_1)`, ... \n",
    "`(elo_1069,specresp_1069)`, `(ehi_1069,specresp_1069)`.\n",
    "Ideally the list would start at `(elo_0,0)` and end at `(ehi_1069,0)`, but I'll leave\n",
    "that for now. The code also takes advantage of the `Functor` instance of the\n",
    "`Row` type that I wrote earlier, to convert the storage type from `Float` to `Double`\n",
    "(the reason for this is given in the comments).\n",
    "\n",
    "Note that the plot is defined using \"do\" notation, although this time there are no\n",
    "obvious calls to \"set\" variables (i.e. nothing of the form `a <- function`). This is\n",
    "because the Chart API uses the \n",
    "[lens package](https://hackage.haskell.org/package/lens/)\n",
    "to greatly-reduce the amount of code needed to set the various fields it uses\n",
    "(such as the various \"titles\" which I change below). If you're interested in\n",
    "trying out Chart, I would\n",
    "use the \n",
    "[Chart examples](https://github.com/timbod7/haskell-chart/wiki) as a basis,\n",
    "before looking too deeply into how to use lens.\n",
    "\n",
    "$^\\dagger$ pointers to existing code that already does this are most welcome."
   ]
  },
  {
   "cell_type": "code",
   "execution_count": 84,
   "metadata": {
    "collapsed": false
   },
   "outputs": [],
   "source": [
    "drawARF ins = toRenderable (do\n",
    "    layout_title .= \"ARF\"\n",
    "    layout_x_axis . laxis_title .= \"E (keV)\"\n",
    "    layout_y_axis . laxis_title .= \"cm^2\"\n",
    "    plot (line \"\" [cs])\n",
    "    )\n",
    "  where\n",
    "    -- At present there's no PlotValue instance for Float types, which means\n",
    "    -- that I can't just send a list of Float values to line (I have a\n",
    "    -- PR on GitHub to address this issue at\n",
    "    -- https://github.com/timbod7/haskell-chart/pull/77,\n",
    "    -- which has now been accepted, but rather than re-build with that\n",
    "    -- version, the easiest solution is to convert the Float values\n",
    "    -- to Double. I could do this manually, but as I have a Functor instance\n",
    "    -- on the Row type, I can convert Row Float to Row Double just with a\n",
    "    -- call to \"fmap realToFrac\".\n",
    "    --\n",
    "    rs = map (fmap realToFrac) ins\n",
    "    \n",
    "    (elos, ehis, arfs) = unzip3 (map (\\(Row elo ehi arf) -> (elo,ehi,arf)) rs)\n",
    "    xs = concat (zipWith (\\a b -> [a,b]) elos ehis)\n",
    "    ys = concatMap (\\a -> [a,a]) arfs\n",
    "    cs = zip xs ys"
   ]
  },
  {
   "cell_type": "markdown",
   "metadata": {},
   "source": [
    "Note that there is a Functor instance of lists, and it is the same as `map`,\n",
    "which means that I could have said\n",
    "\n",
    "```\n",
    "    rs = fmap (fmap realToFrac) ins\n",
    "```\n",
    "\n",
    "but while the compiler can work out which `fmap` it needs to use, for this \n",
    "example I decided to be explicit!"
   ]
  },
  {
   "cell_type": "markdown",
   "metadata": {},
   "source": [
    "## Displaying the ARF"
   ]
  },
  {
   "cell_type": "markdown",
   "metadata": {},
   "source": [
    "The moment of truth: what does the ARF look like?"
   ]
  },
  {
   "cell_type": "code",
   "execution_count": 85,
   "metadata": {
    "collapsed": false
   },
   "outputs": [
    {
     "data": {
      "text/html": [
       "<style>/*\n",
       "Custom IHaskell CSS.\n",
       "*/\n",
       "\n",
       "/* Styles used for the Hoogle display in the pager */\n",
       ".hoogle-doc {\n",
       "    display: block;\n",
       "    padding-bottom: 1.3em;\n",
       "    padding-left: 0.4em;\n",
       "}\n",
       ".hoogle-code {\n",
       "    display: block;\n",
       "    font-family: monospace;\n",
       "    white-space: pre;\n",
       "}\n",
       ".hoogle-text {\n",
       "    display: block;\n",
       "}\n",
       ".hoogle-name {\n",
       "    color: green;\n",
       "    font-weight: bold;\n",
       "}\n",
       ".hoogle-head {\n",
       "    font-weight: bold;\n",
       "}\n",
       ".hoogle-sub {\n",
       "    display: block;\n",
       "    margin-left: 0.4em;\n",
       "}\n",
       ".hoogle-package {\n",
       "    font-weight: bold;\n",
       "    font-style: italic;\n",
       "}\n",
       ".hoogle-module {\n",
       "    font-weight: bold;\n",
       "}\n",
       ".hoogle-class {\n",
       "    font-weight: bold;\n",
       "}\n",
       "\n",
       "/* Styles used for basic displays */\n",
       ".get-type {\n",
       "    color: green;\n",
       "    font-weight: bold;\n",
       "    font-family: monospace;\n",
       "    display: block;\n",
       "    white-space: pre-wrap;\n",
       "}\n",
       "\n",
       ".show-type {\n",
       "    color: green;\n",
       "    font-weight: bold;\n",
       "    font-family: monospace;\n",
       "    margin-left: 1em;\n",
       "}\n",
       "\n",
       ".mono {\n",
       "    font-family: monospace;\n",
       "    display: block;\n",
       "}\n",
       "\n",
       ".err-msg {\n",
       "    color: red;\n",
       "    font-style: italic;\n",
       "    font-family: monospace;\n",
       "    white-space: pre;\n",
       "    display: block;\n",
       "}\n",
       "\n",
       "#unshowable {\n",
       "    color: red;\n",
       "    font-weight: bold;\n",
       "}\n",
       "\n",
       ".err-msg.in.collapse {\n",
       "  padding-top: 0.7em;\n",
       "}\n",
       "\n",
       "/* Code that will get highlighted before it is highlighted */\n",
       ".highlight-code {\n",
       "    white-space: pre;\n",
       "    font-family: monospace;\n",
       "}\n",
       "\n",
       "/* Hlint styles */\n",
       ".suggestion-warning { \n",
       "    font-weight: bold;\n",
       "    color: rgb(200, 130, 0);\n",
       "}\n",
       ".suggestion-error { \n",
       "    font-weight: bold;\n",
       "    color: red;\n",
       "}\n",
       ".suggestion-name {\n",
       "    font-weight: bold;\n",
       "}\n",
       "</style><?xml version=\"1.0\" encoding=\"UTF-8\"?>\n",
       "<!DOCTYPE svg PUBLIC \"-//W3C//DTD SVG 1.1//EN\"\n",
       "    \"http://www.w3.org/Graphics/SVG/1.1/DTD/svg11.dtd\">\n",
       "\n",
       "<svg xmlns=\"http://www.w3.org/2000/svg\" xmlns:xlink=\"http://www.w3.org/1999/xlink\" version=\"1.1\" width=\"450.0\" height=\"300.0\" font-size=\"1\" viewBox=\"0 0 450 300\" stroke=\"rgb(0,0,0)\" stroke-opacity=\"1\">\n",
       "    <g>\n",
       "        <g fill=\"rgb(0,0,0)\" fill-opacity=\"0.0\">\n",
       "            <g stroke=\"rgb(0,0,0)\" stroke-opacity=\"1.0\" stroke-width=\"1.4696938456699067\" stroke-linecap=\"butt\" stroke-linejoin=\"miter\" font-size=\"1.0em\" stroke-miterlimit=\"10.0\">\n",
       "                <g stroke=\"rgb(0,0,0)\" stroke-opacity=\"1.0\" stroke-width=\"0.9999999999999998\" stroke-linecap=\"butt\" stroke-linejoin=\"bevel\" stroke-dasharray=\"\" stroke-dashoffset=\"0.0\">\n",
       "                    <g stroke=\"rgb(0,0,0)\" stroke-opacity=\"0.0\" fill=\"rgb(255,255,255)\" fill-opacity=\"1.0\" stroke-width=\"0.0\" stroke-linecap=\"butt\" stroke-linejoin=\"bevel\" stroke-dasharray=\"\" stroke-dashoffset=\"0.0\">\n",
       "                        <g fill=\"rgb(255,255,255)\" fill-opacity=\"1.0\">\n",
       "                            <g fill=\"rgb(255,255,255)\" fill-opacity=\"1.0\">\n",
       "                                <path d=\"M 0.0,2.842170943040401e-14 v 299.99999999999994 h 449.9999999999999 v -299.99999999999994 Z\" />\n",
       "                            </g>\n",
       "                        </g>\n",
       "                    </g>\n",
       "                    <g stroke=\"rgb(0,0,0)\" stroke-opacity=\"0.0\" fill=\"rgb(0,0,0)\" fill-opacity=\"1.0\" stroke-width=\"0.0\" stroke-linecap=\"butt\" stroke-linejoin=\"bevel\" stroke-dasharray=\"\" stroke-dashoffset=\"0.0\">\n",
       "                        <g fill=\"rgb(0,0,0)\" fill-opacity=\"1.0\">\n",
       "                            <g fill=\"rgb(0,0,0)\" fill-opacity=\"1.0\">\n",
       "                                <g fill=\"rgb(0,0,0)\" fill-opacity=\"1.0\">\n",
       "                                </g>\n",
       "                                <g fill=\"rgb(0,0,0)\" fill-opacity=\"1.0\">\n",
       "                                    <g fill=\"rgb(0,0,0)\" fill-opacity=\"1.0\">\n",
       "                                    </g>\n",
       "                                    <g fill=\"rgb(0,0,0)\" fill-opacity=\"1.0\">\n",
       "                                        <g fill=\"rgb(0,0,0)\" fill-opacity=\"1.0\">\n",
       "                                            <path d=\"M 212.04055441478434,14.101642710472305 ZM 217.47689938398352,9.943531827515427 l -0.23100616016427097,-0.9240246406570839 c -0.2156057494866529,-0.7546201232032852 -0.41581108829568775,-1.6016427104722788 -0.41581108829568775 -1.6016427104722788c -0.20020533880903485,-0.8470225872689936 -0.4004106776180697,-1.6324435318275148 -0.4004106776180697 -1.6324435318275148h -6.160164271047226e-2 c -0.1848049281314168,0.8008213552361394 -0.3773100616016426,1.640143737166324 -0.3773100616016426 1.640143737166324c -0.1925051334702258,0.8393223819301845 -0.4081108829568787,1.5939425051334697 -0.4081108829568787 1.5939425051334697l -0.24640657084188905,0.9240246406570839 h 2.140657084188911 ZM 217.47689938398352,9.943531827515427 ZM 217.93891170431206,11.714579055441506 h -3.064681724845995 l -0.6160164271047227,2.3870636550308 h -2.31006160164271 l 3.141683778234085,-10.04106776180698 h 2.725872689938398 l 3.141683778234085,10.04106776180698 h -2.4024640657084184 ZM 220.8649897330595,14.101642710472305 ZM 224.31468172484594,8.680698151950747 h 1.170431211498973 c 0.8932238193018478,0.0 1.362936344969199,-0.3773100616016426 1.362936344969199 -0.3773100616016426c 0.469712525667351,-0.3773100616016426 0.469712525667351,-1.1165297741273097 0.469712525667351 -1.1165297741273097c 0.0,-0.7392197125256672 -0.469712525667351,-1.0318275154004104 -0.469712525667351 -1.0318275154004104c -0.469712525667351,-0.29260780287474325 -1.362936344969199,-0.29260780287474325 -1.362936344969199 -0.29260780287474325h -1.170431211498973 v 2.818275154004106 ZM 224.31468172484594,8.680698151950747 ZM 227.48716632443526,14.101642710472305 l -1.9250513347022582,-3.6190965092402454 h -1.2474332648870634 v 3.6190965092402454 h -2.263860369609856 v -10.04106776180698 h 3.6190965092402454 c 0.8008213552361394,0.0 1.5015400410677613,0.15400410677618068 1.5015400410677613 0.15400410677618068c 0.700718685831622,0.15400410677618068 1.2243326488706363,0.5159137577002052 1.2243326488706363 0.5159137577002052c 0.5236139630390142,0.36190965092402455 0.8316221765913755,0.9625256673511291 0.8316221765913755 0.9625256673511291c 0.30800821355236135,0.6006160164271046 0.30800821355236135,1.4938398357289524 0.30800821355236135 1.4938398357289524c 0.0,1.1088295687885008 -0.48511293634496905,1.8249486652977407 -0.48511293634496905 1.8249486652977407c -0.48511293634496905,0.7161190965092401 -1.3013347022587267,1.0703285420944555 -1.3013347022587267 1.0703285420944555l 2.2792607802874736,4.019507186858315 h -2.541067761806981 ZM 230.35164271047222,14.101642710472305 ZM 231.5374743326488,4.060574948665326 h 6.329568788501025 v 1.9096509240246402 h -4.06570841889117 v 2.325462012320328 h 3.480492813141683 v 1.9096509240246402 h -3.480492813141683 v 3.8963039014373706 h -2.263860369609856 v -10.04106776180698 Z\" />\n",
       "                                        </g>\n",
       "                                        <g fill=\"rgb(0,0,0)\" fill-opacity=\"1.0\">\n",
       "                                        </g>\n",
       "                                    </g>\n",
       "                                </g>\n",
       "                            </g>\n",
       "                        </g>\n",
       "                    </g>\n",
       "                    <g>\n",
       "                        <g>\n",
       "                            <g stroke=\"rgb(211,211,211)\" stroke-opacity=\"1.0\" stroke-width=\"0.9999999999999998\" stroke-linecap=\"butt\" stroke-linejoin=\"miter\" stroke-dasharray=\"4.999999999999999,4.999999999999999\" stroke-dashoffset=\"0.0\">\n",
       "                                <g>\n",
       "                                    <path d=\"M 55.021008403361336,35.00000000000002 v 224.99999999999994 \" />\n",
       "                                </g>\n",
       "                                <g>\n",
       "                                    <path d=\"M 118.42261904761904,35.00000000000002 v 224.99999999999994 \" />\n",
       "                                </g>\n",
       "                                <g>\n",
       "                                    <path d=\"M 181.82422969187672,35.00000000000002 v 224.99999999999994 \" />\n",
       "                                </g>\n",
       "                                <g>\n",
       "                                    <path d=\"M 245.2258403361344,35.00000000000002 v 224.99999999999994 \" />\n",
       "                                </g>\n",
       "                                <g>\n",
       "                                    <path d=\"M 308.6274509803921,35.00000000000002 v 224.99999999999994 \" />\n",
       "                                </g>\n",
       "                                <g>\n",
       "                                    <path d=\"M 372.02906162464984,35.00000000000002 v 224.99999999999994 \" />\n",
       "                                </g>\n",
       "                                <g>\n",
       "                                    <path d=\"M 435.43067226890753,35.00000000000002 v 224.99999999999994 \" />\n",
       "                                </g>\n",
       "                            </g>\n",
       "                            <g stroke=\"rgb(211,211,211)\" stroke-opacity=\"1.0\" stroke-width=\"0.9999999999999998\" stroke-linecap=\"butt\" stroke-linejoin=\"miter\" stroke-dasharray=\"4.999999999999999,4.999999999999999\" stroke-dashoffset=\"0.0\">\n",
       "                                <g>\n",
       "                                    <path d=\"M 55.021008403361336,259.99999999999994 h 380.4096638655462 \" />\n",
       "                                </g>\n",
       "                                <g>\n",
       "                                    <path d=\"M 55.021008403361336,203.75 h 380.4096638655462 \" />\n",
       "                                </g>\n",
       "                                <g>\n",
       "                                    <path d=\"M 55.021008403361336,147.5 h 380.4096638655462 \" />\n",
       "                                </g>\n",
       "                                <g>\n",
       "                                    <path d=\"M 55.021008403361336,91.25 h 380.4096638655462 \" />\n",
       "                                </g>\n",
       "                                <g>\n",
       "                                    <path d=\"M 55.021008403361336,35.00000000000002 h 380.4096638655462 \" />\n",
       "                                </g>\n",
       "                            </g>\n",
       "                            <g stroke=\"rgb(0,0,255)\" stroke-opacity=\"1.0\" stroke-width=\"0.9999999999999998\" stroke-linecap=\"round\" stroke-linejoin=\"round\" stroke-dasharray=\"\" stroke-dashoffset=\"0.0\">\n",
       "                                <g clip-path=\"url(#myClip1)\">\n",
       "                                    <clipPath id=\"myClip1\">\n",
       "                                        <path d=\"M 55.021008403361336,35.00000000000002 v 224.99999999999994 h 380.4096638655462 v -224.99999999999994 Z\" />\n",
       "                                    </clipPath>\n",
       "                                    <path d=\"M 64.53125037790304,258.62909105420107 h 0.3170077508988491 v -2.799820929765701 h 0.3170077508988491 v -1.8205397129058833 h 0.31700869565647233 v -2.028560578823089 h 0.3170077508988491 v -1.9360908865928645 h 0.3170077508988491 v -1.7278554439544673 h 0.31700869565647233 v -1.5016304254531856 h 0.3170077508988491 v -1.7403877973556514 h 0.3170077508988491 v -2.245765328407287 h 0.3170077508988491 v -2.3214690685272212 h 0.31700869565647233 v -1.0104804039001463 h 0.3170077508988491 v -1.960621833801269 h 0.31700775089885086 v -4.057469844818114 h 0.3170086956564688 v -3.3107450008392325 h 0.31700775089885086 v -2.800906419754028 h 0.3170077508988491 v -3.3227849006652823 h 0.31700869565647233 v -3.103985309600829 h 0.3170077508988491 v -3.154977321624755 h 0.31700775089885086 v -3.0192618370056143 h 0.3170086956564688 v -3.0122666358947745 h 0.31700775089885086 v -3.4225502014160147 h 0.31700775089885086 v -3.5111489295959464 h 0.3170077508988491 v -3.5925164222717276 h 0.3170077508988491 v 10.56045341491699 h 0.317009640414092 v 9.474609374999998 h 0.3170077508988491 v -6.657972335815428 h 0.3170077508988491 v -3.321793556213378 h 0.31700775089885264 v -5.496013641357421 h 0.3170077508988491 v -3.205111026763915 h 0.3170077508988491 v -3.024411678314208 h 0.317009640414092 v -3.171757221221923 h 0.3170077508988491 v -2.820649623870849 h 0.3170077508988491 v -3.0569329261779776 h 0.3170077508988491 v -3.225641727447509 h 0.3170077508988491 v -2.872384071350097 h 0.31700775089885264 v -2.9993448257446285 h 0.317009640414092 v -2.913067817687988 h 0.31700775089884553 v -3.062988281249999 h 0.31700775089885264 v -2.746573448181152 h 0.31700775089885264 v 15.921352386474606 h 0.31700775089884553 v -11.042049407958983 h 0.31700775089885264 v -3.6556921005249015 h 0.317009640414092 v -1.6732606887817378 h 0.31700775089884553 v -3.0159273147583 h 0.31700775089885264 v -3.233276367187499 h 0.3170077508988491 v -3.2196636199951163 h 0.3170077508988491 v -3.1207523345947257 h 0.31700775089885264 v -3.017669677734374 h 0.31700775089884553 v -3.038097381591796 h 0.317009640414092 v -2.9033603668212886 h 0.31700775089885264 v -2.7289352416992183 h 0.31700775089884553 v -2.5822935104370113 h 0.31700775089885264 v -2.4425096511840816 h 0.3170077508988491 v -2.331710815429687 h 0.31700775089885264 v -2.365116119384765 h 0.31700964041408847 v -2.0999679565429683 h 0.3170077508988491 v -2.1767606735229488 h 0.31700775089885264 v -2.040547370910644 h 0.3170077508988491 v -1.9573173522949214 h 0.31700775089885264 v -1.8630151748657222 h 0.31700775089884553 v -1.7348184585571285 h 0.317009640414092 v -1.5359659194946285 h 0.31700775089885264 v -1.5078821182250972 h 0.31700775089884553 v -1.4693441390991209 h 0.31700775089885264 v -1.5556125640869136 h 0.3170077508988491 v -1.5279321670532222 h 0.31700775089885264 v -1.5273227691650386 h 0.31700964041408847 v -1.5393047332763667 h 0.3170077508988491 v -1.3735141754150388 h 0.31700775089885264 v -1.31205940246582 h 0.3170077508988491 v -1.2936229705810545 h 0.3170077508988491 v -1.3883457183837888 h 0.31700775089885264 v -1.3993663787841795 h 0.31700775089884553 v -1.4247035980224607 h 0.31700775089885264 v -1.3792648315429685 h 0.31700775089884553 v -1.3216896057128904 h 0.31700775089885264 v -1.2261772155761717 h 0.3170115299293314 v -1.1137733459472654 h 0.31700775089885264 v -1.0736045837402342 h 0.31700775089884553 v -1.0417785644531248 h 0.31700775089885264 v -1.1348361968994138 h 0.31700775089884553 v -1.2203063964843748 h 0.31700775089885264 v -1.17308235168457 h 0.31700775089885264 v -1.0774154663085935 h 0.31700775089885264 v -1.068489074707031 h 0.31700775089884553 v -1.0948390960693357 h 0.31700775089885264 v -0.9801692962646482 h 0.31700775089884553 v -0.8574657440185545 h 0.31700775089885264 v -0.8407287597656248 h 0.3170115299293314 v -0.8563327789306638 h 0.31700775089885264 v -0.827116012573242 h 0.31700775089884553 v -0.7986545562744138 h 0.31700775089885264 v -0.8151683807373045 h 0.31700775089884553 v -0.822446823120117 h 0.31700775089885264 v -0.8048343658447263 h 0.31700775089885264 v -0.6973400115966796 h 0.31700775089884553 v -0.6900787353515624 h 0.31700775089885264 v -0.7028503417968749 h 0.31700775089884553 v -0.6678314208984374 h 0.31700775089885264 v -0.6396789550781249 h 0.31700775089885264 v -0.5000839233398436 h 0.31700775089885264 v -0.5785846710205077 h 0.3170115299293314 v -0.6194572448730468 h 0.31700775089884553 v -0.6235256195068358 h 0.31700775089884553 v -0.6093292236328124 h 0.31700775089885264 v -0.5999736785888671 h 0.31700775089885264 v -0.626443862915039 h 0.31700775089885264 v -0.6608276367187499 h 0.31700775089885264 v -0.6025657653808593 h 0.3170077508988384 v -0.5333862304687499 h 0.31700775089885264 v -0.46400070190429676 h 0.31700775089885264 v -0.4518299102783202 h 0.31700775089885264 v -0.44062042236328114 h 0.31700775089884553 v -0.4533405303955077 h 0.3170115299293385 v -0.42400360107421864 h 0.3170077508988384 v -0.3894481658935546 h 0.31700775089885264 v -0.3765907287597655 h 0.31700775089885264 v -0.36601638793945307 h 0.31700775089885264 v -0.3816375732421874 h 0.31700775089884553 v -0.396778106689453 h 0.31700775089885264 v -0.33245658874511713 h 0.31700775089885264 v -0.25982666015624994 h 0.31700775089884553 v -0.3553218841552734 h 0.31700775089885264 v -0.243295669555664 h 0.31700775089885264 v -0.3521633148193359 h 0.31700775089885264 v 14.330291748046871 h 0.3170077508988384 v 16.473793029785153 h 0.3170115299293385 v -6.592311859130858 h 0.31700775089884553 v -3.7010364532470694 h 0.31700775089885264 v 2.862848281860351 h 0.31700775089885264 v -1.3058109283447263 h 0.31700775089885264 v -3.231285095214843 h 0.3170077508988384 v 0.9252033233642576 h 0.31700775089885264 v 1.1102027893066404 h 0.31700775089885264 v -0.7851619720458982 h 0.31700775089885264 v -1.4323940277099607 h 0.31700775089884553 v -0.695108413696289 h 0.31700775089885264 v 0.6083679199218749 h 0.31700775089885264 v 0.2617149353027343 h 0.3170115299293243 v -0.1011085510253906 h 0.31700775089885264 v -0.4537181854248046 h 0.31700775089885264 v -0.426990509033203 h 0.31700775089884553 v -0.15392875671386716 h 0.31700775089885264 v 4.212570190429687e-2 h 0.31700775089885264 v 0.13264274597167966 h 0.31700775089884553 v 0.12163925170898435 h 0.31700775089885264 v -0.3362331390380859 h 0.31700775089885264 v -0.19186592102050776 h 0.31700775089885264 v -0.2225589752197265 h 0.3170077508988384 v 0.7437400817871093 h 0.31700775089885264 v 0.5962142944335936 h 0.31700775089885264 v -0.4777851104736327 h 0.3170115299293314 v 1.1184425354003904 h 0.31700775089885264 v -3.330110549926757 h 0.31700775089885264 v 4.046539306640624 h 0.3170077508988384 v 0.8365402221679685 h 0.31700775089885264 v -0.4813385009765624 h 0.31700775089885264 v -1.515254974365234 h 0.31700775089885264 v -0.7439289093017577 h 0.31700775089884553 v -0.4328613281249999 h 0.31700775089885264 v -0.32380485534667963 h 0.31700775089885264 v -0.306192398071289 h 0.31700775089885264 v -0.29843330383300776 h 0.31700775089884553 v -0.2914981842041015 h 0.3170115299293314 v -0.16915512084960935 h 0.31700775089884553 v -0.1418952941894531 h 0.31700775089885264 v 0.22523689270019526 h 0.31700775089885264 v 0.3878002166748046 h 0.31700775089885264 v 0.7108840942382811 h 0.31700775089884553 v 1.0868053436279295 h 0.31700775089885264 v 1.5528144836425777 h 0.31700775089885264 v 2.0694808959960933 h 0.31700775089884553 v 2.636478424072265 h 0.31700775089885264 v 2.6342468261718746 h 0.31700775089885264 v 5.302602767944335 h 0.31700775089885264 v 14.017842292785641 h 0.3170077508988384 v 16.09301376342773 h 0.31700775089885264 v 21.319664955139157 h 0.31700775089885264 v 8.293931007385252 h 0.31700775089885264 v -2.427918434143066 h 0.3170077508988384 v -1.121721267700195 h 0.31700775089885264 v 0.14869308471679685 h 0.31700775089885264 v 4.3305273056030265 h 0.31701530895981017 v 3.928290367126464 h 0.31700775089885264 v 3.1674785614013663 h 0.31700775089885264 v 4.919583320617675 h 0.31700775089885264 v -1.8039979934692378 h 0.31700775089885264 v -3.4198293685913077 h 0.3170077508988384 v -0.3423700332641601 h 0.31700775089885264 v -2.1225414276123042 h 0.31700775089885264 v -1.6063470840454097 h 0.31700775089885264 v -2.8146028518676753 h 0.3170077508988384 v -1.514980316162109 h 0.31700775089885264 v -1.2613162994384763 h 0.31700775089885264 v -0.5247173309326171 h 0.31700775089885264 v 0.6387348175048827 h 0.31700775089885264 v -0.9029560089111326 h 0.31700775089885264 v -2.330268859863281 h 0.31700775089885264 v -1.6827020645141597 h 0.3170077508988384 v -1.087964057922363 h 0.31700775089885264 v -0.13005065917968747 h 0.31700775089885264 v -0.2555007934570312 h 0.31700775089885264 v 0.4798622131347655 h 0.3170077508988384 v -1.0605583190917967 h 0.31700775089885264 v -1.414361000061035 h 0.31700775089885264 v -0.843569755554199 h 0.31700775089885264 v -1.2315073013305662 h 0.31700775089885264 v -0.5083322525024413 h 0.31701530895981017 v 0.14339733123779294 h 0.31700775089885264 v 0.29919719696044916 h 0.31700775089885264 v -0.271860122680664 h 0.3170077508988384 v -0.8795585632324217 h 0.31700775089885264 v -0.6525020599365233 h 0.31700775089885264 v -0.34582901000976557 h 0.31700775089885264 v -0.2783403396606445 h 0.3170077508988384 v -0.26510524749755854 h 0.31700775089885264 v 0.14053058624267575 h 0.31700775089885264 v 0.4578123092651366 h 0.31700775089885264 v 0.3796977996826171 h 0.31700775089885264 v 0.3744449615478515 h 0.31700775089885264 v 0.239450454711914 h 0.31700775089885264 v 0.20356464385986323 h 0.3170077508988384 v 0.7292089462280272 h 0.31700775089885264 v 1.978826522827148 h 0.31700775089885264 v 6.72842216491699 h 0.31700775089885264 v 0.7704677581787107 h 0.3170077508988384 v -4.101076126098632 h 0.31700775089885264 v -1.3649997711181638 h 0.31700775089885264 v -0.7241363525390624 h 0.31700775089885264 v -1.1176357269287107 h 0.31700775089885264 v -0.33209609985351557 h 0.31700775089885264 v -1.0046310424804685 h 0.31700775089885264 v -0.6937007904052733 h 0.31701530895981017 v -0.6616773605346679 h 0.31700775089885264 v -0.2175378799438476 h 0.3170077508988384 v -0.14531135559082028 h 0.31700775089885264 v -0.25395584106445307 h 0.31700775089885264 v -0.2574577331542968 h 0.3170077508988384 v -0.40398788452148426 h 0.31700775089885264 v -0.511859893798828 h 0.31700775089885264 v -0.1461524963378906 h 0.31700775089885264 v -0.17140388488769528 h 0.31700775089885264 v -0.3162174224853515 h 0.31700775089885264 v -0.3310146331787109 h 0.31700775089885264 v -0.257303237915039 h 0.3170077508988384 v -0.32207107543945307 h 0.31700775089886685 v -0.35540771484374994 h 0.3170077508988384 v -0.21754646301269526 h 0.3170077508988384 v -0.10038757324218747 h 0.31700775089886685 v -1.938056945800781e-2 h 0.3170077508988384 v 1.3372421264648434e-2 h 0.31700775089885264 v -3.752517700195312e-2 h 0.31700775089885264 v -0.1380672454833984 h 0.31700775089885264 v -0.2550888061523437 h 0.31700775089885264 v -0.2589340209960937 h 0.31700775089885264 v -0.1728715896606445 h 0.3170077508988384 v -1.6548156738281247e-2 h 0.31700775089886685 v 0.2131261825561523 h 0.31701530895981017 v 0.4596920013427733 h 0.3170077508988384 v 0.8717136383056638 h 0.3170077508988384 v 2.026891708374023 h 0.31700775089886685 v -0.37746620178222645 h 0.3170077508988384 v -1.0274705886840818 h 0.31700775089885264 v -0.47652339935302723 h 0.31700775089885264 v -0.31518745422363276 h 0.31700775089885264 v -0.24772453308105463 h 0.31700775089885264 v -0.12640285491943357 h 0.31700775089885264 v -0.23671245574951166 h 0.3170077508988384 v -0.34338283538818354 h 0.31700775089886685 v -0.3357782363891601 h 0.3170077508988384 v -0.21255111694335932 h 0.3170077508988384 v -0.1998052597045898 h 0.31700775089886685 v -0.2183446884155273 h 0.3170077508988384 v -0.13274574279785153 h 0.31700775089885264 v -0.12466049194335935 h 0.31700775089885264 v -0.1427192687988281 h 0.31700775089885264 v -8.843135833740233e-2 h 0.31700775089885264 v -5.727481842041014e-2 h 0.31700775089885264 v -6.692218780517577e-2 h 0.3170077508988384 v -9.95378494262695e-2 h 0.31700775089886685 v -0.11494445800781247 h 0.3170077508988384 v -0.12888336181640622 h 0.3170077508988384 v -8.773612976074217e-2 h 0.31701530895981017 v 2.580070495605468e-2 h 0.31700775089886685 v 0.11417198181152341 h 0.3170077508988384 v 0.2693710327148437 h 0.31700775089885264 v 0.5412912368774413 h 0.31700775089885264 v 0.8604955673217771 h 0.31700775089885264 v 0.6703205108642577 h 0.31700775089885264 v -0.5690746307373046 h 0.31700775089885264 v -0.42003822326660145 h 0.3170077508988384 v -0.2426691055297851 h 0.31700775089886685 v -0.5340642929077147 h 0.3170077508988384 v -0.25207614898681635 h 0.3170077508988384 v -0.10597515106201169 h 0.31700775089886685 v -0.21069717407226557 h 0.3170077508988384 v -0.21994113922119135 h 0.31700775089885264 v -0.20842266082763666 h 0.31700775089885264 v -0.14874458312988278 h 0.31700775089885264 v -0.1487789154052734 h 0.31700775089885264 v -8.629417419433592e-2 h 0.31700775089885264 v -2.3397445678710934e-2 h 0.3170077508988384 v -2.324295043945312e-2 h 0.31700775089886685 v -0.17456245422363278 h 0.3170077508988384 v -0.17461395263671872 h 0.3170077508988384 v -0.18459606170654294 h 0.31700775089886685 v -0.19456958770751948 h 0.3170077508988384 v -0.19467258453369135 h 0.31701530895981017 v -4.043483734130859e-2 h 0.31700775089886685 v -4.0460586547851556e-2 h 0.3170077508988384 v -8.704948425292967e-2 h 0.31700775089885264 v -0.13372421264648435 h 0.31700775089885264 v -0.13372421264648435 h 0.31700775089885264 v 1.0771751403808592e-2 h 0.3170077508988384 v 1.0814666748046873e-2 h 0.31700775089886685 v -2.9500007629394524e-2 h 0.3170077508988384 v -6.94456100463867e-2 h 0.3170077508988384 v -6.93683624267578e-2 h 0.31700775089886685 v -7.803726196289061e-2 h 0.3170077508988384 v -7.80973434448242e-2 h 0.31700775089885264 v -7.553100585937499e-2 h 0.31700775089885264 v -7.293033599853514e-2 h 0.31700775089885264 v -7.298183441162108e-2 h 0.31700775089885264 v -3.0959129333496087e-2 h 0.31700775089885264 v -3.1002044677734368e-2 h 0.3170077508988384 v -3.7808418273925774e-2 h 0.31700775089886685 v -4.465770721435546e-2 h 0.3170077508988384 v -4.476070404052734e-2 h 0.3170077508988384 v -6.7377090454101545e-3 h 0.31700775089886685 v -6.857872009277342e-3 h 0.3170077508988384 v -2.7757644653320306e-2 h 0.31700775089885264 v -4.8734664916992174e-2 h 0.31700775089885264 v -4.8803329467773424e-2 h 0.31701530895981017 v -6.4630508422851545e-3 h 0.31700775089885264 v -3.4074783325195304e-3 h 0.31700775089885264 v 1.871109008789062e-3 h 0.31700775089885264 v 7.407188415527342e-3 h 0.3170077508988384 v 7.407188415527342e-3 h 0.31700775089886685 v -2.8006553649902337e-2 h 0.3170077508988384 v -2.3646354675292962e-2 h 0.3170077508988384 v 1.2874603271484372e-4 h 0.31700775089886685 v 4.471778869628905e-3 h 0.3170077508988384 v 4.634857177734374e-3 h 0.31700775089886685 v 5.0725936889648424e-2 h 0.3170077508988384 v 5.070877075195311e-2 h 0.31700775089885264 v 4.150772094726562e-2 h 0.31700775089885264 v 3.211784362792968e-2 h 0.31700775089885264 v 3.218650817871093e-2 h 0.3170077508988384 v 2.4787902832031243e-2 h 0.31700775089886685 v 2.477073669433593e-2 h 0.3170077508988384 v 4.166221618652343e-2 h 0.3170077508988384 v 5.846786499023436e-2 h 0.31700775089886685 v 5.8502197265624986e-2 h 0.3170077508988384 v -1.2016296386718747e-4 h 0.31700775089886685 v -1.8882751464843745e-4 h 0.3170077508988384 v 3.280448913574218e-2 h 0.31700775089885264 v 6.588363647460936e-2 h 0.31700775089885264 v 6.583213806152342e-2 h 0.31701530895981017 v 4.367923736572265e-2 h 0.31700775089885264 v 4.373073577880859e-2 h 0.3170077508988384 v 5.1773071289062486e-2 h 0.31700775089886685 v 5.9858322143554674e-2 h 0.3170077508988384 v 5.9858322143554674e-2 h 0.3170077508988384 v -1.1767387390136715e-2 h 0.31700775089886685 v -1.1784553527832028e-2 h 0.3170077508988384 v -1.2462615966796872e-2 h 0.31700775089886685 v -1.317501068115234e-2 h 0.3170077508988384 v -1.3192176818847653e-2 h 0.31700775089885264 v -6.351470947265624e-4 h 0.31700775089885264 v -6.694793701171874e-4 h 0.31700775089885264 v -1.7578124999999997e-2 h 0.31701530895981017 v -3.452110290527343e-2 h 0.3170001928378951 v -3.4555435180664056e-2 h 0.31701530895981017 v 0.1229438781738281 h 0.3170001928378809 v 0.14126014709472653 h 0.31701530895981017 v 0.118351936340332 h 0.3170001928378951 v 9.545230865478513e-2 h 0.31701530895981017 v 9.540081024169919e-2 h 0.3170001928378951 v 0.115880012512207 h 0.31701530895981017 v 0.11588859558105466 h 0.3170001928378951 v 0.11013793945312497 h 0.31701530895981017 v 0.10405254364013669 h 0.3170001928378667 v 0.10400104522705075 h 0.31701530895981017 v 0.13477993011474607 h 0.3170001928378951 v 0.13470268249511716 h 0.31701530895981017 v 0.12786197662353513 h 0.3170001928378951 v 0.12096977233886716 h 0.31701530895981017 v 0.12091827392578122 h 0.3170001928378951 v 0.12586212158203122 h 0.31701530895981017 v 0.12574195861816403 h 0.3170001928378667 v 0.13178443908691403 h 0.31701530895981017 v 0.1377925872802734 h 0.3170001928378951 v 0.13768959045410153 h 0.31701530895981017 v 0.14053058624267575 h 0.3170001928378951 v 0.1404619216918945 h 0.31701530895981017 v 0.13946628570556638 h 0.31701530895981017 v 0.13835048675537107 h 0.3170001928378951 v 0.1382646560668945 h 0.31701530895981017 v 0.1655759811401367 h 0.3170001928378951 v 0.16544723510742185 h 0.31701530895981017 v 0.15712165832519528 h 0.3170001928378951 v 0.14872741699218747 h 0.31701530895981017 v 0.14869308471679685 h 0.3170001928378951 v 0.14916515350341794 h 0.31701530895981017 v 0.15377426147460935 h 0.3170001928378667 v 0.18804645538330073 h 0.31701530895981017 v 0.22224998474121088 h 0.3170001928378951 v 0.22216415405273432 h 0.31701530895981017 v 0.16125011444091794 h 0.3170001928378951 v 0.16112995147705075 h 0.31701530895981017 v 0.18874168395996088 h 0.3170001928378951 v 0.21629333496093744 h 0.31701530895981017 v 0.21613883972167963 h 0.3170001928378667 v 0.17970371246337888 h 0.31701530895981017 v 0.17961788177490232 h 0.3170001928378951 v 0.20491218566894526 h 0.31701530895981017 v 0.23018074035644526 h 0.3170001928378951 v 0.2299575805664062 h 0.31701530895981017 v 0.19075012207031244 h 0.3170001928378951 v 0.19057846069335932 h 0.31701530895981017 v 0.20192527770996088 h 0.31701530895981017 v 0.21332359313964838 h 0.3170001928378951 v 0.2130661010742187 h 0.31701530895981017 v 0.2086715698242187 h 0.3170001928378951 v 0.20851707458496088 h 0.31701530895981017 v 0.2378625869750976 h 0.3170001928378951 v 0.2672939300537109 h 0.31701530895981017 v 0.26702785491943354 h 0.3170001928378667 v 0.24336433410644526 h 0.31701530895981017 v 0.243021011352539 h 0.3170001928378951 v 0.2669334411621093 h 0.31701530895981017 v 0.28823661804199213 h 0.3170001928378951 v 0.28796195983886713 h 0.31701530895981017 v 0.24394798278808588 h 0.3170001928378951 v 0.24358749389648432 h 0.31701530895981017 v 0.2766666412353515 h 0.3170001928378667 v 0.3099002838134765 h 0.31701530895981017 v 0.3095054626464843 h 0.3170001928378951 v 0.24379348754882807 h 0.31701530895981017 v 0.24372482299804682 h 0.3170001928378951 v 0.26594638824462885 h 0.31701530895981017 v 0.2880821228027343 h 0.3170001928378951 v 0.2877473831176757 h 0.31701530895981017 v 0.2715253829956054 h 0.3170001928378951 v 0.2711133956909179 h 0.31701530895981017 v 0.282297134399414 h 0.31701530895981017 v 0.2933864593505859 h 0.3170001928378951 v 0.293008804321289 h 0.31701530895981017 v 0.2797908782958984 h 0.3170001928378951 v 0.27946472167968744 h 0.31701530895981017 v 0.30160903930664057 h 0.3170001928378667 v 0.3237876892089843 h 0.31701530895981017 v 0.32330703735351557 h 0.3170001928378951 v 0.26204109191894526 h 0.31701530895981017 v 0.2616548538208007 h 0.3170001928378951 v 0.29480266571044916 h 0.31701530895981017 v 0.3277702331542968 h 0.3170001928378951 v 0.32728958129882807 h 0.31701530895981017 v 0.30476760864257807 h 0.3170001928378667 v 0.31251811981201166 h 0.31701530895981017 v 0.3348340988159179 h 0.3170001928378951 v 0.35703849792480463 h 0.31701530895981017 v 0.35666084289550776 h 0.3170001928378951 v 0.33946037292480463 h 0.31701530895981017 v 0.3389539718627929 h 0.3170001928378951 v 0.33926296234130854 h 0.31701530895981017 v 0.33959770202636713 h 0.3170001928378951 v 0.33896255493164057 h 0.31701530895981017 v 0.3566951751708984 h 0.3170001928378951 v 0.35667800903320307 h 0.31701530895981017 v 0.3621797561645507 h 0.31701530895981017 v 0.36772441864013666 h 0.3170001928378951 v 0.367166519165039 h 0.31701530895981017 v 0.3600425720214843 h 0.3170001928378667 v 0.3594932556152343 h 0.3170153089598386 v 0.36411952972412104 h 0.3170001928378667 v 0.36862564086914057 h 0.31701530895981017 v 0.3680334091186523 h 0.3170001928378951 v 0.3809680938720702 h 0.31701530895981017 v 0.38013553619384755 h 0.3170001928378951 v 0.3711662292480468 h 0.31701530895981017 v 0.3621025085449218 h 0.3170001928378667 v 0.3614931106567382 h 0.31701530895981017 v 0.36823940277099604 h 0.3170001928378951 v 0.36752700805664057 h 0.31701530895981017 v 0.38181781768798817 h 0.3170001928378951 v 0.3959712982177733 h 0.31701530895981017 v 0.3952674865722655 h 0.3170001928378951 v 0.38228988647460926 h 0.31701530895981017 v 0.39635753631591786 h 0.3170001928378951 v 0.3959026336669921 h 0.31701530895981017 v 0.39539623260498036 h 0.3170001928378951 v 0.3945980072021483 h 0.31701530895981017 v 0.41994380950927723 h 0.3170001928378951 v 0.4191284179687499 h 0.31701530895981017 v 0.41201305389404286 h 0.31701530895981017 v 0.4048805236816405 h 0.3170001928378667 v 0.40406513214111317 h 0.3170153089598386 v 0.4166135787963866 h 0.3170001928378667 v 0.4156780242919921 h 0.31701530895981017 v 0.4140987396240233 h 0.3170001928378951 v 0.4125194549560546 h 0.31701530895981017 v 0.4116268157958983 h 0.3170001928378951 v 0.4196777343749999 h 0.31701530895981017 v 0.4187679290771483 h 0.3170001928378667 v 0.41827011108398426 h 0.31701530895981017 v 0.4177551269531249 h 0.3170001928378951 v 0.4169139862060546 h 0.31701530895981017 v 0.4456157684326171 h 0.3170001928378951 v 0.444594383239746 h 0.31701530895981017 v 0.4293251037597655 h 0.3170001928378951 v 0.41401290893554676 h 0.31701530895981017 v 0.4132232666015624 h 0.3170001928378951 v 0.4025630950927733 h 0.31701530895981017 v 0.4017992019653319 h 0.3170001928378951 v 0.41142940521240223 h 0.31701530895981017 v 0.4244585037231444 h 0.3170001928378667 v 0.4324064254760741 h 0.3170153089598386 v 0.3922891616821288 h 0.3170001928378951 v 0.3913621902465819 h 0.31701530895978175 v 0.4141416549682616 h 0.3170153089598386 v 0.43680953979492176 h 0.3170001928378951 v 0.4357194900512694 h 0.31701530895978175 v 0.3733720779418945 h 0.3170001928378951 v 0.3725395202636718 h 0.3170153089598386 v 0.39216041564941395 h 0.31700019283783826 v 0.41175556182861317 h 0.3170153089598386 v 0.41071701049804676 h 0.3170001928378951 v 0.39449501037597645 h 0.31701530895978175 v 0.39347362518310536 h 0.3170001928378951 v 0.39121627807617176 h 0.3170153089598386 v 0.38884735107421864 h 0.3170001928378667 v 0.3879547119140624 h 0.31701530895981017 v 0.3803758621215819 h 0.3170001928378951 v 0.37946605682373036 h 0.31701530895981017 v 0.3705954551696777 h 0.3170001928378951 v 0.3616433143615722 h 0.31701530895981017 v 0.3608064651489257 h 0.3170001928378951 v 0.3622827529907226 h 0.31701530895981017 v 0.3614544868469238 h 0.3170001928378951 v 0.3476228713989257 h 0.31701530895978175 v 0.33395433425903315 h 0.3170001928378951 v 0.33314323425292963 h 0.3170153089598386 v 0.3481721878051757 h 0.3170001928378951 v 0.3544549942016601 h 0.31701530895978175 v 0.34424114227294916 h 0.3170153089598386 v 0.33404874801635737 h 0.31700019283783826 v 0.33323335647583 h 0.3170153089598386 v 0.3629350662231445 h 0.3170001928378951 v 0.3620252609252929 h 0.31701530895978175 v 0.34393215179443354 h 0.3170001928378951 v 0.3259634971618652 h 0.3170153089598386 v 0.3251910209655761 h 0.3170001928378951 v 0.3381557464599609 h 0.31701530895978175 v 0.33728027343749994 h 0.3170001928378951 v 0.3306026458740234 h 0.31701530895981017 v 0.32385635375976557 h 0.3170001928378951 v 0.32307529449462885 h 0.31701530895981017 v 0.32484769821166987 h 0.3170001928378951 v 0.3239979743957519 h 0.31701530895981017 v 0.28707790374755854 h 0.3170001928378951 v 0.250436782836914 h 0.31701530895981017 v 0.2498703002929687 h 0.3170001928378667 v 0.3540000915527343 h 0.3170153089598386 v 0.3530387878417968 h 0.3170001928378951 v 0.33544778823852534 h 0.31701530895978175 v 0.3180155754089355 h 0.3170001928378951 v 0.31720018386840815 h 0.3170153089598386 v 0.32155179977416987 h 0.31700019283783826 v 0.32278347015380854 h 0.3170153089598386 v 0.30879306793212885 h 0.3170153089598386 v 0.2948884963989257 h 0.31700019283783826 v 0.2941203117370605 h 0.3170153089598386 v 0.2940258979797363 h 0.3170001928378951 v 0.29329204559326166 h 0.31701530895978175 v 0.29834318161010737 h 0.3170001928378951 v 0.303445816040039 h 0.3170153089598386 v 0.302621841430664 h 0.3170001928378667 v 0.29164409637451166 h 0.31701530895981017 v 0.2908887863159179 h 0.3170001928378951 v 0.29100036621093744 h 0.31701530895981017 v 0.2910690307617187 h 0.3170001928378951 v 0.2903394699096679 h 0.31701530895981017 v 0.3123121261596679 h 0.3170001928378951 v 0.3114581108093261 h 0.31701530895981017 v 0.2928886413574218 h 0.3170001928378951 v 0.27444362640380854 h 0.31701530895978175 v 0.2737398147583007 h 0.3170001928378951 v 0.3130717277526855 h 0.3170153089598386 v 0.3122048377990722 h 0.3170001928378951 v 0.29246377944946284 h 0.31701530895978175 v 0.2729115486145019 h 0.3170001928378951 v 0.2721905708312988 h 0.3170153089598386 v 0.3095183372497558 h 0.31700019283783826 v 0.30857849121093744 h 0.3170153089598386 v 0.3039479255676269 h 0.31701530895978175 v 0.2993130683898925 h 0.3170001928378951 v 0.298501968383789 h 0.3170153089598386 v 0.2863268852233886 h 0.3170001928378951 v 0.2855501174926757 h 0.31701530895978175 v 0.2855887413024902 h 0.3170001928378951 v 0.28564453124999994 h 0.31701530895981017 v 0.28485059738159174 h 0.3170001928378951 v 0.2927641868591308 h 0.31701530895981017 v 0.2919273376464843 h 0.3170001928378951 v 0.3040895462036132 h 0.31701530895981017 v 0.31613159179687494 h 0.3170001928378951 v 0.31517028808593744 h 0.31701530895981017 v 0.3003044128417968 h 0.3170001928378667 v 0.2994203567504882 h 0.3170153089598386 v 0.28607368469238276 h 0.3170001928378951 v 0.2727785110473632 h 0.31701530895978175 v 0.2720146179199218 h 0.3170001928378951 v 0.31274557113647455 h 0.3170153089598386 v 0.3118057250976562 h 0.31700019283783826 v 0.30919218063354487 h 0.3170153089598386 v 0.30665588378906244 h 0.3170001928378951 v 0.3056602478027343 h 0.31701530895978175 v 0.3187365531921386 h 0.3170001928378951 v 0.3176851272583007 h 0.3170153089598386 v 0.305093765258789 h 0.31701530895978175 v 0.29230070114135737 h 0.3170001928378951 v 0.29057121276855463 h 0.3170153089598386 v 0.3253369331359863 h 0.3170001928378667 v 0.32428121566772455 h 0.31701530895981017 v 0.3113679885864257 h 0.3170001928378951 v 0.29834318161010737 h 0.31701530895981017 v 0.29636907577514643 h 0.3170001928378951 v 0.31147527694702143 h 0.31701530895981017 v 0.3104667663574218 h 0.3170001928378951 v 0.304943561553955 h 0.31701530895981017 v 0.29947185516357416 h 0.3170001928378951 v 0.2985191345214843 h 0.31701530895978175 v 0.3090291023254394 h 0.3170001928378951 v 0.3095655441284179 h 0.3170153089598386 v 0.30076360702514643 h 0.3170001928378951 v 0.29202604293823237 h 0.31701530895978175 v 0.2910733222961425 h 0.3170001928378951 v 0.3173418045043945 h 0.3170153089598386 v 0.3158526420593261 h 0.31700019283783826 v 0.3035402297973632 h 0.3170153089598386 v 0.293283462524414 h 0.3170001928378951 v 0.29228353500366205 h 0.31701530895978175 v 0.3041324615478515 h 0.3170001928378951 v 0.3024201393127441 h 0.3170153089598386 v 0.2918672561645507 h 0.31701530895978175 v 0.28265333175659174 h 0.3170001928378951 v 0.28173923492431635 h 0.3170153089598386 v 0.3073983192443847 h 0.3170001928378667 v 0.3063254356384277 h 0.31701530895981017 v 0.2992959022521972 h 0.3170001928378951 v 0.2898073196411132 h 0.31701530895981017 v 0.2874813079833984 h 0.3170001928378951 v 0.27598428726196284 h 0.31701530895981017 v 0.27508306503295893 h 0.3170001928378667 v 0.27806138992309565 h 0.3170153089598386 v 0.2850544452667236 h 0.3170001928378951 v 0.29036307334899897 h 0.31701530895978175 v 0.29669094085693354 h 0.3170001928378951 v 0.2917127609252929 h 0.3170153089598386 v 0.2807092666625976 h 0.3170001928378951 v 0.27181935310363764 h 0.31701530895978175 v 0.2716798782348632 h 0.3170001928378951 v 0.27397155761718744 h 0.31701530895978175 v 0.27302527427673334 h 0.3170001928378951 v 0.2690320014953613 h 0.3170153089598386 v 0.2667810916900634 h 0.3170001928378951 v 0.2657897472381591 h 0.31701530895978175 v 0.2606935501098632 h 0.3170001928378951 v 0.25352668762207026 h 0.31701530895981017 v 0.26317191123962397 h 0.31701530895981017 v 0.2736904621124267 h 0.3170001928378951 v 0.2727634906768798 h 0.31701530895981017 v 0.2549192905426025 h 0.3170001928378951 v 0.25404167175292963 h 0.31701530895981017 v 0.2501492500305175 h 0.3170001928378951 v 0.2463297843933105 h 0.31701530895981017 v 0.2454307079315185 h 0.3170001928378951 v 0.24966216087341303 h 0.31701530895978175 v 0.24876737594604487 h 0.3170001928378951 v 0.24620103836059565 h 0.3170153089598386 v 0.24358749389648432 h 0.3170001928378951 v 0.24272704124450678 h 0.31701530895978175 v 0.24328923225402826 h 0.3170001928378951 v 0.24236869812011713 h 0.3170153089598386 v 0.22827100753784174 h 0.31700019283783826 v 0.21423768997192377 h 0.3170153089598386 v 0.21348667144775385 h 0.3170001928378951 v 0.24633836746215815 h 0.31701530895978175 v 0.2454328536987304 h 0.3170001928378951 v 0.22147965431213373 h 0.3170153089598386 v 0.19772601127624506 h 0.3170001928378667 v 0.1970157623291015 h 0.31701530895981017 v 0.22095823287963862 h 0.3170001928378951 v 0.22010421752929682 h 0.31701530895981017 v 0.21339225769042963 h 0.31701530895981017 v 0.20666956901550287 h 0.3170001928378951 v 0.20592927932739252 h 0.31701530895981017 v 0.22213625907897944 h 0.3170001928378951 v 0.2212779521942138 h 0.31701530895981017 v 0.21394371986389155 h 0.3170001928378667 v 0.2066867351531982 h 0.3170153089598386 v 0.20586919784545893 h 0.3170001928378951 v 0.2075729370117187 h 0.31701530895978175 v 0.20675539970397944 h 0.3170001928378951 v 0.20852351188659662 h 0.3170153089598386 v 0.21026587486267084 h 0.3170001928378951 v 0.2094354629516601 h 0.31701530895978175 v 0.19411253929138178 h 0.3170001928378951 v 0.19335508346557612 h 0.31701530895978175 v 0.20155405998229975 h 0.3170001928378951 v 0.20968437194824213 h 0.3170153089598386 v 0.2088539600372314 h 0.3170001928378951 v 0.18282365798950193 h 0.31701530895978175 v 0.1821177005767822 h 0.3170001928378951 v 0.1843771934509277 h 0.3170153089598386 v 0.1890485286712646 h 0.3170001928378667 v 0.18833827972412104 h 0.31701530895981017 v 0.19124364852905268 h 0.3170001928378951 v 0.19049477577209467 h 0.31701530895981017 v 0.18304252624511716 h 0.31701530895981017 v 0.17563748359680173 h 0.3170001928378951 v 0.17498946189880368 h 0.31701530895981017 v 0.18429565429687497 h 0.3170001928378951 v 0.18360471725463864 h 0.31701530895981017 v 0.16634202003479 h 0.3170001928378667 v 0.1492037773132324 h 0.3170153089598386 v 0.1486845016479492 h 0.3170001928378951 v 0.20638632774353022 h 0.31701530895978175 v 0.20556235313415522 h 0.3170001928378951 v 0.18562924861907956 h 0.3170153089598386 v 0.16584098339080808 h 0.31700019283783826 v 0.16520798206329343 h 0.3170153089598386 v 0.1683021783828735 h 0.3170001928378951 v 0.16764020919799802 h 0.31701530895978175 v 0.16034781932830808 h 0.3170001928378951 v 0.1530886888504028 h 0.3170153089598386 v 0.15251255035400388 h 0.3170001928378951 v 0.16034674644470212 h 0.31701530895978175 v 0.15974164009094236 h 0.3170001928378951 v 0.15787482261657712 h 0.31701530895981017 v 0.1560627222061157 h 0.3170001928378951 v 0.15546619892120359 h 0.31701530895981017 v 0.1464647054672241 h 0.3170001928378951 v 0.14590895175933835 h 0.31701530895981017 v 0.14753007888793943 h 0.31701530895981017 v 0.1491415500640869 h 0.3170001928378667 v 0.14857077598571775 h 0.3170153089598386 v 0.15323567390441892 h 0.3170001928378951 v 0.15264129638671872 h 0.31701530895978175 v 0.14254117012023923 h 0.3170001928378951 v 0.13253867626190183 h 0.3170153089598386 v 0.13205587863922116 h 0.3170001928378951 v 0.13385725021362302 h 0.31701530895978175 v 0.131435751914978 h 0.3170001928378951 v 0.13301718235015866 h 0.31701530895978175 v 0.13457286357879636 h 0.3170001928378951 v 0.13411581516265866 h 0.3170153089598386 v 0.11790347099304196 h 0.3170001928378951 v 0.11749148368835446 h 0.31701530895978175 v 0.11879611015319821 h 0.3170001928378951 v 0.12009644508361814 h 0.3170153089598386 v 0.11969304084777829 h 0.3170001928378667 v 0.11600875854492185 h 0.31701530895981017 v 0.11562895774841306 h 0.3170001928378951 v 0.11256051063537595 h 0.31701530895981017 v 0.10951244831085202 h 0.3170001928378951 v 0.10916054248809812 h 0.31701530895981017 v 0.11483073234558103 h 0.3170001928378667 v 0.11444556713104245 h 0.3170153089598386 v 0.10658025741577146 h 0.31701530895981017 v 9.875571727752683e-2 h 0.31701530895981017 v 9.843707084655759e-2 h 0.3169850767159516 v 9.832978248596189e-2 h 0.3170153089598386 v 9.801542758941648e-2 h 0.31701530895978175 v 9.220898151397704e-2 h 0.3170153089598386 v 8.644437789916991e-2 h 0.3169850767159516 v 8.618044853210448e-2 h 0.31701530895981017 v 9.342777729034422e-2 h 0.31701530895981017 v 9.311771392822264e-2 h 0.31701530895981017 v 8.847427368164061e-2 h 0.31698507671598003 v 8.386838436126708e-2 h 0.31701530895981017 v 8.357870578765868e-2 h 0.31701530895981017 v 7.836127281188963e-2 h 0.31701530895981017 v 7.809519767761229e-2 h 0.3169850767159232 v 7.529175281524657e-2 h 0.317015308959867 v 7.252478599548338e-2 h 0.31701530895975333 v 7.229197025299071e-2 h 0.317015308959867 v 7.155597209930419e-2 h 0.3169850767159232 v 6.95207118988037e-2 h 0.317015308959867 v 6.896066665649413e-2 h 0.31701530895975333 v 6.877183914184569e-2 h 0.317015308959867 v 6.855511665344237e-2 h 0.3169850767159232 v 6.234848499298094e-2 h 0.31701530895981017 v 6.2167167663574205e-2 h 0.31701530895981017 v 6.23345375061035e-2 h 0.31701530895981017 v 6.2467575073242174e-2 h 0.31701530895981017 v 6.2268018722534166e-2 h 0.31698507671598003 v 5.6384325027465806e-2 h 0.31701530895981017 v 5.6214809417724595e-2 h 0.31701530895981017 v 5.4964900016784654e-2 h 0.31701530895981017 v 5.370962619781493e-2 h 0.31698507671598003 v 5.355727672576903e-2 h 0.31701530895981017 v 5.949354171752928e-2 h 0.31701530895981017 v 5.9305250644683824e-2 h 0.31701530895981017 v 5.617403984069823e-2 h 0.31698507671598003 v 5.308467149734496e-2 h 0.31701530895981017 v 5.291247367858885e-2 h 0.31701530895981017 v 5.435281991958617e-2 h 0.31701530895981017 v 5.418169498443602e-2 h 0.3169850767159232 v 5.331802368164061e-2 h 0.317015308959867 v 5.2452743053436265e-2 h 0.31701530895975333 v 5.2293419837951646e-2 h 0.317015308959867 v 4.9049019813537584e-2 h 0.3169850767159232 v 4.88913059234619e-2 h 0.31701530895981017 v 4.928934574127196e-2 h 0.31701530895981017 v 4.968202114105223e-2 h 0.317015308959867 v 4.952859878540038e-2 h 0.3169850767159232 v 4.685980081558227e-2 h 0.31701530895981017 v 4.6723544597625725e-2 h 0.31701530895981017 v 4.6492338180541985e-2 h 0.31701530895981017 v 4.6257376670837395e-2 h 0.31701530895981017 v 4.611200094223022e-2 h 0.31698507671598003 v 4.333269596099853e-2 h 0.31701530895981017 v 4.2795181274414056e-2 h 0.31701530895981017 v 4.2704522609710686e-2 h 0.31701530895981017 v 4.2611181735992425e-2 h 0.31698507671598003 v 4.2498528957366936e-2 h 0.31701530895981017 v 4.14057970046997e-2 h 0.31701530895981017 v 4.128777980804443e-2 h 0.31701530895981017 v 4.2166471481323235e-2 h 0.3169850767159232 v 4.303658008575439e-2 h 0.317015308959867 v 4.291266202926635e-2 h 0.31701530895975333 v 3.599309921264648e-2 h 0.317015308959867 v 3.589922189712524e-2 h 0.3169850767159232 v 3.708636760711669e-2 h 0.317015308959867 v 3.826278448104858e-2 h 0.31701530895975333 v 3.8158178329467766e-2 h 0.317015308959867 v 3.896552324295043e-2 h 0.3169850767159232 v 3.885018825531005e-2 h 0.31701530895981017 v 3.831267356872558e-2 h 0.31701530895981017 v 3.7777841091156e-2 h 0.31701530895981017 v 3.766947984695434e-2 h 0.31698507671598003 v 3.544378280639648e-2 h 0.31701530895981017 v 3.5350441932678216e-2 h 0.31701530895981017 v 3.6081075668334954e-2 h 0.31701530895981017 v 3.679776191711425e-2 h 0.31701530895981017 v 3.6691009998321526e-2 h 0.31698507671598003 v 3.640723228454589e-2 h 0.31701530895981017 v 3.630369901657104e-2 h 0.31701530895981017 v 3.573131561279296e-2 h 0.31701530895981017 v 3.515839576721191e-2 h 0.31698507671598003 v 3.506720066070556e-2 h 0.31701530895981017 v 3.6521494388580315e-2 h 0.31701530895981017 v 3.6420643329620354e-2 h 0.31701530895981017 v 3.559452295303344e-2 h 0.3169850767159232 v 3.478503227233886e-2 h 0.317015308959867 v 3.319501876831054e-2 h 0.31701530895975333 v 3.250139951705932e-2 h 0.317015308959867 v 3.241074085235595e-2 h 0.3169850767159232 v 3.560578823089599e-2 h 0.317015308959867 v 3.8772940635681145e-2 h 0.31701530895975333 v 3.8650631904602044e-2 h 0.317015308959867 v 3.112435340881347e-2 h 0.3169850767159232 v 3.1042814254760735e-2 h 0.31701530895981017 v 3.302228450775146e-2 h 0.31701530895981017 v 3.498995304107665e-2 h 0.31701530895981017 v 3.488159179687499e-2 h 0.31698507671598003 v 4.080712795257568e-2 h 0.31701530895981017 v 4.067301750183105e-2 h 0.31701530895981017 v 3.91784906387329e-2 h 0.31701530895981017 v 3.7696301937103265e-2 h 0.31701530895981017 v 3.757238388061523e-2 h 0.31698507671598003 v 3.1440317630767815e-2 h 0.31701530895981017 v 3.135502338409423e-2 h 0.31701530895981017 v 3.0337929725646966e-2 h 0.31701530895981017 v 2.9325127601623528e-2 h 0.3169850767159232 v 2.925217151641845e-2 h 0.317015308959867 v 3.733742237091064e-2 h 0.31701530895975333 v 3.721725940704345e-2 h 0.317015308959867 v 3.621357679367065e-2 h 0.3169850767159232 v 3.521418571472167e-2 h 0.317015308959867 v 3.510957956314086e-2 h 0.31701530895975333 v 2.936375141143798e-2 h 0.317015308959867 v 2.928113937377929e-2 h 0.3169850767159232 v 3.1816363334655755e-2 h 0.31701530895981017 v 3.432637453079223e-2 h 0.31701530895981017 v 3.422445058822631e-2 h 0.31701530895981017 v 3.297024965286254e-2 h 0.31698507671598003 v 3.231257200241088e-2 h 0.31701530895981017 v 3.0537486076354974e-2 h 0.31701530895981017 v 2.951610088348388e-2 h 0.31701530895981017 v 2.9424905776977532e-2 h 0.31698507671598003 v 3.643673658370971e-2 h 0.31701530895981017 v 3.631335496902465e-2 h 0.31701530895981017 v 3.175735473632812e-2 h 0.31701530895981017 v 2.7245342731475823e-2 h 0.31701530895981017 v 2.7164340019226067e-2 h 0.31698507671598003 v 3.486710786819457e-2 h 0.31701530895981017 v 3.474533557891845e-2 h 0.31701530895981017 v 3.381621837615966e-2 h 0.31701530895981017 v 3.288066387176513e-2 h 0.3169850767159232 v 3.276962041854858e-2 h 0.317015308959867 v 3.2701492309570306e-2 h 0.31701530895975333 v 3.2589375972747796e-2 h 0.317015308959867 v 3.303837776184081e-2 h 0.3169850767159232 v 3.3488988876342766e-2 h 0.317015308959867 v 3.3366680145263665e-2 h 0.31701530895975333 v 3.251320123672485e-2 h 0.317015308959867 v 3.2390356063842766e-2 h 0.3169850767159232 v 3.3760964870452874e-2 h 0.31701530895981017 v 3.51111888885498e-2 h 0.31701530895981017 v 3.497010469436645e-2 h 0.31701530895981017 v 3.442776203155517e-2 h 0.31698507671598003 v 3.428238630294799e-2 h 0.31701530895981017 v 3.490197658538818e-2 h 0.31701530895981017 v 3.550869226455688e-2 h 0.31701530895981017 v 3.536063432693481e-2 h 0.31698507671598003 v 3.362846374511718e-2 h 0.31701530895981017 v 3.349381685256957e-2 h 0.31701530895981017 v 3.460800647735595e-2 h 0.31701530895981017 v 3.5712540149688714e-2 h 0.31701530895981017 v 3.489446640014648e-2 h 0.3169850767159232 v 3.657004237174987e-2 h 0.317015308959867 v 3.6413669586181634e-2 h 0.31701530895981017 v 3.5466045141220086e-2 h 0.31701530895981017 v 3.452458977699279e-2 h 0.3169850767159232 v 3.437921404838561e-2 h 0.317015308959867 v 3.7537515163421624e-2 h 0.31701530895975333 v 3.7366926670074456e-2 h 0.317015308959867 v 3.743693232536315e-2 h 0.3169850767159232 v 3.750398755073547e-2 h 0.31701530895981017 v 3.733044862747192e-2 h 0.31701530895981017 v 3.529009222984313e-2 h 0.31701530895981017 v 3.513130545616149e-2 h 0.31698507671598003 v 3.742405772209167e-2 h 0.31701530895981017 v 3.9702326059341424e-2 h 0.31701530895981017 v 3.9510548114776604e-2 h 0.31701530895981017 v 3.852081298828124e-2 h 0.31698507671598003 v 3.833091259002685e-2 h 0.31701530895981017 v 4.063144326210021e-2 h 0.31701530895981017 v 4.2903274297714226e-2 h 0.31701530895981017 v 4.268869757652282e-2 h 0.31698507671598003 v 4.065504670143127e-2 h 0.31701530895981017 v 4.045629501342773e-2 h 0.31701530895981017 v 4.221421480178832e-2 h 0.31701530895981017 v 4.3952286243438714e-2 h 0.31701530895981017 v 4.3720543384551995e-2 h 0.3169850767159232 v 4.325276613235473e-2 h 0.317015308959867 v 4.302933812141418e-2 h 0.31701530895975333 v 4.372215270996093e-2 h 0.317015308959867 v 4.441228508949279e-2 h 0.3169850767159232 v 4.419261217117309e-2 h 0.317015308959867 v 4.435783624649047e-2 h 0.31701530895975333 v 4.4129312038421624e-2 h 0.317015308959867 v 4.421272873878478e-2 h 0.3169850767159232 v 4.393538832664489e-2 h 0.31701530895981017 v 4.371947050094604e-2 h 0.31701530895981017 v 4.4189929962158196e-2 h 0.31701530895981017 v 4.3969988822937005e-2 h 0.31698507671598003 v 4.329246282577514e-2 h 0.31701530895981017 v 4.2636662721633904e-2 h 0.31701530895981017 v 4.243603348731994e-2 h 0.31701530895981017 v 4.1447639465332024e-2 h 0.31698507671598003 v 4.1248619556426995e-2 h 0.31701530895981017 v 4.214608669281005e-2 h 0.31701530895981017 v 4.3030142784118645e-2 h 0.31701530895981017 v 4.2820930480957024e-2 h 0.31698507671598003 v 4.094338417053222e-2 h 0.31701530895975333 v 4.074838757514953e-2 h 0.317015308959867 v 4.068723320960998e-2 h 0.31701530895981017 v 4.06443178653717e-2 h 0.31701530895981017 v 4.04694378376007e-2 h 0.3169850767159232 v 4.17627990245819e-2 h 0.317015308959867 v 4.158362746238708e-2 h 0.31701530895975333 v 4.1313529014587395e-2 h 0.317015308959867 v 4.085594415664672e-2 h 0.3169850767159232 v 4.069152474403381e-2 h 0.31701530895981017 v 4.24707680940628e-2 h 0.31701530895981017 v 4.2294546961784356e-2 h 0.317015308959867 v 4.14196103811264e-2 h 0.3169850767159232 v 4.056009650230407e-2 h 0.31701530895981017 v 4.039004445075988e-2 h 0.31701530895981017 v 4.0319770574569695e-2 h 0.31701530895981017 v 4.0148243308067315e-2 h 0.31698507671598003 v 3.9412915706634515e-2 h 0.31701530895981017 v 3.868871927261352e-2 h 0.31701530895981017 v 3.852295875549316e-2 h 0.31701530895981017 v 3.860047459602355e-2 h 0.31698507671598003 v 3.842854499816894e-2 h 0.31701530895981017 v 3.8640841841697686e-2 h 0.31701530895981017 v 3.884616494178771e-2 h 0.31701530895981017 v 3.867490589618682e-2 h 0.31698507671598003 v 3.49038541316986e-2 h 0.31701530895975333 v 3.4754455089569085e-2 h 0.317015308959867 v 3.393155336380004e-2 h 0.31701530895975333 v 3.311334550380706e-2 h 0.317015308959867 v 3.2963678240776055e-2 h 0.3169850767159232 v 3.446370363235473e-2 h 0.317015308959867 v 3.4308269619941704e-2 h 0.31701530895975333 v 3.255356848239898e-2 h 0.317015308959867 v 3.080852329730987e-2 h 0.3169850767159232 v 3.067213296890258e-2 h 0.31701530895981017 v 3.299774229526519e-2 h 0.31701530895981017 v 3.284847736358642e-2 h 0.31701530895981017 v 3.352466225624084e-2 h 0.31698507671598003 v 3.420259058475494e-2 h 0.31701530895981017 v 3.404313325881957e-2 h 0.31701530895981017 v 2.64519453048706e-2 h 0.31701530895981017 v 2.6102721691131585e-2 h 0.31698507671598003 v 2.651457488536834e-2 h 0.31701530895981017 v 2.6929914951324456e-2 h 0.31701530895981017 v 2.681504935026168e-2 h 0.31701530895981017 v 2.7896314859390252e-2 h 0.31698507671598003 v 2.7773067355155938e-2 h 0.31701530895975333 v 2.7589805424213402e-2 h 0.317015308959867 v 2.7421027421951287e-2 h 0.31701530895981017 v 2.7316018939018243e-2 h 0.31698507671598003 v 2.4899482727050774e-2 h 0.31701530895975333 v 2.4791121482849114e-2 h 0.317015308959867 v 2.4997048079967492e-2 h 0.31701530895975333 v 2.5197006762027734e-2 h 0.317015308959867 v 2.5078587234020226e-2 h 0.3169850767159232 v 2.2986330091953274e-2 h 0.31701530895981017 v 2.288272976875305e-2 h 0.31701530895981017 v 2.319420129060745e-2 h 0.317015308959867 v 2.3476369678974145e-2 h 0.3169850767159232 v 2.3355402052402493e-2 h 0.31701530895981017 v 2.0626790821552273e-2 h 0.31701530895981017 v 2.053512632846832e-2 h 0.31701530895981017 v 2.0082168281078335e-2 h 0.31698507671598003 v 1.963410526514053e-2 h 0.31701530895981017 v 1.9544653594493862e-2 h 0.31701530895981017 v 1.6564987599849697e-2 h 0.31701530895981017 v 1.6462594270706173e-2 h 0.31698507671598003 v 1.5670470893383023e-2 h 0.31701530895981017 v 1.4909394085407254e-2 h 0.31701530895981017 v 1.4843914657831189e-2 h 0.31701530895981017 v 1.2790281325578686e-2 h 0.31698507671598003 v 1.2732982635498043e-2 h 0.31701530895975333 v 1.2061357498168942e-2 h 0.317015308959867 v 1.1392313987016676e-2 h 0.31701530895975333 v 1.1342223733663557e-2 h 0.3169850767160369 v 1.0931208729743956e-2 h 0.31701530895975333 v 1.088380068540573e-2 h 0.317015308959867 v 9.613908827304838e-3 h 0.31701530895975333 v 8.352868258953093e-3 h 0.317015308959867 v 8.315652608871458e-3 h 0.3169850767159232 v 8.482217788696287e-3 h 0.317015308959867 v 8.444599807262419e-3 h 0.31701530895975333 v 8.136548101902006e-3 h 0.31701530895981017 v 7.830072194337843e-3 h 0.31698507671598003 v 7.7956058084964735e-3 h 0.31701530895981017 v 7.165018469095228e-3 h 0.31701530895981017 v 7.098197937011717e-3 h 0.317015308959867 v 6.956024095416067e-3 h 0.3169850767159232 v 6.818158552050589e-3 h 0.31701530895975333 v 6.7891068756580335e-3 h 0.317015308959867 v 6.2901154160499555e-3 h 0.31701530895981017 v 6.263041868805884e-3 h 0.31698507671598003 v 6.096443161368368e-3 h 0.31701530895981017 v 5.937874317169188e-3 h 0.31701530895981017 v 5.915243178606032e-3 h 0.31701530895975333 v 5.579363554716109e-3 h 0.31698507671598003 v 5.55431842803955e-3 h 0.31701530895981017 v 5.613008514046668e-3 h 0.317015308959867 v 5.6704580783843985e-3 h 0.31701530895981017 v 5.645262077450751e-3 h 0.31698507671598003 v 5.5344030261039725e-3 h 0.31701530895975333 v 5.502585321664809e-3 h 0.31701530895981017 \" />\n",
       "                                </g>\n",
       "                            </g>\n",
       "                        </g>\n",
       "                        <g stroke=\"rgb(0,0,0)\" stroke-opacity=\"0.0\" fill=\"rgb(0,0,0)\" fill-opacity=\"1.0\" stroke-width=\"0.0\" stroke-linecap=\"butt\" stroke-linejoin=\"bevel\" stroke-dasharray=\"\" stroke-dashoffset=\"0.0\">\n",
       "                            <g fill=\"rgb(0,0,0)\" fill-opacity=\"1.0\">\n",
       "                                <g fill=\"rgb(0,0,0)\" fill-opacity=\"1.0\">\n",
       "                                    <g fill=\"rgb(0,0,0)\" fill-opacity=\"1.0\">\n",
       "                                    </g>\n",
       "                                    <g fill=\"rgb(0,0,0)\" fill-opacity=\"1.0\">\n",
       "                                        <g fill=\"rgb(0,0,0)\" fill-opacity=\"1.0\">\n",
       "                                        </g>\n",
       "                                        <g fill=\"rgb(0,0,0)\" fill-opacity=\"1.0\">\n",
       "                                            <g fill=\"rgb(0,0,0)\" fill-opacity=\"1.0\">\n",
       "                                                <path d=\"M 19.999999999999996,155.5987394957983 ZM 17.457983193277308,155.11554621848737 c -0.6407563025210083,1.1770502323737689e-16 -1.1397058823529411,-0.19957983193277284 -1.1397058823529411 -0.19957983193277284c -0.4989495798319328,-0.19957983193277298 -0.8455882352941176,-0.5357142857142856 -0.8455882352941176 -0.5357142857142856c -0.3466386554621849,-0.3361344537815125 -0.5252100840336135,-0.7825630252100838 -0.5252100840336135 -0.7825630252100838c -0.17857142857142863,-0.4464285714285713 -0.17857142857142871,-0.940126050420168 -0.17857142857142871 -0.940126050420168c -9.262034615400147e-17,-0.5042016806722688 0.18382352941176452,-0.866596638655462 0.18382352941176452 -0.866596638655462c 0.18382352941176464,-0.3623949579831933 0.4254201680672267,-0.625 0.4254201680672267 -0.625l 0.5567226890756303,0.4306722689075628 c -0.199579831932773,0.2310924369747899 -0.3256302521008402,0.4779411764705882 -0.3256302521008402 0.4779411764705882c -0.12605042016806714,0.2468487394957983 -0.12605042016806708,0.551470588235294 -0.12605042016806708 0.551470588235294c 6.367648798087602e-17,0.34663865546218486 0.14180672268907574,0.6407563025210083 0.14180672268907574 0.6407563025210083c 0.14180672268907568,0.2941176470588235 0.40441176470588236,0.5042016806722687 0.40441176470588236 0.5042016806722687c 0.26260504201680673,0.2100840336134453 0.625,0.33088235294117635 0.625 0.33088235294117635c 0.36239495798319327,0.12079831932773101 0.8035714285714284,0.12079831932773093 0.8035714285714284 0.12079831932773093c 0.4411764705882352,-8.10428028847513e-17 0.7983193277310923,-0.11554621848739509 0.7983193277310923 -0.11554621848739509c 0.3571428571428571,-0.115546218487395 0.6144957983193275,-0.3203781512605043 0.6144957983193275 -0.3203781512605043c 0.2573529411764705,-0.20483193277310927 0.399159663865546,-0.4989495798319328 0.399159663865546 -0.4989495798319328c 0.14180672268907557,-0.2941176470588235 0.14180672268907552,-0.6407563025210083 0.14180672268907552 -0.6407563025210083c -6.753566907062608e-17,-0.3676470588235294 -0.152310924369748,-0.667016806722689 -0.152310924369748 -0.667016806722689c -0.15231092436974794,-0.2993697478991596 -0.3623949579831934,-0.5304621848739494 -0.3623949579831934 -0.5304621848739494l 0.5672268907563024,-0.38865546218487396 c 0.3046218487394958,0.3466386554621848 0.4831932773109245,0.7720588235294115 0.4831932773109245 0.7720588235294115c 0.17857142857142863,0.42542016806722677 0.17857142857142871,0.8876050420168066 0.17857142857142871 0.8876050420168066c 9.262034615400147e-17,0.5042016806722688 -0.17857142857142838,0.9453781512605041 -0.17857142857142838 0.9453781512605041c -0.17857142857142846,0.4411764705882353 -0.5199579831932771,0.7615546218487395 -0.5199579831932771 0.7615546218487395c -0.34138655462184864,0.32037815126050423 -0.8403361344537813,0.5042016806722689 -0.8403361344537813 0.5042016806722689c -0.49894957983193267,0.18382352941176477 -1.1292016806722687,0.18382352941176489 -1.1292016806722687 0.18382352941176489ZM 19.999999999999996,150.80882352941174 ZM 14.894957983193272,149.94747899159663 l -1.3121215705150208e-16,-0.7142857142857142 l 0.7352941176470588,-7.352941176470601e-2 l -5.788771634625092e-18,-3.15126050420168e-2 c -0.36764705882352944,-0.3361344537815125 -0.6144957983193278,-0.7300420168067225 -0.6144957983193278 -0.7300420168067225c -0.24684873949579836,-0.39390756302520996 -0.24684873949579844,-0.8560924369747898 -0.24684873949579844 -0.8560924369747898c -1.0805707051300172e-16,-0.588235294117647 0.2573529411764704,-0.9191176470588234 0.2573529411764704 -0.9191176470588234c 0.2573529411764705,-0.3308823529411765 0.7195378151260503,-0.48844537815126055 0.7195378151260503 -0.48844537815126055c -0.4411764705882353,-0.3991596638655461 -0.7090336134453782,-0.8035714285714283 -0.7090336134453782 -0.8035714285714283c -0.2678571428571429,-0.4044117647058822 -0.267857142857143,-0.8771008403361343 -0.267857142857143 -0.8771008403361343c -1.4471929086562732e-16,-0.78781512605042 0.5042016806722686,-1.1712184873949578 0.5042016806722686 -1.1712184873949578c 0.5042016806722687,-0.38340336134453784 1.491596638655462,-0.383403361344538 1.491596638655462 -0.383403361344538l 3.235294117647058,-5.943138878215094e-16 l 1.5822642467975254e-16,0.8613445378151259 l -3.1197478991596634,5.730883918278842e-16 c -0.7247899159663865,1.3314174759637714e-16 -1.0451680672268906,0.23109243697479007 -1.0451680672268906 0.23109243697479007c -0.3203781512605041,0.23109243697478993 -0.32037815126050406,0.7142857142857143 -0.32037815126050406 0.7142857142857143c 1.061274799681267e-16,0.5777310924369747 0.7878151260504203,1.2815126050420165 0.7878151260504203 1.2815126050420165l 3.697478991596638,-6.792158717960108e-16 l 1.5822642467975254e-16,0.8613445378151259 l -3.1197478991596634,5.730883918278842e-16 c -0.7247899159663865,1.3314174759637714e-16 -1.0451680672268906,0.23109243697479007 -1.0451680672268906 0.23109243697479007c -0.3203781512605041,0.23109243697478993 -0.32037815126050406,0.7247899159663866 -0.32037815126050406 0.7247899159663866c 1.061274799681267e-16,0.5777310924369747 0.7878151260504203,1.2815126050420165 0.7878151260504203 1.2815126050420165l 3.697478991596638,-6.792158717960108e-16 l 1.5822642467975254e-16,0.8613445378151259 l -5.105042016806722,9.37781004809265e-16 ZM 19.999999999999993,142.10084033613444 ZM 12.962184873949575,139.87394957983193 l -1.4086010977587724e-16,-0.7668067226890755 l 4.054621848739496,-1.5966386554621852 l 1.3893051923100222e-16,0.7563025210084032 l -1.8487394957983188,0.6827731092436977 l -1.3970588235294117,0.5147058823529413 l 7.718362179500123e-18,4.201680672268907e-2 l 1.3970588235294117,0.5252100840336131 l 1.8487394957983192,0.682773109243697 l 1.3893051923100222e-16,0.7563025210084032 ZM 19.999999999999993,136.88025210084032 ZM 19.48529411764705,136.46008403361344 c -0.7563025210084033,-0.7563025210084031 -1.365546218487395,-1.34453781512605 -1.365546218487395 -1.34453781512605c -0.6092436974789917,-0.5882352941176469 -1.129201680672269,-0.9873949579831929 -1.129201680672269 -0.9873949579831929c -0.5199579831932774,-0.399159663865546 -0.9558823529411764,-0.6092436974789913 -0.9558823529411764 -0.6092436974789913c -0.43592436974789917,-0.21008403361344527 -0.8455882352941175,-0.2100840336134452 -0.8455882352941175 -0.2100840336134452c -0.5777310924369747,1.061274799681267e-16 -0.945378151260504,0.3151260504201682 -0.945378151260504 0.3151260504201682c -0.3676470588235293,0.3151260504201681 -0.3676470588235292,0.9558823529411764 -0.3676470588235292 0.9558823529411764c 7.718362179500124e-17,0.4201680672268907 0.23634453781512615,0.7773109243697477 0.23634453781512615 0.7773109243697477c 0.23634453781512607,0.35714285714285704 0.5724789915966387,0.6512605042016805 0.5724789915966387 0.6512605042016805l -0.49369747899159644,0.49369747899159666 c -0.4621848739495798,-0.4201680672268906 -0.740546218487395,-0.8928571428571426 -0.740546218487395 -0.8928571428571426c -0.2783613445378152,-0.472689075630252 -0.2783613445378153,-1.134453781512605 -0.2783613445378153 -1.134453781512605c -1.7173355849387775e-16,-0.9348739495798318 0.5409663865546216,-1.4705882352941175 0.5409663865546216 -1.4705882352941175c 0.5409663865546217,-0.5357142857142858 1.4338235294117645,-0.5357142857142859 1.4338235294117645 -0.5357142857142859c 0.47268907563025203,-8.683157451937638e-17 0.9506302521008402,0.20483193277310904 0.9506302521008402 0.20483193277310904c 0.4779411764705882,0.20483193277310913 0.9873949579831932,0.5672268907563023 0.9873949579831932 0.5672268907563023c 0.5094537815126051,0.36239495798319316 1.0609243697478992,0.8613445378151257 1.0609243697478992 0.8613445378151257c 0.5514705882352942,0.4989495798319326 1.171218487394958,1.0976890756302518 1.171218487394958 1.0976890756302518c -2.1008403361344585e-2,-0.27310924369747897 -4.2016806722689176e-2,-0.5672268907563025 -4.2016806722689176e-2 -0.5672268907563025c -2.100840336134459e-2,-0.2941176470588235 -2.1008403361344637e-2,-0.5567226890756302 -2.1008403361344637e-2 -0.5567226890756302l -3.569742508018807e-16,-1.9432773109243695 l 0.745798319327731,-1.3700092868612718e-16 l 7.949913044885127e-16,4.3277310924369745 l -0.5147058823529411,9.454993669887651e-17 Z\" />\n",
       "                                            </g>\n",
       "                                            <g fill=\"rgb(0,0,0)\" fill-opacity=\"1.0\">\n",
       "                                            </g>\n",
       "                                        </g>\n",
       "                                    </g>\n",
       "                                </g>\n",
       "                            </g>\n",
       "                        </g>\n",
       "                        <g>\n",
       "                            <g stroke=\"rgb(0,0,0)\" stroke-opacity=\"1.0\" stroke-width=\"0.9999999999999998\" stroke-linecap=\"square\" stroke-linejoin=\"miter\" stroke-dasharray=\"\" stroke-dashoffset=\"0.0\">\n",
       "                                <path d=\"M 55.021008403361336,259.99999999999994 v -224.99999999999994 \" />\n",
       "                            </g>\n",
       "                            <g stroke=\"rgb(0,0,0)\" stroke-opacity=\"1.0\" stroke-width=\"0.9999999999999998\" stroke-linecap=\"butt\" stroke-linejoin=\"miter\" stroke-dasharray=\"\" stroke-dashoffset=\"0.0\">\n",
       "                                <g>\n",
       "                                    <path d=\"M 55.021008403361336,259.99999999999994 h 1.9999999999999996 \" />\n",
       "                                </g>\n",
       "                                <g>\n",
       "                                    <path d=\"M 55.021008403361336,254.37499999999997 h 1.9999999999999996 \" />\n",
       "                                </g>\n",
       "                                <g>\n",
       "                                    <path d=\"M 55.021008403361336,248.74999999999997 h 1.9999999999999996 \" />\n",
       "                                </g>\n",
       "                                <g>\n",
       "                                    <path d=\"M 55.021008403361336,243.12499999999997 h 1.9999999999999996 \" />\n",
       "                                </g>\n",
       "                                <g>\n",
       "                                    <path d=\"M 55.021008403361336,237.49999999999997 h 1.9999999999999996 \" />\n",
       "                                </g>\n",
       "                                <g>\n",
       "                                    <path d=\"M 55.021008403361336,231.87499999999997 h 1.9999999999999996 \" />\n",
       "                                </g>\n",
       "                                <g>\n",
       "                                    <path d=\"M 55.021008403361336,226.25 h 1.9999999999999996 \" />\n",
       "                                </g>\n",
       "                                <g>\n",
       "                                    <path d=\"M 55.021008403361336,220.625 h 1.9999999999999996 \" />\n",
       "                                </g>\n",
       "                                <g>\n",
       "                                    <path d=\"M 55.021008403361336,215.0 h 1.9999999999999996 \" />\n",
       "                                </g>\n",
       "                                <g>\n",
       "                                    <path d=\"M 55.021008403361336,209.375 h 1.9999999999999996 \" />\n",
       "                                </g>\n",
       "                                <g>\n",
       "                                    <path d=\"M 55.021008403361336,203.75 h 1.9999999999999996 \" />\n",
       "                                </g>\n",
       "                                <g>\n",
       "                                    <path d=\"M 55.021008403361336,198.125 h 1.9999999999999996 \" />\n",
       "                                </g>\n",
       "                                <g>\n",
       "                                    <path d=\"M 55.021008403361336,192.5 h 1.9999999999999996 \" />\n",
       "                                </g>\n",
       "                                <g>\n",
       "                                    <path d=\"M 55.021008403361336,186.875 h 1.9999999999999996 \" />\n",
       "                                </g>\n",
       "                                <g>\n",
       "                                    <path d=\"M 55.021008403361336,181.25 h 1.9999999999999996 \" />\n",
       "                                </g>\n",
       "                                <g>\n",
       "                                    <path d=\"M 55.021008403361336,175.625 h 1.9999999999999996 \" />\n",
       "                                </g>\n",
       "                                <g>\n",
       "                                    <path d=\"M 55.021008403361336,170.0 h 1.9999999999999996 \" />\n",
       "                                </g>\n",
       "                                <g>\n",
       "                                    <path d=\"M 55.021008403361336,164.375 h 1.9999999999999996 \" />\n",
       "                                </g>\n",
       "                                <g>\n",
       "                                    <path d=\"M 55.021008403361336,158.75 h 1.9999999999999996 \" />\n",
       "                                </g>\n",
       "                                <g>\n",
       "                                    <path d=\"M 55.021008403361336,153.125 h 1.9999999999999996 \" />\n",
       "                                </g>\n",
       "                                <g>\n",
       "                                    <path d=\"M 55.021008403361336,147.5 h 1.9999999999999996 \" />\n",
       "                                </g>\n",
       "                                <g>\n",
       "                                    <path d=\"M 55.021008403361336,141.875 h 1.9999999999999996 \" />\n",
       "                                </g>\n",
       "                                <g>\n",
       "                                    <path d=\"M 55.021008403361336,136.25 h 1.9999999999999996 \" />\n",
       "                                </g>\n",
       "                                <g>\n",
       "                                    <path d=\"M 55.021008403361336,130.625 h 1.9999999999999996 \" />\n",
       "                                </g>\n",
       "                                <g>\n",
       "                                    <path d=\"M 55.021008403361336,125.0 h 1.9999999999999996 \" />\n",
       "                                </g>\n",
       "                                <g>\n",
       "                                    <path d=\"M 55.021008403361336,119.375 h 1.9999999999999996 \" />\n",
       "                                </g>\n",
       "                                <g>\n",
       "                                    <path d=\"M 55.021008403361336,113.75 h 1.9999999999999996 \" />\n",
       "                                </g>\n",
       "                                <g>\n",
       "                                    <path d=\"M 55.021008403361336,108.125 h 1.9999999999999996 \" />\n",
       "                                </g>\n",
       "                                <g>\n",
       "                                    <path d=\"M 55.021008403361336,102.5 h 1.9999999999999996 \" />\n",
       "                                </g>\n",
       "                                <g>\n",
       "                                    <path d=\"M 55.021008403361336,96.875 h 1.9999999999999996 \" />\n",
       "                                </g>\n",
       "                                <g>\n",
       "                                    <path d=\"M 55.021008403361336,91.25 h 1.9999999999999996 \" />\n",
       "                                </g>\n",
       "                                <g>\n",
       "                                    <path d=\"M 55.021008403361336,85.625 h 1.9999999999999996 \" />\n",
       "                                </g>\n",
       "                                <g>\n",
       "                                    <path d=\"M 55.021008403361336,80.00000000000001 h 1.9999999999999996 \" />\n",
       "                                </g>\n",
       "                                <g>\n",
       "                                    <path d=\"M 55.021008403361336,74.37500000000001 h 1.9999999999999996 \" />\n",
       "                                </g>\n",
       "                                <g>\n",
       "                                    <path d=\"M 55.021008403361336,68.75000000000001 h 1.9999999999999996 \" />\n",
       "                                </g>\n",
       "                                <g>\n",
       "                                    <path d=\"M 55.021008403361336,63.125000000000014 h 1.9999999999999996 \" />\n",
       "                                </g>\n",
       "                                <g>\n",
       "                                    <path d=\"M 55.021008403361336,57.500000000000014 h 1.9999999999999996 \" />\n",
       "                                </g>\n",
       "                                <g>\n",
       "                                    <path d=\"M 55.021008403361336,51.875000000000014 h 1.9999999999999996 \" />\n",
       "                                </g>\n",
       "                                <g>\n",
       "                                    <path d=\"M 55.021008403361336,46.25000000000002 h 1.9999999999999996 \" />\n",
       "                                </g>\n",
       "                                <g>\n",
       "                                    <path d=\"M 55.021008403361336,40.62500000000002 h 1.9999999999999996 \" />\n",
       "                                </g>\n",
       "                                <g>\n",
       "                                    <path d=\"M 55.021008403361336,35.00000000000002 h 1.9999999999999996 \" />\n",
       "                                </g>\n",
       "                                <g>\n",
       "                                    <path d=\"M 55.021008403361336,259.99999999999994 h 4.999999999999999 \" />\n",
       "                                </g>\n",
       "                                <g>\n",
       "                                    <path d=\"M 55.021008403361336,203.75 h 4.999999999999999 \" />\n",
       "                                </g>\n",
       "                                <g>\n",
       "                                    <path d=\"M 55.021008403361336,147.5 h 4.999999999999999 \" />\n",
       "                                </g>\n",
       "                                <g>\n",
       "                                    <path d=\"M 55.021008403361336,91.25 h 4.999999999999999 \" />\n",
       "                                </g>\n",
       "                                <g>\n",
       "                                    <path d=\"M 55.021008403361336,35.00000000000002 h 4.999999999999999 \" />\n",
       "                                </g>\n",
       "                            </g>\n",
       "                            <g fill=\"rgb(255,255,255)\" fill-opacity=\"1.0\">\n",
       "                                <g stroke=\"rgb(0,0,0)\" stroke-opacity=\"0.0\" fill=\"rgb(0,0,0)\" fill-opacity=\"1.0\" stroke-width=\"0.0\" stroke-linecap=\"butt\" stroke-linejoin=\"bevel\" stroke-dasharray=\"\" stroke-dashoffset=\"0.0\">\n",
       "                                    <g fill=\"rgb(0,0,0)\" fill-opacity=\"1.0\">\n",
       "                                        <g fill=\"rgb(0,0,0)\" fill-opacity=\"1.0\">\n",
       "                                            <g fill=\"rgb(0,0,0)\" fill-opacity=\"1.0\">\n",
       "                                            </g>\n",
       "                                            <g fill=\"rgb(0,0,0)\" fill-opacity=\"1.0\">\n",
       "                                                <g fill=\"rgb(0,0,0)\" fill-opacity=\"1.0\">\n",
       "                                                </g>\n",
       "                                                <g fill=\"rgb(0,0,0)\" fill-opacity=\"1.0\">\n",
       "                                                    <g fill=\"rgb(0,0,0)\" fill-opacity=\"1.0\">\n",
       "                                                        <path d=\"M 40.72478991596638,263.44537815126046 ZM 43.34033613445378,263.5714285714285 c -1.01890756302521,0.0 -1.5861344537815125,-0.903361344537815 -1.5861344537815125 -0.903361344537815c -0.5672268907563025,-0.903361344537815 -0.5672268907563025,-2.59453781512605 -0.5672268907563025 -2.59453781512605c 0.0,-1.691176470588235 0.5672268907563025,-2.5735294117647056 0.5672268907563025 -2.5735294117647056c 0.5672268907563025,-0.8823529411764705 1.5861344537815125,-0.8823529411764705 1.5861344537815125 -0.8823529411764705c 1.0084033613445378,0.0 1.5756302521008403,0.8823529411764705 1.5756302521008403 0.8823529411764705c 0.5672268907563025,0.8823529411764705 0.5672268907563025,2.5735294117647056 0.5672268907563025 2.5735294117647056c 0.0,1.691176470588235 -0.5672268907563025,2.59453781512605 -0.5672268907563025 2.59453781512605c -0.5672268907563025,0.903361344537815 -1.5756302521008403,0.903361344537815 -1.5756302521008403 0.903361344537815ZM 43.34033613445378,263.5714285714285 ZM 43.34033613445378,262.8781512605041 c 0.29411764705882354,0.0 0.5304621848739496,-0.16281512605042014 0.5304621848739496 -0.16281512605042014c 0.23634453781512604,-0.16281512605042014 0.4096638655462185,-0.5042016806722688 0.4096638655462185 -0.5042016806722688c 0.17331932773109246,-0.3413865546218487 0.26785714285714285,-0.8718487394957982 0.26785714285714285 -0.8718487394957982c 9.453781512605042e-2,-0.5304621848739495 9.453781512605042e-2,-1.2657563025210083 9.453781512605042e-2 -1.2657563025210083c 0.0,-0.7352941176470588 -9.453781512605042e-2,-1.2605042016806722 -9.453781512605042e-2 -1.2605042016806722c -9.453781512605042e-2,-0.5252100840336134 -0.26785714285714285,-0.8560924369747898 -0.26785714285714285 -0.8560924369747898c -0.17331932773109246,-0.33088235294117646 -0.4096638655462185,-0.48844537815126043 -0.4096638655462185 -0.48844537815126043c -0.23634453781512604,-0.15756302521008403 -0.5304621848739496,-0.15756302521008403 -0.5304621848739496 -0.15756302521008403c -0.29411764705882354,0.0 -0.5357142857142857,0.15756302521008403 -0.5357142857142857 0.15756302521008403c -0.2415966386554622,0.15756302521008403 -0.4149159663865546,0.48844537815126043 -0.4149159663865546 0.48844537815126043c -0.17331932773109246,0.33088235294117646 -0.26785714285714285,0.8560924369747898 -0.26785714285714285 0.8560924369747898c -9.453781512605042e-2,0.5252100840336134 -9.453781512605042e-2,1.2605042016806722 -9.453781512605042e-2 1.2605042016806722c 0.0,1.4705882352941175 0.3623949579831933,2.1376050420168062 0.3623949579831933 2.1376050420168062c 0.3623949579831933,0.667016806722689 0.9506302521008404,0.667016806722689 0.9506302521008404 0.667016806722689Z\" />\n",
       "                                                    </g>\n",
       "                                                    <g fill=\"rgb(0,0,0)\" fill-opacity=\"1.0\">\n",
       "                                                    </g>\n",
       "                                                </g>\n",
       "                                            </g>\n",
       "                                        </g>\n",
       "                                    </g>\n",
       "                                </g>\n",
       "                                <g fill=\"rgb(255,255,255)\" fill-opacity=\"1.0\">\n",
       "                                    <g stroke=\"rgb(0,0,0)\" stroke-opacity=\"0.0\" fill=\"rgb(0,0,0)\" fill-opacity=\"1.0\" stroke-width=\"0.0\" stroke-linecap=\"butt\" stroke-linejoin=\"bevel\" stroke-dasharray=\"\" stroke-dashoffset=\"0.0\">\n",
       "                                        <g fill=\"rgb(0,0,0)\" fill-opacity=\"1.0\">\n",
       "                                            <g fill=\"rgb(0,0,0)\" fill-opacity=\"1.0\">\n",
       "                                                <g fill=\"rgb(0,0,0)\" fill-opacity=\"1.0\">\n",
       "                                                </g>\n",
       "                                                <g fill=\"rgb(0,0,0)\" fill-opacity=\"1.0\">\n",
       "                                                    <g fill=\"rgb(0,0,0)\" fill-opacity=\"1.0\">\n",
       "                                                    </g>\n",
       "                                                    <g fill=\"rgb(0,0,0)\" fill-opacity=\"1.0\">\n",
       "                                                        <g fill=\"rgb(0,0,0)\" fill-opacity=\"1.0\">\n",
       "                                                            <path d=\"M 30.199579831932773,207.19537815126048 ZM 30.619747899159663,206.68067226890756 c 0.7563025210084032,-0.7563025210084032 1.3445378151260503,-1.3655462184873948 1.3445378151260503 -1.3655462184873948c 0.588235294117647,-0.6092436974789915 0.9873949579831931,-1.1292016806722687 0.9873949579831931 -1.1292016806722687c 0.39915966386554613,-0.5199579831932772 0.6092436974789915,-0.9558823529411763 0.6092436974789915 -0.9558823529411763c 0.21008403361344535,-0.4359243697478991 0.21008403361344535,-0.8455882352941175 0.21008403361344535 -0.8455882352941175c 0.0,-0.5777310924369747 -0.31512605042016806,-0.9453781512605041 -0.31512605042016806 -0.9453781512605041c -0.31512605042016806,-0.3676470588235294 -0.9558823529411763,-0.3676470588235294 -0.9558823529411763 -0.3676470588235294c -0.4201680672268907,0.0 -0.7773109243697477,0.23634453781512602 -0.7773109243697477 0.23634453781512602c -0.3571428571428571,0.23634453781512602 -0.6512605042016806,0.5724789915966386 -0.6512605042016806 0.5724789915966386l -0.49369747899159655,-0.49369747899159655 c 0.4201680672268907,-0.46218487394957974 0.8928571428571427,-0.7405462184873949 0.8928571428571427 -0.7405462184873949c 0.47268907563025203,-0.2783613445378151 1.134453781512605,-0.2783613445378151 1.134453781512605 -0.2783613445378151c 0.9348739495798318,0.0 1.4705882352941175,0.5409663865546218 1.4705882352941175 0.5409663865546218c 0.5357142857142857,0.5409663865546218 0.5357142857142857,1.4338235294117645 0.5357142857142857 1.4338235294117645c 0.0,0.47268907563025203 -0.2048319327731092,0.9506302521008402 -0.2048319327731092 0.9506302521008402c -0.2048319327731092,0.47794117647058815 -0.5672268907563025,0.9873949579831931 -0.5672268907563025 0.9873949579831931c -0.36239495798319327,0.509453781512605 -0.8613445378151259,1.060924369747899 -0.8613445378151259 1.060924369747899c -0.4989495798319327,0.551470588235294 -1.097689075630252,1.1712184873949578 -1.097689075630252 1.1712184873949578c 0.27310924369747897,-2.1008403361344536e-2 0.5672268907563025,-4.201680672268907e-2 0.5672268907563025 -4.201680672268907e-2c 0.2941176470588235,-2.1008403361344536e-2 0.5567226890756302,-2.1008403361344536e-2 0.5567226890756302 -2.1008403361344536e-2h 1.9432773109243695 v 0.745798319327731 h -4.3277310924369745 v -0.5147058823529411 ZM 35.42016806722689,207.19537815126048 ZM 38.035714285714285,207.32142857142856 c -1.01890756302521,0.0 -1.5861344537815123,-0.903361344537815 -1.5861344537815123 -0.903361344537815c -0.5672268907563025,-0.903361344537815 -0.5672268907563025,-2.59453781512605 -0.5672268907563025 -2.59453781512605c 0.0,-1.691176470588235 0.5672268907563025,-2.5735294117647056 0.5672268907563025 -2.5735294117647056c 0.5672268907563025,-0.8823529411764705 1.5861344537815123,-0.8823529411764705 1.5861344537815123 -0.8823529411764705c 1.0084033613445376,0.0 1.57563025210084,0.8823529411764705 1.57563025210084 0.8823529411764705c 0.5672268907563025,0.8823529411764705 0.5672268907563025,2.5735294117647056 0.5672268907563025 2.5735294117647056c 0.0,1.691176470588235 -0.5672268907563025,2.59453781512605 -0.5672268907563025 2.59453781512605c -0.5672268907563025,0.903361344537815 -1.57563025210084,0.903361344537815 -1.57563025210084 0.903361344537815ZM 38.035714285714285,207.32142857142856 ZM 38.035714285714285,206.62815126050418 c 0.2941176470588235,0.0 0.5304621848739495,-0.16281512605042014 0.5304621848739495 -0.16281512605042014c 0.23634453781512602,-0.16281512605042014 0.4096638655462184,-0.5042016806722688 0.4096638655462184 -0.5042016806722688c 0.17331932773109243,-0.3413865546218487 0.26785714285714285,-0.8718487394957982 0.26785714285714285 -0.8718487394957982c 9.45378151260504e-2,-0.5304621848739495 9.45378151260504e-2,-1.2657563025210083 9.45378151260504e-2 -1.2657563025210083c 0.0,-0.7352941176470588 -9.45378151260504e-2,-1.2605042016806722 -9.45378151260504e-2 -1.2605042016806722c -9.45378151260504e-2,-0.5252100840336134 -0.26785714285714285,-0.8560924369747898 -0.26785714285714285 -0.8560924369747898c -0.17331932773109243,-0.33088235294117646 -0.4096638655462184,-0.48844537815126043 -0.4096638655462184 -0.48844537815126043c -0.23634453781512602,-0.15756302521008403 -0.5304621848739495,-0.15756302521008403 -0.5304621848739495 -0.15756302521008403c -0.2941176470588235,0.0 -0.5357142857142857,0.15756302521008403 -0.5357142857142857 0.15756302521008403c -0.24159663865546216,0.15756302521008403 -0.41491596638655454,0.48844537815126043 -0.41491596638655454 0.48844537815126043c -0.17331932773109243,0.33088235294117646 -0.26785714285714285,0.8560924369747898 -0.26785714285714285 0.8560924369747898c -9.45378151260504e-2,0.5252100840336134 -9.45378151260504e-2,1.2605042016806722 -9.45378151260504e-2 1.2605042016806722c 0.0,1.4705882352941175 0.36239495798319327,2.1376050420168062 0.36239495798319327 2.1376050420168062c 0.36239495798319327,0.667016806722689 0.9506302521008402,0.667016806722689 0.9506302521008402 0.667016806722689ZM 40.640756302521005,207.19537815126048 ZM 43.2563025210084,207.32142857142856 c -1.01890756302521,0.0 -1.5861344537815123,-0.903361344537815 -1.5861344537815123 -0.903361344537815c -0.5672268907563025,-0.903361344537815 -0.5672268907563025,-2.59453781512605 -0.5672268907563025 -2.59453781512605c 0.0,-1.691176470588235 0.5672268907563025,-2.5735294117647056 0.5672268907563025 -2.5735294117647056c 0.5672268907563025,-0.8823529411764705 1.5861344537815123,-0.8823529411764705 1.5861344537815123 -0.8823529411764705c 1.0084033613445376,0.0 1.57563025210084,0.8823529411764705 1.57563025210084 0.8823529411764705c 0.5672268907563025,0.8823529411764705 0.5672268907563025,2.5735294117647056 0.5672268907563025 2.5735294117647056c 0.0,1.691176470588235 -0.5672268907563025,2.59453781512605 -0.5672268907563025 2.59453781512605c -0.5672268907563025,0.903361344537815 -1.57563025210084,0.903361344537815 -1.57563025210084 0.903361344537815ZM 43.2563025210084,207.32142857142856 ZM 43.2563025210084,206.62815126050418 c 0.2941176470588235,0.0 0.5304621848739495,-0.16281512605042014 0.5304621848739495 -0.16281512605042014c 0.23634453781512602,-0.16281512605042014 0.4096638655462184,-0.5042016806722688 0.4096638655462184 -0.5042016806722688c 0.17331932773109243,-0.3413865546218487 0.26785714285714285,-0.8718487394957982 0.26785714285714285 -0.8718487394957982c 9.45378151260504e-2,-0.5304621848739495 9.45378151260504e-2,-1.2657563025210083 9.45378151260504e-2 -1.2657563025210083c 0.0,-0.7352941176470588 -9.45378151260504e-2,-1.2605042016806722 -9.45378151260504e-2 -1.2605042016806722c -9.45378151260504e-2,-0.5252100840336134 -0.26785714285714285,-0.8560924369747898 -0.26785714285714285 -0.8560924369747898c -0.17331932773109243,-0.33088235294117646 -0.4096638655462184,-0.48844537815126043 -0.4096638655462184 -0.48844537815126043c -0.23634453781512602,-0.15756302521008403 -0.5304621848739495,-0.15756302521008403 -0.5304621848739495 -0.15756302521008403c -0.2941176470588235,0.0 -0.5357142857142857,0.15756302521008403 -0.5357142857142857 0.15756302521008403c -0.24159663865546216,0.15756302521008403 -0.41491596638655454,0.48844537815126043 -0.41491596638655454 0.48844537815126043c -0.17331932773109243,0.33088235294117646 -0.26785714285714285,0.8560924369747898 -0.26785714285714285 0.8560924369747898c -9.45378151260504e-2,0.5252100840336134 -9.45378151260504e-2,1.2605042016806722 -9.45378151260504e-2 1.2605042016806722c 0.0,1.4705882352941175 0.36239495798319327,2.1376050420168062 0.36239495798319327 2.1376050420168062c 0.36239495798319327,0.667016806722689 0.9506302521008402,0.667016806722689 0.9506302521008402 0.667016806722689Z\" />\n",
       "                                                        </g>\n",
       "                                                        <g fill=\"rgb(0,0,0)\" fill-opacity=\"1.0\">\n",
       "                                                        </g>\n",
       "                                                    </g>\n",
       "                                                </g>\n",
       "                                            </g>\n",
       "                                        </g>\n",
       "                                    </g>\n",
       "                                    <g fill=\"rgb(255,255,255)\" fill-opacity=\"1.0\">\n",
       "                                        <g stroke=\"rgb(0,0,0)\" stroke-opacity=\"0.0\" fill=\"rgb(0,0,0)\" fill-opacity=\"1.0\" stroke-width=\"0.0\" stroke-linecap=\"butt\" stroke-linejoin=\"bevel\" stroke-dasharray=\"\" stroke-dashoffset=\"0.0\">\n",
       "                                            <g fill=\"rgb(0,0,0)\" fill-opacity=\"1.0\">\n",
       "                                                <g fill=\"rgb(0,0,0)\" fill-opacity=\"1.0\">\n",
       "                                                    <g fill=\"rgb(0,0,0)\" fill-opacity=\"1.0\">\n",
       "                                                    </g>\n",
       "                                                    <g fill=\"rgb(0,0,0)\" fill-opacity=\"1.0\">\n",
       "                                                        <g fill=\"rgb(0,0,0)\" fill-opacity=\"1.0\">\n",
       "                                                        </g>\n",
       "                                                        <g fill=\"rgb(0,0,0)\" fill-opacity=\"1.0\">\n",
       "                                                            <g fill=\"rgb(0,0,0)\" fill-opacity=\"1.0\">\n",
       "                                                                <path d=\"M 30.0,150.94537815126048 ZM 33.193277310924366,148.4033613445378 v -1.9432773109243695 c 0.0,-0.27310924369747897 1.57563025210084e-2,-0.6460084033613445 1.57563025210084e-2 -0.6460084033613445c 1.57563025210084e-2,-0.3728991596638655 3.6764705882352935e-2,-0.6460084033613445 3.6764705882352935e-2 -0.6460084033613445h -4.201680672268907e-2 c -0.1260504201680672,0.24159663865546216 -0.2626050420168067,0.47268907563025203 -0.2626050420168067 0.47268907563025203c -0.13655462184873948,0.23109243697478987 -0.28361344537815125,0.47268907563025203 -0.28361344537815125 0.47268907563025203l -1.5651260504201678,2.2899159663865545 h 2.1008403361344534 ZM 33.193277310924366,148.4033613445378 ZM 34.92647058823529,149.0966386554622 h -0.9138655462184873 v 1.848739495798319 h -0.8193277310924368 v -1.848739495798319 h -3.0147058823529407 v -0.5672268907563025 l 2.867647058823529,-4.285714285714286 h 0.9663865546218486 v 4.159663865546218 h 0.9138655462184873 v 0.6932773109243697 ZM 35.220588235294116,150.94537815126048 ZM 37.83613445378151,151.07142857142856 c -1.01890756302521,0.0 -1.5861344537815123,-0.903361344537815 -1.5861344537815123 -0.903361344537815c -0.5672268907563025,-0.903361344537815 -0.5672268907563025,-2.59453781512605 -0.5672268907563025 -2.59453781512605c 0.0,-1.691176470588235 0.5672268907563025,-2.5735294117647056 0.5672268907563025 -2.5735294117647056c 0.5672268907563025,-0.8823529411764705 1.5861344537815123,-0.8823529411764705 1.5861344537815123 -0.8823529411764705c 1.0084033613445376,0.0 1.57563025210084,0.8823529411764705 1.57563025210084 0.8823529411764705c 0.5672268907563025,0.8823529411764705 0.5672268907563025,2.5735294117647056 0.5672268907563025 2.5735294117647056c 0.0,1.691176470588235 -0.5672268907563025,2.59453781512605 -0.5672268907563025 2.59453781512605c -0.5672268907563025,0.903361344537815 -1.57563025210084,0.903361344537815 -1.57563025210084 0.903361344537815ZM 37.83613445378151,151.07142857142856 ZM 37.83613445378151,150.37815126050418 c 0.2941176470588235,0.0 0.5304621848739495,-0.16281512605042014 0.5304621848739495 -0.16281512605042014c 0.23634453781512602,-0.16281512605042014 0.4096638655462184,-0.5042016806722688 0.4096638655462184 -0.5042016806722688c 0.17331932773109243,-0.3413865546218487 0.26785714285714285,-0.8718487394957982 0.26785714285714285 -0.8718487394957982c 9.45378151260504e-2,-0.5304621848739495 9.45378151260504e-2,-1.2657563025210083 9.45378151260504e-2 -1.2657563025210083c 0.0,-0.7352941176470588 -9.45378151260504e-2,-1.2605042016806722 -9.45378151260504e-2 -1.2605042016806722c -9.45378151260504e-2,-0.5252100840336134 -0.26785714285714285,-0.8560924369747898 -0.26785714285714285 -0.8560924369747898c -0.17331932773109243,-0.33088235294117646 -0.4096638655462184,-0.48844537815126043 -0.4096638655462184 -0.48844537815126043c -0.23634453781512602,-0.15756302521008403 -0.5304621848739495,-0.15756302521008403 -0.5304621848739495 -0.15756302521008403c -0.2941176470588235,0.0 -0.5357142857142857,0.15756302521008403 -0.5357142857142857 0.15756302521008403c -0.24159663865546216,0.15756302521008403 -0.41491596638655454,0.48844537815126043 -0.41491596638655454 0.48844537815126043c -0.17331932773109243,0.33088235294117646 -0.26785714285714285,0.8560924369747898 -0.26785714285714285 0.8560924369747898c -9.45378151260504e-2,0.5252100840336134 -9.45378151260504e-2,1.2605042016806722 -9.45378151260504e-2 1.2605042016806722c 0.0,1.4705882352941175 0.36239495798319327,2.1376050420168062 0.36239495798319327 2.1376050420168062c 0.36239495798319327,0.667016806722689 0.9506302521008402,0.667016806722689 0.9506302521008402 0.667016806722689ZM 40.44117647058823,150.94537815126048 ZM 43.05672268907563,151.07142857142856 c -1.01890756302521,0.0 -1.5861344537815123,-0.903361344537815 -1.5861344537815123 -0.903361344537815c -0.5672268907563025,-0.903361344537815 -0.5672268907563025,-2.59453781512605 -0.5672268907563025 -2.59453781512605c 0.0,-1.691176470588235 0.5672268907563025,-2.5735294117647056 0.5672268907563025 -2.5735294117647056c 0.5672268907563025,-0.8823529411764705 1.5861344537815123,-0.8823529411764705 1.5861344537815123 -0.8823529411764705c 1.0084033613445376,0.0 1.57563025210084,0.8823529411764705 1.57563025210084 0.8823529411764705c 0.5672268907563025,0.8823529411764705 0.5672268907563025,2.5735294117647056 0.5672268907563025 2.5735294117647056c 0.0,1.691176470588235 -0.5672268907563025,2.59453781512605 -0.5672268907563025 2.59453781512605c -0.5672268907563025,0.903361344537815 -1.57563025210084,0.903361344537815 -1.57563025210084 0.903361344537815ZM 43.05672268907563,151.07142857142856 ZM 43.05672268907563,150.37815126050418 c 0.2941176470588235,0.0 0.5304621848739495,-0.16281512605042014 0.5304621848739495 -0.16281512605042014c 0.23634453781512602,-0.16281512605042014 0.4096638655462184,-0.5042016806722688 0.4096638655462184 -0.5042016806722688c 0.17331932773109243,-0.3413865546218487 0.26785714285714285,-0.8718487394957982 0.26785714285714285 -0.8718487394957982c 9.45378151260504e-2,-0.5304621848739495 9.45378151260504e-2,-1.2657563025210083 9.45378151260504e-2 -1.2657563025210083c 0.0,-0.7352941176470588 -9.45378151260504e-2,-1.2605042016806722 -9.45378151260504e-2 -1.2605042016806722c -9.45378151260504e-2,-0.5252100840336134 -0.26785714285714285,-0.8560924369747898 -0.26785714285714285 -0.8560924369747898c -0.17331932773109243,-0.33088235294117646 -0.4096638655462184,-0.48844537815126043 -0.4096638655462184 -0.48844537815126043c -0.23634453781512602,-0.15756302521008403 -0.5304621848739495,-0.15756302521008403 -0.5304621848739495 -0.15756302521008403c -0.2941176470588235,0.0 -0.5357142857142857,0.15756302521008403 -0.5357142857142857 0.15756302521008403c -0.24159663865546216,0.15756302521008403 -0.41491596638655454,0.48844537815126043 -0.41491596638655454 0.48844537815126043c -0.17331932773109243,0.33088235294117646 -0.26785714285714285,0.8560924369747898 -0.26785714285714285 0.8560924369747898c -9.45378151260504e-2,0.5252100840336134 -9.45378151260504e-2,1.2605042016806722 -9.45378151260504e-2 1.2605042016806722c 0.0,1.4705882352941175 0.36239495798319327,2.1376050420168062 0.36239495798319327 2.1376050420168062c 0.36239495798319327,0.667016806722689 0.9506302521008402,0.667016806722689 0.9506302521008402 0.667016806722689Z\" />\n",
       "                                                            </g>\n",
       "                                                            <g fill=\"rgb(0,0,0)\" fill-opacity=\"1.0\">\n",
       "                                                            </g>\n",
       "                                                        </g>\n",
       "                                                    </g>\n",
       "                                                </g>\n",
       "                                            </g>\n",
       "                                        </g>\n",
       "                                        <g fill=\"rgb(255,255,255)\" fill-opacity=\"1.0\">\n",
       "                                            <g stroke=\"rgb(0,0,0)\" stroke-opacity=\"0.0\" fill=\"rgb(0,0,0)\" fill-opacity=\"1.0\" stroke-width=\"0.0\" stroke-linecap=\"butt\" stroke-linejoin=\"bevel\" stroke-dasharray=\"\" stroke-dashoffset=\"0.0\">\n",
       "                                                <g fill=\"rgb(0,0,0)\" fill-opacity=\"1.0\">\n",
       "                                                    <g fill=\"rgb(0,0,0)\" fill-opacity=\"1.0\">\n",
       "                                                        <g fill=\"rgb(0,0,0)\" fill-opacity=\"1.0\">\n",
       "                                                        </g>\n",
       "                                                        <g fill=\"rgb(0,0,0)\" fill-opacity=\"1.0\">\n",
       "                                                            <g fill=\"rgb(0,0,0)\" fill-opacity=\"1.0\">\n",
       "                                                            </g>\n",
       "                                                            <g fill=\"rgb(0,0,0)\" fill-opacity=\"1.0\">\n",
       "                                                                <g fill=\"rgb(0,0,0)\" fill-opacity=\"1.0\">\n",
       "                                                                    <path d=\"M 30.325630252100837,94.69537815126053 ZM 33.140756302521005,94.1386554621849 c 0.2521008403361344,0.0 0.46218487394957974,-0.10504201680672268 0.46218487394957974 -0.10504201680672268c 0.21008403361344535,-0.10504201680672268 0.3676470588235294,-0.29936974789915966 0.3676470588235294 -0.29936974789915966c 0.15756302521008403,-0.19432773109243692 0.24684873949579828,-0.46218487394957974 0.24684873949579828 -0.46218487394957974c 8.928571428571427e-2,-0.26785714285714285 8.928571428571427e-2,-0.6039915966386554 8.928571428571427e-2 -0.6039915966386554c 0.0,-0.6617647058823529 -0.30462184873949577,-1.0399159663865545 -0.30462184873949577 -1.0399159663865545c -0.30462184873949577,-0.3781512605042016 -0.9348739495798318,-0.3781512605042016 -0.9348739495798318 -0.3781512605042016c -0.31512605042016806,0.0 -0.6880252100840336,0.2048319327731092 -0.6880252100840336 0.2048319327731092c -0.3728991596638655,0.2048319327731092 -0.7090336134453781,0.6775210084033613 -0.7090336134453781 0.6775210084033613c 8.403361344537814e-2,0.9873949579831931 0.45693277310924363,1.496848739495798 0.45693277310924363 1.496848739495798c 0.3728991596638655,0.509453781512605 1.013655462184874,0.509453781512605 1.013655462184874 0.509453781512605ZM 33.140756302521005,94.1386554621849 ZM 34.51680672268907,89.11764705882355 c -0.21008403361344535,-0.24159663865546216 -0.4989495798319327,-0.38340336134453773 -0.4989495798319327 -0.38340336134453773c -0.28886554621848737,-0.14180672268907563 -0.6039915966386554,-0.14180672268907563 -0.6039915966386554 -0.14180672268907563c -0.34663865546218486,0.0 -0.6617647058823529,0.14705882352941174 -0.6617647058823529 0.14705882352941174c -0.31512605042016806,0.14705882352941174 -0.5567226890756302,0.4831932773109243 -0.5567226890756302 0.4831932773109243c -0.24159663865546216,0.3361344537815126 -0.38865546218487385,0.8771008403361343 -0.38865546218487385 0.8771008403361343c -0.14705882352941174,0.5409663865546218 -0.15756302521008403,1.3392857142857142 -0.15756302521008403 1.3392857142857142c 0.31512605042016806,-0.38865546218487385 0.7352941176470588,-0.6144957983193277 0.7352941176470588 -0.6144957983193277c 0.4201680672268907,-0.22584033613445376 0.8298319327731091,-0.22584033613445376 0.8298319327731091 -0.22584033613445376c 0.8718487394957982,0.0 1.3918067226890756,0.5147058823529411 1.3918067226890756 0.5147058823529411c 0.5199579831932772,0.5147058823529411 0.5199579831932772,1.5546218487394954 0.5199579831932772 1.5546218487394954c 0.0,0.4831932773109243 -0.15756302521008403,0.8771008403361343 -0.15756302521008403 0.8771008403361343c -0.15756302521008403,0.39390756302521 -0.43067226890756294,0.6775210084033613 -0.43067226890756294 0.6775210084033613c -0.27310924369747897,0.28361344537815125 -0.6302521008403361,0.4411764705882352 -0.6302521008403361 0.4411764705882352c -0.3571428571428571,0.15756302521008403 -0.7668067226890755,0.15756302521008403 -0.7668067226890755 0.15756302521008403c -0.49369747899159655,0.0 -0.9138655462184873,-0.19957983193277307 -0.9138655462184873 -0.19957983193277307c -0.4201680672268907,-0.19957983193277307 -0.7300420168067226,-0.6039915966386554 -0.7300420168067226 -0.6039915966386554c -0.3098739495798319,-0.40441176470588225 -0.48844537815126043,-1.0084033613445376 -0.48844537815126043 -1.0084033613445376c -0.17857142857142855,-0.6039915966386554 -0.17857142857142855,-1.41281512605042 -0.17857142857142855 -1.41281512605042c 0.0,-1.0084033613445376 0.21008403361344535,-1.7174369747899156 0.21008403361344535 -1.7174369747899156c 0.21008403361344535,-0.7090336134453781 0.5672268907563025,-1.1554621848739495 0.5672268907563025 -1.1554621848739495c 0.3571428571428571,-0.44642857142857134 0.8140756302521007,-0.6512605042016806 0.8140756302521007 -0.6512605042016806c 0.45693277310924363,-0.2048319327731092 0.9611344537815124,-0.2048319327731092 0.9611344537815124 -0.2048319327731092c 0.5462184873949579,0.0 0.940126050420168,0.2048319327731092 0.940126050420168 0.2048319327731092c 0.39390756302521,0.2048319327731092 0.6775210084033613,0.509453781512605 0.6775210084033613 0.509453781512605ZM 35.54621848739495,94.69537815126053 ZM 38.16176470588235,94.8214285714286 c -1.01890756302521,0.0 -1.5861344537815123,-0.903361344537815 -1.5861344537815123 -0.903361344537815c -0.5672268907563025,-0.903361344537815 -0.5672268907563025,-2.59453781512605 -0.5672268907563025 -2.59453781512605c 0.0,-1.691176470588235 0.5672268907563025,-2.5735294117647056 0.5672268907563025 -2.5735294117647056c 0.5672268907563025,-0.8823529411764705 1.5861344537815123,-0.8823529411764705 1.5861344537815123 -0.8823529411764705c 1.0084033613445376,0.0 1.57563025210084,0.8823529411764705 1.57563025210084 0.8823529411764705c 0.5672268907563025,0.8823529411764705 0.5672268907563025,2.5735294117647056 0.5672268907563025 2.5735294117647056c 0.0,1.691176470588235 -0.5672268907563025,2.59453781512605 -0.5672268907563025 2.59453781512605c -0.5672268907563025,0.903361344537815 -1.57563025210084,0.903361344537815 -1.57563025210084 0.903361344537815ZM 38.16176470588235,94.8214285714286 ZM 38.16176470588235,94.12815126050423 c 0.2941176470588235,0.0 0.5304621848739495,-0.16281512605042014 0.5304621848739495 -0.16281512605042014c 0.23634453781512602,-0.16281512605042014 0.4096638655462184,-0.5042016806722688 0.4096638655462184 -0.5042016806722688c 0.17331932773109243,-0.3413865546218487 0.26785714285714285,-0.8718487394957982 0.26785714285714285 -0.8718487394957982c 9.45378151260504e-2,-0.5304621848739495 9.45378151260504e-2,-1.2657563025210083 9.45378151260504e-2 -1.2657563025210083c 0.0,-0.7352941176470588 -9.45378151260504e-2,-1.2605042016806722 -9.45378151260504e-2 -1.2605042016806722c -9.45378151260504e-2,-0.5252100840336134 -0.26785714285714285,-0.8560924369747898 -0.26785714285714285 -0.8560924369747898c -0.17331932773109243,-0.33088235294117646 -0.4096638655462184,-0.48844537815126043 -0.4096638655462184 -0.48844537815126043c -0.23634453781512602,-0.15756302521008403 -0.5304621848739495,-0.15756302521008403 -0.5304621848739495 -0.15756302521008403c -0.2941176470588235,0.0 -0.5357142857142857,0.15756302521008403 -0.5357142857142857 0.15756302521008403c -0.24159663865546216,0.15756302521008403 -0.41491596638655454,0.48844537815126043 -0.41491596638655454 0.48844537815126043c -0.17331932773109243,0.33088235294117646 -0.26785714285714285,0.8560924369747898 -0.26785714285714285 0.8560924369747898c -9.45378151260504e-2,0.5252100840336134 -9.45378151260504e-2,1.2605042016806722 -9.45378151260504e-2 1.2605042016806722c 0.0,1.4705882352941175 0.36239495798319327,2.1376050420168062 0.36239495798319327 2.1376050420168062c 0.36239495798319327,0.667016806722689 0.9506302521008402,0.667016806722689 0.9506302521008402 0.667016806722689ZM 40.76680672268907,94.69537815126053 ZM 43.382352941176464,94.8214285714286 c -1.01890756302521,0.0 -1.5861344537815123,-0.903361344537815 -1.5861344537815123 -0.903361344537815c -0.5672268907563025,-0.903361344537815 -0.5672268907563025,-2.59453781512605 -0.5672268907563025 -2.59453781512605c 0.0,-1.691176470588235 0.5672268907563025,-2.5735294117647056 0.5672268907563025 -2.5735294117647056c 0.5672268907563025,-0.8823529411764705 1.5861344537815123,-0.8823529411764705 1.5861344537815123 -0.8823529411764705c 1.0084033613445376,0.0 1.57563025210084,0.8823529411764705 1.57563025210084 0.8823529411764705c 0.5672268907563025,0.8823529411764705 0.5672268907563025,2.5735294117647056 0.5672268907563025 2.5735294117647056c 0.0,1.691176470588235 -0.5672268907563025,2.59453781512605 -0.5672268907563025 2.59453781512605c -0.5672268907563025,0.903361344537815 -1.57563025210084,0.903361344537815 -1.57563025210084 0.903361344537815ZM 43.382352941176464,94.8214285714286 ZM 43.382352941176464,94.12815126050423 c 0.2941176470588235,0.0 0.5304621848739495,-0.16281512605042014 0.5304621848739495 -0.16281512605042014c 0.23634453781512602,-0.16281512605042014 0.4096638655462184,-0.5042016806722688 0.4096638655462184 -0.5042016806722688c 0.17331932773109243,-0.3413865546218487 0.26785714285714285,-0.8718487394957982 0.26785714285714285 -0.8718487394957982c 9.45378151260504e-2,-0.5304621848739495 9.45378151260504e-2,-1.2657563025210083 9.45378151260504e-2 -1.2657563025210083c 0.0,-0.7352941176470588 -9.45378151260504e-2,-1.2605042016806722 -9.45378151260504e-2 -1.2605042016806722c -9.45378151260504e-2,-0.5252100840336134 -0.26785714285714285,-0.8560924369747898 -0.26785714285714285 -0.8560924369747898c -0.17331932773109243,-0.33088235294117646 -0.4096638655462184,-0.48844537815126043 -0.4096638655462184 -0.48844537815126043c -0.23634453781512602,-0.15756302521008403 -0.5304621848739495,-0.15756302521008403 -0.5304621848739495 -0.15756302521008403c -0.2941176470588235,0.0 -0.5357142857142857,0.15756302521008403 -0.5357142857142857 0.15756302521008403c -0.24159663865546216,0.15756302521008403 -0.41491596638655454,0.48844537815126043 -0.41491596638655454 0.48844537815126043c -0.17331932773109243,0.33088235294117646 -0.26785714285714285,0.8560924369747898 -0.26785714285714285 0.8560924369747898c -9.45378151260504e-2,0.5252100840336134 -9.45378151260504e-2,1.2605042016806722 -9.45378151260504e-2 1.2605042016806722c 0.0,1.4705882352941175 0.36239495798319327,2.1376050420168062 0.36239495798319327 2.1376050420168062c 0.36239495798319327,0.667016806722689 0.9506302521008402,0.667016806722689 0.9506302521008402 0.667016806722689Z\" />\n",
       "                                                                </g>\n",
       "                                                                <g fill=\"rgb(0,0,0)\" fill-opacity=\"1.0\">\n",
       "                                                                </g>\n",
       "                                                            </g>\n",
       "                                                        </g>\n",
       "                                                    </g>\n",
       "                                                </g>\n",
       "                                            </g>\n",
       "                                            <g stroke=\"rgb(0,0,0)\" stroke-opacity=\"0.0\" fill=\"rgb(0,0,0)\" fill-opacity=\"1.0\" stroke-width=\"0.0\" stroke-linecap=\"butt\" stroke-linejoin=\"bevel\" stroke-dasharray=\"\" stroke-dashoffset=\"0.0\">\n",
       "                                                <g fill=\"rgb(0,0,0)\" fill-opacity=\"1.0\">\n",
       "                                                    <g fill=\"rgb(0,0,0)\" fill-opacity=\"1.0\">\n",
       "                                                        <g fill=\"rgb(0,0,0)\" fill-opacity=\"1.0\">\n",
       "                                                        </g>\n",
       "                                                        <g fill=\"rgb(0,0,0)\" fill-opacity=\"1.0\">\n",
       "                                                            <g fill=\"rgb(0,0,0)\" fill-opacity=\"1.0\">\n",
       "                                                            </g>\n",
       "                                                            <g fill=\"rgb(0,0,0)\" fill-opacity=\"1.0\">\n",
       "                                                                <g fill=\"rgb(0,0,0)\" fill-opacity=\"1.0\">\n",
       "                                                                    <path d=\"M 30.252100840336134,38.44537815126053 ZM 31.46008403361344,36.64915966386557 c 0.0,0.28361344537815125 0.1102941176470588,0.5147058823529411 0.1102941176470588 0.5147058823529411c 0.1102941176470588,0.23109243697478987 0.30462184873949577,0.40441176470588225 0.30462184873949577 0.40441176470588225c 0.19432773109243692,0.17331932773109243 0.45693277310924363,0.26785714285714285 0.45693277310924363 0.26785714285714285c 0.2626050420168067,9.45378151260504e-2 0.5672268907563025,9.45378151260504e-2 0.5672268907563025 9.45378151260504e-2c 0.588235294117647,0.0 0.9506302521008402,-0.3256302521008403 0.9506302521008402 -0.3256302521008403c 0.36239495798319327,-0.3256302521008403 0.36239495798319327,-0.8508403361344536 0.36239495798319327 -0.8508403361344536c 0.0,-0.3256302521008403 -0.14705882352941174,-0.5567226890756302 -0.14705882352941174 -0.5567226890756302c -0.14705882352941174,-0.23109243697478987 -0.39915966386554613,-0.40441176470588225 -0.39915966386554613 -0.40441176470588225c -0.2521008403361344,-0.17331932773109243 -0.5829831932773109,-0.31512605042016806 -0.5829831932773109 -0.31512605042016806c -0.33088235294117646,-0.14180672268907563 -0.6880252100840336,-0.28886554621848737 -0.6880252100840336 -0.28886554621848737c -0.39915966386554613,0.27310924369747897 -0.667016806722689,0.6355042016806722 -0.667016806722689 0.6355042016806722c -0.26785714285714285,0.36239495798319327 -0.26785714285714285,0.824579831932773 -0.26785714285714285 0.824579831932773ZM 31.46008403361344,36.64915966386557 ZM 33.35084033613445,34.78991596638657 c 0.3361344537815126,-0.30462184873949577 0.5199579831932772,-0.6407563025210083 0.5199579831932772 -0.6407563025210083c 0.1838235294117647,-0.3361344537815126 0.1838235294117647,-0.703781512605042 0.1838235294117647 -0.703781512605042c 0.0,-0.5042016806722688 -0.30462184873949577,-0.8455882352941175 -0.30462184873949577 -0.8455882352941175c -0.30462184873949577,-0.3413865546218487 -0.8613445378151259,-0.3413865546218487 -0.8613445378151259 -0.3413865546218487c -0.47268907563025203,0.0 -0.7773109243697477,0.2941176470588235 -0.7773109243697477 0.2941176470588235c -0.30462184873949577,0.2941176470588235 -0.30462184873949577,0.78781512605042 -0.30462184873949577 0.78781512605042c 0.0,0.30462184873949577 0.1260504201680672,0.5199579831932772 0.1260504201680672 0.5199579831932772c 0.1260504201680672,0.21533613445378147 0.3413865546218487,0.38340336134453773 0.3413865546218487 0.38340336134453773c 0.21533613445378147,0.1680672268907563 0.49369747899159655,0.29936974789915966 0.49369747899159655 0.29936974789915966c 0.2783613445378151,0.13130252100840334 0.5829831932773109,0.24684873949579828 0.5829831932773109 0.24684873949579828ZM 33.35084033613445,34.78991596638657 ZM 30.682773109243694,36.733193277310946 c 0.0,-0.3256302521008403 0.1102941176470588,-0.6039915966386554 0.1102941176470588 -0.6039915966386554c 0.1102941176470588,-0.2783613445378151 0.28361344537815125,-0.5042016806722688 0.28361344537815125 -0.5042016806722688c 0.17331932773109243,-0.22584033613445376 0.39915966386554613,-0.39915966386554613 0.39915966386554613 -0.39915966386554613c 0.22584033613445376,-0.17331932773109243 0.4674369747899159,-0.29936974789915966 0.4674369747899159 -0.29936974789915966v -4.201680672268907e-2 c -0.3676470588235294,-0.2626050420168067 -0.6512605042016806,-0.6355042016806722 -0.6512605042016806 -0.6355042016806722c -0.28361344537815125,-0.3728991596638655 -0.28361344537815125,-0.9086134453781511 -0.28361344537815125 -0.9086134453781511c 0.0,-0.38865546218487385 0.14705882352941174,-0.703781512605042 0.14705882352941174 -0.703781512605042c 0.14705882352941174,-0.31512605042016806 0.39915966386554613,-0.5409663865546218 0.39915966386554613 -0.5409663865546218c 0.2521008403361344,-0.22584033613445376 0.5987394957983193,-0.351890756302521 0.5987394957983193 -0.351890756302521c 0.34663865546218486,-0.1260504201680672 0.7563025210084032,-0.1260504201680672 0.7563025210084032 -0.1260504201680672c 0.4411764705882352,0.0 0.78781512605042,0.13130252100840334 0.78781512605042 0.13130252100840334c 0.34663865546218486,0.13130252100840334 0.5934873949579831,0.3676470588235294 0.5934873949579831 0.3676470588235294c 0.24684873949579828,0.23634453781512602 0.3781512605042016,0.5672268907563025 0.3781512605042016 0.5672268907563025c 0.13130252100840334,0.33088235294117646 0.13130252100840334,0.7195378151260504 0.13130252100840334 0.7195378151260504c 0.0,0.2626050420168067 -8.928571428571427e-2,0.5042016806722688 -8.928571428571427e-2 0.5042016806722688c -8.928571428571427e-2,0.24159663865546216 -0.2205882352941176,0.4516806722689075 -0.2205882352941176 0.4516806722689075c -0.13130252100840334,0.21008403361344535 -0.2941176470588235,0.3781512605042016 -0.2941176470588235 0.3781512605042016c -0.16281512605042014,0.1680672268907563 -0.3203781512605042,0.28361344537815125 -0.3203781512605042 0.28361344537815125v 4.201680672268907e-2 c 0.2205882352941176,0.1260504201680672 0.43067226890756294,0.28886554621848737 0.43067226890756294 0.28886554621848737c 0.21008403361344535,0.16281512605042014 0.3728991596638655,0.3676470588235294 0.3728991596638655 0.3676470588235294c 0.16281512605042014,0.2048319327731092 0.2626050420168067,0.4674369747899159 0.2626050420168067 0.4674369747899159c 9.978991596638653e-2,0.2626050420168067 9.978991596638653e-2,0.5987394957983193 9.978991596638653e-2 0.5987394957983193c 0.0,0.3781512605042016 -0.15756302521008403,0.703781512605042 -0.15756302521008403 0.703781512605042c -0.15756302521008403,0.3256302521008403 -0.4411764705882352,0.5672268907563025 -0.4411764705882352 0.5672268907563025c -0.28361344537815125,0.24159663865546216 -0.6827731092436974,0.3781512605042016 -0.6827731092436974 0.3781512605042016c -0.39915966386554613,0.13655462184873948 -0.8823529411764705,0.13655462184873948 -0.8823529411764705 0.13655462184873948c -0.47268907563025203,0.0 -0.8771008403361343,-0.13655462184873948 -0.8771008403361343 -0.13655462184873948c -0.40441176470588225,-0.13655462184873948 -0.6932773109243697,-0.38340336134453773 -0.6932773109243697 -0.38340336134453773c -0.28886554621848737,-0.24684873949579828 -0.45693277310924363,-0.5829831932773109 -0.45693277310924363 -0.5829831932773109c -0.1680672268907563,-0.3361344537815126 -0.1680672268907563,-0.7352941176470588 -0.1680672268907563 -0.7352941176470588ZM 35.47268907563025,38.44537815126053 ZM 38.088235294117645,38.57142857142859 c -1.01890756302521,0.0 -1.5861344537815123,-0.903361344537815 -1.5861344537815123 -0.903361344537815c -0.5672268907563025,-0.903361344537815 -0.5672268907563025,-2.59453781512605 -0.5672268907563025 -2.59453781512605c 0.0,-1.691176470588235 0.5672268907563025,-2.5735294117647056 0.5672268907563025 -2.5735294117647056c 0.5672268907563025,-0.8823529411764705 1.5861344537815123,-0.8823529411764705 1.5861344537815123 -0.8823529411764705c 1.0084033613445376,0.0 1.57563025210084,0.8823529411764705 1.57563025210084 0.8823529411764705c 0.5672268907563025,0.8823529411764705 0.5672268907563025,2.5735294117647056 0.5672268907563025 2.5735294117647056c 0.0,1.691176470588235 -0.5672268907563025,2.59453781512605 -0.5672268907563025 2.59453781512605c -0.5672268907563025,0.903361344537815 -1.57563025210084,0.903361344537815 -1.57563025210084 0.903361344537815ZM 38.088235294117645,38.57142857142859 ZM 38.088235294117645,37.878151260504225 c 0.2941176470588235,0.0 0.5304621848739495,-0.16281512605042014 0.5304621848739495 -0.16281512605042014c 0.23634453781512602,-0.16281512605042014 0.4096638655462184,-0.5042016806722688 0.4096638655462184 -0.5042016806722688c 0.17331932773109243,-0.3413865546218487 0.26785714285714285,-0.8718487394957982 0.26785714285714285 -0.8718487394957982c 9.45378151260504e-2,-0.5304621848739495 9.45378151260504e-2,-1.2657563025210083 9.45378151260504e-2 -1.2657563025210083c 0.0,-0.7352941176470588 -9.45378151260504e-2,-1.2605042016806722 -9.45378151260504e-2 -1.2605042016806722c -9.45378151260504e-2,-0.5252100840336134 -0.26785714285714285,-0.8560924369747898 -0.26785714285714285 -0.8560924369747898c -0.17331932773109243,-0.33088235294117646 -0.4096638655462184,-0.48844537815126043 -0.4096638655462184 -0.48844537815126043c -0.23634453781512602,-0.15756302521008403 -0.5304621848739495,-0.15756302521008403 -0.5304621848739495 -0.15756302521008403c -0.2941176470588235,0.0 -0.5357142857142857,0.15756302521008403 -0.5357142857142857 0.15756302521008403c -0.24159663865546216,0.15756302521008403 -0.41491596638655454,0.48844537815126043 -0.41491596638655454 0.48844537815126043c -0.17331932773109243,0.33088235294117646 -0.26785714285714285,0.8560924369747898 -0.26785714285714285 0.8560924369747898c -9.45378151260504e-2,0.5252100840336134 -9.45378151260504e-2,1.2605042016806722 -9.45378151260504e-2 1.2605042016806722c 0.0,1.4705882352941175 0.36239495798319327,2.1376050420168062 0.36239495798319327 2.1376050420168062c 0.36239495798319327,0.667016806722689 0.9506302521008402,0.667016806722689 0.9506302521008402 0.667016806722689ZM 40.693277310924366,38.44537815126053 ZM 43.30882352941176,38.57142857142859 c -1.01890756302521,0.0 -1.5861344537815123,-0.903361344537815 -1.5861344537815123 -0.903361344537815c -0.5672268907563025,-0.903361344537815 -0.5672268907563025,-2.59453781512605 -0.5672268907563025 -2.59453781512605c 0.0,-1.691176470588235 0.5672268907563025,-2.5735294117647056 0.5672268907563025 -2.5735294117647056c 0.5672268907563025,-0.8823529411764705 1.5861344537815123,-0.8823529411764705 1.5861344537815123 -0.8823529411764705c 1.0084033613445376,0.0 1.57563025210084,0.8823529411764705 1.57563025210084 0.8823529411764705c 0.5672268907563025,0.8823529411764705 0.5672268907563025,2.5735294117647056 0.5672268907563025 2.5735294117647056c 0.0,1.691176470588235 -0.5672268907563025,2.59453781512605 -0.5672268907563025 2.59453781512605c -0.5672268907563025,0.903361344537815 -1.57563025210084,0.903361344537815 -1.57563025210084 0.903361344537815ZM 43.30882352941176,38.57142857142859 ZM 43.30882352941176,37.878151260504225 c 0.2941176470588235,0.0 0.5304621848739495,-0.16281512605042014 0.5304621848739495 -0.16281512605042014c 0.23634453781512602,-0.16281512605042014 0.4096638655462184,-0.5042016806722688 0.4096638655462184 -0.5042016806722688c 0.17331932773109243,-0.3413865546218487 0.26785714285714285,-0.8718487394957982 0.26785714285714285 -0.8718487394957982c 9.45378151260504e-2,-0.5304621848739495 9.45378151260504e-2,-1.2657563025210083 9.45378151260504e-2 -1.2657563025210083c 0.0,-0.7352941176470588 -9.45378151260504e-2,-1.2605042016806722 -9.45378151260504e-2 -1.2605042016806722c -9.45378151260504e-2,-0.5252100840336134 -0.26785714285714285,-0.8560924369747898 -0.26785714285714285 -0.8560924369747898c -0.17331932773109243,-0.33088235294117646 -0.4096638655462184,-0.48844537815126043 -0.4096638655462184 -0.48844537815126043c -0.23634453781512602,-0.15756302521008403 -0.5304621848739495,-0.15756302521008403 -0.5304621848739495 -0.15756302521008403c -0.2941176470588235,0.0 -0.5357142857142857,0.15756302521008403 -0.5357142857142857 0.15756302521008403c -0.24159663865546216,0.15756302521008403 -0.41491596638655454,0.48844537815126043 -0.41491596638655454 0.48844537815126043c -0.17331932773109243,0.33088235294117646 -0.26785714285714285,0.8560924369747898 -0.26785714285714285 0.8560924369747898c -9.45378151260504e-2,0.5252100840336134 -9.45378151260504e-2,1.2605042016806722 -9.45378151260504e-2 1.2605042016806722c 0.0,1.4705882352941175 0.36239495798319327,2.1376050420168062 0.36239495798319327 2.1376050420168062c 0.36239495798319327,0.667016806722689 0.9506302521008402,0.667016806722689 0.9506302521008402 0.667016806722689Z\" />\n",
       "                                                                </g>\n",
       "                                                                <g fill=\"rgb(0,0,0)\" fill-opacity=\"1.0\">\n",
       "                                                                </g>\n",
       "                                                            </g>\n",
       "                                                        </g>\n",
       "                                                    </g>\n",
       "                                                </g>\n",
       "                                            </g>\n",
       "                                        </g>\n",
       "                                    </g>\n",
       "                                </g>\n",
       "                            </g>\n",
       "                        </g>\n",
       "                        <g>\n",
       "                            <g stroke=\"rgb(0,0,0)\" stroke-opacity=\"1.0\" stroke-width=\"0.9999999999999998\" stroke-linecap=\"square\" stroke-linejoin=\"miter\" stroke-dasharray=\"\" stroke-dashoffset=\"0.0\">\n",
       "                                <path d=\"M 55.021008403361336,259.99999999999994 h 380.4096638655462 \" />\n",
       "                            </g>\n",
       "                            <g stroke=\"rgb(0,0,0)\" stroke-opacity=\"1.0\" stroke-width=\"0.9999999999999998\" stroke-linecap=\"butt\" stroke-linejoin=\"miter\" stroke-dasharray=\"\" stroke-dashoffset=\"0.0\">\n",
       "                                <g>\n",
       "                                    <path d=\"M 55.021008403361336,259.99999999999994 v -1.9999999999999996 \" />\n",
       "                                </g>\n",
       "                                <g>\n",
       "                                    <path d=\"M 62.94620973389355,259.99999999999994 v -1.9999999999999996 \" />\n",
       "                                </g>\n",
       "                                <g>\n",
       "                                    <path d=\"M 70.87141106442576,259.99999999999994 v -1.9999999999999996 \" />\n",
       "                                </g>\n",
       "                                <g>\n",
       "                                    <path d=\"M 78.79661239495798,259.99999999999994 v -1.9999999999999996 \" />\n",
       "                                </g>\n",
       "                                <g>\n",
       "                                    <path d=\"M 86.72181372549018,259.99999999999994 v -1.9999999999999996 \" />\n",
       "                                </g>\n",
       "                                <g>\n",
       "                                    <path d=\"M 94.6470150560224,259.99999999999994 v -1.9999999999999996 \" />\n",
       "                                </g>\n",
       "                                <g>\n",
       "                                    <path d=\"M 102.5722163865546,259.99999999999994 v -1.9999999999999996 \" />\n",
       "                                </g>\n",
       "                                <g>\n",
       "                                    <path d=\"M 110.49741771708682,259.99999999999994 v -1.9999999999999996 \" />\n",
       "                                </g>\n",
       "                                <g>\n",
       "                                    <path d=\"M 118.42261904761904,259.99999999999994 v -1.9999999999999996 \" />\n",
       "                                </g>\n",
       "                                <g>\n",
       "                                    <path d=\"M 126.34782037815124,259.99999999999994 v -1.9999999999999996 \" />\n",
       "                                </g>\n",
       "                                <g>\n",
       "                                    <path d=\"M 134.27302170868347,259.99999999999994 v -1.9999999999999996 \" />\n",
       "                                </g>\n",
       "                                <g>\n",
       "                                    <path d=\"M 142.19822303921566,259.99999999999994 v -1.9999999999999996 \" />\n",
       "                                </g>\n",
       "                                <g>\n",
       "                                    <path d=\"M 150.12342436974788,259.99999999999994 v -1.9999999999999996 \" />\n",
       "                                </g>\n",
       "                                <g>\n",
       "                                    <path d=\"M 158.04862570028007,259.99999999999994 v -1.9999999999999996 \" />\n",
       "                                </g>\n",
       "                                <g>\n",
       "                                    <path d=\"M 165.9738270308123,259.99999999999994 v -1.9999999999999996 \" />\n",
       "                                </g>\n",
       "                                <g>\n",
       "                                    <path d=\"M 173.8990283613445,259.99999999999994 v -1.9999999999999996 \" />\n",
       "                                </g>\n",
       "                                <g>\n",
       "                                    <path d=\"M 181.82422969187672,259.99999999999994 v -1.9999999999999996 \" />\n",
       "                                </g>\n",
       "                                <g>\n",
       "                                    <path d=\"M 189.74943102240894,259.99999999999994 v -1.9999999999999996 \" />\n",
       "                                </g>\n",
       "                                <g>\n",
       "                                    <path d=\"M 197.67463235294116,259.99999999999994 v -1.9999999999999996 \" />\n",
       "                                </g>\n",
       "                                <g>\n",
       "                                    <path d=\"M 205.59983368347338,259.99999999999994 v -1.9999999999999996 \" />\n",
       "                                </g>\n",
       "                                <g>\n",
       "                                    <path d=\"M 213.5250350140056,259.99999999999994 v -1.9999999999999996 \" />\n",
       "                                </g>\n",
       "                                <g>\n",
       "                                    <path d=\"M 221.4502363445378,259.99999999999994 v -1.9999999999999996 \" />\n",
       "                                </g>\n",
       "                                <g>\n",
       "                                    <path d=\"M 229.37543767506997,259.99999999999994 v -1.9999999999999996 \" />\n",
       "                                </g>\n",
       "                                <g>\n",
       "                                    <path d=\"M 237.3006390056022,259.99999999999994 v -1.9999999999999996 \" />\n",
       "                                </g>\n",
       "                                <g>\n",
       "                                    <path d=\"M 245.2258403361344,259.99999999999994 v -1.9999999999999996 \" />\n",
       "                                </g>\n",
       "                                <g>\n",
       "                                    <path d=\"M 253.15104166666663,259.99999999999994 v -1.9999999999999996 \" />\n",
       "                                </g>\n",
       "                                <g>\n",
       "                                    <path d=\"M 261.07624299719885,259.99999999999994 v -1.9999999999999996 \" />\n",
       "                                </g>\n",
       "                                <g>\n",
       "                                    <path d=\"M 269.00144432773106,259.99999999999994 v -1.9999999999999996 \" />\n",
       "                                </g>\n",
       "                                <g>\n",
       "                                    <path d=\"M 276.9266456582632,259.99999999999994 v -1.9999999999999996 \" />\n",
       "                                </g>\n",
       "                                <g>\n",
       "                                    <path d=\"M 284.85184698879544,259.99999999999994 v -1.9999999999999996 \" />\n",
       "                                </g>\n",
       "                                <g>\n",
       "                                    <path d=\"M 292.77704831932766,259.99999999999994 v -1.9999999999999996 \" />\n",
       "                                </g>\n",
       "                                <g>\n",
       "                                    <path d=\"M 300.7022496498599,259.99999999999994 v -1.9999999999999996 \" />\n",
       "                                </g>\n",
       "                                <g>\n",
       "                                    <path d=\"M 308.6274509803921,259.99999999999994 v -1.9999999999999996 \" />\n",
       "                                </g>\n",
       "                                <g>\n",
       "                                    <path d=\"M 316.5526523109243,259.99999999999994 v -1.9999999999999996 \" />\n",
       "                                </g>\n",
       "                                <g>\n",
       "                                    <path d=\"M 324.47785364145653,259.99999999999994 v -1.9999999999999996 \" />\n",
       "                                </g>\n",
       "                                <g>\n",
       "                                    <path d=\"M 332.40305497198875,259.99999999999994 v -1.9999999999999996 \" />\n",
       "                                </g>\n",
       "                                <g>\n",
       "                                    <path d=\"M 340.32825630252097,259.99999999999994 v -1.9999999999999996 \" />\n",
       "                                </g>\n",
       "                                <g>\n",
       "                                    <path d=\"M 348.2534576330532,259.99999999999994 v -1.9999999999999996 \" />\n",
       "                                </g>\n",
       "                                <g>\n",
       "                                    <path d=\"M 356.1786589635854,259.99999999999994 v -1.9999999999999996 \" />\n",
       "                                </g>\n",
       "                                <g>\n",
       "                                    <path d=\"M 364.1038602941176,259.99999999999994 v -1.9999999999999996 \" />\n",
       "                                </g>\n",
       "                                <g>\n",
       "                                    <path d=\"M 372.02906162464984,259.99999999999994 v -1.9999999999999996 \" />\n",
       "                                </g>\n",
       "                                <g>\n",
       "                                    <path d=\"M 379.95426295518206,259.99999999999994 v -1.9999999999999996 \" />\n",
       "                                </g>\n",
       "                                <g>\n",
       "                                    <path d=\"M 387.8794642857143,259.99999999999994 v -1.9999999999999996 \" />\n",
       "                                </g>\n",
       "                                <g>\n",
       "                                    <path d=\"M 395.8046656162465,259.99999999999994 v -1.9999999999999996 \" />\n",
       "                                </g>\n",
       "                                <g>\n",
       "                                    <path d=\"M 403.72986694677866,259.99999999999994 v -1.9999999999999996 \" />\n",
       "                                </g>\n",
       "                                <g>\n",
       "                                    <path d=\"M 411.6550682773109,259.99999999999994 v -1.9999999999999996 \" />\n",
       "                                </g>\n",
       "                                <g>\n",
       "                                    <path d=\"M 419.5802696078431,259.99999999999994 v -1.9999999999999996 \" />\n",
       "                                </g>\n",
       "                                <g>\n",
       "                                    <path d=\"M 427.5054709383753,259.99999999999994 v -1.9999999999999996 \" />\n",
       "                                </g>\n",
       "                                <g>\n",
       "                                    <path d=\"M 435.43067226890753,259.99999999999994 v -1.9999999999999996 \" />\n",
       "                                </g>\n",
       "                                <g>\n",
       "                                    <path d=\"M 55.021008403361336,259.99999999999994 v -4.999999999999999 \" />\n",
       "                                </g>\n",
       "                                <g>\n",
       "                                    <path d=\"M 118.42261904761904,259.99999999999994 v -4.999999999999999 \" />\n",
       "                                </g>\n",
       "                                <g>\n",
       "                                    <path d=\"M 181.82422969187672,259.99999999999994 v -4.999999999999999 \" />\n",
       "                                </g>\n",
       "                                <g>\n",
       "                                    <path d=\"M 245.2258403361344,259.99999999999994 v -4.999999999999999 \" />\n",
       "                                </g>\n",
       "                                <g>\n",
       "                                    <path d=\"M 308.6274509803921,259.99999999999994 v -4.999999999999999 \" />\n",
       "                                </g>\n",
       "                                <g>\n",
       "                                    <path d=\"M 372.02906162464984,259.99999999999994 v -4.999999999999999 \" />\n",
       "                                </g>\n",
       "                                <g>\n",
       "                                    <path d=\"M 435.43067226890753,259.99999999999994 v -4.999999999999999 \" />\n",
       "                                </g>\n",
       "                            </g>\n",
       "                            <g fill=\"rgb(255,255,255)\" fill-opacity=\"1.0\">\n",
       "                                <g stroke=\"rgb(0,0,0)\" stroke-opacity=\"0.0\" fill=\"rgb(0,0,0)\" fill-opacity=\"1.0\" stroke-width=\"0.0\" stroke-linecap=\"butt\" stroke-linejoin=\"bevel\" stroke-dasharray=\"\" stroke-dashoffset=\"0.0\">\n",
       "                                    <g fill=\"rgb(0,0,0)\" fill-opacity=\"1.0\">\n",
       "                                        <g fill=\"rgb(0,0,0)\" fill-opacity=\"1.0\">\n",
       "                                            <g fill=\"rgb(0,0,0)\" fill-opacity=\"1.0\">\n",
       "                                            </g>\n",
       "                                            <g fill=\"rgb(0,0,0)\" fill-opacity=\"1.0\">\n",
       "                                                <g fill=\"rgb(0,0,0)\" fill-opacity=\"1.0\">\n",
       "                                                </g>\n",
       "                                                <g fill=\"rgb(0,0,0)\" fill-opacity=\"1.0\">\n",
       "                                                    <g fill=\"rgb(0,0,0)\" fill-opacity=\"1.0\">\n",
       "                                                        <path d=\"M 52.87289915966386,279.99999999999994 ZM 55.488445378151255,280.126050420168 c -1.01890756302521,0.0 -1.5861344537815125,-0.903361344537815 -1.5861344537815125 -0.903361344537815c -0.5672268907563025,-0.903361344537815 -0.5672268907563025,-2.59453781512605 -0.5672268907563025 -2.59453781512605c 0.0,-1.691176470588235 0.5672268907563025,-2.5735294117647056 0.5672268907563025 -2.5735294117647056c 0.5672268907563025,-0.8823529411764705 1.5861344537815125,-0.8823529411764705 1.5861344537815125 -0.8823529411764705c 1.0084033613445378,0.0 1.5756302521008403,0.8823529411764705 1.5756302521008403 0.8823529411764705c 0.5672268907563025,0.8823529411764705 0.5672268907563025,2.5735294117647056 0.5672268907563025 2.5735294117647056c 0.0,1.691176470588235 -0.5672268907563025,2.59453781512605 -0.5672268907563025 2.59453781512605c -0.5672268907563025,0.903361344537815 -1.5756302521008403,0.903361344537815 -1.5756302521008403 0.903361344537815ZM 55.488445378151255,280.126050420168 ZM 55.488445378151255,279.4327731092436 c 0.29411764705882354,0.0 0.5304621848739496,-0.16281512605042014 0.5304621848739496 -0.16281512605042014c 0.23634453781512604,-0.16281512605042014 0.4096638655462185,-0.5042016806722688 0.4096638655462185 -0.5042016806722688c 0.17331932773109246,-0.3413865546218487 0.26785714285714285,-0.8718487394957982 0.26785714285714285 -0.8718487394957982c 9.453781512605042e-2,-0.5304621848739495 9.453781512605042e-2,-1.2657563025210083 9.453781512605042e-2 -1.2657563025210083c 0.0,-0.7352941176470588 -9.453781512605042e-2,-1.2605042016806722 -9.453781512605042e-2 -1.2605042016806722c -9.453781512605042e-2,-0.5252100840336134 -0.26785714285714285,-0.8560924369747898 -0.26785714285714285 -0.8560924369747898c -0.17331932773109246,-0.33088235294117646 -0.4096638655462185,-0.48844537815126043 -0.4096638655462185 -0.48844537815126043c -0.23634453781512604,-0.15756302521008403 -0.5304621848739496,-0.15756302521008403 -0.5304621848739496 -0.15756302521008403c -0.29411764705882354,0.0 -0.5357142857142857,0.15756302521008403 -0.5357142857142857 0.15756302521008403c -0.2415966386554622,0.15756302521008403 -0.4149159663865546,0.48844537815126043 -0.4149159663865546 0.48844537815126043c -0.17331932773109246,0.33088235294117646 -0.26785714285714285,0.8560924369747898 -0.26785714285714285 0.8560924369747898c -9.453781512605042e-2,0.5252100840336134 -9.453781512605042e-2,1.2605042016806722 -9.453781512605042e-2 1.2605042016806722c 0.0,1.4705882352941175 0.3623949579831933,2.1376050420168062 0.3623949579831933 2.1376050420168062c 0.3623949579831933,0.667016806722689 0.9506302521008404,0.667016806722689 0.9506302521008404 0.667016806722689Z\" />\n",
       "                                                    </g>\n",
       "                                                    <g fill=\"rgb(0,0,0)\" fill-opacity=\"1.0\">\n",
       "                                                    </g>\n",
       "                                                </g>\n",
       "                                            </g>\n",
       "                                        </g>\n",
       "                                    </g>\n",
       "                                </g>\n",
       "                                <g fill=\"rgb(255,255,255)\" fill-opacity=\"1.0\">\n",
       "                                    <g stroke=\"rgb(0,0,0)\" stroke-opacity=\"0.0\" fill=\"rgb(0,0,0)\" fill-opacity=\"1.0\" stroke-width=\"0.0\" stroke-linecap=\"butt\" stroke-linejoin=\"bevel\" stroke-dasharray=\"\" stroke-dashoffset=\"0.0\">\n",
       "                                        <g fill=\"rgb(0,0,0)\" fill-opacity=\"1.0\">\n",
       "                                            <g fill=\"rgb(0,0,0)\" fill-opacity=\"1.0\">\n",
       "                                                <g fill=\"rgb(0,0,0)\" fill-opacity=\"1.0\">\n",
       "                                                </g>\n",
       "                                                <g fill=\"rgb(0,0,0)\" fill-opacity=\"1.0\">\n",
       "                                                    <g fill=\"rgb(0,0,0)\" fill-opacity=\"1.0\">\n",
       "                                                    </g>\n",
       "                                                    <g fill=\"rgb(0,0,0)\" fill-opacity=\"1.0\">\n",
       "                                                        <g fill=\"rgb(0,0,0)\" fill-opacity=\"1.0\">\n",
       "                                                            <path d=\"M 116.2377450980392,279.99999999999994 ZM 116.6579131652661,279.48529411764696 c 0.7563025210084033,-0.7563025210084032 1.3445378151260505,-1.3655462184873948 1.3445378151260505 -1.3655462184873948c 0.5882352941176471,-0.6092436974789915 0.9873949579831933,-1.1292016806722687 0.9873949579831933 -1.1292016806722687c 0.3991596638655462,-0.5199579831932772 0.6092436974789917,-0.9558823529411763 0.6092436974789917 -0.9558823529411763c 0.21008403361344538,-0.4359243697478991 0.21008403361344538,-0.8455882352941175 0.21008403361344538 -0.8455882352941175c 0.0,-0.5777310924369747 -0.3151260504201681,-0.9453781512605041 -0.3151260504201681 -0.9453781512605041c -0.3151260504201681,-0.3676470588235294 -0.9558823529411765,-0.3676470588235294 -0.9558823529411765 -0.3676470588235294c -0.42016806722689076,0.0 -0.7773109243697479,0.23634453781512602 -0.7773109243697479 0.23634453781512602c -0.35714285714285715,0.23634453781512602 -0.6512605042016807,0.5724789915966386 -0.6512605042016807 0.5724789915966386l -0.49369747899159666,-0.49369747899159655 c 0.42016806722689076,-0.46218487394957974 0.8928571428571429,-0.7405462184873949 0.8928571428571429 -0.7405462184873949c 0.4726890756302521,-0.2783613445378151 1.134453781512605,-0.2783613445378151 1.134453781512605 -0.2783613445378151c 0.9348739495798319,0.0 1.4705882352941178,0.5409663865546218 1.4705882352941178 0.5409663865546218c 0.5357142857142857,0.5409663865546218 0.5357142857142857,1.4338235294117645 0.5357142857142857 1.4338235294117645c 0.0,0.47268907563025203 -0.20483193277310924,0.9506302521008402 -0.20483193277310924 0.9506302521008402c -0.20483193277310924,0.47794117647058815 -0.5672268907563025,0.9873949579831931 -0.5672268907563025 0.9873949579831931c -0.3623949579831933,0.509453781512605 -0.861344537815126,1.060924369747899 -0.861344537815126 1.060924369747899c -0.4989495798319328,0.551470588235294 -1.0976890756302522,1.1712184873949578 -1.0976890756302522 1.1712184873949578c 0.273109243697479,-2.1008403361344536e-2 0.5672268907563025,-4.201680672268907e-2 0.5672268907563025 -4.201680672268907e-2c 0.29411764705882354,-2.1008403361344536e-2 0.5567226890756303,-2.1008403361344536e-2 0.5567226890756303 -2.1008403361344536e-2h 1.9432773109243697 v 0.745798319327731 h -4.327731092436975 v -0.5147058823529411 Z\" />\n",
       "                                                        </g>\n",
       "                                                        <g fill=\"rgb(0,0,0)\" fill-opacity=\"1.0\">\n",
       "                                                        </g>\n",
       "                                                    </g>\n",
       "                                                </g>\n",
       "                                            </g>\n",
       "                                        </g>\n",
       "                                    </g>\n",
       "                                    <g fill=\"rgb(255,255,255)\" fill-opacity=\"1.0\">\n",
       "                                        <g stroke=\"rgb(0,0,0)\" stroke-opacity=\"0.0\" fill=\"rgb(0,0,0)\" fill-opacity=\"1.0\" stroke-width=\"0.0\" stroke-linecap=\"butt\" stroke-linejoin=\"bevel\" stroke-dasharray=\"\" stroke-dashoffset=\"0.0\">\n",
       "                                            <g fill=\"rgb(0,0,0)\" fill-opacity=\"1.0\">\n",
       "                                                <g fill=\"rgb(0,0,0)\" fill-opacity=\"1.0\">\n",
       "                                                    <g fill=\"rgb(0,0,0)\" fill-opacity=\"1.0\">\n",
       "                                                    </g>\n",
       "                                                    <g fill=\"rgb(0,0,0)\" fill-opacity=\"1.0\">\n",
       "                                                        <g fill=\"rgb(0,0,0)\" fill-opacity=\"1.0\">\n",
       "                                                        </g>\n",
       "                                                        <g fill=\"rgb(0,0,0)\" fill-opacity=\"1.0\">\n",
       "                                                            <g fill=\"rgb(0,0,0)\" fill-opacity=\"1.0\">\n",
       "                                                                <path d=\"M 179.45028011204477,279.99999999999994 ZM 182.64355742296914,277.45798319327724 v -1.9432773109243695 c 0.0,-0.27310924369747897 1.5756302521008403e-2,-0.6460084033613445 1.5756302521008403e-2 -0.6460084033613445c 1.5756302521008403e-2,-0.3728991596638655 3.676470588235294e-2,-0.6460084033613445 3.676470588235294e-2 -0.6460084033613445h -4.201680672268908e-2 c -0.12605042016806722,0.24159663865546216 -0.26260504201680673,0.47268907563025203 -0.26260504201680673 0.47268907563025203c -0.1365546218487395,0.23109243697478987 -0.28361344537815125,0.47268907563025203 -0.28361344537815125 0.47268907563025203l -1.565126050420168,2.2899159663865545 h 2.100840336134454 ZM 182.64355742296914,277.45798319327724 ZM 184.37675070028007,278.1512605042016 h -0.9138655462184874 v 1.848739495798319 h -0.819327731092437 v -1.848739495798319 h -3.014705882352941 v -0.5672268907563025 l 2.86764705882353,-4.285714285714286 h 0.9663865546218487 v 4.159663865546218 h 0.9138655462184874 v 0.6932773109243697 Z\" />\n",
       "                                                            </g>\n",
       "                                                            <g fill=\"rgb(0,0,0)\" fill-opacity=\"1.0\">\n",
       "                                                            </g>\n",
       "                                                        </g>\n",
       "                                                    </g>\n",
       "                                                </g>\n",
       "                                            </g>\n",
       "                                        </g>\n",
       "                                        <g fill=\"rgb(255,255,255)\" fill-opacity=\"1.0\">\n",
       "                                            <g stroke=\"rgb(0,0,0)\" stroke-opacity=\"0.0\" fill=\"rgb(0,0,0)\" fill-opacity=\"1.0\" stroke-width=\"0.0\" stroke-linecap=\"butt\" stroke-linejoin=\"bevel\" stroke-dasharray=\"\" stroke-dashoffset=\"0.0\">\n",
       "                                                <g fill=\"rgb(0,0,0)\" fill-opacity=\"1.0\">\n",
       "                                                    <g fill=\"rgb(0,0,0)\" fill-opacity=\"1.0\">\n",
       "                                                        <g fill=\"rgb(0,0,0)\" fill-opacity=\"1.0\">\n",
       "                                                        </g>\n",
       "                                                        <g fill=\"rgb(0,0,0)\" fill-opacity=\"1.0\">\n",
       "                                                            <g fill=\"rgb(0,0,0)\" fill-opacity=\"1.0\">\n",
       "                                                            </g>\n",
       "                                                            <g fill=\"rgb(0,0,0)\" fill-opacity=\"1.0\">\n",
       "                                                                <g fill=\"rgb(0,0,0)\" fill-opacity=\"1.0\">\n",
       "                                                                    <path d=\"M 243.07773109243692,279.99999999999994 ZM 245.8928571428571,279.4432773109243 c 0.25210084033613445,0.0 0.46218487394957986,-0.10504201680672268 0.46218487394957986 -0.10504201680672268c 0.21008403361344538,-0.10504201680672268 0.36764705882352944,-0.29936974789915966 0.36764705882352944 -0.29936974789915966c 0.15756302521008406,-0.19432773109243692 0.24684873949579833,-0.46218487394957974 0.24684873949579833 -0.46218487394957974c 8.928571428571429e-2,-0.26785714285714285 8.928571428571429e-2,-0.6039915966386554 8.928571428571429e-2 -0.6039915966386554c 0.0,-0.6617647058823529 -0.3046218487394958,-1.0399159663865545 -0.3046218487394958 -1.0399159663865545c -0.3046218487394958,-0.3781512605042016 -0.9348739495798319,-0.3781512605042016 -0.9348739495798319 -0.3781512605042016c -0.3151260504201681,0.0 -0.6880252100840337,0.2048319327731092 -0.6880252100840337 0.2048319327731092c -0.3728991596638656,0.2048319327731092 -0.7090336134453782,0.6775210084033613 -0.7090336134453782 0.6775210084033613c 8.403361344537816e-2,0.9873949579831931 0.4569327731092437,1.496848739495798 0.4569327731092437 1.496848739495798c 0.3728991596638656,0.509453781512605 1.013655462184874,0.509453781512605 1.013655462184874 0.509453781512605ZM 245.8928571428571,279.4432773109243 ZM 247.26890756302518,274.42226890756297 c -0.21008403361344538,-0.24159663865546216 -0.4989495798319328,-0.38340336134453773 -0.4989495798319328 -0.38340336134453773c -0.2888655462184874,-0.14180672268907563 -0.6039915966386555,-0.14180672268907563 -0.6039915966386555 -0.14180672268907563c -0.3466386554621849,0.0 -0.661764705882353,0.14705882352941174 -0.661764705882353 0.14705882352941174c -0.3151260504201681,0.14705882352941174 -0.5567226890756303,0.4831932773109243 -0.5567226890756303 0.4831932773109243c -0.2415966386554622,0.3361344537815126 -0.38865546218487396,0.8771008403361343 -0.38865546218487396 0.8771008403361343c -0.14705882352941177,0.5409663865546218 -0.15756302521008406,1.3392857142857142 -0.15756302521008406 1.3392857142857142c 0.3151260504201681,-0.38865546218487385 0.7352941176470589,-0.6144957983193277 0.7352941176470589 -0.6144957983193277c 0.42016806722689076,-0.22584033613445376 0.8298319327731092,-0.22584033613445376 0.8298319327731092 -0.22584033613445376c 0.8718487394957983,0.0 1.3918067226890758,0.5147058823529411 1.3918067226890758 0.5147058823529411c 0.5199579831932774,0.5147058823529411 0.5199579831932774,1.5546218487394954 0.5199579831932774 1.5546218487394954c 0.0,0.4831932773109243 -0.15756302521008406,0.8771008403361343 -0.15756302521008406 0.8771008403361343c -0.15756302521008406,0.39390756302521 -0.430672268907563,0.6775210084033613 -0.430672268907563 0.6775210084033613c -0.273109243697479,0.28361344537815125 -0.6302521008403362,0.4411764705882352 -0.6302521008403362 0.4411764705882352c -0.35714285714285715,0.15756302521008403 -0.7668067226890756,0.15756302521008403 -0.7668067226890756 0.15756302521008403c -0.49369747899159666,0.0 -0.9138655462184874,-0.19957983193277307 -0.9138655462184874 -0.19957983193277307c -0.42016806722689076,-0.19957983193277307 -0.7300420168067228,-0.6039915966386554 -0.7300420168067228 -0.6039915966386554c -0.30987394957983194,-0.40441176470588225 -0.4884453781512605,-1.0084033613445376 -0.4884453781512605 -1.0084033613445376c -0.17857142857142858,-0.6039915966386554 -0.17857142857142858,-1.41281512605042 -0.17857142857142858 -1.41281512605042c 0.0,-1.0084033613445376 0.21008403361344538,-1.7174369747899156 0.21008403361344538 -1.7174369747899156c 0.21008403361344538,-0.7090336134453781 0.5672268907563025,-1.1554621848739495 0.5672268907563025 -1.1554621848739495c 0.35714285714285715,-0.44642857142857134 0.8140756302521008,-0.6512605042016806 0.8140756302521008 -0.6512605042016806c 0.4569327731092437,-0.2048319327731092 0.9611344537815126,-0.2048319327731092 0.9611344537815126 -0.2048319327731092c 0.546218487394958,0.0 0.9401260504201681,0.2048319327731092 0.9401260504201681 0.2048319327731092c 0.3939075630252101,0.2048319327731092 0.6775210084033614,0.509453781512605 0.6775210084033614 0.509453781512605Z\" />\n",
       "                                                                </g>\n",
       "                                                                <g fill=\"rgb(0,0,0)\" fill-opacity=\"1.0\">\n",
       "                                                                </g>\n",
       "                                                            </g>\n",
       "                                                        </g>\n",
       "                                                    </g>\n",
       "                                                </g>\n",
       "                                            </g>\n",
       "                                            <g fill=\"rgb(255,255,255)\" fill-opacity=\"1.0\">\n",
       "                                                <g stroke=\"rgb(0,0,0)\" stroke-opacity=\"0.0\" fill=\"rgb(0,0,0)\" fill-opacity=\"1.0\" stroke-width=\"0.0\" stroke-linecap=\"butt\" stroke-linejoin=\"bevel\" stroke-dasharray=\"\" stroke-dashoffset=\"0.0\">\n",
       "                                                    <g fill=\"rgb(0,0,0)\" fill-opacity=\"1.0\">\n",
       "                                                        <g fill=\"rgb(0,0,0)\" fill-opacity=\"1.0\">\n",
       "                                                            <g fill=\"rgb(0,0,0)\" fill-opacity=\"1.0\">\n",
       "                                                            </g>\n",
       "                                                            <g fill=\"rgb(0,0,0)\" fill-opacity=\"1.0\">\n",
       "                                                                <g fill=\"rgb(0,0,0)\" fill-opacity=\"1.0\">\n",
       "                                                                </g>\n",
       "                                                                <g fill=\"rgb(0,0,0)\" fill-opacity=\"1.0\">\n",
       "                                                                    <g fill=\"rgb(0,0,0)\" fill-opacity=\"1.0\">\n",
       "                                                                        <path d=\"M 306.4478291316526,279.99999999999994 ZM 307.6558123249299,278.20378151260496 c 0.0,0.28361344537815125 0.11029411764705882,0.5147058823529411 0.11029411764705882 0.5147058823529411c 0.11029411764705882,0.23109243697478987 0.3046218487394958,0.40441176470588225 0.3046218487394958 0.40441176470588225c 0.19432773109243698,0.17331932773109243 0.4569327731092437,0.26785714285714285 0.4569327731092437 0.26785714285714285c 0.26260504201680673,9.45378151260504e-2 0.5672268907563025,9.45378151260504e-2 0.5672268907563025 9.45378151260504e-2c 0.5882352941176471,0.0 0.9506302521008404,-0.3256302521008403 0.9506302521008404 -0.3256302521008403c 0.3623949579831933,-0.3256302521008403 0.3623949579831933,-0.8508403361344536 0.3623949579831933 -0.8508403361344536c 0.0,-0.3256302521008403 -0.14705882352941177,-0.5567226890756302 -0.14705882352941177 -0.5567226890756302c -0.14705882352941177,-0.23109243697478987 -0.3991596638655462,-0.40441176470588225 -0.3991596638655462 -0.40441176470588225c -0.25210084033613445,-0.17331932773109243 -0.582983193277311,-0.31512605042016806 -0.582983193277311 -0.31512605042016806c -0.3308823529411765,-0.14180672268907563 -0.6880252100840337,-0.28886554621848737 -0.6880252100840337 -0.28886554621848737c -0.3991596638655462,0.27310924369747897 -0.6670168067226891,0.6355042016806722 -0.6670168067226891 0.6355042016806722c -0.26785714285714285,0.36239495798319327 -0.26785714285714285,0.824579831932773 -0.26785714285714285 0.824579831932773ZM 307.6558123249299,278.20378151260496 ZM 309.54656862745094,276.344537815126 c 0.33613445378151263,-0.30462184873949577 0.5199579831932774,-0.6407563025210083 0.5199579831932774 -0.6407563025210083c 0.18382352941176472,-0.3361344537815126 0.18382352941176472,-0.703781512605042 0.18382352941176472 -0.703781512605042c 0.0,-0.5042016806722688 -0.3046218487394958,-0.8455882352941175 -0.3046218487394958 -0.8455882352941175c -0.3046218487394958,-0.3413865546218487 -0.861344537815126,-0.3413865546218487 -0.861344537815126 -0.3413865546218487c -0.4726890756302521,0.0 -0.7773109243697479,0.2941176470588235 -0.7773109243697479 0.2941176470588235c -0.3046218487394958,0.2941176470588235 -0.3046218487394958,0.78781512605042 -0.3046218487394958 0.78781512605042c 0.0,0.30462184873949577 0.12605042016806722,0.5199579831932772 0.12605042016806722 0.5199579831932772c 0.12605042016806722,0.21533613445378147 0.34138655462184875,0.38340336134453773 0.34138655462184875 0.38340336134453773c 0.2153361344537815,0.1680672268907563 0.49369747899159666,0.29936974789915966 0.49369747899159666 0.29936974789915966c 0.27836134453781514,0.13130252100840334 0.582983193277311,0.24684873949579828 0.582983193277311 0.24684873949579828ZM 309.54656862745094,276.344537815126 ZM 306.8785014005602,278.28781512605036 c 0.0,-0.3256302521008403 0.11029411764705882,-0.6039915966386554 0.11029411764705882 -0.6039915966386554c 0.11029411764705882,-0.2783613445378151 0.28361344537815125,-0.5042016806722688 0.28361344537815125 -0.5042016806722688c 0.17331932773109246,-0.22584033613445376 0.3991596638655462,-0.39915966386554613 0.3991596638655462 -0.39915966386554613c 0.22584033613445378,-0.17331932773109243 0.46743697478991597,-0.29936974789915966 0.46743697478991597 -0.29936974789915966v -4.201680672268907e-2 c -0.36764705882352944,-0.2626050420168067 -0.6512605042016807,-0.6355042016806722 -0.6512605042016807 -0.6355042016806722c -0.28361344537815125,-0.3728991596638655 -0.28361344537815125,-0.9086134453781511 -0.28361344537815125 -0.9086134453781511c 0.0,-0.38865546218487385 0.14705882352941177,-0.703781512605042 0.14705882352941177 -0.703781512605042c 0.14705882352941177,-0.31512605042016806 0.3991596638655462,-0.5409663865546218 0.3991596638655462 -0.5409663865546218c 0.25210084033613445,-0.22584033613445376 0.5987394957983193,-0.351890756302521 0.5987394957983193 -0.351890756302521c 0.3466386554621849,-0.1260504201680672 0.7563025210084033,-0.1260504201680672 0.7563025210084033 -0.1260504201680672c 0.4411764705882353,0.0 0.7878151260504201,0.13130252100840334 0.7878151260504201 0.13130252100840334c 0.3466386554621849,0.13130252100840334 0.5934873949579832,0.3676470588235294 0.5934873949579832 0.3676470588235294c 0.24684873949579833,0.23634453781512602 0.37815126050420167,0.5672268907563025 0.37815126050420167 0.5672268907563025c 0.13130252100840337,0.33088235294117646 0.13130252100840337,0.7195378151260504 0.13130252100840337 0.7195378151260504c 0.0,0.2626050420168067 -8.928571428571429e-2,0.5042016806722688 -8.928571428571429e-2 0.5042016806722688c -8.928571428571429e-2,0.24159663865546216 -0.22058823529411764,0.4516806722689075 -0.22058823529411764 0.4516806722689075c -0.13130252100840337,0.21008403361344535 -0.29411764705882354,0.3781512605042016 -0.29411764705882354 0.3781512605042016c -0.16281512605042017,0.1680672268907563 -0.32037815126050423,0.28361344537815125 -0.32037815126050423 0.28361344537815125v 4.201680672268907e-2 c 0.22058823529411764,0.1260504201680672 0.430672268907563,0.28886554621848737 0.430672268907563 0.28886554621848737c 0.21008403361344538,0.16281512605042014 0.3728991596638656,0.3676470588235294 0.3728991596638656 0.3676470588235294c 0.16281512605042017,0.2048319327731092 0.26260504201680673,0.4674369747899159 0.26260504201680673 0.4674369747899159c 9.978991596638655e-2,0.2626050420168067 9.978991596638655e-2,0.5987394957983193 9.978991596638655e-2 0.5987394957983193c 0.0,0.3781512605042016 -0.15756302521008406,0.703781512605042 -0.15756302521008406 0.703781512605042c -0.15756302521008406,0.3256302521008403 -0.4411764705882353,0.5672268907563025 -0.4411764705882353 0.5672268907563025c -0.28361344537815125,0.24159663865546216 -0.6827731092436975,0.3781512605042016 -0.6827731092436975 0.3781512605042016c -0.3991596638655462,0.13655462184873948 -0.8823529411764706,0.13655462184873948 -0.8823529411764706 0.13655462184873948c -0.4726890756302521,0.0 -0.8771008403361344,-0.13655462184873948 -0.8771008403361344 -0.13655462184873948c -0.40441176470588236,-0.13655462184873948 -0.6932773109243698,-0.38340336134453773 -0.6932773109243698 -0.38340336134453773c -0.2888655462184874,-0.24684873949579828 -0.4569327731092437,-0.5829831932773109 -0.4569327731092437 -0.5829831932773109c -0.16806722689075632,-0.3361344537815126 -0.16806722689075632,-0.7352941176470588 -0.16806722689075632 -0.7352941176470588Z\" />\n",
       "                                                                    </g>\n",
       "                                                                    <g fill=\"rgb(0,0,0)\" fill-opacity=\"1.0\">\n",
       "                                                                    </g>\n",
       "                                                                </g>\n",
       "                                                            </g>\n",
       "                                                        </g>\n",
       "                                                    </g>\n",
       "                                                </g>\n",
       "                                                <g fill=\"rgb(255,255,255)\" fill-opacity=\"1.0\">\n",
       "                                                    <g stroke=\"rgb(0,0,0)\" stroke-opacity=\"0.0\" fill=\"rgb(0,0,0)\" fill-opacity=\"1.0\" stroke-width=\"0.0\" stroke-linecap=\"butt\" stroke-linejoin=\"bevel\" stroke-dasharray=\"\" stroke-dashoffset=\"0.0\">\n",
       "                                                        <g fill=\"rgb(0,0,0)\" fill-opacity=\"1.0\">\n",
       "                                                            <g fill=\"rgb(0,0,0)\" fill-opacity=\"1.0\">\n",
       "                                                                <g fill=\"rgb(0,0,0)\" fill-opacity=\"1.0\">\n",
       "                                                                </g>\n",
       "                                                                <g fill=\"rgb(0,0,0)\" fill-opacity=\"1.0\">\n",
       "                                                                    <g fill=\"rgb(0,0,0)\" fill-opacity=\"1.0\">\n",
       "                                                                    </g>\n",
       "                                                                    <g fill=\"rgb(0,0,0)\" fill-opacity=\"1.0\">\n",
       "                                                                        <g fill=\"rgb(0,0,0)\" fill-opacity=\"1.0\">\n",
       "                                                                            <path d=\"M 367.45448179271705,279.99999999999994 ZM 368.28431372549016,279.2857142857142 h 1.5336134453781511 v -4.936974789915966 h -1.2184873949579833 v -0.5567226890756302 c 0.46218487394957986,-8.403361344537814e-2 0.8035714285714285,-0.2048319327731092 0.8035714285714285 -0.2048319327731092c 0.34138655462184875,-0.12079831932773108 0.6144957983193278,-0.28886554621848737 0.6144957983193278 -0.28886554621848737h 0.661764705882353 v 5.987394957983192 h 1.3865546218487397 v 0.7142857142857142 h -3.7815126050420167 v -0.7142857142857142 ZM 372.6750700280112,279.99999999999994 ZM 375.2906162464986,280.126050420168 c -1.01890756302521,0.0 -1.5861344537815125,-0.903361344537815 -1.5861344537815125 -0.903361344537815c -0.5672268907563025,-0.903361344537815 -0.5672268907563025,-2.59453781512605 -0.5672268907563025 -2.59453781512605c 0.0,-1.691176470588235 0.5672268907563025,-2.5735294117647056 0.5672268907563025 -2.5735294117647056c 0.5672268907563025,-0.8823529411764705 1.5861344537815125,-0.8823529411764705 1.5861344537815125 -0.8823529411764705c 1.0084033613445378,0.0 1.5756302521008403,0.8823529411764705 1.5756302521008403 0.8823529411764705c 0.5672268907563025,0.8823529411764705 0.5672268907563025,2.5735294117647056 0.5672268907563025 2.5735294117647056c 0.0,1.691176470588235 -0.5672268907563025,2.59453781512605 -0.5672268907563025 2.59453781512605c -0.5672268907563025,0.903361344537815 -1.5756302521008403,0.903361344537815 -1.5756302521008403 0.903361344537815ZM 375.2906162464986,280.126050420168 ZM 375.2906162464986,279.4327731092436 c 0.29411764705882354,0.0 0.5304621848739496,-0.16281512605042014 0.5304621848739496 -0.16281512605042014c 0.23634453781512604,-0.16281512605042014 0.4096638655462185,-0.5042016806722688 0.4096638655462185 -0.5042016806722688c 0.17331932773109246,-0.3413865546218487 0.26785714285714285,-0.8718487394957982 0.26785714285714285 -0.8718487394957982c 9.453781512605042e-2,-0.5304621848739495 9.453781512605042e-2,-1.2657563025210083 9.453781512605042e-2 -1.2657563025210083c 0.0,-0.7352941176470588 -9.453781512605042e-2,-1.2605042016806722 -9.453781512605042e-2 -1.2605042016806722c -9.453781512605042e-2,-0.5252100840336134 -0.26785714285714285,-0.8560924369747898 -0.26785714285714285 -0.8560924369747898c -0.17331932773109246,-0.33088235294117646 -0.4096638655462185,-0.48844537815126043 -0.4096638655462185 -0.48844537815126043c -0.23634453781512604,-0.15756302521008403 -0.5304621848739496,-0.15756302521008403 -0.5304621848739496 -0.15756302521008403c -0.29411764705882354,0.0 -0.5357142857142857,0.15756302521008403 -0.5357142857142857 0.15756302521008403c -0.2415966386554622,0.15756302521008403 -0.4149159663865546,0.48844537815126043 -0.4149159663865546 0.48844537815126043c -0.17331932773109246,0.33088235294117646 -0.26785714285714285,0.8560924369747898 -0.26785714285714285 0.8560924369747898c -9.453781512605042e-2,0.5252100840336134 -9.453781512605042e-2,1.2605042016806722 -9.453781512605042e-2 1.2605042016806722c 0.0,1.4705882352941175 0.3623949579831933,2.1376050420168062 0.3623949579831933 2.1376050420168062c 0.3623949579831933,0.667016806722689 0.9506302521008404,0.667016806722689 0.9506302521008404 0.667016806722689Z\" />\n",
       "                                                                        </g>\n",
       "                                                                        <g fill=\"rgb(0,0,0)\" fill-opacity=\"1.0\">\n",
       "                                                                        </g>\n",
       "                                                                    </g>\n",
       "                                                                </g>\n",
       "                                                            </g>\n",
       "                                                        </g>\n",
       "                                                    </g>\n",
       "                                                    <g stroke=\"rgb(0,0,0)\" stroke-opacity=\"0.0\" fill=\"rgb(0,0,0)\" fill-opacity=\"1.0\" stroke-width=\"0.0\" stroke-linecap=\"butt\" stroke-linejoin=\"bevel\" stroke-dasharray=\"\" stroke-dashoffset=\"0.0\">\n",
       "                                                        <g fill=\"rgb(0,0,0)\" fill-opacity=\"1.0\">\n",
       "                                                            <g fill=\"rgb(0,0,0)\" fill-opacity=\"1.0\">\n",
       "                                                                <g fill=\"rgb(0,0,0)\" fill-opacity=\"1.0\">\n",
       "                                                                </g>\n",
       "                                                                <g fill=\"rgb(0,0,0)\" fill-opacity=\"1.0\">\n",
       "                                                                    <g fill=\"rgb(0,0,0)\" fill-opacity=\"1.0\">\n",
       "                                                                    </g>\n",
       "                                                                    <g fill=\"rgb(0,0,0)\" fill-opacity=\"1.0\">\n",
       "                                                                        <g fill=\"rgb(0,0,0)\" fill-opacity=\"1.0\">\n",
       "                                                                            <path d=\"M 430.8613445378151,279.99999999999994 ZM 431.69117647058823,279.2857142857142 h 1.5336134453781511 v -4.936974789915966 h -1.2184873949579833 v -0.5567226890756302 c 0.46218487394957986,-8.403361344537814e-2 0.8035714285714285,-0.2048319327731092 0.8035714285714285 -0.2048319327731092c 0.34138655462184875,-0.12079831932773108 0.6144957983193278,-0.28886554621848737 0.6144957983193278 -0.28886554621848737h 0.661764705882353 v 5.987394957983192 h 1.3865546218487397 v 0.7142857142857142 h -3.7815126050420167 v -0.7142857142857142 ZM 436.08193277310926,279.99999999999994 ZM 436.50210084033614,279.48529411764696 c 0.7563025210084033,-0.7563025210084032 1.3445378151260505,-1.3655462184873948 1.3445378151260505 -1.3655462184873948c 0.5882352941176471,-0.6092436974789915 0.9873949579831933,-1.1292016806722687 0.9873949579831933 -1.1292016806722687c 0.3991596638655462,-0.5199579831932772 0.6092436974789917,-0.9558823529411763 0.6092436974789917 -0.9558823529411763c 0.21008403361344538,-0.4359243697478991 0.21008403361344538,-0.8455882352941175 0.21008403361344538 -0.8455882352941175c 0.0,-0.5777310924369747 -0.3151260504201681,-0.9453781512605041 -0.3151260504201681 -0.9453781512605041c -0.3151260504201681,-0.3676470588235294 -0.9558823529411765,-0.3676470588235294 -0.9558823529411765 -0.3676470588235294c -0.42016806722689076,0.0 -0.7773109243697479,0.23634453781512602 -0.7773109243697479 0.23634453781512602c -0.35714285714285715,0.23634453781512602 -0.6512605042016807,0.5724789915966386 -0.6512605042016807 0.5724789915966386l -0.49369747899159666,-0.49369747899159655 c 0.42016806722689076,-0.46218487394957974 0.8928571428571429,-0.7405462184873949 0.8928571428571429 -0.7405462184873949c 0.4726890756302521,-0.2783613445378151 1.134453781512605,-0.2783613445378151 1.134453781512605 -0.2783613445378151c 0.9348739495798319,0.0 1.4705882352941178,0.5409663865546218 1.4705882352941178 0.5409663865546218c 0.5357142857142857,0.5409663865546218 0.5357142857142857,1.4338235294117645 0.5357142857142857 1.4338235294117645c 0.0,0.47268907563025203 -0.20483193277310924,0.9506302521008402 -0.20483193277310924 0.9506302521008402c -0.20483193277310924,0.47794117647058815 -0.5672268907563025,0.9873949579831931 -0.5672268907563025 0.9873949579831931c -0.3623949579831933,0.509453781512605 -0.861344537815126,1.060924369747899 -0.861344537815126 1.060924369747899c -0.4989495798319328,0.551470588235294 -1.0976890756302522,1.1712184873949578 -1.0976890756302522 1.1712184873949578c 0.273109243697479,-2.1008403361344536e-2 0.5672268907563025,-4.201680672268907e-2 0.5672268907563025 -4.201680672268907e-2c 0.29411764705882354,-2.1008403361344536e-2 0.5567226890756303,-2.1008403361344536e-2 0.5567226890756303 -2.1008403361344536e-2h 1.9432773109243697 v 0.745798319327731 h -4.327731092436975 v -0.5147058823529411 Z\" />\n",
       "                                                                        </g>\n",
       "                                                                        <g fill=\"rgb(0,0,0)\" fill-opacity=\"1.0\">\n",
       "                                                                        </g>\n",
       "                                                                    </g>\n",
       "                                                                </g>\n",
       "                                                            </g>\n",
       "                                                        </g>\n",
       "                                                    </g>\n",
       "                                                </g>\n",
       "                                            </g>\n",
       "                                        </g>\n",
       "                                    </g>\n",
       "                                </g>\n",
       "                            </g>\n",
       "                        </g>\n",
       "                        <g stroke=\"rgb(0,0,0)\" stroke-opacity=\"0.0\" fill=\"rgb(0,0,0)\" fill-opacity=\"1.0\" stroke-width=\"0.0\" stroke-linecap=\"butt\" stroke-linejoin=\"bevel\" stroke-dasharray=\"\" stroke-dashoffset=\"0.0\">\n",
       "                            <g fill=\"rgb(0,0,0)\" fill-opacity=\"1.0\">\n",
       "                                <g fill=\"rgb(0,0,0)\" fill-opacity=\"1.0\">\n",
       "                                    <g fill=\"rgb(0,0,0)\" fill-opacity=\"1.0\">\n",
       "                                    </g>\n",
       "                                    <g fill=\"rgb(0,0,0)\" fill-opacity=\"1.0\">\n",
       "                                        <g fill=\"rgb(0,0,0)\" fill-opacity=\"1.0\">\n",
       "                                        </g>\n",
       "                                        <g fill=\"rgb(0,0,0)\" fill-opacity=\"1.0\">\n",
       "                                            <g fill=\"rgb(0,0,0)\" fill-opacity=\"1.0\">\n",
       "                                                <path d=\"M 231.3865546218487,286.60714285714283 ZM 232.3319327731092,279.7163865546218 h 3.9705882352941164 v 0.7352941176470588 h -3.098739495798318 v 2.1638655462184873 h 2.615546218487394 v 0.745798319327731 h -2.615546218487394 v 2.4999999999999996 h 3.203781512605041 v 0.745798319327731 h -4.075630252100839 v -6.890756302521007 ZM 239.04411764705878,286.60714285714283 ZM 241.29201680672264,288.45588235294116 c -0.6512605042016805,-1.0504201680672267 -1.0189075630252098,-2.2163865546218484 -1.0189075630252098 -2.2163865546218484c -0.3676470588235293,-1.1659663865546217 -0.3676470588235293,-2.552521008403361 -0.3676470588235293 -2.552521008403361c 0.0,-1.3865546218487395 0.3676470588235293,-2.547268907563025 0.3676470588235293 -2.547268907563025c 0.3676470588235293,-1.1607142857142856 1.0189075630252098,-2.2216386554621845 1.0189075630252098 -2.2216386554621845l 0.5357142857142856,0.2521008403361344 c -0.6092436974789914,1.0084033613445376 -0.9086134453781509,2.158613445378151 -0.9086134453781509 2.158613445378151c -0.2993697478991596,1.1502100840336134 -0.2993697478991596,2.358193277310924 -0.2993697478991596 2.358193277310924c 0.0,1.2079831932773109 0.2993697478991596,2.358193277310924 0.2993697478991596 2.358193277310924c 0.2993697478991596,1.1502100840336134 0.9086134453781509,2.158613445378151 0.9086134453781509 2.158613445378151l -0.5357142857142856,0.2521008403361344 h 0.0 ZM 242.22689075630248,286.60714285714283 ZM 243.0882352941176,279.1281512605042 h 0.8508403361344535 v 5.063025210084033 h 3.15126050420168e-2 l 2.174369747899159,-2.6890756302521006 h 0.9558823529411762 l -1.7121848739495793,2.0483193277310923 l 1.943277310924369,3.0567226890756296 h -0.945378151260504 l -1.4915966386554618,-2.4579831932773106 l -0.9558823529411762,1.1134453781512603 v 1.3445378151260503 h -0.8508403361344535 v -7.478991596638655 ZM 247.23739495798316,286.60714285714283 ZM 247.72058823529406,284.06512605042013 c 0.0,-0.6302521008403361 0.1943277310924369,-1.1292016806722687 0.1943277310924369 -1.1292016806722687c 0.1943277310924369,-0.4989495798319327 0.514705882352941,-0.8455882352941175 0.514705882352941 -0.8455882352941175c 0.3203781512605041,-0.34663865546218486 0.7300420168067225,-0.5304621848739495 0.7300420168067225 -0.5304621848739495c 0.40966386554621836,-0.1838235294117647 0.8508403361344535,-0.1838235294117647 0.8508403361344535 -0.1838235294117647c 0.4831932773109242,0.0 0.8665966386554619,0.1680672268907563 0.8665966386554619 0.1680672268907563c 0.3834033613445377,0.1680672268907563 0.6407563025210082,0.4831932773109243 0.6407563025210082 0.4831932773109243c 0.2573529411764705,0.31512605042016806 0.39390756302520996,0.7563025210084032 0.39390756302520996 0.7563025210084032c 0.13655462184873945,0.4411764705882352 0.13655462184873945,0.9873949579831931 0.13655462184873945 0.9873949579831931c 0.0,0.28361344537815125 -3.15126050420168e-2,0.47268907563025203 -3.15126050420168e-2 0.47268907563025203h -3.445378151260503 c 5.2521008403361324e-2,0.8298319327731091 0.5094537815126049,1.3130252100840334 0.5094537815126049 1.3130252100840334c 0.4569327731092436,0.4831932773109243 1.1922268907563023,0.4831932773109243 1.1922268907563023 0.4831932773109243c 0.3676470588235293,0.0 0.6775210084033612,-0.1102941176470588 0.6775210084033612 -0.1102941176470588c 0.30987394957983183,-0.1102941176470588 0.5934873949579831,-0.28886554621848737 0.5934873949579831 -0.28886554621848737l 0.3046218487394957,0.5672268907563025 c -0.3361344537815125,0.21008403361344535 -0.7457983193277309,0.3676470588235294 -0.7457983193277309 0.3676470588235294c -0.40966386554621836,0.15756302521008403 -0.9348739495798316,0.15756302521008403 -0.9348739495798316 0.15756302521008403c -0.514705882352941,0.0 -0.9611344537815123,-0.1838235294117647 -0.9611344537815123 -0.1838235294117647c -0.4464285714285713,-0.1838235294117647 -0.7773109243697476,-0.5252100840336134 -0.7773109243697476 -0.5252100840336134c -0.3308823529411764,-0.3413865546218487 -0.5199579831932771,-0.8350840336134452 -0.5199579831932771 -0.8350840336134452c -0.18907563025210078,-0.49369747899159655 -0.18907563025210078,-1.1239495798319326 -0.18907563025210078 -1.1239495798319326ZM 247.72058823529406,284.06512605042013 ZM 251.29201680672264,283.67647058823525 c 0.0,-0.78781512605042 -0.3308823529411764,-1.2027310924369747 -0.3308823529411764 -1.2027310924369747c -0.3308823529411764,-0.41491596638655454 -0.9296218487394955,-0.41491596638655454 -0.9296218487394955 -0.41491596638655454c -0.2731092436974789,0.0 -0.5199579831932771,0.1102941176470588 -0.5199579831932771 0.1102941176470588c -0.24684873949579825,0.1102941176470588 -0.4464285714285713,0.31512605042016806 -0.4464285714285713 0.31512605042016806c -0.19957983193277304,0.2048319327731092 -0.3308823529411764,0.5042016806722688 -0.3308823529411764 0.5042016806722688c -0.1313025210084033,0.29936974789915966 -0.1733193277310924,0.6880252100840336 -0.1733193277310924 0.6880252100840336h 2.731092436974789 ZM 252.27941176470583,286.60714285714283 ZM 252.27941176470583,279.7163865546218 h 0.9348739495798316 l 1.1029411764705879,3.7184873949579824 c 0.18907563025210078,0.6197478991596638 0.3308823529411764,1.1449579831932772 0.3308823529411764 1.1449579831932772c 0.1418067226890756,0.5252100840336134 0.34138655462184864,1.134453781512605 0.34138655462184864 1.134453781512605h 4.2016806722689065e-2 c 0.18907563025210078,-0.6092436974789915 0.3361344537815125,-1.134453781512605 0.3361344537815125 -1.134453781512605c 0.14705882352941171,-0.5252100840336134 0.32563025210084023,-1.1449579831932772 0.32563025210084023 -1.1449579831932772l 1.1029411764705879,-3.7184873949579824 h 0.8928571428571426 l -2.1848739495798313,6.890756302521007 h -1.0189075630252098 ZM 257.68907563025203,286.60714285714283 ZM 258.0882352941176,288.203781512605 c 0.6092436974789914,-1.0084033613445376 0.9086134453781509,-2.158613445378151 0.9086134453781509 -2.158613445378151c 0.2993697478991596,-1.1502100840336134 0.2993697478991596,-2.358193277310924 0.2993697478991596 -2.358193277310924c 0.0,-1.2079831932773109 -0.2993697478991596,-2.358193277310924 -0.2993697478991596 -2.358193277310924c -0.2993697478991596,-1.1502100840336134 -0.9086134453781509,-2.158613445378151 -0.9086134453781509 -2.158613445378151l 0.5357142857142856,-0.2521008403361344 c 0.6512605042016805,1.060924369747899 1.0189075630252098,2.2216386554621845 1.0189075630252098 2.2216386554621845c 0.3676470588235293,1.1607142857142856 0.3676470588235293,2.547268907563025 0.3676470588235293 2.547268907563025c 0.0,1.3865546218487395 -0.3676470588235293,2.552521008403361 -0.3676470588235293 2.552521008403361c -0.3676470588235293,1.1659663865546217 -1.0189075630252098,2.2163865546218484 -1.0189075630252098 2.2163865546218484l -0.5357142857142856,-0.2521008403361344 h 0.0 Z\" />\n",
       "                                            </g>\n",
       "                                            <g fill=\"rgb(0,0,0)\" fill-opacity=\"1.0\">\n",
       "                                            </g>\n",
       "                                        </g>\n",
       "                                    </g>\n",
       "                                </g>\n",
       "                            </g>\n",
       "                        </g>\n",
       "                    </g>\n",
       "                </g>\n",
       "            </g>\n",
       "        </g>\n",
       "    </g>\n",
       "</svg>\n"
      ],
      "text/plain": [
       "<?xml version=\"1.0\" encoding=\"UTF-8\"?>\n",
       "<!DOCTYPE svg PUBLIC \"-//W3C//DTD SVG 1.1//EN\"\n",
       "    \"http://www.w3.org/Graphics/SVG/1.1/DTD/svg11.dtd\">\n",
       "\n",
       "<svg xmlns=\"http://www.w3.org/2000/svg\" xmlns:xlink=\"http://www.w3.org/1999/xlink\" version=\"1.1\" width=\"450.0\" height=\"300.0\" font-size=\"1\" viewBox=\"0 0 450 300\" stroke=\"rgb(0,0,0)\" stroke-opacity=\"1\">\n",
       "    <g>\n",
       "        <g fill=\"rgb(0,0,0)\" fill-opacity=\"0.0\">\n",
       "            <g stroke=\"rgb(0,0,0)\" stroke-opacity=\"1.0\" stroke-width=\"1.4696938456699067\" stroke-linecap=\"butt\" stroke-linejoin=\"miter\" font-size=\"1.0em\" stroke-miterlimit=\"10.0\">\n",
       "                <g stroke=\"rgb(0,0,0)\" stroke-opacity=\"1.0\" stroke-width=\"0.9999999999999998\" stroke-linecap=\"butt\" stroke-linejoin=\"bevel\" stroke-dasharray=\"\" stroke-dashoffset=\"0.0\">\n",
       "                    <g stroke=\"rgb(0,0,0)\" stroke-opacity=\"0.0\" fill=\"rgb(255,255,255)\" fill-opacity=\"1.0\" stroke-width=\"0.0\" stroke-linecap=\"butt\" stroke-linejoin=\"bevel\" stroke-dasharray=\"\" stroke-dashoffset=\"0.0\">\n",
       "                        <g fill=\"rgb(255,255,255)\" fill-opacity=\"1.0\">\n",
       "                            <g fill=\"rgb(255,255,255)\" fill-opacity=\"1.0\">\n",
       "                                <path d=\"M 0.0,2.842170943040401e-14 v 299.99999999999994 h 449.9999999999999 v -299.99999999999994 Z\" />\n",
       "                            </g>\n",
       "                        </g>\n",
       "                    </g>\n",
       "                    <g stroke=\"rgb(0,0,0)\" stroke-opacity=\"0.0\" fill=\"rgb(0,0,0)\" fill-opacity=\"1.0\" stroke-width=\"0.0\" stroke-linecap=\"butt\" stroke-linejoin=\"bevel\" stroke-dasharray=\"\" stroke-dashoffset=\"0.0\">\n",
       "                        <g fill=\"rgb(0,0,0)\" fill-opacity=\"1.0\">\n",
       "                            <g fill=\"rgb(0,0,0)\" fill-opacity=\"1.0\">\n",
       "                                <g fill=\"rgb(0,0,0)\" fill-opacity=\"1.0\">\n",
       "                                </g>\n",
       "                                <g fill=\"rgb(0,0,0)\" fill-opacity=\"1.0\">\n",
       "                                    <g fill=\"rgb(0,0,0)\" fill-opacity=\"1.0\">\n",
       "                                    </g>\n",
       "                                    <g fill=\"rgb(0,0,0)\" fill-opacity=\"1.0\">\n",
       "                                        <g fill=\"rgb(0,0,0)\" fill-opacity=\"1.0\">\n",
       "                                            <path d=\"M 212.04055441478434,14.101642710472305 ZM 217.47689938398352,9.943531827515427 l -0.23100616016427097,-0.9240246406570839 c -0.2156057494866529,-0.7546201232032852 -0.41581108829568775,-1.6016427104722788 -0.41581108829568775 -1.6016427104722788c -0.20020533880903485,-0.8470225872689936 -0.4004106776180697,-1.6324435318275148 -0.4004106776180697 -1.6324435318275148h -6.160164271047226e-2 c -0.1848049281314168,0.8008213552361394 -0.3773100616016426,1.640143737166324 -0.3773100616016426 1.640143737166324c -0.1925051334702258,0.8393223819301845 -0.4081108829568787,1.5939425051334697 -0.4081108829568787 1.5939425051334697l -0.24640657084188905,0.9240246406570839 h 2.140657084188911 ZM 217.47689938398352,9.943531827515427 ZM 217.93891170431206,11.714579055441506 h -3.064681724845995 l -0.6160164271047227,2.3870636550308 h -2.31006160164271 l 3.141683778234085,-10.04106776180698 h 2.725872689938398 l 3.141683778234085,10.04106776180698 h -2.4024640657084184 ZM 220.8649897330595,14.101642710472305 ZM 224.31468172484594,8.680698151950747 h 1.170431211498973 c 0.8932238193018478,0.0 1.362936344969199,-0.3773100616016426 1.362936344969199 -0.3773100616016426c 0.469712525667351,-0.3773100616016426 0.469712525667351,-1.1165297741273097 0.469712525667351 -1.1165297741273097c 0.0,-0.7392197125256672 -0.469712525667351,-1.0318275154004104 -0.469712525667351 -1.0318275154004104c -0.469712525667351,-0.29260780287474325 -1.362936344969199,-0.29260780287474325 -1.362936344969199 -0.29260780287474325h -1.170431211498973 v 2.818275154004106 ZM 224.31468172484594,8.680698151950747 ZM 227.48716632443526,14.101642710472305 l -1.9250513347022582,-3.6190965092402454 h -1.2474332648870634 v 3.6190965092402454 h -2.263860369609856 v -10.04106776180698 h 3.6190965092402454 c 0.8008213552361394,0.0 1.5015400410677613,0.15400410677618068 1.5015400410677613 0.15400410677618068c 0.700718685831622,0.15400410677618068 1.2243326488706363,0.5159137577002052 1.2243326488706363 0.5159137577002052c 0.5236139630390142,0.36190965092402455 0.8316221765913755,0.9625256673511291 0.8316221765913755 0.9625256673511291c 0.30800821355236135,0.6006160164271046 0.30800821355236135,1.4938398357289524 0.30800821355236135 1.4938398357289524c 0.0,1.1088295687885008 -0.48511293634496905,1.8249486652977407 -0.48511293634496905 1.8249486652977407c -0.48511293634496905,0.7161190965092401 -1.3013347022587267,1.0703285420944555 -1.3013347022587267 1.0703285420944555l 2.2792607802874736,4.019507186858315 h -2.541067761806981 ZM 230.35164271047222,14.101642710472305 ZM 231.5374743326488,4.060574948665326 h 6.329568788501025 v 1.9096509240246402 h -4.06570841889117 v 2.325462012320328 h 3.480492813141683 v 1.9096509240246402 h -3.480492813141683 v 3.8963039014373706 h -2.263860369609856 v -10.04106776180698 Z\" />\n",
       "                                        </g>\n",
       "                                        <g fill=\"rgb(0,0,0)\" fill-opacity=\"1.0\">\n",
       "                                        </g>\n",
       "                                    </g>\n",
       "                                </g>\n",
       "                            </g>\n",
       "                        </g>\n",
       "                    </g>\n",
       "                    <g>\n",
       "                        <g>\n",
       "                            <g stroke=\"rgb(211,211,211)\" stroke-opacity=\"1.0\" stroke-width=\"0.9999999999999998\" stroke-linecap=\"butt\" stroke-linejoin=\"miter\" stroke-dasharray=\"4.999999999999999,4.999999999999999\" stroke-dashoffset=\"0.0\">\n",
       "                                <g>\n",
       "                                    <path d=\"M 55.021008403361336,35.00000000000002 v 224.99999999999994 \" />\n",
       "                                </g>\n",
       "                                <g>\n",
       "                                    <path d=\"M 118.42261904761904,35.00000000000002 v 224.99999999999994 \" />\n",
       "                                </g>\n",
       "                                <g>\n",
       "                                    <path d=\"M 181.82422969187672,35.00000000000002 v 224.99999999999994 \" />\n",
       "                                </g>\n",
       "                                <g>\n",
       "                                    <path d=\"M 245.2258403361344,35.00000000000002 v 224.99999999999994 \" />\n",
       "                                </g>\n",
       "                                <g>\n",
       "                                    <path d=\"M 308.6274509803921,35.00000000000002 v 224.99999999999994 \" />\n",
       "                                </g>\n",
       "                                <g>\n",
       "                                    <path d=\"M 372.02906162464984,35.00000000000002 v 224.99999999999994 \" />\n",
       "                                </g>\n",
       "                                <g>\n",
       "                                    <path d=\"M 435.43067226890753,35.00000000000002 v 224.99999999999994 \" />\n",
       "                                </g>\n",
       "                            </g>\n",
       "                            <g stroke=\"rgb(211,211,211)\" stroke-opacity=\"1.0\" stroke-width=\"0.9999999999999998\" stroke-linecap=\"butt\" stroke-linejoin=\"miter\" stroke-dasharray=\"4.999999999999999,4.999999999999999\" stroke-dashoffset=\"0.0\">\n",
       "                                <g>\n",
       "                                    <path d=\"M 55.021008403361336,259.99999999999994 h 380.4096638655462 \" />\n",
       "                                </g>\n",
       "                                <g>\n",
       "                                    <path d=\"M 55.021008403361336,203.75 h 380.4096638655462 \" />\n",
       "                                </g>\n",
       "                                <g>\n",
       "                                    <path d=\"M 55.021008403361336,147.5 h 380.4096638655462 \" />\n",
       "                                </g>\n",
       "                                <g>\n",
       "                                    <path d=\"M 55.021008403361336,91.25 h 380.4096638655462 \" />\n",
       "                                </g>\n",
       "                                <g>\n",
       "                                    <path d=\"M 55.021008403361336,35.00000000000002 h 380.4096638655462 \" />\n",
       "                                </g>\n",
       "                            </g>\n",
       "                            <g stroke=\"rgb(0,0,255)\" stroke-opacity=\"1.0\" stroke-width=\"0.9999999999999998\" stroke-linecap=\"round\" stroke-linejoin=\"round\" stroke-dasharray=\"\" stroke-dashoffset=\"0.0\">\n",
       "                                <g clip-path=\"url(#myClip1)\">\n",
       "                                    <clipPath id=\"myClip1\">\n",
       "                                        <path d=\"M 55.021008403361336,35.00000000000002 v 224.99999999999994 h 380.4096638655462 v -224.99999999999994 Z\" />\n",
       "                                    </clipPath>\n",
       "                                    <path d=\"M 64.53125037790304,258.62909105420107 h 0.3170077508988491 v -2.799820929765701 h 0.3170077508988491 v -1.8205397129058833 h 0.31700869565647233 v -2.028560578823089 h 0.3170077508988491 v -1.9360908865928645 h 0.3170077508988491 v -1.7278554439544673 h 0.31700869565647233 v -1.5016304254531856 h 0.3170077508988491 v -1.7403877973556514 h 0.3170077508988491 v -2.245765328407287 h 0.3170077508988491 v -2.3214690685272212 h 0.31700869565647233 v -1.0104804039001463 h 0.3170077508988491 v -1.960621833801269 h 0.31700775089885086 v -4.057469844818114 h 0.3170086956564688 v -3.3107450008392325 h 0.31700775089885086 v -2.800906419754028 h 0.3170077508988491 v -3.3227849006652823 h 0.31700869565647233 v -3.103985309600829 h 0.3170077508988491 v -3.154977321624755 h 0.31700775089885086 v -3.0192618370056143 h 0.3170086956564688 v -3.0122666358947745 h 0.31700775089885086 v -3.4225502014160147 h 0.31700775089885086 v -3.5111489295959464 h 0.3170077508988491 v -3.5925164222717276 h 0.3170077508988491 v 10.56045341491699 h 0.317009640414092 v 9.474609374999998 h 0.3170077508988491 v -6.657972335815428 h 0.3170077508988491 v -3.321793556213378 h 0.31700775089885264 v -5.496013641357421 h 0.3170077508988491 v -3.205111026763915 h 0.3170077508988491 v -3.024411678314208 h 0.317009640414092 v -3.171757221221923 h 0.3170077508988491 v -2.820649623870849 h 0.3170077508988491 v -3.0569329261779776 h 0.3170077508988491 v -3.225641727447509 h 0.3170077508988491 v -2.872384071350097 h 0.31700775089885264 v -2.9993448257446285 h 0.317009640414092 v -2.913067817687988 h 0.31700775089884553 v -3.062988281249999 h 0.31700775089885264 v -2.746573448181152 h 0.31700775089885264 v 15.921352386474606 h 0.31700775089884553 v -11.042049407958983 h 0.31700775089885264 v -3.6556921005249015 h 0.317009640414092 v -1.6732606887817378 h 0.31700775089884553 v -3.0159273147583 h 0.31700775089885264 v -3.233276367187499 h 0.3170077508988491 v -3.2196636199951163 h 0.3170077508988491 v -3.1207523345947257 h 0.31700775089885264 v -3.017669677734374 h 0.31700775089884553 v -3.038097381591796 h 0.317009640414092 v -2.9033603668212886 h 0.31700775089885264 v -2.7289352416992183 h 0.31700775089884553 v -2.5822935104370113 h 0.31700775089885264 v -2.4425096511840816 h 0.3170077508988491 v -2.331710815429687 h 0.31700775089885264 v -2.365116119384765 h 0.31700964041408847 v -2.0999679565429683 h 0.3170077508988491 v -2.1767606735229488 h 0.31700775089885264 v -2.040547370910644 h 0.3170077508988491 v -1.9573173522949214 h 0.31700775089885264 v -1.8630151748657222 h 0.31700775089884553 v -1.7348184585571285 h 0.317009640414092 v -1.5359659194946285 h 0.31700775089885264 v -1.5078821182250972 h 0.31700775089884553 v -1.4693441390991209 h 0.31700775089885264 v -1.5556125640869136 h 0.3170077508988491 v -1.5279321670532222 h 0.31700775089885264 v -1.5273227691650386 h 0.31700964041408847 v -1.5393047332763667 h 0.3170077508988491 v -1.3735141754150388 h 0.31700775089885264 v -1.31205940246582 h 0.3170077508988491 v -1.2936229705810545 h 0.3170077508988491 v -1.3883457183837888 h 0.31700775089885264 v -1.3993663787841795 h 0.31700775089884553 v -1.4247035980224607 h 0.31700775089885264 v -1.3792648315429685 h 0.31700775089884553 v -1.3216896057128904 h 0.31700775089885264 v -1.2261772155761717 h 0.3170115299293314 v -1.1137733459472654 h 0.31700775089885264 v -1.0736045837402342 h 0.31700775089884553 v -1.0417785644531248 h 0.31700775089885264 v -1.1348361968994138 h 0.31700775089884553 v -1.2203063964843748 h 0.31700775089885264 v -1.17308235168457 h 0.31700775089885264 v -1.0774154663085935 h 0.31700775089885264 v -1.068489074707031 h 0.31700775089884553 v -1.0948390960693357 h 0.31700775089885264 v -0.9801692962646482 h 0.31700775089884553 v -0.8574657440185545 h 0.31700775089885264 v -0.8407287597656248 h 0.3170115299293314 v -0.8563327789306638 h 0.31700775089885264 v -0.827116012573242 h 0.31700775089884553 v -0.7986545562744138 h 0.31700775089885264 v -0.8151683807373045 h 0.31700775089884553 v -0.822446823120117 h 0.31700775089885264 v -0.8048343658447263 h 0.31700775089885264 v -0.6973400115966796 h 0.31700775089884553 v -0.6900787353515624 h 0.31700775089885264 v -0.7028503417968749 h 0.31700775089884553 v -0.6678314208984374 h 0.31700775089885264 v -0.6396789550781249 h 0.31700775089885264 v -0.5000839233398436 h 0.31700775089885264 v -0.5785846710205077 h 0.3170115299293314 v -0.6194572448730468 h 0.31700775089884553 v -0.6235256195068358 h 0.31700775089884553 v -0.6093292236328124 h 0.31700775089885264 v -0.5999736785888671 h 0.31700775089885264 v -0.626443862915039 h 0.31700775089885264 v -0.6608276367187499 h 0.31700775089885264 v -0.6025657653808593 h 0.3170077508988384 v -0.5333862304687499 h 0.31700775089885264 v -0.46400070190429676 h 0.31700775089885264 v -0.4518299102783202 h 0.31700775089885264 v -0.44062042236328114 h 0.31700775089884553 v -0.4533405303955077 h 0.3170115299293385 v -0.42400360107421864 h 0.3170077508988384 v -0.3894481658935546 h 0.31700775089885264 v -0.3765907287597655 h 0.31700775089885264 v -0.36601638793945307 h 0.31700775089885264 v -0.3816375732421874 h 0.31700775089884553 v -0.396778106689453 h 0.31700775089885264 v -0.33245658874511713 h 0.31700775089885264 v -0.25982666015624994 h 0.31700775089884553 v -0.3553218841552734 h 0.31700775089885264 v -0.243295669555664 h 0.31700775089885264 v -0.3521633148193359 h 0.31700775089885264 v 14.330291748046871 h 0.3170077508988384 v 16.473793029785153 h 0.3170115299293385 v -6.592311859130858 h 0.31700775089884553 v -3.7010364532470694 h 0.31700775089885264 v 2.862848281860351 h 0.31700775089885264 v -1.3058109283447263 h 0.31700775089885264 v -3.231285095214843 h 0.3170077508988384 v 0.9252033233642576 h 0.31700775089885264 v 1.1102027893066404 h 0.31700775089885264 v -0.7851619720458982 h 0.31700775089885264 v -1.4323940277099607 h 0.31700775089884553 v -0.695108413696289 h 0.31700775089885264 v 0.6083679199218749 h 0.31700775089885264 v 0.2617149353027343 h 0.3170115299293243 v -0.1011085510253906 h 0.31700775089885264 v -0.4537181854248046 h 0.31700775089885264 v -0.426990509033203 h 0.31700775089884553 v -0.15392875671386716 h 0.31700775089885264 v 4.212570190429687e-2 h 0.31700775089885264 v 0.13264274597167966 h 0.31700775089884553 v 0.12163925170898435 h 0.31700775089885264 v -0.3362331390380859 h 0.31700775089885264 v -0.19186592102050776 h 0.31700775089885264 v -0.2225589752197265 h 0.3170077508988384 v 0.7437400817871093 h 0.31700775089885264 v 0.5962142944335936 h 0.31700775089885264 v -0.4777851104736327 h 0.3170115299293314 v 1.1184425354003904 h 0.31700775089885264 v -3.330110549926757 h 0.31700775089885264 v 4.046539306640624 h 0.3170077508988384 v 0.8365402221679685 h 0.31700775089885264 v -0.4813385009765624 h 0.31700775089885264 v -1.515254974365234 h 0.31700775089885264 v -0.7439289093017577 h 0.31700775089884553 v -0.4328613281249999 h 0.31700775089885264 v -0.32380485534667963 h 0.31700775089885264 v -0.306192398071289 h 0.31700775089885264 v -0.29843330383300776 h 0.31700775089884553 v -0.2914981842041015 h 0.3170115299293314 v -0.16915512084960935 h 0.31700775089884553 v -0.1418952941894531 h 0.31700775089885264 v 0.22523689270019526 h 0.31700775089885264 v 0.3878002166748046 h 0.31700775089885264 v 0.7108840942382811 h 0.31700775089884553 v 1.0868053436279295 h 0.31700775089885264 v 1.5528144836425777 h 0.31700775089885264 v 2.0694808959960933 h 0.31700775089884553 v 2.636478424072265 h 0.31700775089885264 v 2.6342468261718746 h 0.31700775089885264 v 5.302602767944335 h 0.31700775089885264 v 14.017842292785641 h 0.3170077508988384 v 16.09301376342773 h 0.31700775089885264 v 21.319664955139157 h 0.31700775089885264 v 8.293931007385252 h 0.31700775089885264 v -2.427918434143066 h 0.3170077508988384 v -1.121721267700195 h 0.31700775089885264 v 0.14869308471679685 h 0.31700775089885264 v 4.3305273056030265 h 0.31701530895981017 v 3.928290367126464 h 0.31700775089885264 v 3.1674785614013663 h 0.31700775089885264 v 4.919583320617675 h 0.31700775089885264 v -1.8039979934692378 h 0.31700775089885264 v -3.4198293685913077 h 0.3170077508988384 v -0.3423700332641601 h 0.31700775089885264 v -2.1225414276123042 h 0.31700775089885264 v -1.6063470840454097 h 0.31700775089885264 v -2.8146028518676753 h 0.3170077508988384 v -1.514980316162109 h 0.31700775089885264 v -1.2613162994384763 h 0.31700775089885264 v -0.5247173309326171 h 0.31700775089885264 v 0.6387348175048827 h 0.31700775089885264 v -0.9029560089111326 h 0.31700775089885264 v -2.330268859863281 h 0.31700775089885264 v -1.6827020645141597 h 0.3170077508988384 v -1.087964057922363 h 0.31700775089885264 v -0.13005065917968747 h 0.31700775089885264 v -0.2555007934570312 h 0.31700775089885264 v 0.4798622131347655 h 0.3170077508988384 v -1.0605583190917967 h 0.31700775089885264 v -1.414361000061035 h 0.31700775089885264 v -0.843569755554199 h 0.31700775089885264 v -1.2315073013305662 h 0.31700775089885264 v -0.5083322525024413 h 0.31701530895981017 v 0.14339733123779294 h 0.31700775089885264 v 0.29919719696044916 h 0.31700775089885264 v -0.271860122680664 h 0.3170077508988384 v -0.8795585632324217 h 0.31700775089885264 v -0.6525020599365233 h 0.31700775089885264 v -0.34582901000976557 h 0.31700775089885264 v -0.2783403396606445 h 0.3170077508988384 v -0.26510524749755854 h 0.31700775089885264 v 0.14053058624267575 h 0.31700775089885264 v 0.4578123092651366 h 0.31700775089885264 v 0.3796977996826171 h 0.31700775089885264 v 0.3744449615478515 h 0.31700775089885264 v 0.239450454711914 h 0.31700775089885264 v 0.20356464385986323 h 0.3170077508988384 v 0.7292089462280272 h 0.31700775089885264 v 1.978826522827148 h 0.31700775089885264 v 6.72842216491699 h 0.31700775089885264 v 0.7704677581787107 h 0.3170077508988384 v -4.101076126098632 h 0.31700775089885264 v -1.3649997711181638 h 0.31700775089885264 v -0.7241363525390624 h 0.31700775089885264 v -1.1176357269287107 h 0.31700775089885264 v -0.33209609985351557 h 0.31700775089885264 v -1.0046310424804685 h 0.31700775089885264 v -0.6937007904052733 h 0.31701530895981017 v -0.6616773605346679 h 0.31700775089885264 v -0.2175378799438476 h 0.3170077508988384 v -0.14531135559082028 h 0.31700775089885264 v -0.25395584106445307 h 0.31700775089885264 v -0.2574577331542968 h 0.3170077508988384 v -0.40398788452148426 h 0.31700775089885264 v -0.511859893798828 h 0.31700775089885264 v -0.1461524963378906 h 0.31700775089885264 v -0.17140388488769528 h 0.31700775089885264 v -0.3162174224853515 h 0.31700775089885264 v -0.3310146331787109 h 0.31700775089885264 v -0.257303237915039 h 0.3170077508988384 v -0.32207107543945307 h 0.31700775089886685 v -0.35540771484374994 h 0.3170077508988384 v -0.21754646301269526 h 0.3170077508988384 v -0.10038757324218747 h 0.31700775089886685 v -1.938056945800781e-2 h 0.3170077508988384 v 1.3372421264648434e-2 h 0.31700775089885264 v -3.752517700195312e-2 h 0.31700775089885264 v -0.1380672454833984 h 0.31700775089885264 v -0.2550888061523437 h 0.31700775089885264 v -0.2589340209960937 h 0.31700775089885264 v -0.1728715896606445 h 0.3170077508988384 v -1.6548156738281247e-2 h 0.31700775089886685 v 0.2131261825561523 h 0.31701530895981017 v 0.4596920013427733 h 0.3170077508988384 v 0.8717136383056638 h 0.3170077508988384 v 2.026891708374023 h 0.31700775089886685 v -0.37746620178222645 h 0.3170077508988384 v -1.0274705886840818 h 0.31700775089885264 v -0.47652339935302723 h 0.31700775089885264 v -0.31518745422363276 h 0.31700775089885264 v -0.24772453308105463 h 0.31700775089885264 v -0.12640285491943357 h 0.31700775089885264 v -0.23671245574951166 h 0.3170077508988384 v -0.34338283538818354 h 0.31700775089886685 v -0.3357782363891601 h 0.3170077508988384 v -0.21255111694335932 h 0.3170077508988384 v -0.1998052597045898 h 0.31700775089886685 v -0.2183446884155273 h 0.3170077508988384 v -0.13274574279785153 h 0.31700775089885264 v -0.12466049194335935 h 0.31700775089885264 v -0.1427192687988281 h 0.31700775089885264 v -8.843135833740233e-2 h 0.31700775089885264 v -5.727481842041014e-2 h 0.31700775089885264 v -6.692218780517577e-2 h 0.3170077508988384 v -9.95378494262695e-2 h 0.31700775089886685 v -0.11494445800781247 h 0.3170077508988384 v -0.12888336181640622 h 0.3170077508988384 v -8.773612976074217e-2 h 0.31701530895981017 v 2.580070495605468e-2 h 0.31700775089886685 v 0.11417198181152341 h 0.3170077508988384 v 0.2693710327148437 h 0.31700775089885264 v 0.5412912368774413 h 0.31700775089885264 v 0.8604955673217771 h 0.31700775089885264 v 0.6703205108642577 h 0.31700775089885264 v -0.5690746307373046 h 0.31700775089885264 v -0.42003822326660145 h 0.3170077508988384 v -0.2426691055297851 h 0.31700775089886685 v -0.5340642929077147 h 0.3170077508988384 v -0.25207614898681635 h 0.3170077508988384 v -0.10597515106201169 h 0.31700775089886685 v -0.21069717407226557 h 0.3170077508988384 v -0.21994113922119135 h 0.31700775089885264 v -0.20842266082763666 h 0.31700775089885264 v -0.14874458312988278 h 0.31700775089885264 v -0.1487789154052734 h 0.31700775089885264 v -8.629417419433592e-2 h 0.31700775089885264 v -2.3397445678710934e-2 h 0.3170077508988384 v -2.324295043945312e-2 h 0.31700775089886685 v -0.17456245422363278 h 0.3170077508988384 v -0.17461395263671872 h 0.3170077508988384 v -0.18459606170654294 h 0.31700775089886685 v -0.19456958770751948 h 0.3170077508988384 v -0.19467258453369135 h 0.31701530895981017 v -4.043483734130859e-2 h 0.31700775089886685 v -4.0460586547851556e-2 h 0.3170077508988384 v -8.704948425292967e-2 h 0.31700775089885264 v -0.13372421264648435 h 0.31700775089885264 v -0.13372421264648435 h 0.31700775089885264 v 1.0771751403808592e-2 h 0.3170077508988384 v 1.0814666748046873e-2 h 0.31700775089886685 v -2.9500007629394524e-2 h 0.3170077508988384 v -6.94456100463867e-2 h 0.3170077508988384 v -6.93683624267578e-2 h 0.31700775089886685 v -7.803726196289061e-2 h 0.3170077508988384 v -7.80973434448242e-2 h 0.31700775089885264 v -7.553100585937499e-2 h 0.31700775089885264 v -7.293033599853514e-2 h 0.31700775089885264 v -7.298183441162108e-2 h 0.31700775089885264 v -3.0959129333496087e-2 h 0.31700775089885264 v -3.1002044677734368e-2 h 0.3170077508988384 v -3.7808418273925774e-2 h 0.31700775089886685 v -4.465770721435546e-2 h 0.3170077508988384 v -4.476070404052734e-2 h 0.3170077508988384 v -6.7377090454101545e-3 h 0.31700775089886685 v -6.857872009277342e-3 h 0.3170077508988384 v -2.7757644653320306e-2 h 0.31700775089885264 v -4.8734664916992174e-2 h 0.31700775089885264 v -4.8803329467773424e-2 h 0.31701530895981017 v -6.4630508422851545e-3 h 0.31700775089885264 v -3.4074783325195304e-3 h 0.31700775089885264 v 1.871109008789062e-3 h 0.31700775089885264 v 7.407188415527342e-3 h 0.3170077508988384 v 7.407188415527342e-3 h 0.31700775089886685 v -2.8006553649902337e-2 h 0.3170077508988384 v -2.3646354675292962e-2 h 0.3170077508988384 v 1.2874603271484372e-4 h 0.31700775089886685 v 4.471778869628905e-3 h 0.3170077508988384 v 4.634857177734374e-3 h 0.31700775089886685 v 5.0725936889648424e-2 h 0.3170077508988384 v 5.070877075195311e-2 h 0.31700775089885264 v 4.150772094726562e-2 h 0.31700775089885264 v 3.211784362792968e-2 h 0.31700775089885264 v 3.218650817871093e-2 h 0.3170077508988384 v 2.4787902832031243e-2 h 0.31700775089886685 v 2.477073669433593e-2 h 0.3170077508988384 v 4.166221618652343e-2 h 0.3170077508988384 v 5.846786499023436e-2 h 0.31700775089886685 v 5.8502197265624986e-2 h 0.3170077508988384 v -1.2016296386718747e-4 h 0.31700775089886685 v -1.8882751464843745e-4 h 0.3170077508988384 v 3.280448913574218e-2 h 0.31700775089885264 v 6.588363647460936e-2 h 0.31700775089885264 v 6.583213806152342e-2 h 0.31701530895981017 v 4.367923736572265e-2 h 0.31700775089885264 v 4.373073577880859e-2 h 0.3170077508988384 v 5.1773071289062486e-2 h 0.31700775089886685 v 5.9858322143554674e-2 h 0.3170077508988384 v 5.9858322143554674e-2 h 0.3170077508988384 v -1.1767387390136715e-2 h 0.31700775089886685 v -1.1784553527832028e-2 h 0.3170077508988384 v -1.2462615966796872e-2 h 0.31700775089886685 v -1.317501068115234e-2 h 0.3170077508988384 v -1.3192176818847653e-2 h 0.31700775089885264 v -6.351470947265624e-4 h 0.31700775089885264 v -6.694793701171874e-4 h 0.31700775089885264 v -1.7578124999999997e-2 h 0.31701530895981017 v -3.452110290527343e-2 h 0.3170001928378951 v -3.4555435180664056e-2 h 0.31701530895981017 v 0.1229438781738281 h 0.3170001928378809 v 0.14126014709472653 h 0.31701530895981017 v 0.118351936340332 h 0.3170001928378951 v 9.545230865478513e-2 h 0.31701530895981017 v 9.540081024169919e-2 h 0.3170001928378951 v 0.115880012512207 h 0.31701530895981017 v 0.11588859558105466 h 0.3170001928378951 v 0.11013793945312497 h 0.31701530895981017 v 0.10405254364013669 h 0.3170001928378667 v 0.10400104522705075 h 0.31701530895981017 v 0.13477993011474607 h 0.3170001928378951 v 0.13470268249511716 h 0.31701530895981017 v 0.12786197662353513 h 0.3170001928378951 v 0.12096977233886716 h 0.31701530895981017 v 0.12091827392578122 h 0.3170001928378951 v 0.12586212158203122 h 0.31701530895981017 v 0.12574195861816403 h 0.3170001928378667 v 0.13178443908691403 h 0.31701530895981017 v 0.1377925872802734 h 0.3170001928378951 v 0.13768959045410153 h 0.31701530895981017 v 0.14053058624267575 h 0.3170001928378951 v 0.1404619216918945 h 0.31701530895981017 v 0.13946628570556638 h 0.31701530895981017 v 0.13835048675537107 h 0.3170001928378951 v 0.1382646560668945 h 0.31701530895981017 v 0.1655759811401367 h 0.3170001928378951 v 0.16544723510742185 h 0.31701530895981017 v 0.15712165832519528 h 0.3170001928378951 v 0.14872741699218747 h 0.31701530895981017 v 0.14869308471679685 h 0.3170001928378951 v 0.14916515350341794 h 0.31701530895981017 v 0.15377426147460935 h 0.3170001928378667 v 0.18804645538330073 h 0.31701530895981017 v 0.22224998474121088 h 0.3170001928378951 v 0.22216415405273432 h 0.31701530895981017 v 0.16125011444091794 h 0.3170001928378951 v 0.16112995147705075 h 0.31701530895981017 v 0.18874168395996088 h 0.3170001928378951 v 0.21629333496093744 h 0.31701530895981017 v 0.21613883972167963 h 0.3170001928378667 v 0.17970371246337888 h 0.31701530895981017 v 0.17961788177490232 h 0.3170001928378951 v 0.20491218566894526 h 0.31701530895981017 v 0.23018074035644526 h 0.3170001928378951 v 0.2299575805664062 h 0.31701530895981017 v 0.19075012207031244 h 0.3170001928378951 v 0.19057846069335932 h 0.31701530895981017 v 0.20192527770996088 h 0.31701530895981017 v 0.21332359313964838 h 0.3170001928378951 v 0.2130661010742187 h 0.31701530895981017 v 0.2086715698242187 h 0.3170001928378951 v 0.20851707458496088 h 0.31701530895981017 v 0.2378625869750976 h 0.3170001928378951 v 0.2672939300537109 h 0.31701530895981017 v 0.26702785491943354 h 0.3170001928378667 v 0.24336433410644526 h 0.31701530895981017 v 0.243021011352539 h 0.3170001928378951 v 0.2669334411621093 h 0.31701530895981017 v 0.28823661804199213 h 0.3170001928378951 v 0.28796195983886713 h 0.31701530895981017 v 0.24394798278808588 h 0.3170001928378951 v 0.24358749389648432 h 0.31701530895981017 v 0.2766666412353515 h 0.3170001928378667 v 0.3099002838134765 h 0.31701530895981017 v 0.3095054626464843 h 0.3170001928378951 v 0.24379348754882807 h 0.31701530895981017 v 0.24372482299804682 h 0.3170001928378951 v 0.26594638824462885 h 0.31701530895981017 v 0.2880821228027343 h 0.3170001928378951 v 0.2877473831176757 h 0.31701530895981017 v 0.2715253829956054 h 0.3170001928378951 v 0.2711133956909179 h 0.31701530895981017 v 0.282297134399414 h 0.31701530895981017 v 0.2933864593505859 h 0.3170001928378951 v 0.293008804321289 h 0.31701530895981017 v 0.2797908782958984 h 0.3170001928378951 v 0.27946472167968744 h 0.31701530895981017 v 0.30160903930664057 h 0.3170001928378667 v 0.3237876892089843 h 0.31701530895981017 v 0.32330703735351557 h 0.3170001928378951 v 0.26204109191894526 h 0.31701530895981017 v 0.2616548538208007 h 0.3170001928378951 v 0.29480266571044916 h 0.31701530895981017 v 0.3277702331542968 h 0.3170001928378951 v 0.32728958129882807 h 0.31701530895981017 v 0.30476760864257807 h 0.3170001928378667 v 0.31251811981201166 h 0.31701530895981017 v 0.3348340988159179 h 0.3170001928378951 v 0.35703849792480463 h 0.31701530895981017 v 0.35666084289550776 h 0.3170001928378951 v 0.33946037292480463 h 0.31701530895981017 v 0.3389539718627929 h 0.3170001928378951 v 0.33926296234130854 h 0.31701530895981017 v 0.33959770202636713 h 0.3170001928378951 v 0.33896255493164057 h 0.31701530895981017 v 0.3566951751708984 h 0.3170001928378951 v 0.35667800903320307 h 0.31701530895981017 v 0.3621797561645507 h 0.31701530895981017 v 0.36772441864013666 h 0.3170001928378951 v 0.367166519165039 h 0.31701530895981017 v 0.3600425720214843 h 0.3170001928378667 v 0.3594932556152343 h 0.3170153089598386 v 0.36411952972412104 h 0.3170001928378667 v 0.36862564086914057 h 0.31701530895981017 v 0.3680334091186523 h 0.3170001928378951 v 0.3809680938720702 h 0.31701530895981017 v 0.38013553619384755 h 0.3170001928378951 v 0.3711662292480468 h 0.31701530895981017 v 0.3621025085449218 h 0.3170001928378667 v 0.3614931106567382 h 0.31701530895981017 v 0.36823940277099604 h 0.3170001928378951 v 0.36752700805664057 h 0.31701530895981017 v 0.38181781768798817 h 0.3170001928378951 v 0.3959712982177733 h 0.31701530895981017 v 0.3952674865722655 h 0.3170001928378951 v 0.38228988647460926 h 0.31701530895981017 v 0.39635753631591786 h 0.3170001928378951 v 0.3959026336669921 h 0.31701530895981017 v 0.39539623260498036 h 0.3170001928378951 v 0.3945980072021483 h 0.31701530895981017 v 0.41994380950927723 h 0.3170001928378951 v 0.4191284179687499 h 0.31701530895981017 v 0.41201305389404286 h 0.31701530895981017 v 0.4048805236816405 h 0.3170001928378667 v 0.40406513214111317 h 0.3170153089598386 v 0.4166135787963866 h 0.3170001928378667 v 0.4156780242919921 h 0.31701530895981017 v 0.4140987396240233 h 0.3170001928378951 v 0.4125194549560546 h 0.31701530895981017 v 0.4116268157958983 h 0.3170001928378951 v 0.4196777343749999 h 0.31701530895981017 v 0.4187679290771483 h 0.3170001928378667 v 0.41827011108398426 h 0.31701530895981017 v 0.4177551269531249 h 0.3170001928378951 v 0.4169139862060546 h 0.31701530895981017 v 0.4456157684326171 h 0.3170001928378951 v 0.444594383239746 h 0.31701530895981017 v 0.4293251037597655 h 0.3170001928378951 v 0.41401290893554676 h 0.31701530895981017 v 0.4132232666015624 h 0.3170001928378951 v 0.4025630950927733 h 0.31701530895981017 v 0.4017992019653319 h 0.3170001928378951 v 0.41142940521240223 h 0.31701530895981017 v 0.4244585037231444 h 0.3170001928378667 v 0.4324064254760741 h 0.3170153089598386 v 0.3922891616821288 h 0.3170001928378951 v 0.3913621902465819 h 0.31701530895978175 v 0.4141416549682616 h 0.3170153089598386 v 0.43680953979492176 h 0.3170001928378951 v 0.4357194900512694 h 0.31701530895978175 v 0.3733720779418945 h 0.3170001928378951 v 0.3725395202636718 h 0.3170153089598386 v 0.39216041564941395 h 0.31700019283783826 v 0.41175556182861317 h 0.3170153089598386 v 0.41071701049804676 h 0.3170001928378951 v 0.39449501037597645 h 0.31701530895978175 v 0.39347362518310536 h 0.3170001928378951 v 0.39121627807617176 h 0.3170153089598386 v 0.38884735107421864 h 0.3170001928378667 v 0.3879547119140624 h 0.31701530895981017 v 0.3803758621215819 h 0.3170001928378951 v 0.37946605682373036 h 0.31701530895981017 v 0.3705954551696777 h 0.3170001928378951 v 0.3616433143615722 h 0.31701530895981017 v 0.3608064651489257 h 0.3170001928378951 v 0.3622827529907226 h 0.31701530895981017 v 0.3614544868469238 h 0.3170001928378951 v 0.3476228713989257 h 0.31701530895978175 v 0.33395433425903315 h 0.3170001928378951 v 0.33314323425292963 h 0.3170153089598386 v 0.3481721878051757 h 0.3170001928378951 v 0.3544549942016601 h 0.31701530895978175 v 0.34424114227294916 h 0.3170153089598386 v 0.33404874801635737 h 0.31700019283783826 v 0.33323335647583 h 0.3170153089598386 v 0.3629350662231445 h 0.3170001928378951 v 0.3620252609252929 h 0.31701530895978175 v 0.34393215179443354 h 0.3170001928378951 v 0.3259634971618652 h 0.3170153089598386 v 0.3251910209655761 h 0.3170001928378951 v 0.3381557464599609 h 0.31701530895978175 v 0.33728027343749994 h 0.3170001928378951 v 0.3306026458740234 h 0.31701530895981017 v 0.32385635375976557 h 0.3170001928378951 v 0.32307529449462885 h 0.31701530895981017 v 0.32484769821166987 h 0.3170001928378951 v 0.3239979743957519 h 0.31701530895981017 v 0.28707790374755854 h 0.3170001928378951 v 0.250436782836914 h 0.31701530895981017 v 0.2498703002929687 h 0.3170001928378667 v 0.3540000915527343 h 0.3170153089598386 v 0.3530387878417968 h 0.3170001928378951 v 0.33544778823852534 h 0.31701530895978175 v 0.3180155754089355 h 0.3170001928378951 v 0.31720018386840815 h 0.3170153089598386 v 0.32155179977416987 h 0.31700019283783826 v 0.32278347015380854 h 0.3170153089598386 v 0.30879306793212885 h 0.3170153089598386 v 0.2948884963989257 h 0.31700019283783826 v 0.2941203117370605 h 0.3170153089598386 v 0.2940258979797363 h 0.3170001928378951 v 0.29329204559326166 h 0.31701530895978175 v 0.29834318161010737 h 0.3170001928378951 v 0.303445816040039 h 0.3170153089598386 v 0.302621841430664 h 0.3170001928378667 v 0.29164409637451166 h 0.31701530895981017 v 0.2908887863159179 h 0.3170001928378951 v 0.29100036621093744 h 0.31701530895981017 v 0.2910690307617187 h 0.3170001928378951 v 0.2903394699096679 h 0.31701530895981017 v 0.3123121261596679 h 0.3170001928378951 v 0.3114581108093261 h 0.31701530895981017 v 0.2928886413574218 h 0.3170001928378951 v 0.27444362640380854 h 0.31701530895978175 v 0.2737398147583007 h 0.3170001928378951 v 0.3130717277526855 h 0.3170153089598386 v 0.3122048377990722 h 0.3170001928378951 v 0.29246377944946284 h 0.31701530895978175 v 0.2729115486145019 h 0.3170001928378951 v 0.2721905708312988 h 0.3170153089598386 v 0.3095183372497558 h 0.31700019283783826 v 0.30857849121093744 h 0.3170153089598386 v 0.3039479255676269 h 0.31701530895978175 v 0.2993130683898925 h 0.3170001928378951 v 0.298501968383789 h 0.3170153089598386 v 0.2863268852233886 h 0.3170001928378951 v 0.2855501174926757 h 0.31701530895978175 v 0.2855887413024902 h 0.3170001928378951 v 0.28564453124999994 h 0.31701530895981017 v 0.28485059738159174 h 0.3170001928378951 v 0.2927641868591308 h 0.31701530895981017 v 0.2919273376464843 h 0.3170001928378951 v 0.3040895462036132 h 0.31701530895981017 v 0.31613159179687494 h 0.3170001928378951 v 0.31517028808593744 h 0.31701530895981017 v 0.3003044128417968 h 0.3170001928378667 v 0.2994203567504882 h 0.3170153089598386 v 0.28607368469238276 h 0.3170001928378951 v 0.2727785110473632 h 0.31701530895978175 v 0.2720146179199218 h 0.3170001928378951 v 0.31274557113647455 h 0.3170153089598386 v 0.3118057250976562 h 0.31700019283783826 v 0.30919218063354487 h 0.3170153089598386 v 0.30665588378906244 h 0.3170001928378951 v 0.3056602478027343 h 0.31701530895978175 v 0.3187365531921386 h 0.3170001928378951 v 0.3176851272583007 h 0.3170153089598386 v 0.305093765258789 h 0.31701530895978175 v 0.29230070114135737 h 0.3170001928378951 v 0.29057121276855463 h 0.3170153089598386 v 0.3253369331359863 h 0.3170001928378667 v 0.32428121566772455 h 0.31701530895981017 v 0.3113679885864257 h 0.3170001928378951 v 0.29834318161010737 h 0.31701530895981017 v 0.29636907577514643 h 0.3170001928378951 v 0.31147527694702143 h 0.31701530895981017 v 0.3104667663574218 h 0.3170001928378951 v 0.304943561553955 h 0.31701530895981017 v 0.29947185516357416 h 0.3170001928378951 v 0.2985191345214843 h 0.31701530895978175 v 0.3090291023254394 h 0.3170001928378951 v 0.3095655441284179 h 0.3170153089598386 v 0.30076360702514643 h 0.3170001928378951 v 0.29202604293823237 h 0.31701530895978175 v 0.2910733222961425 h 0.3170001928378951 v 0.3173418045043945 h 0.3170153089598386 v 0.3158526420593261 h 0.31700019283783826 v 0.3035402297973632 h 0.3170153089598386 v 0.293283462524414 h 0.3170001928378951 v 0.29228353500366205 h 0.31701530895978175 v 0.3041324615478515 h 0.3170001928378951 v 0.3024201393127441 h 0.3170153089598386 v 0.2918672561645507 h 0.31701530895978175 v 0.28265333175659174 h 0.3170001928378951 v 0.28173923492431635 h 0.3170153089598386 v 0.3073983192443847 h 0.3170001928378667 v 0.3063254356384277 h 0.31701530895981017 v 0.2992959022521972 h 0.3170001928378951 v 0.2898073196411132 h 0.31701530895981017 v 0.2874813079833984 h 0.3170001928378951 v 0.27598428726196284 h 0.31701530895981017 v 0.27508306503295893 h 0.3170001928378667 v 0.27806138992309565 h 0.3170153089598386 v 0.2850544452667236 h 0.3170001928378951 v 0.29036307334899897 h 0.31701530895978175 v 0.29669094085693354 h 0.3170001928378951 v 0.2917127609252929 h 0.3170153089598386 v 0.2807092666625976 h 0.3170001928378951 v 0.27181935310363764 h 0.31701530895978175 v 0.2716798782348632 h 0.3170001928378951 v 0.27397155761718744 h 0.31701530895978175 v 0.27302527427673334 h 0.3170001928378951 v 0.2690320014953613 h 0.3170153089598386 v 0.2667810916900634 h 0.3170001928378951 v 0.2657897472381591 h 0.31701530895978175 v 0.2606935501098632 h 0.3170001928378951 v 0.25352668762207026 h 0.31701530895981017 v 0.26317191123962397 h 0.31701530895981017 v 0.2736904621124267 h 0.3170001928378951 v 0.2727634906768798 h 0.31701530895981017 v 0.2549192905426025 h 0.3170001928378951 v 0.25404167175292963 h 0.31701530895981017 v 0.2501492500305175 h 0.3170001928378951 v 0.2463297843933105 h 0.31701530895981017 v 0.2454307079315185 h 0.3170001928378951 v 0.24966216087341303 h 0.31701530895978175 v 0.24876737594604487 h 0.3170001928378951 v 0.24620103836059565 h 0.3170153089598386 v 0.24358749389648432 h 0.3170001928378951 v 0.24272704124450678 h 0.31701530895978175 v 0.24328923225402826 h 0.3170001928378951 v 0.24236869812011713 h 0.3170153089598386 v 0.22827100753784174 h 0.31700019283783826 v 0.21423768997192377 h 0.3170153089598386 v 0.21348667144775385 h 0.3170001928378951 v 0.24633836746215815 h 0.31701530895978175 v 0.2454328536987304 h 0.3170001928378951 v 0.22147965431213373 h 0.3170153089598386 v 0.19772601127624506 h 0.3170001928378667 v 0.1970157623291015 h 0.31701530895981017 v 0.22095823287963862 h 0.3170001928378951 v 0.22010421752929682 h 0.31701530895981017 v 0.21339225769042963 h 0.31701530895981017 v 0.20666956901550287 h 0.3170001928378951 v 0.20592927932739252 h 0.31701530895981017 v 0.22213625907897944 h 0.3170001928378951 v 0.2212779521942138 h 0.31701530895981017 v 0.21394371986389155 h 0.3170001928378667 v 0.2066867351531982 h 0.3170153089598386 v 0.20586919784545893 h 0.3170001928378951 v 0.2075729370117187 h 0.31701530895978175 v 0.20675539970397944 h 0.3170001928378951 v 0.20852351188659662 h 0.3170153089598386 v 0.21026587486267084 h 0.3170001928378951 v 0.2094354629516601 h 0.31701530895978175 v 0.19411253929138178 h 0.3170001928378951 v 0.19335508346557612 h 0.31701530895978175 v 0.20155405998229975 h 0.3170001928378951 v 0.20968437194824213 h 0.3170153089598386 v 0.2088539600372314 h 0.3170001928378951 v 0.18282365798950193 h 0.31701530895978175 v 0.1821177005767822 h 0.3170001928378951 v 0.1843771934509277 h 0.3170153089598386 v 0.1890485286712646 h 0.3170001928378667 v 0.18833827972412104 h 0.31701530895981017 v 0.19124364852905268 h 0.3170001928378951 v 0.19049477577209467 h 0.31701530895981017 v 0.18304252624511716 h 0.31701530895981017 v 0.17563748359680173 h 0.3170001928378951 v 0.17498946189880368 h 0.31701530895981017 v 0.18429565429687497 h 0.3170001928378951 v 0.18360471725463864 h 0.31701530895981017 v 0.16634202003479 h 0.3170001928378667 v 0.1492037773132324 h 0.3170153089598386 v 0.1486845016479492 h 0.3170001928378951 v 0.20638632774353022 h 0.31701530895978175 v 0.20556235313415522 h 0.3170001928378951 v 0.18562924861907956 h 0.3170153089598386 v 0.16584098339080808 h 0.31700019283783826 v 0.16520798206329343 h 0.3170153089598386 v 0.1683021783828735 h 0.3170001928378951 v 0.16764020919799802 h 0.31701530895978175 v 0.16034781932830808 h 0.3170001928378951 v 0.1530886888504028 h 0.3170153089598386 v 0.15251255035400388 h 0.3170001928378951 v 0.16034674644470212 h 0.31701530895978175 v 0.15974164009094236 h 0.3170001928378951 v 0.15787482261657712 h 0.31701530895981017 v 0.1560627222061157 h 0.3170001928378951 v 0.15546619892120359 h 0.31701530895981017 v 0.1464647054672241 h 0.3170001928378951 v 0.14590895175933835 h 0.31701530895981017 v 0.14753007888793943 h 0.31701530895981017 v 0.1491415500640869 h 0.3170001928378667 v 0.14857077598571775 h 0.3170153089598386 v 0.15323567390441892 h 0.3170001928378951 v 0.15264129638671872 h 0.31701530895978175 v 0.14254117012023923 h 0.3170001928378951 v 0.13253867626190183 h 0.3170153089598386 v 0.13205587863922116 h 0.3170001928378951 v 0.13385725021362302 h 0.31701530895978175 v 0.131435751914978 h 0.3170001928378951 v 0.13301718235015866 h 0.31701530895978175 v 0.13457286357879636 h 0.3170001928378951 v 0.13411581516265866 h 0.3170153089598386 v 0.11790347099304196 h 0.3170001928378951 v 0.11749148368835446 h 0.31701530895978175 v 0.11879611015319821 h 0.3170001928378951 v 0.12009644508361814 h 0.3170153089598386 v 0.11969304084777829 h 0.3170001928378667 v 0.11600875854492185 h 0.31701530895981017 v 0.11562895774841306 h 0.3170001928378951 v 0.11256051063537595 h 0.31701530895981017 v 0.10951244831085202 h 0.3170001928378951 v 0.10916054248809812 h 0.31701530895981017 v 0.11483073234558103 h 0.3170001928378667 v 0.11444556713104245 h 0.3170153089598386 v 0.10658025741577146 h 0.31701530895981017 v 9.875571727752683e-2 h 0.31701530895981017 v 9.843707084655759e-2 h 0.3169850767159516 v 9.832978248596189e-2 h 0.3170153089598386 v 9.801542758941648e-2 h 0.31701530895978175 v 9.220898151397704e-2 h 0.3170153089598386 v 8.644437789916991e-2 h 0.3169850767159516 v 8.618044853210448e-2 h 0.31701530895981017 v 9.342777729034422e-2 h 0.31701530895981017 v 9.311771392822264e-2 h 0.31701530895981017 v 8.847427368164061e-2 h 0.31698507671598003 v 8.386838436126708e-2 h 0.31701530895981017 v 8.357870578765868e-2 h 0.31701530895981017 v 7.836127281188963e-2 h 0.31701530895981017 v 7.809519767761229e-2 h 0.3169850767159232 v 7.529175281524657e-2 h 0.317015308959867 v 7.252478599548338e-2 h 0.31701530895975333 v 7.229197025299071e-2 h 0.317015308959867 v 7.155597209930419e-2 h 0.3169850767159232 v 6.95207118988037e-2 h 0.317015308959867 v 6.896066665649413e-2 h 0.31701530895975333 v 6.877183914184569e-2 h 0.317015308959867 v 6.855511665344237e-2 h 0.3169850767159232 v 6.234848499298094e-2 h 0.31701530895981017 v 6.2167167663574205e-2 h 0.31701530895981017 v 6.23345375061035e-2 h 0.31701530895981017 v 6.2467575073242174e-2 h 0.31701530895981017 v 6.2268018722534166e-2 h 0.31698507671598003 v 5.6384325027465806e-2 h 0.31701530895981017 v 5.6214809417724595e-2 h 0.31701530895981017 v 5.4964900016784654e-2 h 0.31701530895981017 v 5.370962619781493e-2 h 0.31698507671598003 v 5.355727672576903e-2 h 0.31701530895981017 v 5.949354171752928e-2 h 0.31701530895981017 v 5.9305250644683824e-2 h 0.31701530895981017 v 5.617403984069823e-2 h 0.31698507671598003 v 5.308467149734496e-2 h 0.31701530895981017 v 5.291247367858885e-2 h 0.31701530895981017 v 5.435281991958617e-2 h 0.31701530895981017 v 5.418169498443602e-2 h 0.3169850767159232 v 5.331802368164061e-2 h 0.317015308959867 v 5.2452743053436265e-2 h 0.31701530895975333 v 5.2293419837951646e-2 h 0.317015308959867 v 4.9049019813537584e-2 h 0.3169850767159232 v 4.88913059234619e-2 h 0.31701530895981017 v 4.928934574127196e-2 h 0.31701530895981017 v 4.968202114105223e-2 h 0.317015308959867 v 4.952859878540038e-2 h 0.3169850767159232 v 4.685980081558227e-2 h 0.31701530895981017 v 4.6723544597625725e-2 h 0.31701530895981017 v 4.6492338180541985e-2 h 0.31701530895981017 v 4.6257376670837395e-2 h 0.31701530895981017 v 4.611200094223022e-2 h 0.31698507671598003 v 4.333269596099853e-2 h 0.31701530895981017 v 4.2795181274414056e-2 h 0.31701530895981017 v 4.2704522609710686e-2 h 0.31701530895981017 v 4.2611181735992425e-2 h 0.31698507671598003 v 4.2498528957366936e-2 h 0.31701530895981017 v 4.14057970046997e-2 h 0.31701530895981017 v 4.128777980804443e-2 h 0.31701530895981017 v 4.2166471481323235e-2 h 0.3169850767159232 v 4.303658008575439e-2 h 0.317015308959867 v 4.291266202926635e-2 h 0.31701530895975333 v 3.599309921264648e-2 h 0.317015308959867 v 3.589922189712524e-2 h 0.3169850767159232 v 3.708636760711669e-2 h 0.317015308959867 v 3.826278448104858e-2 h 0.31701530895975333 v 3.8158178329467766e-2 h 0.317015308959867 v 3.896552324295043e-2 h 0.3169850767159232 v 3.885018825531005e-2 h 0.31701530895981017 v 3.831267356872558e-2 h 0.31701530895981017 v 3.7777841091156e-2 h 0.31701530895981017 v 3.766947984695434e-2 h 0.31698507671598003 v 3.544378280639648e-2 h 0.31701530895981017 v 3.5350441932678216e-2 h 0.31701530895981017 v 3.6081075668334954e-2 h 0.31701530895981017 v 3.679776191711425e-2 h 0.31701530895981017 v 3.6691009998321526e-2 h 0.31698507671598003 v 3.640723228454589e-2 h 0.31701530895981017 v 3.630369901657104e-2 h 0.31701530895981017 v 3.573131561279296e-2 h 0.31701530895981017 v 3.515839576721191e-2 h 0.31698507671598003 v 3.506720066070556e-2 h 0.31701530895981017 v 3.6521494388580315e-2 h 0.31701530895981017 v 3.6420643329620354e-2 h 0.31701530895981017 v 3.559452295303344e-2 h 0.3169850767159232 v 3.478503227233886e-2 h 0.317015308959867 v 3.319501876831054e-2 h 0.31701530895975333 v 3.250139951705932e-2 h 0.317015308959867 v 3.241074085235595e-2 h 0.3169850767159232 v 3.560578823089599e-2 h 0.317015308959867 v 3.8772940635681145e-2 h 0.31701530895975333 v 3.8650631904602044e-2 h 0.317015308959867 v 3.112435340881347e-2 h 0.3169850767159232 v 3.1042814254760735e-2 h 0.31701530895981017 v 3.302228450775146e-2 h 0.31701530895981017 v 3.498995304107665e-2 h 0.31701530895981017 v 3.488159179687499e-2 h 0.31698507671598003 v 4.080712795257568e-2 h 0.31701530895981017 v 4.067301750183105e-2 h 0.31701530895981017 v 3.91784906387329e-2 h 0.31701530895981017 v 3.7696301937103265e-2 h 0.31701530895981017 v 3.757238388061523e-2 h 0.31698507671598003 v 3.1440317630767815e-2 h 0.31701530895981017 v 3.135502338409423e-2 h 0.31701530895981017 v 3.0337929725646966e-2 h 0.31701530895981017 v 2.9325127601623528e-2 h 0.3169850767159232 v 2.925217151641845e-2 h 0.317015308959867 v 3.733742237091064e-2 h 0.31701530895975333 v 3.721725940704345e-2 h 0.317015308959867 v 3.621357679367065e-2 h 0.3169850767159232 v 3.521418571472167e-2 h 0.317015308959867 v 3.510957956314086e-2 h 0.31701530895975333 v 2.936375141143798e-2 h 0.317015308959867 v 2.928113937377929e-2 h 0.3169850767159232 v 3.1816363334655755e-2 h 0.31701530895981017 v 3.432637453079223e-2 h 0.31701530895981017 v 3.422445058822631e-2 h 0.31701530895981017 v 3.297024965286254e-2 h 0.31698507671598003 v 3.231257200241088e-2 h 0.31701530895981017 v 3.0537486076354974e-2 h 0.31701530895981017 v 2.951610088348388e-2 h 0.31701530895981017 v 2.9424905776977532e-2 h 0.31698507671598003 v 3.643673658370971e-2 h 0.31701530895981017 v 3.631335496902465e-2 h 0.31701530895981017 v 3.175735473632812e-2 h 0.31701530895981017 v 2.7245342731475823e-2 h 0.31701530895981017 v 2.7164340019226067e-2 h 0.31698507671598003 v 3.486710786819457e-2 h 0.31701530895981017 v 3.474533557891845e-2 h 0.31701530895981017 v 3.381621837615966e-2 h 0.31701530895981017 v 3.288066387176513e-2 h 0.3169850767159232 v 3.276962041854858e-2 h 0.317015308959867 v 3.2701492309570306e-2 h 0.31701530895975333 v 3.2589375972747796e-2 h 0.317015308959867 v 3.303837776184081e-2 h 0.3169850767159232 v 3.3488988876342766e-2 h 0.317015308959867 v 3.3366680145263665e-2 h 0.31701530895975333 v 3.251320123672485e-2 h 0.317015308959867 v 3.2390356063842766e-2 h 0.3169850767159232 v 3.3760964870452874e-2 h 0.31701530895981017 v 3.51111888885498e-2 h 0.31701530895981017 v 3.497010469436645e-2 h 0.31701530895981017 v 3.442776203155517e-2 h 0.31698507671598003 v 3.428238630294799e-2 h 0.31701530895981017 v 3.490197658538818e-2 h 0.31701530895981017 v 3.550869226455688e-2 h 0.31701530895981017 v 3.536063432693481e-2 h 0.31698507671598003 v 3.362846374511718e-2 h 0.31701530895981017 v 3.349381685256957e-2 h 0.31701530895981017 v 3.460800647735595e-2 h 0.31701530895981017 v 3.5712540149688714e-2 h 0.31701530895981017 v 3.489446640014648e-2 h 0.3169850767159232 v 3.657004237174987e-2 h 0.317015308959867 v 3.6413669586181634e-2 h 0.31701530895981017 v 3.5466045141220086e-2 h 0.31701530895981017 v 3.452458977699279e-2 h 0.3169850767159232 v 3.437921404838561e-2 h 0.317015308959867 v 3.7537515163421624e-2 h 0.31701530895975333 v 3.7366926670074456e-2 h 0.317015308959867 v 3.743693232536315e-2 h 0.3169850767159232 v 3.750398755073547e-2 h 0.31701530895981017 v 3.733044862747192e-2 h 0.31701530895981017 v 3.529009222984313e-2 h 0.31701530895981017 v 3.513130545616149e-2 h 0.31698507671598003 v 3.742405772209167e-2 h 0.31701530895981017 v 3.9702326059341424e-2 h 0.31701530895981017 v 3.9510548114776604e-2 h 0.31701530895981017 v 3.852081298828124e-2 h 0.31698507671598003 v 3.833091259002685e-2 h 0.31701530895981017 v 4.063144326210021e-2 h 0.31701530895981017 v 4.2903274297714226e-2 h 0.31701530895981017 v 4.268869757652282e-2 h 0.31698507671598003 v 4.065504670143127e-2 h 0.31701530895981017 v 4.045629501342773e-2 h 0.31701530895981017 v 4.221421480178832e-2 h 0.31701530895981017 v 4.3952286243438714e-2 h 0.31701530895981017 v 4.3720543384551995e-2 h 0.3169850767159232 v 4.325276613235473e-2 h 0.317015308959867 v 4.302933812141418e-2 h 0.31701530895975333 v 4.372215270996093e-2 h 0.317015308959867 v 4.441228508949279e-2 h 0.3169850767159232 v 4.419261217117309e-2 h 0.317015308959867 v 4.435783624649047e-2 h 0.31701530895975333 v 4.4129312038421624e-2 h 0.317015308959867 v 4.421272873878478e-2 h 0.3169850767159232 v 4.393538832664489e-2 h 0.31701530895981017 v 4.371947050094604e-2 h 0.31701530895981017 v 4.4189929962158196e-2 h 0.31701530895981017 v 4.3969988822937005e-2 h 0.31698507671598003 v 4.329246282577514e-2 h 0.31701530895981017 v 4.2636662721633904e-2 h 0.31701530895981017 v 4.243603348731994e-2 h 0.31701530895981017 v 4.1447639465332024e-2 h 0.31698507671598003 v 4.1248619556426995e-2 h 0.31701530895981017 v 4.214608669281005e-2 h 0.31701530895981017 v 4.3030142784118645e-2 h 0.31701530895981017 v 4.2820930480957024e-2 h 0.31698507671598003 v 4.094338417053222e-2 h 0.31701530895975333 v 4.074838757514953e-2 h 0.317015308959867 v 4.068723320960998e-2 h 0.31701530895981017 v 4.06443178653717e-2 h 0.31701530895981017 v 4.04694378376007e-2 h 0.3169850767159232 v 4.17627990245819e-2 h 0.317015308959867 v 4.158362746238708e-2 h 0.31701530895975333 v 4.1313529014587395e-2 h 0.317015308959867 v 4.085594415664672e-2 h 0.3169850767159232 v 4.069152474403381e-2 h 0.31701530895981017 v 4.24707680940628e-2 h 0.31701530895981017 v 4.2294546961784356e-2 h 0.317015308959867 v 4.14196103811264e-2 h 0.3169850767159232 v 4.056009650230407e-2 h 0.31701530895981017 v 4.039004445075988e-2 h 0.31701530895981017 v 4.0319770574569695e-2 h 0.31701530895981017 v 4.0148243308067315e-2 h 0.31698507671598003 v 3.9412915706634515e-2 h 0.31701530895981017 v 3.868871927261352e-2 h 0.31701530895981017 v 3.852295875549316e-2 h 0.31701530895981017 v 3.860047459602355e-2 h 0.31698507671598003 v 3.842854499816894e-2 h 0.31701530895981017 v 3.8640841841697686e-2 h 0.31701530895981017 v 3.884616494178771e-2 h 0.31701530895981017 v 3.867490589618682e-2 h 0.31698507671598003 v 3.49038541316986e-2 h 0.31701530895975333 v 3.4754455089569085e-2 h 0.317015308959867 v 3.393155336380004e-2 h 0.31701530895975333 v 3.311334550380706e-2 h 0.317015308959867 v 3.2963678240776055e-2 h 0.3169850767159232 v 3.446370363235473e-2 h 0.317015308959867 v 3.4308269619941704e-2 h 0.31701530895975333 v 3.255356848239898e-2 h 0.317015308959867 v 3.080852329730987e-2 h 0.3169850767159232 v 3.067213296890258e-2 h 0.31701530895981017 v 3.299774229526519e-2 h 0.31701530895981017 v 3.284847736358642e-2 h 0.31701530895981017 v 3.352466225624084e-2 h 0.31698507671598003 v 3.420259058475494e-2 h 0.31701530895981017 v 3.404313325881957e-2 h 0.31701530895981017 v 2.64519453048706e-2 h 0.31701530895981017 v 2.6102721691131585e-2 h 0.31698507671598003 v 2.651457488536834e-2 h 0.31701530895981017 v 2.6929914951324456e-2 h 0.31701530895981017 v 2.681504935026168e-2 h 0.31701530895981017 v 2.7896314859390252e-2 h 0.31698507671598003 v 2.7773067355155938e-2 h 0.31701530895975333 v 2.7589805424213402e-2 h 0.317015308959867 v 2.7421027421951287e-2 h 0.31701530895981017 v 2.7316018939018243e-2 h 0.31698507671598003 v 2.4899482727050774e-2 h 0.31701530895975333 v 2.4791121482849114e-2 h 0.317015308959867 v 2.4997048079967492e-2 h 0.31701530895975333 v 2.5197006762027734e-2 h 0.317015308959867 v 2.5078587234020226e-2 h 0.3169850767159232 v 2.2986330091953274e-2 h 0.31701530895981017 v 2.288272976875305e-2 h 0.31701530895981017 v 2.319420129060745e-2 h 0.317015308959867 v 2.3476369678974145e-2 h 0.3169850767159232 v 2.3355402052402493e-2 h 0.31701530895981017 v 2.0626790821552273e-2 h 0.31701530895981017 v 2.053512632846832e-2 h 0.31701530895981017 v 2.0082168281078335e-2 h 0.31698507671598003 v 1.963410526514053e-2 h 0.31701530895981017 v 1.9544653594493862e-2 h 0.31701530895981017 v 1.6564987599849697e-2 h 0.31701530895981017 v 1.6462594270706173e-2 h 0.31698507671598003 v 1.5670470893383023e-2 h 0.31701530895981017 v 1.4909394085407254e-2 h 0.31701530895981017 v 1.4843914657831189e-2 h 0.31701530895981017 v 1.2790281325578686e-2 h 0.31698507671598003 v 1.2732982635498043e-2 h 0.31701530895975333 v 1.2061357498168942e-2 h 0.317015308959867 v 1.1392313987016676e-2 h 0.31701530895975333 v 1.1342223733663557e-2 h 0.3169850767160369 v 1.0931208729743956e-2 h 0.31701530895975333 v 1.088380068540573e-2 h 0.317015308959867 v 9.613908827304838e-3 h 0.31701530895975333 v 8.352868258953093e-3 h 0.317015308959867 v 8.315652608871458e-3 h 0.3169850767159232 v 8.482217788696287e-3 h 0.317015308959867 v 8.444599807262419e-3 h 0.31701530895975333 v 8.136548101902006e-3 h 0.31701530895981017 v 7.830072194337843e-3 h 0.31698507671598003 v 7.7956058084964735e-3 h 0.31701530895981017 v 7.165018469095228e-3 h 0.31701530895981017 v 7.098197937011717e-3 h 0.317015308959867 v 6.956024095416067e-3 h 0.3169850767159232 v 6.818158552050589e-3 h 0.31701530895975333 v 6.7891068756580335e-3 h 0.317015308959867 v 6.2901154160499555e-3 h 0.31701530895981017 v 6.263041868805884e-3 h 0.31698507671598003 v 6.096443161368368e-3 h 0.31701530895981017 v 5.937874317169188e-3 h 0.31701530895981017 v 5.915243178606032e-3 h 0.31701530895975333 v 5.579363554716109e-3 h 0.31698507671598003 v 5.55431842803955e-3 h 0.31701530895981017 v 5.613008514046668e-3 h 0.317015308959867 v 5.6704580783843985e-3 h 0.31701530895981017 v 5.645262077450751e-3 h 0.31698507671598003 v 5.5344030261039725e-3 h 0.31701530895975333 v 5.502585321664809e-3 h 0.31701530895981017 \" />\n",
       "                                </g>\n",
       "                            </g>\n",
       "                        </g>\n",
       "                        <g stroke=\"rgb(0,0,0)\" stroke-opacity=\"0.0\" fill=\"rgb(0,0,0)\" fill-opacity=\"1.0\" stroke-width=\"0.0\" stroke-linecap=\"butt\" stroke-linejoin=\"bevel\" stroke-dasharray=\"\" stroke-dashoffset=\"0.0\">\n",
       "                            <g fill=\"rgb(0,0,0)\" fill-opacity=\"1.0\">\n",
       "                                <g fill=\"rgb(0,0,0)\" fill-opacity=\"1.0\">\n",
       "                                    <g fill=\"rgb(0,0,0)\" fill-opacity=\"1.0\">\n",
       "                                    </g>\n",
       "                                    <g fill=\"rgb(0,0,0)\" fill-opacity=\"1.0\">\n",
       "                                        <g fill=\"rgb(0,0,0)\" fill-opacity=\"1.0\">\n",
       "                                        </g>\n",
       "                                        <g fill=\"rgb(0,0,0)\" fill-opacity=\"1.0\">\n",
       "                                            <g fill=\"rgb(0,0,0)\" fill-opacity=\"1.0\">\n",
       "                                                <path d=\"M 19.999999999999996,155.5987394957983 ZM 17.457983193277308,155.11554621848737 c -0.6407563025210083,1.1770502323737689e-16 -1.1397058823529411,-0.19957983193277284 -1.1397058823529411 -0.19957983193277284c -0.4989495798319328,-0.19957983193277298 -0.8455882352941176,-0.5357142857142856 -0.8455882352941176 -0.5357142857142856c -0.3466386554621849,-0.3361344537815125 -0.5252100840336135,-0.7825630252100838 -0.5252100840336135 -0.7825630252100838c -0.17857142857142863,-0.4464285714285713 -0.17857142857142871,-0.940126050420168 -0.17857142857142871 -0.940126050420168c -9.262034615400147e-17,-0.5042016806722688 0.18382352941176452,-0.866596638655462 0.18382352941176452 -0.866596638655462c 0.18382352941176464,-0.3623949579831933 0.4254201680672267,-0.625 0.4254201680672267 -0.625l 0.5567226890756303,0.4306722689075628 c -0.199579831932773,0.2310924369747899 -0.3256302521008402,0.4779411764705882 -0.3256302521008402 0.4779411764705882c -0.12605042016806714,0.2468487394957983 -0.12605042016806708,0.551470588235294 -0.12605042016806708 0.551470588235294c 6.367648798087602e-17,0.34663865546218486 0.14180672268907574,0.6407563025210083 0.14180672268907574 0.6407563025210083c 0.14180672268907568,0.2941176470588235 0.40441176470588236,0.5042016806722687 0.40441176470588236 0.5042016806722687c 0.26260504201680673,0.2100840336134453 0.625,0.33088235294117635 0.625 0.33088235294117635c 0.36239495798319327,0.12079831932773101 0.8035714285714284,0.12079831932773093 0.8035714285714284 0.12079831932773093c 0.4411764705882352,-8.10428028847513e-17 0.7983193277310923,-0.11554621848739509 0.7983193277310923 -0.11554621848739509c 0.3571428571428571,-0.115546218487395 0.6144957983193275,-0.3203781512605043 0.6144957983193275 -0.3203781512605043c 0.2573529411764705,-0.20483193277310927 0.399159663865546,-0.4989495798319328 0.399159663865546 -0.4989495798319328c 0.14180672268907557,-0.2941176470588235 0.14180672268907552,-0.6407563025210083 0.14180672268907552 -0.6407563025210083c -6.753566907062608e-17,-0.3676470588235294 -0.152310924369748,-0.667016806722689 -0.152310924369748 -0.667016806722689c -0.15231092436974794,-0.2993697478991596 -0.3623949579831934,-0.5304621848739494 -0.3623949579831934 -0.5304621848739494l 0.5672268907563024,-0.38865546218487396 c 0.3046218487394958,0.3466386554621848 0.4831932773109245,0.7720588235294115 0.4831932773109245 0.7720588235294115c 0.17857142857142863,0.42542016806722677 0.17857142857142871,0.8876050420168066 0.17857142857142871 0.8876050420168066c 9.262034615400147e-17,0.5042016806722688 -0.17857142857142838,0.9453781512605041 -0.17857142857142838 0.9453781512605041c -0.17857142857142846,0.4411764705882353 -0.5199579831932771,0.7615546218487395 -0.5199579831932771 0.7615546218487395c -0.34138655462184864,0.32037815126050423 -0.8403361344537813,0.5042016806722689 -0.8403361344537813 0.5042016806722689c -0.49894957983193267,0.18382352941176477 -1.1292016806722687,0.18382352941176489 -1.1292016806722687 0.18382352941176489ZM 19.999999999999996,150.80882352941174 ZM 14.894957983193272,149.94747899159663 l -1.3121215705150208e-16,-0.7142857142857142 l 0.7352941176470588,-7.352941176470601e-2 l -5.788771634625092e-18,-3.15126050420168e-2 c -0.36764705882352944,-0.3361344537815125 -0.6144957983193278,-0.7300420168067225 -0.6144957983193278 -0.7300420168067225c -0.24684873949579836,-0.39390756302520996 -0.24684873949579844,-0.8560924369747898 -0.24684873949579844 -0.8560924369747898c -1.0805707051300172e-16,-0.588235294117647 0.2573529411764704,-0.9191176470588234 0.2573529411764704 -0.9191176470588234c 0.2573529411764705,-0.3308823529411765 0.7195378151260503,-0.48844537815126055 0.7195378151260503 -0.48844537815126055c -0.4411764705882353,-0.3991596638655461 -0.7090336134453782,-0.8035714285714283 -0.7090336134453782 -0.8035714285714283c -0.2678571428571429,-0.4044117647058822 -0.267857142857143,-0.8771008403361343 -0.267857142857143 -0.8771008403361343c -1.4471929086562732e-16,-0.78781512605042 0.5042016806722686,-1.1712184873949578 0.5042016806722686 -1.1712184873949578c 0.5042016806722687,-0.38340336134453784 1.491596638655462,-0.383403361344538 1.491596638655462 -0.383403361344538l 3.235294117647058,-5.943138878215094e-16 l 1.5822642467975254e-16,0.8613445378151259 l -3.1197478991596634,5.730883918278842e-16 c -0.7247899159663865,1.3314174759637714e-16 -1.0451680672268906,0.23109243697479007 -1.0451680672268906 0.23109243697479007c -0.3203781512605041,0.23109243697478993 -0.32037815126050406,0.7142857142857143 -0.32037815126050406 0.7142857142857143c 1.061274799681267e-16,0.5777310924369747 0.7878151260504203,1.2815126050420165 0.7878151260504203 1.2815126050420165l 3.697478991596638,-6.792158717960108e-16 l 1.5822642467975254e-16,0.8613445378151259 l -3.1197478991596634,5.730883918278842e-16 c -0.7247899159663865,1.3314174759637714e-16 -1.0451680672268906,0.23109243697479007 -1.0451680672268906 0.23109243697479007c -0.3203781512605041,0.23109243697478993 -0.32037815126050406,0.7247899159663866 -0.32037815126050406 0.7247899159663866c 1.061274799681267e-16,0.5777310924369747 0.7878151260504203,1.2815126050420165 0.7878151260504203 1.2815126050420165l 3.697478991596638,-6.792158717960108e-16 l 1.5822642467975254e-16,0.8613445378151259 l -5.105042016806722,9.37781004809265e-16 ZM 19.999999999999993,142.10084033613444 ZM 12.962184873949575,139.87394957983193 l -1.4086010977587724e-16,-0.7668067226890755 l 4.054621848739496,-1.5966386554621852 l 1.3893051923100222e-16,0.7563025210084032 l -1.8487394957983188,0.6827731092436977 l -1.3970588235294117,0.5147058823529413 l 7.718362179500123e-18,4.201680672268907e-2 l 1.3970588235294117,0.5252100840336131 l 1.8487394957983192,0.682773109243697 l 1.3893051923100222e-16,0.7563025210084032 ZM 19.999999999999993,136.88025210084032 ZM 19.48529411764705,136.46008403361344 c -0.7563025210084033,-0.7563025210084031 -1.365546218487395,-1.34453781512605 -1.365546218487395 -1.34453781512605c -0.6092436974789917,-0.5882352941176469 -1.129201680672269,-0.9873949579831929 -1.129201680672269 -0.9873949579831929c -0.5199579831932774,-0.399159663865546 -0.9558823529411764,-0.6092436974789913 -0.9558823529411764 -0.6092436974789913c -0.43592436974789917,-0.21008403361344527 -0.8455882352941175,-0.2100840336134452 -0.8455882352941175 -0.2100840336134452c -0.5777310924369747,1.061274799681267e-16 -0.945378151260504,0.3151260504201682 -0.945378151260504 0.3151260504201682c -0.3676470588235293,0.3151260504201681 -0.3676470588235292,0.9558823529411764 -0.3676470588235292 0.9558823529411764c 7.718362179500124e-17,0.4201680672268907 0.23634453781512615,0.7773109243697477 0.23634453781512615 0.7773109243697477c 0.23634453781512607,0.35714285714285704 0.5724789915966387,0.6512605042016805 0.5724789915966387 0.6512605042016805l -0.49369747899159644,0.49369747899159666 c -0.4621848739495798,-0.4201680672268906 -0.740546218487395,-0.8928571428571426 -0.740546218487395 -0.8928571428571426c -0.2783613445378152,-0.472689075630252 -0.2783613445378153,-1.134453781512605 -0.2783613445378153 -1.134453781512605c -1.7173355849387775e-16,-0.9348739495798318 0.5409663865546216,-1.4705882352941175 0.5409663865546216 -1.4705882352941175c 0.5409663865546217,-0.5357142857142858 1.4338235294117645,-0.5357142857142859 1.4338235294117645 -0.5357142857142859c 0.47268907563025203,-8.683157451937638e-17 0.9506302521008402,0.20483193277310904 0.9506302521008402 0.20483193277310904c 0.4779411764705882,0.20483193277310913 0.9873949579831932,0.5672268907563023 0.9873949579831932 0.5672268907563023c 0.5094537815126051,0.36239495798319316 1.0609243697478992,0.8613445378151257 1.0609243697478992 0.8613445378151257c 0.5514705882352942,0.4989495798319326 1.171218487394958,1.0976890756302518 1.171218487394958 1.0976890756302518c -2.1008403361344585e-2,-0.27310924369747897 -4.2016806722689176e-2,-0.5672268907563025 -4.2016806722689176e-2 -0.5672268907563025c -2.100840336134459e-2,-0.2941176470588235 -2.1008403361344637e-2,-0.5567226890756302 -2.1008403361344637e-2 -0.5567226890756302l -3.569742508018807e-16,-1.9432773109243695 l 0.745798319327731,-1.3700092868612718e-16 l 7.949913044885127e-16,4.3277310924369745 l -0.5147058823529411,9.454993669887651e-17 Z\" />\n",
       "                                            </g>\n",
       "                                            <g fill=\"rgb(0,0,0)\" fill-opacity=\"1.0\">\n",
       "                                            </g>\n",
       "                                        </g>\n",
       "                                    </g>\n",
       "                                </g>\n",
       "                            </g>\n",
       "                        </g>\n",
       "                        <g>\n",
       "                            <g stroke=\"rgb(0,0,0)\" stroke-opacity=\"1.0\" stroke-width=\"0.9999999999999998\" stroke-linecap=\"square\" stroke-linejoin=\"miter\" stroke-dasharray=\"\" stroke-dashoffset=\"0.0\">\n",
       "                                <path d=\"M 55.021008403361336,259.99999999999994 v -224.99999999999994 \" />\n",
       "                            </g>\n",
       "                            <g stroke=\"rgb(0,0,0)\" stroke-opacity=\"1.0\" stroke-width=\"0.9999999999999998\" stroke-linecap=\"butt\" stroke-linejoin=\"miter\" stroke-dasharray=\"\" stroke-dashoffset=\"0.0\">\n",
       "                                <g>\n",
       "                                    <path d=\"M 55.021008403361336,259.99999999999994 h 1.9999999999999996 \" />\n",
       "                                </g>\n",
       "                                <g>\n",
       "                                    <path d=\"M 55.021008403361336,254.37499999999997 h 1.9999999999999996 \" />\n",
       "                                </g>\n",
       "                                <g>\n",
       "                                    <path d=\"M 55.021008403361336,248.74999999999997 h 1.9999999999999996 \" />\n",
       "                                </g>\n",
       "                                <g>\n",
       "                                    <path d=\"M 55.021008403361336,243.12499999999997 h 1.9999999999999996 \" />\n",
       "                                </g>\n",
       "                                <g>\n",
       "                                    <path d=\"M 55.021008403361336,237.49999999999997 h 1.9999999999999996 \" />\n",
       "                                </g>\n",
       "                                <g>\n",
       "                                    <path d=\"M 55.021008403361336,231.87499999999997 h 1.9999999999999996 \" />\n",
       "                                </g>\n",
       "                                <g>\n",
       "                                    <path d=\"M 55.021008403361336,226.25 h 1.9999999999999996 \" />\n",
       "                                </g>\n",
       "                                <g>\n",
       "                                    <path d=\"M 55.021008403361336,220.625 h 1.9999999999999996 \" />\n",
       "                                </g>\n",
       "                                <g>\n",
       "                                    <path d=\"M 55.021008403361336,215.0 h 1.9999999999999996 \" />\n",
       "                                </g>\n",
       "                                <g>\n",
       "                                    <path d=\"M 55.021008403361336,209.375 h 1.9999999999999996 \" />\n",
       "                                </g>\n",
       "                                <g>\n",
       "                                    <path d=\"M 55.021008403361336,203.75 h 1.9999999999999996 \" />\n",
       "                                </g>\n",
       "                                <g>\n",
       "                                    <path d=\"M 55.021008403361336,198.125 h 1.9999999999999996 \" />\n",
       "                                </g>\n",
       "                                <g>\n",
       "                                    <path d=\"M 55.021008403361336,192.5 h 1.9999999999999996 \" />\n",
       "                                </g>\n",
       "                                <g>\n",
       "                                    <path d=\"M 55.021008403361336,186.875 h 1.9999999999999996 \" />\n",
       "                                </g>\n",
       "                                <g>\n",
       "                                    <path d=\"M 55.021008403361336,181.25 h 1.9999999999999996 \" />\n",
       "                                </g>\n",
       "                                <g>\n",
       "                                    <path d=\"M 55.021008403361336,175.625 h 1.9999999999999996 \" />\n",
       "                                </g>\n",
       "                                <g>\n",
       "                                    <path d=\"M 55.021008403361336,170.0 h 1.9999999999999996 \" />\n",
       "                                </g>\n",
       "                                <g>\n",
       "                                    <path d=\"M 55.021008403361336,164.375 h 1.9999999999999996 \" />\n",
       "                                </g>\n",
       "                                <g>\n",
       "                                    <path d=\"M 55.021008403361336,158.75 h 1.9999999999999996 \" />\n",
       "                                </g>\n",
       "                                <g>\n",
       "                                    <path d=\"M 55.021008403361336,153.125 h 1.9999999999999996 \" />\n",
       "                                </g>\n",
       "                                <g>\n",
       "                                    <path d=\"M 55.021008403361336,147.5 h 1.9999999999999996 \" />\n",
       "                                </g>\n",
       "                                <g>\n",
       "                                    <path d=\"M 55.021008403361336,141.875 h 1.9999999999999996 \" />\n",
       "                                </g>\n",
       "                                <g>\n",
       "                                    <path d=\"M 55.021008403361336,136.25 h 1.9999999999999996 \" />\n",
       "                                </g>\n",
       "                                <g>\n",
       "                                    <path d=\"M 55.021008403361336,130.625 h 1.9999999999999996 \" />\n",
       "                                </g>\n",
       "                                <g>\n",
       "                                    <path d=\"M 55.021008403361336,125.0 h 1.9999999999999996 \" />\n",
       "                                </g>\n",
       "                                <g>\n",
       "                                    <path d=\"M 55.021008403361336,119.375 h 1.9999999999999996 \" />\n",
       "                                </g>\n",
       "                                <g>\n",
       "                                    <path d=\"M 55.021008403361336,113.75 h 1.9999999999999996 \" />\n",
       "                                </g>\n",
       "                                <g>\n",
       "                                    <path d=\"M 55.021008403361336,108.125 h 1.9999999999999996 \" />\n",
       "                                </g>\n",
       "                                <g>\n",
       "                                    <path d=\"M 55.021008403361336,102.5 h 1.9999999999999996 \" />\n",
       "                                </g>\n",
       "                                <g>\n",
       "                                    <path d=\"M 55.021008403361336,96.875 h 1.9999999999999996 \" />\n",
       "                                </g>\n",
       "                                <g>\n",
       "                                    <path d=\"M 55.021008403361336,91.25 h 1.9999999999999996 \" />\n",
       "                                </g>\n",
       "                                <g>\n",
       "                                    <path d=\"M 55.021008403361336,85.625 h 1.9999999999999996 \" />\n",
       "                                </g>\n",
       "                                <g>\n",
       "                                    <path d=\"M 55.021008403361336,80.00000000000001 h 1.9999999999999996 \" />\n",
       "                                </g>\n",
       "                                <g>\n",
       "                                    <path d=\"M 55.021008403361336,74.37500000000001 h 1.9999999999999996 \" />\n",
       "                                </g>\n",
       "                                <g>\n",
       "                                    <path d=\"M 55.021008403361336,68.75000000000001 h 1.9999999999999996 \" />\n",
       "                                </g>\n",
       "                                <g>\n",
       "                                    <path d=\"M 55.021008403361336,63.125000000000014 h 1.9999999999999996 \" />\n",
       "                                </g>\n",
       "                                <g>\n",
       "                                    <path d=\"M 55.021008403361336,57.500000000000014 h 1.9999999999999996 \" />\n",
       "                                </g>\n",
       "                                <g>\n",
       "                                    <path d=\"M 55.021008403361336,51.875000000000014 h 1.9999999999999996 \" />\n",
       "                                </g>\n",
       "                                <g>\n",
       "                                    <path d=\"M 55.021008403361336,46.25000000000002 h 1.9999999999999996 \" />\n",
       "                                </g>\n",
       "                                <g>\n",
       "                                    <path d=\"M 55.021008403361336,40.62500000000002 h 1.9999999999999996 \" />\n",
       "                                </g>\n",
       "                                <g>\n",
       "                                    <path d=\"M 55.021008403361336,35.00000000000002 h 1.9999999999999996 \" />\n",
       "                                </g>\n",
       "                                <g>\n",
       "                                    <path d=\"M 55.021008403361336,259.99999999999994 h 4.999999999999999 \" />\n",
       "                                </g>\n",
       "                                <g>\n",
       "                                    <path d=\"M 55.021008403361336,203.75 h 4.999999999999999 \" />\n",
       "                                </g>\n",
       "                                <g>\n",
       "                                    <path d=\"M 55.021008403361336,147.5 h 4.999999999999999 \" />\n",
       "                                </g>\n",
       "                                <g>\n",
       "                                    <path d=\"M 55.021008403361336,91.25 h 4.999999999999999 \" />\n",
       "                                </g>\n",
       "                                <g>\n",
       "                                    <path d=\"M 55.021008403361336,35.00000000000002 h 4.999999999999999 \" />\n",
       "                                </g>\n",
       "                            </g>\n",
       "                            <g fill=\"rgb(255,255,255)\" fill-opacity=\"1.0\">\n",
       "                                <g stroke=\"rgb(0,0,0)\" stroke-opacity=\"0.0\" fill=\"rgb(0,0,0)\" fill-opacity=\"1.0\" stroke-width=\"0.0\" stroke-linecap=\"butt\" stroke-linejoin=\"bevel\" stroke-dasharray=\"\" stroke-dashoffset=\"0.0\">\n",
       "                                    <g fill=\"rgb(0,0,0)\" fill-opacity=\"1.0\">\n",
       "                                        <g fill=\"rgb(0,0,0)\" fill-opacity=\"1.0\">\n",
       "                                            <g fill=\"rgb(0,0,0)\" fill-opacity=\"1.0\">\n",
       "                                            </g>\n",
       "                                            <g fill=\"rgb(0,0,0)\" fill-opacity=\"1.0\">\n",
       "                                                <g fill=\"rgb(0,0,0)\" fill-opacity=\"1.0\">\n",
       "                                                </g>\n",
       "                                                <g fill=\"rgb(0,0,0)\" fill-opacity=\"1.0\">\n",
       "                                                    <g fill=\"rgb(0,0,0)\" fill-opacity=\"1.0\">\n",
       "                                                        <path d=\"M 40.72478991596638,263.44537815126046 ZM 43.34033613445378,263.5714285714285 c -1.01890756302521,0.0 -1.5861344537815125,-0.903361344537815 -1.5861344537815125 -0.903361344537815c -0.5672268907563025,-0.903361344537815 -0.5672268907563025,-2.59453781512605 -0.5672268907563025 -2.59453781512605c 0.0,-1.691176470588235 0.5672268907563025,-2.5735294117647056 0.5672268907563025 -2.5735294117647056c 0.5672268907563025,-0.8823529411764705 1.5861344537815125,-0.8823529411764705 1.5861344537815125 -0.8823529411764705c 1.0084033613445378,0.0 1.5756302521008403,0.8823529411764705 1.5756302521008403 0.8823529411764705c 0.5672268907563025,0.8823529411764705 0.5672268907563025,2.5735294117647056 0.5672268907563025 2.5735294117647056c 0.0,1.691176470588235 -0.5672268907563025,2.59453781512605 -0.5672268907563025 2.59453781512605c -0.5672268907563025,0.903361344537815 -1.5756302521008403,0.903361344537815 -1.5756302521008403 0.903361344537815ZM 43.34033613445378,263.5714285714285 ZM 43.34033613445378,262.8781512605041 c 0.29411764705882354,0.0 0.5304621848739496,-0.16281512605042014 0.5304621848739496 -0.16281512605042014c 0.23634453781512604,-0.16281512605042014 0.4096638655462185,-0.5042016806722688 0.4096638655462185 -0.5042016806722688c 0.17331932773109246,-0.3413865546218487 0.26785714285714285,-0.8718487394957982 0.26785714285714285 -0.8718487394957982c 9.453781512605042e-2,-0.5304621848739495 9.453781512605042e-2,-1.2657563025210083 9.453781512605042e-2 -1.2657563025210083c 0.0,-0.7352941176470588 -9.453781512605042e-2,-1.2605042016806722 -9.453781512605042e-2 -1.2605042016806722c -9.453781512605042e-2,-0.5252100840336134 -0.26785714285714285,-0.8560924369747898 -0.26785714285714285 -0.8560924369747898c -0.17331932773109246,-0.33088235294117646 -0.4096638655462185,-0.48844537815126043 -0.4096638655462185 -0.48844537815126043c -0.23634453781512604,-0.15756302521008403 -0.5304621848739496,-0.15756302521008403 -0.5304621848739496 -0.15756302521008403c -0.29411764705882354,0.0 -0.5357142857142857,0.15756302521008403 -0.5357142857142857 0.15756302521008403c -0.2415966386554622,0.15756302521008403 -0.4149159663865546,0.48844537815126043 -0.4149159663865546 0.48844537815126043c -0.17331932773109246,0.33088235294117646 -0.26785714285714285,0.8560924369747898 -0.26785714285714285 0.8560924369747898c -9.453781512605042e-2,0.5252100840336134 -9.453781512605042e-2,1.2605042016806722 -9.453781512605042e-2 1.2605042016806722c 0.0,1.4705882352941175 0.3623949579831933,2.1376050420168062 0.3623949579831933 2.1376050420168062c 0.3623949579831933,0.667016806722689 0.9506302521008404,0.667016806722689 0.9506302521008404 0.667016806722689Z\" />\n",
       "                                                    </g>\n",
       "                                                    <g fill=\"rgb(0,0,0)\" fill-opacity=\"1.0\">\n",
       "                                                    </g>\n",
       "                                                </g>\n",
       "                                            </g>\n",
       "                                        </g>\n",
       "                                    </g>\n",
       "                                </g>\n",
       "                                <g fill=\"rgb(255,255,255)\" fill-opacity=\"1.0\">\n",
       "                                    <g stroke=\"rgb(0,0,0)\" stroke-opacity=\"0.0\" fill=\"rgb(0,0,0)\" fill-opacity=\"1.0\" stroke-width=\"0.0\" stroke-linecap=\"butt\" stroke-linejoin=\"bevel\" stroke-dasharray=\"\" stroke-dashoffset=\"0.0\">\n",
       "                                        <g fill=\"rgb(0,0,0)\" fill-opacity=\"1.0\">\n",
       "                                            <g fill=\"rgb(0,0,0)\" fill-opacity=\"1.0\">\n",
       "                                                <g fill=\"rgb(0,0,0)\" fill-opacity=\"1.0\">\n",
       "                                                </g>\n",
       "                                                <g fill=\"rgb(0,0,0)\" fill-opacity=\"1.0\">\n",
       "                                                    <g fill=\"rgb(0,0,0)\" fill-opacity=\"1.0\">\n",
       "                                                    </g>\n",
       "                                                    <g fill=\"rgb(0,0,0)\" fill-opacity=\"1.0\">\n",
       "                                                        <g fill=\"rgb(0,0,0)\" fill-opacity=\"1.0\">\n",
       "                                                            <path d=\"M 30.199579831932773,207.19537815126048 ZM 30.619747899159663,206.68067226890756 c 0.7563025210084032,-0.7563025210084032 1.3445378151260503,-1.3655462184873948 1.3445378151260503 -1.3655462184873948c 0.588235294117647,-0.6092436974789915 0.9873949579831931,-1.1292016806722687 0.9873949579831931 -1.1292016806722687c 0.39915966386554613,-0.5199579831932772 0.6092436974789915,-0.9558823529411763 0.6092436974789915 -0.9558823529411763c 0.21008403361344535,-0.4359243697478991 0.21008403361344535,-0.8455882352941175 0.21008403361344535 -0.8455882352941175c 0.0,-0.5777310924369747 -0.31512605042016806,-0.9453781512605041 -0.31512605042016806 -0.9453781512605041c -0.31512605042016806,-0.3676470588235294 -0.9558823529411763,-0.3676470588235294 -0.9558823529411763 -0.3676470588235294c -0.4201680672268907,0.0 -0.7773109243697477,0.23634453781512602 -0.7773109243697477 0.23634453781512602c -0.3571428571428571,0.23634453781512602 -0.6512605042016806,0.5724789915966386 -0.6512605042016806 0.5724789915966386l -0.49369747899159655,-0.49369747899159655 c 0.4201680672268907,-0.46218487394957974 0.8928571428571427,-0.7405462184873949 0.8928571428571427 -0.7405462184873949c 0.47268907563025203,-0.2783613445378151 1.134453781512605,-0.2783613445378151 1.134453781512605 -0.2783613445378151c 0.9348739495798318,0.0 1.4705882352941175,0.5409663865546218 1.4705882352941175 0.5409663865546218c 0.5357142857142857,0.5409663865546218 0.5357142857142857,1.4338235294117645 0.5357142857142857 1.4338235294117645c 0.0,0.47268907563025203 -0.2048319327731092,0.9506302521008402 -0.2048319327731092 0.9506302521008402c -0.2048319327731092,0.47794117647058815 -0.5672268907563025,0.9873949579831931 -0.5672268907563025 0.9873949579831931c -0.36239495798319327,0.509453781512605 -0.8613445378151259,1.060924369747899 -0.8613445378151259 1.060924369747899c -0.4989495798319327,0.551470588235294 -1.097689075630252,1.1712184873949578 -1.097689075630252 1.1712184873949578c 0.27310924369747897,-2.1008403361344536e-2 0.5672268907563025,-4.201680672268907e-2 0.5672268907563025 -4.201680672268907e-2c 0.2941176470588235,-2.1008403361344536e-2 0.5567226890756302,-2.1008403361344536e-2 0.5567226890756302 -2.1008403361344536e-2h 1.9432773109243695 v 0.745798319327731 h -4.3277310924369745 v -0.5147058823529411 ZM 35.42016806722689,207.19537815126048 ZM 38.035714285714285,207.32142857142856 c -1.01890756302521,0.0 -1.5861344537815123,-0.903361344537815 -1.5861344537815123 -0.903361344537815c -0.5672268907563025,-0.903361344537815 -0.5672268907563025,-2.59453781512605 -0.5672268907563025 -2.59453781512605c 0.0,-1.691176470588235 0.5672268907563025,-2.5735294117647056 0.5672268907563025 -2.5735294117647056c 0.5672268907563025,-0.8823529411764705 1.5861344537815123,-0.8823529411764705 1.5861344537815123 -0.8823529411764705c 1.0084033613445376,0.0 1.57563025210084,0.8823529411764705 1.57563025210084 0.8823529411764705c 0.5672268907563025,0.8823529411764705 0.5672268907563025,2.5735294117647056 0.5672268907563025 2.5735294117647056c 0.0,1.691176470588235 -0.5672268907563025,2.59453781512605 -0.5672268907563025 2.59453781512605c -0.5672268907563025,0.903361344537815 -1.57563025210084,0.903361344537815 -1.57563025210084 0.903361344537815ZM 38.035714285714285,207.32142857142856 ZM 38.035714285714285,206.62815126050418 c 0.2941176470588235,0.0 0.5304621848739495,-0.16281512605042014 0.5304621848739495 -0.16281512605042014c 0.23634453781512602,-0.16281512605042014 0.4096638655462184,-0.5042016806722688 0.4096638655462184 -0.5042016806722688c 0.17331932773109243,-0.3413865546218487 0.26785714285714285,-0.8718487394957982 0.26785714285714285 -0.8718487394957982c 9.45378151260504e-2,-0.5304621848739495 9.45378151260504e-2,-1.2657563025210083 9.45378151260504e-2 -1.2657563025210083c 0.0,-0.7352941176470588 -9.45378151260504e-2,-1.2605042016806722 -9.45378151260504e-2 -1.2605042016806722c -9.45378151260504e-2,-0.5252100840336134 -0.26785714285714285,-0.8560924369747898 -0.26785714285714285 -0.8560924369747898c -0.17331932773109243,-0.33088235294117646 -0.4096638655462184,-0.48844537815126043 -0.4096638655462184 -0.48844537815126043c -0.23634453781512602,-0.15756302521008403 -0.5304621848739495,-0.15756302521008403 -0.5304621848739495 -0.15756302521008403c -0.2941176470588235,0.0 -0.5357142857142857,0.15756302521008403 -0.5357142857142857 0.15756302521008403c -0.24159663865546216,0.15756302521008403 -0.41491596638655454,0.48844537815126043 -0.41491596638655454 0.48844537815126043c -0.17331932773109243,0.33088235294117646 -0.26785714285714285,0.8560924369747898 -0.26785714285714285 0.8560924369747898c -9.45378151260504e-2,0.5252100840336134 -9.45378151260504e-2,1.2605042016806722 -9.45378151260504e-2 1.2605042016806722c 0.0,1.4705882352941175 0.36239495798319327,2.1376050420168062 0.36239495798319327 2.1376050420168062c 0.36239495798319327,0.667016806722689 0.9506302521008402,0.667016806722689 0.9506302521008402 0.667016806722689ZM 40.640756302521005,207.19537815126048 ZM 43.2563025210084,207.32142857142856 c -1.01890756302521,0.0 -1.5861344537815123,-0.903361344537815 -1.5861344537815123 -0.903361344537815c -0.5672268907563025,-0.903361344537815 -0.5672268907563025,-2.59453781512605 -0.5672268907563025 -2.59453781512605c 0.0,-1.691176470588235 0.5672268907563025,-2.5735294117647056 0.5672268907563025 -2.5735294117647056c 0.5672268907563025,-0.8823529411764705 1.5861344537815123,-0.8823529411764705 1.5861344537815123 -0.8823529411764705c 1.0084033613445376,0.0 1.57563025210084,0.8823529411764705 1.57563025210084 0.8823529411764705c 0.5672268907563025,0.8823529411764705 0.5672268907563025,2.5735294117647056 0.5672268907563025 2.5735294117647056c 0.0,1.691176470588235 -0.5672268907563025,2.59453781512605 -0.5672268907563025 2.59453781512605c -0.5672268907563025,0.903361344537815 -1.57563025210084,0.903361344537815 -1.57563025210084 0.903361344537815ZM 43.2563025210084,207.32142857142856 ZM 43.2563025210084,206.62815126050418 c 0.2941176470588235,0.0 0.5304621848739495,-0.16281512605042014 0.5304621848739495 -0.16281512605042014c 0.23634453781512602,-0.16281512605042014 0.4096638655462184,-0.5042016806722688 0.4096638655462184 -0.5042016806722688c 0.17331932773109243,-0.3413865546218487 0.26785714285714285,-0.8718487394957982 0.26785714285714285 -0.8718487394957982c 9.45378151260504e-2,-0.5304621848739495 9.45378151260504e-2,-1.2657563025210083 9.45378151260504e-2 -1.2657563025210083c 0.0,-0.7352941176470588 -9.45378151260504e-2,-1.2605042016806722 -9.45378151260504e-2 -1.2605042016806722c -9.45378151260504e-2,-0.5252100840336134 -0.26785714285714285,-0.8560924369747898 -0.26785714285714285 -0.8560924369747898c -0.17331932773109243,-0.33088235294117646 -0.4096638655462184,-0.48844537815126043 -0.4096638655462184 -0.48844537815126043c -0.23634453781512602,-0.15756302521008403 -0.5304621848739495,-0.15756302521008403 -0.5304621848739495 -0.15756302521008403c -0.2941176470588235,0.0 -0.5357142857142857,0.15756302521008403 -0.5357142857142857 0.15756302521008403c -0.24159663865546216,0.15756302521008403 -0.41491596638655454,0.48844537815126043 -0.41491596638655454 0.48844537815126043c -0.17331932773109243,0.33088235294117646 -0.26785714285714285,0.8560924369747898 -0.26785714285714285 0.8560924369747898c -9.45378151260504e-2,0.5252100840336134 -9.45378151260504e-2,1.2605042016806722 -9.45378151260504e-2 1.2605042016806722c 0.0,1.4705882352941175 0.36239495798319327,2.1376050420168062 0.36239495798319327 2.1376050420168062c 0.36239495798319327,0.667016806722689 0.9506302521008402,0.667016806722689 0.9506302521008402 0.667016806722689Z\" />\n",
       "                                                        </g>\n",
       "                                                        <g fill=\"rgb(0,0,0)\" fill-opacity=\"1.0\">\n",
       "                                                        </g>\n",
       "                                                    </g>\n",
       "                                                </g>\n",
       "                                            </g>\n",
       "                                        </g>\n",
       "                                    </g>\n",
       "                                    <g fill=\"rgb(255,255,255)\" fill-opacity=\"1.0\">\n",
       "                                        <g stroke=\"rgb(0,0,0)\" stroke-opacity=\"0.0\" fill=\"rgb(0,0,0)\" fill-opacity=\"1.0\" stroke-width=\"0.0\" stroke-linecap=\"butt\" stroke-linejoin=\"bevel\" stroke-dasharray=\"\" stroke-dashoffset=\"0.0\">\n",
       "                                            <g fill=\"rgb(0,0,0)\" fill-opacity=\"1.0\">\n",
       "                                                <g fill=\"rgb(0,0,0)\" fill-opacity=\"1.0\">\n",
       "                                                    <g fill=\"rgb(0,0,0)\" fill-opacity=\"1.0\">\n",
       "                                                    </g>\n",
       "                                                    <g fill=\"rgb(0,0,0)\" fill-opacity=\"1.0\">\n",
       "                                                        <g fill=\"rgb(0,0,0)\" fill-opacity=\"1.0\">\n",
       "                                                        </g>\n",
       "                                                        <g fill=\"rgb(0,0,0)\" fill-opacity=\"1.0\">\n",
       "                                                            <g fill=\"rgb(0,0,0)\" fill-opacity=\"1.0\">\n",
       "                                                                <path d=\"M 30.0,150.94537815126048 ZM 33.193277310924366,148.4033613445378 v -1.9432773109243695 c 0.0,-0.27310924369747897 1.57563025210084e-2,-0.6460084033613445 1.57563025210084e-2 -0.6460084033613445c 1.57563025210084e-2,-0.3728991596638655 3.6764705882352935e-2,-0.6460084033613445 3.6764705882352935e-2 -0.6460084033613445h -4.201680672268907e-2 c -0.1260504201680672,0.24159663865546216 -0.2626050420168067,0.47268907563025203 -0.2626050420168067 0.47268907563025203c -0.13655462184873948,0.23109243697478987 -0.28361344537815125,0.47268907563025203 -0.28361344537815125 0.47268907563025203l -1.5651260504201678,2.2899159663865545 h 2.1008403361344534 ZM 33.193277310924366,148.4033613445378 ZM 34.92647058823529,149.0966386554622 h -0.9138655462184873 v 1.848739495798319 h -0.8193277310924368 v -1.848739495798319 h -3.0147058823529407 v -0.5672268907563025 l 2.867647058823529,-4.285714285714286 h 0.9663865546218486 v 4.159663865546218 h 0.9138655462184873 v 0.6932773109243697 ZM 35.220588235294116,150.94537815126048 ZM 37.83613445378151,151.07142857142856 c -1.01890756302521,0.0 -1.5861344537815123,-0.903361344537815 -1.5861344537815123 -0.903361344537815c -0.5672268907563025,-0.903361344537815 -0.5672268907563025,-2.59453781512605 -0.5672268907563025 -2.59453781512605c 0.0,-1.691176470588235 0.5672268907563025,-2.5735294117647056 0.5672268907563025 -2.5735294117647056c 0.5672268907563025,-0.8823529411764705 1.5861344537815123,-0.8823529411764705 1.5861344537815123 -0.8823529411764705c 1.0084033613445376,0.0 1.57563025210084,0.8823529411764705 1.57563025210084 0.8823529411764705c 0.5672268907563025,0.8823529411764705 0.5672268907563025,2.5735294117647056 0.5672268907563025 2.5735294117647056c 0.0,1.691176470588235 -0.5672268907563025,2.59453781512605 -0.5672268907563025 2.59453781512605c -0.5672268907563025,0.903361344537815 -1.57563025210084,0.903361344537815 -1.57563025210084 0.903361344537815ZM 37.83613445378151,151.07142857142856 ZM 37.83613445378151,150.37815126050418 c 0.2941176470588235,0.0 0.5304621848739495,-0.16281512605042014 0.5304621848739495 -0.16281512605042014c 0.23634453781512602,-0.16281512605042014 0.4096638655462184,-0.5042016806722688 0.4096638655462184 -0.5042016806722688c 0.17331932773109243,-0.3413865546218487 0.26785714285714285,-0.8718487394957982 0.26785714285714285 -0.8718487394957982c 9.45378151260504e-2,-0.5304621848739495 9.45378151260504e-2,-1.2657563025210083 9.45378151260504e-2 -1.2657563025210083c 0.0,-0.7352941176470588 -9.45378151260504e-2,-1.2605042016806722 -9.45378151260504e-2 -1.2605042016806722c -9.45378151260504e-2,-0.5252100840336134 -0.26785714285714285,-0.8560924369747898 -0.26785714285714285 -0.8560924369747898c -0.17331932773109243,-0.33088235294117646 -0.4096638655462184,-0.48844537815126043 -0.4096638655462184 -0.48844537815126043c -0.23634453781512602,-0.15756302521008403 -0.5304621848739495,-0.15756302521008403 -0.5304621848739495 -0.15756302521008403c -0.2941176470588235,0.0 -0.5357142857142857,0.15756302521008403 -0.5357142857142857 0.15756302521008403c -0.24159663865546216,0.15756302521008403 -0.41491596638655454,0.48844537815126043 -0.41491596638655454 0.48844537815126043c -0.17331932773109243,0.33088235294117646 -0.26785714285714285,0.8560924369747898 -0.26785714285714285 0.8560924369747898c -9.45378151260504e-2,0.5252100840336134 -9.45378151260504e-2,1.2605042016806722 -9.45378151260504e-2 1.2605042016806722c 0.0,1.4705882352941175 0.36239495798319327,2.1376050420168062 0.36239495798319327 2.1376050420168062c 0.36239495798319327,0.667016806722689 0.9506302521008402,0.667016806722689 0.9506302521008402 0.667016806722689ZM 40.44117647058823,150.94537815126048 ZM 43.05672268907563,151.07142857142856 c -1.01890756302521,0.0 -1.5861344537815123,-0.903361344537815 -1.5861344537815123 -0.903361344537815c -0.5672268907563025,-0.903361344537815 -0.5672268907563025,-2.59453781512605 -0.5672268907563025 -2.59453781512605c 0.0,-1.691176470588235 0.5672268907563025,-2.5735294117647056 0.5672268907563025 -2.5735294117647056c 0.5672268907563025,-0.8823529411764705 1.5861344537815123,-0.8823529411764705 1.5861344537815123 -0.8823529411764705c 1.0084033613445376,0.0 1.57563025210084,0.8823529411764705 1.57563025210084 0.8823529411764705c 0.5672268907563025,0.8823529411764705 0.5672268907563025,2.5735294117647056 0.5672268907563025 2.5735294117647056c 0.0,1.691176470588235 -0.5672268907563025,2.59453781512605 -0.5672268907563025 2.59453781512605c -0.5672268907563025,0.903361344537815 -1.57563025210084,0.903361344537815 -1.57563025210084 0.903361344537815ZM 43.05672268907563,151.07142857142856 ZM 43.05672268907563,150.37815126050418 c 0.2941176470588235,0.0 0.5304621848739495,-0.16281512605042014 0.5304621848739495 -0.16281512605042014c 0.23634453781512602,-0.16281512605042014 0.4096638655462184,-0.5042016806722688 0.4096638655462184 -0.5042016806722688c 0.17331932773109243,-0.3413865546218487 0.26785714285714285,-0.8718487394957982 0.26785714285714285 -0.8718487394957982c 9.45378151260504e-2,-0.5304621848739495 9.45378151260504e-2,-1.2657563025210083 9.45378151260504e-2 -1.2657563025210083c 0.0,-0.7352941176470588 -9.45378151260504e-2,-1.2605042016806722 -9.45378151260504e-2 -1.2605042016806722c -9.45378151260504e-2,-0.5252100840336134 -0.26785714285714285,-0.8560924369747898 -0.26785714285714285 -0.8560924369747898c -0.17331932773109243,-0.33088235294117646 -0.4096638655462184,-0.48844537815126043 -0.4096638655462184 -0.48844537815126043c -0.23634453781512602,-0.15756302521008403 -0.5304621848739495,-0.15756302521008403 -0.5304621848739495 -0.15756302521008403c -0.2941176470588235,0.0 -0.5357142857142857,0.15756302521008403 -0.5357142857142857 0.15756302521008403c -0.24159663865546216,0.15756302521008403 -0.41491596638655454,0.48844537815126043 -0.41491596638655454 0.48844537815126043c -0.17331932773109243,0.33088235294117646 -0.26785714285714285,0.8560924369747898 -0.26785714285714285 0.8560924369747898c -9.45378151260504e-2,0.5252100840336134 -9.45378151260504e-2,1.2605042016806722 -9.45378151260504e-2 1.2605042016806722c 0.0,1.4705882352941175 0.36239495798319327,2.1376050420168062 0.36239495798319327 2.1376050420168062c 0.36239495798319327,0.667016806722689 0.9506302521008402,0.667016806722689 0.9506302521008402 0.667016806722689Z\" />\n",
       "                                                            </g>\n",
       "                                                            <g fill=\"rgb(0,0,0)\" fill-opacity=\"1.0\">\n",
       "                                                            </g>\n",
       "                                                        </g>\n",
       "                                                    </g>\n",
       "                                                </g>\n",
       "                                            </g>\n",
       "                                        </g>\n",
       "                                        <g fill=\"rgb(255,255,255)\" fill-opacity=\"1.0\">\n",
       "                                            <g stroke=\"rgb(0,0,0)\" stroke-opacity=\"0.0\" fill=\"rgb(0,0,0)\" fill-opacity=\"1.0\" stroke-width=\"0.0\" stroke-linecap=\"butt\" stroke-linejoin=\"bevel\" stroke-dasharray=\"\" stroke-dashoffset=\"0.0\">\n",
       "                                                <g fill=\"rgb(0,0,0)\" fill-opacity=\"1.0\">\n",
       "                                                    <g fill=\"rgb(0,0,0)\" fill-opacity=\"1.0\">\n",
       "                                                        <g fill=\"rgb(0,0,0)\" fill-opacity=\"1.0\">\n",
       "                                                        </g>\n",
       "                                                        <g fill=\"rgb(0,0,0)\" fill-opacity=\"1.0\">\n",
       "                                                            <g fill=\"rgb(0,0,0)\" fill-opacity=\"1.0\">\n",
       "                                                            </g>\n",
       "                                                            <g fill=\"rgb(0,0,0)\" fill-opacity=\"1.0\">\n",
       "                                                                <g fill=\"rgb(0,0,0)\" fill-opacity=\"1.0\">\n",
       "                                                                    <path d=\"M 30.325630252100837,94.69537815126053 ZM 33.140756302521005,94.1386554621849 c 0.2521008403361344,0.0 0.46218487394957974,-0.10504201680672268 0.46218487394957974 -0.10504201680672268c 0.21008403361344535,-0.10504201680672268 0.3676470588235294,-0.29936974789915966 0.3676470588235294 -0.29936974789915966c 0.15756302521008403,-0.19432773109243692 0.24684873949579828,-0.46218487394957974 0.24684873949579828 -0.46218487394957974c 8.928571428571427e-2,-0.26785714285714285 8.928571428571427e-2,-0.6039915966386554 8.928571428571427e-2 -0.6039915966386554c 0.0,-0.6617647058823529 -0.30462184873949577,-1.0399159663865545 -0.30462184873949577 -1.0399159663865545c -0.30462184873949577,-0.3781512605042016 -0.9348739495798318,-0.3781512605042016 -0.9348739495798318 -0.3781512605042016c -0.31512605042016806,0.0 -0.6880252100840336,0.2048319327731092 -0.6880252100840336 0.2048319327731092c -0.3728991596638655,0.2048319327731092 -0.7090336134453781,0.6775210084033613 -0.7090336134453781 0.6775210084033613c 8.403361344537814e-2,0.9873949579831931 0.45693277310924363,1.496848739495798 0.45693277310924363 1.496848739495798c 0.3728991596638655,0.509453781512605 1.013655462184874,0.509453781512605 1.013655462184874 0.509453781512605ZM 33.140756302521005,94.1386554621849 ZM 34.51680672268907,89.11764705882355 c -0.21008403361344535,-0.24159663865546216 -0.4989495798319327,-0.38340336134453773 -0.4989495798319327 -0.38340336134453773c -0.28886554621848737,-0.14180672268907563 -0.6039915966386554,-0.14180672268907563 -0.6039915966386554 -0.14180672268907563c -0.34663865546218486,0.0 -0.6617647058823529,0.14705882352941174 -0.6617647058823529 0.14705882352941174c -0.31512605042016806,0.14705882352941174 -0.5567226890756302,0.4831932773109243 -0.5567226890756302 0.4831932773109243c -0.24159663865546216,0.3361344537815126 -0.38865546218487385,0.8771008403361343 -0.38865546218487385 0.8771008403361343c -0.14705882352941174,0.5409663865546218 -0.15756302521008403,1.3392857142857142 -0.15756302521008403 1.3392857142857142c 0.31512605042016806,-0.38865546218487385 0.7352941176470588,-0.6144957983193277 0.7352941176470588 -0.6144957983193277c 0.4201680672268907,-0.22584033613445376 0.8298319327731091,-0.22584033613445376 0.8298319327731091 -0.22584033613445376c 0.8718487394957982,0.0 1.3918067226890756,0.5147058823529411 1.3918067226890756 0.5147058823529411c 0.5199579831932772,0.5147058823529411 0.5199579831932772,1.5546218487394954 0.5199579831932772 1.5546218487394954c 0.0,0.4831932773109243 -0.15756302521008403,0.8771008403361343 -0.15756302521008403 0.8771008403361343c -0.15756302521008403,0.39390756302521 -0.43067226890756294,0.6775210084033613 -0.43067226890756294 0.6775210084033613c -0.27310924369747897,0.28361344537815125 -0.6302521008403361,0.4411764705882352 -0.6302521008403361 0.4411764705882352c -0.3571428571428571,0.15756302521008403 -0.7668067226890755,0.15756302521008403 -0.7668067226890755 0.15756302521008403c -0.49369747899159655,0.0 -0.9138655462184873,-0.19957983193277307 -0.9138655462184873 -0.19957983193277307c -0.4201680672268907,-0.19957983193277307 -0.7300420168067226,-0.6039915966386554 -0.7300420168067226 -0.6039915966386554c -0.3098739495798319,-0.40441176470588225 -0.48844537815126043,-1.0084033613445376 -0.48844537815126043 -1.0084033613445376c -0.17857142857142855,-0.6039915966386554 -0.17857142857142855,-1.41281512605042 -0.17857142857142855 -1.41281512605042c 0.0,-1.0084033613445376 0.21008403361344535,-1.7174369747899156 0.21008403361344535 -1.7174369747899156c 0.21008403361344535,-0.7090336134453781 0.5672268907563025,-1.1554621848739495 0.5672268907563025 -1.1554621848739495c 0.3571428571428571,-0.44642857142857134 0.8140756302521007,-0.6512605042016806 0.8140756302521007 -0.6512605042016806c 0.45693277310924363,-0.2048319327731092 0.9611344537815124,-0.2048319327731092 0.9611344537815124 -0.2048319327731092c 0.5462184873949579,0.0 0.940126050420168,0.2048319327731092 0.940126050420168 0.2048319327731092c 0.39390756302521,0.2048319327731092 0.6775210084033613,0.509453781512605 0.6775210084033613 0.509453781512605ZM 35.54621848739495,94.69537815126053 ZM 38.16176470588235,94.8214285714286 c -1.01890756302521,0.0 -1.5861344537815123,-0.903361344537815 -1.5861344537815123 -0.903361344537815c -0.5672268907563025,-0.903361344537815 -0.5672268907563025,-2.59453781512605 -0.5672268907563025 -2.59453781512605c 0.0,-1.691176470588235 0.5672268907563025,-2.5735294117647056 0.5672268907563025 -2.5735294117647056c 0.5672268907563025,-0.8823529411764705 1.5861344537815123,-0.8823529411764705 1.5861344537815123 -0.8823529411764705c 1.0084033613445376,0.0 1.57563025210084,0.8823529411764705 1.57563025210084 0.8823529411764705c 0.5672268907563025,0.8823529411764705 0.5672268907563025,2.5735294117647056 0.5672268907563025 2.5735294117647056c 0.0,1.691176470588235 -0.5672268907563025,2.59453781512605 -0.5672268907563025 2.59453781512605c -0.5672268907563025,0.903361344537815 -1.57563025210084,0.903361344537815 -1.57563025210084 0.903361344537815ZM 38.16176470588235,94.8214285714286 ZM 38.16176470588235,94.12815126050423 c 0.2941176470588235,0.0 0.5304621848739495,-0.16281512605042014 0.5304621848739495 -0.16281512605042014c 0.23634453781512602,-0.16281512605042014 0.4096638655462184,-0.5042016806722688 0.4096638655462184 -0.5042016806722688c 0.17331932773109243,-0.3413865546218487 0.26785714285714285,-0.8718487394957982 0.26785714285714285 -0.8718487394957982c 9.45378151260504e-2,-0.5304621848739495 9.45378151260504e-2,-1.2657563025210083 9.45378151260504e-2 -1.2657563025210083c 0.0,-0.7352941176470588 -9.45378151260504e-2,-1.2605042016806722 -9.45378151260504e-2 -1.2605042016806722c -9.45378151260504e-2,-0.5252100840336134 -0.26785714285714285,-0.8560924369747898 -0.26785714285714285 -0.8560924369747898c -0.17331932773109243,-0.33088235294117646 -0.4096638655462184,-0.48844537815126043 -0.4096638655462184 -0.48844537815126043c -0.23634453781512602,-0.15756302521008403 -0.5304621848739495,-0.15756302521008403 -0.5304621848739495 -0.15756302521008403c -0.2941176470588235,0.0 -0.5357142857142857,0.15756302521008403 -0.5357142857142857 0.15756302521008403c -0.24159663865546216,0.15756302521008403 -0.41491596638655454,0.48844537815126043 -0.41491596638655454 0.48844537815126043c -0.17331932773109243,0.33088235294117646 -0.26785714285714285,0.8560924369747898 -0.26785714285714285 0.8560924369747898c -9.45378151260504e-2,0.5252100840336134 -9.45378151260504e-2,1.2605042016806722 -9.45378151260504e-2 1.2605042016806722c 0.0,1.4705882352941175 0.36239495798319327,2.1376050420168062 0.36239495798319327 2.1376050420168062c 0.36239495798319327,0.667016806722689 0.9506302521008402,0.667016806722689 0.9506302521008402 0.667016806722689ZM 40.76680672268907,94.69537815126053 ZM 43.382352941176464,94.8214285714286 c -1.01890756302521,0.0 -1.5861344537815123,-0.903361344537815 -1.5861344537815123 -0.903361344537815c -0.5672268907563025,-0.903361344537815 -0.5672268907563025,-2.59453781512605 -0.5672268907563025 -2.59453781512605c 0.0,-1.691176470588235 0.5672268907563025,-2.5735294117647056 0.5672268907563025 -2.5735294117647056c 0.5672268907563025,-0.8823529411764705 1.5861344537815123,-0.8823529411764705 1.5861344537815123 -0.8823529411764705c 1.0084033613445376,0.0 1.57563025210084,0.8823529411764705 1.57563025210084 0.8823529411764705c 0.5672268907563025,0.8823529411764705 0.5672268907563025,2.5735294117647056 0.5672268907563025 2.5735294117647056c 0.0,1.691176470588235 -0.5672268907563025,2.59453781512605 -0.5672268907563025 2.59453781512605c -0.5672268907563025,0.903361344537815 -1.57563025210084,0.903361344537815 -1.57563025210084 0.903361344537815ZM 43.382352941176464,94.8214285714286 ZM 43.382352941176464,94.12815126050423 c 0.2941176470588235,0.0 0.5304621848739495,-0.16281512605042014 0.5304621848739495 -0.16281512605042014c 0.23634453781512602,-0.16281512605042014 0.4096638655462184,-0.5042016806722688 0.4096638655462184 -0.5042016806722688c 0.17331932773109243,-0.3413865546218487 0.26785714285714285,-0.8718487394957982 0.26785714285714285 -0.8718487394957982c 9.45378151260504e-2,-0.5304621848739495 9.45378151260504e-2,-1.2657563025210083 9.45378151260504e-2 -1.2657563025210083c 0.0,-0.7352941176470588 -9.45378151260504e-2,-1.2605042016806722 -9.45378151260504e-2 -1.2605042016806722c -9.45378151260504e-2,-0.5252100840336134 -0.26785714285714285,-0.8560924369747898 -0.26785714285714285 -0.8560924369747898c -0.17331932773109243,-0.33088235294117646 -0.4096638655462184,-0.48844537815126043 -0.4096638655462184 -0.48844537815126043c -0.23634453781512602,-0.15756302521008403 -0.5304621848739495,-0.15756302521008403 -0.5304621848739495 -0.15756302521008403c -0.2941176470588235,0.0 -0.5357142857142857,0.15756302521008403 -0.5357142857142857 0.15756302521008403c -0.24159663865546216,0.15756302521008403 -0.41491596638655454,0.48844537815126043 -0.41491596638655454 0.48844537815126043c -0.17331932773109243,0.33088235294117646 -0.26785714285714285,0.8560924369747898 -0.26785714285714285 0.8560924369747898c -9.45378151260504e-2,0.5252100840336134 -9.45378151260504e-2,1.2605042016806722 -9.45378151260504e-2 1.2605042016806722c 0.0,1.4705882352941175 0.36239495798319327,2.1376050420168062 0.36239495798319327 2.1376050420168062c 0.36239495798319327,0.667016806722689 0.9506302521008402,0.667016806722689 0.9506302521008402 0.667016806722689Z\" />\n",
       "                                                                </g>\n",
       "                                                                <g fill=\"rgb(0,0,0)\" fill-opacity=\"1.0\">\n",
       "                                                                </g>\n",
       "                                                            </g>\n",
       "                                                        </g>\n",
       "                                                    </g>\n",
       "                                                </g>\n",
       "                                            </g>\n",
       "                                            <g stroke=\"rgb(0,0,0)\" stroke-opacity=\"0.0\" fill=\"rgb(0,0,0)\" fill-opacity=\"1.0\" stroke-width=\"0.0\" stroke-linecap=\"butt\" stroke-linejoin=\"bevel\" stroke-dasharray=\"\" stroke-dashoffset=\"0.0\">\n",
       "                                                <g fill=\"rgb(0,0,0)\" fill-opacity=\"1.0\">\n",
       "                                                    <g fill=\"rgb(0,0,0)\" fill-opacity=\"1.0\">\n",
       "                                                        <g fill=\"rgb(0,0,0)\" fill-opacity=\"1.0\">\n",
       "                                                        </g>\n",
       "                                                        <g fill=\"rgb(0,0,0)\" fill-opacity=\"1.0\">\n",
       "                                                            <g fill=\"rgb(0,0,0)\" fill-opacity=\"1.0\">\n",
       "                                                            </g>\n",
       "                                                            <g fill=\"rgb(0,0,0)\" fill-opacity=\"1.0\">\n",
       "                                                                <g fill=\"rgb(0,0,0)\" fill-opacity=\"1.0\">\n",
       "                                                                    <path d=\"M 30.252100840336134,38.44537815126053 ZM 31.46008403361344,36.64915966386557 c 0.0,0.28361344537815125 0.1102941176470588,0.5147058823529411 0.1102941176470588 0.5147058823529411c 0.1102941176470588,0.23109243697478987 0.30462184873949577,0.40441176470588225 0.30462184873949577 0.40441176470588225c 0.19432773109243692,0.17331932773109243 0.45693277310924363,0.26785714285714285 0.45693277310924363 0.26785714285714285c 0.2626050420168067,9.45378151260504e-2 0.5672268907563025,9.45378151260504e-2 0.5672268907563025 9.45378151260504e-2c 0.588235294117647,0.0 0.9506302521008402,-0.3256302521008403 0.9506302521008402 -0.3256302521008403c 0.36239495798319327,-0.3256302521008403 0.36239495798319327,-0.8508403361344536 0.36239495798319327 -0.8508403361344536c 0.0,-0.3256302521008403 -0.14705882352941174,-0.5567226890756302 -0.14705882352941174 -0.5567226890756302c -0.14705882352941174,-0.23109243697478987 -0.39915966386554613,-0.40441176470588225 -0.39915966386554613 -0.40441176470588225c -0.2521008403361344,-0.17331932773109243 -0.5829831932773109,-0.31512605042016806 -0.5829831932773109 -0.31512605042016806c -0.33088235294117646,-0.14180672268907563 -0.6880252100840336,-0.28886554621848737 -0.6880252100840336 -0.28886554621848737c -0.39915966386554613,0.27310924369747897 -0.667016806722689,0.6355042016806722 -0.667016806722689 0.6355042016806722c -0.26785714285714285,0.36239495798319327 -0.26785714285714285,0.824579831932773 -0.26785714285714285 0.824579831932773ZM 31.46008403361344,36.64915966386557 ZM 33.35084033613445,34.78991596638657 c 0.3361344537815126,-0.30462184873949577 0.5199579831932772,-0.6407563025210083 0.5199579831932772 -0.6407563025210083c 0.1838235294117647,-0.3361344537815126 0.1838235294117647,-0.703781512605042 0.1838235294117647 -0.703781512605042c 0.0,-0.5042016806722688 -0.30462184873949577,-0.8455882352941175 -0.30462184873949577 -0.8455882352941175c -0.30462184873949577,-0.3413865546218487 -0.8613445378151259,-0.3413865546218487 -0.8613445378151259 -0.3413865546218487c -0.47268907563025203,0.0 -0.7773109243697477,0.2941176470588235 -0.7773109243697477 0.2941176470588235c -0.30462184873949577,0.2941176470588235 -0.30462184873949577,0.78781512605042 -0.30462184873949577 0.78781512605042c 0.0,0.30462184873949577 0.1260504201680672,0.5199579831932772 0.1260504201680672 0.5199579831932772c 0.1260504201680672,0.21533613445378147 0.3413865546218487,0.38340336134453773 0.3413865546218487 0.38340336134453773c 0.21533613445378147,0.1680672268907563 0.49369747899159655,0.29936974789915966 0.49369747899159655 0.29936974789915966c 0.2783613445378151,0.13130252100840334 0.5829831932773109,0.24684873949579828 0.5829831932773109 0.24684873949579828ZM 33.35084033613445,34.78991596638657 ZM 30.682773109243694,36.733193277310946 c 0.0,-0.3256302521008403 0.1102941176470588,-0.6039915966386554 0.1102941176470588 -0.6039915966386554c 0.1102941176470588,-0.2783613445378151 0.28361344537815125,-0.5042016806722688 0.28361344537815125 -0.5042016806722688c 0.17331932773109243,-0.22584033613445376 0.39915966386554613,-0.39915966386554613 0.39915966386554613 -0.39915966386554613c 0.22584033613445376,-0.17331932773109243 0.4674369747899159,-0.29936974789915966 0.4674369747899159 -0.29936974789915966v -4.201680672268907e-2 c -0.3676470588235294,-0.2626050420168067 -0.6512605042016806,-0.6355042016806722 -0.6512605042016806 -0.6355042016806722c -0.28361344537815125,-0.3728991596638655 -0.28361344537815125,-0.9086134453781511 -0.28361344537815125 -0.9086134453781511c 0.0,-0.38865546218487385 0.14705882352941174,-0.703781512605042 0.14705882352941174 -0.703781512605042c 0.14705882352941174,-0.31512605042016806 0.39915966386554613,-0.5409663865546218 0.39915966386554613 -0.5409663865546218c 0.2521008403361344,-0.22584033613445376 0.5987394957983193,-0.351890756302521 0.5987394957983193 -0.351890756302521c 0.34663865546218486,-0.1260504201680672 0.7563025210084032,-0.1260504201680672 0.7563025210084032 -0.1260504201680672c 0.4411764705882352,0.0 0.78781512605042,0.13130252100840334 0.78781512605042 0.13130252100840334c 0.34663865546218486,0.13130252100840334 0.5934873949579831,0.3676470588235294 0.5934873949579831 0.3676470588235294c 0.24684873949579828,0.23634453781512602 0.3781512605042016,0.5672268907563025 0.3781512605042016 0.5672268907563025c 0.13130252100840334,0.33088235294117646 0.13130252100840334,0.7195378151260504 0.13130252100840334 0.7195378151260504c 0.0,0.2626050420168067 -8.928571428571427e-2,0.5042016806722688 -8.928571428571427e-2 0.5042016806722688c -8.928571428571427e-2,0.24159663865546216 -0.2205882352941176,0.4516806722689075 -0.2205882352941176 0.4516806722689075c -0.13130252100840334,0.21008403361344535 -0.2941176470588235,0.3781512605042016 -0.2941176470588235 0.3781512605042016c -0.16281512605042014,0.1680672268907563 -0.3203781512605042,0.28361344537815125 -0.3203781512605042 0.28361344537815125v 4.201680672268907e-2 c 0.2205882352941176,0.1260504201680672 0.43067226890756294,0.28886554621848737 0.43067226890756294 0.28886554621848737c 0.21008403361344535,0.16281512605042014 0.3728991596638655,0.3676470588235294 0.3728991596638655 0.3676470588235294c 0.16281512605042014,0.2048319327731092 0.2626050420168067,0.4674369747899159 0.2626050420168067 0.4674369747899159c 9.978991596638653e-2,0.2626050420168067 9.978991596638653e-2,0.5987394957983193 9.978991596638653e-2 0.5987394957983193c 0.0,0.3781512605042016 -0.15756302521008403,0.703781512605042 -0.15756302521008403 0.703781512605042c -0.15756302521008403,0.3256302521008403 -0.4411764705882352,0.5672268907563025 -0.4411764705882352 0.5672268907563025c -0.28361344537815125,0.24159663865546216 -0.6827731092436974,0.3781512605042016 -0.6827731092436974 0.3781512605042016c -0.39915966386554613,0.13655462184873948 -0.8823529411764705,0.13655462184873948 -0.8823529411764705 0.13655462184873948c -0.47268907563025203,0.0 -0.8771008403361343,-0.13655462184873948 -0.8771008403361343 -0.13655462184873948c -0.40441176470588225,-0.13655462184873948 -0.6932773109243697,-0.38340336134453773 -0.6932773109243697 -0.38340336134453773c -0.28886554621848737,-0.24684873949579828 -0.45693277310924363,-0.5829831932773109 -0.45693277310924363 -0.5829831932773109c -0.1680672268907563,-0.3361344537815126 -0.1680672268907563,-0.7352941176470588 -0.1680672268907563 -0.7352941176470588ZM 35.47268907563025,38.44537815126053 ZM 38.088235294117645,38.57142857142859 c -1.01890756302521,0.0 -1.5861344537815123,-0.903361344537815 -1.5861344537815123 -0.903361344537815c -0.5672268907563025,-0.903361344537815 -0.5672268907563025,-2.59453781512605 -0.5672268907563025 -2.59453781512605c 0.0,-1.691176470588235 0.5672268907563025,-2.5735294117647056 0.5672268907563025 -2.5735294117647056c 0.5672268907563025,-0.8823529411764705 1.5861344537815123,-0.8823529411764705 1.5861344537815123 -0.8823529411764705c 1.0084033613445376,0.0 1.57563025210084,0.8823529411764705 1.57563025210084 0.8823529411764705c 0.5672268907563025,0.8823529411764705 0.5672268907563025,2.5735294117647056 0.5672268907563025 2.5735294117647056c 0.0,1.691176470588235 -0.5672268907563025,2.59453781512605 -0.5672268907563025 2.59453781512605c -0.5672268907563025,0.903361344537815 -1.57563025210084,0.903361344537815 -1.57563025210084 0.903361344537815ZM 38.088235294117645,38.57142857142859 ZM 38.088235294117645,37.878151260504225 c 0.2941176470588235,0.0 0.5304621848739495,-0.16281512605042014 0.5304621848739495 -0.16281512605042014c 0.23634453781512602,-0.16281512605042014 0.4096638655462184,-0.5042016806722688 0.4096638655462184 -0.5042016806722688c 0.17331932773109243,-0.3413865546218487 0.26785714285714285,-0.8718487394957982 0.26785714285714285 -0.8718487394957982c 9.45378151260504e-2,-0.5304621848739495 9.45378151260504e-2,-1.2657563025210083 9.45378151260504e-2 -1.2657563025210083c 0.0,-0.7352941176470588 -9.45378151260504e-2,-1.2605042016806722 -9.45378151260504e-2 -1.2605042016806722c -9.45378151260504e-2,-0.5252100840336134 -0.26785714285714285,-0.8560924369747898 -0.26785714285714285 -0.8560924369747898c -0.17331932773109243,-0.33088235294117646 -0.4096638655462184,-0.48844537815126043 -0.4096638655462184 -0.48844537815126043c -0.23634453781512602,-0.15756302521008403 -0.5304621848739495,-0.15756302521008403 -0.5304621848739495 -0.15756302521008403c -0.2941176470588235,0.0 -0.5357142857142857,0.15756302521008403 -0.5357142857142857 0.15756302521008403c -0.24159663865546216,0.15756302521008403 -0.41491596638655454,0.48844537815126043 -0.41491596638655454 0.48844537815126043c -0.17331932773109243,0.33088235294117646 -0.26785714285714285,0.8560924369747898 -0.26785714285714285 0.8560924369747898c -9.45378151260504e-2,0.5252100840336134 -9.45378151260504e-2,1.2605042016806722 -9.45378151260504e-2 1.2605042016806722c 0.0,1.4705882352941175 0.36239495798319327,2.1376050420168062 0.36239495798319327 2.1376050420168062c 0.36239495798319327,0.667016806722689 0.9506302521008402,0.667016806722689 0.9506302521008402 0.667016806722689ZM 40.693277310924366,38.44537815126053 ZM 43.30882352941176,38.57142857142859 c -1.01890756302521,0.0 -1.5861344537815123,-0.903361344537815 -1.5861344537815123 -0.903361344537815c -0.5672268907563025,-0.903361344537815 -0.5672268907563025,-2.59453781512605 -0.5672268907563025 -2.59453781512605c 0.0,-1.691176470588235 0.5672268907563025,-2.5735294117647056 0.5672268907563025 -2.5735294117647056c 0.5672268907563025,-0.8823529411764705 1.5861344537815123,-0.8823529411764705 1.5861344537815123 -0.8823529411764705c 1.0084033613445376,0.0 1.57563025210084,0.8823529411764705 1.57563025210084 0.8823529411764705c 0.5672268907563025,0.8823529411764705 0.5672268907563025,2.5735294117647056 0.5672268907563025 2.5735294117647056c 0.0,1.691176470588235 -0.5672268907563025,2.59453781512605 -0.5672268907563025 2.59453781512605c -0.5672268907563025,0.903361344537815 -1.57563025210084,0.903361344537815 -1.57563025210084 0.903361344537815ZM 43.30882352941176,38.57142857142859 ZM 43.30882352941176,37.878151260504225 c 0.2941176470588235,0.0 0.5304621848739495,-0.16281512605042014 0.5304621848739495 -0.16281512605042014c 0.23634453781512602,-0.16281512605042014 0.4096638655462184,-0.5042016806722688 0.4096638655462184 -0.5042016806722688c 0.17331932773109243,-0.3413865546218487 0.26785714285714285,-0.8718487394957982 0.26785714285714285 -0.8718487394957982c 9.45378151260504e-2,-0.5304621848739495 9.45378151260504e-2,-1.2657563025210083 9.45378151260504e-2 -1.2657563025210083c 0.0,-0.7352941176470588 -9.45378151260504e-2,-1.2605042016806722 -9.45378151260504e-2 -1.2605042016806722c -9.45378151260504e-2,-0.5252100840336134 -0.26785714285714285,-0.8560924369747898 -0.26785714285714285 -0.8560924369747898c -0.17331932773109243,-0.33088235294117646 -0.4096638655462184,-0.48844537815126043 -0.4096638655462184 -0.48844537815126043c -0.23634453781512602,-0.15756302521008403 -0.5304621848739495,-0.15756302521008403 -0.5304621848739495 -0.15756302521008403c -0.2941176470588235,0.0 -0.5357142857142857,0.15756302521008403 -0.5357142857142857 0.15756302521008403c -0.24159663865546216,0.15756302521008403 -0.41491596638655454,0.48844537815126043 -0.41491596638655454 0.48844537815126043c -0.17331932773109243,0.33088235294117646 -0.26785714285714285,0.8560924369747898 -0.26785714285714285 0.8560924369747898c -9.45378151260504e-2,0.5252100840336134 -9.45378151260504e-2,1.2605042016806722 -9.45378151260504e-2 1.2605042016806722c 0.0,1.4705882352941175 0.36239495798319327,2.1376050420168062 0.36239495798319327 2.1376050420168062c 0.36239495798319327,0.667016806722689 0.9506302521008402,0.667016806722689 0.9506302521008402 0.667016806722689Z\" />\n",
       "                                                                </g>\n",
       "                                                                <g fill=\"rgb(0,0,0)\" fill-opacity=\"1.0\">\n",
       "                                                                </g>\n",
       "                                                            </g>\n",
       "                                                        </g>\n",
       "                                                    </g>\n",
       "                                                </g>\n",
       "                                            </g>\n",
       "                                        </g>\n",
       "                                    </g>\n",
       "                                </g>\n",
       "                            </g>\n",
       "                        </g>\n",
       "                        <g>\n",
       "                            <g stroke=\"rgb(0,0,0)\" stroke-opacity=\"1.0\" stroke-width=\"0.9999999999999998\" stroke-linecap=\"square\" stroke-linejoin=\"miter\" stroke-dasharray=\"\" stroke-dashoffset=\"0.0\">\n",
       "                                <path d=\"M 55.021008403361336,259.99999999999994 h 380.4096638655462 \" />\n",
       "                            </g>\n",
       "                            <g stroke=\"rgb(0,0,0)\" stroke-opacity=\"1.0\" stroke-width=\"0.9999999999999998\" stroke-linecap=\"butt\" stroke-linejoin=\"miter\" stroke-dasharray=\"\" stroke-dashoffset=\"0.0\">\n",
       "                                <g>\n",
       "                                    <path d=\"M 55.021008403361336,259.99999999999994 v -1.9999999999999996 \" />\n",
       "                                </g>\n",
       "                                <g>\n",
       "                                    <path d=\"M 62.94620973389355,259.99999999999994 v -1.9999999999999996 \" />\n",
       "                                </g>\n",
       "                                <g>\n",
       "                                    <path d=\"M 70.87141106442576,259.99999999999994 v -1.9999999999999996 \" />\n",
       "                                </g>\n",
       "                                <g>\n",
       "                                    <path d=\"M 78.79661239495798,259.99999999999994 v -1.9999999999999996 \" />\n",
       "                                </g>\n",
       "                                <g>\n",
       "                                    <path d=\"M 86.72181372549018,259.99999999999994 v -1.9999999999999996 \" />\n",
       "                                </g>\n",
       "                                <g>\n",
       "                                    <path d=\"M 94.6470150560224,259.99999999999994 v -1.9999999999999996 \" />\n",
       "                                </g>\n",
       "                                <g>\n",
       "                                    <path d=\"M 102.5722163865546,259.99999999999994 v -1.9999999999999996 \" />\n",
       "                                </g>\n",
       "                                <g>\n",
       "                                    <path d=\"M 110.49741771708682,259.99999999999994 v -1.9999999999999996 \" />\n",
       "                                </g>\n",
       "                                <g>\n",
       "                                    <path d=\"M 118.42261904761904,259.99999999999994 v -1.9999999999999996 \" />\n",
       "                                </g>\n",
       "                                <g>\n",
       "                                    <path d=\"M 126.34782037815124,259.99999999999994 v -1.9999999999999996 \" />\n",
       "                                </g>\n",
       "                                <g>\n",
       "                                    <path d=\"M 134.27302170868347,259.99999999999994 v -1.9999999999999996 \" />\n",
       "                                </g>\n",
       "                                <g>\n",
       "                                    <path d=\"M 142.19822303921566,259.99999999999994 v -1.9999999999999996 \" />\n",
       "                                </g>\n",
       "                                <g>\n",
       "                                    <path d=\"M 150.12342436974788,259.99999999999994 v -1.9999999999999996 \" />\n",
       "                                </g>\n",
       "                                <g>\n",
       "                                    <path d=\"M 158.04862570028007,259.99999999999994 v -1.9999999999999996 \" />\n",
       "                                </g>\n",
       "                                <g>\n",
       "                                    <path d=\"M 165.9738270308123,259.99999999999994 v -1.9999999999999996 \" />\n",
       "                                </g>\n",
       "                                <g>\n",
       "                                    <path d=\"M 173.8990283613445,259.99999999999994 v -1.9999999999999996 \" />\n",
       "                                </g>\n",
       "                                <g>\n",
       "                                    <path d=\"M 181.82422969187672,259.99999999999994 v -1.9999999999999996 \" />\n",
       "                                </g>\n",
       "                                <g>\n",
       "                                    <path d=\"M 189.74943102240894,259.99999999999994 v -1.9999999999999996 \" />\n",
       "                                </g>\n",
       "                                <g>\n",
       "                                    <path d=\"M 197.67463235294116,259.99999999999994 v -1.9999999999999996 \" />\n",
       "                                </g>\n",
       "                                <g>\n",
       "                                    <path d=\"M 205.59983368347338,259.99999999999994 v -1.9999999999999996 \" />\n",
       "                                </g>\n",
       "                                <g>\n",
       "                                    <path d=\"M 213.5250350140056,259.99999999999994 v -1.9999999999999996 \" />\n",
       "                                </g>\n",
       "                                <g>\n",
       "                                    <path d=\"M 221.4502363445378,259.99999999999994 v -1.9999999999999996 \" />\n",
       "                                </g>\n",
       "                                <g>\n",
       "                                    <path d=\"M 229.37543767506997,259.99999999999994 v -1.9999999999999996 \" />\n",
       "                                </g>\n",
       "                                <g>\n",
       "                                    <path d=\"M 237.3006390056022,259.99999999999994 v -1.9999999999999996 \" />\n",
       "                                </g>\n",
       "                                <g>\n",
       "                                    <path d=\"M 245.2258403361344,259.99999999999994 v -1.9999999999999996 \" />\n",
       "                                </g>\n",
       "                                <g>\n",
       "                                    <path d=\"M 253.15104166666663,259.99999999999994 v -1.9999999999999996 \" />\n",
       "                                </g>\n",
       "                                <g>\n",
       "                                    <path d=\"M 261.07624299719885,259.99999999999994 v -1.9999999999999996 \" />\n",
       "                                </g>\n",
       "                                <g>\n",
       "                                    <path d=\"M 269.00144432773106,259.99999999999994 v -1.9999999999999996 \" />\n",
       "                                </g>\n",
       "                                <g>\n",
       "                                    <path d=\"M 276.9266456582632,259.99999999999994 v -1.9999999999999996 \" />\n",
       "                                </g>\n",
       "                                <g>\n",
       "                                    <path d=\"M 284.85184698879544,259.99999999999994 v -1.9999999999999996 \" />\n",
       "                                </g>\n",
       "                                <g>\n",
       "                                    <path d=\"M 292.77704831932766,259.99999999999994 v -1.9999999999999996 \" />\n",
       "                                </g>\n",
       "                                <g>\n",
       "                                    <path d=\"M 300.7022496498599,259.99999999999994 v -1.9999999999999996 \" />\n",
       "                                </g>\n",
       "                                <g>\n",
       "                                    <path d=\"M 308.6274509803921,259.99999999999994 v -1.9999999999999996 \" />\n",
       "                                </g>\n",
       "                                <g>\n",
       "                                    <path d=\"M 316.5526523109243,259.99999999999994 v -1.9999999999999996 \" />\n",
       "                                </g>\n",
       "                                <g>\n",
       "                                    <path d=\"M 324.47785364145653,259.99999999999994 v -1.9999999999999996 \" />\n",
       "                                </g>\n",
       "                                <g>\n",
       "                                    <path d=\"M 332.40305497198875,259.99999999999994 v -1.9999999999999996 \" />\n",
       "                                </g>\n",
       "                                <g>\n",
       "                                    <path d=\"M 340.32825630252097,259.99999999999994 v -1.9999999999999996 \" />\n",
       "                                </g>\n",
       "                                <g>\n",
       "                                    <path d=\"M 348.2534576330532,259.99999999999994 v -1.9999999999999996 \" />\n",
       "                                </g>\n",
       "                                <g>\n",
       "                                    <path d=\"M 356.1786589635854,259.99999999999994 v -1.9999999999999996 \" />\n",
       "                                </g>\n",
       "                                <g>\n",
       "                                    <path d=\"M 364.1038602941176,259.99999999999994 v -1.9999999999999996 \" />\n",
       "                                </g>\n",
       "                                <g>\n",
       "                                    <path d=\"M 372.02906162464984,259.99999999999994 v -1.9999999999999996 \" />\n",
       "                                </g>\n",
       "                                <g>\n",
       "                                    <path d=\"M 379.95426295518206,259.99999999999994 v -1.9999999999999996 \" />\n",
       "                                </g>\n",
       "                                <g>\n",
       "                                    <path d=\"M 387.8794642857143,259.99999999999994 v -1.9999999999999996 \" />\n",
       "                                </g>\n",
       "                                <g>\n",
       "                                    <path d=\"M 395.8046656162465,259.99999999999994 v -1.9999999999999996 \" />\n",
       "                                </g>\n",
       "                                <g>\n",
       "                                    <path d=\"M 403.72986694677866,259.99999999999994 v -1.9999999999999996 \" />\n",
       "                                </g>\n",
       "                                <g>\n",
       "                                    <path d=\"M 411.6550682773109,259.99999999999994 v -1.9999999999999996 \" />\n",
       "                                </g>\n",
       "                                <g>\n",
       "                                    <path d=\"M 419.5802696078431,259.99999999999994 v -1.9999999999999996 \" />\n",
       "                                </g>\n",
       "                                <g>\n",
       "                                    <path d=\"M 427.5054709383753,259.99999999999994 v -1.9999999999999996 \" />\n",
       "                                </g>\n",
       "                                <g>\n",
       "                                    <path d=\"M 435.43067226890753,259.99999999999994 v -1.9999999999999996 \" />\n",
       "                                </g>\n",
       "                                <g>\n",
       "                                    <path d=\"M 55.021008403361336,259.99999999999994 v -4.999999999999999 \" />\n",
       "                                </g>\n",
       "                                <g>\n",
       "                                    <path d=\"M 118.42261904761904,259.99999999999994 v -4.999999999999999 \" />\n",
       "                                </g>\n",
       "                                <g>\n",
       "                                    <path d=\"M 181.82422969187672,259.99999999999994 v -4.999999999999999 \" />\n",
       "                                </g>\n",
       "                                <g>\n",
       "                                    <path d=\"M 245.2258403361344,259.99999999999994 v -4.999999999999999 \" />\n",
       "                                </g>\n",
       "                                <g>\n",
       "                                    <path d=\"M 308.6274509803921,259.99999999999994 v -4.999999999999999 \" />\n",
       "                                </g>\n",
       "                                <g>\n",
       "                                    <path d=\"M 372.02906162464984,259.99999999999994 v -4.999999999999999 \" />\n",
       "                                </g>\n",
       "                                <g>\n",
       "                                    <path d=\"M 435.43067226890753,259.99999999999994 v -4.999999999999999 \" />\n",
       "                                </g>\n",
       "                            </g>\n",
       "                            <g fill=\"rgb(255,255,255)\" fill-opacity=\"1.0\">\n",
       "                                <g stroke=\"rgb(0,0,0)\" stroke-opacity=\"0.0\" fill=\"rgb(0,0,0)\" fill-opacity=\"1.0\" stroke-width=\"0.0\" stroke-linecap=\"butt\" stroke-linejoin=\"bevel\" stroke-dasharray=\"\" stroke-dashoffset=\"0.0\">\n",
       "                                    <g fill=\"rgb(0,0,0)\" fill-opacity=\"1.0\">\n",
       "                                        <g fill=\"rgb(0,0,0)\" fill-opacity=\"1.0\">\n",
       "                                            <g fill=\"rgb(0,0,0)\" fill-opacity=\"1.0\">\n",
       "                                            </g>\n",
       "                                            <g fill=\"rgb(0,0,0)\" fill-opacity=\"1.0\">\n",
       "                                                <g fill=\"rgb(0,0,0)\" fill-opacity=\"1.0\">\n",
       "                                                </g>\n",
       "                                                <g fill=\"rgb(0,0,0)\" fill-opacity=\"1.0\">\n",
       "                                                    <g fill=\"rgb(0,0,0)\" fill-opacity=\"1.0\">\n",
       "                                                        <path d=\"M 52.87289915966386,279.99999999999994 ZM 55.488445378151255,280.126050420168 c -1.01890756302521,0.0 -1.5861344537815125,-0.903361344537815 -1.5861344537815125 -0.903361344537815c -0.5672268907563025,-0.903361344537815 -0.5672268907563025,-2.59453781512605 -0.5672268907563025 -2.59453781512605c 0.0,-1.691176470588235 0.5672268907563025,-2.5735294117647056 0.5672268907563025 -2.5735294117647056c 0.5672268907563025,-0.8823529411764705 1.5861344537815125,-0.8823529411764705 1.5861344537815125 -0.8823529411764705c 1.0084033613445378,0.0 1.5756302521008403,0.8823529411764705 1.5756302521008403 0.8823529411764705c 0.5672268907563025,0.8823529411764705 0.5672268907563025,2.5735294117647056 0.5672268907563025 2.5735294117647056c 0.0,1.691176470588235 -0.5672268907563025,2.59453781512605 -0.5672268907563025 2.59453781512605c -0.5672268907563025,0.903361344537815 -1.5756302521008403,0.903361344537815 -1.5756302521008403 0.903361344537815ZM 55.488445378151255,280.126050420168 ZM 55.488445378151255,279.4327731092436 c 0.29411764705882354,0.0 0.5304621848739496,-0.16281512605042014 0.5304621848739496 -0.16281512605042014c 0.23634453781512604,-0.16281512605042014 0.4096638655462185,-0.5042016806722688 0.4096638655462185 -0.5042016806722688c 0.17331932773109246,-0.3413865546218487 0.26785714285714285,-0.8718487394957982 0.26785714285714285 -0.8718487394957982c 9.453781512605042e-2,-0.5304621848739495 9.453781512605042e-2,-1.2657563025210083 9.453781512605042e-2 -1.2657563025210083c 0.0,-0.7352941176470588 -9.453781512605042e-2,-1.2605042016806722 -9.453781512605042e-2 -1.2605042016806722c -9.453781512605042e-2,-0.5252100840336134 -0.26785714285714285,-0.8560924369747898 -0.26785714285714285 -0.8560924369747898c -0.17331932773109246,-0.33088235294117646 -0.4096638655462185,-0.48844537815126043 -0.4096638655462185 -0.48844537815126043c -0.23634453781512604,-0.15756302521008403 -0.5304621848739496,-0.15756302521008403 -0.5304621848739496 -0.15756302521008403c -0.29411764705882354,0.0 -0.5357142857142857,0.15756302521008403 -0.5357142857142857 0.15756302521008403c -0.2415966386554622,0.15756302521008403 -0.4149159663865546,0.48844537815126043 -0.4149159663865546 0.48844537815126043c -0.17331932773109246,0.33088235294117646 -0.26785714285714285,0.8560924369747898 -0.26785714285714285 0.8560924369747898c -9.453781512605042e-2,0.5252100840336134 -9.453781512605042e-2,1.2605042016806722 -9.453781512605042e-2 1.2605042016806722c 0.0,1.4705882352941175 0.3623949579831933,2.1376050420168062 0.3623949579831933 2.1376050420168062c 0.3623949579831933,0.667016806722689 0.9506302521008404,0.667016806722689 0.9506302521008404 0.667016806722689Z\" />\n",
       "                                                    </g>\n",
       "                                                    <g fill=\"rgb(0,0,0)\" fill-opacity=\"1.0\">\n",
       "                                                    </g>\n",
       "                                                </g>\n",
       "                                            </g>\n",
       "                                        </g>\n",
       "                                    </g>\n",
       "                                </g>\n",
       "                                <g fill=\"rgb(255,255,255)\" fill-opacity=\"1.0\">\n",
       "                                    <g stroke=\"rgb(0,0,0)\" stroke-opacity=\"0.0\" fill=\"rgb(0,0,0)\" fill-opacity=\"1.0\" stroke-width=\"0.0\" stroke-linecap=\"butt\" stroke-linejoin=\"bevel\" stroke-dasharray=\"\" stroke-dashoffset=\"0.0\">\n",
       "                                        <g fill=\"rgb(0,0,0)\" fill-opacity=\"1.0\">\n",
       "                                            <g fill=\"rgb(0,0,0)\" fill-opacity=\"1.0\">\n",
       "                                                <g fill=\"rgb(0,0,0)\" fill-opacity=\"1.0\">\n",
       "                                                </g>\n",
       "                                                <g fill=\"rgb(0,0,0)\" fill-opacity=\"1.0\">\n",
       "                                                    <g fill=\"rgb(0,0,0)\" fill-opacity=\"1.0\">\n",
       "                                                    </g>\n",
       "                                                    <g fill=\"rgb(0,0,0)\" fill-opacity=\"1.0\">\n",
       "                                                        <g fill=\"rgb(0,0,0)\" fill-opacity=\"1.0\">\n",
       "                                                            <path d=\"M 116.2377450980392,279.99999999999994 ZM 116.6579131652661,279.48529411764696 c 0.7563025210084033,-0.7563025210084032 1.3445378151260505,-1.3655462184873948 1.3445378151260505 -1.3655462184873948c 0.5882352941176471,-0.6092436974789915 0.9873949579831933,-1.1292016806722687 0.9873949579831933 -1.1292016806722687c 0.3991596638655462,-0.5199579831932772 0.6092436974789917,-0.9558823529411763 0.6092436974789917 -0.9558823529411763c 0.21008403361344538,-0.4359243697478991 0.21008403361344538,-0.8455882352941175 0.21008403361344538 -0.8455882352941175c 0.0,-0.5777310924369747 -0.3151260504201681,-0.9453781512605041 -0.3151260504201681 -0.9453781512605041c -0.3151260504201681,-0.3676470588235294 -0.9558823529411765,-0.3676470588235294 -0.9558823529411765 -0.3676470588235294c -0.42016806722689076,0.0 -0.7773109243697479,0.23634453781512602 -0.7773109243697479 0.23634453781512602c -0.35714285714285715,0.23634453781512602 -0.6512605042016807,0.5724789915966386 -0.6512605042016807 0.5724789915966386l -0.49369747899159666,-0.49369747899159655 c 0.42016806722689076,-0.46218487394957974 0.8928571428571429,-0.7405462184873949 0.8928571428571429 -0.7405462184873949c 0.4726890756302521,-0.2783613445378151 1.134453781512605,-0.2783613445378151 1.134453781512605 -0.2783613445378151c 0.9348739495798319,0.0 1.4705882352941178,0.5409663865546218 1.4705882352941178 0.5409663865546218c 0.5357142857142857,0.5409663865546218 0.5357142857142857,1.4338235294117645 0.5357142857142857 1.4338235294117645c 0.0,0.47268907563025203 -0.20483193277310924,0.9506302521008402 -0.20483193277310924 0.9506302521008402c -0.20483193277310924,0.47794117647058815 -0.5672268907563025,0.9873949579831931 -0.5672268907563025 0.9873949579831931c -0.3623949579831933,0.509453781512605 -0.861344537815126,1.060924369747899 -0.861344537815126 1.060924369747899c -0.4989495798319328,0.551470588235294 -1.0976890756302522,1.1712184873949578 -1.0976890756302522 1.1712184873949578c 0.273109243697479,-2.1008403361344536e-2 0.5672268907563025,-4.201680672268907e-2 0.5672268907563025 -4.201680672268907e-2c 0.29411764705882354,-2.1008403361344536e-2 0.5567226890756303,-2.1008403361344536e-2 0.5567226890756303 -2.1008403361344536e-2h 1.9432773109243697 v 0.745798319327731 h -4.327731092436975 v -0.5147058823529411 Z\" />\n",
       "                                                        </g>\n",
       "                                                        <g fill=\"rgb(0,0,0)\" fill-opacity=\"1.0\">\n",
       "                                                        </g>\n",
       "                                                    </g>\n",
       "                                                </g>\n",
       "                                            </g>\n",
       "                                        </g>\n",
       "                                    </g>\n",
       "                                    <g fill=\"rgb(255,255,255)\" fill-opacity=\"1.0\">\n",
       "                                        <g stroke=\"rgb(0,0,0)\" stroke-opacity=\"0.0\" fill=\"rgb(0,0,0)\" fill-opacity=\"1.0\" stroke-width=\"0.0\" stroke-linecap=\"butt\" stroke-linejoin=\"bevel\" stroke-dasharray=\"\" stroke-dashoffset=\"0.0\">\n",
       "                                            <g fill=\"rgb(0,0,0)\" fill-opacity=\"1.0\">\n",
       "                                                <g fill=\"rgb(0,0,0)\" fill-opacity=\"1.0\">\n",
       "                                                    <g fill=\"rgb(0,0,0)\" fill-opacity=\"1.0\">\n",
       "                                                    </g>\n",
       "                                                    <g fill=\"rgb(0,0,0)\" fill-opacity=\"1.0\">\n",
       "                                                        <g fill=\"rgb(0,0,0)\" fill-opacity=\"1.0\">\n",
       "                                                        </g>\n",
       "                                                        <g fill=\"rgb(0,0,0)\" fill-opacity=\"1.0\">\n",
       "                                                            <g fill=\"rgb(0,0,0)\" fill-opacity=\"1.0\">\n",
       "                                                                <path d=\"M 179.45028011204477,279.99999999999994 ZM 182.64355742296914,277.45798319327724 v -1.9432773109243695 c 0.0,-0.27310924369747897 1.5756302521008403e-2,-0.6460084033613445 1.5756302521008403e-2 -0.6460084033613445c 1.5756302521008403e-2,-0.3728991596638655 3.676470588235294e-2,-0.6460084033613445 3.676470588235294e-2 -0.6460084033613445h -4.201680672268908e-2 c -0.12605042016806722,0.24159663865546216 -0.26260504201680673,0.47268907563025203 -0.26260504201680673 0.47268907563025203c -0.1365546218487395,0.23109243697478987 -0.28361344537815125,0.47268907563025203 -0.28361344537815125 0.47268907563025203l -1.565126050420168,2.2899159663865545 h 2.100840336134454 ZM 182.64355742296914,277.45798319327724 ZM 184.37675070028007,278.1512605042016 h -0.9138655462184874 v 1.848739495798319 h -0.819327731092437 v -1.848739495798319 h -3.014705882352941 v -0.5672268907563025 l 2.86764705882353,-4.285714285714286 h 0.9663865546218487 v 4.159663865546218 h 0.9138655462184874 v 0.6932773109243697 Z\" />\n",
       "                                                            </g>\n",
       "                                                            <g fill=\"rgb(0,0,0)\" fill-opacity=\"1.0\">\n",
       "                                                            </g>\n",
       "                                                        </g>\n",
       "                                                    </g>\n",
       "                                                </g>\n",
       "                                            </g>\n",
       "                                        </g>\n",
       "                                        <g fill=\"rgb(255,255,255)\" fill-opacity=\"1.0\">\n",
       "                                            <g stroke=\"rgb(0,0,0)\" stroke-opacity=\"0.0\" fill=\"rgb(0,0,0)\" fill-opacity=\"1.0\" stroke-width=\"0.0\" stroke-linecap=\"butt\" stroke-linejoin=\"bevel\" stroke-dasharray=\"\" stroke-dashoffset=\"0.0\">\n",
       "                                                <g fill=\"rgb(0,0,0)\" fill-opacity=\"1.0\">\n",
       "                                                    <g fill=\"rgb(0,0,0)\" fill-opacity=\"1.0\">\n",
       "                                                        <g fill=\"rgb(0,0,0)\" fill-opacity=\"1.0\">\n",
       "                                                        </g>\n",
       "                                                        <g fill=\"rgb(0,0,0)\" fill-opacity=\"1.0\">\n",
       "                                                            <g fill=\"rgb(0,0,0)\" fill-opacity=\"1.0\">\n",
       "                                                            </g>\n",
       "                                                            <g fill=\"rgb(0,0,0)\" fill-opacity=\"1.0\">\n",
       "                                                                <g fill=\"rgb(0,0,0)\" fill-opacity=\"1.0\">\n",
       "                                                                    <path d=\"M 243.07773109243692,279.99999999999994 ZM 245.8928571428571,279.4432773109243 c 0.25210084033613445,0.0 0.46218487394957986,-0.10504201680672268 0.46218487394957986 -0.10504201680672268c 0.21008403361344538,-0.10504201680672268 0.36764705882352944,-0.29936974789915966 0.36764705882352944 -0.29936974789915966c 0.15756302521008406,-0.19432773109243692 0.24684873949579833,-0.46218487394957974 0.24684873949579833 -0.46218487394957974c 8.928571428571429e-2,-0.26785714285714285 8.928571428571429e-2,-0.6039915966386554 8.928571428571429e-2 -0.6039915966386554c 0.0,-0.6617647058823529 -0.3046218487394958,-1.0399159663865545 -0.3046218487394958 -1.0399159663865545c -0.3046218487394958,-0.3781512605042016 -0.9348739495798319,-0.3781512605042016 -0.9348739495798319 -0.3781512605042016c -0.3151260504201681,0.0 -0.6880252100840337,0.2048319327731092 -0.6880252100840337 0.2048319327731092c -0.3728991596638656,0.2048319327731092 -0.7090336134453782,0.6775210084033613 -0.7090336134453782 0.6775210084033613c 8.403361344537816e-2,0.9873949579831931 0.4569327731092437,1.496848739495798 0.4569327731092437 1.496848739495798c 0.3728991596638656,0.509453781512605 1.013655462184874,0.509453781512605 1.013655462184874 0.509453781512605ZM 245.8928571428571,279.4432773109243 ZM 247.26890756302518,274.42226890756297 c -0.21008403361344538,-0.24159663865546216 -0.4989495798319328,-0.38340336134453773 -0.4989495798319328 -0.38340336134453773c -0.2888655462184874,-0.14180672268907563 -0.6039915966386555,-0.14180672268907563 -0.6039915966386555 -0.14180672268907563c -0.3466386554621849,0.0 -0.661764705882353,0.14705882352941174 -0.661764705882353 0.14705882352941174c -0.3151260504201681,0.14705882352941174 -0.5567226890756303,0.4831932773109243 -0.5567226890756303 0.4831932773109243c -0.2415966386554622,0.3361344537815126 -0.38865546218487396,0.8771008403361343 -0.38865546218487396 0.8771008403361343c -0.14705882352941177,0.5409663865546218 -0.15756302521008406,1.3392857142857142 -0.15756302521008406 1.3392857142857142c 0.3151260504201681,-0.38865546218487385 0.7352941176470589,-0.6144957983193277 0.7352941176470589 -0.6144957983193277c 0.42016806722689076,-0.22584033613445376 0.8298319327731092,-0.22584033613445376 0.8298319327731092 -0.22584033613445376c 0.8718487394957983,0.0 1.3918067226890758,0.5147058823529411 1.3918067226890758 0.5147058823529411c 0.5199579831932774,0.5147058823529411 0.5199579831932774,1.5546218487394954 0.5199579831932774 1.5546218487394954c 0.0,0.4831932773109243 -0.15756302521008406,0.8771008403361343 -0.15756302521008406 0.8771008403361343c -0.15756302521008406,0.39390756302521 -0.430672268907563,0.6775210084033613 -0.430672268907563 0.6775210084033613c -0.273109243697479,0.28361344537815125 -0.6302521008403362,0.4411764705882352 -0.6302521008403362 0.4411764705882352c -0.35714285714285715,0.15756302521008403 -0.7668067226890756,0.15756302521008403 -0.7668067226890756 0.15756302521008403c -0.49369747899159666,0.0 -0.9138655462184874,-0.19957983193277307 -0.9138655462184874 -0.19957983193277307c -0.42016806722689076,-0.19957983193277307 -0.7300420168067228,-0.6039915966386554 -0.7300420168067228 -0.6039915966386554c -0.30987394957983194,-0.40441176470588225 -0.4884453781512605,-1.0084033613445376 -0.4884453781512605 -1.0084033613445376c -0.17857142857142858,-0.6039915966386554 -0.17857142857142858,-1.41281512605042 -0.17857142857142858 -1.41281512605042c 0.0,-1.0084033613445376 0.21008403361344538,-1.7174369747899156 0.21008403361344538 -1.7174369747899156c 0.21008403361344538,-0.7090336134453781 0.5672268907563025,-1.1554621848739495 0.5672268907563025 -1.1554621848739495c 0.35714285714285715,-0.44642857142857134 0.8140756302521008,-0.6512605042016806 0.8140756302521008 -0.6512605042016806c 0.4569327731092437,-0.2048319327731092 0.9611344537815126,-0.2048319327731092 0.9611344537815126 -0.2048319327731092c 0.546218487394958,0.0 0.9401260504201681,0.2048319327731092 0.9401260504201681 0.2048319327731092c 0.3939075630252101,0.2048319327731092 0.6775210084033614,0.509453781512605 0.6775210084033614 0.509453781512605Z\" />\n",
       "                                                                </g>\n",
       "                                                                <g fill=\"rgb(0,0,0)\" fill-opacity=\"1.0\">\n",
       "                                                                </g>\n",
       "                                                            </g>\n",
       "                                                        </g>\n",
       "                                                    </g>\n",
       "                                                </g>\n",
       "                                            </g>\n",
       "                                            <g fill=\"rgb(255,255,255)\" fill-opacity=\"1.0\">\n",
       "                                                <g stroke=\"rgb(0,0,0)\" stroke-opacity=\"0.0\" fill=\"rgb(0,0,0)\" fill-opacity=\"1.0\" stroke-width=\"0.0\" stroke-linecap=\"butt\" stroke-linejoin=\"bevel\" stroke-dasharray=\"\" stroke-dashoffset=\"0.0\">\n",
       "                                                    <g fill=\"rgb(0,0,0)\" fill-opacity=\"1.0\">\n",
       "                                                        <g fill=\"rgb(0,0,0)\" fill-opacity=\"1.0\">\n",
       "                                                            <g fill=\"rgb(0,0,0)\" fill-opacity=\"1.0\">\n",
       "                                                            </g>\n",
       "                                                            <g fill=\"rgb(0,0,0)\" fill-opacity=\"1.0\">\n",
       "                                                                <g fill=\"rgb(0,0,0)\" fill-opacity=\"1.0\">\n",
       "                                                                </g>\n",
       "                                                                <g fill=\"rgb(0,0,0)\" fill-opacity=\"1.0\">\n",
       "                                                                    <g fill=\"rgb(0,0,0)\" fill-opacity=\"1.0\">\n",
       "                                                                        <path d=\"M 306.4478291316526,279.99999999999994 ZM 307.6558123249299,278.20378151260496 c 0.0,0.28361344537815125 0.11029411764705882,0.5147058823529411 0.11029411764705882 0.5147058823529411c 0.11029411764705882,0.23109243697478987 0.3046218487394958,0.40441176470588225 0.3046218487394958 0.40441176470588225c 0.19432773109243698,0.17331932773109243 0.4569327731092437,0.26785714285714285 0.4569327731092437 0.26785714285714285c 0.26260504201680673,9.45378151260504e-2 0.5672268907563025,9.45378151260504e-2 0.5672268907563025 9.45378151260504e-2c 0.5882352941176471,0.0 0.9506302521008404,-0.3256302521008403 0.9506302521008404 -0.3256302521008403c 0.3623949579831933,-0.3256302521008403 0.3623949579831933,-0.8508403361344536 0.3623949579831933 -0.8508403361344536c 0.0,-0.3256302521008403 -0.14705882352941177,-0.5567226890756302 -0.14705882352941177 -0.5567226890756302c -0.14705882352941177,-0.23109243697478987 -0.3991596638655462,-0.40441176470588225 -0.3991596638655462 -0.40441176470588225c -0.25210084033613445,-0.17331932773109243 -0.582983193277311,-0.31512605042016806 -0.582983193277311 -0.31512605042016806c -0.3308823529411765,-0.14180672268907563 -0.6880252100840337,-0.28886554621848737 -0.6880252100840337 -0.28886554621848737c -0.3991596638655462,0.27310924369747897 -0.6670168067226891,0.6355042016806722 -0.6670168067226891 0.6355042016806722c -0.26785714285714285,0.36239495798319327 -0.26785714285714285,0.824579831932773 -0.26785714285714285 0.824579831932773ZM 307.6558123249299,278.20378151260496 ZM 309.54656862745094,276.344537815126 c 0.33613445378151263,-0.30462184873949577 0.5199579831932774,-0.6407563025210083 0.5199579831932774 -0.6407563025210083c 0.18382352941176472,-0.3361344537815126 0.18382352941176472,-0.703781512605042 0.18382352941176472 -0.703781512605042c 0.0,-0.5042016806722688 -0.3046218487394958,-0.8455882352941175 -0.3046218487394958 -0.8455882352941175c -0.3046218487394958,-0.3413865546218487 -0.861344537815126,-0.3413865546218487 -0.861344537815126 -0.3413865546218487c -0.4726890756302521,0.0 -0.7773109243697479,0.2941176470588235 -0.7773109243697479 0.2941176470588235c -0.3046218487394958,0.2941176470588235 -0.3046218487394958,0.78781512605042 -0.3046218487394958 0.78781512605042c 0.0,0.30462184873949577 0.12605042016806722,0.5199579831932772 0.12605042016806722 0.5199579831932772c 0.12605042016806722,0.21533613445378147 0.34138655462184875,0.38340336134453773 0.34138655462184875 0.38340336134453773c 0.2153361344537815,0.1680672268907563 0.49369747899159666,0.29936974789915966 0.49369747899159666 0.29936974789915966c 0.27836134453781514,0.13130252100840334 0.582983193277311,0.24684873949579828 0.582983193277311 0.24684873949579828ZM 309.54656862745094,276.344537815126 ZM 306.8785014005602,278.28781512605036 c 0.0,-0.3256302521008403 0.11029411764705882,-0.6039915966386554 0.11029411764705882 -0.6039915966386554c 0.11029411764705882,-0.2783613445378151 0.28361344537815125,-0.5042016806722688 0.28361344537815125 -0.5042016806722688c 0.17331932773109246,-0.22584033613445376 0.3991596638655462,-0.39915966386554613 0.3991596638655462 -0.39915966386554613c 0.22584033613445378,-0.17331932773109243 0.46743697478991597,-0.29936974789915966 0.46743697478991597 -0.29936974789915966v -4.201680672268907e-2 c -0.36764705882352944,-0.2626050420168067 -0.6512605042016807,-0.6355042016806722 -0.6512605042016807 -0.6355042016806722c -0.28361344537815125,-0.3728991596638655 -0.28361344537815125,-0.9086134453781511 -0.28361344537815125 -0.9086134453781511c 0.0,-0.38865546218487385 0.14705882352941177,-0.703781512605042 0.14705882352941177 -0.703781512605042c 0.14705882352941177,-0.31512605042016806 0.3991596638655462,-0.5409663865546218 0.3991596638655462 -0.5409663865546218c 0.25210084033613445,-0.22584033613445376 0.5987394957983193,-0.351890756302521 0.5987394957983193 -0.351890756302521c 0.3466386554621849,-0.1260504201680672 0.7563025210084033,-0.1260504201680672 0.7563025210084033 -0.1260504201680672c 0.4411764705882353,0.0 0.7878151260504201,0.13130252100840334 0.7878151260504201 0.13130252100840334c 0.3466386554621849,0.13130252100840334 0.5934873949579832,0.3676470588235294 0.5934873949579832 0.3676470588235294c 0.24684873949579833,0.23634453781512602 0.37815126050420167,0.5672268907563025 0.37815126050420167 0.5672268907563025c 0.13130252100840337,0.33088235294117646 0.13130252100840337,0.7195378151260504 0.13130252100840337 0.7195378151260504c 0.0,0.2626050420168067 -8.928571428571429e-2,0.5042016806722688 -8.928571428571429e-2 0.5042016806722688c -8.928571428571429e-2,0.24159663865546216 -0.22058823529411764,0.4516806722689075 -0.22058823529411764 0.4516806722689075c -0.13130252100840337,0.21008403361344535 -0.29411764705882354,0.3781512605042016 -0.29411764705882354 0.3781512605042016c -0.16281512605042017,0.1680672268907563 -0.32037815126050423,0.28361344537815125 -0.32037815126050423 0.28361344537815125v 4.201680672268907e-2 c 0.22058823529411764,0.1260504201680672 0.430672268907563,0.28886554621848737 0.430672268907563 0.28886554621848737c 0.21008403361344538,0.16281512605042014 0.3728991596638656,0.3676470588235294 0.3728991596638656 0.3676470588235294c 0.16281512605042017,0.2048319327731092 0.26260504201680673,0.4674369747899159 0.26260504201680673 0.4674369747899159c 9.978991596638655e-2,0.2626050420168067 9.978991596638655e-2,0.5987394957983193 9.978991596638655e-2 0.5987394957983193c 0.0,0.3781512605042016 -0.15756302521008406,0.703781512605042 -0.15756302521008406 0.703781512605042c -0.15756302521008406,0.3256302521008403 -0.4411764705882353,0.5672268907563025 -0.4411764705882353 0.5672268907563025c -0.28361344537815125,0.24159663865546216 -0.6827731092436975,0.3781512605042016 -0.6827731092436975 0.3781512605042016c -0.3991596638655462,0.13655462184873948 -0.8823529411764706,0.13655462184873948 -0.8823529411764706 0.13655462184873948c -0.4726890756302521,0.0 -0.8771008403361344,-0.13655462184873948 -0.8771008403361344 -0.13655462184873948c -0.40441176470588236,-0.13655462184873948 -0.6932773109243698,-0.38340336134453773 -0.6932773109243698 -0.38340336134453773c -0.2888655462184874,-0.24684873949579828 -0.4569327731092437,-0.5829831932773109 -0.4569327731092437 -0.5829831932773109c -0.16806722689075632,-0.3361344537815126 -0.16806722689075632,-0.7352941176470588 -0.16806722689075632 -0.7352941176470588Z\" />\n",
       "                                                                    </g>\n",
       "                                                                    <g fill=\"rgb(0,0,0)\" fill-opacity=\"1.0\">\n",
       "                                                                    </g>\n",
       "                                                                </g>\n",
       "                                                            </g>\n",
       "                                                        </g>\n",
       "                                                    </g>\n",
       "                                                </g>\n",
       "                                                <g fill=\"rgb(255,255,255)\" fill-opacity=\"1.0\">\n",
       "                                                    <g stroke=\"rgb(0,0,0)\" stroke-opacity=\"0.0\" fill=\"rgb(0,0,0)\" fill-opacity=\"1.0\" stroke-width=\"0.0\" stroke-linecap=\"butt\" stroke-linejoin=\"bevel\" stroke-dasharray=\"\" stroke-dashoffset=\"0.0\">\n",
       "                                                        <g fill=\"rgb(0,0,0)\" fill-opacity=\"1.0\">\n",
       "                                                            <g fill=\"rgb(0,0,0)\" fill-opacity=\"1.0\">\n",
       "                                                                <g fill=\"rgb(0,0,0)\" fill-opacity=\"1.0\">\n",
       "                                                                </g>\n",
       "                                                                <g fill=\"rgb(0,0,0)\" fill-opacity=\"1.0\">\n",
       "                                                                    <g fill=\"rgb(0,0,0)\" fill-opacity=\"1.0\">\n",
       "                                                                    </g>\n",
       "                                                                    <g fill=\"rgb(0,0,0)\" fill-opacity=\"1.0\">\n",
       "                                                                        <g fill=\"rgb(0,0,0)\" fill-opacity=\"1.0\">\n",
       "                                                                            <path d=\"M 367.45448179271705,279.99999999999994 ZM 368.28431372549016,279.2857142857142 h 1.5336134453781511 v -4.936974789915966 h -1.2184873949579833 v -0.5567226890756302 c 0.46218487394957986,-8.403361344537814e-2 0.8035714285714285,-0.2048319327731092 0.8035714285714285 -0.2048319327731092c 0.34138655462184875,-0.12079831932773108 0.6144957983193278,-0.28886554621848737 0.6144957983193278 -0.28886554621848737h 0.661764705882353 v 5.987394957983192 h 1.3865546218487397 v 0.7142857142857142 h -3.7815126050420167 v -0.7142857142857142 ZM 372.6750700280112,279.99999999999994 ZM 375.2906162464986,280.126050420168 c -1.01890756302521,0.0 -1.5861344537815125,-0.903361344537815 -1.5861344537815125 -0.903361344537815c -0.5672268907563025,-0.903361344537815 -0.5672268907563025,-2.59453781512605 -0.5672268907563025 -2.59453781512605c 0.0,-1.691176470588235 0.5672268907563025,-2.5735294117647056 0.5672268907563025 -2.5735294117647056c 0.5672268907563025,-0.8823529411764705 1.5861344537815125,-0.8823529411764705 1.5861344537815125 -0.8823529411764705c 1.0084033613445378,0.0 1.5756302521008403,0.8823529411764705 1.5756302521008403 0.8823529411764705c 0.5672268907563025,0.8823529411764705 0.5672268907563025,2.5735294117647056 0.5672268907563025 2.5735294117647056c 0.0,1.691176470588235 -0.5672268907563025,2.59453781512605 -0.5672268907563025 2.59453781512605c -0.5672268907563025,0.903361344537815 -1.5756302521008403,0.903361344537815 -1.5756302521008403 0.903361344537815ZM 375.2906162464986,280.126050420168 ZM 375.2906162464986,279.4327731092436 c 0.29411764705882354,0.0 0.5304621848739496,-0.16281512605042014 0.5304621848739496 -0.16281512605042014c 0.23634453781512604,-0.16281512605042014 0.4096638655462185,-0.5042016806722688 0.4096638655462185 -0.5042016806722688c 0.17331932773109246,-0.3413865546218487 0.26785714285714285,-0.8718487394957982 0.26785714285714285 -0.8718487394957982c 9.453781512605042e-2,-0.5304621848739495 9.453781512605042e-2,-1.2657563025210083 9.453781512605042e-2 -1.2657563025210083c 0.0,-0.7352941176470588 -9.453781512605042e-2,-1.2605042016806722 -9.453781512605042e-2 -1.2605042016806722c -9.453781512605042e-2,-0.5252100840336134 -0.26785714285714285,-0.8560924369747898 -0.26785714285714285 -0.8560924369747898c -0.17331932773109246,-0.33088235294117646 -0.4096638655462185,-0.48844537815126043 -0.4096638655462185 -0.48844537815126043c -0.23634453781512604,-0.15756302521008403 -0.5304621848739496,-0.15756302521008403 -0.5304621848739496 -0.15756302521008403c -0.29411764705882354,0.0 -0.5357142857142857,0.15756302521008403 -0.5357142857142857 0.15756302521008403c -0.2415966386554622,0.15756302521008403 -0.4149159663865546,0.48844537815126043 -0.4149159663865546 0.48844537815126043c -0.17331932773109246,0.33088235294117646 -0.26785714285714285,0.8560924369747898 -0.26785714285714285 0.8560924369747898c -9.453781512605042e-2,0.5252100840336134 -9.453781512605042e-2,1.2605042016806722 -9.453781512605042e-2 1.2605042016806722c 0.0,1.4705882352941175 0.3623949579831933,2.1376050420168062 0.3623949579831933 2.1376050420168062c 0.3623949579831933,0.667016806722689 0.9506302521008404,0.667016806722689 0.9506302521008404 0.667016806722689Z\" />\n",
       "                                                                        </g>\n",
       "                                                                        <g fill=\"rgb(0,0,0)\" fill-opacity=\"1.0\">\n",
       "                                                                        </g>\n",
       "                                                                    </g>\n",
       "                                                                </g>\n",
       "                                                            </g>\n",
       "                                                        </g>\n",
       "                                                    </g>\n",
       "                                                    <g stroke=\"rgb(0,0,0)\" stroke-opacity=\"0.0\" fill=\"rgb(0,0,0)\" fill-opacity=\"1.0\" stroke-width=\"0.0\" stroke-linecap=\"butt\" stroke-linejoin=\"bevel\" stroke-dasharray=\"\" stroke-dashoffset=\"0.0\">\n",
       "                                                        <g fill=\"rgb(0,0,0)\" fill-opacity=\"1.0\">\n",
       "                                                            <g fill=\"rgb(0,0,0)\" fill-opacity=\"1.0\">\n",
       "                                                                <g fill=\"rgb(0,0,0)\" fill-opacity=\"1.0\">\n",
       "                                                                </g>\n",
       "                                                                <g fill=\"rgb(0,0,0)\" fill-opacity=\"1.0\">\n",
       "                                                                    <g fill=\"rgb(0,0,0)\" fill-opacity=\"1.0\">\n",
       "                                                                    </g>\n",
       "                                                                    <g fill=\"rgb(0,0,0)\" fill-opacity=\"1.0\">\n",
       "                                                                        <g fill=\"rgb(0,0,0)\" fill-opacity=\"1.0\">\n",
       "                                                                            <path d=\"M 430.8613445378151,279.99999999999994 ZM 431.69117647058823,279.2857142857142 h 1.5336134453781511 v -4.936974789915966 h -1.2184873949579833 v -0.5567226890756302 c 0.46218487394957986,-8.403361344537814e-2 0.8035714285714285,-0.2048319327731092 0.8035714285714285 -0.2048319327731092c 0.34138655462184875,-0.12079831932773108 0.6144957983193278,-0.28886554621848737 0.6144957983193278 -0.28886554621848737h 0.661764705882353 v 5.987394957983192 h 1.3865546218487397 v 0.7142857142857142 h -3.7815126050420167 v -0.7142857142857142 ZM 436.08193277310926,279.99999999999994 ZM 436.50210084033614,279.48529411764696 c 0.7563025210084033,-0.7563025210084032 1.3445378151260505,-1.3655462184873948 1.3445378151260505 -1.3655462184873948c 0.5882352941176471,-0.6092436974789915 0.9873949579831933,-1.1292016806722687 0.9873949579831933 -1.1292016806722687c 0.3991596638655462,-0.5199579831932772 0.6092436974789917,-0.9558823529411763 0.6092436974789917 -0.9558823529411763c 0.21008403361344538,-0.4359243697478991 0.21008403361344538,-0.8455882352941175 0.21008403361344538 -0.8455882352941175c 0.0,-0.5777310924369747 -0.3151260504201681,-0.9453781512605041 -0.3151260504201681 -0.9453781512605041c -0.3151260504201681,-0.3676470588235294 -0.9558823529411765,-0.3676470588235294 -0.9558823529411765 -0.3676470588235294c -0.42016806722689076,0.0 -0.7773109243697479,0.23634453781512602 -0.7773109243697479 0.23634453781512602c -0.35714285714285715,0.23634453781512602 -0.6512605042016807,0.5724789915966386 -0.6512605042016807 0.5724789915966386l -0.49369747899159666,-0.49369747899159655 c 0.42016806722689076,-0.46218487394957974 0.8928571428571429,-0.7405462184873949 0.8928571428571429 -0.7405462184873949c 0.4726890756302521,-0.2783613445378151 1.134453781512605,-0.2783613445378151 1.134453781512605 -0.2783613445378151c 0.9348739495798319,0.0 1.4705882352941178,0.5409663865546218 1.4705882352941178 0.5409663865546218c 0.5357142857142857,0.5409663865546218 0.5357142857142857,1.4338235294117645 0.5357142857142857 1.4338235294117645c 0.0,0.47268907563025203 -0.20483193277310924,0.9506302521008402 -0.20483193277310924 0.9506302521008402c -0.20483193277310924,0.47794117647058815 -0.5672268907563025,0.9873949579831931 -0.5672268907563025 0.9873949579831931c -0.3623949579831933,0.509453781512605 -0.861344537815126,1.060924369747899 -0.861344537815126 1.060924369747899c -0.4989495798319328,0.551470588235294 -1.0976890756302522,1.1712184873949578 -1.0976890756302522 1.1712184873949578c 0.273109243697479,-2.1008403361344536e-2 0.5672268907563025,-4.201680672268907e-2 0.5672268907563025 -4.201680672268907e-2c 0.29411764705882354,-2.1008403361344536e-2 0.5567226890756303,-2.1008403361344536e-2 0.5567226890756303 -2.1008403361344536e-2h 1.9432773109243697 v 0.745798319327731 h -4.327731092436975 v -0.5147058823529411 Z\" />\n",
       "                                                                        </g>\n",
       "                                                                        <g fill=\"rgb(0,0,0)\" fill-opacity=\"1.0\">\n",
       "                                                                        </g>\n",
       "                                                                    </g>\n",
       "                                                                </g>\n",
       "                                                            </g>\n",
       "                                                        </g>\n",
       "                                                    </g>\n",
       "                                                </g>\n",
       "                                            </g>\n",
       "                                        </g>\n",
       "                                    </g>\n",
       "                                </g>\n",
       "                            </g>\n",
       "                        </g>\n",
       "                        <g stroke=\"rgb(0,0,0)\" stroke-opacity=\"0.0\" fill=\"rgb(0,0,0)\" fill-opacity=\"1.0\" stroke-width=\"0.0\" stroke-linecap=\"butt\" stroke-linejoin=\"bevel\" stroke-dasharray=\"\" stroke-dashoffset=\"0.0\">\n",
       "                            <g fill=\"rgb(0,0,0)\" fill-opacity=\"1.0\">\n",
       "                                <g fill=\"rgb(0,0,0)\" fill-opacity=\"1.0\">\n",
       "                                    <g fill=\"rgb(0,0,0)\" fill-opacity=\"1.0\">\n",
       "                                    </g>\n",
       "                                    <g fill=\"rgb(0,0,0)\" fill-opacity=\"1.0\">\n",
       "                                        <g fill=\"rgb(0,0,0)\" fill-opacity=\"1.0\">\n",
       "                                        </g>\n",
       "                                        <g fill=\"rgb(0,0,0)\" fill-opacity=\"1.0\">\n",
       "                                            <g fill=\"rgb(0,0,0)\" fill-opacity=\"1.0\">\n",
       "                                                <path d=\"M 231.3865546218487,286.60714285714283 ZM 232.3319327731092,279.7163865546218 h 3.9705882352941164 v 0.7352941176470588 h -3.098739495798318 v 2.1638655462184873 h 2.615546218487394 v 0.745798319327731 h -2.615546218487394 v 2.4999999999999996 h 3.203781512605041 v 0.745798319327731 h -4.075630252100839 v -6.890756302521007 ZM 239.04411764705878,286.60714285714283 ZM 241.29201680672264,288.45588235294116 c -0.6512605042016805,-1.0504201680672267 -1.0189075630252098,-2.2163865546218484 -1.0189075630252098 -2.2163865546218484c -0.3676470588235293,-1.1659663865546217 -0.3676470588235293,-2.552521008403361 -0.3676470588235293 -2.552521008403361c 0.0,-1.3865546218487395 0.3676470588235293,-2.547268907563025 0.3676470588235293 -2.547268907563025c 0.3676470588235293,-1.1607142857142856 1.0189075630252098,-2.2216386554621845 1.0189075630252098 -2.2216386554621845l 0.5357142857142856,0.2521008403361344 c -0.6092436974789914,1.0084033613445376 -0.9086134453781509,2.158613445378151 -0.9086134453781509 2.158613445378151c -0.2993697478991596,1.1502100840336134 -0.2993697478991596,2.358193277310924 -0.2993697478991596 2.358193277310924c 0.0,1.2079831932773109 0.2993697478991596,2.358193277310924 0.2993697478991596 2.358193277310924c 0.2993697478991596,1.1502100840336134 0.9086134453781509,2.158613445378151 0.9086134453781509 2.158613445378151l -0.5357142857142856,0.2521008403361344 h 0.0 ZM 242.22689075630248,286.60714285714283 ZM 243.0882352941176,279.1281512605042 h 0.8508403361344535 v 5.063025210084033 h 3.15126050420168e-2 l 2.174369747899159,-2.6890756302521006 h 0.9558823529411762 l -1.7121848739495793,2.0483193277310923 l 1.943277310924369,3.0567226890756296 h -0.945378151260504 l -1.4915966386554618,-2.4579831932773106 l -0.9558823529411762,1.1134453781512603 v 1.3445378151260503 h -0.8508403361344535 v -7.478991596638655 ZM 247.23739495798316,286.60714285714283 ZM 247.72058823529406,284.06512605042013 c 0.0,-0.6302521008403361 0.1943277310924369,-1.1292016806722687 0.1943277310924369 -1.1292016806722687c 0.1943277310924369,-0.4989495798319327 0.514705882352941,-0.8455882352941175 0.514705882352941 -0.8455882352941175c 0.3203781512605041,-0.34663865546218486 0.7300420168067225,-0.5304621848739495 0.7300420168067225 -0.5304621848739495c 0.40966386554621836,-0.1838235294117647 0.8508403361344535,-0.1838235294117647 0.8508403361344535 -0.1838235294117647c 0.4831932773109242,0.0 0.8665966386554619,0.1680672268907563 0.8665966386554619 0.1680672268907563c 0.3834033613445377,0.1680672268907563 0.6407563025210082,0.4831932773109243 0.6407563025210082 0.4831932773109243c 0.2573529411764705,0.31512605042016806 0.39390756302520996,0.7563025210084032 0.39390756302520996 0.7563025210084032c 0.13655462184873945,0.4411764705882352 0.13655462184873945,0.9873949579831931 0.13655462184873945 0.9873949579831931c 0.0,0.28361344537815125 -3.15126050420168e-2,0.47268907563025203 -3.15126050420168e-2 0.47268907563025203h -3.445378151260503 c 5.2521008403361324e-2,0.8298319327731091 0.5094537815126049,1.3130252100840334 0.5094537815126049 1.3130252100840334c 0.4569327731092436,0.4831932773109243 1.1922268907563023,0.4831932773109243 1.1922268907563023 0.4831932773109243c 0.3676470588235293,0.0 0.6775210084033612,-0.1102941176470588 0.6775210084033612 -0.1102941176470588c 0.30987394957983183,-0.1102941176470588 0.5934873949579831,-0.28886554621848737 0.5934873949579831 -0.28886554621848737l 0.3046218487394957,0.5672268907563025 c -0.3361344537815125,0.21008403361344535 -0.7457983193277309,0.3676470588235294 -0.7457983193277309 0.3676470588235294c -0.40966386554621836,0.15756302521008403 -0.9348739495798316,0.15756302521008403 -0.9348739495798316 0.15756302521008403c -0.514705882352941,0.0 -0.9611344537815123,-0.1838235294117647 -0.9611344537815123 -0.1838235294117647c -0.4464285714285713,-0.1838235294117647 -0.7773109243697476,-0.5252100840336134 -0.7773109243697476 -0.5252100840336134c -0.3308823529411764,-0.3413865546218487 -0.5199579831932771,-0.8350840336134452 -0.5199579831932771 -0.8350840336134452c -0.18907563025210078,-0.49369747899159655 -0.18907563025210078,-1.1239495798319326 -0.18907563025210078 -1.1239495798319326ZM 247.72058823529406,284.06512605042013 ZM 251.29201680672264,283.67647058823525 c 0.0,-0.78781512605042 -0.3308823529411764,-1.2027310924369747 -0.3308823529411764 -1.2027310924369747c -0.3308823529411764,-0.41491596638655454 -0.9296218487394955,-0.41491596638655454 -0.9296218487394955 -0.41491596638655454c -0.2731092436974789,0.0 -0.5199579831932771,0.1102941176470588 -0.5199579831932771 0.1102941176470588c -0.24684873949579825,0.1102941176470588 -0.4464285714285713,0.31512605042016806 -0.4464285714285713 0.31512605042016806c -0.19957983193277304,0.2048319327731092 -0.3308823529411764,0.5042016806722688 -0.3308823529411764 0.5042016806722688c -0.1313025210084033,0.29936974789915966 -0.1733193277310924,0.6880252100840336 -0.1733193277310924 0.6880252100840336h 2.731092436974789 ZM 252.27941176470583,286.60714285714283 ZM 252.27941176470583,279.7163865546218 h 0.9348739495798316 l 1.1029411764705879,3.7184873949579824 c 0.18907563025210078,0.6197478991596638 0.3308823529411764,1.1449579831932772 0.3308823529411764 1.1449579831932772c 0.1418067226890756,0.5252100840336134 0.34138655462184864,1.134453781512605 0.34138655462184864 1.134453781512605h 4.2016806722689065e-2 c 0.18907563025210078,-0.6092436974789915 0.3361344537815125,-1.134453781512605 0.3361344537815125 -1.134453781512605c 0.14705882352941171,-0.5252100840336134 0.32563025210084023,-1.1449579831932772 0.32563025210084023 -1.1449579831932772l 1.1029411764705879,-3.7184873949579824 h 0.8928571428571426 l -2.1848739495798313,6.890756302521007 h -1.0189075630252098 ZM 257.68907563025203,286.60714285714283 ZM 258.0882352941176,288.203781512605 c 0.6092436974789914,-1.0084033613445376 0.9086134453781509,-2.158613445378151 0.9086134453781509 -2.158613445378151c 0.2993697478991596,-1.1502100840336134 0.2993697478991596,-2.358193277310924 0.2993697478991596 -2.358193277310924c 0.0,-1.2079831932773109 -0.2993697478991596,-2.358193277310924 -0.2993697478991596 -2.358193277310924c -0.2993697478991596,-1.1502100840336134 -0.9086134453781509,-2.158613445378151 -0.9086134453781509 -2.158613445378151l 0.5357142857142856,-0.2521008403361344 c 0.6512605042016805,1.060924369747899 1.0189075630252098,2.2216386554621845 1.0189075630252098 2.2216386554621845c 0.3676470588235293,1.1607142857142856 0.3676470588235293,2.547268907563025 0.3676470588235293 2.547268907563025c 0.0,1.3865546218487395 -0.3676470588235293,2.552521008403361 -0.3676470588235293 2.552521008403361c -0.3676470588235293,1.1659663865546217 -1.0189075630252098,2.2163865546218484 -1.0189075630252098 2.2163865546218484l -0.5357142857142856,-0.2521008403361344 h 0.0 Z\" />\n",
       "                                            </g>\n",
       "                                            <g fill=\"rgb(0,0,0)\" fill-opacity=\"1.0\">\n",
       "                                            </g>\n",
       "                                        </g>\n",
       "                                    </g>\n",
       "                                </g>\n",
       "                            </g>\n",
       "                        </g>\n",
       "                    </g>\n",
       "                </g>\n",
       "            </g>\n",
       "        </g>\n",
       "    </g>\n",
       "</svg>"
      ]
     },
     "metadata": {},
     "output_type": "display_data"
    }
   ],
   "source": [
    "drawARF rows"
   ]
  },
  {
   "cell_type": "markdown",
   "metadata": {},
   "source": [
    "When discussing the \n",
    "[k correction](http://htmlpreview.github.io/?https://raw.githubusercontent.com/DougBurke/astro-haskell/master/html/k%20corrections%20with%20a%20dimensional%20twist.html),\n",
    "the spectral models were in units of \n",
    "photon/cm$^2$/s/keV. This measures the flux of photons from a source (photon/s)\n",
    "per energy (the /keV term) and per unit area (the /cm$^2$ term).\n",
    "The ARF is given in units of area (cm$^2$), so if you multiply it by \n",
    "the spectral model you get a spectrum in units of photon/s/keV,\n",
    "which - when integrated up over an energy range - gives a flux in\n",
    "units of photon/s. A physical interpretation is that the ARF\n",
    "measures the sensitivity of the telescope as a function of energy.\n",
    "The fact that the ARF is not a constant, and in fact shows significant\n",
    "structure such as a large edge at 2 keV, is one reason why understanding\n",
    "X-ray data (that is, comparing models to data), is not simple.\n",
    "\n",
    "The Chandra mirrors are large -\n",
    "[\"human\" size](http://chandra.harvard.edu/about/telescope_system.html),\n",
    "with a mass of about 1500 kg - but, because this is an X-ray telescope,\n",
    "they are not arranged as they would be in an optical telescope (such as\n",
    "the \n",
    "[Ritchey–Chrétien](http://en.wikipedia.org/wiki/Ritchey%E2%80%93Chr%C3%A9tien_telescope)\n",
    "design used in the  Hubble Space Telescope) which reflects light, \n",
    "but as four concentric cylinders\n",
    "(known as a \n",
    "[Wolter Type-I design](http://en.wikipedia.org/wiki/Wolter_telescope))\n",
    "which uses grazing-incidence reflection to focus the light:\n",
    "\n",
    "![Grazing-incidence reflection through the Chandra mirrors](http://chandra.harvard.edu/graphics/resources/illustrations/cxcmirrors-72.jpg)\n",
    "\n",
    "Image credits: NASA/CXC/D.Berry, available at \n",
    "http://chandra.harvard.edu/resources/illustrations/teleSchem.html"
   ]
  },
  {
   "cell_type": "markdown",
   "metadata": {},
   "source": [
    "The cylinders have diameters ranging from 65 cm to 1.23 m, but\n",
    "an area of 400 cm$^2$ is equivalent (when thinking about an area of sky \n",
    "measuring the flux) to a circle of radius 11 cm:"
   ]
  },
  {
   "cell_type": "code",
   "execution_count": 86,
   "metadata": {
    "collapsed": false
   },
   "outputs": [
    {
     "data": {
      "text/plain": [
       "11.283791670955125"
      ]
     },
     "metadata": {},
     "output_type": "display_data"
    }
   ],
   "source": [
    "sqrt (400 / pi)"
   ]
  },
  {
   "cell_type": "markdown",
   "metadata": {},
   "source": [
    "This can lead to jealousy when talking to our optical colleagues, who can talk about using\n",
    "telescopes with radii of 4 m and above, and \n",
    "[there are plans](http://en.wikipedia.org/wiki/List_of_largest_optical_reflecting_telescopes#Plans)\n",
    "for 15 m radii in the near future! In defense of the \n",
    "[people who build X-ray mirrors](http://en.wikipedia.org/wiki/Leon_Van_Speybroeck),\n",
    "optical telescopes do not use the full mirror area (M$_1$), since the \n",
    "[secondary mirror](http://en.wikipedia.org/wiki/Secondary_mirror)\n",
    "(M$_2$) obstructs some light, and there's generally a big hole in the center of the mirror,\n",
    "in part, because the secondary mirror occludes this area,\n",
    "but mainly because this is where the light is reflected down to the \n",
    "tertiary mirror and/or instruments ($F$ in the image below)!\n",
    "\n",
    "![Diagram of Ritchey-Chrétien reflector](http://upload.wikimedia.org/wikipedia/commons/thumb/1/10/Diagram_Reflector_RitcheyChretien.svg/500px-Diagram_Reflector_RitcheyChretien.svg.png)\n",
    "\n",
    "Image credits: By HHahn (Own work) [CC BY-SA 3.0 (http://creativecommons.org/licenses/by-sa/3.0) or GFDL (http://www.gnu.org/copyleft/fdl.html)], via Wikimedia Commons\n",
    "\n",
    "So, I guess the summary is: don't judge an Astronomer by the size of her mirror!"
   ]
  },
  {
   "cell_type": "markdown",
   "metadata": {},
   "source": [
    "## A different way to display the ARF"
   ]
  },
  {
   "cell_type": "markdown",
   "metadata": {},
   "source": [
    "As I was writing this notebook, I got to thinking about other ways to display the data.\n",
    "One obvious choice was a HTML table, which gave me an excuse to play a bit more with\n",
    "the `IHaskell` display code. Fortunately, I have already installed the necessary Haskell packages - in this\n",
    "case \n",
    "[`blaze-html`](https://hackage.haskell.org/package/blaze-html) - so I can go straight\n",
    "to work. The routines from the \n",
    "[`Html5`](https://hackage.haskell.org/package/blaze-html-0.8.0.2/docs/Text-Blaze-Html5.html)\n",
    "module are going to do all the heavy lifting of creating the HTML output; all I\n",
    "need to do is put them together in the right way."
   ]
  },
  {
   "cell_type": "code",
   "execution_count": 87,
   "metadata": {
    "collapsed": true
   },
   "outputs": [],
   "source": [
    "import Text.Blaze.Html5 hiding (head, map)\n",
    "import Data.Monoid ((<>), mconcat)"
   ]
  },
  {
   "cell_type": "markdown",
   "metadata": {},
   "source": [
    "As well as the Html code, I have also loaded the `<>` operator from\n",
    "the \n",
    "[Data.Monoid](http://hackage.haskell.org/package/base-4.8.0.0/docs/Data-Monoid.html)\n",
    "module. The Monoid typeclass$^\\dagger$ represents things that can be combined together,\n",
    "that is - have an associative operator - \n",
    "using `<>`\n",
    "(well, it actually means a bit more than that, but all I need is the \"combine\"\n",
    "operator, which is also known as\n",
    "[mappend](http://hackage.haskell.org/package/base-4.8.0.0/docs/Data-Monoid.html#v:mappend)).\n",
    "The \n",
    "[mconcat](http://hackage.haskell.org/package/base-4.8.0.0/docs/Data-Monoid.html#v:mconcat)\n",
    "function lets you combine a list of values using `<>`; that is \n",
    "`mconcat [a_0, a_1, a_2, ... a_n]` is the same as\n",
    "`a_0 <> a_1 <> a_2 <> ... <> a_n`. \n",
    "\n",
    "$^\\dagger$ 10 points to the person in the back of the class - yes, you over there in the floral dress - who\n",
    "just mumbled \"oh what, Yet Another Mathematical Abstraction In Haskell!\".\n",
    "\n",
    "As an example, lists can be concatenated together with \n",
    "[`++`](http://hackage.haskell.org/package/base-4.8.0.0/docs/Prelude.html#v:-43--43-),\n",
    "but this form is specific to lists. The generic version - since a list\n",
    "has a Monoid instance - is `<>`; that is, the following two are the same:"
   ]
  },
  {
   "cell_type": "code",
   "execution_count": 88,
   "metadata": {
    "collapsed": false
   },
   "outputs": [
    {
     "data": {
      "text/plain": [
       "[1,3,2,4]"
      ]
     },
     "metadata": {},
     "output_type": "display_data"
    },
    {
     "data": {
      "text/plain": [
       "[1,3,2,4]"
      ]
     },
     "metadata": {},
     "output_type": "display_data"
    }
   ],
   "source": [
    "[1,3] ++ [2,4]\n",
    "[1,3] <> [2,4]"
   ]
  },
  {
   "cell_type": "markdown",
   "metadata": {},
   "source": [
    "To start off, I want to try converting a single `Row` into a row of a table\n",
    "(i.e. create a `<tr>` element containing the column data in `<td>` elements).\n",
    "To do this, each element of the row is\n",
    "\n",
    "  - converted to Html using [`toHtml`](https://hackage.haskell.org/package/blaze-html-0.8.0.2/docs/Text-Blaze-Html.html#v:toHtml)\n",
    "  \n",
    "  - and then converted to a `<td>` element, using the appropriately-named\n",
    "    [`td`](https://hackage.haskell.org/package/blaze-html-0.8.0.2/docs/Text-Blaze-Html5.html#v:td)\n",
    "    function.\n",
    "   \n",
    "The three `<td>` elements are combined together using `<>`, which \n",
    "appends them to form `<td>...</td><td>...</td><td>...</td>`. These\n",
    "are then placed inside a `<tr>` element."
   ]
  },
  {
   "cell_type": "code",
   "execution_count": 89,
   "metadata": {
    "collapsed": true
   },
   "outputs": [],
   "source": [
    "rowToHtml (Row elo ehi sp) = \n",
    "  let col val = td (toHtml val)\n",
    "  in tr (col elo <> col ehi <> col sp)"
   ]
  },
  {
   "cell_type": "markdown",
   "metadata": {},
   "source": [
    "Now, the `toHtml` function has an interesting signature:"
   ]
  },
  {
   "cell_type": "code",
   "execution_count": 90,
   "metadata": {
    "collapsed": false
   },
   "outputs": [
    {
     "data": {
      "text/html": [
       "<style>/*\n",
       "Custom IHaskell CSS.\n",
       "*/\n",
       "\n",
       "/* Styles used for the Hoogle display in the pager */\n",
       ".hoogle-doc {\n",
       "    display: block;\n",
       "    padding-bottom: 1.3em;\n",
       "    padding-left: 0.4em;\n",
       "}\n",
       ".hoogle-code {\n",
       "    display: block;\n",
       "    font-family: monospace;\n",
       "    white-space: pre;\n",
       "}\n",
       ".hoogle-text {\n",
       "    display: block;\n",
       "}\n",
       ".hoogle-name {\n",
       "    color: green;\n",
       "    font-weight: bold;\n",
       "}\n",
       ".hoogle-head {\n",
       "    font-weight: bold;\n",
       "}\n",
       ".hoogle-sub {\n",
       "    display: block;\n",
       "    margin-left: 0.4em;\n",
       "}\n",
       ".hoogle-package {\n",
       "    font-weight: bold;\n",
       "    font-style: italic;\n",
       "}\n",
       ".hoogle-module {\n",
       "    font-weight: bold;\n",
       "}\n",
       ".hoogle-class {\n",
       "    font-weight: bold;\n",
       "}\n",
       "\n",
       "/* Styles used for basic displays */\n",
       ".get-type {\n",
       "    color: green;\n",
       "    font-weight: bold;\n",
       "    font-family: monospace;\n",
       "    display: block;\n",
       "    white-space: pre-wrap;\n",
       "}\n",
       "\n",
       ".show-type {\n",
       "    color: green;\n",
       "    font-weight: bold;\n",
       "    font-family: monospace;\n",
       "    margin-left: 1em;\n",
       "}\n",
       "\n",
       ".mono {\n",
       "    font-family: monospace;\n",
       "    display: block;\n",
       "}\n",
       "\n",
       ".err-msg {\n",
       "    color: red;\n",
       "    font-style: italic;\n",
       "    font-family: monospace;\n",
       "    white-space: pre;\n",
       "    display: block;\n",
       "}\n",
       "\n",
       "#unshowable {\n",
       "    color: red;\n",
       "    font-weight: bold;\n",
       "}\n",
       "\n",
       ".err-msg.in.collapse {\n",
       "  padding-top: 0.7em;\n",
       "}\n",
       "\n",
       "/* Code that will get highlighted before it is highlighted */\n",
       ".highlight-code {\n",
       "    white-space: pre;\n",
       "    font-family: monospace;\n",
       "}\n",
       "\n",
       "/* Hlint styles */\n",
       ".suggestion-warning { \n",
       "    font-weight: bold;\n",
       "    color: rgb(200, 130, 0);\n",
       "}\n",
       ".suggestion-error { \n",
       "    font-weight: bold;\n",
       "    color: red;\n",
       "}\n",
       ".suggestion-name {\n",
       "    font-weight: bold;\n",
       "}\n",
       "</style><span class='get-type'>toHtml :: forall a. ToMarkup a => a -> Html</span>"
      ],
      "text/plain": [
       "toHtml :: forall a. ToMarkup a => a -> Html"
      ]
     },
     "metadata": {},
     "output_type": "display_data"
    }
   ],
   "source": [
    ":type toHtml"
   ]
  },
  {
   "cell_type": "markdown",
   "metadata": {},
   "source": [
    "which says that it can be given any type, as long as it is an instance\n",
    "of the \n",
    "[`ToMarkup` typeclass](https://hackage.haskell.org/package/blaze-markup-0.7.0.2/docs/Text-Blaze.html#t:ToMarkup).\n",
    "This constraint - indicated by the text to the left of the `=>` in the signature,\n",
    "\"infects\" the `rowToHtml` signature, since we have:"
   ]
  },
  {
   "cell_type": "code",
   "execution_count": 91,
   "metadata": {
    "collapsed": false
   },
   "outputs": [
    {
     "data": {
      "text/html": [
       "<style>/*\n",
       "Custom IHaskell CSS.\n",
       "*/\n",
       "\n",
       "/* Styles used for the Hoogle display in the pager */\n",
       ".hoogle-doc {\n",
       "    display: block;\n",
       "    padding-bottom: 1.3em;\n",
       "    padding-left: 0.4em;\n",
       "}\n",
       ".hoogle-code {\n",
       "    display: block;\n",
       "    font-family: monospace;\n",
       "    white-space: pre;\n",
       "}\n",
       ".hoogle-text {\n",
       "    display: block;\n",
       "}\n",
       ".hoogle-name {\n",
       "    color: green;\n",
       "    font-weight: bold;\n",
       "}\n",
       ".hoogle-head {\n",
       "    font-weight: bold;\n",
       "}\n",
       ".hoogle-sub {\n",
       "    display: block;\n",
       "    margin-left: 0.4em;\n",
       "}\n",
       ".hoogle-package {\n",
       "    font-weight: bold;\n",
       "    font-style: italic;\n",
       "}\n",
       ".hoogle-module {\n",
       "    font-weight: bold;\n",
       "}\n",
       ".hoogle-class {\n",
       "    font-weight: bold;\n",
       "}\n",
       "\n",
       "/* Styles used for basic displays */\n",
       ".get-type {\n",
       "    color: green;\n",
       "    font-weight: bold;\n",
       "    font-family: monospace;\n",
       "    display: block;\n",
       "    white-space: pre-wrap;\n",
       "}\n",
       "\n",
       ".show-type {\n",
       "    color: green;\n",
       "    font-weight: bold;\n",
       "    font-family: monospace;\n",
       "    margin-left: 1em;\n",
       "}\n",
       "\n",
       ".mono {\n",
       "    font-family: monospace;\n",
       "    display: block;\n",
       "}\n",
       "\n",
       ".err-msg {\n",
       "    color: red;\n",
       "    font-style: italic;\n",
       "    font-family: monospace;\n",
       "    white-space: pre;\n",
       "    display: block;\n",
       "}\n",
       "\n",
       "#unshowable {\n",
       "    color: red;\n",
       "    font-weight: bold;\n",
       "}\n",
       "\n",
       ".err-msg.in.collapse {\n",
       "  padding-top: 0.7em;\n",
       "}\n",
       "\n",
       "/* Code that will get highlighted before it is highlighted */\n",
       ".highlight-code {\n",
       "    white-space: pre;\n",
       "    font-family: monospace;\n",
       "}\n",
       "\n",
       "/* Hlint styles */\n",
       ".suggestion-warning { \n",
       "    font-weight: bold;\n",
       "    color: rgb(200, 130, 0);\n",
       "}\n",
       ".suggestion-error { \n",
       "    font-weight: bold;\n",
       "    color: red;\n",
       "}\n",
       ".suggestion-name {\n",
       "    font-weight: bold;\n",
       "}\n",
       "</style><span class='get-type'>rowToHtml :: forall a. ToMarkup a => Row a -> Html</span>"
      ],
      "text/plain": [
       "rowToHtml :: forall a. ToMarkup a => Row a -> Html"
      ]
     },
     "metadata": {},
     "output_type": "display_data"
    }
   ],
   "source": [
    ":type rowToHtml"
   ]
  },
  {
   "cell_type": "markdown",
   "metadata": {},
   "source": [
    "This makes sense, since it says that `rowToHtml` can only be used on a `Row` whose\n",
    "type can be converted to Html. Fortunately the `Float` type is an instance of the\n",
    "`ToMarkup` class. You can find this out from the documentation, either of the\n",
    "`ToMarkup` class or `Float` - e.g. (the `:opt` line is just to tell the notebook\n",
    "to include the information inline, so it's visible in the HTML version of the page,\n",
    "but it appears that it may not always display particularly wel):"
   ]
  },
  {
   "cell_type": "code",
   "execution_count": 92,
   "metadata": {
    "collapsed": true
   },
   "outputs": [],
   "source": [
    ":opt no-pager"
   ]
  },
  {
   "cell_type": "code",
   "execution_count": 93,
   "metadata": {
    "collapsed": false
   },
   "outputs": [
    {
     "data": {},
     "metadata": {},
     "output_type": "display_data"
    },
    {
     "data": {
      "text/html": [
       "<style>/*\n",
       "Custom IHaskell CSS.\n",
       "*/\n",
       "\n",
       "/* Styles used for the Hoogle display in the pager */\n",
       ".hoogle-doc {\n",
       "    display: block;\n",
       "    padding-bottom: 1.3em;\n",
       "    padding-left: 0.4em;\n",
       "}\n",
       ".hoogle-code {\n",
       "    display: block;\n",
       "    font-family: monospace;\n",
       "    white-space: pre;\n",
       "}\n",
       ".hoogle-text {\n",
       "    display: block;\n",
       "}\n",
       ".hoogle-name {\n",
       "    color: green;\n",
       "    font-weight: bold;\n",
       "}\n",
       ".hoogle-head {\n",
       "    font-weight: bold;\n",
       "}\n",
       ".hoogle-sub {\n",
       "    display: block;\n",
       "    margin-left: 0.4em;\n",
       "}\n",
       ".hoogle-package {\n",
       "    font-weight: bold;\n",
       "    font-style: italic;\n",
       "}\n",
       ".hoogle-module {\n",
       "    font-weight: bold;\n",
       "}\n",
       ".hoogle-class {\n",
       "    font-weight: bold;\n",
       "}\n",
       "\n",
       "/* Styles used for basic displays */\n",
       ".get-type {\n",
       "    color: green;\n",
       "    font-weight: bold;\n",
       "    font-family: monospace;\n",
       "    display: block;\n",
       "    white-space: pre-wrap;\n",
       "}\n",
       "\n",
       ".show-type {\n",
       "    color: green;\n",
       "    font-weight: bold;\n",
       "    font-family: monospace;\n",
       "    margin-left: 1em;\n",
       "}\n",
       "\n",
       ".mono {\n",
       "    font-family: monospace;\n",
       "    display: block;\n",
       "}\n",
       "\n",
       ".err-msg {\n",
       "    color: red;\n",
       "    font-style: italic;\n",
       "    font-family: monospace;\n",
       "    white-space: pre;\n",
       "    display: block;\n",
       "}\n",
       "\n",
       "#unshowable {\n",
       "    color: red;\n",
       "    font-weight: bold;\n",
       "}\n",
       "\n",
       ".err-msg.in.collapse {\n",
       "  padding-top: 0.7em;\n",
       "}\n",
       "\n",
       "/* Code that will get highlighted before it is highlighted */\n",
       ".highlight-code {\n",
       "    white-space: pre;\n",
       "    font-family: monospace;\n",
       "}\n",
       "\n",
       "/* Hlint styles */\n",
       ".suggestion-warning { \n",
       "    font-weight: bold;\n",
       "    color: rgb(200, 130, 0);\n",
       "}\n",
       ".suggestion-error { \n",
       "    font-weight: bold;\n",
       "    color: red;\n",
       "}\n",
       ".suggestion-name {\n",
       "    font-weight: bold;\n",
       "}\n",
       "</style><div style='background: rgb(247, 247, 247);'><form><textarea id='code'>data Float = GHC.Types.F# GHC.Prim.Float# \t-- Defined in ‘GHC.Types’\n",
       "instance Enum Float -- Defined in ‘GHC.Float’\n",
       "instance Eq Float -- Defined in ‘GHC.Classes’\n",
       "instance Floating Float -- Defined in ‘GHC.Float’\n",
       "instance Fractional Float -- Defined in ‘GHC.Float’\n",
       "instance Num Float -- Defined in ‘GHC.Float’\n",
       "instance Ord Float -- Defined in ‘GHC.Classes’\n",
       "instance Read Float -- Defined in ‘GHC.Read’\n",
       "instance Real Float -- Defined in ‘GHC.Float’\n",
       "instance RealFloat Float -- Defined in ‘GHC.Float’\n",
       "instance RealFrac Float -- Defined in ‘GHC.Float’\n",
       "instance Show Float -- Defined in ‘GHC.Float’\n",
       "instance ToValue Float -- Defined in ‘Text.Blaze’\n",
       "instance ToMarkup Float -- Defined in ‘Text.Blaze’</textarea></form></div><script>CodeMirror.fromTextArea(document.getElementById('code'), {mode: 'haskell', readOnly: 'nocursor'});</script>\n"
      ]
     },
     "metadata": {},
     "output_type": "display_data"
    }
   ],
   "source": [
    ":info Float"
   ]
  },
  {
   "cell_type": "markdown",
   "metadata": {},
   "source": [
    "However, the easiest way is to just try it and see if it compiles, or you get an error back\n",
    "(for example, earlier when I tried `len / 2880` and got an error about a missing\n",
    "`Fractional` constraint)!\n",
    "\n",
    "Applying it to the last row produces:"
   ]
  },
  {
   "cell_type": "code",
   "execution_count": 94,
   "metadata": {
    "collapsed": false
   },
   "outputs": [
    {
     "data": {
      "text/html": [
       "<style>/*\n",
       "Custom IHaskell CSS.\n",
       "*/\n",
       "\n",
       "/* Styles used for the Hoogle display in the pager */\n",
       ".hoogle-doc {\n",
       "    display: block;\n",
       "    padding-bottom: 1.3em;\n",
       "    padding-left: 0.4em;\n",
       "}\n",
       ".hoogle-code {\n",
       "    display: block;\n",
       "    font-family: monospace;\n",
       "    white-space: pre;\n",
       "}\n",
       ".hoogle-text {\n",
       "    display: block;\n",
       "}\n",
       ".hoogle-name {\n",
       "    color: green;\n",
       "    font-weight: bold;\n",
       "}\n",
       ".hoogle-head {\n",
       "    font-weight: bold;\n",
       "}\n",
       ".hoogle-sub {\n",
       "    display: block;\n",
       "    margin-left: 0.4em;\n",
       "}\n",
       ".hoogle-package {\n",
       "    font-weight: bold;\n",
       "    font-style: italic;\n",
       "}\n",
       ".hoogle-module {\n",
       "    font-weight: bold;\n",
       "}\n",
       ".hoogle-class {\n",
       "    font-weight: bold;\n",
       "}\n",
       "\n",
       "/* Styles used for basic displays */\n",
       ".get-type {\n",
       "    color: green;\n",
       "    font-weight: bold;\n",
       "    font-family: monospace;\n",
       "    display: block;\n",
       "    white-space: pre-wrap;\n",
       "}\n",
       "\n",
       ".show-type {\n",
       "    color: green;\n",
       "    font-weight: bold;\n",
       "    font-family: monospace;\n",
       "    margin-left: 1em;\n",
       "}\n",
       "\n",
       ".mono {\n",
       "    font-family: monospace;\n",
       "    display: block;\n",
       "}\n",
       "\n",
       ".err-msg {\n",
       "    color: red;\n",
       "    font-style: italic;\n",
       "    font-family: monospace;\n",
       "    white-space: pre;\n",
       "    display: block;\n",
       "}\n",
       "\n",
       "#unshowable {\n",
       "    color: red;\n",
       "    font-weight: bold;\n",
       "}\n",
       "\n",
       ".err-msg.in.collapse {\n",
       "  padding-top: 0.7em;\n",
       "}\n",
       "\n",
       "/* Code that will get highlighted before it is highlighted */\n",
       ".highlight-code {\n",
       "    white-space: pre;\n",
       "    font-family: monospace;\n",
       "}\n",
       "\n",
       "/* Hlint styles */\n",
       ".suggestion-warning { \n",
       "    font-weight: bold;\n",
       "    color: rgb(200, 130, 0);\n",
       "}\n",
       ".suggestion-error { \n",
       "    font-weight: bold;\n",
       "    color: red;\n",
       "}\n",
       ".suggestion-name {\n",
       "    font-weight: bold;\n",
       "}\n",
       "</style><tr>\n",
       "    <td>\n",
       "        10.99\n",
       "    </td>\n",
       "    <td>\n",
       "        11.0\n",
       "    </td>\n",
       "    <td>\n",
       "        0.5657126\n",
       "    </td>\n",
       "</tr>\n"
      ],
      "text/plain": [
       "<tr>\n",
       "    <td>\n",
       "        10.99\n",
       "    </td>\n",
       "    <td>\n",
       "        11.0\n",
       "    </td>\n",
       "    <td>\n",
       "        0.5657126\n",
       "    </td>\n",
       "</tr>"
      ]
     },
     "metadata": {},
     "output_type": "display_data"
    }
   ],
   "source": [
    "rowToHtml (last rows)"
   ]
  },
  {
   "cell_type": "markdown",
   "metadata": {},
   "source": [
    "Since the `Html` type is an instance of the `IHaskellDisplay` type class, the\n",
    "notebook has automatically interpreted this for us, which is why we can't\n",
    "see the `<td>` and `<tr>` elements.\n",
    "\n",
    "In fact, I can make the `Row` type an instance of the `ToMarkup` typeclass using this\n",
    "function:"
   ]
  },
  {
   "cell_type": "code",
   "execution_count": 95,
   "metadata": {
    "collapsed": true
   },
   "outputs": [],
   "source": [
    "instance ToMarkup a => ToMarkup (Row a) where\n",
    "  toMarkup = rowToHtml"
   ]
  },
  {
   "cell_type": "markdown",
   "metadata": {},
   "source": [
    "which means that I can now say:"
   ]
  },
  {
   "cell_type": "code",
   "execution_count": 96,
   "metadata": {
    "collapsed": false
   },
   "outputs": [
    {
     "data": {
      "text/html": [
       "<style>/*\n",
       "Custom IHaskell CSS.\n",
       "*/\n",
       "\n",
       "/* Styles used for the Hoogle display in the pager */\n",
       ".hoogle-doc {\n",
       "    display: block;\n",
       "    padding-bottom: 1.3em;\n",
       "    padding-left: 0.4em;\n",
       "}\n",
       ".hoogle-code {\n",
       "    display: block;\n",
       "    font-family: monospace;\n",
       "    white-space: pre;\n",
       "}\n",
       ".hoogle-text {\n",
       "    display: block;\n",
       "}\n",
       ".hoogle-name {\n",
       "    color: green;\n",
       "    font-weight: bold;\n",
       "}\n",
       ".hoogle-head {\n",
       "    font-weight: bold;\n",
       "}\n",
       ".hoogle-sub {\n",
       "    display: block;\n",
       "    margin-left: 0.4em;\n",
       "}\n",
       ".hoogle-package {\n",
       "    font-weight: bold;\n",
       "    font-style: italic;\n",
       "}\n",
       ".hoogle-module {\n",
       "    font-weight: bold;\n",
       "}\n",
       ".hoogle-class {\n",
       "    font-weight: bold;\n",
       "}\n",
       "\n",
       "/* Styles used for basic displays */\n",
       ".get-type {\n",
       "    color: green;\n",
       "    font-weight: bold;\n",
       "    font-family: monospace;\n",
       "    display: block;\n",
       "    white-space: pre-wrap;\n",
       "}\n",
       "\n",
       ".show-type {\n",
       "    color: green;\n",
       "    font-weight: bold;\n",
       "    font-family: monospace;\n",
       "    margin-left: 1em;\n",
       "}\n",
       "\n",
       ".mono {\n",
       "    font-family: monospace;\n",
       "    display: block;\n",
       "}\n",
       "\n",
       ".err-msg {\n",
       "    color: red;\n",
       "    font-style: italic;\n",
       "    font-family: monospace;\n",
       "    white-space: pre;\n",
       "    display: block;\n",
       "}\n",
       "\n",
       "#unshowable {\n",
       "    color: red;\n",
       "    font-weight: bold;\n",
       "}\n",
       "\n",
       ".err-msg.in.collapse {\n",
       "  padding-top: 0.7em;\n",
       "}\n",
       "\n",
       "/* Code that will get highlighted before it is highlighted */\n",
       ".highlight-code {\n",
       "    white-space: pre;\n",
       "    font-family: monospace;\n",
       "}\n",
       "\n",
       "/* Hlint styles */\n",
       ".suggestion-warning { \n",
       "    font-weight: bold;\n",
       "    color: rgb(200, 130, 0);\n",
       "}\n",
       ".suggestion-error { \n",
       "    font-weight: bold;\n",
       "    color: red;\n",
       "}\n",
       ".suggestion-name {\n",
       "    font-weight: bold;\n",
       "}\n",
       "</style><tr>\n",
       "    <td>\n",
       "        10.99\n",
       "    </td>\n",
       "    <td>\n",
       "        11.0\n",
       "    </td>\n",
       "    <td>\n",
       "        0.5657126\n",
       "    </td>\n",
       "</tr>\n"
      ],
      "text/plain": [
       "<tr>\n",
       "    <td>\n",
       "        10.99\n",
       "    </td>\n",
       "    <td>\n",
       "        11.0\n",
       "    </td>\n",
       "    <td>\n",
       "        0.5657126\n",
       "    </td>\n",
       "</tr>"
      ]
     },
     "metadata": {},
     "output_type": "display_data"
    }
   ],
   "source": [
    "toMarkup (last rows)"
   ]
  },
  {
   "cell_type": "markdown",
   "metadata": {},
   "source": [
    "Due to the way the code is setup, if you can call `toMarkup` on a type you can \n",
    "also call `toHtml`:"
   ]
  },
  {
   "cell_type": "code",
   "execution_count": 97,
   "metadata": {
    "collapsed": false
   },
   "outputs": [
    {
     "data": {
      "text/html": [
       "<style>/*\n",
       "Custom IHaskell CSS.\n",
       "*/\n",
       "\n",
       "/* Styles used for the Hoogle display in the pager */\n",
       ".hoogle-doc {\n",
       "    display: block;\n",
       "    padding-bottom: 1.3em;\n",
       "    padding-left: 0.4em;\n",
       "}\n",
       ".hoogle-code {\n",
       "    display: block;\n",
       "    font-family: monospace;\n",
       "    white-space: pre;\n",
       "}\n",
       ".hoogle-text {\n",
       "    display: block;\n",
       "}\n",
       ".hoogle-name {\n",
       "    color: green;\n",
       "    font-weight: bold;\n",
       "}\n",
       ".hoogle-head {\n",
       "    font-weight: bold;\n",
       "}\n",
       ".hoogle-sub {\n",
       "    display: block;\n",
       "    margin-left: 0.4em;\n",
       "}\n",
       ".hoogle-package {\n",
       "    font-weight: bold;\n",
       "    font-style: italic;\n",
       "}\n",
       ".hoogle-module {\n",
       "    font-weight: bold;\n",
       "}\n",
       ".hoogle-class {\n",
       "    font-weight: bold;\n",
       "}\n",
       "\n",
       "/* Styles used for basic displays */\n",
       ".get-type {\n",
       "    color: green;\n",
       "    font-weight: bold;\n",
       "    font-family: monospace;\n",
       "    display: block;\n",
       "    white-space: pre-wrap;\n",
       "}\n",
       "\n",
       ".show-type {\n",
       "    color: green;\n",
       "    font-weight: bold;\n",
       "    font-family: monospace;\n",
       "    margin-left: 1em;\n",
       "}\n",
       "\n",
       ".mono {\n",
       "    font-family: monospace;\n",
       "    display: block;\n",
       "}\n",
       "\n",
       ".err-msg {\n",
       "    color: red;\n",
       "    font-style: italic;\n",
       "    font-family: monospace;\n",
       "    white-space: pre;\n",
       "    display: block;\n",
       "}\n",
       "\n",
       "#unshowable {\n",
       "    color: red;\n",
       "    font-weight: bold;\n",
       "}\n",
       "\n",
       ".err-msg.in.collapse {\n",
       "  padding-top: 0.7em;\n",
       "}\n",
       "\n",
       "/* Code that will get highlighted before it is highlighted */\n",
       ".highlight-code {\n",
       "    white-space: pre;\n",
       "    font-family: monospace;\n",
       "}\n",
       "\n",
       "/* Hlint styles */\n",
       ".suggestion-warning { \n",
       "    font-weight: bold;\n",
       "    color: rgb(200, 130, 0);\n",
       "}\n",
       ".suggestion-error { \n",
       "    font-weight: bold;\n",
       "    color: red;\n",
       "}\n",
       ".suggestion-name {\n",
       "    font-weight: bold;\n",
       "}\n",
       "</style><tr>\n",
       "    <td>\n",
       "        10.99\n",
       "    </td>\n",
       "    <td>\n",
       "        11.0\n",
       "    </td>\n",
       "    <td>\n",
       "        0.5657126\n",
       "    </td>\n",
       "</tr>\n"
      ],
      "text/plain": [
       "<tr>\n",
       "    <td>\n",
       "        10.99\n",
       "    </td>\n",
       "    <td>\n",
       "        11.0\n",
       "    </td>\n",
       "    <td>\n",
       "        0.5657126\n",
       "    </td>\n",
       "</tr>"
      ]
     },
     "metadata": {},
     "output_type": "display_data"
    }
   ],
   "source": [
    "toHtml (last rows)"
   ]
  },
  {
   "cell_type": "markdown",
   "metadata": {},
   "source": [
    "What happens if I try to convert several rows? "
   ]
  },
  {
   "cell_type": "code",
   "execution_count": 98,
   "metadata": {
    "collapsed": false
   },
   "outputs": [
    {
     "data": {
      "text/html": [
       "<style>/*\n",
       "Custom IHaskell CSS.\n",
       "*/\n",
       "\n",
       "/* Styles used for the Hoogle display in the pager */\n",
       ".hoogle-doc {\n",
       "    display: block;\n",
       "    padding-bottom: 1.3em;\n",
       "    padding-left: 0.4em;\n",
       "}\n",
       ".hoogle-code {\n",
       "    display: block;\n",
       "    font-family: monospace;\n",
       "    white-space: pre;\n",
       "}\n",
       ".hoogle-text {\n",
       "    display: block;\n",
       "}\n",
       ".hoogle-name {\n",
       "    color: green;\n",
       "    font-weight: bold;\n",
       "}\n",
       ".hoogle-head {\n",
       "    font-weight: bold;\n",
       "}\n",
       ".hoogle-sub {\n",
       "    display: block;\n",
       "    margin-left: 0.4em;\n",
       "}\n",
       ".hoogle-package {\n",
       "    font-weight: bold;\n",
       "    font-style: italic;\n",
       "}\n",
       ".hoogle-module {\n",
       "    font-weight: bold;\n",
       "}\n",
       ".hoogle-class {\n",
       "    font-weight: bold;\n",
       "}\n",
       "\n",
       "/* Styles used for basic displays */\n",
       ".get-type {\n",
       "    color: green;\n",
       "    font-weight: bold;\n",
       "    font-family: monospace;\n",
       "    display: block;\n",
       "    white-space: pre-wrap;\n",
       "}\n",
       "\n",
       ".show-type {\n",
       "    color: green;\n",
       "    font-weight: bold;\n",
       "    font-family: monospace;\n",
       "    margin-left: 1em;\n",
       "}\n",
       "\n",
       ".mono {\n",
       "    font-family: monospace;\n",
       "    display: block;\n",
       "}\n",
       "\n",
       ".err-msg {\n",
       "    color: red;\n",
       "    font-style: italic;\n",
       "    font-family: monospace;\n",
       "    white-space: pre;\n",
       "    display: block;\n",
       "}\n",
       "\n",
       "#unshowable {\n",
       "    color: red;\n",
       "    font-weight: bold;\n",
       "}\n",
       "\n",
       ".err-msg.in.collapse {\n",
       "  padding-top: 0.7em;\n",
       "}\n",
       "\n",
       "/* Code that will get highlighted before it is highlighted */\n",
       ".highlight-code {\n",
       "    white-space: pre;\n",
       "    font-family: monospace;\n",
       "}\n",
       "\n",
       "/* Hlint styles */\n",
       ".suggestion-warning { \n",
       "    font-weight: bold;\n",
       "    color: rgb(200, 130, 0);\n",
       "}\n",
       ".suggestion-error { \n",
       "    font-weight: bold;\n",
       "    color: red;\n",
       "}\n",
       ".suggestion-name {\n",
       "    font-weight: bold;\n",
       "}\n",
       "</style><span class='err-msg'>No instance for (ToMarkup [Row Float]) arising from a use of ‘toMarkup’<br/>In the expression: toMarkup (take 3 rows)<br/>In an equation for ‘it’: it = toMarkup (take 3 rows)</span>"
      ],
      "text/plain": [
       "No instance for (ToMarkup [Row Float]) arising from a use of ‘toMarkup’\n",
       "In the expression: toMarkup (take 3 rows)\n",
       "In an equation for ‘it’: it = toMarkup (take 3 rows)"
      ]
     },
     "metadata": {},
     "output_type": "display_data"
    }
   ],
   "source": [
    "toMarkup (take 3 rows)"
   ]
  },
  {
   "cell_type": "markdown",
   "metadata": {},
   "source": [
    "In other words, there is no instance of `ToMarkup a => ToMarkup [a]`,\n",
    "which makes sense because just because I know how to convert a single\n",
    "element to Html, there's no single way to combine them. This suggests\n",
    "that, semantically, I want a data type that represents a \"table\", so that\n",
    "it makes sense to say \"oh, when converting this to Html I want to\n",
    "include a table header as well as the data\".\n",
    "\n",
    "This leads me to defining an `ARF` type, based on a list of `Row` values\n",
    "(I am also going to restrict the row type to be `Float`):"
   ]
  },
  {
   "cell_type": "code",
   "execution_count": 99,
   "metadata": {
    "collapsed": true
   },
   "outputs": [],
   "source": [
    "newtype ARF = ARF [Row Float]"
   ]
  },
  {
   "cell_type": "markdown",
   "metadata": {},
   "source": [
    "A value with a type of `ARF` is created by using the `ARF` label (constuctor),\n",
    "but as shown below, the notebook doesn't know what to do with it (because I\n",
    "did not tell the compiler to create a `Show` instance for the type, as I\n",
    "did with the `Row` type):"
   ]
  },
  {
   "cell_type": "code",
   "execution_count": 100,
   "metadata": {
    "collapsed": false
   },
   "outputs": [
    {
     "data": {
      "text/html": [
       "<style>/*\n",
       "Custom IHaskell CSS.\n",
       "*/\n",
       "\n",
       "/* Styles used for the Hoogle display in the pager */\n",
       ".hoogle-doc {\n",
       "    display: block;\n",
       "    padding-bottom: 1.3em;\n",
       "    padding-left: 0.4em;\n",
       "}\n",
       ".hoogle-code {\n",
       "    display: block;\n",
       "    font-family: monospace;\n",
       "    white-space: pre;\n",
       "}\n",
       ".hoogle-text {\n",
       "    display: block;\n",
       "}\n",
       ".hoogle-name {\n",
       "    color: green;\n",
       "    font-weight: bold;\n",
       "}\n",
       ".hoogle-head {\n",
       "    font-weight: bold;\n",
       "}\n",
       ".hoogle-sub {\n",
       "    display: block;\n",
       "    margin-left: 0.4em;\n",
       "}\n",
       ".hoogle-package {\n",
       "    font-weight: bold;\n",
       "    font-style: italic;\n",
       "}\n",
       ".hoogle-module {\n",
       "    font-weight: bold;\n",
       "}\n",
       ".hoogle-class {\n",
       "    font-weight: bold;\n",
       "}\n",
       "\n",
       "/* Styles used for basic displays */\n",
       ".get-type {\n",
       "    color: green;\n",
       "    font-weight: bold;\n",
       "    font-family: monospace;\n",
       "    display: block;\n",
       "    white-space: pre-wrap;\n",
       "}\n",
       "\n",
       ".show-type {\n",
       "    color: green;\n",
       "    font-weight: bold;\n",
       "    font-family: monospace;\n",
       "    margin-left: 1em;\n",
       "}\n",
       "\n",
       ".mono {\n",
       "    font-family: monospace;\n",
       "    display: block;\n",
       "}\n",
       "\n",
       ".err-msg {\n",
       "    color: red;\n",
       "    font-style: italic;\n",
       "    font-family: monospace;\n",
       "    white-space: pre;\n",
       "    display: block;\n",
       "}\n",
       "\n",
       "#unshowable {\n",
       "    color: red;\n",
       "    font-weight: bold;\n",
       "}\n",
       "\n",
       ".err-msg.in.collapse {\n",
       "  padding-top: 0.7em;\n",
       "}\n",
       "\n",
       "/* Code that will get highlighted before it is highlighted */\n",
       ".highlight-code {\n",
       "    white-space: pre;\n",
       "    font-family: monospace;\n",
       "}\n",
       "\n",
       "/* Hlint styles */\n",
       ".suggestion-warning { \n",
       "    font-weight: bold;\n",
       "    color: rgb(200, 130, 0);\n",
       "}\n",
       ".suggestion-error { \n",
       "    font-weight: bold;\n",
       "    color: red;\n",
       "}\n",
       ".suggestion-name {\n",
       "    font-weight: bold;\n",
       "}\n",
       "</style><div class='collapse-group'><span class='btn btn-default' href='#' id='unshowable'>Unshowable:<span class='show-type'>ARF</span></span><span class='err-msg collapse'>No instance for (Show ARF) arising from a use of ‘print’<br/>In a stmt of an interactive GHCi command: print it</span></div><script>$('#unshowable').on('click', function(e) {\n",
       "    e.preventDefault();\n",
       "    var $this = $(this);\n",
       "    var $collapse = $this.closest('.collapse-group').find('.err-msg');\n",
       "    $collapse.collapse('toggle');\n",
       "});\n",
       "</script>"
      ],
      "text/plain": [
       "No instance for (Show ARF) arising from a use of ‘print’\n",
       "In a stmt of an interactive GHCi command: print it"
      ]
     },
     "metadata": {},
     "output_type": "display_data"
    }
   ],
   "source": [
    "ARF rows"
   ]
  },
  {
   "cell_type": "markdown",
   "metadata": {},
   "source": [
    "A `Show` instance could be added easily - for instance:\n",
    "\n",
    "```\n",
    "instance Show ARF where\n",
    "  show (ARF rows) = \"ARF \" ++ show rows\n",
    "```\n",
    "\n",
    "but we're here to create a HTML table! Since there's a lot of rows - over a thousand of them - I want\n",
    "to be able to show only a subset of them in this table. One simple interface is to use a `Maybe Int`\n",
    "as an indicator:\n",
    "\n",
    "  - `Nothing` means to display all rows\n",
    "  - `Just n` means only show the first and last `n` rows\n",
    "  \n",
    "although other options are possible. This suggests the following function, which \n",
    "splits an input list up into the start and end subsets, if a subset is asked\n",
    "for (i.e. the count is `Just n`) *and* the list is long enough. In this case I\n",
    "use the `Either` type to return a value, not because the `Left` case should\n",
    "be considered a failure, but because I want to return *either* the full list\n",
    "(`Left`) *or* the start and end subsets (`Right`). The reason for splitting the\n",
    "two cases will hopefully become clear soon$^\\dagger$.\n",
    "\n",
    "$^\\dagger$ If you can't wait, it's because I want to add a row of \"...\" characters\n",
    "to indicate when rows have been excluded."
   ]
  },
  {
   "cell_type": "code",
   "execution_count": 101,
   "metadata": {
    "collapsed": false
   },
   "outputs": [],
   "source": [
    "subsetRows :: \n",
    "  Maybe Int  -- ^ how many rows to select from start and end, if any \n",
    "  -> [a]     -- ^ the input list\n",
    "  -> Either [a] ([a],[a])\n",
    "subsetRows mcount xs =\n",
    "  let n = length xs\n",
    "  in case mcount of\n",
    "    Just nr | n > 2 * nr -> let start = take nr xs\n",
    "                                end = drop (n-nr) xs\n",
    "                            in Right (start, end)\n",
    "    _ -> Left xs"
   ]
  },
  {
   "cell_type": "markdown",
   "metadata": {},
   "source": [
    "There are actually two cases above that result in `Left xs` being returned:\n",
    "\n",
    "  - `mcount` is `Just nr`, but `n <= 2 * nr`\n",
    "  - `mcount` is `Nothing`\n",
    "  \n",
    "I use the \"catch-all\" `_` case to handle both of these (this is in contrast\n",
    "to the earlier case when I called `viewr` but explicitly named both patterns\n",
    "of the `case` statement).\n",
    "\n",
    "Checking this gives the expected (or, hopefully you expect them) results:"
   ]
  },
  {
   "cell_type": "code",
   "execution_count": 102,
   "metadata": {
    "collapsed": false
   },
   "outputs": [
    {
     "data": {
      "text/plain": [
       "Left [1,2,3,4,5,6,7,8,9,10]"
      ]
     },
     "metadata": {},
     "output_type": "display_data"
    }
   ],
   "source": [
    "subsetRows Nothing [1..10]"
   ]
  },
  {
   "cell_type": "code",
   "execution_count": 103,
   "metadata": {
    "collapsed": false
   },
   "outputs": [
    {
     "data": {
      "text/plain": [
       "Right ([1,2,3],[8,9,10])"
      ]
     },
     "metadata": {},
     "output_type": "display_data"
    }
   ],
   "source": [
    "subsetRows (Just 3) [1..10]"
   ]
  },
  {
   "cell_type": "markdown",
   "metadata": {},
   "source": [
    "In `subsetRows` I did not assume anything about the contents of the list (in otherwords, the list type `a`\n",
    "was not constrained). This is often \"a good thing™\", since it means that\n",
    "\n",
    " - the code is more re-usable\n",
    " - you can be more certain what the code does (or, perhaps more-importantly, what it can *not* do).\n",
    "\n",
    "That is, with a type like `[a] -> [a]`, we know that the function can either return the empty list or values drawn\n",
    "from the input list (maybe repeated), but it can not return a value not in the input list (since, without knowing the type, it can not \"create\" a value). This can be compared to a function like `[Int] -> [Int]` which is free to replace every even value by 2 and odd value by the length of the list.\n",
    "\n",
    "Eventually I do need to write a function with a specific type! In this case, I want something that\n",
    "will create the `<tr>` elements for the HTML table, marking any excluded rows by using a\n",
    "row of ellipses - i.e. a row like"
   ]
  },
  {
   "cell_type": "code",
   "execution_count": 104,
   "metadata": {
    "collapsed": false
   },
   "outputs": [
    {
     "data": {
      "text/html": [
       "<style>/*\n",
       "Custom IHaskell CSS.\n",
       "*/\n",
       "\n",
       "/* Styles used for the Hoogle display in the pager */\n",
       ".hoogle-doc {\n",
       "    display: block;\n",
       "    padding-bottom: 1.3em;\n",
       "    padding-left: 0.4em;\n",
       "}\n",
       ".hoogle-code {\n",
       "    display: block;\n",
       "    font-family: monospace;\n",
       "    white-space: pre;\n",
       "}\n",
       ".hoogle-text {\n",
       "    display: block;\n",
       "}\n",
       ".hoogle-name {\n",
       "    color: green;\n",
       "    font-weight: bold;\n",
       "}\n",
       ".hoogle-head {\n",
       "    font-weight: bold;\n",
       "}\n",
       ".hoogle-sub {\n",
       "    display: block;\n",
       "    margin-left: 0.4em;\n",
       "}\n",
       ".hoogle-package {\n",
       "    font-weight: bold;\n",
       "    font-style: italic;\n",
       "}\n",
       ".hoogle-module {\n",
       "    font-weight: bold;\n",
       "}\n",
       ".hoogle-class {\n",
       "    font-weight: bold;\n",
       "}\n",
       "\n",
       "/* Styles used for basic displays */\n",
       ".get-type {\n",
       "    color: green;\n",
       "    font-weight: bold;\n",
       "    font-family: monospace;\n",
       "    display: block;\n",
       "    white-space: pre-wrap;\n",
       "}\n",
       "\n",
       ".show-type {\n",
       "    color: green;\n",
       "    font-weight: bold;\n",
       "    font-family: monospace;\n",
       "    margin-left: 1em;\n",
       "}\n",
       "\n",
       ".mono {\n",
       "    font-family: monospace;\n",
       "    display: block;\n",
       "}\n",
       "\n",
       ".err-msg {\n",
       "    color: red;\n",
       "    font-style: italic;\n",
       "    font-family: monospace;\n",
       "    white-space: pre;\n",
       "    display: block;\n",
       "}\n",
       "\n",
       "#unshowable {\n",
       "    color: red;\n",
       "    font-weight: bold;\n",
       "}\n",
       "\n",
       ".err-msg.in.collapse {\n",
       "  padding-top: 0.7em;\n",
       "}\n",
       "\n",
       "/* Code that will get highlighted before it is highlighted */\n",
       ".highlight-code {\n",
       "    white-space: pre;\n",
       "    font-family: monospace;\n",
       "}\n",
       "\n",
       "/* Hlint styles */\n",
       ".suggestion-warning { \n",
       "    font-weight: bold;\n",
       "    color: rgb(200, 130, 0);\n",
       "}\n",
       ".suggestion-error { \n",
       "    font-weight: bold;\n",
       "    color: red;\n",
       "}\n",
       ".suggestion-name {\n",
       "    font-weight: bold;\n",
       "}\n",
       "</style><tr>\n",
       "    <td>\n",
       "        ...\n",
       "    </td>\n",
       "    <td>\n",
       "        ...\n",
       "    </td>\n",
       "    <td>\n",
       "        ...\n",
       "    </td>\n",
       "</tr>\n"
      ],
      "text/plain": [
       "<tr>\n",
       "    <td>\n",
       "        ...\n",
       "    </td>\n",
       "    <td>\n",
       "        ...\n",
       "    </td>\n",
       "    <td>\n",
       "        ...\n",
       "    </td>\n",
       "</tr>"
      ]
     },
     "metadata": {},
     "output_type": "display_data"
    }
   ],
   "source": [
    "toHtml (Row \"...\" \"...\" \"...\")"
   ]
  },
  {
   "cell_type": "markdown",
   "metadata": {},
   "source": [
    "but using the UTF-8 ellipsis character rather than three dots.\n",
    "\n",
    "Using `subsetRows` I can convert the\n",
    "output rows into HTML using `toHtml`, and insert a row of ellipsis if the return\n",
    "value was `Right`. I could do this just for `Row Float`, but let's keep trying to\n",
    "be general and allow any row with a `ToMarkup`-compatible type:"
   ]
  },
  {
   "cell_type": "code",
   "execution_count": 105,
   "metadata": {
    "collapsed": false
   },
   "outputs": [],
   "source": [
    "htmlSubset :: ToMarkup a => Maybe Int -> [Row a] -> Html\n",
    "htmlSubset mcount xs = \n",
    "  let out = case subsetRows mcount xs of\n",
    "        Left ys -> map toHtml ys\n",
    "        Right (ls,rs) -> let hellip = \"…\"\n",
    "                             spacer = toHtml (Row hellip hellip hellip)\n",
    "                         in map toHtml ls <> [spacer] <> map toHtml rs \n",
    "  in mconcat out"
   ]
  },
  {
   "cell_type": "markdown",
   "metadata": {},
   "source": [
    "I used `<>` to combine the lists but I could have also used `++` here.\n",
    "Since each element of out is `Html`, and `Html` is a Monoid, I can use\n",
    "`mconcat` to combine them together, so that the return is `Html` rather than\n",
    "`[Html]`.\n",
    "\n",
    "There's a subtle point in the above for the newcomer to Haskell: why did I write\n",
    "\n",
    "```\n",
    "map toHtml ls <> [spacer] <> map toHtml rs\n",
    "```\n",
    "\n",
    "rather than \n",
    "\n",
    "```\n",
    "map toHtml (ls <> [spacer] <> rs)\n",
    "```\n",
    "\n",
    "that is, combine `ls`, `spacer`, and `rs` into a list first? The reason is\n",
    "because the types don't match up: `ls` and `rs` both have type `[Row a]`,\n",
    "but `spacer` is the output of a `toHtml` call, and so has type `Html`. The\n",
    "compiler knows this, and won't let you combine lists of different types.\n",
    "So, I convert the `ls` and `rs` values to `Html`, and then I can combine\n",
    "the three terms.\n",
    "\n",
    "As a check it works (although it isn't displayed particularly nicely, as there is no\n",
    "`<table>` around the `<tr>`'s created by the routine):"
   ]
  },
  {
   "cell_type": "code",
   "execution_count": 106,
   "metadata": {
    "collapsed": false
   },
   "outputs": [
    {
     "data": {
      "text/html": [
       "<style>/*\n",
       "Custom IHaskell CSS.\n",
       "*/\n",
       "\n",
       "/* Styles used for the Hoogle display in the pager */\n",
       ".hoogle-doc {\n",
       "    display: block;\n",
       "    padding-bottom: 1.3em;\n",
       "    padding-left: 0.4em;\n",
       "}\n",
       ".hoogle-code {\n",
       "    display: block;\n",
       "    font-family: monospace;\n",
       "    white-space: pre;\n",
       "}\n",
       ".hoogle-text {\n",
       "    display: block;\n",
       "}\n",
       ".hoogle-name {\n",
       "    color: green;\n",
       "    font-weight: bold;\n",
       "}\n",
       ".hoogle-head {\n",
       "    font-weight: bold;\n",
       "}\n",
       ".hoogle-sub {\n",
       "    display: block;\n",
       "    margin-left: 0.4em;\n",
       "}\n",
       ".hoogle-package {\n",
       "    font-weight: bold;\n",
       "    font-style: italic;\n",
       "}\n",
       ".hoogle-module {\n",
       "    font-weight: bold;\n",
       "}\n",
       ".hoogle-class {\n",
       "    font-weight: bold;\n",
       "}\n",
       "\n",
       "/* Styles used for basic displays */\n",
       ".get-type {\n",
       "    color: green;\n",
       "    font-weight: bold;\n",
       "    font-family: monospace;\n",
       "    display: block;\n",
       "    white-space: pre-wrap;\n",
       "}\n",
       "\n",
       ".show-type {\n",
       "    color: green;\n",
       "    font-weight: bold;\n",
       "    font-family: monospace;\n",
       "    margin-left: 1em;\n",
       "}\n",
       "\n",
       ".mono {\n",
       "    font-family: monospace;\n",
       "    display: block;\n",
       "}\n",
       "\n",
       ".err-msg {\n",
       "    color: red;\n",
       "    font-style: italic;\n",
       "    font-family: monospace;\n",
       "    white-space: pre;\n",
       "    display: block;\n",
       "}\n",
       "\n",
       "#unshowable {\n",
       "    color: red;\n",
       "    font-weight: bold;\n",
       "}\n",
       "\n",
       ".err-msg.in.collapse {\n",
       "  padding-top: 0.7em;\n",
       "}\n",
       "\n",
       "/* Code that will get highlighted before it is highlighted */\n",
       ".highlight-code {\n",
       "    white-space: pre;\n",
       "    font-family: monospace;\n",
       "}\n",
       "\n",
       "/* Hlint styles */\n",
       ".suggestion-warning { \n",
       "    font-weight: bold;\n",
       "    color: rgb(200, 130, 0);\n",
       "}\n",
       ".suggestion-error { \n",
       "    font-weight: bold;\n",
       "    color: red;\n",
       "}\n",
       ".suggestion-name {\n",
       "    font-weight: bold;\n",
       "}\n",
       "</style><tr>\n",
       "    <td>\n",
       "        0.3\n",
       "    </td>\n",
       "    <td>\n",
       "        0.31\n",
       "    </td>\n",
       "    <td>\n",
       "        4.874343\n",
       "    </td>\n",
       "</tr>\n",
       "<tr>\n",
       "    <td>\n",
       "        0.31\n",
       "    </td>\n",
       "    <td>\n",
       "        0.32\n",
       "    </td>\n",
       "    <td>\n",
       "        14.829262\n",
       "    </td>\n",
       "</tr>\n",
       "<tr>\n",
       "    <td>\n",
       "        …\n",
       "    </td>\n",
       "    <td>\n",
       "        …\n",
       "    </td>\n",
       "    <td>\n",
       "        …\n",
       "    </td>\n",
       "</tr>\n",
       "<tr>\n",
       "    <td>\n",
       "        10.98\n",
       "    </td>\n",
       "    <td>\n",
       "        10.99\n",
       "    </td>\n",
       "    <td>\n",
       "        0.5852773\n",
       "    </td>\n",
       "</tr>\n",
       "<tr>\n",
       "    <td>\n",
       "        10.99\n",
       "    </td>\n",
       "    <td>\n",
       "        11.0\n",
       "    </td>\n",
       "    <td>\n",
       "        0.5657126\n",
       "    </td>\n",
       "</tr>\n"
      ],
      "text/plain": [
       "<tr>\n",
       "    <td>\n",
       "        0.3\n",
       "    </td>\n",
       "    <td>\n",
       "        0.31\n",
       "    </td>\n",
       "    <td>\n",
       "        4.874343\n",
       "    </td>\n",
       "</tr>\n",
       "<tr>\n",
       "    <td>\n",
       "        0.31\n",
       "    </td>\n",
       "    <td>\n",
       "        0.32\n",
       "    </td>\n",
       "    <td>\n",
       "        14.829262\n",
       "    </td>\n",
       "</tr>\n",
       "<tr>\n",
       "    <td>\n",
       "        …\n",
       "    </td>\n",
       "    <td>\n",
       "        …\n",
       "    </td>\n",
       "    <td>\n",
       "        …\n",
       "    </td>\n",
       "</tr>\n",
       "<tr>\n",
       "    <td>\n",
       "        10.98\n",
       "    </td>\n",
       "    <td>\n",
       "        10.99\n",
       "    </td>\n",
       "    <td>\n",
       "        0.5852773\n",
       "    </td>\n",
       "</tr>\n",
       "<tr>\n",
       "    <td>\n",
       "        10.99\n",
       "    </td>\n",
       "    <td>\n",
       "        11.0\n",
       "    </td>\n",
       "    <td>\n",
       "        0.5657126\n",
       "    </td>\n",
       "</tr>"
      ]
     },
     "metadata": {},
     "output_type": "display_data"
    }
   ],
   "source": [
    "htmlSubset (Just 2) rows"
   ]
  },
  {
   "cell_type": "markdown",
   "metadata": {},
   "source": [
    "The \"header\" row can be created manually (I'd probably not pull this out\n",
    "into a separate routine, other than in a notebook like this). It's somewhat\n",
    "ugly since there's a lot of type conversion going on (i.e. all the\n",
    "calls to `toHtml`). There are ways to avoid this - in particular the\n",
    "[`OverloadedStrings` GHC extension](https://ocharles.org.uk/blog/posts/2014-12-17-overloaded-strings.html),\n",
    "but there are times when it's worth being explicit (if only \n",
    "to point out where some of the \"warts\" in a lanugage are):"
   ]
  },
  {
   "cell_type": "code",
   "execution_count": 107,
   "metadata": {
    "collapsed": false
   },
   "outputs": [
    {
     "data": {
      "text/html": [
       "<style>/*\n",
       "Custom IHaskell CSS.\n",
       "*/\n",
       "\n",
       "/* Styles used for the Hoogle display in the pager */\n",
       ".hoogle-doc {\n",
       "    display: block;\n",
       "    padding-bottom: 1.3em;\n",
       "    padding-left: 0.4em;\n",
       "}\n",
       ".hoogle-code {\n",
       "    display: block;\n",
       "    font-family: monospace;\n",
       "    white-space: pre;\n",
       "}\n",
       ".hoogle-text {\n",
       "    display: block;\n",
       "}\n",
       ".hoogle-name {\n",
       "    color: green;\n",
       "    font-weight: bold;\n",
       "}\n",
       ".hoogle-head {\n",
       "    font-weight: bold;\n",
       "}\n",
       ".hoogle-sub {\n",
       "    display: block;\n",
       "    margin-left: 0.4em;\n",
       "}\n",
       ".hoogle-package {\n",
       "    font-weight: bold;\n",
       "    font-style: italic;\n",
       "}\n",
       ".hoogle-module {\n",
       "    font-weight: bold;\n",
       "}\n",
       ".hoogle-class {\n",
       "    font-weight: bold;\n",
       "}\n",
       "\n",
       "/* Styles used for basic displays */\n",
       ".get-type {\n",
       "    color: green;\n",
       "    font-weight: bold;\n",
       "    font-family: monospace;\n",
       "    display: block;\n",
       "    white-space: pre-wrap;\n",
       "}\n",
       "\n",
       ".show-type {\n",
       "    color: green;\n",
       "    font-weight: bold;\n",
       "    font-family: monospace;\n",
       "    margin-left: 1em;\n",
       "}\n",
       "\n",
       ".mono {\n",
       "    font-family: monospace;\n",
       "    display: block;\n",
       "}\n",
       "\n",
       ".err-msg {\n",
       "    color: red;\n",
       "    font-style: italic;\n",
       "    font-family: monospace;\n",
       "    white-space: pre;\n",
       "    display: block;\n",
       "}\n",
       "\n",
       "#unshowable {\n",
       "    color: red;\n",
       "    font-weight: bold;\n",
       "}\n",
       "\n",
       ".err-msg.in.collapse {\n",
       "  padding-top: 0.7em;\n",
       "}\n",
       "\n",
       "/* Code that will get highlighted before it is highlighted */\n",
       ".highlight-code {\n",
       "    white-space: pre;\n",
       "    font-family: monospace;\n",
       "}\n",
       "\n",
       "/* Hlint styles */\n",
       ".suggestion-warning { \n",
       "    font-weight: bold;\n",
       "    color: rgb(200, 130, 0);\n",
       "}\n",
       ".suggestion-error { \n",
       "    font-weight: bold;\n",
       "    color: red;\n",
       "}\n",
       ".suggestion-name {\n",
       "    font-weight: bold;\n",
       "}\n",
       "</style><tr>\n",
       "    <th>\n",
       "        E\n",
       "        <sub>\n",
       "            low\n",
       "        </sub>\n",
       "         (keV)\n",
       "    </th>\n",
       "    <th>\n",
       "        E\n",
       "        <sub>\n",
       "            high\n",
       "        </sub>\n",
       "         (keV)\n",
       "    </th>\n",
       "    <th>\n",
       "        ARF (cm\n",
       "        <sup>\n",
       "            2\n",
       "        </sup>\n",
       "        )\n",
       "    </th>\n",
       "</tr>\n"
      ],
      "text/plain": [
       "<tr>\n",
       "    <th>\n",
       "        E\n",
       "        <sub>\n",
       "            low\n",
       "        </sub>\n",
       "         (keV)\n",
       "    </th>\n",
       "    <th>\n",
       "        E\n",
       "        <sub>\n",
       "            high\n",
       "        </sub>\n",
       "         (keV)\n",
       "    </th>\n",
       "    <th>\n",
       "        ARF (cm\n",
       "        <sup>\n",
       "            2\n",
       "        </sup>\n",
       "        )\n",
       "    </th>\n",
       "</tr>"
      ]
     },
     "metadata": {},
     "output_type": "display_data"
    }
   ],
   "source": [
    "arfHeader :: Html\n",
    "arfHeader =   \n",
    "  let c1 = toHtml \"E\" <> sub (toHtml \"low\") <> toHtml \" (keV)\"\n",
    "      c2 = toHtml \"E\" <> sub (toHtml \"high\") <> toHtml \" (keV)\"\n",
    "      c3 = toHtml \"ARF (cm\" <> sup (toHtml \"2\") <> toHtml \")\"\n",
    "  in tr (th c1 <> th c2 <> th c3)\n",
    "  \n",
    "arfHeader"
   ]
  },
  {
   "cell_type": "markdown",
   "metadata": {},
   "source": [
    "These can then be put together to create a table:"
   ]
  },
  {
   "cell_type": "code",
   "execution_count": 108,
   "metadata": {
    "collapsed": false
   },
   "outputs": [],
   "source": [
    "-- | Convert a list of rows into a HTML table.\n",
    "--\n",
    "--\n",
    "arfToHtml ::\n",
    "  Maybe Int   -- ^ if `Nothing`, display all rows, otherwise just this number at the start and end\n",
    "  -> ARF      -- ^ data to display\n",
    "  -> Html     -- ^ HTML represenation\n",
    "arfToHtml mcount (ARF rows) =\n",
    "  table (thead arfHeader <> tbody (htmlSubset mcount rows))"
   ]
  },
  {
   "cell_type": "markdown",
   "metadata": {},
   "source": [
    "Testing on a subset of the rows gives (the output may not appear quite correctly,\n",
    "in that horizontal and vertical lines may be missing, depending on how you\n",
    "are viewing this notebook):"
   ]
  },
  {
   "cell_type": "code",
   "execution_count": 109,
   "metadata": {
    "collapsed": false
   },
   "outputs": [
    {
     "data": {
      "text/html": [
       "<style>/*\n",
       "Custom IHaskell CSS.\n",
       "*/\n",
       "\n",
       "/* Styles used for the Hoogle display in the pager */\n",
       ".hoogle-doc {\n",
       "    display: block;\n",
       "    padding-bottom: 1.3em;\n",
       "    padding-left: 0.4em;\n",
       "}\n",
       ".hoogle-code {\n",
       "    display: block;\n",
       "    font-family: monospace;\n",
       "    white-space: pre;\n",
       "}\n",
       ".hoogle-text {\n",
       "    display: block;\n",
       "}\n",
       ".hoogle-name {\n",
       "    color: green;\n",
       "    font-weight: bold;\n",
       "}\n",
       ".hoogle-head {\n",
       "    font-weight: bold;\n",
       "}\n",
       ".hoogle-sub {\n",
       "    display: block;\n",
       "    margin-left: 0.4em;\n",
       "}\n",
       ".hoogle-package {\n",
       "    font-weight: bold;\n",
       "    font-style: italic;\n",
       "}\n",
       ".hoogle-module {\n",
       "    font-weight: bold;\n",
       "}\n",
       ".hoogle-class {\n",
       "    font-weight: bold;\n",
       "}\n",
       "\n",
       "/* Styles used for basic displays */\n",
       ".get-type {\n",
       "    color: green;\n",
       "    font-weight: bold;\n",
       "    font-family: monospace;\n",
       "    display: block;\n",
       "    white-space: pre-wrap;\n",
       "}\n",
       "\n",
       ".show-type {\n",
       "    color: green;\n",
       "    font-weight: bold;\n",
       "    font-family: monospace;\n",
       "    margin-left: 1em;\n",
       "}\n",
       "\n",
       ".mono {\n",
       "    font-family: monospace;\n",
       "    display: block;\n",
       "}\n",
       "\n",
       ".err-msg {\n",
       "    color: red;\n",
       "    font-style: italic;\n",
       "    font-family: monospace;\n",
       "    white-space: pre;\n",
       "    display: block;\n",
       "}\n",
       "\n",
       "#unshowable {\n",
       "    color: red;\n",
       "    font-weight: bold;\n",
       "}\n",
       "\n",
       ".err-msg.in.collapse {\n",
       "  padding-top: 0.7em;\n",
       "}\n",
       "\n",
       "/* Code that will get highlighted before it is highlighted */\n",
       ".highlight-code {\n",
       "    white-space: pre;\n",
       "    font-family: monospace;\n",
       "}\n",
       "\n",
       "/* Hlint styles */\n",
       ".suggestion-warning { \n",
       "    font-weight: bold;\n",
       "    color: rgb(200, 130, 0);\n",
       "}\n",
       ".suggestion-error { \n",
       "    font-weight: bold;\n",
       "    color: red;\n",
       "}\n",
       ".suggestion-name {\n",
       "    font-weight: bold;\n",
       "}\n",
       "</style><table>\n",
       "    <thead>\n",
       "        <tr>\n",
       "            <th>\n",
       "                E\n",
       "                <sub>\n",
       "                    low\n",
       "                </sub>\n",
       "                 (keV)\n",
       "            </th>\n",
       "            <th>\n",
       "                E\n",
       "                <sub>\n",
       "                    high\n",
       "                </sub>\n",
       "                 (keV)\n",
       "            </th>\n",
       "            <th>\n",
       "                ARF (cm\n",
       "                <sup>\n",
       "                    2\n",
       "                </sup>\n",
       "                )\n",
       "            </th>\n",
       "        </tr>\n",
       "    </thead>\n",
       "    <tbody>\n",
       "        <tr>\n",
       "            <td>\n",
       "                0.3\n",
       "            </td>\n",
       "            <td>\n",
       "                0.31\n",
       "            </td>\n",
       "            <td>\n",
       "                4.874343\n",
       "            </td>\n",
       "        </tr>\n",
       "        <tr>\n",
       "            <td>\n",
       "                0.31\n",
       "            </td>\n",
       "            <td>\n",
       "                0.32\n",
       "            </td>\n",
       "            <td>\n",
       "                14.829262\n",
       "            </td>\n",
       "        </tr>\n",
       "        <tr>\n",
       "            <td>\n",
       "                0.32\n",
       "            </td>\n",
       "            <td>\n",
       "                0.33\n",
       "            </td>\n",
       "            <td>\n",
       "                21.302292\n",
       "            </td>\n",
       "        </tr>\n",
       "        <tr>\n",
       "            <td>\n",
       "                0.33\n",
       "            </td>\n",
       "            <td>\n",
       "                0.34\n",
       "            </td>\n",
       "            <td>\n",
       "                28.514952\n",
       "            </td>\n",
       "        </tr>\n",
       "        <tr>\n",
       "            <td>\n",
       "                0.34\n",
       "            </td>\n",
       "            <td>\n",
       "                0.35\n",
       "            </td>\n",
       "            <td>\n",
       "                35.39883\n",
       "            </td>\n",
       "        </tr>\n",
       "    </tbody>\n",
       "</table>\n"
      ],
      "text/plain": [
       "<table>\n",
       "    <thead>\n",
       "        <tr>\n",
       "            <th>\n",
       "                E\n",
       "                <sub>\n",
       "                    low\n",
       "                </sub>\n",
       "                 (keV)\n",
       "            </th>\n",
       "            <th>\n",
       "                E\n",
       "                <sub>\n",
       "                    high\n",
       "                </sub>\n",
       "                 (keV)\n",
       "            </th>\n",
       "            <th>\n",
       "                ARF (cm\n",
       "                <sup>\n",
       "                    2\n",
       "                </sup>\n",
       "                )\n",
       "            </th>\n",
       "        </tr>\n",
       "    </thead>\n",
       "    <tbody>\n",
       "        <tr>\n",
       "            <td>\n",
       "                0.3\n",
       "            </td>\n",
       "            <td>\n",
       "                0.31\n",
       "            </td>\n",
       "            <td>\n",
       "                4.874343\n",
       "            </td>\n",
       "        </tr>\n",
       "        <tr>\n",
       "            <td>\n",
       "                0.31\n",
       "            </td>\n",
       "            <td>\n",
       "                0.32\n",
       "            </td>\n",
       "            <td>\n",
       "                14.829262\n",
       "            </td>\n",
       "        </tr>\n",
       "        <tr>\n",
       "            <td>\n",
       "                0.32\n",
       "            </td>\n",
       "            <td>\n",
       "                0.33\n",
       "            </td>\n",
       "            <td>\n",
       "                21.302292\n",
       "            </td>\n",
       "        </tr>\n",
       "        <tr>\n",
       "            <td>\n",
       "                0.33\n",
       "            </td>\n",
       "            <td>\n",
       "                0.34\n",
       "            </td>\n",
       "            <td>\n",
       "                28.514952\n",
       "            </td>\n",
       "        </tr>\n",
       "        <tr>\n",
       "            <td>\n",
       "                0.34\n",
       "            </td>\n",
       "            <td>\n",
       "                0.35\n",
       "            </td>\n",
       "            <td>\n",
       "                35.39883\n",
       "            </td>\n",
       "        </tr>\n",
       "    </tbody>\n",
       "</table>"
      ]
     },
     "metadata": {},
     "output_type": "display_data"
    }
   ],
   "source": [
    "arfToHtml Nothing (ARF (take 5 rows))"
   ]
  },
  {
   "cell_type": "code",
   "execution_count": 110,
   "metadata": {
    "collapsed": false
   },
   "outputs": [
    {
     "data": {
      "text/html": [
       "<style>/*\n",
       "Custom IHaskell CSS.\n",
       "*/\n",
       "\n",
       "/* Styles used for the Hoogle display in the pager */\n",
       ".hoogle-doc {\n",
       "    display: block;\n",
       "    padding-bottom: 1.3em;\n",
       "    padding-left: 0.4em;\n",
       "}\n",
       ".hoogle-code {\n",
       "    display: block;\n",
       "    font-family: monospace;\n",
       "    white-space: pre;\n",
       "}\n",
       ".hoogle-text {\n",
       "    display: block;\n",
       "}\n",
       ".hoogle-name {\n",
       "    color: green;\n",
       "    font-weight: bold;\n",
       "}\n",
       ".hoogle-head {\n",
       "    font-weight: bold;\n",
       "}\n",
       ".hoogle-sub {\n",
       "    display: block;\n",
       "    margin-left: 0.4em;\n",
       "}\n",
       ".hoogle-package {\n",
       "    font-weight: bold;\n",
       "    font-style: italic;\n",
       "}\n",
       ".hoogle-module {\n",
       "    font-weight: bold;\n",
       "}\n",
       ".hoogle-class {\n",
       "    font-weight: bold;\n",
       "}\n",
       "\n",
       "/* Styles used for basic displays */\n",
       ".get-type {\n",
       "    color: green;\n",
       "    font-weight: bold;\n",
       "    font-family: monospace;\n",
       "    display: block;\n",
       "    white-space: pre-wrap;\n",
       "}\n",
       "\n",
       ".show-type {\n",
       "    color: green;\n",
       "    font-weight: bold;\n",
       "    font-family: monospace;\n",
       "    margin-left: 1em;\n",
       "}\n",
       "\n",
       ".mono {\n",
       "    font-family: monospace;\n",
       "    display: block;\n",
       "}\n",
       "\n",
       ".err-msg {\n",
       "    color: red;\n",
       "    font-style: italic;\n",
       "    font-family: monospace;\n",
       "    white-space: pre;\n",
       "    display: block;\n",
       "}\n",
       "\n",
       "#unshowable {\n",
       "    color: red;\n",
       "    font-weight: bold;\n",
       "}\n",
       "\n",
       ".err-msg.in.collapse {\n",
       "  padding-top: 0.7em;\n",
       "}\n",
       "\n",
       "/* Code that will get highlighted before it is highlighted */\n",
       ".highlight-code {\n",
       "    white-space: pre;\n",
       "    font-family: monospace;\n",
       "}\n",
       "\n",
       "/* Hlint styles */\n",
       ".suggestion-warning { \n",
       "    font-weight: bold;\n",
       "    color: rgb(200, 130, 0);\n",
       "}\n",
       ".suggestion-error { \n",
       "    font-weight: bold;\n",
       "    color: red;\n",
       "}\n",
       ".suggestion-name {\n",
       "    font-weight: bold;\n",
       "}\n",
       "</style><table>\n",
       "    <thead>\n",
       "        <tr>\n",
       "            <th>\n",
       "                E\n",
       "                <sub>\n",
       "                    low\n",
       "                </sub>\n",
       "                 (keV)\n",
       "            </th>\n",
       "            <th>\n",
       "                E\n",
       "                <sub>\n",
       "                    high\n",
       "                </sub>\n",
       "                 (keV)\n",
       "            </th>\n",
       "            <th>\n",
       "                ARF (cm\n",
       "                <sup>\n",
       "                    2\n",
       "                </sup>\n",
       "                )\n",
       "            </th>\n",
       "        </tr>\n",
       "    </thead>\n",
       "    <tbody>\n",
       "        <tr>\n",
       "            <td>\n",
       "                0.3\n",
       "            </td>\n",
       "            <td>\n",
       "                0.31\n",
       "            </td>\n",
       "            <td>\n",
       "                4.874343\n",
       "            </td>\n",
       "        </tr>\n",
       "        <tr>\n",
       "            <td>\n",
       "                …\n",
       "            </td>\n",
       "            <td>\n",
       "                …\n",
       "            </td>\n",
       "            <td>\n",
       "                …\n",
       "            </td>\n",
       "        </tr>\n",
       "        <tr>\n",
       "            <td>\n",
       "                0.34\n",
       "            </td>\n",
       "            <td>\n",
       "                0.35\n",
       "            </td>\n",
       "            <td>\n",
       "                35.39883\n",
       "            </td>\n",
       "        </tr>\n",
       "    </tbody>\n",
       "</table>\n"
      ],
      "text/plain": [
       "<table>\n",
       "    <thead>\n",
       "        <tr>\n",
       "            <th>\n",
       "                E\n",
       "                <sub>\n",
       "                    low\n",
       "                </sub>\n",
       "                 (keV)\n",
       "            </th>\n",
       "            <th>\n",
       "                E\n",
       "                <sub>\n",
       "                    high\n",
       "                </sub>\n",
       "                 (keV)\n",
       "            </th>\n",
       "            <th>\n",
       "                ARF (cm\n",
       "                <sup>\n",
       "                    2\n",
       "                </sup>\n",
       "                )\n",
       "            </th>\n",
       "        </tr>\n",
       "    </thead>\n",
       "    <tbody>\n",
       "        <tr>\n",
       "            <td>\n",
       "                0.3\n",
       "            </td>\n",
       "            <td>\n",
       "                0.31\n",
       "            </td>\n",
       "            <td>\n",
       "                4.874343\n",
       "            </td>\n",
       "        </tr>\n",
       "        <tr>\n",
       "            <td>\n",
       "                …\n",
       "            </td>\n",
       "            <td>\n",
       "                …\n",
       "            </td>\n",
       "            <td>\n",
       "                …\n",
       "            </td>\n",
       "        </tr>\n",
       "        <tr>\n",
       "            <td>\n",
       "                0.34\n",
       "            </td>\n",
       "            <td>\n",
       "                0.35\n",
       "            </td>\n",
       "            <td>\n",
       "                35.39883\n",
       "            </td>\n",
       "        </tr>\n",
       "    </tbody>\n",
       "</table>"
      ]
     },
     "metadata": {},
     "output_type": "display_data"
    }
   ],
   "source": [
    "arfToHtml (Just 1) (ARF (take 5 rows))"
   ]
  },
  {
   "cell_type": "markdown",
   "metadata": {},
   "source": [
    "With this routine, I can finally create an instance of `IHaskellDisplay` for\n",
    "the `ARF` type, where I choose to use a display of 3 rows:\n"
   ]
  },
  {
   "cell_type": "code",
   "execution_count": 111,
   "metadata": {
    "collapsed": false
   },
   "outputs": [],
   "source": [
    "instance IHaskellDisplay ARF where\n",
    "  display = display . arfToHtml (Just 3)"
   ]
  },
  {
   "cell_type": "markdown",
   "metadata": {},
   "source": [
    "and use this to display the ARF in tabular form:"
   ]
  },
  {
   "cell_type": "code",
   "execution_count": 112,
   "metadata": {
    "collapsed": false
   },
   "outputs": [
    {
     "data": {
      "text/html": [
       "<style>/*\n",
       "Custom IHaskell CSS.\n",
       "*/\n",
       "\n",
       "/* Styles used for the Hoogle display in the pager */\n",
       ".hoogle-doc {\n",
       "    display: block;\n",
       "    padding-bottom: 1.3em;\n",
       "    padding-left: 0.4em;\n",
       "}\n",
       ".hoogle-code {\n",
       "    display: block;\n",
       "    font-family: monospace;\n",
       "    white-space: pre;\n",
       "}\n",
       ".hoogle-text {\n",
       "    display: block;\n",
       "}\n",
       ".hoogle-name {\n",
       "    color: green;\n",
       "    font-weight: bold;\n",
       "}\n",
       ".hoogle-head {\n",
       "    font-weight: bold;\n",
       "}\n",
       ".hoogle-sub {\n",
       "    display: block;\n",
       "    margin-left: 0.4em;\n",
       "}\n",
       ".hoogle-package {\n",
       "    font-weight: bold;\n",
       "    font-style: italic;\n",
       "}\n",
       ".hoogle-module {\n",
       "    font-weight: bold;\n",
       "}\n",
       ".hoogle-class {\n",
       "    font-weight: bold;\n",
       "}\n",
       "\n",
       "/* Styles used for basic displays */\n",
       ".get-type {\n",
       "    color: green;\n",
       "    font-weight: bold;\n",
       "    font-family: monospace;\n",
       "    display: block;\n",
       "    white-space: pre-wrap;\n",
       "}\n",
       "\n",
       ".show-type {\n",
       "    color: green;\n",
       "    font-weight: bold;\n",
       "    font-family: monospace;\n",
       "    margin-left: 1em;\n",
       "}\n",
       "\n",
       ".mono {\n",
       "    font-family: monospace;\n",
       "    display: block;\n",
       "}\n",
       "\n",
       ".err-msg {\n",
       "    color: red;\n",
       "    font-style: italic;\n",
       "    font-family: monospace;\n",
       "    white-space: pre;\n",
       "    display: block;\n",
       "}\n",
       "\n",
       "#unshowable {\n",
       "    color: red;\n",
       "    font-weight: bold;\n",
       "}\n",
       "\n",
       ".err-msg.in.collapse {\n",
       "  padding-top: 0.7em;\n",
       "}\n",
       "\n",
       "/* Code that will get highlighted before it is highlighted */\n",
       ".highlight-code {\n",
       "    white-space: pre;\n",
       "    font-family: monospace;\n",
       "}\n",
       "\n",
       "/* Hlint styles */\n",
       ".suggestion-warning { \n",
       "    font-weight: bold;\n",
       "    color: rgb(200, 130, 0);\n",
       "}\n",
       ".suggestion-error { \n",
       "    font-weight: bold;\n",
       "    color: red;\n",
       "}\n",
       ".suggestion-name {\n",
       "    font-weight: bold;\n",
       "}\n",
       "</style><table>\n",
       "    <thead>\n",
       "        <tr>\n",
       "            <th>\n",
       "                E\n",
       "                <sub>\n",
       "                    low\n",
       "                </sub>\n",
       "                 (keV)\n",
       "            </th>\n",
       "            <th>\n",
       "                E\n",
       "                <sub>\n",
       "                    high\n",
       "                </sub>\n",
       "                 (keV)\n",
       "            </th>\n",
       "            <th>\n",
       "                ARF (cm\n",
       "                <sup>\n",
       "                    2\n",
       "                </sup>\n",
       "                )\n",
       "            </th>\n",
       "        </tr>\n",
       "    </thead>\n",
       "    <tbody>\n",
       "        <tr>\n",
       "            <td>\n",
       "                0.3\n",
       "            </td>\n",
       "            <td>\n",
       "                0.31\n",
       "            </td>\n",
       "            <td>\n",
       "                4.874343\n",
       "            </td>\n",
       "        </tr>\n",
       "        <tr>\n",
       "            <td>\n",
       "                0.31\n",
       "            </td>\n",
       "            <td>\n",
       "                0.32\n",
       "            </td>\n",
       "            <td>\n",
       "                14.829262\n",
       "            </td>\n",
       "        </tr>\n",
       "        <tr>\n",
       "            <td>\n",
       "                0.32\n",
       "            </td>\n",
       "            <td>\n",
       "                0.33\n",
       "            </td>\n",
       "            <td>\n",
       "                21.302292\n",
       "            </td>\n",
       "        </tr>\n",
       "        <tr>\n",
       "            <td>\n",
       "                …\n",
       "            </td>\n",
       "            <td>\n",
       "                …\n",
       "            </td>\n",
       "            <td>\n",
       "                …\n",
       "            </td>\n",
       "        </tr>\n",
       "        <tr>\n",
       "            <td>\n",
       "                10.97\n",
       "            </td>\n",
       "            <td>\n",
       "                10.98\n",
       "            </td>\n",
       "            <td>\n",
       "                0.6049552\n",
       "            </td>\n",
       "        </tr>\n",
       "        <tr>\n",
       "            <td>\n",
       "                10.98\n",
       "            </td>\n",
       "            <td>\n",
       "                10.99\n",
       "            </td>\n",
       "            <td>\n",
       "                0.5852773\n",
       "            </td>\n",
       "        </tr>\n",
       "        <tr>\n",
       "            <td>\n",
       "                10.99\n",
       "            </td>\n",
       "            <td>\n",
       "                11.0\n",
       "            </td>\n",
       "            <td>\n",
       "                0.5657126\n",
       "            </td>\n",
       "        </tr>\n",
       "    </tbody>\n",
       "</table>\n"
      ],
      "text/plain": [
       "<table>\n",
       "    <thead>\n",
       "        <tr>\n",
       "            <th>\n",
       "                E\n",
       "                <sub>\n",
       "                    low\n",
       "                </sub>\n",
       "                 (keV)\n",
       "            </th>\n",
       "            <th>\n",
       "                E\n",
       "                <sub>\n",
       "                    high\n",
       "                </sub>\n",
       "                 (keV)\n",
       "            </th>\n",
       "            <th>\n",
       "                ARF (cm\n",
       "                <sup>\n",
       "                    2\n",
       "                </sup>\n",
       "                )\n",
       "            </th>\n",
       "        </tr>\n",
       "    </thead>\n",
       "    <tbody>\n",
       "        <tr>\n",
       "            <td>\n",
       "                0.3\n",
       "            </td>\n",
       "            <td>\n",
       "                0.31\n",
       "            </td>\n",
       "            <td>\n",
       "                4.874343\n",
       "            </td>\n",
       "        </tr>\n",
       "        <tr>\n",
       "            <td>\n",
       "                0.31\n",
       "            </td>\n",
       "            <td>\n",
       "                0.32\n",
       "            </td>\n",
       "            <td>\n",
       "                14.829262\n",
       "            </td>\n",
       "        </tr>\n",
       "        <tr>\n",
       "            <td>\n",
       "                0.32\n",
       "            </td>\n",
       "            <td>\n",
       "                0.33\n",
       "            </td>\n",
       "            <td>\n",
       "                21.302292\n",
       "            </td>\n",
       "        </tr>\n",
       "        <tr>\n",
       "            <td>\n",
       "                …\n",
       "            </td>\n",
       "            <td>\n",
       "                …\n",
       "            </td>\n",
       "            <td>\n",
       "                …\n",
       "            </td>\n",
       "        </tr>\n",
       "        <tr>\n",
       "            <td>\n",
       "                10.97\n",
       "            </td>\n",
       "            <td>\n",
       "                10.98\n",
       "            </td>\n",
       "            <td>\n",
       "                0.6049552\n",
       "            </td>\n",
       "        </tr>\n",
       "        <tr>\n",
       "            <td>\n",
       "                10.98\n",
       "            </td>\n",
       "            <td>\n",
       "                10.99\n",
       "            </td>\n",
       "            <td>\n",
       "                0.5852773\n",
       "            </td>\n",
       "        </tr>\n",
       "        <tr>\n",
       "            <td>\n",
       "                10.99\n",
       "            </td>\n",
       "            <td>\n",
       "                11.0\n",
       "            </td>\n",
       "            <td>\n",
       "                0.5657126\n",
       "            </td>\n",
       "        </tr>\n",
       "    </tbody>\n",
       "</table>"
      ]
     },
     "metadata": {},
     "output_type": "display_data"
    }
   ],
   "source": [
    "ARF rows"
   ]
  },
  {
   "cell_type": "markdown",
   "metadata": {},
   "source": [
    "This could be extended to include metadata about the ARF, but that would require extracting\n",
    "the relevant information from the header (i.e. parsing the value strings to separate out the data from\n",
    "the comment string), and enhancing the `ARF` data type to store this information. Perhaps next time..."
   ]
  },
  {
   "cell_type": "markdown",
   "metadata": {},
   "source": [
    "## The end"
   ]
  },
  {
   "cell_type": "markdown",
   "metadata": {},
   "source": [
    "There you go; I hope you enjoyed it. If you have any questions, then please use the\n",
    "[GitHub issues page](https://github.com/DougBurke/astro-haskell/issues) or\n",
    "contact me on Twitter at\n",
    "<https://twitter.com/doug_burke>."
   ]
  }
 ],
 "metadata": {
  "kernelspec": {
   "display_name": "Haskell",
   "language": "haskell",
   "name": "haskell"
  },
  "language_info": {
   "name": "haskell",
   "version": "7.8.4"
  }
 },
 "nbformat": 4,
 "nbformat_minor": 0
}
