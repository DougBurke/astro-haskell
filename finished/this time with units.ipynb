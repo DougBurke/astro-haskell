{
 "metadata": {
  "language": "haskell",
  "name": "",
  "signature": "sha256:ff71d4f4065db5d6723c28265c5276ab0d20e81609c11492784f419230e78068"
 },
 "nbformat": 3,
 "nbformat_minor": 0,
 "worksheets": [
  {
   "cells": [
    {
     "cell_type": "markdown",
     "metadata": {
      "hidden": false
     },
     "source": [
      "The information presented here is placed in the public domain, and was written by\n",
      "[Doug Burke](https://plus.google.com/+DougBurke). The \n",
      "[notebook](https://github.com/DougBurke/astro-haskell/blob/master/notebooks/this%20time%20with%20units.ipynb)\n",
      "used to create this page is available, and questions can be\n",
      "asked using the\n",
      "[GitHub issues page](https://github.com/DougBurke/astro-haskell/issues)\n",
      "or via Twitter: <https://twitter.com/doug_burke>.\n",
      "\n",
      "It will probably make a lot-more sense if you have already read the\n",
      "[previous entry](http://htmlpreview.github.io/?https://raw.githubusercontent.com/DougBurke/astro-haskell/master/html/angular%20diameter%20distance.html)\n",
      "in this poorly-defined series (if you can call two notebooks a series)."
     ]
    },
    {
     "cell_type": "heading",
     "level": 1,
     "metadata": {
      "hidden": false
     },
     "source": [
      "What am I up to now?"
     ]
    },
    {
     "cell_type": "markdown",
     "metadata": {
      "hidden": false
     },
     "source": [
      "The whole point of the first notebook was to try out the cool-looking\n",
      "[units package](https://hackage.haskell.org/package/units), motivated by\n",
      "the paper\n",
      "[\"Experience Report: Type-checking Polymorphic Units for Astrophysics Research in Haskell\"](http://www.cis.upenn.edu/~eir/papers/2014/units/units.pdf)\n",
      "by Takayuki Muranushi and Richard A. Eisenberg (Haskell Symposium 2014, Gothenburg, Sweden).\n",
      "However, I couldn't install the package on the system-installed version\n",
      "of [`ghc`](https://www.haskell.org/ghc/) on my laptop, so in the interest of people who may be trying to follow\n",
      "along at home, I stuck with version 7.6.3 of `ghc` and used the\n",
      "[dimensional-tf package](https://hackahe.haskell.org/package/dimensional-tf)\n",
      "instead. As I do have newer versions of `ghc` on this laptop, I can also try out\n",
      "`units` at the possible expense of making it harder for people to replicate the notebook:\n",
      "\n",
      "  - switch to version 7.8.4 of `ghc`\n",
      "  \n",
      "  - in a new directory, create a new cabal sandbox; e.g.\n",
      "  \n",
      "        % cabal sandbox init\n",
      "        % cabal install ihaskell units-defs integration --dry-run\n",
      "        % cabal install ihaskell units-defs integration\n",
      "        ...\n",
      "        \n",
      "  - remove the existing ihaskell configuration directories\n",
      "  \n",
      "        % rm -rf ~/.ihaskell\n",
      "        % rm -rf ~/.ipython/profile_haskell\n",
      "        \n",
      "    I did this because without it the IHaskell kernel would fail with\n",
      "    the message\n",
      "    \n",
      "        IHaskell: Bad interface file: /home/dburke/local/ghc-7.8.4/lib/ghc-7.8.4/base-4.7.0.2/Prelude.hi\n",
      "            mismatched interface file versions (wanted \"7063\", got \"7084\")\n",
      "\n",
      "  - start the IHaskell notebook with\n",
      "  \n",
      "        % mkdir notebooks\n",
      "        % cabal exec IHaskell -- notebook --serve=notebooks/"
     ]
    },
    {
     "cell_type": "heading",
     "level": 2,
     "metadata": {
      "hidden": false
     },
     "source": [
      "Last time the notebook was run"
     ]
    },
    {
     "cell_type": "code",
     "collapsed": false,
     "input": [
      "import Data.Time\n",
      "getCurrentTime"
     ],
     "language": "python",
     "metadata": {},
     "outputs": [
      {
       "metadata": {},
       "output_type": "display_data",
       "text": [
        "2015-03-04 00:56:25.676914 UTC"
       ]
      }
     ],
     "prompt_number": 1
    },
    {
     "cell_type": "heading",
     "level": 2,
     "metadata": {
      "hidden": false
     },
     "source": [
      "Load the modules"
     ]
    },
    {
     "cell_type": "markdown",
     "metadata": {
      "hidden": false
     },
     "source": [
      "I need to turn on a few \n",
      "[GHC extensions](https://downloads.haskell.org/~ghc/latest/docs/html/users_guide/ghc-language-features.html)\n",
      "to use the `units` code:"
     ]
    },
    {
     "cell_type": "code",
     "collapsed": false,
     "input": [
      "-- TypeFamilies is needed when defining Unit instances\n",
      ":set -XTypeFamilies\n",
      "\n",
      "-- TypeOperators is needed for defining the EnergyFlux type\n",
      ":set -XTypeOperators\n",
      "\n",
      "-- DataKinds is needed for defining AngleDim and Radians\n",
      ":set -XDataKinds"
     ],
     "language": "python",
     "metadata": {},
     "outputs": [],
     "prompt_number": 2
    },
    {
     "cell_type": "markdown",
     "metadata": {
      "hidden": false
     },
     "source": [
      "Unlike \n",
      "[last time](http://htmlpreview.github.io/?https://raw.githubusercontent.com/DougBurke/astro-haskell/master/html/angular%20diameter%20distance.html),\n",
      "I'm not going to create any plots, so I don't need the Chart modules.\n",
      "\n",
      "I do want the integration routine, and I also have to load in the relevant\n",
      "modules from \n",
      "[units](https://hackage.haskell.org/package/units)\n",
      "and\n",
      "[units-defs](https://hackage.haskell.org/package/units-defs),\n",
      "which provides the definitions of the SI units I need."
     ]
    },
    {
     "cell_type": "code",
     "collapsed": false,
     "input": [
      "-- Numerics\n",
      "import Numeric.Integration.TanhSinh"
     ],
     "language": "python",
     "metadata": {},
     "outputs": [],
     "prompt_number": 3
    },
    {
     "cell_type": "code",
     "collapsed": false,
     "input": [
      "-- Units\n",
      "import Data.Metrology\n",
      "import Data.Metrology.SI\n",
      "import Data.Metrology.Show"
     ],
     "language": "python",
     "metadata": {},
     "outputs": [],
     "prompt_number": 4
    },
    {
     "cell_type": "markdown",
     "metadata": {
      "hidden": false
     },
     "source": [
      "The `units` package provides two \"forms\" of the API: a general version (the\n",
      "`Data.Metrology.Poly`/`Data.Metrology.SI.Poly` modules), which provides more\n",
      "control, and a \"simpler\" version, which I use here. The difference is not\n",
      "in the function names, but in their types, with the polymorphic version being\n",
      "more general than the simpler, monomorphic, version. The code below would be\n",
      "unchanged if I used the `.Poly` versions of the modules, I just would have to\n",
      "supply more complex types (or at least, that's what I believe; I haven't\n",
      "actually tried it ;-)."
     ]
    },
    {
     "cell_type": "heading",
     "level": 2,
     "metadata": {
      "hidden": false
     },
     "source": [
      "Using the units module"
     ]
    },
    {
     "cell_type": "markdown",
     "metadata": {
      "hidden": false
     },
     "source": [
      "As with `dimensional-tf`, there's a way to convert a number into a type with units. In this case\n",
      "it is `%`, but the values to the right are now Haskell types, rather than values as they are\n",
      "in `dimensional-tf`, which means that\n",
      "they are handled in a different manner. The `units` package provides syntax for \"combining\" units;\n",
      "here `:/` is used to indicate division, but there's also `:*` for multiplication, `:^` for raising\n",
      "to a power, and `:@` for combining terms (there's examples of most, if not all, of these later\n",
      "on in the notebook).\n",
      "\n",
      "I start by defining the speed of light, which can be done by sepcifying the numeric value\n",
      "and then the units, separated by the `%` operator. This is similar to the `*~` operator\n",
      "of `dimensional-tf`, except that the units are defined by types rather than values (Haskell\n",
      "starts type names with a capital letter). As we shall see, there's not much difference \n",
      "between these two approaches *for the code I write here*, but that's not really a fair comparison\n",
      "as you don't get to see all the mis-steps I made along the way, and this is not a complex\n",
      "piece of code that needs much maintenance or extension."
     ]
    },
    {
     "cell_type": "code",
     "collapsed": false,
     "input": [
      "c = 299792458.0 % (Meter :/ Second)\n",
      ":type c"
     ],
     "language": "python",
     "metadata": {},
     "outputs": [
      {
       "html": [
        "<span class='get-type'>c :: forall n. Fractional n => Qu '['F Length One, 'F Time ('P 'Zero)] 'DefaultLCSU n</span>"
       ],
       "metadata": {},
       "output_type": "display_data",
       "text": [
        "c :: forall n. Fractional n => Qu '['F Length One, 'F Time ('P 'Zero)] 'DefaultLCSU n"
       ]
      }
     ],
     "prompt_number": 5
    },
    {
     "cell_type": "markdown",
     "metadata": {
      "hidden": false
     },
     "source": [
      "The inferred type for this value is as equally baroque (for the non-Haskeller) as the `dimensional-tf` version, which for reference\n",
      "was\n",
      "\n",
      "    c = 299792458.0 P.*~ (P.meter P./ P.second)\n",
      "    :type c\n",
      "    c :: forall a. Fractional a => Quantity (Dim (S Z) Z (N (S Z)) Z Z Z Z) a\n",
      "    \n",
      "In this case the first argument to `Qu`, which is the term within ``[ ... ]`, indicates the dimensions - so here length of 1 and time of -1 ([Peano numbers](https://wiki.haskell.org/Peano_numbers) again being used to indicate values in the type, with aliases for common numbers, such as `One`), with the second term being a mysterious `DefaultLCSU` value (which I am going to ignore, since I can get away with writing this notebook\n",
      "without having to use it, as it only really comes into play when using the polymorphic version), and the third is the type of the numeric value.\n",
      "\n",
      "As with `dimensional-tf`, there are more-readable types which can be specified. In this case `Velocity`, which is defined\n",
      "as `Length :/ Time`:"
     ]
    },
    {
     "cell_type": "code",
     "collapsed": false,
     "input": [
      "c :: Velocity\n",
      "c = 299792458.0 % (Meter :/ Second)\n",
      "\n",
      ":type c"
     ],
     "language": "python",
     "metadata": {},
     "outputs": [
      {
       "html": [
        "<span class='get-type'>c :: Velocity</span>"
       ],
       "metadata": {},
       "output_type": "display_data",
       "text": [
        "c :: Velocity"
       ]
      }
     ],
     "prompt_number": 6
    },
    {
     "cell_type": "markdown",
     "metadata": {
      "hidden": false
     },
     "source": [
      "While `%` promotes a number into a unit, `#` extracts a value from a value in the specified units. These are similar in spirit to the `*~` and `/~` operators of `dimensional-tf`, but they have rather eye-glazing types:"
     ]
    },
    {
     "cell_type": "code",
     "collapsed": false,
     "input": [
      ":type (%)\n",
      ":type (#)"
     ],
     "language": "python",
     "metadata": {},
     "outputs": [
      {
       "html": [
        "<span class='get-type'>(%) :: forall n unit.\n",
        "(Subset (CanonicalUnitsOfFactors (UnitFactorsOf unit)) (CanonicalUnitsOfFactors (LookupList (DimFactorsOf (DimOfUnit unit)) 'DefaultLCSU)),\n",
        " Subset (CanonicalUnitsOfFactors (LookupList (DimFactorsOf (DimOfUnit unit)) 'DefaultLCSU)) (CanonicalUnitsOfFactors (UnitFactorsOf unit)), Unit unit,\n",
        " UnitFactor (LookupList (DimFactorsOf (DimOfUnit unit)) 'DefaultLCSU), Fractional n) =>\n",
        "n -> unit -> Qu (DimFactorsOf (DimOfUnit unit)) 'DefaultLCSU n</span>"
       ],
       "metadata": {},
       "output_type": "display_data",
       "text": [
        "(%) :: forall n unit.\n",
        "(Subset (CanonicalUnitsOfFactors (UnitFactorsOf unit)) (CanonicalUnitsOfFactors (LookupList (DimFactorsOf (DimOfUnit unit)) 'DefaultLCSU)),\n",
        " Subset (CanonicalUnitsOfFactors (LookupList (DimFactorsOf (DimOfUnit unit)) 'DefaultLCSU)) (CanonicalUnitsOfFactors (UnitFactorsOf unit)), Unit unit,\n",
        " UnitFactor (LookupList (DimFactorsOf (DimOfUnit unit)) 'DefaultLCSU), Fractional n) =>\n",
        "n -> unit -> Qu (DimFactorsOf (DimOfUnit unit)) 'DefaultLCSU n"
       ]
      },
      {
       "html": [
        "<span class='get-type'>(#) :: forall n unit.\n",
        "(Subset (CanonicalUnitsOfFactors (UnitFactorsOf unit)) (CanonicalUnitsOfFactors (LookupList (DimFactorsOf (DimOfUnit unit)) 'DefaultLCSU)),\n",
        " Subset (CanonicalUnitsOfFactors (LookupList (DimFactorsOf (DimOfUnit unit)) 'DefaultLCSU)) (CanonicalUnitsOfFactors (UnitFactorsOf unit)), Unit unit,\n",
        " UnitFactor (LookupList (DimFactorsOf (DimOfUnit unit)) 'DefaultLCSU), Fractional n) =>\n",
        "Qu (DimFactorsOf (DimOfUnit unit)) 'DefaultLCSU n -> unit -> n</span>"
       ],
       "metadata": {},
       "output_type": "display_data",
       "text": [
        "(#) :: forall n unit.\n",
        "(Subset (CanonicalUnitsOfFactors (UnitFactorsOf unit)) (CanonicalUnitsOfFactors (LookupList (DimFactorsOf (DimOfUnit unit)) 'DefaultLCSU)),\n",
        " Subset (CanonicalUnitsOfFactors (LookupList (DimFactorsOf (DimOfUnit unit)) 'DefaultLCSU)) (CanonicalUnitsOfFactors (UnitFactorsOf unit)), Unit unit,\n",
        " UnitFactor (LookupList (DimFactorsOf (DimOfUnit unit)) 'DefaultLCSU), Fractional n) =>\n",
        "Qu (DimFactorsOf (DimOfUnit unit)) 'DefaultLCSU n -> unit -> n"
       ]
      }
     ],
     "prompt_number": 7
    },
    {
     "cell_type": "markdown",
     "metadata": {
      "hidden": false
     },
     "source": [
      "To combine values, you have to use the operators provided by the module; these use a naming scheme where\n",
      "'|' appears to the side that a quantity is. This means that to multiply `c` by `0.99` you could say either of"
     ]
    },
    {
     "cell_type": "code",
     "collapsed": false,
     "input": [
      "0.99 *| c\n",
      "c |* 0.99"
     ],
     "language": "python",
     "metadata": {},
     "outputs": [
      {
       "metadata": {},
       "output_type": "display_data",
       "text": [
        "2.9679453342e8 m/s"
       ]
      },
      {
       "metadata": {},
       "output_type": "display_data",
       "text": [
        "2.9679453342e8 m/s"
       ]
      }
     ],
     "prompt_number": 8
    },
    {
     "cell_type": "markdown",
     "metadata": {
      "hidden": false
     },
     "source": [
      "To multiply two values together you use `|*|`, which also keeps track of the combined units:"
     ]
    },
    {
     "cell_type": "code",
     "collapsed": false,
     "input": [
      "c |*| c"
     ],
     "language": "python",
     "metadata": {},
     "outputs": [
      {
       "metadata": {},
       "output_type": "display_data",
       "text": [
        "8.987551787368176e16 m^2/s^2"
       ]
      }
     ],
     "prompt_number": 9
    },
    {
     "cell_type": "markdown",
     "metadata": {
      "hidden": false
     },
     "source": [
      "or add together values with consistent units, which also shows how compound units such as `cm` or `kg` are formed\n",
      "using the `:@` operator to combine the types:"
     ]
    },
    {
     "cell_type": "code",
     "collapsed": false,
     "input": [
      "(4 % Meter) |+| (3 % (Centi :@ Meter))"
     ],
     "language": "python",
     "metadata": {},
     "outputs": [
      {
       "metadata": {},
       "output_type": "display_data",
       "text": [
        "4.03 m"
       ]
      }
     ],
     "prompt_number": 10
    },
    {
     "cell_type": "markdown",
     "metadata": {
      "hidden": false
     },
     "source": [
      "I used brackets to make it clearer what terms were related, but fortunately the precedence of the various operators means\n",
      "that you can often get away without using them. In this particular case no brackets are needed since:"
     ]
    },
    {
     "cell_type": "code",
     "collapsed": false,
     "input": [
      "4 % Meter |+| 3 % Centi :@ Meter"
     ],
     "language": "python",
     "metadata": {},
     "outputs": [
      {
       "metadata": {},
       "output_type": "display_data",
       "text": [
        "4.03 m"
       ]
      }
     ],
     "prompt_number": 11
    },
    {
     "cell_type": "markdown",
     "metadata": {
      "hidden": false
     },
     "source": [
      "As you'd hope, you get errors when trying to combine values with incompatible units, as shown in the next set of examples:"
     ]
    },
    {
     "cell_type": "code",
     "collapsed": false,
     "input": [
      "4 % Meter |+| 0.03"
     ],
     "language": "python",
     "metadata": {},
     "outputs": [
      {
       "html": [
        "<span class='err-msg'>Couldn't match type \u2018'F Data.Dimensions.SI.Length One : Normalize '[]\u2019 with \u2018'[]\u2019<br/>In the expression: 4 % Meter |+| 0.03<br/>In an equation for \u2018it\u2019: it = 4 % Meter |+| 0.03</span>"
       ],
       "metadata": {},
       "output_type": "display_data",
       "text": [
        "Couldn't match type \u2018'F Data.Dimensions.SI.Length One : Normalize '[]\u2019 with \u2018'[]\u2019\n",
        "In the expression: 4 % Meter |+| 0.03\n",
        "In an equation for \u2018it\u2019: it = 4 % Meter |+| 0.03"
       ]
      }
     ],
     "prompt_number": 12
    },
    {
     "cell_type": "code",
     "collapsed": false,
     "input": [
      "0.99 * c"
     ],
     "language": "python",
     "metadata": {},
     "outputs": [
      {
       "html": [
        "<span class='err-msg'>Couldn't match type \u2018'F Data.Dimensions.SI.Length One : Normalize '['F Data.Dimensions.SI.Time ('P 'Zero)]\u2019 with \u2018'[]\u2019<br/>In the expression: 0.99 * c<br/>In an equation for \u2018it\u2019: it = 0.99 * c</span>"
       ],
       "metadata": {},
       "output_type": "display_data",
       "text": [
        "Couldn't match type \u2018'F Data.Dimensions.SI.Length One : Normalize '['F Data.Dimensions.SI.Time ('P 'Zero)]\u2019 with \u2018'[]\u2019\n",
        "In the expression: 0.99 * c\n",
        "In an equation for \u2018it\u2019: it = 0.99 * c"
       ]
      }
     ],
     "prompt_number": 13
    },
    {
     "cell_type": "code",
     "collapsed": false,
     "input": [
      "1 % Meter |+| 1 % Second"
     ],
     "language": "python",
     "metadata": {},
     "outputs": [
      {
       "html": [
        "<span class='err-msg'>Couldn't match type \u2018'F Data.Dimensions.SI.Length One : Normalize '['F Data.Dimensions.SI.Time ('P 'Zero)]\u2019 with \u2018'[]\u2019<br/>In the expression: 1 % Meter |+| 1 % Second<br/>In an equation for \u2018it\u2019: it = 1 % Meter |+| 1 % Second</span>"
       ],
       "metadata": {},
       "output_type": "display_data",
       "text": [
        "Couldn't match type \u2018'F Data.Dimensions.SI.Length One : Normalize '['F Data.Dimensions.SI.Time ('P 'Zero)]\u2019 with \u2018'[]\u2019\n",
        "In the expression: 1 % Meter |+| 1 % Second\n",
        "In an equation for \u2018it\u2019: it = 1 % Meter |+| 1 % Second"
       ]
      }
     ],
     "prompt_number": 14
    },
    {
     "cell_type": "markdown",
     "metadata": {
      "hidden": false
     },
     "source": [
      "If you use the normal mathematical operators then you also get errors, even if the units match:"
     ]
    },
    {
     "cell_type": "code",
     "collapsed": false,
     "input": [
      "(1 % Meter) + (1 % Meter)"
     ],
     "language": "python",
     "metadata": {},
     "outputs": [
      {
       "html": [
        "<span class='err-msg'>Couldn't match type \u2018'[]\u2019 with \u2018'['F Data.Dimensions.SI.Length One]\u2019<br/>In the first argument of \u2018(+)\u2019, namely \u2018(1 % Meter)\u2019<br/>In the expression: (1 % Meter) + (1 % Meter)<br/>In an equation for \u2018it\u2019: it = (1 % Meter) + (1 % Meter)<br/><br/>Couldn't match type \u2018'[]\u2019 with \u2018'['F Data.Dimensions.SI.Length One]\u2019<br/>In the second argument of \u2018(+)\u2019, namely \u2018(1 % Meter)\u2019<br/>In the expression: (1 % Meter) + (1 % Meter)<br/>In an equation for \u2018it\u2019: it = (1 % Meter) + (1 % Meter)</span>"
       ],
       "metadata": {},
       "output_type": "display_data",
       "text": [
        "Couldn't match type \u2018'[]\u2019 with \u2018'['F Data.Dimensions.SI.Length One]\u2019\n",
        "In the first argument of \u2018(+)\u2019, namely \u2018(1 % Meter)\u2019\n",
        "In the expression: (1 % Meter) + (1 % Meter)\n",
        "In an equation for \u2018it\u2019: it = (1 % Meter) + (1 % Meter)\n",
        "\n",
        "Couldn't match type \u2018'[]\u2019 with \u2018'['F Data.Dimensions.SI.Length One]\u2019\n",
        "In the second argument of \u2018(+)\u2019, namely \u2018(1 % Meter)\u2019\n",
        "In the expression: (1 % Meter) + (1 % Meter)\n",
        "In an equation for \u2018it\u2019: it = (1 % Meter) + (1 % Meter)"
       ]
      }
     ],
     "prompt_number": 15
    },
    {
     "cell_type": "markdown",
     "metadata": {
      "hidden": false
     },
     "source": [
      "Putting this together, I can calculate the value of $\\frac{1}{2} m v^2$ for $m = 1~{\\rm kg}$ and $v=c$:"
     ]
    },
    {
     "cell_type": "code",
     "collapsed": false,
     "input": [
      "answer = 0.5 *| (1 % Kilo :@ Gram) |*| c |*| c\n",
      ":type answer\n",
      "answer"
     ],
     "language": "python",
     "metadata": {},
     "outputs": [
      {
       "html": [
        "<span class='get-type'>answer :: Qu '['F Mass One, 'F Length ('S ('S 'Zero)), 'F Time ('P ('P 'Zero))] 'DefaultLCSU Double</span>"
       ],
       "metadata": {},
       "output_type": "display_data",
       "text": [
        "answer :: Qu '['F Mass One, 'F Length ('S ('S 'Zero)), 'F Time ('P ('P 'Zero))] 'DefaultLCSU Double"
       ]
      },
      {
       "metadata": {},
       "output_type": "display_data",
       "text": [
        "4.493775893684088e16 (kg * m^2)/s^2"
       ]
      }
     ],
     "prompt_number": 16
    },
    {
     "cell_type": "markdown",
     "metadata": {
      "hidden": false
     },
     "source": [
      "This can be given an explicit type, rather than letting the compiler infer one:"
     ]
    },
    {
     "cell_type": "code",
     "collapsed": false,
     "input": [
      "answer2 :: Energy\n",
      "answer2 = answer\n",
      "answer2"
     ],
     "language": "python",
     "metadata": {},
     "outputs": [
      {
       "metadata": {},
       "output_type": "display_data",
       "text": [
        "4.493775893684088e16 (kg * m^2)/s^2"
       ]
      }
     ],
     "prompt_number": 17
    },
    {
     "cell_type": "markdown",
     "metadata": {
      "hidden": false
     },
     "source": [
      "Using an explicit type catches dimensional errors in your formula, but you may have to use the\n",
      "`redim` function - as shown below - to \n",
      "ensure that the types can be compared: `redim` has a compile-time cost, when it forces the\n",
      "units to be compared, but there is *no* run-time cost to using it. It is needed because the type\n",
      "system can't easily match up units where only the order of the dimensions differs."
     ]
    },
    {
     "cell_type": "code",
     "collapsed": false,
     "input": [
      "-- This is going to fail because I have missed out multiplying by a velocity,\n",
      "-- so the units of the calculation are just MASS * LENGTH / TIME, which\n",
      "-- does not match energy. If redim is not included then you get, for this\n",
      "-- case, a more-verbose error, but there is the possibility in this case that\n",
      "-- it's just a limitation of the type system rather than an actual units\n",
      "-- mis-match.\n",
      "answer3 :: Energy\n",
      "answer3 = redim (0.5 *| (1 % Gram) |*| c)"
     ],
     "language": "python",
     "metadata": {},
     "outputs": [
      {
       "html": [
        "<span class='err-msg'>Couldn't match type \u2018'F Data.Dimensions.SI.Length ('P 'Zero) : Normalize '['F Data.Dimensions.SI.Time ('S 'Zero)]\u2019 with \u2018'[]\u2019<br/>In the expression: redim (0.5 *| (1 % Gram) |*| c)<br/>In an equation for \u2018answer3\u2019: answer3 = redim (0.5 *| (1 % Gram) |*| c)</span>"
       ],
       "metadata": {},
       "output_type": "display_data",
       "text": [
        "Couldn't match type \u2018'F Data.Dimensions.SI.Length ('P 'Zero) : Normalize '['F Data.Dimensions.SI.Time ('S 'Zero)]\u2019 with \u2018'[]\u2019\n",
        "In the expression: redim (0.5 *| (1 % Gram) |*| c)\n",
        "In an equation for \u2018answer3\u2019: answer3 = redim (0.5 *| (1 % Gram) |*| c)"
       ]
      }
     ],
     "prompt_number": 18
    },
    {
     "cell_type": "markdown",
     "metadata": {
      "hidden": false
     },
     "source": [
      "As previoulsy mentioned, `#` is used to extract the value in the given units (so it is similar in\n",
      "spirit to the `/~` operator of `dimensional-tf`). For this case it works whether an explicit type\n",
      "was given (`answer2`) or not (`answer`):"
     ]
    },
    {
     "cell_type": "code",
     "collapsed": false,
     "input": [
      "answer # Joule\n",
      "answer2 # Mega :@ Joule"
     ],
     "language": "python",
     "metadata": {},
     "outputs": [
      {
       "metadata": {},
       "output_type": "display_data",
       "text": [
        "4.493775893684088e16"
       ]
      },
      {
       "metadata": {},
       "output_type": "display_data",
       "text": [
        "4.493775893684088e10"
       ]
      }
     ],
     "prompt_number": 19
    },
    {
     "cell_type": "markdown",
     "metadata": {
      "hidden": false
     },
     "source": [
      "The current version of `units` (well, really, it's `units-defs`) does not contain some of the\n",
      "types I want to use (e.g. Parsec and Astronomical Unit). I can use the existing functionality\n",
      "to allow me to create a scale value such as"
     ]
    },
    {
     "cell_type": "code",
     "collapsed": false,
     "input": [
      "parsec :: Length\n",
      "parsec = 3.085678e16 % Meter"
     ],
     "language": "python",
     "metadata": {},
     "outputs": [],
     "prompt_number": 20
    },
    {
     "cell_type": "markdown",
     "metadata": {
      "hidden": false
     },
     "source": [
      "which I can then use in equations"
     ]
    },
    {
     "cell_type": "code",
     "collapsed": false,
     "input": [
      "3 *| parsec"
     ],
     "language": "python",
     "metadata": {},
     "outputs": [
      {
       "metadata": {},
       "output_type": "display_data",
       "text": [
        "9.257034e16 m"
       ]
      }
     ],
     "prompt_number": 21
    },
    {
     "cell_type": "code",
     "collapsed": false,
     "input": [
      "(3 *| parsec) # Meter"
     ],
     "language": "python",
     "metadata": {},
     "outputs": [
      {
       "metadata": {},
       "output_type": "display_data",
       "text": [
        "9.257034e16"
       ]
      }
     ],
     "prompt_number": 22
    },
    {
     "cell_type": "markdown",
     "metadata": {
      "hidden": false
     },
     "source": [
      "However, it's not a type, so I can not convert a length into parsecs using `#` (well, not\n",
      "without manually converting the answer using the correct scaling factor), as shown below\n",
      "(the error message is so large because I have made a logical mistake here, using the\n",
      "wrong \"thing\" on the right-hand side of the `#` operator, and the type system is therefore\n",
      "really confused):"
     ]
    },
    {
     "cell_type": "code",
     "collapsed": false,
     "input": [
      "(12.3e18 % Meter) # parsec"
     ],
     "language": "python",
     "metadata": {},
     "outputs": [
      {
       "html": [
        "<span class='err-msg'>Couldn't match type \u2018DimFactorsOf (DimOfUnit (Qu '['F Data.Dimensions.SI.Length One] 'DefaultLCSU Double))\u2019 with \u2018'['F Data.Dimensions.SI.Length One]\u2019<br/>In the expression: (12.3e18 % Meter) # parsec<br/>In an equation for \u2018it\u2019: it = (12.3e18 % Meter) # parsec<br/><br/>Could not deduce (Subset (CanonicalUnitsOfFactors (UnitFactorsOf (Qu '['F Data.Dimensions.SI.Length One] 'DefaultLCSU Double))) '[Meter],<br/>                  Elem Meter (CanonicalUnitsOfFactors (UnitFactorsOf (Qu '['F Data.Dimensions.SI.Length One] 'DefaultLCSU Double))))<br/>  arising from a use of \u2018#\u2019<br/>from the context (Fractional n) bound by the inferred type of it :: Fractional n => n at <interactive>:1:1-26<br/>In the expression: (12.3e18 % Meter) # parsec<br/>In an equation for \u2018it\u2019: it = (12.3e18 % Meter) # parsec<br/><br/>Could not deduce (Unit (Qu '['F Data.Dimensions.SI.Length One] 'DefaultLCSU Double)) arising from a use of \u2018#\u2019<br/>from the context (Fractional n) bound by the inferred type of it :: Fractional n => n at <interactive>:1:1-26<br/>In the expression: (12.3e18 % Meter) # parsec<br/>In an equation for \u2018it\u2019: it = (12.3e18 % Meter) # parsec</span>"
       ],
       "metadata": {},
       "output_type": "display_data",
       "text": [
        "Couldn't match type \u2018DimFactorsOf (DimOfUnit (Qu '['F Data.Dimensions.SI.Length One] 'DefaultLCSU Double))\u2019 with \u2018'['F Data.Dimensions.SI.Length One]\u2019\n",
        "In the expression: (12.3e18 % Meter) # parsec\n",
        "In an equation for \u2018it\u2019: it = (12.3e18 % Meter) # parsec\n",
        "\n",
        "Could not deduce (Subset (CanonicalUnitsOfFactors (UnitFactorsOf (Qu '['F Data.Dimensions.SI.Length One] 'DefaultLCSU Double))) '[Meter],\n",
        "                  Elem Meter (CanonicalUnitsOfFactors (UnitFactorsOf (Qu '['F Data.Dimensions.SI.Length One] 'DefaultLCSU Double))))\n",
        "  arising from a use of \u2018#\u2019\n",
        "from the context (Fractional n) bound by the inferred type of it :: Fractional n => n at <interactive>:1:1-26\n",
        "In the expression: (12.3e18 % Meter) # parsec\n",
        "In an equation for \u2018it\u2019: it = (12.3e18 % Meter) # parsec\n",
        "\n",
        "Could not deduce (Unit (Qu '['F Data.Dimensions.SI.Length One] 'DefaultLCSU Double)) arising from a use of \u2018#\u2019\n",
        "from the context (Fractional n) bound by the inferred type of it :: Fractional n => n at <interactive>:1:1-26\n",
        "In the expression: (12.3e18 % Meter) # parsec\n",
        "In an equation for \u2018it\u2019: it = (12.3e18 % Meter) # parsec"
       ]
      }
     ],
     "prompt_number": 23
    },
    {
     "cell_type": "markdown",
     "metadata": {
      "hidden": false
     },
     "source": [
      "It is possible, however, to create a type for parsecs. Following the \n",
      "[units tutorial](https://github.com/goldfirere/units/blob/master/README.md) I came up\n",
      "with the following, which relates `Parsec` to `Meter`."
     ]
    },
    {
     "cell_type": "code",
     "collapsed": false,
     "input": [
      "data Parsec = Parsec\n",
      "\n",
      "instance Unit Parsec where\n",
      "  type BaseUnit Parsec = Meter\n",
      "  \n",
      "  -- Note the _ argument!\n",
      "  conversionRatio _ = 3.085678e16"
     ],
     "language": "python",
     "metadata": {},
     "outputs": [],
     "prompt_number": 24
    },
    {
     "cell_type": "markdown",
     "metadata": {
      "hidden": false
     },
     "source": [
      "The `conversionRatio` function has the following type:"
     ]
    },
    {
     "cell_type": "code",
     "collapsed": false,
     "input": [
      ":type conversionRatio"
     ],
     "language": "python",
     "metadata": {},
     "outputs": [
      {
       "html": [
        "<span class='get-type'>conversionRatio :: forall unit. Unit unit => unit -> Rational</span>"
       ],
       "metadata": {},
       "output_type": "display_data",
       "text": [
        "conversionRatio :: forall unit. Unit unit => unit -> Rational"
       ]
      }
     ],
     "prompt_number": 25
    },
    {
     "cell_type": "markdown",
     "metadata": {
      "hidden": false
     },
     "source": [
      "which says that the first argument must be an instance of the `Unit` type class (which is what the `instance Unit ...` section above does), and returns a `Rational` value (which is a particular\n",
      "[representation of a floating-point number](http://hackage.haskell.org/package/base-4.7.0.2/docs/Prelude.html#t:Rational)).\n",
      "The documentation for `units` makes it clear that the first argument to this function must *never* be used (technically, I believe it's that this value should never be *evaluated*); to do this\n",
      "we use the \"placeholder\" syntax of `_`, which tells Haskell to ignore the argument. For users not used to Haskell, it might\n",
      "seem strange to ignore an argument to a function, or to not \"evaluate\" it. The reason for ignoring this argument is that it's actually the type of the argument that is important, rather than its value. The type tells the compiler which particular\n",
      "version of `conversionRatio` to use (it's a bit like how interfaces in Python or Java are used to select what code to use, but please don't hold strongly to this viewpoint as thinking about objects is likely to keep you confused when reading Haskell), and so it doesn't need to use the actual value. In such situations, it is common for the value to be set to `undefined`, which is a *special* value, in that\n",
      "\n",
      "  - I don't really want to try and explain it here\n",
      "  \n",
      "  - it can be set to any type (i.e. it's polymorphic)\n",
      "  \n",
      "  - evaluating the value is going to cause an error (hence the requirement that user code should never, ever, be used)\n",
      "  \n",
      "Here's an example of such an error, which isn't too informative, and you won't be seeing elsewhere in this notebook:"
     ]
    },
    {
     "cell_type": "code",
     "collapsed": false,
     "input": [
      "undefined"
     ],
     "language": "python",
     "metadata": {},
     "outputs": [
      {
       "html": [
        "<span class='err-msg'>Prelude.undefined</span>"
       ],
       "metadata": {},
       "output_type": "display_data",
       "text": [
        "Prelude.undefined"
       ]
      }
     ],
     "prompt_number": 26
    },
    {
     "cell_type": "markdown",
     "metadata": {
      "hidden": false
     },
     "source": [
      "With all this I can now create a length in parsecs:"
     ]
    },
    {
     "cell_type": "code",
     "collapsed": false,
     "input": [
      "bob = (3::Double) % Parsec"
     ],
     "language": "python",
     "metadata": {},
     "outputs": [],
     "prompt_number": 27
    },
    {
     "cell_type": "markdown",
     "metadata": {
      "hidden": false
     },
     "source": [
      "The type, shown below, indicates that it's a length. I could have said\n",
      "\n",
      "    bob :: Length\n",
      "    bob = (3::Double) % Parsec\n",
      "    \n",
      "which provides more-readable code, and error messages, but is the same as\n",
      "the version without the explicit type. The restriction of 3 to a `Double` type\n",
      "is just to simplify the types a little bit (it removes the\n",
      "`forall n. Fractional a =>` constraint on a type, since `Double` is an\n",
      "instance of the \n",
      "[`Fractional` type class](http://hackage.haskell.org/package/base-4.7.0.2/docs/Prelude.html#t:Fractional))."
     ]
    },
    {
     "cell_type": "code",
     "collapsed": false,
     "input": [
      ":type bob\n",
      ":type (3::Double) % Meter"
     ],
     "language": "python",
     "metadata": {},
     "outputs": [
      {
       "html": [
        "<span class='get-type'>bob :: Qu '['F Length One] 'DefaultLCSU Double</span>"
       ],
       "metadata": {},
       "output_type": "display_data",
       "text": [
        "bob :: Qu '['F Length One] 'DefaultLCSU Double"
       ]
      },
      {
       "html": [
        "<span class='get-type'>(3::Double) % Meter :: Qu '['F Length One] 'DefaultLCSU Double</span>"
       ],
       "metadata": {},
       "output_type": "display_data",
       "text": [
        "(3::Double) % Meter :: Qu '['F Length One] 'DefaultLCSU Double"
       ]
      }
     ],
     "prompt_number": 28
    },
    {
     "cell_type": "markdown",
     "metadata": {
      "hidden": false
     },
     "source": [
      "Its value is reported in metres, since that is the base unit of the Parsec type:"
     ]
    },
    {
     "cell_type": "code",
     "collapsed": false,
     "input": [
      "bob"
     ],
     "language": "python",
     "metadata": {},
     "outputs": [
      {
       "metadata": {},
       "output_type": "display_data",
       "text": [
        "9.257034e16 m"
       ]
      }
     ],
     "prompt_number": 29
    },
    {
     "cell_type": "markdown",
     "metadata": {
      "hidden": false
     },
     "source": [
      "With this type, I can also convert other lengths into parsecs. The two forms below are the same, since `mega` can be considered to be a short form for saying `Mega :@`, and the `()` are not needed, since the `%` operator takes precedence over `#`, but I have left them in to make it clearer what is going on."
     ]
    },
    {
     "cell_type": "code",
     "collapsed": false,
     "input": [
      "(2.2e28 % Meter) # mega Parsec"
     ],
     "language": "python",
     "metadata": {},
     "outputs": [
      {
       "metadata": {},
       "output_type": "display_data",
       "text": [
        "712971.3469778765"
       ]
      }
     ],
     "prompt_number": 30
    },
    {
     "cell_type": "code",
     "collapsed": false,
     "input": [
      "(2.2e28 % Meter) # Mega :@ Parsec"
     ],
     "language": "python",
     "metadata": {},
     "outputs": [
      {
       "metadata": {},
       "output_type": "display_data",
       "text": [
        "712971.3469778765"
       ]
      }
     ],
     "prompt_number": 31
    },
    {
     "cell_type": "markdown",
     "metadata": {
      "hidden": false
     },
     "source": [
      "I can do the same for the Hubble Constant,\n",
      "that is define a type, \n",
      "but it doesn't feel as sensible to me, since we do not really\n",
      "talk about units of `km/s/Mpc` in quite the same way as we do\n",
      "parsecs."
     ]
    },
    {
     "cell_type": "code",
     "collapsed": false,
     "input": [
      "-- Hubble constant in units of km/s/Mpc\n",
      "data HubbleConstant = HubbleConstant\n",
      "\n",
      "instance Unit HubbleConstant where\n",
      "  type BaseUnit HubbleConstant = Hertz\n",
      "  \n",
      "  -- As shown in later examples, this could have used something\n",
      "  -- like (1 % (Kilo @: Meter :/ Mega @: Parsec :/ Second))\n",
      "  -- to calculate the conversion ratio, but I wanted to\n",
      "  -- use an explicit value here:\n",
      "  conversionRatio _ = 1e3 / (1e6 * 3.085678e16)"
     ],
     "language": "python",
     "metadata": {},
     "outputs": [],
     "prompt_number": 32
    },
    {
     "cell_type": "markdown",
     "metadata": {
      "hidden": false
     },
     "source": [
      "With this, I can easily create a value equal to `70 km/sMpc`:"
     ]
    },
    {
     "cell_type": "code",
     "collapsed": false,
     "input": [
      "h70 = 70 % HubbleConstant\n",
      "h70\n",
      ":type h70"
     ],
     "language": "python",
     "metadata": {},
     "outputs": [
      {
       "metadata": {},
       "output_type": "display_data",
       "text": [
        "2.268545194929607e-18 s^-1"
       ]
      },
      {
       "html": [
        "<span class='get-type'>h70 :: forall n. Fractional n => Qu '['F Time ('P 'Zero)] 'DefaultLCSU n</span>"
       ],
       "metadata": {},
       "output_type": "display_data",
       "text": [
        "h70 :: forall n. Fractional n => Qu '['F Time ('P 'Zero)] 'DefaultLCSU n"
       ]
      }
     ],
     "prompt_number": 33
    },
    {
     "cell_type": "markdown",
     "metadata": {
      "hidden": false
     },
     "source": [
      "Alternatively, a value can be created just by specifying the units\n",
      "directly, with the same result (i.e. the type is the same):"
     ]
    },
    {
     "cell_type": "code",
     "collapsed": false,
     "input": [
      "h70 = 70 % (Kilo :@ Meter :/ Second :/ Mega :@ Parsec)\n",
      "h70\n",
      ":type h70"
     ],
     "language": "python",
     "metadata": {},
     "outputs": [
      {
       "metadata": {},
       "output_type": "display_data",
       "text": [
        "2.268545194929607e-18 s^-1"
       ]
      },
      {
       "html": [
        "<span class='get-type'>h70 :: forall n. Fractional n => Qu '['F Time ('P 'Zero)] 'DefaultLCSU n</span>"
       ],
       "metadata": {},
       "output_type": "display_data",
       "text": [
        "h70 :: forall n. Fractional n => Qu '['F Time ('P 'Zero)] 'DefaultLCSU n"
       ]
      }
     ],
     "prompt_number": 34
    },
    {
     "cell_type": "markdown",
     "metadata": {
      "hidden": false
     },
     "source": [
      "One advantage to having the `HubbleConstant` type is that I can convert a\n",
      "frequence into `km/s/Mpc`, as shown below, but I personally don't feel\n",
      "this is particularly compelling:"
     ]
    },
    {
     "cell_type": "code",
     "collapsed": false,
     "input": [
      "(7.2e-19 % Hertz) # HubbleConstant"
     ],
     "language": "python",
     "metadata": {},
     "outputs": [
      {
       "metadata": {},
       "output_type": "display_data",
       "text": [
        "22.2168816"
       ]
      }
     ],
     "prompt_number": 35
    },
    {
     "cell_type": "markdown",
     "metadata": {
      "hidden": false
     },
     "source": [
      "For this notebook, an alternative to creating the `HubbleConstant` unit \n",
      "would be to create a function which adds in the\n",
      "correct units, such as the `hubbleConstant` function below:"
     ]
    },
    {
     "cell_type": "code",
     "collapsed": false,
     "input": [
      "hubbleConstant x = x % (Kilo :@ Meter :/ Second :/ Mega :@ Parsec)\n",
      "hubbleConstant 70\n",
      ":t hubbleConstant"
     ],
     "language": "python",
     "metadata": {},
     "outputs": [
      {
       "metadata": {},
       "output_type": "display_data",
       "text": [
        "2.268545194929607e-18 s^-1"
       ]
      },
      {
       "html": [
        "<span class='get-type'>hubbleConstant :: forall n. Fractional n => n -> Qu '['F Time ('P 'Zero)] 'DefaultLCSU n</span>"
       ],
       "metadata": {},
       "output_type": "display_data",
       "text": [
        "hubbleConstant :: forall n. Fractional n => n -> Qu '['F Time ('P 'Zero)] 'DefaultLCSU n"
       ]
      }
     ],
     "prompt_number": 36
    },
    {
     "cell_type": "markdown",
     "metadata": {
      "hidden": false
     },
     "source": [
      "As mentioned before, it seems to be personal preference for which to prefer (at least for the tasks I perform\n",
      "in this notebook), as the results are the same:"
     ]
    },
    {
     "cell_type": "code",
     "collapsed": false,
     "input": [
      "hubbleConstant 72.4\n",
      "72.4 % HubbleConstant"
     ],
     "language": "python",
     "metadata": {},
     "outputs": [
      {
       "metadata": {},
       "output_type": "display_data",
       "text": [
        "2.3463238873271936e-18 s^-1"
       ]
      },
      {
       "metadata": {},
       "output_type": "display_data",
       "text": [
        "2.3463238873271936e-18 s^-1"
       ]
      }
     ],
     "prompt_number": 37
    },
    {
     "cell_type": "heading",
     "level": 3,
     "metadata": {
      "hidden": false
     },
     "source": [
      "The angular-diameter and luminosity distances"
     ]
    },
    {
     "cell_type": "markdown",
     "metadata": {
      "hidden": false
     },
     "source": [
      "It is now possible to calculate the \n",
      "[angular-diameter](http://en.wikipedia.org/wiki/Angular_diameter_distance)\n",
      "and \n",
      "[luminosity](http://en.wikipedia.org/wiki/Luminosity_distance)\n",
      "distances. As with the `dimensional-tf` versions, \n",
      "I have included explicit types to ensure that the inputs and outputs are as expected, since without the signatures\n",
      "the compiler would infer very-generic types. A complication is in having to remember which variant of the operators\n",
      "should be used (e.g. `*|` or `|*`), but the compiler complains quite loudly if you get it wrong (another reason for\n",
      "having the signatures). As previously mentioned, `redim` is essentially doing book-keeping at compile time; I didn't\n",
      "seem to need to include them here, but as they have no run-time cost it seems a sensible thing to include."
     ]
    },
    {
     "cell_type": "code",
     "collapsed": false,
     "input": [
      "-- angular-diameter and luminosity distances (units of the Hubble length)\n",
      "\n",
      "dcH om z = result (absolute 1.0e-6 (trap f 0 z))\n",
      "  where\n",
      "    -- unlike the previous notebook, I have made f a local definition\n",
      "    -- here, so it does not need to be sent in the om value as\n",
      "    -- it is already in scope\n",
      "    f z = let ol = 1 - om\n",
      "              t = (1 + z)^2 * (1 + om*z) - (2 + z) * ol * z\n",
      "          in 1 / sqrt t\n",
      "         \n",
      "daH om z = dcH om z / (1 + z)\n",
      "           \n",
      "dlH om z = dcH om z * (1 + z)\n",
      "\n",
      "-- now the versions which return values in physical units\n",
      "\n",
      "da :: Double -> Frequency -> Double -> Length \n",
      "da om h0 z = redim (daH om z *| c |/| h0)\n",
      "\n",
      "dl :: Double -> Frequency -> Double -> Length\n",
      "dl om h0 z = redim (dlH om z *| c |/| h0)"
     ],
     "language": "python",
     "metadata": {},
     "outputs": [],
     "prompt_number": 38
    },
    {
     "cell_type": "markdown",
     "metadata": {
      "hidden": false
     },
     "source": [
      "Now it's time to compare the results to those from `dimensional-tf` (I do not expect any significant numerical differences, what I am interested in is how to write and use the values). I use the `hubbleConstant` function here, but the result would have been\n",
      "the same if I had used `70 % HubbleConstant` instead."
     ]
    },
    {
     "cell_type": "code",
     "collapsed": false,
     "input": [
      "da 0.3 (hubbleConstant 70) 2 # Mega :@ Parsec"
     ],
     "language": "python",
     "metadata": {},
     "outputs": [
      {
       "metadata": {},
       "output_type": "display_data",
       "text": [
        "1726.6206914696234"
       ]
      }
     ],
     "prompt_number": 39
    },
    {
     "cell_type": "markdown",
     "metadata": {
      "hidden": false
     },
     "source": [
      "The next step is to calculate the transverse distances, by multiplying the angular-diameter distance `da` by\n",
      "an angle in radians. The `dimensional-tf` package has in-built support for angles, but `units` does not. \n",
      "For this section I treat angles as simple numbers (so do not take advantage of any dimensional support),\n",
      "but do add in a simple type to represent angles, to better document the intent of the routines. I\n",
      "try creating a `Radian` unit at the end of this notebook to compare to this approach.\n",
      "\n",
      "Here I create an `Angle` type which stores a single number as a `Double`, which I am going to\n",
      "assume is in radians. To help enforce this, I also create several helper routines which will create\n",
      "an `Angle` type given several different input values (e.g. a value in degrees or arc seconds). Since this\n",
      "is being done in a single IHaskell notebook it is quite easy to subvert the safety provided by these\n",
      "routines by creating an `Angle` value manually. In \"real\" Haskell code, the `Angle` data type would\n",
      "be defined in a separate module which would only allow you to create values\n",
      "using the routines such as `radian`, rather than exposing the ability to create an `Angle` type directly."
     ]
    },
    {
     "cell_type": "code",
     "collapsed": false,
     "input": [
      "-- The Angle type has a single numeric value, which is taken to be the\n",
      "-- value in radians.\n",
      "\n",
      "data Angle = Angle { toRadians :: Double }\n",
      "  deriving Show\n",
      "  \n",
      "-- Convert a number in radians, degrees, arcminutes, arcseconds to an Angle data type\n",
      "\n",
      "radian :: Double -> Angle\n",
      "radian x = Angle x\n",
      "\n",
      "degree :: Double -> Angle\n",
      "degree x = radian (x * pi / 180)\n",
      "\n",
      "arcmin :: Double -> Angle\n",
      "arcmin x = degree (x / 60)\n",
      "\n",
      "arcsec :: Double -> Angle\n",
      "arcsec x = arcmin (x / 60)"
     ],
     "language": "python",
     "metadata": {},
     "outputs": [],
     "prompt_number": 40
    },
    {
     "cell_type": "markdown",
     "metadata": {
      "hidden": false
     },
     "source": [
      "As a check, here's the output for these routines:"
     ]
    },
    {
     "cell_type": "code",
     "collapsed": false,
     "input": [
      "radian 1\n",
      "degree 1\n",
      "arcmin 1\n",
      "arcsec 1"
     ],
     "language": "python",
     "metadata": {},
     "outputs": [
      {
       "metadata": {},
       "output_type": "display_data",
       "text": [
        "Angle {toRadians = 1.0}"
       ]
      },
      {
       "metadata": {},
       "output_type": "display_data",
       "text": [
        "Angle {toRadians = 1.7453292519943295e-2}"
       ]
      },
      {
       "metadata": {},
       "output_type": "display_data",
       "text": [
        "Angle {toRadians = 2.908882086657216e-4}"
       ]
      },
      {
       "metadata": {},
       "output_type": "display_data",
       "text": [
        "Angle {toRadians = 4.84813681109536e-6}"
       ]
      }
     ],
     "prompt_number": 41
    },
    {
     "cell_type": "markdown",
     "metadata": {
      "hidden": false
     },
     "source": [
      "The value from an `Angle` can be retrieved using the `toRadians` function:"
     ]
    },
    {
     "cell_type": "code",
     "collapsed": false,
     "input": [
      ":type toRadians\n",
      "toRadians (degree 1)"
     ],
     "language": "python",
     "metadata": {},
     "outputs": [
      {
       "html": [
        "<span class='get-type'>toRadians :: Angle -> Double</span>"
       ],
       "metadata": {},
       "output_type": "display_data",
       "text": [
        "toRadians :: Angle -> Double"
       ]
      },
      {
       "metadata": {},
       "output_type": "display_data",
       "text": [
        "1.7453292519943295e-2"
       ]
      }
     ],
     "prompt_number": 42
    },
    {
     "cell_type": "markdown",
     "metadata": {
      "hidden": false
     },
     "source": [
      "With these, the `adist` routine can be written as:"
     ]
    },
    {
     "cell_type": "code",
     "collapsed": false,
     "input": [
      "adist :: Double -> Frequency -> Double -> Angle -> Length\n",
      "adist om h0 z angle = da om h0 z |* toRadians angle"
     ],
     "language": "python",
     "metadata": {},
     "outputs": [],
     "prompt_number": 43
    },
    {
     "cell_type": "markdown",
     "metadata": {
      "hidden": false
     },
     "source": [
      "Since the fourth argument has a type of `Angle`, I can not call it\n",
      "with a number, otherwise the compiler complains:"
     ]
    },
    {
     "cell_type": "code",
     "collapsed": false,
     "input": [
      "adist 0.3 (hubbleConstant 70) 2 1"
     ],
     "language": "python",
     "metadata": {},
     "outputs": [
      {
       "html": [
        "<span class='err-msg'>No instance for (Num Angle) arising from the literal \u20181\u2019<br/>In the fourth argument of \u2018adist\u2019, namely \u20181\u2019<br/>In the expression: adist 0.3 (hubbleConstant 70) 2 1<br/>In an equation for \u2018it\u2019: it = adist 0.3 (hubbleConstant 70) 2 1</span>"
       ],
       "metadata": {},
       "output_type": "display_data",
       "text": [
        "No instance for (Num Angle) arising from the literal \u20181\u2019\n",
        "In the fourth argument of \u2018adist\u2019, namely \u20181\u2019\n",
        "In the expression: adist 0.3 (hubbleConstant 70) 2 1\n",
        "In an equation for \u2018it\u2019: it = adist 0.3 (hubbleConstant 70) 2 1"
       ]
      }
     ],
     "prompt_number": 44
    },
    {
     "cell_type": "markdown",
     "metadata": {
      "hidden": false
     },
     "source": [
      "Supplying an actual `Angle` value allows me to compare to the `dimensional-tf` version; as above,\n",
      "the numeric values are essentially the same"
     ]
    },
    {
     "cell_type": "code",
     "collapsed": false,
     "input": [
      "adist 0.3 (hubbleConstant 70) 2 (arcsec 1) # Kilo :@ Parsec"
     ],
     "language": "python",
     "metadata": {},
     "outputs": [
      {
       "metadata": {},
       "output_type": "display_data",
       "text": [
        "8.370893333112804"
       ]
      }
     ],
     "prompt_number": 45
    },
    {
     "cell_type": "code",
     "collapsed": false,
     "input": [
      "adist 0.3 (hubbleConstant 70) 2 (arcmin 2.4) # Mega :@ Parsec"
     ],
     "language": "python",
     "metadata": {},
     "outputs": [
      {
       "metadata": {},
       "output_type": "display_data",
       "text": [
        "1.205408639968244"
       ]
      }
     ],
     "prompt_number": 46
    },
    {
     "cell_type": "markdown",
     "metadata": {
      "hidden": false
     },
     "source": [
      "And now for the luminosity distance:"
     ]
    },
    {
     "cell_type": "code",
     "collapsed": false,
     "input": [
      "dl 0.3 (hubbleConstant 70) 2"
     ],
     "language": "python",
     "metadata": {},
     "outputs": [
      {
       "metadata": {},
       "output_type": "display_data",
       "text": [
        "4.7950159338113435e26 m"
       ]
      }
     ],
     "prompt_number": 47
    },
    {
     "cell_type": "code",
     "collapsed": false,
     "input": [
      "dl 0.3 (hubbleConstant 70) 2 # Mega :@ Parsec"
     ],
     "language": "python",
     "metadata": {},
     "outputs": [
      {
       "metadata": {},
       "output_type": "display_data",
       "text": [
        "15539.58622322661"
       ]
      }
     ],
     "prompt_number": 48
    },
    {
     "cell_type": "markdown",
     "metadata": {
      "hidden": false
     },
     "source": [
      "Perhaps surprisingly, `units-defs` does not come with a definition of a year, which\n",
      "means that calculating this distance in units of Giga light years is going to require\n",
      "some set up.  Although it is not clear what a good general-purpose definition is, I am going\n",
      "to define one following the IAU recommendation, which also happens to be the\n",
      "version that `dimension-tf` used."
     ]
    },
    {
     "cell_type": "code",
     "collapsed": false,
     "input": [
      "-- Following the dimensional package, define a year as 365.25 days,\n",
      "-- which is an IAU recommendation \n",
      "-- http://www.iau.org/science/publications/proceedings_rules/units/\n",
      "-- and who am I to argue with the demoters of Pluto?\n",
      "--\n",
      "data Year = Year\n",
      "\n",
      "-- I could have made the base unit be second and use\n",
      "-- a conversion ratio of 31557600, but I wanted to see\n",
      "-- how this sort of \"chaining\" of units worked.\n",
      "instance Unit Year where\n",
      "  type BaseUnit Year = Hour\n",
      "  conversionRatio _ = 365.25 * 24\n",
      "\n",
      "-- Light years\n",
      "data LightYear = LightYear\n",
      "\n",
      "instance Unit LightYear where\n",
      "  type BaseUnit LightYear = Meter\n",
      "  \n",
      "  -- How efficient is the following: is the number calculated at compile time\n",
      "  -- or evaluated at each conversion? This approach is in contrast to the\n",
      "  -- Unit instance of HubbleConstant, where I explicitly included\n",
      "  -- the numeric values.\n",
      "  --\n",
      "  -- Without the realToFrac function, the answer would be a Fractional,\n",
      "  -- but conversionRatio returns a Rational, so I have to do an\n",
      "  -- explicit type cast here.\n",
      "  --\n",
      "  conversionRatio _ = realToFrac (c # Meter :/ Year)"
     ],
     "language": "python",
     "metadata": {},
     "outputs": [],
     "prompt_number": 49
    },
    {
     "cell_type": "markdown",
     "metadata": {
      "hidden": false
     },
     "source": [
      "After all that, I can finally calculate the distance in light years:"
     ]
    },
    {
     "cell_type": "code",
     "collapsed": false,
     "input": [
      "dl 0.3 (hubbleConstant 70) 2 # Giga :@ LightYear"
     ],
     "language": "python",
     "metadata": {},
     "outputs": [
      {
       "metadata": {},
       "output_type": "display_data",
       "text": [
        "50.68335841199911"
       ]
      }
     ],
     "prompt_number": 50
    },
    {
     "cell_type": "heading",
     "level": 3,
     "metadata": {
      "hidden": false
     },
     "source": [
      "Calculating luminosities"
     ]
    },
    {
     "cell_type": "markdown",
     "metadata": {
      "hidden": false
     },
     "source": [
      "The next step is to convert from flux to luminosity. This requires a non-SI unit, erg, which\n",
      "is provided by `Data.Units.CGS`:"
     ]
    },
    {
     "cell_type": "code",
     "collapsed": false,
     "input": [
      "import Data.Units.CGS (Erg(..))"
     ],
     "language": "python",
     "metadata": {},
     "outputs": [],
     "prompt_number": 51
    },
    {
     "cell_type": "markdown",
     "metadata": {
      "hidden": false
     },
     "source": [
      "With this I can create energies and convert between Ergs and Joules:"
     ]
    },
    {
     "cell_type": "code",
     "collapsed": false,
     "input": [
      "1 % Erg\n",
      "\n",
      "1 % Joule |/| 1 % Erg"
     ],
     "language": "python",
     "metadata": {},
     "outputs": [
      {
       "metadata": {},
       "output_type": "display_data",
       "text": [
        "1.0e-7 (kg * m^2)/s^2"
       ]
      },
      {
       "metadata": {},
       "output_type": "display_data",
       "text": [
        "1.0e7"
       ]
      }
     ],
     "prompt_number": 52
    },
    {
     "cell_type": "markdown",
     "metadata": {
      "hidden": false
     },
     "source": [
      "To make the type signature cleaner I invent the following type to represent fluxes:"
     ]
    },
    {
     "cell_type": "code",
     "collapsed": false,
     "input": [
      "type EnergyFlux = Power %/ Area"
     ],
     "language": "python",
     "metadata": {},
     "outputs": [],
     "prompt_number": 53
    },
    {
     "cell_type": "markdown",
     "metadata": {
      "hidden": false
     },
     "source": [
      "The luminosity is therefore just (again, ignoring the\n",
      "[K correction](http://en.wikipedia.org/wiki/K_correction) term):"
     ]
    },
    {
     "cell_type": "code",
     "collapsed": false,
     "input": [
      "luminosity :: Double -> Frequency -> Double -> EnergyFlux -> Power\n",
      "luminosity om h0 z flux = redim (flux |*| area)\n",
      "  where\n",
      "    r = dl om h0 z\n",
      "    area = 4 * pi *| r |*| r"
     ],
     "language": "python",
     "metadata": {},
     "outputs": [],
     "prompt_number": 54
    },
    {
     "cell_type": "markdown",
     "metadata": {
      "hidden": false
     },
     "source": [
      "Unfortunately I can't seem to create fluxes on the fly, since this causes\n",
      "type errors because of the order of the units, as shown in the following\n",
      "error message (which turns out to be because of a missing call to `redim`\n",
      "for the flux rather than a problem with the units):"
     ]
    },
    {
     "cell_type": "code",
     "collapsed": false,
     "input": [
      "luminosity 0.3 (hubbleConstant 70) 2 (2e-13 % (Erg :/ Centi :@ Meter :^ sTwo :/ Second))"
     ],
     "language": "python",
     "metadata": {},
     "outputs": [
      {
       "html": [
        "<span class='err-msg'>Couldn't match type \u2018Data.Dimensions.SI.Length\u2019 with \u2018Data.Dimensions.SI.Time\u2019<br/>In the fourth argument of \u2018luminosity\u2019, namely \u2018(2e-13 % (Erg :/ Centi :@ Meter :^ sTwo :/ Second))\u2019<br/>In the expression: luminosity 0.3 (hubbleConstant 70) 2 (2e-13 % (Erg :/ Centi :@ Meter :^ sTwo :/ Second))<br/>In an equation for \u2018it\u2019: it = luminosity 0.3 (hubbleConstant 70) 2 (2e-13 % (Erg :/ Centi :@ Meter :^ sTwo :/ Second))</span>"
       ],
       "metadata": {},
       "output_type": "display_data",
       "text": [
        "Couldn't match type \u2018Data.Dimensions.SI.Length\u2019 with \u2018Data.Dimensions.SI.Time\u2019\n",
        "In the fourth argument of \u2018luminosity\u2019, namely \u2018(2e-13 % (Erg :/ Centi :@ Meter :^ sTwo :/ Second))\u2019\n",
        "In the expression: luminosity 0.3 (hubbleConstant 70) 2 (2e-13 % (Erg :/ Centi :@ Meter :^ sTwo :/ Second))\n",
        "In an equation for \u2018it\u2019: it = luminosity 0.3 (hubbleConstant 70) 2 (2e-13 % (Erg :/ Centi :@ Meter :^ sTwo :/ Second))"
       ]
      }
     ],
     "prompt_number": 55
    },
    {
     "cell_type": "markdown",
     "metadata": {
      "hidden": false
     },
     "source": [
      "One way around this is to define a helper function which includes a call to `redim` (or to include the `redim` call\n",
      "directly in the original call):"
     ]
    },
    {
     "cell_type": "code",
     "collapsed": false,
     "input": [
      "ergFlux :: Double -> EnergyFlux\n",
      "ergFlux x = redim (x % (Erg :/ Second :/ Centi :@ Meter :^ sTwo))"
     ],
     "language": "python",
     "metadata": {},
     "outputs": [],
     "prompt_number": 56
    },
    {
     "cell_type": "markdown",
     "metadata": {
      "hidden": false
     },
     "source": [
      "With this definition, I can create a luminosity"
     ]
    },
    {
     "cell_type": "code",
     "collapsed": false,
     "input": [
      "lum = luminosity 0.3 (hubbleConstant 70) 2 (ergFlux 2e-13)\n",
      "lum"
     ],
     "language": "python",
     "metadata": {},
     "outputs": [
      {
       "metadata": {},
       "output_type": "display_data",
       "text": [
        "5.778564550704302e38 (kg * m^2)/s^3"
       ]
      }
     ],
     "prompt_number": 57
    },
    {
     "cell_type": "markdown",
     "metadata": {
      "hidden": false
     },
     "source": [
      "and convert it to the units I require:"
     ]
    },
    {
     "cell_type": "code",
     "collapsed": false,
     "input": [
      "lum # Watt\n",
      "lum # (Erg :/ Second)"
     ],
     "language": "python",
     "metadata": {},
     "outputs": [
      {
       "metadata": {},
       "output_type": "display_data",
       "text": [
        "5.778564550704302e38"
       ]
      },
      {
       "metadata": {},
       "output_type": "display_data",
       "text": [
        "5.778564550704302e45"
       ]
      }
     ],
     "prompt_number": 58
    },
    {
     "cell_type": "heading",
     "level": 3,
     "metadata": {
      "hidden": false
     },
     "source": [
      "The critical density"
     ]
    },
    {
     "cell_type": "markdown",
     "metadata": {
      "hidden": false
     },
     "source": [
      "The final part of the original notebook was to calculate the \n",
      "[critical density](http://en.wikipedia.org/wiki/Friedmann_equations#Density_parameter)\n",
      "of the Universe as a function\n",
      "of Hubble's constant, using the equation:\n",
      "\n",
      "$$\\rho_{\\rm crit} = \\frac{3 H^2}{8 \\pi G}$$\n",
      "\n",
      "where $G = 6.67428 \\times 10^{-11}\\ {\\rm m}^3 / \\rm{kg} / \\rm{s}^2$:"
     ]
    },
    {
     "cell_type": "code",
     "collapsed": false,
     "input": [
      "criticalDensity :: Frequency -> Density\n",
      "criticalDensity h = redim (3 *| h |*| h |/| (8 * pi *| bigG))\n",
      "  where\n",
      "    -- bigG is only defined local to the criticalDensity routine\n",
      "    bigG = 6.67428e-11 % (Meter :^ sThree :/ Kilo :@ Gram :/ Second :^ sTwo)"
     ],
     "language": "python",
     "metadata": {},
     "outputs": [],
     "prompt_number": 59
    },
    {
     "cell_type": "markdown",
     "metadata": {
      "hidden": false
     },
     "source": [
      "This lets me calculate the same value as with `dimensional-tf`:"
     ]
    },
    {
     "cell_type": "code",
     "collapsed": false,
     "input": [
      "c70 = criticalDensity (70 % HubbleConstant)\n",
      "c70"
     ],
     "language": "python",
     "metadata": {},
     "outputs": [
      {
       "metadata": {},
       "output_type": "display_data",
       "text": [
        "9.203899006458817e-27 kg/m^3"
       ]
      }
     ],
     "prompt_number": 60
    },
    {
     "cell_type": "markdown",
     "metadata": {
      "hidden": false
     },
     "source": [
      "To finish off I need to create a unit for Astronomical Units:"
     ]
    },
    {
     "cell_type": "code",
     "collapsed": false,
     "input": [
      "-- From http://en.wikipedia.org/wiki/Astronomical_unit \n",
      "data AstronomicalUnit = AstronomicalUnit\n",
      "\n",
      "instance Unit AstronomicalUnit where\n",
      "  type BaseUnit AstronomicalUnit = Meter\n",
      "  conversionRatio _ = 149597870700"
     ],
     "language": "python",
     "metadata": {},
     "outputs": [],
     "prompt_number": 61
    },
    {
     "cell_type": "markdown",
     "metadata": {
      "hidden": false
     },
     "source": [
      "With this, I can convert to the (completely made up) units of kilo-tonnes per cubic au:"
     ]
    },
    {
     "cell_type": "code",
     "collapsed": false,
     "input": [
      "c70 # (Kilo :@ Ton :/ (AstronomicalUnit :^ sThree))"
     ],
     "language": "python",
     "metadata": {},
     "outputs": [
      {
       "metadata": {},
       "output_type": "display_data",
       "text": [
        "30.814000174159233"
       ]
      }
     ],
     "prompt_number": 62
    },
    {
     "cell_type": "heading",
     "level": 2,
     "metadata": {
      "hidden": false
     },
     "source": [
      "Representing angles"
     ]
    },
    {
     "cell_type": "markdown",
     "metadata": {
      "hidden": false
     },
     "source": [
      "The following is what I came up with when attempting to add in support for an \"angle dimension\". I make no guarantee that\n",
      "it's sensible, but it seems to work."
     ]
    },
    {
     "cell_type": "code",
     "collapsed": false,
     "input": [
      "-- This is based on the Number and Dimensionless types from Data.Metrology.Units \n",
      "data AngleDim = AngleDim\n",
      "\n",
      "instance Dimension AngleDim where\n",
      "  type DimFactorsOf AngleDim = '[]\n",
      "\n",
      "type instance DefaultUnitOfDim AngleDim = Radian\n",
      "\n",
      "data Radian = Radian\n",
      "instance Unit Radian where\n",
      "  type BaseUnit Radian = Canonical\n",
      "  type DimOfUnit Radian = AngleDim\n",
      "  type UnitFactorsOf Radian = '[]\n",
      "\n",
      "data Degree = Degree\n",
      "instance Unit Degree where\n",
      "  type BaseUnit Degree = Radian\n",
      "  conversionRatio _ = realToFrac (pi / 180.0)\n",
      "\n",
      "data ArcMinute = ArcMinute\n",
      "instance Unit ArcMinute where\n",
      "  type BaseUnit ArcMinute = Degree\n",
      "  conversionRatio _ = (1/60)\n",
      "\n",
      "data ArcSecond = ArcSecond\n",
      "instance Unit ArcSecond where\n",
      "  type BaseUnit ArcSecond = ArcMinute\n",
      "  conversionRatio _ = (1/60)\n",
      "\n",
      "-- I have already defined an Angle, so I add Type to the name\n",
      "-- here to have a different symbol name.\n",
      "type AngleType = MkQu_U Radian"
     ],
     "language": "python",
     "metadata": {},
     "outputs": [],
     "prompt_number": 63
    },
    {
     "cell_type": "markdown",
     "metadata": {
      "hidden": false
     },
     "source": [
      "With this, I can create a value in radians and convert it to different units:"
     ]
    },
    {
     "cell_type": "code",
     "collapsed": false,
     "input": [
      "angle = 0.4 % Radian\n",
      "angle"
     ],
     "language": "python",
     "metadata": {},
     "outputs": [
      {
       "metadata": {},
       "output_type": "display_data",
       "text": [
        "0.4"
       ]
      }
     ],
     "prompt_number": 64
    },
    {
     "cell_type": "markdown",
     "metadata": {
      "hidden": false
     },
     "source": [
      "As this is a dimensionless number, the first argument to `Qu` is empty:"
     ]
    },
    {
     "cell_type": "code",
     "collapsed": false,
     "input": [
      ":type angle"
     ],
     "language": "python",
     "metadata": {},
     "outputs": [
      {
       "html": [
        "<span class='get-type'>angle :: forall n. Fractional n => Qu '[] 'DefaultLCSU n</span>"
       ],
       "metadata": {},
       "output_type": "display_data",
       "text": [
        "angle :: forall n. Fractional n => Qu '[] 'DefaultLCSU n"
       ]
      }
     ],
     "prompt_number": 65
    },
    {
     "cell_type": "code",
     "collapsed": false,
     "input": [
      "3 *| angle\n",
      ":t 3 *| angle"
     ],
     "language": "python",
     "metadata": {
      "hidden": false
     },
     "outputs": [
      {
       "metadata": {},
       "output_type": "display_data",
       "text": [
        "1.2000000000000002"
       ]
      },
      {
       "html": [
        "<span class='get-type'>3 *| angle :: forall n. Fractional n => Qu '[] 'DefaultLCSU n</span>"
       ],
       "metadata": {},
       "output_type": "display_data",
       "text": [
        "3 *| angle :: forall n. Fractional n => Qu '[] 'DefaultLCSU n"
       ]
      }
     ],
     "prompt_number": 66
    },
    {
     "cell_type": "markdown",
     "metadata": {
      "hidden": false
     },
     "source": [
      "Since the angles are dimensionless, you do not need to use the special\n",
      "operators on them, as shown below. I shall keep using the operators\n",
      "from `units` just to act as a form of documentation. "
     ]
    },
    {
     "cell_type": "code",
     "collapsed": false,
     "input": [
      "3 * angle\n",
      ":t 3 * angle"
     ],
     "language": "python",
     "metadata": {
      "hidden": false
     },
     "outputs": [
      {
       "metadata": {},
       "output_type": "display_data",
       "text": [
        "1.2000000000000002"
       ]
      },
      {
       "html": [
        "<span class='get-type'>3 * angle :: forall n. Fractional n => Qu '[] 'DefaultLCSU n</span>"
       ],
       "metadata": {},
       "output_type": "display_data",
       "text": [
        "3 * angle :: forall n. Fractional n => Qu '[] 'DefaultLCSU n"
       ]
      }
     ],
     "prompt_number": 67
    },
    {
     "cell_type": "markdown",
     "metadata": {
      "hidden": false
     },
     "source": [
      "Values can be converted between units:"
     ]
    },
    {
     "cell_type": "code",
     "collapsed": false,
     "input": [
      "(3 *| angle) # Degree\n",
      "(1.2 % ArcMinute) # ArcSecond"
     ],
     "language": "python",
     "metadata": {
      "hidden": false
     },
     "outputs": [
      {
       "metadata": {},
       "output_type": "display_data",
       "text": [
        "68.7549354156988"
       ]
      },
      {
       "metadata": {},
       "output_type": "display_data",
       "text": [
        "72.0"
       ]
      }
     ],
     "prompt_number": 68
    },
    {
     "cell_type": "markdown",
     "metadata": {
      "hidden": false
     },
     "source": [
      "The `units` package defines a dimensionless type, `Number`, which can be used to\n",
      "\"extract\" the numeric value from these angles."
     ]
    },
    {
     "cell_type": "code",
     "collapsed": false,
     "input": [
      "(3 *| angle) # Number\n",
      ":t (3 *| angle) # Number"
     ],
     "language": "python",
     "metadata": {},
     "outputs": [
      {
       "metadata": {},
       "output_type": "display_data",
       "text": [
        "1.2000000000000002"
       ]
      },
      {
       "html": [
        "<span class='get-type'>(3 *| angle) # Number :: forall n. Fractional n => n</span>"
       ],
       "metadata": {},
       "output_type": "display_data",
       "text": [
        "(3 *| angle) # Number :: forall n. Fractional n => n"
       ]
      }
     ],
     "prompt_number": 69
    },
    {
     "cell_type": "markdown",
     "metadata": {
      "hidden": false
     },
     "source": [
      "With all this I can write a version of `adist` that uses such an angle:"
     ]
    },
    {
     "cell_type": "code",
     "collapsed": false,
     "input": [
      "adist2 :: Double -> Frequency -> Double -> AngleType -> Length\n",
      "adist2 om h0 z angle = da om h0 z |*| angle"
     ],
     "language": "python",
     "metadata": {},
     "outputs": [],
     "prompt_number": 70
    },
    {
     "cell_type": "markdown",
     "metadata": {
      "hidden": false
     },
     "source": [
      "The results are the same as above:"
     ]
    },
    {
     "cell_type": "code",
     "collapsed": false,
     "input": [
      "adist2 0.3 (hubbleConstant 70) 2 (1 % ArcSecond) # Kilo :@ Parsec"
     ],
     "language": "python",
     "metadata": {},
     "outputs": [
      {
       "metadata": {},
       "output_type": "display_data",
       "text": [
        "8.370893333112804"
       ]
      }
     ],
     "prompt_number": 71
    },
    {
     "cell_type": "code",
     "collapsed": false,
     "input": [
      "adist2 0.3 (hubbleConstant 70) 2 (2.4 % ArcMinute) # Mega :@ Parsec"
     ],
     "language": "python",
     "metadata": {},
     "outputs": [
      {
       "metadata": {},
       "output_type": "display_data",
       "text": [
        "1.2054086399682438"
       ]
      }
     ],
     "prompt_number": 72
    },
    {
     "cell_type": "markdown",
     "metadata": {
      "hidden": false
     },
     "source": [
      "I did find one \"surprising\" thing with this version: even though the fourth argument is\n",
      "given as `AngleType`, you can actually give a number, which the compiler will interpret\n",
      "as a value in radians. So, repeating the calculation for one arcsecond, I get the same result,\n",
      "after explicitly converting the angle to degrees):"
     ]
    },
    {
     "cell_type": "code",
     "collapsed": false,
     "input": [
      "adist2 0.3 (hubbleConstant 70) 2 (pi/3600/180) # Kilo :@ Parsec"
     ],
     "language": "python",
     "metadata": {},
     "outputs": [
      {
       "metadata": {},
       "output_type": "display_data",
       "text": [
        "8.370893333112804"
       ]
      }
     ],
     "prompt_number": 73
    },
    {
     "cell_type": "heading",
     "level": 2,
     "metadata": {
      "hidden": false
     },
     "source": [
      "Did I learn anything?"
     ]
    },
    {
     "cell_type": "markdown",
     "metadata": {
      "hidden": false
     },
     "source": [
      "Overall, I would say that there's not a huge difference in *using* the two packages `dimensional-tf` and `units`\n",
      "(I best hurry and add a disclaimer pointing out that this really isn't enough code to really determine a\n",
      "preference, and also that I don't want this to be an \"a is better than b\" style post).\n",
      "\n",
      "The two packages do things differently, which has implications on how things are defined, what needs to be written, how\n",
      "readable are the error messages, and what is done in the value system as compared to the type system, but\n",
      "for the purposes of this notebook the actual code implementing the equations are not too dissimilar:\n",
      "\n",
      " - `dimensional-tf`\n",
      " \n",
      "~~~~\n",
      "bigG = 6.67428e-11 P.*~ (P.metre P.^ P.pos3 P./ P.kilo P.gram P./ P.second P.^ P.pos2)\n",
      "criticalDensity h = P._3 P.* h P.^ P.pos2 P./ (P._8 P.* P.pi P.* bigG)\n",
      "~~~~\n",
      "\n",
      " - `units`\n",
      " \n",
      "~~~~\n",
      "bigG = 6.67428e-11 % (Meter :^ sThree :/ Kilo :@ Gram :/ Second :^ sTwo)\n",
      "criticalDensity :: Frequency -> Density\n",
      "criticalDensity h = redim (3 *| h |*| h |/| (8 * pi *| bigG))\n",
      "~~~~\n",
      "\n",
      "As `dimensional-tf` is the older package, it has many of the units I needed, and it was easy to add new ones,\n",
      "such as parsec. The `units` and `units-defs` packages are newer, and do not contain as many values or types,\n",
      "but it is also not hard to add in new ones, as shown above.\n",
      "\n",
      "The `units` package avoids the need for the qualified terms that I used with the `dimensional-tf` version,\n",
      "for instance the `P.XXX` forms above, but this is in part due to defining its own mathematical operators,\n",
      "such as `|*` and `|/|`. The `units` version is slightly-more readable to me, but this is not enough code\n",
      "to really decide if either has a strong advantage. There's also the fact that you benefit most from the\n",
      "things that don't get shown here - i.e. all the wrong turns and errors that the type system complains about\n",
      "until you get it right - and I really have not had enough experience of the two packages to make any comment\n",
      "on that point.\n",
      "\n",
      "One concern, when using a units package, is that of numeric precision: if the values all get converted to some\n",
      "base unit for each dimension, could large (or small) values lead to numerical issues. Since I used `Double`\n",
      "types here, and the values didn't get too huge (in part because I never got around to calculating cosmological\n",
      "volumes), this didn't seem to be a problem. Section 5.2 of \n",
      "[\"Experience Report: Type-checking Polymorphic Units for Astrophysics Research in Haskell\"](http://www.cis.upenn.edu/~eir/papers/2014/units/units.pdf)\n",
      "describes how `units` can handle this; I'm not sure how to cope with this in the `dimensional-tf` package. "
     ]
    },
    {
     "cell_type": "heading",
     "level": 2,
     "metadata": {
      "hidden": false
     },
     "source": [
      "The end"
     ]
    },
    {
     "cell_type": "markdown",
     "metadata": {
      "hidden": false
     },
     "source": [
      "There you go; I hope you enjoyed it. If you have any questions, then please use the\n",
      "[GitHub issues page](https://github.com/DougBurke/astro-haskell/issues) or\n",
      "contact me on Twitter at\n",
      "<https://twitter.com/doug_burke>."
     ]
    }
   ],
   "metadata": {}
  }
 ]
}